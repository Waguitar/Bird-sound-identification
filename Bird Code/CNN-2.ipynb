{
 "cells": [
  {
   "cell_type": "code",
   "execution_count": 1,
   "metadata": {},
   "outputs": [
    {
     "name": "stderr",
     "output_type": "stream",
     "text": [
      "Using TensorFlow backend.\n",
      "/home/rutherford/.local/lib/python3.6/site-packages/tensorflow/python/framework/dtypes.py:516: FutureWarning: Passing (type, 1) or '1type' as a synonym of type is deprecated; in a future version of numpy, it will be understood as (type, (1,)) / '(1,)type'.\n",
      "  _np_qint8 = np.dtype([(\"qint8\", np.int8, 1)])\n",
      "/home/rutherford/.local/lib/python3.6/site-packages/tensorflow/python/framework/dtypes.py:517: FutureWarning: Passing (type, 1) or '1type' as a synonym of type is deprecated; in a future version of numpy, it will be understood as (type, (1,)) / '(1,)type'.\n",
      "  _np_quint8 = np.dtype([(\"quint8\", np.uint8, 1)])\n",
      "/home/rutherford/.local/lib/python3.6/site-packages/tensorflow/python/framework/dtypes.py:518: FutureWarning: Passing (type, 1) or '1type' as a synonym of type is deprecated; in a future version of numpy, it will be understood as (type, (1,)) / '(1,)type'.\n",
      "  _np_qint16 = np.dtype([(\"qint16\", np.int16, 1)])\n",
      "/home/rutherford/.local/lib/python3.6/site-packages/tensorflow/python/framework/dtypes.py:519: FutureWarning: Passing (type, 1) or '1type' as a synonym of type is deprecated; in a future version of numpy, it will be understood as (type, (1,)) / '(1,)type'.\n",
      "  _np_quint16 = np.dtype([(\"quint16\", np.uint16, 1)])\n",
      "/home/rutherford/.local/lib/python3.6/site-packages/tensorflow/python/framework/dtypes.py:520: FutureWarning: Passing (type, 1) or '1type' as a synonym of type is deprecated; in a future version of numpy, it will be understood as (type, (1,)) / '(1,)type'.\n",
      "  _np_qint32 = np.dtype([(\"qint32\", np.int32, 1)])\n",
      "/home/rutherford/.local/lib/python3.6/site-packages/tensorflow/python/framework/dtypes.py:525: FutureWarning: Passing (type, 1) or '1type' as a synonym of type is deprecated; in a future version of numpy, it will be understood as (type, (1,)) / '(1,)type'.\n",
      "  np_resource = np.dtype([(\"resource\", np.ubyte, 1)])\n",
      "/home/rutherford/.local/lib/python3.6/site-packages/tensorboard/compat/tensorflow_stub/dtypes.py:541: FutureWarning: Passing (type, 1) or '1type' as a synonym of type is deprecated; in a future version of numpy, it will be understood as (type, (1,)) / '(1,)type'.\n",
      "  _np_qint8 = np.dtype([(\"qint8\", np.int8, 1)])\n",
      "/home/rutherford/.local/lib/python3.6/site-packages/tensorboard/compat/tensorflow_stub/dtypes.py:542: FutureWarning: Passing (type, 1) or '1type' as a synonym of type is deprecated; in a future version of numpy, it will be understood as (type, (1,)) / '(1,)type'.\n",
      "  _np_quint8 = np.dtype([(\"quint8\", np.uint8, 1)])\n",
      "/home/rutherford/.local/lib/python3.6/site-packages/tensorboard/compat/tensorflow_stub/dtypes.py:543: FutureWarning: Passing (type, 1) or '1type' as a synonym of type is deprecated; in a future version of numpy, it will be understood as (type, (1,)) / '(1,)type'.\n",
      "  _np_qint16 = np.dtype([(\"qint16\", np.int16, 1)])\n",
      "/home/rutherford/.local/lib/python3.6/site-packages/tensorboard/compat/tensorflow_stub/dtypes.py:544: FutureWarning: Passing (type, 1) or '1type' as a synonym of type is deprecated; in a future version of numpy, it will be understood as (type, (1,)) / '(1,)type'.\n",
      "  _np_quint16 = np.dtype([(\"quint16\", np.uint16, 1)])\n",
      "/home/rutherford/.local/lib/python3.6/site-packages/tensorboard/compat/tensorflow_stub/dtypes.py:545: FutureWarning: Passing (type, 1) or '1type' as a synonym of type is deprecated; in a future version of numpy, it will be understood as (type, (1,)) / '(1,)type'.\n",
      "  _np_qint32 = np.dtype([(\"qint32\", np.int32, 1)])\n",
      "/home/rutherford/.local/lib/python3.6/site-packages/tensorboard/compat/tensorflow_stub/dtypes.py:550: FutureWarning: Passing (type, 1) or '1type' as a synonym of type is deprecated; in a future version of numpy, it will be understood as (type, (1,)) / '(1,)type'.\n",
      "  np_resource = np.dtype([(\"resource\", np.ubyte, 1)])\n"
     ]
    }
   ],
   "source": [
    "# Imports\n",
    "\n",
    "#General\n",
    "import numpy as np\n",
    "import itertools\n",
    "\n",
    "# System\n",
    "import os, fnmatch\n",
    "\n",
    "# Visualization\n",
    "import seaborn #visualization library, must be imported before all other plotting libraries\n",
    "import matplotlib.pyplot as plt\n",
    "from IPython.core.display import HTML, display\n",
    "\n",
    "# Machine Learning\n",
    "from sklearn.preprocessing import LabelEncoder, OneHotEncoder\n",
    "from sklearn.preprocessing import StandardScaler\n",
    "from sklearn.model_selection import StratifiedShuffleSplit, GridSearchCV\n",
    "from sklearn.metrics import recall_score, precision_score, accuracy_score\n",
    "from sklearn.metrics import confusion_matrix, f1_score, classification_report\n",
    "from sklearn.metrics import classification_report\n",
    "\n",
    "\n",
    "# Deep Learning\n",
    "from keras import backend as K\n",
    "from keras.layers import Input, Dense\n",
    "from keras.models import Model, Sequential\n",
    "from keras.optimizers import SGD\n",
    "from keras.callbacks import History\n",
    "from keras.wrappers.scikit_learn import KerasClassifier\n",
    "from keras.utils import plot_model\n",
    "\n",
    "\n",
    "# Deep Learning\n",
    "import tensorflow as tf\n",
    "from tensorflow.python.client import device_lib \n",
    "from keras.backend.tensorflow_backend import set_session\n",
    "from tensorflow.python.client import device_lib\n",
    "from keras import backend as K\n",
    "from keras.models import Sequential, Model\n",
    "from keras.layers import Input, Convolution2D, MaxPooling2D, Dense, Dropout, Activation, Flatten, merge\n",
    "from keras.layers.normalization import BatchNormalization\n",
    "from keras.callbacks import History, EarlyStopping, ModelCheckpoint\n",
    "from keras.models import load_model\n",
    "\n",
    "# Audio\n",
    "import librosa.display, librosa"
   ]
  },
  {
   "cell_type": "markdown",
   "metadata": {},
   "source": [
    "# Get filenames"
   ]
  },
  {
   "cell_type": "code",
   "execution_count": 2,
   "metadata": {},
   "outputs": [
    {
     "name": "stdout",
     "output_type": "stream",
     "text": [
      "found 100 audio files in BirdSound2/\n"
     ]
    }
   ],
   "source": [
    "# Get files in data path\n",
    "path='BirdSound2/'\n",
    "# Get Audio Files\n",
    "files = []\n",
    "for root, dirnames, filenames in os.walk(path):\n",
    "    for filename in fnmatch.filter(filenames, '*.wav'):\n",
    "        files.append(os.path.join(root, filename))\n",
    "\n",
    "print(\"found %d audio files in %s\"%(len(files),path))"
   ]
  },
  {
   "cell_type": "markdown",
   "metadata": {},
   "source": [
    "# Prepare labels from filenames"
   ]
  },
  {
   "cell_type": "code",
   "execution_count": 3,
   "metadata": {},
   "outputs": [],
   "source": [
    "# Get Labels\n",
    "labels =[]\n",
    "classes=['Avocet','Coot','Crake','Crane', 'Dove','Gallinule', \n",
    "         'Grebe','Grouse','Lapwing','Nightjar']\n",
    "\n",
    "color_dict={'Avocet':'blue','Coot':'magenta','Crake':'magenta','Crane':'magenta', 'Dove':'magenta',\n",
    "         'Gallinule':'magenta','Grebe':'magenta','Grouse':'magenta','Lapwing':'magenta','Nightjar':'magenta',\n",
    "         }\n",
    "\n",
    "color_list=[]\n",
    "for filename in files:\n",
    "    for name in classes:\n",
    "        if fnmatch.fnmatchcase(filename, '*'+name+'*'):\n",
    "            labels.append(name)\n",
    "            color_list.append(color_dict[name])\n",
    "            break\n",
    "    else:\n",
    "        labels.append('other')"
   ]
  },
  {
   "cell_type": "markdown",
   "metadata": {},
   "source": [
    "# Encoded Labels"
   ]
  },
  {
   "cell_type": "code",
   "execution_count": 5,
   "metadata": {},
   "outputs": [
    {
     "name": "stdout",
     "output_type": "stream",
     "text": [
      "10 classes: Avocet, Coot, Crake, Crane, Dove, Gallinule, Grebe, Grouse, Lapwing, Nightjar\n"
     ]
    }
   ],
   "source": [
    "# Encode Labels\n",
    "labelencoder = LabelEncoder()\n",
    "labelencoder.fit(labels)\n",
    "print(len(labelencoder.classes_), \"classes:\", \", \".join(list(labelencoder.classes_)))\n",
    "classes_num = labelencoder.transform(labels)"
   ]
  },
  {
   "cell_type": "code",
   "execution_count": null,
   "metadata": {},
   "outputs": [],
   "source": [
    "print('Labels:', labels[:3])\n",
    "print('Encoded Classes: ', classes_num[0:3])"
   ]
  },
  {
   "cell_type": "markdown",
   "metadata": {},
   "source": [
    "# Parameters"
   ]
  },
  {
   "cell_type": "code",
   "execution_count": 6,
   "metadata": {},
   "outputs": [],
   "source": [
    "# Signal Processing Parameters\n",
    "fs = 22050        # Sampling Frequency\n",
    "n_fft = 2048       # length of the FFT window\n",
    "hop_length = 512   # Number of samples between successive frame\n",
    "n_mels = 128       # Number of Mel bands        \n",
    "# Machine Learning Parameters\n",
    "testset_size = 0.25 #Percentage of data for Testing"
   ]
  },
  {
   "cell_type": "markdown",
   "metadata": {},
   "source": [
    "# Feature Extraction"
   ]
  },
  {
   "cell_type": "code",
   "execution_count": 7,
   "metadata": {},
   "outputs": [],
   "source": [
    "#y, sr = librosa.load(librosa.util.example_audio_file())\n",
    "#librosa.feature.melspectrogram(y=y, sr=sr)"
   ]
  },
  {
   "cell_type": "code",
   "execution_count": 10,
   "metadata": {},
   "outputs": [],
   "source": [
    "# Define Function to Calculate MFCC, Delta_MFCC and Delta2_MFCC\n",
    "def get_features(y, sr=fs):\n",
    "    melspectrogram = librosa.feature.melspectrogram(y, sr=fs)\n",
    "    feature_vector = np.mean(melspectrogram,1)\n",
    "    return feature_vector"
   ]
  },
  {
   "cell_type": "markdown",
   "metadata": {},
   "source": [
    "# Load audio files, calculate features and create feature vectors"
   ]
  },
  {
   "cell_type": "code",
   "execution_count": 11,
   "metadata": {},
   "outputs": [
    {
     "name": "stdout",
     "output_type": "stream",
     "text": [
      "get 1 of 100 = BirdSound2/Gallinule/XC91834 - Spot-flanked Gallinule - Porphyriops melanops.wav\n",
      "get 2 of 100 = BirdSound2/Gallinule/XC414334 - Common Gallinule - Gallinula galeata.wav\n",
      "get 3 of 100 = BirdSound2/Gallinule/XC246282 - Common Gallinule - Gallinula galeata.wav\n",
      "get 4 of 100 = BirdSound2/Gallinule/XC384693 - Common Gallinule - Gallinula galeata.wav\n",
      "get 5 of 100 = BirdSound2/Gallinule/XC51100 - Purple Gallinule - Porphyrio martinica.wav\n",
      "get 6 of 100 = BirdSound2/Gallinule/XC264307 - Purple Gallinule - Porphyrio martinica.wav\n",
      "get 7 of 100 = BirdSound2/Gallinule/XC50276 - Spot-flanked Gallinule - Porphyriops melanops.wav\n",
      "get 8 of 100 = BirdSound2/Gallinule/XC223347 - Common Gallinule - Gallinula galeata.wav\n",
      "get 9 of 100 = BirdSound2/Gallinule/XC1147 - Purple Gallinule - Porphyrio martinica.wav\n",
      "get 10 of 100 = BirdSound2/Gallinule/XC228563 - Purple Gallinule - Porphyrio martinica.wav\n",
      "get 11 of 100 = BirdSound2/Grouse/XC320022 - Dusky Grouse - Dendragapus obscurus.wav\n",
      "get 12 of 100 = BirdSound2/Grouse/XC129583 - Hazel Grouse - Tetrastes bonasia styriacus.wav\n",
      "get 13 of 100 = BirdSound2/Grouse/XC90846 - Black Grouse - Lyrurus tetrix tetrix.wav\n",
      "get 14 of 100 = BirdSound2/Grouse/XC434313 - Black-faced Sandgrouse - Pterocles decoratus.wav\n",
      "get 15 of 100 = BirdSound2/Grouse/XC309948 - Spotted Sandgrouse - Pterocles senegallus.wav\n",
      "get 16 of 100 = BirdSound2/Grouse/XC425161 - Yellow-throated Sandgrouse - Pterocles gutturalis.wav\n",
      "get 17 of 100 = BirdSound2/Grouse/XC61517 - Ruffed Grouse - Bonasa umbellus.wav\n",
      "get 18 of 100 = BirdSound2/Grouse/XC92111 - Hazel Grouse - Tetrastes bonasia.wav\n",
      "get 19 of 100 = BirdSound2/Grouse/XC468769 - Ruffed Grouse - Bonasa umbellus.wav\n",
      "get 20 of 100 = BirdSound2/Grouse/XC410653 - Lichtenstein's Sandgrouse - Pterocles lichtensteinii.wav\n",
      "get 21 of 100 = BirdSound2/Crane/XC107471 - Sandhill Crane - Antigone canadensis.wav\n",
      "get 22 of 100 = BirdSound2/Crane/XC62293 - Grey Crowned Crane - Balearica regulorum regulorum.wav\n",
      "get 23 of 100 = BirdSound2/Crane/XC465930 - Common Crane - Grus grus.wav\n",
      "get 24 of 100 = BirdSound2/Crane/XC459728 - Common Crane - Grus grus.wav\n",
      "get 25 of 100 = BirdSound2/Crane/XC58012 - Blue Crane - Grus paradisea.wav\n",
      "get 26 of 100 = BirdSound2/Crane/XC64698 - Red-crowned Crane - Grus japonensis.wav\n",
      "get 27 of 100 = BirdSound2/Crane/XC282899 - Blue Crane - Grus paradisea.wav\n",
      "get 28 of 100 = BirdSound2/Crane/XC393305 - Sandhill Crane - Antigone canadensis.wav\n",
      "get 29 of 100 = BirdSound2/Crane/XC62293 - Grey Crowned Crane - Balearica regulorum regulorum~1.wav\n",
      "get 30 of 100 = BirdSound2/Crane/XC216976 - Common Crane - Grus grus.wav\n",
      "get 31 of 100 = BirdSound2/Crake/XC364028 - Rufous-faced Crake - Laterallus xenopterus.wav\n",
      "get 32 of 100 = BirdSound2/Crake/XC15483 - Rufous-faced Crake - Laterallus xenopterus.wav\n",
      "get 33 of 100 = BirdSound2/Crake/XC69265 - Spotless Crake - Porzana tabuensis.wav\n",
      "get 34 of 100 = BirdSound2/Crake/XC288426 - Grey-breasted Crake - Laterallus exilis.wav\n",
      "get 35 of 100 = BirdSound2/Crake/XC55476 - Ash-throated Crake - Porzana albicollis.wav\n",
      "get 36 of 100 = BirdSound2/Crake/XC54440 - White-throated Crake - Laterallus albigularis albigularis.wav\n",
      "get 37 of 100 = BirdSound2/Crake/XC371591 - Spotted Crake - Porzana porzana.wav\n",
      "get 38 of 100 = BirdSound2/Crake/XC349171 - Ocellated Crake - Micropygia schomburgkii.wav\n",
      "get 39 of 100 = BirdSound2/Crake/XC383379 - Ocellated Crake - Micropygia schomburgkii.wav\n",
      "get 40 of 100 = BirdSound2/Crake/XC63061 - Dot-winged Crake - Porzana spiloptera.wav\n",
      "get 41 of 100 = BirdSound2/Avocet/XC141694 - Pied Avocet - Recurvirostra avosetta.wav\n",
      "get 42 of 100 = BirdSound2/Avocet/XC2479 - Andean Avocet - Recurvirostra andina.wav\n",
      "get 43 of 100 = BirdSound2/Avocet/XC133080 - American Avocet - Recurvirostra americana.wav\n",
      "get 44 of 100 = BirdSound2/Avocet/XC188266 - Pied Avocet - Recurvirostra avosetta.wav\n",
      "get 45 of 100 = BirdSound2/Avocet/XC325032 - Pied Avocet - Recurvirostra avosetta.wav\n",
      "get 46 of 100 = BirdSound2/Avocet/XC325032 - Pied Avocet - Recurvirostra avosetta (1).wav\n",
      "get 47 of 100 = BirdSound2/Avocet/XC281050 - Pied Avocet - Recurvirostra avosetta.wav\n",
      "get 48 of 100 = BirdSound2/Avocet/XC59841 - Andean Avocet - Recurvirostra andina.wav\n",
      "get 49 of 100 = BirdSound2/Avocet/XC95529 - Andean Avocet - Recurvirostra andina.wav\n",
      "get 50 of 100 = BirdSound2/Avocet/XC12130 - American Avocet - Recurvirostra americana.wav\n",
      "get 51 of 100 = BirdSound2/Dove/XC45718 - Namaqua Dove - Oena capensis.wav\n",
      "get 52 of 100 = BirdSound2/Dove/XC280698 - Ring-necked Dove - Streptopelia capicola.wav\n",
      "get 53 of 100 = BirdSound2/Dove/XC290355 - Ruddy Ground Dove - Columbina talpacoti rufipennis.wav\n",
      "get 54 of 100 = BirdSound2/Dove/XC315273 - Blue Ground Dove - Claravis pretiosa.wav\n",
      "get 55 of 100 = BirdSound2/Dove/XC277489 - European Turtle Dove - Streptopelia turtur.wav\n",
      "get 56 of 100 = BirdSound2/Dove/XC34689 - Zebra Dove - Geopelia striata.wav\n",
      "get 57 of 100 = BirdSound2/Dove/XC169693 - Vinaceous Dove - Streptopelia vinacea.wav\n",
      "get 58 of 100 = BirdSound2/Dove/XC221433 - Scaled Dove - Columbina squammata.wav\n",
      "get 59 of 100 = BirdSound2/Dove/XC367411 - European Turtle Dove - Streptopelia turtur.wav\n",
      "get 60 of 100 = BirdSound2/Dove/XC300695 - Ring-necked Dove - Streptopelia capicola somalica.wav\n",
      "get 61 of 100 = BirdSound2/Coot/XC14381 - American Coot - Fulica americana~1.wav\n",
      "get 62 of 100 = BirdSound2/Coot/XC160661 - American Coot - Fulica americana.wav\n",
      "get 63 of 100 = BirdSound2/Coot/XC31056 - Eurasian Coot - Fulica atra.wav\n",
      "get 64 of 100 = BirdSound2/Coot/XC160770 - American Coot - Fulica americana.wav\n",
      "get 65 of 100 = BirdSound2/Coot/XC48553 - Red-gartered Coot - Fulica armillata.wav\n",
      "get 66 of 100 = BirdSound2/Coot/XC8578 - White-winged Coot - Fulica leucoptera.wav\n",
      "get 67 of 100 = BirdSound2/Coot/XC17280 - Andean Coot - Fulica ardesiaca.wav\n",
      "get 68 of 100 = BirdSound2/Coot/XC50788 - White-winged Coot - Fulica leucoptera.wav\n",
      "get 69 of 100 = BirdSound2/Coot/XC123344 - American Coot - Fulica americana.wav\n",
      "get 70 of 100 = BirdSound2/Coot/XC14381 - American Coot - Fulica americana.wav\n",
      "get 71 of 100 = BirdSound2/Grebe/XC267199 - Black-necked Grebe - Podiceps nigricollis.wav\n",
      "get 72 of 100 = BirdSound2/Grebe/XC331144 - Black-necked Grebe - Podiceps nigricollis.wav\n",
      "get 73 of 100 = BirdSound2/Grebe/XC175448 - Little Grebe - Tachybaptus ruficollis.wav\n",
      "get 74 of 100 = BirdSound2/Grebe/XC442038 - Little Grebe - Tachybaptus ruficollis.wav\n",
      "get 75 of 100 = BirdSound2/Grebe/XC377189 - Little Grebe - Tachybaptus ruficollis.wav\n",
      "get 76 of 100 = BirdSound2/Grebe/XC362173 - Little Grebe - Tachybaptus ruficollis.wav\n",
      "get 77 of 100 = BirdSound2/Grebe/XC314998 - Little Grebe - Tachybaptus ruficollis.wav\n",
      "get 78 of 100 = BirdSound2/Grebe/XC424675 - Little Grebe - Tachybaptus ruficollis.wav\n",
      "get 79 of 100 = BirdSound2/Grebe/XC466329 - Little Grebe - Tachybaptus ruficollis.wav\n",
      "get 80 of 100 = BirdSound2/Grebe/XC373560 - Little Grebe - Tachybaptus ruficollis.wav\n",
      "get 81 of 100 = BirdSound2/Lapwing/XC199812 - Northern Lapwing - Vanellus vanellus.wav\n",
      "get 82 of 100 = BirdSound2/Lapwing/XC269626 - Grey-headed Lapwing - Vanellus cinereus.wav\n",
      "get 83 of 100 = BirdSound2/Lapwing/XC240821 - Crowned Lapwing - Vanellus coronatus.wav\n",
      "get 84 of 100 = BirdSound2/Lapwing/XC50272 - Southern Lapwing - Vanellus chilensis.wav\n",
      "get 85 of 100 = BirdSound2/Lapwing/XC94304 - Red-wattled Lapwing - Vanellus indicus atronuchalis.wav\n",
      "get 86 of 100 = BirdSound2/Lapwing/XC108381 - Southern Lapwing - Vanellus chilensis.wav\n",
      "get 87 of 100 = BirdSound2/Lapwing/XC147425 - Northern Lapwing - Vanellus vanellus.wav\n",
      "get 88 of 100 = BirdSound2/Lapwing/XC294380 - Crowned Lapwing - Vanellus coronatus.wav\n",
      "get 89 of 100 = BirdSound2/Lapwing/XC307119 - Grey-headed Lapwing - Vanellus cinereus.wav\n",
      "get 90 of 100 = BirdSound2/Lapwing/XC108381 - Southern Lapwing - Vanellus chilensis~1.wav\n",
      "get 91 of 100 = BirdSound2/Nightjar/XC408000 - Sickle-winged Nightjar - Eleothreptus anomalus.wav\n",
      "get 92 of 100 = BirdSound2/Nightjar/XC357069 - Freckled Nightjar - Caprimulgus tristigma.wav\n",
      "get 93 of 100 = BirdSound2/Nightjar/XC77708 - Savanna Nightjar - Caprimulgus affinis stictomus.wav\n",
      "get 94 of 100 = BirdSound2/Nightjar/XC167119 - Rufous Nightjar - Antrostomus rufus.wav\n",
      "get 95 of 100 = BirdSound2/Nightjar/XC6095 - Spot-tailed Nightjar - Hydropsalis maculicaudus.wav\n",
      "get 96 of 100 = BirdSound2/Nightjar/XC93604 - Swallow-tailed Nightjar - Uropsalis segmentata kalinowskii.wav\n"
     ]
    },
    {
     "name": "stdout",
     "output_type": "stream",
     "text": [
      "get 97 of 100 = BirdSound2/Nightjar/XC197450 - Lyre-tailed Nightjar - Uropsalis lyra.wav\n",
      "get 98 of 100 = BirdSound2/Nightjar/XC180595 - Band-winged Nightjar - Systellura longirostris.wav\n",
      "get 99 of 100 = BirdSound2/Nightjar/XC212331 - Standard-winged Nightjar - Caprimulgus longipennis.wav\n",
      "get 100 of 100 = BirdSound2/Nightjar/XC290528 - Malaysian Eared Nightjar - Lyncornis temminckii.wav\n",
      "Calculated 100 feature vectors\n"
     ]
    }
   ],
   "source": [
    "# Load audio files, calculate features and create feature vectors\n",
    "feature_vectors = []\n",
    "sound_paths = []\n",
    "for i,f in enumerate(files):\n",
    "    print (\"get %d of %d = %s\"%(i+1, len(files), f))\n",
    "    try:\n",
    "        y, sr = librosa.load(f, sr=fs)\n",
    "        y/=y.max() #Normalize\n",
    "        if len(y) < 2:\n",
    "            print(\"Error loading %s\" % f)\n",
    "            continue\n",
    "        feat = get_features(y, sr)\n",
    "        feature_vectors.append(feat)\n",
    "        sound_paths.append(f)\n",
    "    except Exception as e:\n",
    "        print(\"Error loading %s. Error: %s\" % (f,e))\n",
    "        \n",
    "print(\"Calculated %d feature vectors\"%len(feature_vectors))"
   ]
  },
  {
   "cell_type": "markdown",
   "metadata": {},
   "source": [
    "# Standardization: Zero-Mean and Unit-Variance"
   ]
  },
  {
   "cell_type": "code",
   "execution_count": 12,
   "metadata": {},
   "outputs": [
    {
     "name": "stdout",
     "output_type": "stream",
     "text": [
      "Feature vectors shape: (100, 128)\n"
     ]
    }
   ],
   "source": [
    "# Scale features using Standard Scaler\n",
    "scaler = StandardScaler()\n",
    "scaled_feature_vectors = scaler.fit_transform(np.array(feature_vectors))\n",
    "print(\"Feature vectors shape:\",scaled_feature_vectors.shape)"
   ]
  },
  {
   "cell_type": "markdown",
   "metadata": {},
   "source": [
    "# Train and Test Sets"
   ]
  },
  {
   "cell_type": "code",
   "execution_count": 13,
   "metadata": {},
   "outputs": [],
   "source": [
    "# Create Train and Test Set\n",
    "splitter = StratifiedShuffleSplit(n_splits=1, test_size=testset_size, random_state=0)\n",
    "splits = splitter.split(scaled_feature_vectors, classes_num)\n",
    "for train_index, test_index in splits:\n",
    "    train_set = scaled_feature_vectors[train_index]\n",
    "    test_set = scaled_feature_vectors[test_index]\n",
    "    train_classes = classes_num[train_index]\n",
    "    test_classes = classes_num[test_index]"
   ]
  },
  {
   "cell_type": "code",
   "execution_count": 14,
   "metadata": {},
   "outputs": [
    {
     "name": "stdout",
     "output_type": "stream",
     "text": [
      "train_set shape: (75, 128)\n",
      "test_set shape: (25, 128)\n",
      "train_classes shape: (75,)\n",
      "test_classes shape: (25,)\n"
     ]
    }
   ],
   "source": [
    "# Check Set Shapes\n",
    "print(\"train_set shape:\",train_set.shape)\n",
    "print(\"test_set shape:\",test_set.shape)\n",
    "print(\"train_classes shape:\",train_classes.shape)\n",
    "print(\"test_classes shape:\",test_classes.shape)"
   ]
  },
  {
   "cell_type": "markdown",
   "metadata": {},
   "source": [
    "# Keras"
   ]
  },
  {
   "cell_type": "code",
   "execution_count": 15,
   "metadata": {},
   "outputs": [],
   "source": [
    "# DNN\n",
    "# Use Keras Backend Type\n",
    "train_set_d=train_set.astype(K.floatx())\n",
    "test_set_d=test_set.astype(K.floatx())"
   ]
  },
  {
   "cell_type": "markdown",
   "metadata": {},
   "source": [
    "# One Hot Encoding"
   ]
  },
  {
   "cell_type": "code",
   "execution_count": 16,
   "metadata": {},
   "outputs": [],
   "source": [
    "# One Hot encode\n",
    "onehot_encoder = OneHotEncoder(sparse=False, categories='auto')\n",
    "integer_encoded_train_classes =  train_classes.reshape(len( train_classes), 1)\n",
    "onehot_encoded_train_classes = onehot_encoder.fit_transform(integer_encoded_train_classes,1)\n",
    "integer_encoded_test_classes =  test_classes.reshape(len( test_classes),1)\n",
    "onehot_encoded_test_classes = onehot_encoder.fit_transform(integer_encoded_test_classes,1)"
   ]
  },
  {
   "cell_type": "code",
   "execution_count": null,
   "metadata": {},
   "outputs": [],
   "source": [
    "print('Integer Encoded:', integer_encoded_train_classes[:3] )\n",
    "print('One-hot Encoded: ', onehot_encoded_train_classes[:3] )"
   ]
  },
  {
   "cell_type": "code",
   "execution_count": 17,
   "metadata": {},
   "outputs": [
    {
     "name": "stdout",
     "output_type": "stream",
     "text": [
      "train_set shape: (75, 128)\n",
      "test_set shape: (25, 128)\n",
      "train_classes shape: (75, 10)\n",
      "test_classes shape: (25, 10)\n"
     ]
    }
   ],
   "source": [
    "# Check Set Shapes\n",
    "print(\"train_set shape:\",train_set_d.shape)\n",
    "print(\"test_set shape:\",test_set_d.shape)\n",
    "print(\"train_classes shape:\",onehot_encoded_train_classes.shape)\n",
    "print(\"test_classes shape:\",onehot_encoded_test_classes.shape)"
   ]
  },
  {
   "cell_type": "code",
   "execution_count": 18,
   "metadata": {},
   "outputs": [],
   "source": [
    "# Reshape Sets for Keras\n",
    "train_set_d=train_set.reshape(train_set_d.shape[0],1,train_set_d.shape[1])\n",
    "test_set_d=test_set.reshape(test_set_d.shape[0],1,test_set_d.shape[1])\n",
    "train_classes_d_hot=onehot_encoded_train_classes.reshape(onehot_encoded_train_classes.shape[0],1,\n",
    "                                                         onehot_encoded_train_classes.shape[1])\n",
    "test_classes_d_hot=onehot_encoded_test_classes.reshape(onehot_encoded_test_classes.shape[0],1,\n",
    "                                                       onehot_encoded_test_classes.shape[1])"
   ]
  },
  {
   "cell_type": "code",
   "execution_count": 19,
   "metadata": {},
   "outputs": [
    {
     "name": "stdout",
     "output_type": "stream",
     "text": [
      "train_set shape: (75, 1, 128)\n",
      "test_set shape: (75, 1, 128)\n",
      "train_classes shape: (75, 1, 10)\n",
      "test_classes shape: (25, 1, 10)\n"
     ]
    }
   ],
   "source": [
    "# Check Set Shapes\n",
    "print(\"train_set shape:\",train_set_d.shape)\n",
    "print(\"test_set shape:\",train_set_d.shape)\n",
    "print(\"train_classes shape:\",train_classes_d_hot.shape)\n",
    "print(\"test_classes shape:\",test_classes_d_hot.shape)"
   ]
  },
  {
   "cell_type": "markdown",
   "metadata": {},
   "source": [
    "# Create a Model"
   ]
  },
  {
   "cell_type": "code",
   "execution_count": 20,
   "metadata": {},
   "outputs": [
    {
     "name": "stdout",
     "output_type": "stream",
     "text": [
      "Model: \"model_1\"\n",
      "_________________________________________________________________\n",
      "Layer (type)                 Output Shape              Param #   \n",
      "=================================================================\n",
      "input_1 (InputLayer)         (None, 1, 128)            0         \n",
      "_________________________________________________________________\n",
      "dense_1 (Dense)              (None, 1, 70)             9030      \n",
      "_________________________________________________________________\n",
      "dense_2 (Dense)              (None, 1, 60)             4260      \n",
      "_________________________________________________________________\n",
      "dense_3 (Dense)              (None, 1, 50)             3050      \n",
      "_________________________________________________________________\n",
      "dense_4 (Dense)              (None, 1, 40)             2040      \n",
      "_________________________________________________________________\n",
      "dense_7 (Dense)              (None, 1, 10)             410       \n",
      "=================================================================\n",
      "Total params: 18,790\n",
      "Trainable params: 18,790\n",
      "Non-trainable params: 0\n",
      "_________________________________________________________________\n"
     ]
    }
   ],
   "source": [
    "# Creat Simple Model\n",
    "model_input = Input(shape=(1,train_set.shape[1]))\n",
    "fc1 = Dense(70, activation=\"relu\")(model_input)\n",
    "fc2 = Dense(60, activation=\"relu\")(fc1)\n",
    "fc3 = Dense(50, activation=\"relu\")(fc2)\n",
    "fc4 = Dense(40, activation=\"relu\")(fc3)\n",
    "fc5 = Dense(30, activation=\"relu\")(fc4)\n",
    "fc6 = Dense(20, activation=\"relu\")(fc5)\n",
    "n=onehot_encoded_train_classes.shape[1]\n",
    "out = Dense(n, activation=\"softmax\")(fc4)\n",
    "model_d = Model(inputs=[model_input], outputs=[out])\n",
    "model_d.summary()"
   ]
  },
  {
   "cell_type": "code",
   "execution_count": 21,
   "metadata": {},
   "outputs": [
    {
     "data": {
      "image/png": "[encoded data removed]",
      "text/plain": [
       "<IPython.core.display.Image object>"
      ]
     },
     "execution_count": 21,
     "metadata": {},
     "output_type": "execute_result"
    }
   ],
   "source": [
    "import pydotplus\n",
    "import keras.utils\n",
    "keras.utils.vis_utils.pydot = pydotplus\n",
    "keras.utils.plot_model(model_d, to_file='model.png', show_shapes=True)"
   ]
  },
  {
   "cell_type": "markdown",
   "metadata": {},
   "source": [
    "# Compile a Model"
   ]
  },
  {
   "cell_type": "code",
   "execution_count": 22,
   "metadata": {},
   "outputs": [],
   "source": [
    "# Compile Model\n",
    "model_d.compile(loss      = 'categorical_crossentropy',\n",
    "              optimizer = SGD(lr=0.05),\n",
    "              metrics   =['accuracy'])"
   ]
  },
  {
   "cell_type": "markdown",
   "metadata": {},
   "source": [
    "# Train a Model"
   ]
  },
  {
   "cell_type": "code",
   "execution_count": 23,
   "metadata": {},
   "outputs": [
    {
     "name": "stdout",
     "output_type": "stream",
     "text": [
      "WARNING:tensorflow:From /home/rutherford/.local/lib/python3.6/site-packages/tensorflow/python/ops/math_grad.py:1250: add_dispatch_support.<locals>.wrapper (from tensorflow.python.ops.array_ops) is deprecated and will be removed in a future version.\n",
      "Instructions for updating:\n",
      "Use tf.where in 2.0, which has the same broadcast rule as np.where\n",
      "WARNING:tensorflow:From /home/rutherford/.local/lib/python3.6/site-packages/keras/backend/tensorflow_backend.py:422: The name tf.global_variables is deprecated. Please use tf.compat.v1.global_variables instead.\n",
      "\n",
      "Train on 75 samples, validate on 25 samples\n",
      "Epoch 1/200\n",
      "75/75 [==============================] - 1s 13ms/step - loss: 2.3450 - accuracy: 0.1067 - val_loss: 2.3584 - val_accuracy: 0.1600\n",
      "Epoch 2/200\n",
      "75/75 [==============================] - 0s 608us/step - loss: 2.1624 - accuracy: 0.2667 - val_loss: 2.2902 - val_accuracy: 0.2800\n",
      "Epoch 3/200\n",
      "75/75 [==============================] - 0s 562us/step - loss: 1.9902 - accuracy: 0.4400 - val_loss: 2.2197 - val_accuracy: 0.2800\n",
      "Epoch 4/200\n",
      "75/75 [==============================] - 0s 680us/step - loss: 1.8097 - accuracy: 0.5333 - val_loss: 2.1729 - val_accuracy: 0.2800\n",
      "Epoch 5/200\n",
      "75/75 [==============================] - 0s 596us/step - loss: 1.6111 - accuracy: 0.5200 - val_loss: 2.1154 - val_accuracy: 0.2800\n",
      "Epoch 6/200\n",
      "75/75 [==============================] - 0s 540us/step - loss: 1.4305 - accuracy: 0.6533 - val_loss: 2.1188 - val_accuracy: 0.3600\n",
      "Epoch 7/200\n",
      "75/75 [==============================] - 0s 584us/step - loss: 1.2754 - accuracy: 0.6667 - val_loss: 2.1133 - val_accuracy: 0.3600\n",
      "Epoch 8/200\n",
      "75/75 [==============================] - 0s 622us/step - loss: 1.1063 - accuracy: 0.7067 - val_loss: 2.2884 - val_accuracy: 0.3200\n",
      "Epoch 9/200\n",
      "75/75 [==============================] - 0s 658us/step - loss: 1.0406 - accuracy: 0.7200 - val_loss: 2.1925 - val_accuracy: 0.3200\n",
      "Epoch 10/200\n",
      "75/75 [==============================] - 0s 693us/step - loss: 0.9305 - accuracy: 0.7733 - val_loss: 2.2580 - val_accuracy: 0.3200\n",
      "Epoch 11/200\n",
      "75/75 [==============================] - 0s 526us/step - loss: 0.7945 - accuracy: 0.8000 - val_loss: 2.4376 - val_accuracy: 0.3200\n",
      "Epoch 12/200\n",
      "75/75 [==============================] - 0s 681us/step - loss: 0.7114 - accuracy: 0.8267 - val_loss: 2.6721 - val_accuracy: 0.3200\n",
      "Epoch 13/200\n",
      "75/75 [==============================] - 0s 642us/step - loss: 0.6234 - accuracy: 0.8533 - val_loss: 2.6154 - val_accuracy: 0.3200\n",
      "Epoch 14/200\n",
      "75/75 [==============================] - 0s 563us/step - loss: 0.5885 - accuracy: 0.8400 - val_loss: 2.9055 - val_accuracy: 0.3200\n",
      "Epoch 15/200\n",
      "75/75 [==============================] - 0s 809us/step - loss: 0.5152 - accuracy: 0.8933 - val_loss: 3.0727 - val_accuracy: 0.3200\n",
      "Epoch 16/200\n",
      "75/75 [==============================] - 0s 666us/step - loss: 0.4625 - accuracy: 0.8667 - val_loss: 3.2427 - val_accuracy: 0.2800\n",
      "Epoch 17/200\n",
      "75/75 [==============================] - 0s 537us/step - loss: 0.4597 - accuracy: 0.8667 - val_loss: 3.1830 - val_accuracy: 0.3200\n",
      "Epoch 18/200\n",
      "75/75 [==============================] - ETA: 0s - loss: 0.3613 - accuracy: 1.00 - 0s 539us/step - loss: 0.4186 - accuracy: 0.8933 - val_loss: 3.2706 - val_accuracy: 0.2800\n",
      "Epoch 19/200\n",
      "75/75 [==============================] - 0s 666us/step - loss: 0.3853 - accuracy: 0.8933 - val_loss: 3.5900 - val_accuracy: 0.3200\n",
      "Epoch 20/200\n",
      "75/75 [==============================] - 0s 681us/step - loss: 0.3756 - accuracy: 0.9067 - val_loss: 3.6355 - val_accuracy: 0.2800\n",
      "Epoch 21/200\n",
      "75/75 [==============================] - 0s 569us/step - loss: 0.4383 - accuracy: 0.8800 - val_loss: 3.6495 - val_accuracy: 0.2800\n",
      "Epoch 22/200\n",
      "75/75 [==============================] - 0s 529us/step - loss: 0.3541 - accuracy: 0.8933 - val_loss: 3.7019 - val_accuracy: 0.2800\n",
      "Epoch 23/200\n",
      "75/75 [==============================] - 0s 615us/step - loss: 0.3161 - accuracy: 0.9200 - val_loss: 3.7809 - val_accuracy: 0.2800\n",
      "Epoch 24/200\n",
      "75/75 [==============================] - 0s 820us/step - loss: 0.3052 - accuracy: 0.9067 - val_loss: 3.9973 - val_accuracy: 0.2800\n",
      "Epoch 25/200\n",
      "75/75 [==============================] - 0s 604us/step - loss: 0.3137 - accuracy: 0.9067 - val_loss: 4.0522 - val_accuracy: 0.2800\n",
      "Epoch 26/200\n",
      "75/75 [==============================] - 0s 722us/step - loss: 0.2594 - accuracy: 0.9333 - val_loss: 3.8007 - val_accuracy: 0.2800\n",
      "Epoch 27/200\n",
      "75/75 [==============================] - 0s 619us/step - loss: 0.2619 - accuracy: 0.9333 - val_loss: 4.1729 - val_accuracy: 0.2800\n",
      "Epoch 28/200\n",
      "75/75 [==============================] - 0s 613us/step - loss: 0.2489 - accuracy: 0.9200 - val_loss: 4.2218 - val_accuracy: 0.3600\n",
      "Epoch 29/200\n",
      "75/75 [==============================] - 0s 598us/step - loss: 0.2200 - accuracy: 0.9467 - val_loss: 4.0904 - val_accuracy: 0.2400\n",
      "Epoch 30/200\n",
      "75/75 [==============================] - 0s 640us/step - loss: 0.2173 - accuracy: 0.9200 - val_loss: 4.2322 - val_accuracy: 0.2400\n",
      "Epoch 31/200\n",
      "75/75 [==============================] - 0s 644us/step - loss: 0.2010 - accuracy: 0.9467 - val_loss: 4.1235 - val_accuracy: 0.3200\n",
      "Epoch 32/200\n",
      "75/75 [==============================] - 0s 664us/step - loss: 0.2065 - accuracy: 0.9467 - val_loss: 4.3823 - val_accuracy: 0.2800\n",
      "Epoch 33/200\n",
      "75/75 [==============================] - 0s 661us/step - loss: 0.2010 - accuracy: 0.9333 - val_loss: 4.2691 - val_accuracy: 0.2800\n",
      "Epoch 34/200\n",
      "75/75 [==============================] - 0s 773us/step - loss: 0.1946 - accuracy: 0.9200 - val_loss: 4.2993 - val_accuracy: 0.2400\n",
      "Epoch 35/200\n",
      "75/75 [==============================] - 0s 686us/step - loss: 0.2168 - accuracy: 0.9333 - val_loss: 4.3429 - val_accuracy: 0.2800\n",
      "Epoch 36/200\n",
      "75/75 [==============================] - 0s 639us/step - loss: 0.1745 - accuracy: 0.9600 - val_loss: 4.7507 - val_accuracy: 0.2800\n",
      "Epoch 37/200\n",
      "75/75 [==============================] - 0s 657us/step - loss: 0.1798 - accuracy: 0.9467 - val_loss: 4.5088 - val_accuracy: 0.2800\n",
      "Epoch 38/200\n",
      "75/75 [==============================] - 0s 577us/step - loss: 0.1298 - accuracy: 0.9733 - val_loss: 4.5147 - val_accuracy: 0.2800\n",
      "Epoch 39/200\n",
      "75/75 [==============================] - 0s 651us/step - loss: 0.2768 - accuracy: 0.9067 - val_loss: 4.6804 - val_accuracy: 0.2800\n",
      "Epoch 40/200\n",
      "75/75 [==============================] - 0s 611us/step - loss: 0.1361 - accuracy: 0.9733 - val_loss: 4.7559 - val_accuracy: 0.2800\n",
      "Epoch 41/200\n",
      "75/75 [==============================] - 0s 693us/step - loss: 0.1878 - accuracy: 0.9600 - val_loss: 4.8197 - val_accuracy: 0.3200\n",
      "Epoch 42/200\n",
      "75/75 [==============================] - 0s 655us/step - loss: 0.1141 - accuracy: 0.9600 - val_loss: 5.0510 - val_accuracy: 0.2800\n",
      "Epoch 43/200\n",
      "75/75 [==============================] - 0s 656us/step - loss: 0.1369 - accuracy: 0.9467 - val_loss: 4.7759 - val_accuracy: 0.2800\n",
      "Epoch 44/200\n",
      "75/75 [==============================] - 0s 601us/step - loss: 0.1261 - accuracy: 0.9467 - val_loss: 5.1677 - val_accuracy: 0.3200\n",
      "Epoch 45/200\n",
      "75/75 [==============================] - 0s 515us/step - loss: 0.1369 - accuracy: 0.9600 - val_loss: 5.0633 - val_accuracy: 0.2800\n",
      "Epoch 46/200\n",
      "75/75 [==============================] - 0s 642us/step - loss: 0.1019 - accuracy: 0.9867 - val_loss: 5.1336 - val_accuracy: 0.2800\n",
      "Epoch 47/200\n",
      "75/75 [==============================] - 0s 678us/step - loss: 0.1254 - accuracy: 0.9600 - val_loss: 5.3885 - val_accuracy: 0.2800\n",
      "Epoch 48/200\n",
      "75/75 [==============================] - 0s 686us/step - loss: 0.2341 - accuracy: 0.9067 - val_loss: 4.9451 - val_accuracy: 0.2800\n",
      "Epoch 49/200\n",
      "75/75 [==============================] - 0s 678us/step - loss: 0.0911 - accuracy: 0.9867 - val_loss: 4.9740 - val_accuracy: 0.2800\n",
      "Epoch 50/200\n",
      "75/75 [==============================] - 0s 609us/step - loss: 0.0842 - accuracy: 0.9600 - val_loss: 5.1759 - val_accuracy: 0.2800\n",
      "Epoch 51/200\n",
      "75/75 [==============================] - 0s 664us/step - loss: 0.0692 - accuracy: 0.9867 - val_loss: 5.1488 - val_accuracy: 0.2400\n",
      "Epoch 52/200\n",
      "75/75 [==============================] - 0s 657us/step - loss: 0.0807 - accuracy: 0.9733 - val_loss: 5.2409 - val_accuracy: 0.2800\n",
      "Epoch 53/200\n",
      "75/75 [==============================] - 0s 688us/step - loss: 0.0855 - accuracy: 0.9867 - val_loss: 5.3782 - val_accuracy: 0.2400\n",
      "Epoch 54/200\n",
      "75/75 [==============================] - 0s 572us/step - loss: 0.0718 - accuracy: 0.9867 - val_loss: 5.4306 - val_accuracy: 0.2800\n",
      "Epoch 55/200\n",
      "75/75 [==============================] - 0s 602us/step - loss: 0.0588 - accuracy: 1.0000 - val_loss: 5.5873 - val_accuracy: 0.2800\n",
      "Epoch 56/200\n",
      "75/75 [==============================] - 0s 612us/step - loss: 0.1337 - accuracy: 0.9733 - val_loss: 5.2464 - val_accuracy: 0.2800\n",
      "Epoch 57/200\n",
      "75/75 [==============================] - 0s 648us/step - loss: 0.0667 - accuracy: 0.9733 - val_loss: 5.4541 - val_accuracy: 0.2800\n",
      "Epoch 58/200\n",
      "75/75 [==============================] - 0s 615us/step - loss: 0.0919 - accuracy: 0.9733 - val_loss: 5.5461 - val_accuracy: 0.2800\n",
      "Epoch 59/200\n",
      "75/75 [==============================] - 0s 566us/step - loss: 0.0393 - accuracy: 1.0000 - val_loss: 5.4467 - val_accuracy: 0.2800\n",
      "Epoch 60/200\n",
      "75/75 [==============================] - 0s 662us/step - loss: 0.0632 - accuracy: 0.9733 - val_loss: 5.7412 - val_accuracy: 0.2800\n",
      "Epoch 61/200\n",
      "75/75 [==============================] - 0s 489us/step - loss: 0.1054 - accuracy: 0.9733 - val_loss: 5.7931 - val_accuracy: 0.2800\n",
      "Epoch 62/200\n",
      "75/75 [==============================] - 0s 590us/step - loss: 0.0490 - accuracy: 0.9867 - val_loss: 5.7502 - val_accuracy: 0.2000\n",
      "Epoch 63/200\n",
      "75/75 [==============================] - 0s 632us/step - loss: 0.0555 - accuracy: 0.9867 - val_loss: 5.9838 - val_accuracy: 0.2400\n",
      "Epoch 64/200\n",
      "75/75 [==============================] - 0s 599us/step - loss: 0.1222 - accuracy: 0.9467 - val_loss: 5.8205 - val_accuracy: 0.2400\n",
      "Epoch 65/200\n",
      "75/75 [==============================] - 0s 579us/step - loss: 0.1015 - accuracy: 0.9600 - val_loss: 5.8420 - val_accuracy: 0.2800\n",
      "Epoch 66/200\n",
      "75/75 [==============================] - 0s 535us/step - loss: 0.0550 - accuracy: 0.9867 - val_loss: 6.1034 - val_accuracy: 0.2800\n",
      "Epoch 67/200\n",
      "75/75 [==============================] - 0s 581us/step - loss: 0.0517 - accuracy: 0.9867 - val_loss: 5.9640 - val_accuracy: 0.2400\n",
      "Epoch 68/200\n",
      "75/75 [==============================] - 0s 613us/step - loss: 0.0409 - accuracy: 0.9867 - val_loss: 6.0252 - val_accuracy: 0.2000\n",
      "Epoch 69/200\n",
      "75/75 [==============================] - 0s 603us/step - loss: 0.0456 - accuracy: 0.9867 - val_loss: 6.1076 - val_accuracy: 0.2800\n",
      "Epoch 70/200\n",
      "75/75 [==============================] - 0s 547us/step - loss: 0.0431 - accuracy: 0.9867 - val_loss: 6.0574 - val_accuracy: 0.2800\n",
      "Epoch 71/200\n",
      "75/75 [==============================] - 0s 629us/step - loss: 0.0439 - accuracy: 0.9867 - val_loss: 6.1255 - val_accuracy: 0.2800\n",
      "Epoch 72/200\n",
      "75/75 [==============================] - 0s 548us/step - loss: 0.0272 - accuracy: 0.9867 - val_loss: 6.2785 - val_accuracy: 0.2800\n",
      "Epoch 73/200\n",
      "75/75 [==============================] - 0s 581us/step - loss: 0.0631 - accuracy: 0.9867 - val_loss: 6.0613 - val_accuracy: 0.2400\n",
      "Epoch 74/200\n",
      "75/75 [==============================] - 0s 634us/step - loss: 0.0319 - accuracy: 0.9867 - val_loss: 6.2136 - val_accuracy: 0.2000\n",
      "Epoch 75/200\n",
      "75/75 [==============================] - 0s 520us/step - loss: 0.0269 - accuracy: 1.0000 - val_loss: 6.3325 - val_accuracy: 0.2400\n",
      "Epoch 76/200\n",
      "75/75 [==============================] - 0s 584us/step - loss: 0.0317 - accuracy: 0.9867 - val_loss: 6.1372 - val_accuracy: 0.2000\n",
      "Epoch 77/200\n",
      "75/75 [==============================] - 0s 582us/step - loss: 0.0283 - accuracy: 1.0000 - val_loss: 6.5019 - val_accuracy: 0.3200\n",
      "Epoch 78/200\n",
      "75/75 [==============================] - 0s 608us/step - loss: 0.1605 - accuracy: 0.9467 - val_loss: 6.5961 - val_accuracy: 0.3200\n",
      "Epoch 79/200\n",
      "75/75 [==============================] - 0s 562us/step - loss: 1.1931 - accuracy: 0.8133 - val_loss: 6.1691 - val_accuracy: 0.3200\n",
      "Epoch 80/200\n",
      "75/75 [==============================] - 0s 579us/step - loss: 2.8563 - accuracy: 0.6267 - val_loss: 5.1987 - val_accuracy: 0.2400\n",
      "Epoch 81/200\n",
      "75/75 [==============================] - 0s 583us/step - loss: 2.1401 - accuracy: 0.6000 - val_loss: 3.7306 - val_accuracy: 0.3600\n",
      "Epoch 82/200\n",
      "75/75 [==============================] - 0s 602us/step - loss: 1.4982 - accuracy: 0.7200 - val_loss: 3.7639 - val_accuracy: 0.3200\n",
      "Epoch 83/200\n",
      "75/75 [==============================] - 0s 587us/step - loss: 0.6615 - accuracy: 0.8400 - val_loss: 3.0434 - val_accuracy: 0.2800\n",
      "Epoch 84/200\n",
      "75/75 [==============================] - 0s 610us/step - loss: 0.3765 - accuracy: 0.9600 - val_loss: 3.4525 - val_accuracy: 0.3200\n",
      "Epoch 85/200\n",
      "75/75 [==============================] - 0s 601us/step - loss: 0.1958 - accuracy: 0.9600 - val_loss: 3.7357 - val_accuracy: 0.2800\n",
      "Epoch 86/200\n",
      "75/75 [==============================] - 0s 613us/step - loss: 0.1541 - accuracy: 0.9733 - val_loss: 3.8195 - val_accuracy: 0.3200\n",
      "Epoch 87/200\n",
      "75/75 [==============================] - 0s 679us/step - loss: 0.1148 - accuracy: 0.9867 - val_loss: 3.8744 - val_accuracy: 0.3600\n",
      "Epoch 88/200\n",
      "75/75 [==============================] - 0s 610us/step - loss: 0.1194 - accuracy: 0.9733 - val_loss: 3.9806 - val_accuracy: 0.3200\n",
      "Epoch 89/200\n",
      "75/75 [==============================] - 0s 599us/step - loss: 0.0996 - accuracy: 0.9733 - val_loss: 4.1255 - val_accuracy: 0.3600\n",
      "Epoch 90/200\n",
      "75/75 [==============================] - 0s 708us/step - loss: 0.0962 - accuracy: 0.9733 - val_loss: 4.3589 - val_accuracy: 0.3200\n",
      "Epoch 91/200\n",
      "75/75 [==============================] - 0s 587us/step - loss: 0.0955 - accuracy: 0.9733 - val_loss: 4.3187 - val_accuracy: 0.4000\n",
      "Epoch 92/200\n",
      "75/75 [==============================] - 0s 621us/step - loss: 0.0751 - accuracy: 0.9867 - val_loss: 4.2845 - val_accuracy: 0.3600\n",
      "Epoch 93/200\n",
      "75/75 [==============================] - 0s 686us/step - loss: 0.0549 - accuracy: 0.9867 - val_loss: 4.2766 - val_accuracy: 0.3600\n",
      "Epoch 94/200\n",
      "75/75 [==============================] - 0s 473us/step - loss: 0.0509 - accuracy: 1.0000 - val_loss: 4.4943 - val_accuracy: 0.3600\n",
      "Epoch 95/200\n",
      "75/75 [==============================] - 0s 515us/step - loss: 0.0700 - accuracy: 0.9733 - val_loss: 5.2047 - val_accuracy: 0.3600\n",
      "Epoch 96/200\n",
      "75/75 [==============================] - 0s 669us/step - loss: 0.1056 - accuracy: 0.9867 - val_loss: 4.5143 - val_accuracy: 0.3200\n",
      "Epoch 97/200\n",
      "75/75 [==============================] - 0s 574us/step - loss: 0.0609 - accuracy: 0.9733 - val_loss: 4.5510 - val_accuracy: 0.3600\n",
      "Epoch 98/200\n",
      "75/75 [==============================] - 0s 678us/step - loss: 0.0388 - accuracy: 0.9867 - val_loss: 4.4515 - val_accuracy: 0.3600\n",
      "Epoch 99/200\n",
      "75/75 [==============================] - 0s 590us/step - loss: 0.1419 - accuracy: 0.9467 - val_loss: 4.5864 - val_accuracy: 0.3600\n",
      "Epoch 100/200\n",
      "75/75 [==============================] - 0s 550us/step - loss: 0.0418 - accuracy: 0.9867 - val_loss: 4.7240 - val_accuracy: 0.3600\n",
      "Epoch 101/200\n",
      "75/75 [==============================] - 0s 529us/step - loss: 0.0411 - accuracy: 0.9867 - val_loss: 4.7919 - val_accuracy: 0.3600\n",
      "Epoch 102/200\n",
      "75/75 [==============================] - 0s 580us/step - loss: 0.0343 - accuracy: 0.9867 - val_loss: 4.7042 - val_accuracy: 0.3600\n",
      "Epoch 103/200\n",
      "75/75 [==============================] - 0s 554us/step - loss: 0.0257 - accuracy: 1.0000 - val_loss: 4.7844 - val_accuracy: 0.3600\n",
      "Epoch 104/200\n",
      "75/75 [==============================] - 0s 555us/step - loss: 0.0232 - accuracy: 1.0000 - val_loss: 4.6463 - val_accuracy: 0.2800\n",
      "Epoch 105/200\n",
      "75/75 [==============================] - 0s 497us/step - loss: 0.0390 - accuracy: 1.0000 - val_loss: 4.9541 - val_accuracy: 0.3600\n",
      "Epoch 106/200\n",
      "75/75 [==============================] - 0s 577us/step - loss: 0.0543 - accuracy: 0.9867 - val_loss: 4.9029 - val_accuracy: 0.3200\n",
      "Epoch 107/200\n",
      "75/75 [==============================] - 0s 640us/step - loss: 0.0745 - accuracy: 0.9733 - val_loss: 5.1893 - val_accuracy: 0.3600\n",
      "Epoch 108/200\n",
      "75/75 [==============================] - 0s 631us/step - loss: 0.0902 - accuracy: 0.9600 - val_loss: 4.8737 - val_accuracy: 0.3200\n",
      "Epoch 109/200\n",
      "75/75 [==============================] - 0s 612us/step - loss: 0.0252 - accuracy: 1.0000 - val_loss: 5.1359 - val_accuracy: 0.3600\n"
     ]
    },
    {
     "name": "stdout",
     "output_type": "stream",
     "text": [
      "Epoch 110/200\n",
      "75/75 [==============================] - 0s 675us/step - loss: 0.0248 - accuracy: 1.0000 - val_loss: 5.1247 - val_accuracy: 0.3600\n",
      "Epoch 111/200\n",
      "75/75 [==============================] - 0s 519us/step - loss: 0.0201 - accuracy: 1.0000 - val_loss: 5.0318 - val_accuracy: 0.4000\n",
      "Epoch 112/200\n",
      "75/75 [==============================] - 0s 605us/step - loss: 0.0131 - accuracy: 1.0000 - val_loss: 5.1788 - val_accuracy: 0.3600\n",
      "Epoch 113/200\n",
      "75/75 [==============================] - 0s 639us/step - loss: 0.0127 - accuracy: 1.0000 - val_loss: 5.0139 - val_accuracy: 0.2800\n",
      "Epoch 114/200\n",
      "75/75 [==============================] - 0s 584us/step - loss: 0.0435 - accuracy: 0.9733 - val_loss: 5.0518 - val_accuracy: 0.3200\n",
      "Epoch 115/200\n",
      "75/75 [==============================] - 0s 533us/step - loss: 0.0131 - accuracy: 1.0000 - val_loss: 5.3340 - val_accuracy: 0.4000\n",
      "Epoch 116/200\n",
      "75/75 [==============================] - 0s 568us/step - loss: 0.0117 - accuracy: 1.0000 - val_loss: 5.4750 - val_accuracy: 0.3600\n",
      "Epoch 117/200\n",
      "75/75 [==============================] - 0s 698us/step - loss: 0.0677 - accuracy: 0.9733 - val_loss: 5.5120 - val_accuracy: 0.4000\n",
      "Epoch 118/200\n",
      "75/75 [==============================] - 0s 558us/step - loss: 0.0680 - accuracy: 0.9867 - val_loss: 5.0735 - val_accuracy: 0.3200\n",
      "Epoch 119/200\n",
      "75/75 [==============================] - 0s 596us/step - loss: 0.0828 - accuracy: 0.9600 - val_loss: 5.4517 - val_accuracy: 0.3600\n",
      "Epoch 120/200\n",
      "75/75 [==============================] - 0s 536us/step - loss: 0.0381 - accuracy: 0.9867 - val_loss: 5.4129 - val_accuracy: 0.3600\n",
      "Epoch 121/200\n",
      "75/75 [==============================] - 0s 545us/step - loss: 0.0133 - accuracy: 1.0000 - val_loss: 5.3355 - val_accuracy: 0.3600\n",
      "Epoch 122/200\n",
      "75/75 [==============================] - 0s 590us/step - loss: 0.0131 - accuracy: 1.0000 - val_loss: 5.4296 - val_accuracy: 0.4000\n",
      "Epoch 123/200\n",
      "75/75 [==============================] - 0s 555us/step - loss: 0.0088 - accuracy: 1.0000 - val_loss: 5.6217 - val_accuracy: 0.3600\n",
      "Epoch 124/200\n",
      "75/75 [==============================] - 0s 550us/step - loss: 0.0091 - accuracy: 1.0000 - val_loss: 5.6802 - val_accuracy: 0.3600\n",
      "Epoch 125/200\n",
      "75/75 [==============================] - 0s 601us/step - loss: 0.0098 - accuracy: 1.0000 - val_loss: 5.7214 - val_accuracy: 0.3600\n",
      "Epoch 126/200\n",
      "75/75 [==============================] - 0s 615us/step - loss: 0.0128 - accuracy: 1.0000 - val_loss: 5.9073 - val_accuracy: 0.3600\n",
      "Epoch 127/200\n",
      "75/75 [==============================] - 0s 569us/step - loss: 0.0149 - accuracy: 0.9867 - val_loss: 5.3474 - val_accuracy: 0.3200\n",
      "Epoch 128/200\n",
      "75/75 [==============================] - 0s 527us/step - loss: 0.1528 - accuracy: 0.9333 - val_loss: 5.3106 - val_accuracy: 0.4000\n",
      "Epoch 129/200\n",
      "75/75 [==============================] - 0s 530us/step - loss: 0.0900 - accuracy: 0.9867 - val_loss: 5.6507 - val_accuracy: 0.3600\n",
      "Epoch 130/200\n",
      "75/75 [==============================] - 0s 609us/step - loss: 0.0280 - accuracy: 0.9867 - val_loss: 5.5396 - val_accuracy: 0.3600\n",
      "Epoch 131/200\n",
      "75/75 [==============================] - 0s 529us/step - loss: 0.0646 - accuracy: 0.9600 - val_loss: 5.5486 - val_accuracy: 0.4000\n",
      "Epoch 132/200\n",
      "75/75 [==============================] - 0s 551us/step - loss: 0.0163 - accuracy: 1.0000 - val_loss: 5.6541 - val_accuracy: 0.4000\n",
      "Epoch 133/200\n",
      "75/75 [==============================] - 0s 576us/step - loss: 0.0082 - accuracy: 1.0000 - val_loss: 5.7116 - val_accuracy: 0.4000\n",
      "Epoch 134/200\n",
      "75/75 [==============================] - 0s 565us/step - loss: 0.0070 - accuracy: 1.0000 - val_loss: 5.7522 - val_accuracy: 0.4000\n",
      "Epoch 135/200\n",
      "75/75 [==============================] - 0s 570us/step - loss: 0.0062 - accuracy: 1.0000 - val_loss: 5.7117 - val_accuracy: 0.4000\n",
      "Epoch 136/200\n",
      "75/75 [==============================] - 0s 535us/step - loss: 0.0057 - accuracy: 1.0000 - val_loss: 5.7213 - val_accuracy: 0.4000\n",
      "Epoch 137/200\n",
      "75/75 [==============================] - 0s 495us/step - loss: 0.0057 - accuracy: 1.0000 - val_loss: 5.7803 - val_accuracy: 0.4000\n",
      "Epoch 138/200\n",
      "75/75 [==============================] - 0s 559us/step - loss: 0.0050 - accuracy: 1.0000 - val_loss: 5.7960 - val_accuracy: 0.4000\n",
      "Epoch 139/200\n",
      "75/75 [==============================] - 0s 587us/step - loss: 0.0045 - accuracy: 1.0000 - val_loss: 5.8660 - val_accuracy: 0.4000\n",
      "Epoch 140/200\n",
      "75/75 [==============================] - 0s 570us/step - loss: 0.0044 - accuracy: 1.0000 - val_loss: 5.8460 - val_accuracy: 0.4000\n",
      "Epoch 141/200\n",
      "75/75 [==============================] - 0s 594us/step - loss: 0.0042 - accuracy: 1.0000 - val_loss: 5.8706 - val_accuracy: 0.4000\n",
      "Epoch 142/200\n",
      "75/75 [==============================] - 0s 609us/step - loss: 0.0039 - accuracy: 1.0000 - val_loss: 5.9253 - val_accuracy: 0.4000\n",
      "Epoch 143/200\n",
      "75/75 [==============================] - 0s 609us/step - loss: 0.0040 - accuracy: 1.0000 - val_loss: 5.9511 - val_accuracy: 0.4000\n",
      "Epoch 144/200\n",
      "75/75 [==============================] - 0s 503us/step - loss: 0.0038 - accuracy: 1.0000 - val_loss: 5.9613 - val_accuracy: 0.4000\n",
      "Epoch 145/200\n",
      "75/75 [==============================] - 0s 600us/step - loss: 0.0035 - accuracy: 1.0000 - val_loss: 5.9193 - val_accuracy: 0.4000\n",
      "Epoch 146/200\n",
      "75/75 [==============================] - 0s 608us/step - loss: 0.0035 - accuracy: 1.0000 - val_loss: 5.9309 - val_accuracy: 0.4000\n",
      "Epoch 147/200\n",
      "75/75 [==============================] - 0s 516us/step - loss: 0.0034 - accuracy: 1.0000 - val_loss: 5.9377 - val_accuracy: 0.4000\n",
      "Epoch 148/200\n",
      "75/75 [==============================] - 0s 525us/step - loss: 0.0033 - accuracy: 1.0000 - val_loss: 5.9702 - val_accuracy: 0.4000\n",
      "Epoch 149/200\n",
      "75/75 [==============================] - 0s 824us/step - loss: 0.0030 - accuracy: 1.0000 - val_loss: 5.9673 - val_accuracy: 0.4000\n",
      "Epoch 150/200\n",
      "75/75 [==============================] - 0s 693us/step - loss: 0.0030 - accuracy: 1.0000 - val_loss: 5.9762 - val_accuracy: 0.4000\n",
      "Epoch 151/200\n",
      "75/75 [==============================] - 0s 586us/step - loss: 0.0030 - accuracy: 1.0000 - val_loss: 6.0119 - val_accuracy: 0.4000\n",
      "Epoch 152/200\n",
      "75/75 [==============================] - 0s 536us/step - loss: 0.0026 - accuracy: 1.0000 - val_loss: 6.0605 - val_accuracy: 0.4000\n",
      "Epoch 153/200\n",
      "75/75 [==============================] - 0s 624us/step - loss: 0.0028 - accuracy: 1.0000 - val_loss: 6.0706 - val_accuracy: 0.4000\n",
      "Epoch 154/200\n",
      "75/75 [==============================] - 0s 618us/step - loss: 0.0026 - accuracy: 1.0000 - val_loss: 6.0192 - val_accuracy: 0.4000\n",
      "Epoch 155/200\n",
      "75/75 [==============================] - 0s 593us/step - loss: 0.0025 - accuracy: 1.0000 - val_loss: 6.0854 - val_accuracy: 0.4000\n",
      "Epoch 156/200\n",
      "75/75 [==============================] - 0s 623us/step - loss: 0.0024 - accuracy: 1.0000 - val_loss: 6.0669 - val_accuracy: 0.4000\n",
      "Epoch 157/200\n",
      "75/75 [==============================] - 0s 628us/step - loss: 0.0023 - accuracy: 1.0000 - val_loss: 6.1089 - val_accuracy: 0.4000\n",
      "Epoch 158/200\n",
      "75/75 [==============================] - 0s 525us/step - loss: 0.0024 - accuracy: 1.0000 - val_loss: 6.0585 - val_accuracy: 0.4000\n",
      "Epoch 159/200\n",
      "75/75 [==============================] - 0s 585us/step - loss: 0.0024 - accuracy: 1.0000 - val_loss: 6.0769 - val_accuracy: 0.4000\n",
      "Epoch 160/200\n",
      "75/75 [==============================] - 0s 503us/step - loss: 0.0023 - accuracy: 1.0000 - val_loss: 6.1285 - val_accuracy: 0.4000\n",
      "Epoch 161/200\n",
      "75/75 [==============================] - 0s 578us/step - loss: 0.0022 - accuracy: 1.0000 - val_loss: 6.1348 - val_accuracy: 0.4000\n",
      "Epoch 162/200\n",
      "75/75 [==============================] - 0s 619us/step - loss: 0.0022 - accuracy: 1.0000 - val_loss: 6.1046 - val_accuracy: 0.4000\n",
      "Epoch 163/200\n",
      "75/75 [==============================] - 0s 596us/step - loss: 0.0022 - accuracy: 1.0000 - val_loss: 6.1273 - val_accuracy: 0.4000\n",
      "Epoch 164/200\n",
      "75/75 [==============================] - 0s 585us/step - loss: 0.0021 - accuracy: 1.0000 - val_loss: 6.1292 - val_accuracy: 0.4000\n",
      "Epoch 165/200\n",
      "75/75 [==============================] - 0s 524us/step - loss: 0.0020 - accuracy: 1.0000 - val_loss: 6.1719 - val_accuracy: 0.4000\n",
      "Epoch 166/200\n",
      "75/75 [==============================] - 0s 524us/step - loss: 0.0020 - accuracy: 1.0000 - val_loss: 6.1862 - val_accuracy: 0.4000\n",
      "Epoch 167/200\n",
      "75/75 [==============================] - 0s 611us/step - loss: 0.0020 - accuracy: 1.0000 - val_loss: 6.1450 - val_accuracy: 0.4000\n",
      "Epoch 168/200\n",
      "75/75 [==============================] - 0s 618us/step - loss: 0.0020 - accuracy: 1.0000 - val_loss: 6.1612 - val_accuracy: 0.4000\n",
      "Epoch 169/200\n",
      "75/75 [==============================] - 0s 605us/step - loss: 0.0019 - accuracy: 1.0000 - val_loss: 6.2000 - val_accuracy: 0.4000\n",
      "Epoch 170/200\n",
      "75/75 [==============================] - 0s 526us/step - loss: 0.0019 - accuracy: 1.0000 - val_loss: 6.1703 - val_accuracy: 0.4000\n",
      "Epoch 171/200\n",
      "75/75 [==============================] - 0s 529us/step - loss: 0.0018 - accuracy: 1.0000 - val_loss: 6.2150 - val_accuracy: 0.4000\n",
      "Epoch 172/200\n",
      "75/75 [==============================] - 0s 592us/step - loss: 0.0018 - accuracy: 1.0000 - val_loss: 6.1870 - val_accuracy: 0.4000\n",
      "Epoch 173/200\n",
      "75/75 [==============================] - 0s 579us/step - loss: 0.0018 - accuracy: 1.0000 - val_loss: 6.2026 - val_accuracy: 0.4000\n",
      "Epoch 174/200\n",
      "75/75 [==============================] - 0s 544us/step - loss: 0.0017 - accuracy: 1.0000 - val_loss: 6.2031 - val_accuracy: 0.4000\n",
      "Epoch 175/200\n",
      "75/75 [==============================] - 0s 605us/step - loss: 0.0017 - accuracy: 1.0000 - val_loss: 6.2438 - val_accuracy: 0.4000\n",
      "Epoch 176/200\n",
      "75/75 [==============================] - 0s 609us/step - loss: 0.0017 - accuracy: 1.0000 - val_loss: 6.2582 - val_accuracy: 0.4000\n",
      "Epoch 177/200\n",
      "75/75 [==============================] - 0s 636us/step - loss: 0.0017 - accuracy: 1.0000 - val_loss: 6.2616 - val_accuracy: 0.4000\n",
      "Epoch 178/200\n",
      "75/75 [==============================] - 0s 597us/step - loss: 0.0016 - accuracy: 1.0000 - val_loss: 6.2640 - val_accuracy: 0.4000\n",
      "Epoch 179/200\n",
      "75/75 [==============================] - 0s 538us/step - loss: 0.0016 - accuracy: 1.0000 - val_loss: 6.2371 - val_accuracy: 0.4000\n",
      "Epoch 180/200\n",
      "75/75 [==============================] - 0s 667us/step - loss: 0.0016 - accuracy: 1.0000 - val_loss: 6.2718 - val_accuracy: 0.4000\n",
      "Epoch 181/200\n",
      "75/75 [==============================] - 0s 584us/step - loss: 0.0015 - accuracy: 1.0000 - val_loss: 6.2835 - val_accuracy: 0.4000\n",
      "Epoch 182/200\n",
      "75/75 [==============================] - 0s 529us/step - loss: 0.0015 - accuracy: 1.0000 - val_loss: 6.2872 - val_accuracy: 0.4000\n",
      "Epoch 183/200\n",
      "75/75 [==============================] - 0s 568us/step - loss: 0.0015 - accuracy: 1.0000 - val_loss: 6.2931 - val_accuracy: 0.4000\n",
      "Epoch 184/200\n",
      "75/75 [==============================] - 0s 503us/step - loss: 0.0015 - accuracy: 1.0000 - val_loss: 6.2786 - val_accuracy: 0.4000\n",
      "Epoch 185/200\n",
      "75/75 [==============================] - 0s 612us/step - loss: 0.0015 - accuracy: 1.0000 - val_loss: 6.2805 - val_accuracy: 0.4000\n",
      "Epoch 186/200\n",
      "75/75 [==============================] - 0s 666us/step - loss: 0.0014 - accuracy: 1.0000 - val_loss: 6.2853 - val_accuracy: 0.4000\n",
      "Epoch 187/200\n",
      "75/75 [==============================] - 0s 514us/step - loss: 0.0014 - accuracy: 1.0000 - val_loss: 6.3210 - val_accuracy: 0.4000\n",
      "Epoch 188/200\n",
      "75/75 [==============================] - 0s 650us/step - loss: 0.0014 - accuracy: 1.0000 - val_loss: 6.3305 - val_accuracy: 0.4000\n",
      "Epoch 189/200\n",
      "75/75 [==============================] - 0s 557us/step - loss: 0.0014 - accuracy: 1.0000 - val_loss: 6.3367 - val_accuracy: 0.4000\n",
      "Epoch 190/200\n",
      "75/75 [==============================] - 0s 566us/step - loss: 0.0014 - accuracy: 1.0000 - val_loss: 6.3409 - val_accuracy: 0.4000\n",
      "Epoch 191/200\n",
      "75/75 [==============================] - 0s 602us/step - loss: 0.0013 - accuracy: 1.0000 - val_loss: 6.3178 - val_accuracy: 0.4000\n",
      "Epoch 192/200\n",
      "75/75 [==============================] - 0s 602us/step - loss: 0.0013 - accuracy: 1.0000 - val_loss: 6.3326 - val_accuracy: 0.4000\n",
      "Epoch 193/200\n",
      "75/75 [==============================] - 0s 610us/step - loss: 0.0013 - accuracy: 1.0000 - val_loss: 6.3580 - val_accuracy: 0.4000\n",
      "Epoch 194/200\n",
      "75/75 [==============================] - 0s 616us/step - loss: 0.0013 - accuracy: 1.0000 - val_loss: 6.3629 - val_accuracy: 0.4000\n",
      "Epoch 195/200\n",
      "75/75 [==============================] - 0s 624us/step - loss: 0.0013 - accuracy: 1.0000 - val_loss: 6.3431 - val_accuracy: 0.4000\n",
      "Epoch 196/200\n",
      "75/75 [==============================] - 0s 542us/step - loss: 0.0012 - accuracy: 1.0000 - val_loss: 6.3712 - val_accuracy: 0.4000\n",
      "Epoch 197/200\n",
      "75/75 [==============================] - 0s 572us/step - loss: 0.0012 - accuracy: 1.0000 - val_loss: 6.3516 - val_accuracy: 0.4000\n",
      "Epoch 198/200\n",
      "75/75 [==============================] - 0s 663us/step - loss: 0.0012 - accuracy: 1.0000 - val_loss: 6.3614 - val_accuracy: 0.4000\n",
      "Epoch 199/200\n",
      "75/75 [==============================] - 0s 644us/step - loss: 0.0012 - accuracy: 1.0000 - val_loss: 6.3738 - val_accuracy: 0.4000\n",
      "Epoch 200/200\n",
      "75/75 [==============================] - 0s 695us/step - loss: 0.0012 - accuracy: 1.0000 - val_loss: 6.3965 - val_accuracy: 0.4000\n"
     ]
    }
   ],
   "source": [
    "# Deep Learning Parameters\n",
    "batch_size = 5 # Number of samples per gradient update.\n",
    "epochs = 200    # An epoch is an iteration over the entire x and y data provided.\n",
    "\n",
    "# Train Model\n",
    "hist = model_d.fit(train_set_d, train_classes_d_hot, verbose=1, \n",
    "                    batch_size=batch_size, epochs=epochs, validation_data=(test_set_d,test_classes_d_hot))"
   ]
  },
  {
   "cell_type": "code",
   "execution_count": 24,
   "metadata": {},
   "outputs": [
    {
     "data": {
      "image/png": "[encoded data removed]",
      "text/plain": [
       "<Figure size 576x288 with 2 Axes>"
      ]
     },
     "metadata": {
      "needs_background": "light"
     },
     "output_type": "display_data"
    }
   ],
   "source": [
    "# Plot Training Loss and Training Accuracy\n",
    "plt.figure(figsize=(8,4))\n",
    "plt.subplot(1, 2, 1)\n",
    "plt.title(\"Training loss\")\n",
    "plt.plot(range(epochs),hist.history[\"loss\"])\n",
    "\n",
    "plt.subplot(1, 2, 2)\n",
    "plt.title(\"Training Accuracy\")\n",
    "plt.plot(range(epochs),hist.history[\"accuracy\"])\n",
    "\n",
    "plt.tight_layout()"
   ]
  },
  {
   "cell_type": "markdown",
   "metadata": {},
   "source": [
    "# Make Predictions"
   ]
  },
  {
   "cell_type": "code",
   "execution_count": 25,
   "metadata": {},
   "outputs": [],
   "source": [
    "# Predict\n",
    "predictions = model_d.predict(test_set_d)\n",
    "predictions_round=predictions.round().astype('int')\n",
    "predictions_int=np.argmax(predictions_round,axis=2)\n",
    "predictions_labels=labelencoder.inverse_transform(np.ravel(predictions_int))"
   ]
  },
  {
   "cell_type": "markdown",
   "metadata": {},
   "source": [
    "# Evaluation"
   ]
  },
  {
   "cell_type": "code",
   "execution_count": 26,
   "metadata": {},
   "outputs": [
    {
     "name": "stdout",
     "output_type": "stream",
     "text": [
      "Recall:  [0.66666667 0.5        0.5        0.66666667 0.         0.33333333\n",
      " 0.         0.33333333 0.5        0.5       ]\n",
      "Precision:  [0.33333333 0.2        0.25       1.         0.         0.5\n",
      " 0.         1.         0.5        0.33333333]\n",
      "F1-Score:  [0.44444444 0.28571429 0.33333333 0.8        0.         0.4\n",
      " 0.         0.5        0.5        0.4       ]\n",
      "Accuracy: 0.40  , 10\n",
      "Number of samples: 25\n",
      "              precision    recall  f1-score   support\n",
      "\n",
      "           0       0.33      0.67      0.44         3\n",
      "           1       0.20      0.50      0.29         2\n",
      "           2       0.25      0.50      0.33         2\n",
      "           3       1.00      0.67      0.80         3\n",
      "           4       0.00      0.00      0.00         2\n",
      "           5       0.50      0.33      0.40         3\n",
      "           6       0.00      0.00      0.00         3\n",
      "           7       1.00      0.33      0.50         3\n",
      "           8       0.50      0.50      0.50         2\n",
      "           9       0.33      0.50      0.40         2\n",
      "\n",
      "    accuracy                           0.40        25\n",
      "   macro avg       0.41      0.40      0.37        25\n",
      "weighted avg       0.44      0.40      0.38        25\n",
      "\n"
     ]
    },
    {
     "name": "stderr",
     "output_type": "stream",
     "text": [
      "/home/rutherford/.local/lib/python3.6/site-packages/sklearn/metrics/_classification.py:1272: UndefinedMetricWarning: Precision is ill-defined and being set to 0.0 in labels with no predicted samples. Use `zero_division` parameter to control this behavior.\n",
      "  _warn_prf(average, modifier, msg_start, len(result))\n",
      "/home/rutherford/.local/lib/python3.6/site-packages/sklearn/metrics/_classification.py:1272: UndefinedMetricWarning: Precision and F-score are ill-defined and being set to 0.0 in labels with no predicted samples. Use `zero_division` parameter to control this behavior.\n",
      "  _warn_prf(average, modifier, msg_start, len(result))\n"
     ]
    }
   ],
   "source": [
    "# Recall - the ability of the classifier to find all the positive samples\n",
    "print(\"Recall: \", recall_score(classes_num[test_index], predictions_int,average=None))\n",
    "\n",
    "# Precision - The precision is intuitively the ability of the classifier not to \n",
    "#label as positive a sample that is negative\n",
    "print(\"Precision: \", precision_score(classes_num[test_index], predictions_int,average=None))\n",
    "\n",
    "# F1-Score - The F1 score can be interpreted as a weighted average of the precision \n",
    "#and recall\n",
    "print(\"F1-Score: \", f1_score(classes_num[test_index], predictions_int, average=None))\n",
    "\n",
    "# Accuracy - the number of correctly classified samples\n",
    "print(\"Accuracy: %.2f  ,\" % accuracy_score(classes_num[test_index], predictions_int,normalize=True), accuracy_score(classes_num[test_index], predictions_int,normalize=False) )\n",
    "print(\"Number of samples:\",classes_num[test_index].shape[0])\n",
    "\n",
    "print(classification_report(classes_num[test_index], predictions_int))"
   ]
  },
  {
   "cell_type": "code",
   "execution_count": 27,
   "metadata": {},
   "outputs": [],
   "source": [
    "# Compute confusion matrix\n",
    "cnf_matrix = confusion_matrix(classes_num[test_index], predictions_int)\n",
    "np.set_printoptions(precision=2)"
   ]
  },
  {
   "cell_type": "code",
   "execution_count": 28,
   "metadata": {},
   "outputs": [],
   "source": [
    "# Function to Plot Confusion Matrix\n",
    "# http://scikit-learn.org/stable/auto_examples/model_selection/plot_confusion_matrix.html\n",
    "def plot_confusion_matrix(cm, classes,\n",
    "                          normalize=False,\n",
    "                          title='Confusion matrix',\n",
    "                          cmap=plt.cm.Blues):\n",
    "    \"\"\"\n",
    "    This function prints and plots the confusion matrix.\n",
    "    Normalization can be applied by setting `normalize=True`.\n",
    "    \n",
    "    if normalize:\n",
    "        cm = cm.astype('float') / cm.sum(axis=1)[:, np.newaxis]\n",
    "        print(\"Normalized confusion matrix\")\n",
    "    else:\n",
    "        print('Confusion matrix, without normalization')\n",
    "    \"\"\"\n",
    "    #print(cm)\n",
    "\n",
    "    plt.imshow(cm, interpolation='nearest', cmap=cmap)\n",
    "    plt.title(title)\n",
    "    plt.colorbar()\n",
    "    tick_marks = np.arange(len(classes))\n",
    "    plt.xticks(tick_marks, classes, rotation=45)\n",
    "    plt.yticks(tick_marks, classes)\n",
    "\n",
    "    fmt = '.2f' if normalize else 'd'\n",
    "    thresh = cm.max() / 2.\n",
    "    for i, j in itertools.product(range(cm.shape[0]), range(cm.shape[1])):\n",
    "        plt.text(j, i, format(cm[i, j], fmt),\n",
    "                 horizontalalignment=\"center\",\n",
    "                 color=\"white\" if cm[i, j] > thresh else \"black\")\n",
    "\n",
    "    plt.tight_layout()\n",
    "    plt.ylabel('True label')\n",
    "    plt.xlabel('Predicted label')"
   ]
  },
  {
   "cell_type": "code",
   "execution_count": 29,
   "metadata": {},
   "outputs": [
    {
     "data": {
      "image/png": "[encoded data removed]",
      "text/plain": [
       "<Figure size 1152x864 with 2 Axes>"
      ]
     },
     "metadata": {
      "needs_background": "light"
     },
     "output_type": "display_data"
    }
   ],
   "source": [
    "# Plot non-normalized confusion matrix\n",
    "plt.figure(figsize=(16,12))\n",
    "plot_confusion_matrix(cnf_matrix, classes=labelencoder.classes_,\n",
    "                      title='Confusion matrix, without normalization')"
   ]
  },
  {
   "cell_type": "code",
   "execution_count": 30,
   "metadata": {},
   "outputs": [],
   "source": [
    "# Find wrong predicted samples indexes\n",
    "wrong_predictions = [i for i, (e1, e2) in enumerate(zip(test_classes, predictions_int)) if e1 != e2]"
   ]
  },
  {
   "cell_type": "code",
   "execution_count": 31,
   "metadata": {},
   "outputs": [
    {
     "name": "stdout",
     "output_type": "stream",
     "text": [
      "['Dove' 'Dove' 'Nightjar' 'Grebe' 'Grebe' 'Grebe' 'Crane' 'Gallinule'\n",
      " 'Grouse' 'Gallinule' 'Crake' 'Coot' 'Avocet' 'Grouse' 'Lapwing']\n",
      "['Avocet' 'Gallinule' 'Coot' 'Nightjar' 'Avocet' 'Crake' 'Coot' 'Lapwing'\n",
      " 'Crake' 'Avocet' 'Coot' 'Avocet' 'Crake' 'Coot' 'Nightjar']\n",
      "['BirdSound2/Dove/XC45718 - Namaqua Dove - Oena capensis.wav'\n",
      " 'BirdSound2/Dove/XC277489 - European Turtle Dove - Streptopelia turtur.wav'\n",
      " 'BirdSound2/Nightjar/XC167119 - Rufous Nightjar - Antrostomus rufus.wav'\n",
      " 'BirdSound2/Grebe/XC331144 - Black-necked Grebe - Podiceps nigricollis.wav'\n",
      " 'BirdSound2/Grebe/XC377189 - Little Grebe - Tachybaptus ruficollis.wav'\n",
      " 'BirdSound2/Grebe/XC466329 - Little Grebe - Tachybaptus ruficollis.wav'\n",
      " 'BirdSound2/Crane/XC459728 - Common Crane - Grus grus.wav'\n",
      " 'BirdSound2/Gallinule/XC91834 - Spot-flanked Gallinule - Porphyriops melanops.wav'\n",
      " 'BirdSound2/Grouse/XC90846 - Black Grouse - Lyrurus tetrix tetrix.wav'\n",
      " 'BirdSound2/Gallinule/XC228563 - Purple Gallinule - Porphyrio martinica.wav'\n",
      " 'BirdSound2/Crake/XC55476 - Ash-throated Crake - Porzana albicollis.wav'\n",
      " 'BirdSound2/Coot/XC50788 - White-winged Coot - Fulica leucoptera.wav'\n",
      " 'BirdSound2/Avocet/XC59841 - Andean Avocet - Recurvirostra andina.wav'\n",
      " 'BirdSound2/Grouse/XC320022 - Dusky Grouse - Dendragapus obscurus.wav'\n",
      " 'BirdSound2/Lapwing/XC147425 - Northern Lapwing - Vanellus vanellus.wav']\n"
     ]
    }
   ],
   "source": [
    "# Find wrong predicted audio files\n",
    "print(np.array(labels)[test_index[wrong_predictions]])\n",
    "print(predictions_labels[wrong_predictions].T)\n",
    "print(np.array(files)[test_index[wrong_predictions]])"
   ]
  },
  {
   "cell_type": "code",
   "execution_count": null,
   "metadata": {},
   "outputs": [],
   "source": []
  }
 ],
 "metadata": {
  "kernelspec": {
   "display_name": "Python 3",
   "language": "python",
   "name": "python3"
  },
  "language_info": {
   "codemirror_mode": {
    "name": "ipython",
    "version": 3
   },
   "file_extension": ".py",
   "mimetype": "text/x-python",
   "name": "python",
   "nbconvert_exporter": "python",
   "pygments_lexer": "ipython3",
   "version": "3.6.9"
  }
 },
 "nbformat": 4,
 "nbformat_minor": 2
}
