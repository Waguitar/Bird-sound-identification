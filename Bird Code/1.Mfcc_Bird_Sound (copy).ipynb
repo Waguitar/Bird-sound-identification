{
 "cells": [
  {
   "cell_type": "markdown",
   "metadata": {},
   "source": [
    "## Imports"
   ]
  },
  {
   "cell_type": "code",
   "execution_count": 1,
   "metadata": {},
   "outputs": [],
   "source": [
    "# Imports\n",
    "\n",
    "#General\n",
    "import numpy as np\n",
    "import itertools\n",
    "\n",
    "# System\n",
    "import os, fnmatch\n",
    "\n",
    "# Visualization\n",
    "import seaborn #visualization library, must be imported before all other plotting libraries\n",
    "import matplotlib.pyplot as plt\n",
    "from IPython.core.display import HTML, display\n",
    "\n",
    "# Machine Learning\n",
    "from sklearn.preprocessing import LabelEncoder\n",
    "from sklearn.preprocessing import StandardScaler\n",
    "from sklearn.model_selection import StratifiedShuffleSplit\n",
    "from sklearn.neighbors import KNeighborsClassifier\n",
    "from sklearn.metrics import recall_score, precision_score, accuracy_score\n",
    "from sklearn.metrics import confusion_matrix, f1_score, classification_report\n",
    "\n",
    "# Random Seed\n",
    "from numpy.random import seed\n",
    "seed(1)\n",
    "\n",
    "# Audio\n",
    "import librosa.display, librosa"
   ]
  },
  {
   "cell_type": "markdown",
   "metadata": {},
   "source": [
    "## Get filenames"
   ]
  },
  {
   "cell_type": "code",
   "execution_count": 2,
   "metadata": {},
   "outputs": [
    {
     "name": "stdout",
     "output_type": "stream",
     "text": [
      "found 95 audio files in TestSound/\n"
     ]
    }
   ],
   "source": [
    "# Get files in data path\n",
    "path='TestSound/'\n",
    "# Get Audio Files\n",
    "files = []\n",
    "for root, dirnames, filenames in os.walk(path):\n",
    "    for filename in fnmatch.filter(filenames, '*.wav'):\n",
    "        files.append(os.path.join(root, filename))\n",
    "\n",
    "print(\"found %d audio files in %s\"%(len(files),path))"
   ]
  },
  {
   "cell_type": "markdown",
   "metadata": {},
   "source": [
    "## Prepare labels from filenames"
   ]
  },
  {
   "cell_type": "code",
   "execution_count": 3,
   "metadata": {},
   "outputs": [],
   "source": [
    "labels =[]\n",
    "classes=['Cluster']\n",
    "\n",
    "\n",
    "\n",
    "color_dict={\n",
    "    \n",
    "           'Cluster':'blue'\n",
    "           }\n",
    "\n",
    "color_list=[]\n",
    "for filename in files:\n",
    "    for name in classes:\n",
    "        if fnmatch.fnmatchcase(filename, '*'+name+'*'):\n",
    "            labels.append(name)\n",
    "            color_list.append(color_dict[name])\n",
    "            break\n",
    "    else:\n",
    "        labels.append('other')"
   ]
  },
  {
   "cell_type": "markdown",
   "metadata": {},
   "source": [
    "## Encode Labels"
   ]
  },
  {
   "cell_type": "code",
   "execution_count": 4,
   "metadata": {},
   "outputs": [
    {
     "name": "stdout",
     "output_type": "stream",
     "text": [
      "1 classes: other\n"
     ]
    }
   ],
   "source": [
    "# Encode Labels\n",
    "labelencoder = LabelEncoder()\n",
    "labelencoder.fit(labels)\n",
    "print(len(labelencoder.classes_), \"classes:\", \", \".join(list(labelencoder.classes_)))\n",
    "classes_num = labelencoder.transform(labels)"
   ]
  },
  {
   "cell_type": "markdown",
   "metadata": {},
   "source": [
    "## Parameters for MFCC"
   ]
  },
  {
   "cell_type": "code",
   "execution_count": 5,
   "metadata": {},
   "outputs": [],
   "source": [
    "# Parameters\n",
    "# Signal Processing Parameters\n",
    "fs = 44100         # Sampling Frequency\n",
    "n_fft = 2048       # length of the FFT window\n",
    "hop_length = 512   # Number of samples between successive frames\n",
    "n_mels = 128       # Number of Mel bands\n",
    "n_mfcc = 13        # Number of MFCCs\n",
    "\n",
    "# Machine Learning Parameters\n",
    "testset_size = 0.25 #Percentage of data for Testing\n",
    "n_neighbors=1       # Number of neighbors for kNN Classifier"
   ]
  },
  {
   "cell_type": "markdown",
   "metadata": {},
   "source": [
    "## Function to Calculate Audio Features: MFCC"
   ]
  },
  {
   "cell_type": "code",
   "execution_count": 6,
   "metadata": {},
   "outputs": [],
   "source": [
    "# Define Function to Calculate MFCC, Delta_MFCC and Delta2_MFCC\n",
    "def get_features(y, sr=fs):\n",
    "    S = librosa.feature.melspectrogram(y, sr=fs, n_mels=n_mels)\n",
    "    mfcc = librosa.feature.mfcc(S=librosa.power_to_db(S), n_mfcc=n_mfcc)\n",
    "    feature_vector = np.mean(mfcc,1)\n",
    "    #feature_vector = (feature_vector-np.mean(feature_vector))/np.std(feature_vector)\n",
    "    return feature_vector"
   ]
  },
  {
   "cell_type": "markdown",
   "metadata": {},
   "source": [
    "## Load audio files, calculate features and create feature vectors"
   ]
  },
  {
   "cell_type": "code",
   "execution_count": 7,
   "metadata": {},
   "outputs": [
    {
     "name": "stdout",
     "output_type": "stream",
     "text": [
      "get 1 of 95 = TestSound/XC14381 - American Coot - Fulica americana~1.wav\n",
      "get 2 of 95 = TestSound/XC715 - Ruddy Pigeon - Patagioenas subvinacea.wav\n",
      "get 3 of 95 = TestSound/XC14345 - Purple-crowned Plovercrest - Stephanoxis loddigesii.wav\n",
      "get 4 of 95 = TestSound/XC179459 - Ridgway's Rail - Rallus obsoletus.wav\n",
      "get 5 of 95 = TestSound/XC51141 - White-tufted Grebe - Rollandia rolland.wav\n",
      "get 6 of 95 = TestSound/XC45353 - Spot-flanked Gallinule - Porphyriops melanops crassirostris.wav\n",
      "get 7 of 95 = TestSound/XC15483 - Rufous-faced Crake - Laterallus xenopterus.wav\n",
      "get 8 of 95 = TestSound/XC2479 - Andean Avocet - Recurvirostra andina.wav\n",
      "get 9 of 95 = TestSound/XC43622 - Yellow-billed Turaco - Tauraco macrorhynchus.wav\n",
      "get 10 of 95 = TestSound/XC22547 - Masked Lapwing - Vanellus miles.wav\n",
      "get 11 of 95 = TestSound/XC114691 - Kalij Pheasant - Lophura leucomelanos hamiltonii.wav\n",
      "get 12 of 95 = TestSound/XC93965 - Black-winged Stilt - Himantopus himantopus (1).wav\n",
      "get 13 of 95 = TestSound/XC77993 - Ruffed Grouse - Bonasa umbellus incana.wav\n",
      "get 14 of 95 = TestSound/XC62293 - Grey Crowned Crane - Balearica regulorum regulorum.wav\n",
      "get 15 of 95 = TestSound/XC140325 - Little Ringed Plover - Charadrius dubius papuanus.wav\n",
      "get 16 of 95 = TestSound/XC59911 - Rufous-chested Plover - Charadrius modestus.wav\n",
      "get 17 of 95 = TestSound/XC145934 - Stilt Sandpiper - Calidris himantopus.wav\n",
      "get 18 of 95 = TestSound/XC217119 - Black Rail - Laterallus jamaicensis.wav\n",
      "get 19 of 95 = TestSound/XC45718 - Namaqua Dove - Oena capensis.wav\n",
      "get 20 of 95 = TestSound/XC13469 - Black-banded Crake - Laterallus fasciatus~1.wav\n",
      "get 21 of 95 = TestSound/XC37123 - Purple Gallinule - Porphyrio martinica.wav\n",
      "get 22 of 95 = TestSound/XC62391 - Livingstone's Turaco - Tauraco livingstonii reichenowi.wav\n",
      "get 23 of 95 = TestSound/XC99473 - Common Pheasant - Phasianus colchicus.wav\n",
      "get 24 of 95 = TestSound/XC71944 - Black Grouse - Lyrurus tetrix.wav\n",
      "get 25 of 95 = TestSound/XC28379 - Magellanic Oystercatcher - Haematopus leucopodus.wav\n",
      "get 26 of 95 = TestSound/XC7979 - Common Gallinule - Gallinula galeata.wav\n",
      "get 27 of 95 = TestSound/XC48658 - Ruffed Grouse - Bonasa umbellus.wav\n",
      "get 28 of 95 = TestSound/XC145344 - Terek Sandpiper - Xenus cinereus.wav\n",
      "get 29 of 95 = TestSound/XC14372 - Pied-billed Grebe - Podilymbus podiceps.wav\n",
      "get 30 of 95 = TestSound/XC30141 - White-rumped Sandpiper - Calidris fuscicollis.wav\n",
      "get 31 of 95 = TestSound/XC25075 - Eurasian Oystercatcher - Haematopus ostralegus.wav\n",
      "get 32 of 95 = TestSound/XC10309 - Bogota Rail - Rallus semiplumbeus semiplumbeus.wav\n",
      "get 33 of 95 = TestSound/XC13469 - Black-banded Crake - Laterallus fasciatus.wav\n",
      "get 34 of 95 = TestSound/XC130540 - Clapper Rail - Rallus crepitans.wav\n",
      "get 35 of 95 = TestSound/XC115583 - Common Pheasant - Phasianus colchicus.wav\n",
      "get 36 of 95 = TestSound/XC76852 - Common Pheasant - Phasianus colchicus.wav\n",
      "get 37 of 95 = TestSound/XC60035 - Blackish Oystercatcher - Haematopus ater.wav\n",
      "get 38 of 95 = TestSound/XC6095 - Spot-tailed Nightjar - Hydropsalis maculicaudus.wav\n",
      "get 39 of 95 = TestSound/XC2474 - Andean Avocet - Recurvirostra andina.wav\n",
      "get 40 of 95 = TestSound/XC50272 - Southern Lapwing - Vanellus chilensis.wav\n",
      "get 41 of 95 = TestSound/XC12874 - White-chinned Swift - Cypseloides cryptus.wav\n",
      "get 42 of 95 = TestSound/XC65467 - Stock Dove - Columba oenas.wav\n",
      "get 43 of 95 = TestSound/XC39584 - Ruddy Pigeon - Patagioenas subvinacea.wav\n",
      "get 44 of 95 = TestSound/XC72452 - Purple-crested Turaco - Tauraco porphyreolophus.wav\n",
      "get 45 of 95 = TestSound/XC33773 - Sage Grouse - Centrocercus urophasianus.wav\n",
      "get 46 of 95 = TestSound/XC95389 - Livingstone's Turaco - Tauraco livingstonii.wav\n",
      "get 47 of 95 = TestSound/XC43007 - Blackish Oystercatcher - Haematopus ater.wav\n",
      "get 48 of 95 = TestSound/XC99831 - Yellow-billed Turaco - Tauraco macrorhynchus verreauxii.wav\n",
      "get 49 of 95 = TestSound/XC2358 - Rufous-sided Crake - Laterallus melanophaius.wav\n",
      "get 50 of 95 = TestSound/XC8578 - White-winged Coot - Fulica leucoptera.wav\n",
      "get 51 of 95 = TestSound/XC51732 - Collared Plover - Charadrius collaris.wav\n",
      "get 52 of 95 = TestSound/XC126037 - Pheasant Cuckoo - Dromococcyx phasianellus.wav\n",
      "get 53 of 95 = TestSound/XC17280 - Andean Coot - Fulica ardesiaca.wav\n",
      "get 54 of 95 = TestSound/XC13333 - Spot-tailed Nightjar - Hydropsalis maculicaudus.wav\n",
      "get 55 of 95 = TestSound/XC48673 - Picazuro Pigeon - Patagioenas picazuro.wav\n",
      "get 56 of 95 = TestSound/XC110658 - Ridgway's Rail - Rallus obsoletus yumanensis.wav\n",
      "get 57 of 95 = TestSound/XC45354 - Spot-flanked Gallinule - Porphyriops melanops crassirostris.wav\n",
      "get 58 of 95 = TestSound/XC118539 - Common Swift - Apus apus.wav\n",
      "get 59 of 95 = TestSound/XC43482 - Little Grebe - Tachybaptus ruficollis.wav\n",
      "get 60 of 95 = TestSound/XC34689 - Zebra Dove - Geopelia striata.wav\n",
      "get 61 of 95 = TestSound/XC58012 - Blue Crane - Grus paradisea.wav\n",
      "get 62 of 95 = TestSound/XC81962 - Grey-headed Lapwing - Vanellus cinereus.wav\n",
      "get 63 of 95 = TestSound/XC16280 - White-rumped Sandpiper - Calidris fuscicollis.wav\n",
      "get 64 of 95 = TestSound/XC30564 - Silky-tailed Nightjar - Antrostomus sericocaudatus sericocaudatus.wav\n",
      "get 65 of 95 = TestSound/XC128124 - Black-winged Stilt - Himantopus himantopus.wav\n",
      "get 66 of 95 = TestSound/XC20268 - Pygmy Nightjar - Nyctipolus hirundinaceus cearae.wav\n",
      "get 67 of 95 = TestSound/XC64698 - Red-crowned Crane - Grus japonensis.wav\n",
      "get 68 of 95 = TestSound/XC37809 - Alpine Swift - Tachymarptis melba.wav\n",
      "get 69 of 95 = TestSound/XC2394 - Silky-tailed Nightjar - Antrostomus sericocaudatus.wav\n",
      "get 70 of 95 = TestSound/XC51138 - White-tufted Grebe - Rollandia rolland.wav\n",
      "get 71 of 95 = TestSound/XC21433 - Common Ground Dove - Columbina passerina pallescens (1).wav\n",
      "get 72 of 95 = TestSound/XC28533 - Eurasian Coot - Fulica atra.wav\n",
      "get 73 of 95 = TestSound/XC59841 - Andean Avocet - Recurvirostra andina.wav\n",
      "get 74 of 95 = TestSound/XC29798 - Black-winged Stilt - Himantopus himantopus.wav\n",
      "get 75 of 95 = TestSound/XC1147 - Purple Gallinule - Porphyrio martinica.wav\n",
      "get 76 of 95 = TestSound/XC62293 - Grey Crowned Crane - Balearica regulorum regulorum~1.wav\n",
      "get 77 of 95 = TestSound/XC61517 - Ruffed Grouse - Bonasa umbellus.wav\n",
      "get 78 of 95 = TestSound/XC38243 - Masked Lapwing - Vanellus miles.wav\n",
      "get 79 of 95 = TestSound/XC91478 - Pacific Golden Plover - Pluvialis fulva.wav\n",
      "get 80 of 95 = TestSound/XC48567 - Magellanic Oystercatcher - Haematopus leucopodus.wav\n",
      "get 81 of 95 = TestSound/XC17077 - Ruddy Ground Dove - Columbina talpacoti.wav\n",
      "get 82 of 95 = TestSound/XC14381 - American Coot - Fulica americana.wav\n",
      "get 83 of 95 = TestSound/XC100435 - Common Sandpiper - Actitis hypoleucos.wav\n",
      "get 84 of 95 = TestSound/XC95620 - Lesser Swallow-tailed Swift - Panyptila cayennensis.wav\n",
      "get 85 of 95 = TestSound/XC48672 - Picazuro Pigeon - Patagioenas picazuro.wav\n",
      "get 86 of 95 = TestSound/XC28066 - Common Crane - Grus grus.wav\n",
      "get 87 of 95 = TestSound/XC26547 - Great Crested Grebe - Podiceps cristatus cristatus.wav\n",
      "get 88 of 95 = TestSound/XC8140 - Rufous-sided Crake - Laterallus melanophaius.wav\n",
      "get 89 of 95 = TestSound/XC6707 - White-backed Stilt - Himantopus melanurus melanurus.wav\n",
      "get 90 of 95 = TestSound/XC1885 - Short-tailed Swift - Chaetura brachyura.wav\n",
      "get 91 of 95 = TestSound/XC39583 - Ruddy Pigeon - Patagioenas subvinacea.wav\n",
      "get 92 of 95 = TestSound/XC76189 - Stilt Sandpiper - Calidris himantopus.wav\n",
      "get 93 of 95 = TestSound/XC74349 - River Lapwing - Vanellus duvaucelii.wav\n",
      "get 94 of 95 = TestSound/XC95529 - Andean Avocet - Recurvirostra andina.wav\n",
      "get 95 of 95 = TestSound/XC12130 - American Avocet - Recurvirostra americana.wav\n",
      "Calculated 95 feature vectors\n"
     ]
    }
   ],
   "source": [
    "# Load audio files, calculate features and create feature vectors\n",
    "feature_vectors = []\n",
    "sound_paths = []\n",
    "for i,f in enumerate(files):\n",
    "    print (\"get %d of %d = %s\"%(i+1, len(files), f))\n",
    "    try:\n",
    "        y, sr = librosa.load(f, sr=fs)\n",
    "        y/=y.max() #Normalize\n",
    "        if len(y) < 2:\n",
    "            print(\"Error loading %s\" % f)\n",
    "            continue\n",
    "        feat = get_features(y, sr)\n",
    "        feature_vectors.append(feat)\n",
    "        sound_paths.append(f)\n",
    "    except Exception as e:\n",
    "        print(\"Error loading %s. Error: %s\" % (f,e))\n",
    "        \n",
    "print(\"Calculated %d feature vectors\"%len(feature_vectors))"
   ]
  },
  {
   "cell_type": "markdown",
   "metadata": {},
   "source": [
    "## Standardization: Zero-Mean and Unit-Variance"
   ]
  },
  {
   "cell_type": "code",
   "execution_count": 8,
   "metadata": {},
   "outputs": [
    {
     "name": "stdout",
     "output_type": "stream",
     "text": [
      "Feature vectors shape: (95, 13)\n"
     ]
    }
   ],
   "source": [
    "# Scale features using Standard Scaler\n",
    "scaler = StandardScaler()\n",
    "scaled_feature_vectors = scaler.fit_transform(np.array(feature_vectors))\n",
    "print(\"Feature vectors shape:\",scaled_feature_vectors.shape)"
   ]
  },
  {
   "cell_type": "markdown",
   "metadata": {},
   "source": [
    "## t-SNE"
   ]
  },
  {
   "cell_type": "code",
   "execution_count": 9,
   "metadata": {},
   "outputs": [],
   "source": [
    "%matplotlib inline\n",
    "import os\n",
    "import matplotlib\n",
    "import matplotlib.pyplot as plt\n",
    "from matplotlib.offsetbox import OffsetImage, AnnotationBbox\n",
    "import cv2\n",
    "import numpy as np\n",
    "from glob import glob\n",
    "import matplotlib.cm as cm\n",
    "from sklearn.decomposition import PCA\n",
    "from sklearn.manifold import TSNE\n",
    "from sklearn.preprocessing import StandardScaler"
   ]
  },
  {
   "cell_type": "code",
   "execution_count": 10,
   "metadata": {},
   "outputs": [],
   "source": [
    "labels = np.array(classes_num)\n",
    "#labels_ids = np.array(classes_num)\n",
    "labels = np.array(labels)\n",
    "label_to_id_dict = {v:i for i,v in enumerate(np.unique(labels))}\n",
    "id_to_label_dict = {v: k for k, v in label_to_id_dict.items()}\n",
    "label_ids = np.array([label_to_id_dict[x] for x in labels])"
   ]
  },
  {
   "cell_type": "code",
   "execution_count": 11,
   "metadata": {},
   "outputs": [],
   "source": [
    "def visualize_scatter_with_images(X_2d_data, images, figsize=(45,45), image_zoom=1):\n",
    "    fig, ax = plt.subplots(figsize=figsize)\n",
    "    artists = []\n",
    "    for xy, i in zip(X_2d_data, images):\n",
    "        x0, y0 = xy\n",
    "        img = OffsetImage(i, zoom=image_zoom)\n",
    "        ab = AnnotationBbox(img, (x0, y0), xycoords='data', frameon=False)\n",
    "        artists.append(ax.add_artist(ab))\n",
    "    ax.update_datalim(X_2d_data)\n",
    "    ax.autoscale()\n",
    "    plt.show()\n"
   ]
  },
  {
   "cell_type": "code",
   "execution_count": 12,
   "metadata": {},
   "outputs": [],
   "source": [
    "def visualize_scatter(data_2d, label_ids, figsize=(20,20)):\n",
    "    plt.figure(figsize=figsize)\n",
    "    plt.grid()\n",
    "    \n",
    "    nb_classes = len(np.unique(label_ids))\n",
    "    \n",
    "    for label_id in np.unique(label_ids):\n",
    "        plt.scatter(data_2d[np.where(label_ids == label_id), 0],\n",
    "                    data_2d[np.where(label_ids == label_id), 1],\n",
    "                    marker='o',\n",
    "                    color= plt.cm.Set1(label_id / float(nb_classes)),\n",
    "                    linewidth='1',\n",
    "                    alpha=0.8,\n",
    "                    label=id_to_label_dict[label_id])\n",
    "    plt.legend(loc='best')"
   ]
  },
  {
   "cell_type": "code",
   "execution_count": 13,
   "metadata": {},
   "outputs": [
    {
     "data": {
      "text/plain": [
       "(95, 2)"
      ]
     },
     "execution_count": 13,
     "metadata": {},
     "output_type": "execute_result"
    }
   ],
   "source": [
    "import numpy as np\n",
    "from sklearn.manifold import TSNE\n",
    "X_embedded = TSNE(n_components=2).fit_transform(scaled_feature_vectors)\n",
    "X_embedded.shape"
   ]
  },
  {
   "cell_type": "code",
   "execution_count": 14,
   "metadata": {},
   "outputs": [
    {
     "data": {
      "image/png": "[encoded data removed]",
      "text/plain": [
       "<Figure size 1440x1440 with 1 Axes>"
      ]
     },
     "metadata": {
      "needs_background": "light"
     },
     "output_type": "display_data"
    }
   ],
   "source": [
    "visualize_scatter(X_embedded,label_ids)"
   ]
  },
  {
   "cell_type": "markdown",
   "metadata": {},
   "source": [
    "## Train and Test Sets"
   ]
  },
  {
   "cell_type": "code",
   "execution_count": 16,
   "metadata": {},
   "outputs": [],
   "source": [
    "# Create Train and Test Set\n",
    "splitter = StratifiedShuffleSplit(n_splits=1, test_size=testset_size, random_state=0)\n",
    "splits = splitter.split(scaled_feature_vectors, classes_num)\n",
    "for train_index, test_index in splits:\n",
    "    train_set = scaled_feature_vectors[train_index]\n",
    "    test_set = scaled_feature_vectors[test_index]\n",
    "    train_classes = classes_num[train_index]\n",
    "    test_classes = classes_num[test_index]"
   ]
  },
  {
   "cell_type": "code",
   "execution_count": 17,
   "metadata": {},
   "outputs": [
    {
     "name": "stdout",
     "output_type": "stream",
     "text": [
      "train_set shape: (337, 13)\n",
      "test_set shape: (113, 13)\n",
      "train_classes shape: (337,)\n",
      "test_classes shape: (113,)\n"
     ]
    }
   ],
   "source": [
    "# Check Set Shapes\n",
    "print(\"train_set shape:\",train_set.shape)\n",
    "print(\"test_set shape:\",test_set.shape)\n",
    "print(\"train_classes shape:\",train_classes.shape)\n",
    "print(\"test_classes shape:\",test_classes.shape)"
   ]
  },
  {
   "cell_type": "markdown",
   "metadata": {},
   "source": [
    "## 1.kNN Classification"
   ]
  },
  {
   "cell_type": "code",
   "execution_count": 66,
   "metadata": {},
   "outputs": [],
   "source": [
    "# KNN Classifier\n",
    "n_neighbors=1\n",
    "model_knn = KNeighborsClassifier(n_neighbors=n_neighbors)"
   ]
  },
  {
   "cell_type": "code",
   "execution_count": 67,
   "metadata": {},
   "outputs": [],
   "source": [
    "# kNN\n",
    "model_knn.fit(train_set, train_classes);"
   ]
  },
  {
   "cell_type": "code",
   "execution_count": 68,
   "metadata": {},
   "outputs": [],
   "source": [
    "# Predict using the Test Set\n",
    "predicted_labels = model_knn.predict(test_set)"
   ]
  },
  {
   "cell_type": "markdown",
   "metadata": {},
   "source": [
    "## Evaluation"
   ]
  },
  {
   "cell_type": "code",
   "execution_count": 69,
   "metadata": {},
   "outputs": [
    {
     "name": "stdout",
     "output_type": "stream",
     "text": [
      "Recall:  [0.33 0.17 0.43 0.33 0.   0.17 0.   0.   0.17 0.   0.2  0.   0.2  0.\n",
      " 0.   0.2  0.   0.   0.4  0.2 ]\n",
      "Precision:  [0.33 0.08 0.6  0.33 0.   0.08 0.   0.   0.11 0.   0.14 0.   0.17 0.\n",
      " 0.   0.2  0.   0.   0.4  0.5 ]\n",
      "F1-Score:  [0.33 0.11 0.5  0.33 0.   0.11 0.   0.   0.13 0.   0.17 0.   0.18 0.\n",
      " 0.   0.2  0.   0.   0.4  0.29]\n",
      "Accuracy: 0.14  , 16\n",
      "Number of samples: 113\n"
     ]
    }
   ],
   "source": [
    "# Recall - the ability of the classifier to find all the positive samples\n",
    "print(\"Recall: \", recall_score(test_classes, predicted_labels,average=None))\n",
    "\n",
    "# Precision - The precision is intuitively the ability of the classifier not to \n",
    "#label as positive a sample that is negative\n",
    "print(\"Precision: \", precision_score(test_classes, predicted_labels,average=None))\n",
    "\n",
    "# F1-Score - The F1 score can be interpreted as a weighted average of the precision \n",
    "#and recall\n",
    "print(\"F1-Score: \", f1_score(test_classes, predicted_labels, average=None))\n",
    "\n",
    "# Accuracy - the number of correctly classified samples\n",
    "print(\"Accuracy: %.2f  ,\" % accuracy_score(test_classes, predicted_labels,normalize=True), accuracy_score(test_classes, predicted_labels,normalize=False) )\n",
    "print(\"Number of samples:\",test_classes.shape[0])"
   ]
  },
  {
   "cell_type": "code",
   "execution_count": 70,
   "metadata": {},
   "outputs": [],
   "source": [
    "# Compute confusion matrix\n",
    "cnf_matrix = confusion_matrix(test_classes, predicted_labels)\n",
    "np.set_printoptions(precision=2)"
   ]
  },
  {
   "cell_type": "code",
   "execution_count": 23,
   "metadata": {},
   "outputs": [],
   "source": [
    "# Function to Plot Confusion Matrix\n",
    "# http://scikit-learn.org/stable/auto_examples/model_selection/plot_confusion_matrix.html\n",
    "def plot_confusion_matrix(cm, classes,\n",
    "                          normalize=False,\n",
    "                          title='Confusion matrix',\n",
    "                          cmap=plt.cm.Blues):\n",
    "    \"\"\"\n",
    "    This function prints and plots the confusion matrix.\n",
    "    Normalization can be applied by setting `normalize=True`.\n",
    "    \n",
    "    if normalize:\n",
    "        cm = cm.astype('float') / cm.sum(axis=1)[:, np.newaxis]\n",
    "        print(\"Normalized confusion matrix\")\n",
    "    else:\n",
    "        print('Confusion matrix, without normalization')\n",
    "    \"\"\"\n",
    "    #print(cm)\n",
    "\n",
    "    plt.imshow(cm, interpolation='nearest', cmap=cmap)\n",
    "    plt.title(title)\n",
    "    plt.colorbar()\n",
    "    tick_marks = np.arange(len(classes))\n",
    "    plt.xticks(tick_marks, classes, rotation=45)\n",
    "    plt.yticks(tick_marks, classes)\n",
    "\n",
    "    fmt = '.2f' if normalize else 'd'\n",
    "    thresh = cm.max() / 2.\n",
    "    for i, j in itertools.product(range(cm.shape[0]), range(cm.shape[1])):\n",
    "        plt.text(j, i, format(cm[i, j], fmt),\n",
    "                 horizontalalignment=\"center\",\n",
    "                 color=\"white\" if cm[i, j] > thresh else \"black\")\n",
    "\n",
    "    plt.tight_layout()\n",
    "    plt.ylabel('True label')\n",
    "    plt.xlabel('Predicted label')"
   ]
  },
  {
   "cell_type": "code",
   "execution_count": 24,
   "metadata": {},
   "outputs": [
    {
     "data": {
      "image/png": "[encoded data removed]",
      "text/plain": [
       "<Figure size 1296x936 with 2 Axes>"
      ]
     },
     "metadata": {
      "needs_background": "light"
     },
     "output_type": "display_data"
    }
   ],
   "source": [
    "# Plot non-normalized confusion matrix\n",
    "plt.figure(figsize=(18,13))\n",
    "plot_confusion_matrix(cnf_matrix, classes=labelencoder.classes_,\n",
    "                      title='Confusion matrix, without normalization')"
   ]
  },
  {
   "cell_type": "code",
   "execution_count": 25,
   "metadata": {},
   "outputs": [],
   "source": [
    "# Find wrong predicted samples indexes\n",
    "#wrong_predictions = [i for i, (e1, e2) in enumerate(zip(test_classes, predicted_labels)) if e1 != e2]\n",
    "wrong_predictions = [i for i, (e1, e2) in enumerate(zip(predicted_labels,test_classes)) if e1 != e2]"
   ]
  },
  {
   "cell_type": "code",
   "execution_count": 26,
   "metadata": {},
   "outputs": [
    {
     "name": "stdout",
     "output_type": "stream",
     "text": [
      "[ 6  7  4 16  0  1  9  3  8  4 15  9  2  9 14  8  3  6  6  6 14 17 11 14\n",
      " 19 19  3 11  6  4 13 10 11 12 18  0 17 17  8  1  6  7 11  5 12  7 16  5\n",
      " 16  5 16 10  6  2 11  7 10  7  4  4 13 13  0  5 15  1  9  2  7 19  8  2\n",
      "  9  0 12 13 14 18 13  8  1 19 17  4 12 15 17 14  5  3 18 15  4 10 16  1\n",
      "  9]\n",
      "[ 8 11  5 10 15 17 13  0 18 12  6 17 10 19 10  1  1 13  8  8  9  1 10  7\n",
      "  5  4 11  5  5  6  9  2 17 10 12  7  8  7  5  0  5 12 17  9  1 15 11  8\n",
      "  8  6  1  0  5 18 14 13  7  5 13  1  3  5  6  3 13 14 12 13  5 13 11  3\n",
      "  1 13  1  2  6 17 17 10 13  3 12 15  1  8  5 16  0 13  1  4 18 15 11  8\n",
      "  1]\n",
      "['Lapwing' 'Pheasant' 'Gallinule' 'Oystercatcher' 'Rail' 'Stilt' 'Plover'\n",
      " 'Avocet' 'Swift' 'Pigeon' 'Grebe' 'Stilt' 'Oystercatcher' 'Turaco'\n",
      " 'Oystercatcher' 'Coot' 'Coot' 'Plover' 'Lapwing' 'Lapwing' 'Nightjar'\n",
      " 'Coot' 'Oystercatcher' 'Grouse' 'Gallinule' 'Dove' 'Pheasant' 'Gallinule'\n",
      " 'Gallinule' 'Grebe' 'Nightjar' 'Crake' 'Stilt' 'Oystercatcher' 'Pigeon'\n",
      " 'Grouse' 'Lapwing' 'Grouse' 'Gallinule' 'Avocet' 'Gallinule' 'Pigeon'\n",
      " 'Stilt' 'Nightjar' 'Coot' 'Rail' 'Pheasant' 'Lapwing' 'Lapwing' 'Grebe'\n",
      " 'Coot' 'Avocet' 'Gallinule' 'Swift' 'Quail' 'Plover' 'Grouse' 'Gallinule'\n",
      " 'Plover' 'Coot' 'Crane' 'Gallinule' 'Grebe' 'Crane' 'Plover' 'Quail'\n",
      " 'Pigeon' 'Plover' 'Gallinule' 'Plover' 'Pheasant' 'Crane' 'Coot' 'Plover'\n",
      " 'Coot' 'Crake' 'Grebe' 'Stilt' 'Stilt' 'Oystercatcher' 'Plover' 'Crane'\n",
      " 'Pigeon' 'Rail' 'Coot' 'Lapwing' 'Gallinule' 'Sandpiper' 'Avocet'\n",
      " 'Plover' 'Coot' 'Dove' 'Swift' 'Rail' 'Pheasant' 'Lapwing' 'Coot']\n",
      "['BirdSound/Grebe/XC185652 - Little Grebe - Tachybaptus ruficollis.wav'\n",
      " 'BirdSound/Grouse/XC451470 - Black-faced Sandgrouse - Pterocles decoratus ellenbecki.wav'\n",
      " 'BirdSound/Dove/XC238202 - Croaking Ground Dove - Columbina cruziana.wav'\n",
      " 'BirdSound/Sandpiper/XC161585 - Solitary Sandpiper - Tringa solitaria.wav'\n",
      " 'BirdSound/Avocet/XC317972 - American Avocet - Recurvirostra americana.wav'\n",
      " 'BirdSound/Coot/XC44706 - Eurasian Coot - Fulica atra atra.wav'\n",
      " 'BirdSound/Nightjar/XC290528 - Malaysian Eared Nightjar - Lyncornis temminckii.wav'\n",
      " 'BirdSound/Crane/XC432843 - Common Crane - Grus grus.wav'\n",
      " 'BirdSound/Lapwing/XC81962 - Grey-headed Lapwing - Vanellus cinereus.wav'\n",
      " 'BirdSound/Dove/XC197100 - Spotted Dove - Spilopelia chinensis.wav'\n",
      " \"BirdSound/Rail/XC110658 - Ridgway's Rail - Rallus obsoletus yumanensis.wav\"\n",
      " 'BirdSound/Nightjar/XC257052 - Ladder-tailed Nightjar - Hydropsalis climacocerca climacocerca.wav'\n",
      " 'BirdSound/Crake/XC119289 - Russet-crowned Crake - Laterallus viridis.wav'\n",
      " 'BirdSound/Nightjar/XC30564 - Silky-tailed Nightjar - Antrostomus sericocaudatus sericocaudatus.wav'\n",
      " 'BirdSound/Quail/XC406904 - Black-eared Wood Quail - Odontophorus melanotis melanotis.wav'\n",
      " 'BirdSound/Lapwing/XC300855 - Spot-breasted Lapwing - Vanellus melanocephalus (1).wav'\n",
      " 'BirdSound/Crane/XC107471 - Sandhill Crane - Antigone canadensis.wav'\n",
      " 'BirdSound/Grebe/XC280980 - Little Grebe - Tachybaptus ruficollis.wav'\n",
      " 'BirdSound/Grebe/XC26547 - Great Crested Grebe - Podiceps cristatus cristatus.wav'\n",
      " 'BirdSound/Grebe/XC55584 - Least Grebe - Tachybaptus dominicus.wav'\n",
      " 'BirdSound/Quail/XC251278 - Marbled Wood Quail - Odontophorus gujanensis buckleyi.wav'\n",
      " 'BirdSound/Stilt/XC6707 - White-backed Stilt - Himantopus melanurus melanurus.wav'\n",
      " 'BirdSound/Pheasant/XC422829 - Common Pheasant - Phasianus colchicus.wav'\n",
      " 'BirdSound/Quail/XC53487 - California Quail - Callipepla californica.wav'\n",
      " 'BirdSound/Turaco/XC361401 - Knysna Turaco - Tauraco corythaix.wav'\n",
      " 'BirdSound/Turaco/XC72452 - Purple-crested Turaco - Tauraco porphyreolophus.wav'\n",
      " 'BirdSound/Crane/XC409607 - Red-crowned Crane - Grus japonensis.wav'\n",
      " 'BirdSound/Pheasant/XC115583 - Common Pheasant - Phasianus colchicus.wav'\n",
      " 'BirdSound/Grebe/XC442038 - Little Grebe - Tachybaptus ruficollis.wav'\n",
      " 'BirdSound/Dove/XC367411 - European Turtle Dove - Streptopelia turtur.wav'\n",
      " 'BirdSound/Plover/XC14345 - Purple-crowned Plovercrest - Stephanoxis loddigesii.wav'\n",
      " 'BirdSound/Oystercatcher/XC449757 - Eurasian Oystercatcher - Haematopus ostralegus.wav'\n",
      " 'BirdSound/Pheasant/XC99473 - Common Pheasant - Phasianus colchicus.wav'\n",
      " 'BirdSound/Pigeon/XC166060 - Orange-breasted Green Pigeon - Treron bicinctus.wav'\n",
      " 'BirdSound/Swift/XC37809 - Alpine Swift - Tachymarptis melba.wav'\n",
      " 'BirdSound/Avocet/XC188266 - Pied Avocet - Recurvirostra avosetta.wav'\n",
      " 'BirdSound/Stilt/XC224234 - Black-necked Stilt - Himantopus mexicanus.wav'\n",
      " 'BirdSound/Stilt/XC193722 - Black-winged Stilt - Himantopus himantopus.wav'\n",
      " 'BirdSound/Lapwing/XC425220 - Spur-winged Lapwing - Vanellus spinosus.wav'\n",
      " 'BirdSound/Coot/XC48557 - Red-fronted Coot - Fulica rufifrons.wav'\n",
      " 'BirdSound/Grebe/XC54500 - Pied-billed Grebe - Podilymbus podiceps antarcticus.wav'\n",
      " 'BirdSound/Grouse/XC469667 - Black Grouse - Lyrurus tetrix.wav'\n",
      " 'BirdSound/Pheasant/XC437853 - Common Pheasant - Phasianus colchicus.wav'\n",
      " 'BirdSound/Gallinule/XC1147 - Purple Gallinule - Porphyrio martinica.wav'\n",
      " 'BirdSound/Pigeon/XC221376 - Short-billed Pigeon - Patagioenas nigrirostris.wav'\n",
      " 'BirdSound/Grouse/XC320022 - Dusky Grouse - Dendragapus obscurus.wav'\n",
      " 'BirdSound/Sandpiper/XC426254 - Green Sandpiper - Tringa ochropus.wav'\n",
      " 'BirdSound/Gallinule/XC7979 - Common Gallinule - Gallinula galeata.wav'\n",
      " 'BirdSound/Sandpiper/XC145934 - Stilt Sandpiper - Calidris himantopus.wav'\n",
      " 'BirdSound/Gallinule/XC228563 - Purple Gallinule - Porphyrio martinica.wav'\n",
      " 'BirdSound/Sandpiper/XC255373 - Spotted Sandpiper - Actitis macularius.wav'\n",
      " 'BirdSound/Oystercatcher/XC411158 - Eurasian Oystercatcher - Haematopus ostralegus ostralegus.wav'\n",
      " 'BirdSound/Grebe/XC451358 - Pied-billed Grebe - Podilymbus podiceps.wav'\n",
      " 'BirdSound/Crake/XC94670 - Russet-crowned Crake - Laterallus viridis.wav'\n",
      " 'BirdSound/Pheasant/XC384627 - Common Pheasant - Phasianus colchicus.wav'\n",
      " 'BirdSound/Grouse/XC92111 - Hazel Grouse - Tetrastes bonasia.wav'\n",
      " 'BirdSound/Oystercatcher/XC28379 - Magellanic Oystercatcher - Haematopus leucopodus.wav'\n",
      " 'BirdSound/Grouse/XC77993 - Ruffed Grouse - Bonasa umbellus incana.wav'\n",
      " 'BirdSound/Quail/XC113194 - Ruddy Quail-Dove - Geotrygon montana.wav'\n",
      " 'BirdSound/Dove/XC315273 - Blue Ground Dove - Claravis pretiosa.wav'\n",
      " 'BirdSound/Plover/XC378002 - Common Ringed Plover - Charadrius hiaticula.wav'\n",
      " 'BirdSound/Plover/XC51732 - Collared Plover - Charadrius collaris.wav'\n",
      " 'BirdSound/Avocet/XC313293 - Pied Avocet - Recurvirostra avosetta.wav'\n",
      " 'BirdSound/Gallinule/XC452961 - Common Gallinule - Gallinula galeata.wav'\n",
      " 'BirdSound/Rail/XC217119 - Black Rail - Laterallus jamaicensis.wav'\n",
      " 'BirdSound/Coot/XC89324 - American Coot - Fulica americana.wav'\n",
      " 'BirdSound/Nightjar/XC357069 - Freckled Nightjar - Caprimulgus tristigma.wav'\n",
      " 'BirdSound/Crake/XC237988 - Chestnut-headed Crake - Anurolimnas castaneiceps castaneiceps.wav'\n",
      " 'BirdSound/Grouse/XC61517 - Ruffed Grouse - Bonasa umbellus.wav'\n",
      " \"BirdSound/Turaco/XC115970 - Livingstone's Turaco - Tauraco livingstonii.wav\"\n",
      " 'BirdSound/Lapwing/XC300861 - Spot-breasted Lapwing - Vanellus melanocephalus (1).wav'\n",
      " 'BirdSound/Crake/XC69265 - Spotless Crake - Porzana tabuensis.wav'\n",
      " 'BirdSound/Nightjar/XC51584 - Scissor-tailed Nightjar - Hydropsalis torquata.wav'\n",
      " 'BirdSound/Avocet/XC146958 - Andean Avocet - Recurvirostra andina.wav'\n",
      " 'BirdSound/Pigeon/XC486547 - Hill Pigeon - Columba rupestris.wav'\n",
      " 'BirdSound/Sandpiper/XC348861 - Diademed Sandpiper-Plover - Phegornis mitchellii.wav'\n",
      " 'BirdSound/Quail/XC153452 - California Quail - Callipepla californica.wav'\n",
      " 'BirdSound/Swift/XC1885 - Short-tailed Swift - Chaetura brachyura.wav'\n",
      " 'BirdSound/Plover/XC220898 - Collared Plover - Charadrius collaris.wav'\n",
      " 'BirdSound/Lapwing/XC368211 - Red-wattled Lapwing - Vanellus indicus.wav'\n",
      " 'BirdSound/Coot/XC48552 - Red-gartered Coot - Fulica armillata.wav'\n",
      " 'BirdSound/Turaco/XC99831 - Yellow-billed Turaco - Tauraco macrorhynchus verreauxii.wav'\n",
      " 'BirdSound/Stilt/XC304651 - Black-necked Stilt - Himantopus mexicanus.wav'\n",
      " 'BirdSound/Dove/XC90873 - Laughing Dove - Spilopelia senegalensis phoenicophila.wav'\n",
      " 'BirdSound/Pigeon/XC238773 - Scaled Pigeon - Patagioenas speciosa.wav'\n",
      " 'BirdSound/Rail/XC273674 - Bogota Rail - Rallus semiplumbeus.wav'\n",
      " 'BirdSound/Stilt/XC280353 - Black-winged Stilt - Himantopus himantopus.wav'\n",
      " 'BirdSound/Quail/XC20798 - Rufous-breasted Wood Quail - Odontophorus speciosus soderstromii.wav'\n",
      " 'BirdSound/Gallinule/XC326531 - Purple Gallinule - Porphyrio martinica.wav'\n",
      " 'BirdSound/Crane/XC167449 - Demoiselle Crane - Grus virgo.wav'\n",
      " 'BirdSound/Swift/XC303387 - White-chinned Swift - Cypseloides cryptus.wav'\n",
      " 'BirdSound/Rail/XC10309 - Bogota Rail - Rallus semiplumbeus semiplumbeus.wav'\n",
      " 'BirdSound/Dove/XC389564 - Blue Ground Dove - Claravis pretiosa.wav'\n",
      " 'BirdSound/Oystercatcher/XC60035 - Blackish Oystercatcher - Haematopus ater.wav'\n",
      " 'BirdSound/Sandpiper/XC30141 - White-rumped Sandpiper - Calidris fuscicollis.wav'\n",
      " 'BirdSound/Coot/XC302637 - Eurasian Coot - Fulica atra.wav'\n",
      " 'BirdSound/Nightjar/XC43206 - Sickle-winged Nightjar - Eleothreptus anomalus.wav']\n"
     ]
    }
   ],
   "source": [
    "# Find wrong predicted audio files\n",
    "print(np.array(labels)[test_index[wrong_predictions]])\n",
    "print(predicted_labels[wrong_predictions].T)\n",
    "print(labelencoder.inverse_transform(predicted_labels[wrong_predictions]))\n",
    "print(np.array(files)[test_index[wrong_predictions]])"
   ]
  },
  {
   "cell_type": "markdown",
   "metadata": {},
   "source": [
    "## 2. Logistic Regression"
   ]
  },
  {
   "cell_type": "code",
   "execution_count": 27,
   "metadata": {},
   "outputs": [],
   "source": [
    "from sklearn.linear_model import LogisticRegression"
   ]
  },
  {
   "cell_type": "code",
   "execution_count": 28,
   "metadata": {},
   "outputs": [],
   "source": [
    "model_Logistic = LogisticRegression(random_state=0, solver='lbfgs', multi_class='multinomial')"
   ]
  },
  {
   "cell_type": "code",
   "execution_count": 29,
   "metadata": {},
   "outputs": [],
   "source": [
    "model_Logistic.fit(train_set, train_classes);"
   ]
  },
  {
   "cell_type": "markdown",
   "metadata": {},
   "source": [
    "## Save / Load Trained Model"
   ]
  },
  {
   "cell_type": "code",
   "execution_count": 31,
   "metadata": {},
   "outputs": [],
   "source": [
    "# Save\n",
    "#joblib.dump(model_Logistic, 'Mfcc_trainedLogisticRegression.joblib')\n",
    "#Load\n",
    "#svclassifier = joblib.load('filename.joblib') "
   ]
  },
  {
   "cell_type": "code",
   "execution_count": 32,
   "metadata": {},
   "outputs": [],
   "source": [
    "# Predict using the Test Set\n",
    "#predicted_labels = model_svm.predict(test_set)\n",
    "predicted_labels = model_Logistic.predict(test_set)"
   ]
  },
  {
   "cell_type": "markdown",
   "metadata": {},
   "source": [
    "## Evaluation"
   ]
  },
  {
   "cell_type": "code",
   "execution_count": 33,
   "metadata": {},
   "outputs": [
    {
     "name": "stdout",
     "output_type": "stream",
     "text": [
      "Recall:  [0.67 0.33 0.14 0.67 0.14 0.   0.14 0.5  0.17 0.17 0.2  0.2  0.   0.\n",
      " 0.   0.   0.   0.   0.4  0.4 ]\n",
      "Precision:  [0.57 0.15 0.25 0.57 0.1  0.   0.33 0.5  0.11 0.11 0.5  0.25 0.   0.\n",
      " 0.   0.   0.   0.   0.18 0.5 ]\n",
      "F1-Score:  [0.62 0.21 0.18 0.62 0.12 0.   0.2  0.5  0.13 0.13 0.29 0.22 0.   0.\n",
      " 0.   0.   0.   0.   0.25 0.44]\n",
      "Accuracy: 0.21  , 24\n",
      "Number of samples: 113\n"
     ]
    }
   ],
   "source": [
    "# Recall - the ability of the classifier to find all the positive samples\n",
    "print(\"Recall: \", recall_score(test_classes, predicted_labels,average=None))\n",
    "\n",
    "# Precision - The precision is intuitively the ability of the classifier not to \n",
    "#label as positive a sample that is negative\n",
    "print(\"Precision: \", precision_score(test_classes, predicted_labels,average=None))\n",
    "\n",
    "# F1-Score - The F1 score can be interpreted as a weighted average of the precision \n",
    "#and recall\n",
    "print(\"F1-Score: \", f1_score(test_classes, predicted_labels, average=None))\n",
    "\n",
    "# Accuracy - the number of correctly classified samples\n",
    "print(\"Accuracy: %.2f  ,\" % accuracy_score(test_classes, predicted_labels,normalize=True), accuracy_score(test_classes, predicted_labels,normalize=False) )\n",
    "print(\"Number of samples:\",test_classes.shape[0])"
   ]
  },
  {
   "cell_type": "code",
   "execution_count": 34,
   "metadata": {},
   "outputs": [],
   "source": [
    "# Compute confusion matrix\n",
    "cnf_matrix = confusion_matrix(test_classes, predicted_labels)\n",
    "np.set_printoptions(precision=2)"
   ]
  },
  {
   "cell_type": "code",
   "execution_count": 35,
   "metadata": {},
   "outputs": [],
   "source": [
    "# Function to Plot Confusion Matrix\n",
    "# http://scikit-learn.org/stable/auto_examples/model_selection/plot_confusion_matrix.html\n",
    "def plot_confusion_matrix(cm, classes,\n",
    "                          normalize=False,\n",
    "                          title='Confusion matrix',\n",
    "                          cmap=plt.cm.Blues):\n",
    "    \"\"\"\n",
    "    This function prints and plots the confusion matrix.\n",
    "    Normalization can be applied by setting `normalize=True`.\n",
    "    \n",
    "    if normalize:\n",
    "        cm = cm.astype('float') / cm.sum(axis=1)[:, np.newaxis]\n",
    "        print(\"Normalized confusion matrix\")\n",
    "    else:\n",
    "        print('Confusion matrix, without normalization')\n",
    "    \"\"\"\n",
    "    #print(cm)\n",
    "\n",
    "    plt.imshow(cm, interpolation='nearest', cmap=cmap)\n",
    "    plt.title(title)\n",
    "    plt.colorbar()\n",
    "    tick_marks = np.arange(len(classes))\n",
    "    plt.xticks(tick_marks, classes, rotation=45)\n",
    "    plt.yticks(tick_marks, classes)\n",
    "\n",
    "    fmt = '.2f' if normalize else 'd'\n",
    "    thresh = cm.max() / 2.\n",
    "    for i, j in itertools.product(range(cm.shape[0]), range(cm.shape[1])):\n",
    "        plt.text(j, i, format(cm[i, j], fmt),\n",
    "                 horizontalalignment=\"center\",\n",
    "                 color=\"white\" if cm[i, j] > thresh else \"black\")\n",
    "\n",
    "    plt.tight_layout()\n",
    "    plt.ylabel('True label')\n",
    "    plt.xlabel('Predicted label')"
   ]
  },
  {
   "cell_type": "code",
   "execution_count": 36,
   "metadata": {},
   "outputs": [
    {
     "data": {
      "image/png": "[encoded data removed]",
      "text/plain": [
       "<Figure size 1296x936 with 2 Axes>"
      ]
     },
     "metadata": {
      "needs_background": "light"
     },
     "output_type": "display_data"
    }
   ],
   "source": [
    "# Plot non-normalized confusion matrix\n",
    "plt.figure(figsize=(18,13))\n",
    "plot_confusion_matrix(cnf_matrix, classes=labelencoder.classes_,\n",
    "                      title='Confusion matrix, without normalization')"
   ]
  },
  {
   "cell_type": "code",
   "execution_count": 37,
   "metadata": {},
   "outputs": [],
   "source": [
    "# Find wrong predicted samples indexes\n",
    "#wrong_predictions = [i for i, (e1, e2) in enumerate(zip(test_classes, predicted_labels)) if e1 != e2]\n",
    "wrong_predictions = [i for i, (e1, e2) in enumerate(zip(predicted_labels,test_classes)) if e1 != e2]"
   ]
  },
  {
   "cell_type": "code",
   "execution_count": 38,
   "metadata": {},
   "outputs": [
    {
     "name": "stdout",
     "output_type": "stream",
     "text": [
      "[ 6  4 16  0  9  8  8  4 15  2  9  2  9 14  8  3  6  6 14 17 11 14 19 11\n",
      "  6  4 13 11 12 18  0 17 17  5  1  6  2 11  5 12 16  5 16  5 16 10  6  1\n",
      "  7 10  7  4  4 19 13 13  5 15  2  7 15 19  8 12  2 10  9 12 13 14 18 13\n",
      "  8  1 17 12 15 17 14  5  3 18 15  4 10 16  2  1  9]\n",
      "[ 4  9  0  5 13  4 16 18 12 19  8 18 15  5  1  1  9 18  9  1 12 11  3 12\n",
      " 16  1  9  1  2 12  5  6 13  4 14  4 17  1  4  4 12  8  9  3  1  0  8  3\n",
      " 12  5  5 17  6  7 14  1 11  8  9  9 10 18  1  7  4  0 12  8 18  7 17  1\n",
      "  2  4  1 18  8  8  9  8  2  4 12 18 18 19 18 11 16]\n",
      "['Dove' 'Nightjar' 'Avocet' 'Gallinule' 'Plover' 'Dove' 'Sandpiper'\n",
      " 'Swift' 'Pigeon' 'Turaco' 'Lapwing' 'Swift' 'Rail' 'Gallinule' 'Coot'\n",
      " 'Coot' 'Nightjar' 'Swift' 'Nightjar' 'Coot' 'Pigeon' 'Pheasant' 'Crane'\n",
      " 'Pigeon' 'Sandpiper' 'Coot' 'Nightjar' 'Coot' 'Crake' 'Pigeon'\n",
      " 'Gallinule' 'Grebe' 'Plover' 'Dove' 'Quail' 'Dove' 'Stilt' 'Coot' 'Dove'\n",
      " 'Dove' 'Pigeon' 'Lapwing' 'Nightjar' 'Crane' 'Coot' 'Avocet' 'Lapwing'\n",
      " 'Crane' 'Pigeon' 'Gallinule' 'Gallinule' 'Stilt' 'Grebe' 'Grouse' 'Quail'\n",
      " 'Coot' 'Pheasant' 'Lapwing' 'Nightjar' 'Nightjar' 'Oystercatcher' 'Swift'\n",
      " 'Coot' 'Grouse' 'Dove' 'Avocet' 'Pigeon' 'Lapwing' 'Swift' 'Grouse'\n",
      " 'Stilt' 'Coot' 'Crake' 'Dove' 'Coot' 'Swift' 'Lapwing' 'Lapwing'\n",
      " 'Nightjar' 'Lapwing' 'Crake' 'Dove' 'Pigeon' 'Swift' 'Swift' 'Turaco'\n",
      " 'Swift' 'Pheasant' 'Sandpiper']\n",
      "['BirdSound/Grebe/XC185652 - Little Grebe - Tachybaptus ruficollis.wav'\n",
      " 'BirdSound/Dove/XC238202 - Croaking Ground Dove - Columbina cruziana.wav'\n",
      " 'BirdSound/Sandpiper/XC161585 - Solitary Sandpiper - Tringa solitaria.wav'\n",
      " 'BirdSound/Avocet/XC317972 - American Avocet - Recurvirostra americana.wav'\n",
      " 'BirdSound/Nightjar/XC290528 - Malaysian Eared Nightjar - Lyncornis temminckii.wav'\n",
      " 'BirdSound/Lapwing/XC307119 - Grey-headed Lapwing - Vanellus cinereus.wav'\n",
      " 'BirdSound/Lapwing/XC81962 - Grey-headed Lapwing - Vanellus cinereus.wav'\n",
      " 'BirdSound/Dove/XC197100 - Spotted Dove - Spilopelia chinensis.wav'\n",
      " \"BirdSound/Rail/XC110658 - Ridgway's Rail - Rallus obsoletus yumanensis.wav\"\n",
      " 'BirdSound/Crake/XC13469 - Black-banded Crake - Laterallus fasciatus.wav'\n",
      " 'BirdSound/Nightjar/XC257052 - Ladder-tailed Nightjar - Hydropsalis climacocerca climacocerca.wav'\n",
      " 'BirdSound/Crake/XC119289 - Russet-crowned Crake - Laterallus viridis.wav'\n",
      " 'BirdSound/Nightjar/XC30564 - Silky-tailed Nightjar - Antrostomus sericocaudatus sericocaudatus.wav'\n",
      " 'BirdSound/Quail/XC406904 - Black-eared Wood Quail - Odontophorus melanotis melanotis.wav'\n",
      " 'BirdSound/Lapwing/XC300855 - Spot-breasted Lapwing - Vanellus melanocephalus (1).wav'\n",
      " 'BirdSound/Crane/XC107471 - Sandhill Crane - Antigone canadensis.wav'\n",
      " 'BirdSound/Grebe/XC280980 - Little Grebe - Tachybaptus ruficollis.wav'\n",
      " 'BirdSound/Grebe/XC55584 - Least Grebe - Tachybaptus dominicus.wav'\n",
      " 'BirdSound/Quail/XC251278 - Marbled Wood Quail - Odontophorus gujanensis buckleyi.wav'\n",
      " 'BirdSound/Stilt/XC6707 - White-backed Stilt - Himantopus melanurus melanurus.wav'\n",
      " 'BirdSound/Pheasant/XC422829 - Common Pheasant - Phasianus colchicus.wav'\n",
      " 'BirdSound/Quail/XC53487 - California Quail - Callipepla californica.wav'\n",
      " 'BirdSound/Turaco/XC72452 - Purple-crested Turaco - Tauraco porphyreolophus.wav'\n",
      " 'BirdSound/Pheasant/XC115583 - Common Pheasant - Phasianus colchicus.wav'\n",
      " 'BirdSound/Grebe/XC442038 - Little Grebe - Tachybaptus ruficollis.wav'\n",
      " 'BirdSound/Dove/XC367411 - European Turtle Dove - Streptopelia turtur.wav'\n",
      " 'BirdSound/Plover/XC14345 - Purple-crowned Plovercrest - Stephanoxis loddigesii.wav'\n",
      " 'BirdSound/Pheasant/XC99473 - Common Pheasant - Phasianus colchicus.wav'\n",
      " 'BirdSound/Pigeon/XC166060 - Orange-breasted Green Pigeon - Treron bicinctus.wav'\n",
      " 'BirdSound/Swift/XC37809 - Alpine Swift - Tachymarptis melba.wav'\n",
      " 'BirdSound/Avocet/XC188266 - Pied Avocet - Recurvirostra avosetta.wav'\n",
      " 'BirdSound/Stilt/XC224234 - Black-necked Stilt - Himantopus mexicanus.wav'\n",
      " 'BirdSound/Stilt/XC193722 - Black-winged Stilt - Himantopus himantopus.wav'\n",
      " 'BirdSound/Gallinule/XC139954 - Common Gallinule - Gallinula galeata.wav'\n",
      " 'BirdSound/Coot/XC48557 - Red-fronted Coot - Fulica rufifrons.wav'\n",
      " 'BirdSound/Grebe/XC54500 - Pied-billed Grebe - Podilymbus podiceps antarcticus.wav'\n",
      " 'BirdSound/Crake/XC349171 - Ocellated Crake - Micropygia schomburgkii.wav'\n",
      " 'BirdSound/Pheasant/XC437853 - Common Pheasant - Phasianus colchicus.wav'\n",
      " 'BirdSound/Gallinule/XC1147 - Purple Gallinule - Porphyrio martinica.wav'\n",
      " 'BirdSound/Pigeon/XC221376 - Short-billed Pigeon - Patagioenas nigrirostris.wav'\n",
      " 'BirdSound/Sandpiper/XC426254 - Green Sandpiper - Tringa ochropus.wav'\n",
      " 'BirdSound/Gallinule/XC7979 - Common Gallinule - Gallinula galeata.wav'\n",
      " 'BirdSound/Sandpiper/XC145934 - Stilt Sandpiper - Calidris himantopus.wav'\n",
      " 'BirdSound/Gallinule/XC228563 - Purple Gallinule - Porphyrio martinica.wav'\n",
      " 'BirdSound/Sandpiper/XC255373 - Spotted Sandpiper - Actitis macularius.wav'\n",
      " 'BirdSound/Oystercatcher/XC411158 - Eurasian Oystercatcher - Haematopus ostralegus ostralegus.wav'\n",
      " 'BirdSound/Grebe/XC451358 - Pied-billed Grebe - Podilymbus podiceps.wav'\n",
      " 'BirdSound/Coot/XC14381 - American Coot - Fulica americana~1.wav'\n",
      " 'BirdSound/Grouse/XC92111 - Hazel Grouse - Tetrastes bonasia.wav'\n",
      " 'BirdSound/Oystercatcher/XC28379 - Magellanic Oystercatcher - Haematopus leucopodus.wav'\n",
      " 'BirdSound/Grouse/XC77993 - Ruffed Grouse - Bonasa umbellus incana.wav'\n",
      " 'BirdSound/Quail/XC113194 - Ruddy Quail-Dove - Geotrygon montana.wav'\n",
      " 'BirdSound/Dove/XC315273 - Blue Ground Dove - Claravis pretiosa.wav'\n",
      " 'BirdSound/Turaco/XC103430 - Yellow-billed Turaco - Tauraco macrorhynchus macrorhynchus.wav'\n",
      " 'BirdSound/Plover/XC378002 - Common Ringed Plover - Charadrius hiaticula.wav'\n",
      " 'BirdSound/Plover/XC51732 - Collared Plover - Charadrius collaris.wav'\n",
      " 'BirdSound/Gallinule/XC452961 - Common Gallinule - Gallinula galeata.wav'\n",
      " 'BirdSound/Rail/XC217119 - Black Rail - Laterallus jamaicensis.wav'\n",
      " 'BirdSound/Crake/XC237988 - Chestnut-headed Crake - Anurolimnas castaneiceps castaneiceps.wav'\n",
      " 'BirdSound/Grouse/XC61517 - Ruffed Grouse - Bonasa umbellus.wav'\n",
      " 'BirdSound/Rail/XC475407 - Water Rail - Rallus aquaticus.wav'\n",
      " \"BirdSound/Turaco/XC115970 - Livingstone's Turaco - Tauraco livingstonii.wav\"\n",
      " 'BirdSound/Lapwing/XC300861 - Spot-breasted Lapwing - Vanellus melanocephalus (1).wav'\n",
      " 'BirdSound/Pigeon/XC48673 - Picazuro Pigeon - Patagioenas picazuro.wav'\n",
      " 'BirdSound/Crake/XC69265 - Spotless Crake - Porzana tabuensis.wav'\n",
      " 'BirdSound/Oystercatcher/XC25075 - Eurasian Oystercatcher - Haematopus ostralegus.wav'\n",
      " 'BirdSound/Nightjar/XC51584 - Scissor-tailed Nightjar - Hydropsalis torquata.wav'\n",
      " 'BirdSound/Pigeon/XC486547 - Hill Pigeon - Columba rupestris.wav'\n",
      " 'BirdSound/Sandpiper/XC348861 - Diademed Sandpiper-Plover - Phegornis mitchellii.wav'\n",
      " 'BirdSound/Quail/XC153452 - California Quail - Callipepla californica.wav'\n",
      " 'BirdSound/Swift/XC1885 - Short-tailed Swift - Chaetura brachyura.wav'\n",
      " 'BirdSound/Plover/XC220898 - Collared Plover - Charadrius collaris.wav'\n",
      " 'BirdSound/Lapwing/XC368211 - Red-wattled Lapwing - Vanellus indicus.wav'\n",
      " 'BirdSound/Coot/XC48552 - Red-gartered Coot - Fulica armillata.wav'\n",
      " 'BirdSound/Stilt/XC304651 - Black-necked Stilt - Himantopus mexicanus.wav'\n",
      " 'BirdSound/Pigeon/XC238773 - Scaled Pigeon - Patagioenas speciosa.wav'\n",
      " 'BirdSound/Rail/XC273674 - Bogota Rail - Rallus semiplumbeus.wav'\n",
      " 'BirdSound/Stilt/XC280353 - Black-winged Stilt - Himantopus himantopus.wav'\n",
      " 'BirdSound/Quail/XC20798 - Rufous-breasted Wood Quail - Odontophorus speciosus soderstromii.wav'\n",
      " 'BirdSound/Gallinule/XC326531 - Purple Gallinule - Porphyrio martinica.wav'\n",
      " 'BirdSound/Crane/XC167449 - Demoiselle Crane - Grus virgo.wav'\n",
      " 'BirdSound/Swift/XC303387 - White-chinned Swift - Cypseloides cryptus.wav'\n",
      " 'BirdSound/Rail/XC10309 - Bogota Rail - Rallus semiplumbeus semiplumbeus.wav'\n",
      " 'BirdSound/Dove/XC389564 - Blue Ground Dove - Claravis pretiosa.wav'\n",
      " 'BirdSound/Oystercatcher/XC60035 - Blackish Oystercatcher - Haematopus ater.wav'\n",
      " 'BirdSound/Sandpiper/XC30141 - White-rumped Sandpiper - Calidris fuscicollis.wav'\n",
      " 'BirdSound/Crake/XC364028 - Rufous-faced Crake - Laterallus xenopterus.wav'\n",
      " 'BirdSound/Coot/XC302637 - Eurasian Coot - Fulica atra.wav'\n",
      " 'BirdSound/Nightjar/XC43206 - Sickle-winged Nightjar - Eleothreptus anomalus.wav']\n"
     ]
    }
   ],
   "source": [
    "# Find wrong predicted audio files\n",
    "print(np.array(labels)[test_index[wrong_predictions]])\n",
    "print(predicted_labels[wrong_predictions].T)\n",
    "print(labelencoder.inverse_transform(predicted_labels[wrong_predictions]))\n",
    "print(np.array(files)[test_index[wrong_predictions]])"
   ]
  },
  {
   "cell_type": "markdown",
   "metadata": {},
   "source": [
    "## 3.SVM"
   ]
  },
  {
   "cell_type": "code",
   "execution_count": 41,
   "metadata": {},
   "outputs": [
    {
     "name": "stderr",
     "output_type": "stream",
     "text": [
      "/home/rutherford/.local/lib/python3.6/site-packages/sklearn/externals/joblib/__init__.py:15: DeprecationWarning: sklearn.externals.joblib is deprecated in 0.21 and will be removed in 0.23. Please import this functionality directly from joblib, which can be installed with: pip install joblib. If this warning is raised when loading pickled models, you may need to re-serialize those models with scikit-learn 0.21+.\n",
      "  warnings.warn(msg, category=DeprecationWarning)\n"
     ]
    }
   ],
   "source": [
    "from sklearn.svm import LinearSVC, SVC\n",
    "from sklearn.externals import joblib\n",
    "model_svm = SVC(kernel='rbf', C = 10.0, gamma=0.1) "
   ]
  },
  {
   "cell_type": "code",
   "execution_count": 42,
   "metadata": {},
   "outputs": [],
   "source": [
    "# SVM\n",
    "#model_svm.fit(train_set, train_classes);\n",
    "model_svm.fit(train_set, train_classes);"
   ]
  },
  {
   "cell_type": "markdown",
   "metadata": {},
   "source": [
    "## Save / Load Trained Model"
   ]
  },
  {
   "cell_type": "code",
   "execution_count": 45,
   "metadata": {},
   "outputs": [],
   "source": [
    "# Save\n",
    "#joblib.dump(model_svm, 'trainedSVM.joblib')\n",
    "#Load\n",
    "#svclassifier = joblib.load('filename.joblib') "
   ]
  },
  {
   "cell_type": "code",
   "execution_count": 46,
   "metadata": {},
   "outputs": [],
   "source": [
    "# Predict using the Test Set\n",
    "#predicted_labels = model_svm.predict(test_set)\n",
    "predicted_labels = model_svm.predict(test_set)"
   ]
  },
  {
   "cell_type": "markdown",
   "metadata": {},
   "source": [
    "## Evaluation"
   ]
  },
  {
   "cell_type": "code",
   "execution_count": 47,
   "metadata": {},
   "outputs": [
    {
     "name": "stdout",
     "output_type": "stream",
     "text": [
      "Recall:  [0.67 0.17 0.71 0.5  0.   0.   0.   0.5  0.   0.17 0.   0.   0.   0.\n",
      " 0.2  0.2  0.   0.   0.4  0.  ]\n",
      "Precision:  [0.5  0.09 0.5  0.43 0.   0.   0.   0.6  0.   0.17 0.   0.   0.   0.\n",
      " 0.5  0.25 0.   0.   0.33 0.  ]\n",
      "F1-Score:  [0.57 0.12 0.59 0.46 0.   0.   0.   0.55 0.   0.17 0.   0.   0.   0.\n",
      " 0.29 0.22 0.   0.   0.36 0.  ]\n",
      "Accuracy: 0.19  , 21\n",
      "Number of samples: 113\n"
     ]
    },
    {
     "name": "stderr",
     "output_type": "stream",
     "text": [
      "/home/rutherford/.local/lib/python3.6/site-packages/sklearn/metrics/classification.py:1437: UndefinedMetricWarning: Precision is ill-defined and being set to 0.0 in labels with no predicted samples.\n",
      "  'precision', 'predicted', average, warn_for)\n",
      "/home/rutherford/.local/lib/python3.6/site-packages/sklearn/metrics/classification.py:1437: UndefinedMetricWarning: F-score is ill-defined and being set to 0.0 in labels with no predicted samples.\n",
      "  'precision', 'predicted', average, warn_for)\n"
     ]
    }
   ],
   "source": [
    "# Recall - the ability of the classifier to find all the positive samples\n",
    "print(\"Recall: \", recall_score(test_classes, predicted_labels,average=None))\n",
    "\n",
    "# Precision - The precision is intuitively the ability of the classifier not to \n",
    "#label as positive a sample that is negative\n",
    "print(\"Precision: \", precision_score(test_classes, predicted_labels,average=None))\n",
    "\n",
    "# F1-Score - The F1 score can be interpreted as a weighted average of the precision \n",
    "#and recall\n",
    "print(\"F1-Score: \", f1_score(test_classes, predicted_labels, average=None))\n",
    "\n",
    "# Accuracy - the number of correctly classified samples\n",
    "print(\"Accuracy: %.2f  ,\" % accuracy_score(test_classes, predicted_labels,normalize=True), accuracy_score(test_classes, predicted_labels,normalize=False) )\n",
    "print(\"Number of samples:\",test_classes.shape[0])"
   ]
  },
  {
   "cell_type": "code",
   "execution_count": 48,
   "metadata": {},
   "outputs": [],
   "source": [
    "# Compute confusion matrix\n",
    "cnf_matrix = confusion_matrix(test_classes, predicted_labels)\n",
    "np.set_printoptions(precision=2)"
   ]
  },
  {
   "cell_type": "code",
   "execution_count": null,
   "metadata": {},
   "outputs": [],
   "source": [
    "# Function to Plot Confusion Matrix\n",
    "# http://scikit-learn.org/stable/auto_examples/model_selection/plot_confusion_matrix.html\n",
    "def plot_confusion_matrix(cm, classes,\n",
    "                          normalize=False,\n",
    "                          title='Confusion matrix',\n",
    "                          cmap=plt.cm.Blues):\n",
    "    \"\"\"\n",
    "    This function prints and plots the confusion matrix.\n",
    "    Normalization can be applied by setting `normalize=True`.\n",
    "    \n",
    "    if normalize:\n",
    "        cm = cm.astype('float') / cm.sum(axis=1)[:, np.newaxis]\n",
    "        print(\"Normalized confusion matrix\")\n",
    "    else:\n",
    "        print('Confusion matrix, without normalization')\n",
    "    \"\"\"\n",
    "    #print(cm)\n",
    "\n",
    "    plt.imshow(cm, interpolation='nearest', cmap=cmap)\n",
    "    plt.title(title)\n",
    "    plt.colorbar()\n",
    "    tick_marks = np.arange(len(classes))\n",
    "    plt.xticks(tick_marks, classes, rotation=45)\n",
    "    plt.yticks(tick_marks, classes)\n",
    "\n",
    "    fmt = '.2f' if normalize else 'd'\n",
    "    thresh = cm.max() / 2.\n",
    "    for i, j in itertools.product(range(cm.shape[0]), range(cm.shape[1])):\n",
    "        plt.text(j, i, format(cm[i, j], fmt),\n",
    "                 horizontalalignment=\"center\",\n",
    "                 color=\"white\" if cm[i, j] > thresh else \"black\")\n",
    "\n",
    "    plt.tight_layout()\n",
    "    plt.ylabel('True label')\n",
    "    plt.xlabel('Predicted label')"
   ]
  },
  {
   "cell_type": "code",
   "execution_count": null,
   "metadata": {},
   "outputs": [],
   "source": [
    "# Plot non-normalized confusion matrix\n",
    "plt.figure(figsize=(18,13))\n",
    "plot_confusion_matrix(cnf_matrix, classes=labelencoder.classes_,\n",
    "                      title='Confusion matrix, without normalization')"
   ]
  },
  {
   "cell_type": "code",
   "execution_count": null,
   "metadata": {},
   "outputs": [],
   "source": [
    "# Find wrong predicted samples indexes\n",
    "#wrong_predictions = [i for i, (e1, e2) in enumerate(zip(test_classes, predicted_labels)) if e1 != e2]\n",
    "wrong_predictions = [i for i, (e1, e2) in enumerate(zip(predicted_labels,test_classes)) if e1 != e2]"
   ]
  },
  {
   "cell_type": "code",
   "execution_count": null,
   "metadata": {},
   "outputs": [],
   "source": [
    "# Find wrong predicted audio files\n",
    "print(np.array(labels)[test_index[wrong_predictions]])\n",
    "print(predicted_labels[wrong_predictions].T)\n",
    "print(labelencoder.inverse_transform(predicted_labels[wrong_predictions]))\n",
    "print(np.array(files)[test_index[wrong_predictions]])"
   ]
  },
  {
   "cell_type": "markdown",
   "metadata": {},
   "source": [
    "## 4.Naive Bayes"
   ]
  },
  {
   "cell_type": "code",
   "execution_count": 71,
   "metadata": {},
   "outputs": [],
   "source": [
    "from sklearn.naive_bayes import GaussianNB\n",
    "\n",
    "model_NB = GaussianNB()"
   ]
  },
  {
   "cell_type": "code",
   "execution_count": 72,
   "metadata": {},
   "outputs": [],
   "source": [
    "model_NB.fit(train_set, train_classes);"
   ]
  },
  {
   "cell_type": "markdown",
   "metadata": {},
   "source": [
    "## Save / Load Trained Model"
   ]
  },
  {
   "cell_type": "code",
   "execution_count": 73,
   "metadata": {},
   "outputs": [
    {
     "data": {
      "text/plain": [
       "['trainedNaiveBayes.joblib']"
      ]
     },
     "execution_count": 73,
     "metadata": {},
     "output_type": "execute_result"
    }
   ],
   "source": [
    "# Save\n",
    "joblib.dump(model_NB, 'trainedNaiveBayes.joblib')\n",
    "#Load\n",
    "#svclassifier = joblib.load('filename.joblib') "
   ]
  },
  {
   "cell_type": "code",
   "execution_count": 74,
   "metadata": {},
   "outputs": [],
   "source": [
    "# Predict using the Test Set\n",
    "#predicted_labels = model_svm.predict(test_set)\n",
    "predicted_labels = model_NB.predict(test_set)"
   ]
  },
  {
   "cell_type": "markdown",
   "metadata": {},
   "source": [
    "## Evaluation"
   ]
  },
  {
   "cell_type": "code",
   "execution_count": 75,
   "metadata": {},
   "outputs": [
    {
     "name": "stdout",
     "output_type": "stream",
     "text": [
      "Recall:  [0.67 0.17 0.29 0.17 0.   0.   0.14 0.17 0.17 0.   0.4  0.2  0.2  0.\n",
      " 0.   0.   0.   0.2  0.4  0.4 ]\n",
      "Precision:  [0.4  0.09 0.33 0.25 0.   0.   0.33 0.5  0.09 0.   0.4  0.11 0.33 0.\n",
      " 0.   0.   0.   0.08 0.22 0.22]\n",
      "F1-Score:  [0.5  0.12 0.31 0.2  0.   0.   0.2  0.25 0.12 0.   0.4  0.14 0.25 0.\n",
      " 0.   0.   0.   0.12 0.29 0.29]\n",
      "Accuracy: 0.18  , 20\n",
      "Number of samples: 113\n"
     ]
    },
    {
     "name": "stderr",
     "output_type": "stream",
     "text": [
      "/home/rutherford/.local/lib/python3.6/site-packages/sklearn/metrics/classification.py:1437: UndefinedMetricWarning: Precision is ill-defined and being set to 0.0 in labels with no predicted samples.\n",
      "  'precision', 'predicted', average, warn_for)\n",
      "/home/rutherford/.local/lib/python3.6/site-packages/sklearn/metrics/classification.py:1437: UndefinedMetricWarning: F-score is ill-defined and being set to 0.0 in labels with no predicted samples.\n",
      "  'precision', 'predicted', average, warn_for)\n"
     ]
    }
   ],
   "source": [
    "# Recall - the ability of the classifier to find all the positive samples\n",
    "print(\"Recall: \", recall_score(test_classes, predicted_labels,average=None))\n",
    "\n",
    "# Precision - The precision is intuitively the ability of the classifier not to \n",
    "#label as positive a sample that is negative\n",
    "print(\"Precision: \", precision_score(test_classes, predicted_labels,average=None))\n",
    "\n",
    "# F1-Score - The F1 score can be interpreted as a weighted average of the precision \n",
    "#and recall\n",
    "print(\"F1-Score: \", f1_score(test_classes, predicted_labels, average=None))\n",
    "\n",
    "# Accuracy - the number of correctly classified samples\n",
    "print(\"Accuracy: %.2f  ,\" % accuracy_score(test_classes, predicted_labels,normalize=True), accuracy_score(test_classes, predicted_labels,normalize=False) )\n",
    "print(\"Number of samples:\",test_classes.shape[0])"
   ]
  },
  {
   "cell_type": "code",
   "execution_count": 76,
   "metadata": {},
   "outputs": [],
   "source": [
    "# Compute confusion matrix\n",
    "cnf_matrix = confusion_matrix(test_classes, predicted_labels)\n",
    "np.set_printoptions(precision=2)"
   ]
  },
  {
   "cell_type": "code",
   "execution_count": 77,
   "metadata": {},
   "outputs": [],
   "source": [
    "# Function to Plot Confusion Matrix\n",
    "# http://scikit-learn.org/stable/auto_examples/model_selection/plot_confusion_matrix.html\n",
    "def plot_confusion_matrix(cm, classes,\n",
    "                          normalize=False,\n",
    "                          title='Confusion matrix',\n",
    "                          cmap=plt.cm.Blues):\n",
    "    \"\"\"\n",
    "    This function prints and plots the confusion matrix.\n",
    "    Normalization can be applied by setting `normalize=True`.\n",
    "    \n",
    "    if normalize:\n",
    "        cm = cm.astype('float') / cm.sum(axis=1)[:, np.newaxis]\n",
    "        print(\"Normalized confusion matrix\")\n",
    "    else:\n",
    "        print('Confusion matrix, without normalization')\n",
    "    \"\"\"\n",
    "    #print(cm)\n",
    "\n",
    "    plt.imshow(cm, interpolation='nearest', cmap=cmap)\n",
    "    plt.title(title)\n",
    "    plt.colorbar()\n",
    "    tick_marks = np.arange(len(classes))\n",
    "    plt.xticks(tick_marks, classes, rotation=45)\n",
    "    plt.yticks(tick_marks, classes)\n",
    "\n",
    "    fmt = '.2f' if normalize else 'd'\n",
    "    thresh = cm.max() / 2.\n",
    "    for i, j in itertools.product(range(cm.shape[0]), range(cm.shape[1])):\n",
    "        plt.text(j, i, format(cm[i, j], fmt),\n",
    "                 horizontalalignment=\"center\",\n",
    "                 color=\"white\" if cm[i, j] > thresh else \"black\")\n",
    "\n",
    "    plt.tight_layout()\n",
    "    plt.ylabel('True label')\n",
    "    plt.xlabel('Predicted label')"
   ]
  },
  {
   "cell_type": "code",
   "execution_count": 78,
   "metadata": {},
   "outputs": [
    {
     "data": {
      "image/png": "[encoded data removed]",
      "text/plain": [
       "<Figure size 1296x936 with 2 Axes>"
      ]
     },
     "metadata": {
      "needs_background": "light"
     },
     "output_type": "display_data"
    }
   ],
   "source": [
    "# Plot non-normalized confusion matrix\n",
    "plt.figure(figsize=(18,13))\n",
    "plot_confusion_matrix(cnf_matrix, classes=labelencoder.classes_,\n",
    "                      title='Confusion matrix, without normalization')"
   ]
  },
  {
   "cell_type": "code",
   "execution_count": 79,
   "metadata": {},
   "outputs": [],
   "source": [
    "# Find wrong predicted samples indexes\n",
    "#wrong_predictions = [i for i, (e1, e2) in enumerate(zip(test_classes, predicted_labels)) if e1 != e2]\n",
    "wrong_predictions = [i for i, (e1, e2) in enumerate(zip(predicted_labels,test_classes)) if e1 != e2]"
   ]
  },
  {
   "cell_type": "code",
   "execution_count": 80,
   "metadata": {},
   "outputs": [
    {
     "name": "stdout",
     "output_type": "stream",
     "text": [
      "[ 6  7  4 16  0  1  9  3  8  8  4 15  9  2  9 14  8  3  6  6  6 14 17 11\n",
      " 14 19 19  3 11  4 13 10 11 12 18 17  8  5  1  6 11  5 12  7 16  5 16  5\n",
      " 16  6  2  1  7 10  7  4  4 13 13  5 15  9  2  7 15 19  8  2 10  9  0 12\n",
      " 13 14 18 13  1 17  4 12 15 17 14  5  3  3 18 15  4 16  2  1  9]\n",
      "[ 2 17 17  0  8 17  6  7 11 15  9  8 15 18  3  2 13  1  0 17  2  9 13 19\n",
      " 11 17  1 11 17  1  9  0  1  2  8  8  0 19 19 17  1 16  1 17 11 12 13  3\n",
      "  1  0  9  3 10  8  5 15  8 17 16 11 12  8  9 17 10  6 11 19  8  1 10 19\n",
      " 18 18 17  8 19  1  8 18 18  0 15 18 15 13 11 11 18  1 15 19 15]\n",
      "['Crake' 'Stilt' 'Stilt' 'Avocet' 'Lapwing' 'Stilt' 'Grebe' 'Grouse'\n",
      " 'Pheasant' 'Rail' 'Nightjar' 'Lapwing' 'Rail' 'Swift' 'Crane' 'Crake'\n",
      " 'Plover' 'Coot' 'Avocet' 'Stilt' 'Crake' 'Nightjar' 'Plover' 'Turaco'\n",
      " 'Pheasant' 'Stilt' 'Coot' 'Pheasant' 'Stilt' 'Coot' 'Nightjar' 'Avocet'\n",
      " 'Coot' 'Crake' 'Lapwing' 'Lapwing' 'Avocet' 'Turaco' 'Turaco' 'Stilt'\n",
      " 'Coot' 'Sandpiper' 'Coot' 'Stilt' 'Pheasant' 'Pigeon' 'Plover' 'Crane'\n",
      " 'Coot' 'Avocet' 'Nightjar' 'Crane' 'Oystercatcher' 'Lapwing' 'Gallinule'\n",
      " 'Rail' 'Lapwing' 'Stilt' 'Sandpiper' 'Pheasant' 'Pigeon' 'Lapwing'\n",
      " 'Nightjar' 'Stilt' 'Oystercatcher' 'Grebe' 'Pheasant' 'Turaco' 'Lapwing'\n",
      " 'Coot' 'Oystercatcher' 'Turaco' 'Swift' 'Swift' 'Stilt' 'Lapwing'\n",
      " 'Turaco' 'Coot' 'Lapwing' 'Swift' 'Swift' 'Avocet' 'Rail' 'Swift' 'Rail'\n",
      " 'Plover' 'Pheasant' 'Pheasant' 'Swift' 'Coot' 'Rail' 'Turaco' 'Rail']\n",
      "['BirdSound/Grebe/XC185652 - Little Grebe - Tachybaptus ruficollis.wav'\n",
      " 'BirdSound/Grouse/XC451470 - Black-faced Sandgrouse - Pterocles decoratus ellenbecki.wav'\n",
      " 'BirdSound/Dove/XC238202 - Croaking Ground Dove - Columbina cruziana.wav'\n",
      " 'BirdSound/Sandpiper/XC161585 - Solitary Sandpiper - Tringa solitaria.wav'\n",
      " 'BirdSound/Avocet/XC317972 - American Avocet - Recurvirostra americana.wav'\n",
      " 'BirdSound/Coot/XC44706 - Eurasian Coot - Fulica atra atra.wav'\n",
      " 'BirdSound/Nightjar/XC290528 - Malaysian Eared Nightjar - Lyncornis temminckii.wav'\n",
      " 'BirdSound/Crane/XC432843 - Common Crane - Grus grus.wav'\n",
      " 'BirdSound/Lapwing/XC307119 - Grey-headed Lapwing - Vanellus cinereus.wav'\n",
      " 'BirdSound/Lapwing/XC81962 - Grey-headed Lapwing - Vanellus cinereus.wav'\n",
      " 'BirdSound/Dove/XC197100 - Spotted Dove - Spilopelia chinensis.wav'\n",
      " \"BirdSound/Rail/XC110658 - Ridgway's Rail - Rallus obsoletus yumanensis.wav\"\n",
      " 'BirdSound/Nightjar/XC257052 - Ladder-tailed Nightjar - Hydropsalis climacocerca climacocerca.wav'\n",
      " 'BirdSound/Crake/XC119289 - Russet-crowned Crake - Laterallus viridis.wav'\n",
      " 'BirdSound/Nightjar/XC30564 - Silky-tailed Nightjar - Antrostomus sericocaudatus sericocaudatus.wav'\n",
      " 'BirdSound/Quail/XC406904 - Black-eared Wood Quail - Odontophorus melanotis melanotis.wav'\n",
      " 'BirdSound/Lapwing/XC300855 - Spot-breasted Lapwing - Vanellus melanocephalus (1).wav'\n",
      " 'BirdSound/Crane/XC107471 - Sandhill Crane - Antigone canadensis.wav'\n",
      " 'BirdSound/Grebe/XC280980 - Little Grebe - Tachybaptus ruficollis.wav'\n",
      " 'BirdSound/Grebe/XC26547 - Great Crested Grebe - Podiceps cristatus cristatus.wav'\n",
      " 'BirdSound/Grebe/XC55584 - Least Grebe - Tachybaptus dominicus.wav'\n",
      " 'BirdSound/Quail/XC251278 - Marbled Wood Quail - Odontophorus gujanensis buckleyi.wav'\n",
      " 'BirdSound/Stilt/XC6707 - White-backed Stilt - Himantopus melanurus melanurus.wav'\n",
      " 'BirdSound/Pheasant/XC422829 - Common Pheasant - Phasianus colchicus.wav'\n",
      " 'BirdSound/Quail/XC53487 - California Quail - Callipepla californica.wav'\n",
      " 'BirdSound/Turaco/XC361401 - Knysna Turaco - Tauraco corythaix.wav'\n",
      " 'BirdSound/Turaco/XC72452 - Purple-crested Turaco - Tauraco porphyreolophus.wav'\n",
      " 'BirdSound/Crane/XC409607 - Red-crowned Crane - Grus japonensis.wav'\n",
      " 'BirdSound/Pheasant/XC115583 - Common Pheasant - Phasianus colchicus.wav'\n",
      " 'BirdSound/Dove/XC367411 - European Turtle Dove - Streptopelia turtur.wav'\n",
      " 'BirdSound/Plover/XC14345 - Purple-crowned Plovercrest - Stephanoxis loddigesii.wav'\n",
      " 'BirdSound/Oystercatcher/XC449757 - Eurasian Oystercatcher - Haematopus ostralegus.wav'\n",
      " 'BirdSound/Pheasant/XC99473 - Common Pheasant - Phasianus colchicus.wav'\n",
      " 'BirdSound/Pigeon/XC166060 - Orange-breasted Green Pigeon - Treron bicinctus.wav'\n",
      " 'BirdSound/Swift/XC37809 - Alpine Swift - Tachymarptis melba.wav'\n",
      " 'BirdSound/Stilt/XC224234 - Black-necked Stilt - Himantopus mexicanus.wav'\n",
      " 'BirdSound/Lapwing/XC425220 - Spur-winged Lapwing - Vanellus spinosus.wav'\n",
      " 'BirdSound/Gallinule/XC139954 - Common Gallinule - Gallinula galeata.wav'\n",
      " 'BirdSound/Coot/XC48557 - Red-fronted Coot - Fulica rufifrons.wav'\n",
      " 'BirdSound/Grebe/XC54500 - Pied-billed Grebe - Podilymbus podiceps antarcticus.wav'\n",
      " 'BirdSound/Pheasant/XC437853 - Common Pheasant - Phasianus colchicus.wav'\n",
      " 'BirdSound/Gallinule/XC1147 - Purple Gallinule - Porphyrio martinica.wav'\n",
      " 'BirdSound/Pigeon/XC221376 - Short-billed Pigeon - Patagioenas nigrirostris.wav'\n",
      " 'BirdSound/Grouse/XC320022 - Dusky Grouse - Dendragapus obscurus.wav'\n",
      " 'BirdSound/Sandpiper/XC426254 - Green Sandpiper - Tringa ochropus.wav'\n",
      " 'BirdSound/Gallinule/XC7979 - Common Gallinule - Gallinula galeata.wav'\n",
      " 'BirdSound/Sandpiper/XC145934 - Stilt Sandpiper - Calidris himantopus.wav'\n",
      " 'BirdSound/Gallinule/XC228563 - Purple Gallinule - Porphyrio martinica.wav'\n",
      " 'BirdSound/Sandpiper/XC255373 - Spotted Sandpiper - Actitis macularius.wav'\n",
      " 'BirdSound/Grebe/XC451358 - Pied-billed Grebe - Podilymbus podiceps.wav'\n",
      " 'BirdSound/Crake/XC94670 - Russet-crowned Crake - Laterallus viridis.wav'\n",
      " 'BirdSound/Coot/XC14381 - American Coot - Fulica americana~1.wav'\n",
      " 'BirdSound/Grouse/XC92111 - Hazel Grouse - Tetrastes bonasia.wav'\n",
      " 'BirdSound/Oystercatcher/XC28379 - Magellanic Oystercatcher - Haematopus leucopodus.wav'\n",
      " 'BirdSound/Grouse/XC77993 - Ruffed Grouse - Bonasa umbellus incana.wav'\n",
      " 'BirdSound/Quail/XC113194 - Ruddy Quail-Dove - Geotrygon montana.wav'\n",
      " 'BirdSound/Dove/XC315273 - Blue Ground Dove - Claravis pretiosa.wav'\n",
      " 'BirdSound/Plover/XC378002 - Common Ringed Plover - Charadrius hiaticula.wav'\n",
      " 'BirdSound/Plover/XC51732 - Collared Plover - Charadrius collaris.wav'\n",
      " 'BirdSound/Gallinule/XC452961 - Common Gallinule - Gallinula galeata.wav'\n",
      " 'BirdSound/Rail/XC217119 - Black Rail - Laterallus jamaicensis.wav'\n",
      " 'BirdSound/Nightjar/XC357069 - Freckled Nightjar - Caprimulgus tristigma.wav'\n",
      " 'BirdSound/Crake/XC237988 - Chestnut-headed Crake - Anurolimnas castaneiceps castaneiceps.wav'\n",
      " 'BirdSound/Grouse/XC61517 - Ruffed Grouse - Bonasa umbellus.wav'\n",
      " 'BirdSound/Rail/XC475407 - Water Rail - Rallus aquaticus.wav'\n",
      " \"BirdSound/Turaco/XC115970 - Livingstone's Turaco - Tauraco livingstonii.wav\"\n",
      " 'BirdSound/Lapwing/XC300861 - Spot-breasted Lapwing - Vanellus melanocephalus (1).wav'\n",
      " 'BirdSound/Crake/XC69265 - Spotless Crake - Porzana tabuensis.wav'\n",
      " 'BirdSound/Oystercatcher/XC25075 - Eurasian Oystercatcher - Haematopus ostralegus.wav'\n",
      " 'BirdSound/Nightjar/XC51584 - Scissor-tailed Nightjar - Hydropsalis torquata.wav'\n",
      " 'BirdSound/Avocet/XC146958 - Andean Avocet - Recurvirostra andina.wav'\n",
      " 'BirdSound/Pigeon/XC486547 - Hill Pigeon - Columba rupestris.wav'\n",
      " 'BirdSound/Sandpiper/XC348861 - Diademed Sandpiper-Plover - Phegornis mitchellii.wav'\n",
      " 'BirdSound/Quail/XC153452 - California Quail - Callipepla californica.wav'\n",
      " 'BirdSound/Swift/XC1885 - Short-tailed Swift - Chaetura brachyura.wav'\n",
      " 'BirdSound/Plover/XC220898 - Collared Plover - Charadrius collaris.wav'\n",
      " 'BirdSound/Coot/XC48552 - Red-gartered Coot - Fulica armillata.wav'\n",
      " 'BirdSound/Stilt/XC304651 - Black-necked Stilt - Himantopus mexicanus.wav'\n",
      " 'BirdSound/Dove/XC90873 - Laughing Dove - Spilopelia senegalensis phoenicophila.wav'\n",
      " 'BirdSound/Pigeon/XC238773 - Scaled Pigeon - Patagioenas speciosa.wav'\n",
      " 'BirdSound/Rail/XC273674 - Bogota Rail - Rallus semiplumbeus.wav'\n",
      " 'BirdSound/Stilt/XC280353 - Black-winged Stilt - Himantopus himantopus.wav'\n",
      " 'BirdSound/Quail/XC20798 - Rufous-breasted Wood Quail - Odontophorus speciosus soderstromii.wav'\n",
      " 'BirdSound/Gallinule/XC326531 - Purple Gallinule - Porphyrio martinica.wav'\n",
      " 'BirdSound/Crane/XC58012 - Blue Crane - Grus paradisea.wav'\n",
      " 'BirdSound/Crane/XC167449 - Demoiselle Crane - Grus virgo.wav'\n",
      " 'BirdSound/Swift/XC303387 - White-chinned Swift - Cypseloides cryptus.wav'\n",
      " 'BirdSound/Rail/XC10309 - Bogota Rail - Rallus semiplumbeus semiplumbeus.wav'\n",
      " 'BirdSound/Dove/XC389564 - Blue Ground Dove - Claravis pretiosa.wav'\n",
      " 'BirdSound/Sandpiper/XC30141 - White-rumped Sandpiper - Calidris fuscicollis.wav'\n",
      " 'BirdSound/Crake/XC364028 - Rufous-faced Crake - Laterallus xenopterus.wav'\n",
      " 'BirdSound/Coot/XC302637 - Eurasian Coot - Fulica atra.wav'\n",
      " 'BirdSound/Nightjar/XC43206 - Sickle-winged Nightjar - Eleothreptus anomalus.wav']\n"
     ]
    }
   ],
   "source": [
    "# Find wrong predicted audio files\n",
    "print(np.array(labels)[test_index[wrong_predictions]])\n",
    "print(predicted_labels[wrong_predictions].T)\n",
    "print(labelencoder.inverse_transform(predicted_labels[wrong_predictions]))\n",
    "print(np.array(files)[test_index[wrong_predictions]])"
   ]
  },
  {
   "cell_type": "markdown",
   "metadata": {},
   "source": [
    "## 5.Random Forest"
   ]
  },
  {
   "cell_type": "code",
   "execution_count": 81,
   "metadata": {},
   "outputs": [],
   "source": [
    "from sklearn.ensemble import RandomForestClassifier"
   ]
  },
  {
   "cell_type": "code",
   "execution_count": 82,
   "metadata": {},
   "outputs": [],
   "source": [
    "model_RFC = RandomForestClassifier(n_estimators=100, max_depth=2,random_state=0)"
   ]
  },
  {
   "cell_type": "code",
   "execution_count": 83,
   "metadata": {},
   "outputs": [],
   "source": [
    "model_RFC.fit(train_set, train_classes);"
   ]
  },
  {
   "cell_type": "markdown",
   "metadata": {},
   "source": [
    "## Save / Load Trained Model"
   ]
  },
  {
   "cell_type": "code",
   "execution_count": 86,
   "metadata": {},
   "outputs": [],
   "source": [
    "# Save\n",
    "#joblib.dump(model, 'trainedRandomForest.joblib')\n",
    "#Load\n",
    "#svclassifier = joblib.load('filename.joblib') "
   ]
  },
  {
   "cell_type": "code",
   "execution_count": 87,
   "metadata": {},
   "outputs": [],
   "source": [
    "# Predict using the Test Set\n",
    "#predicted_labels = model_svm.predict(test_set)\n",
    "predicted_labels = model_RFC.predict(test_set)"
   ]
  },
  {
   "cell_type": "markdown",
   "metadata": {},
   "source": [
    "## Evaluation"
   ]
  },
  {
   "cell_type": "code",
   "execution_count": 88,
   "metadata": {},
   "outputs": [
    {
     "name": "stdout",
     "output_type": "stream",
     "text": [
      "Recall:  [0.5  0.33 0.29 0.67 0.   0.   0.   0.5  0.33 0.5  0.   0.   0.   0.\n",
      " 0.   0.   0.   0.   0.2  0.  ]\n",
      "Precision:  [0.43 0.17 0.5  0.36 0.   0.   0.   0.16 0.08 0.2  0.   0.   0.   0.\n",
      " 0.   0.   0.   0.   0.25 0.  ]\n",
      "F1-Score:  [0.46 0.22 0.36 0.47 0.   0.   0.   0.24 0.12 0.29 0.   0.   0.   0.\n",
      " 0.   0.   0.   0.   0.22 0.  ]\n",
      "Accuracy: 0.18  , 20\n",
      "Number of samples: 113\n"
     ]
    },
    {
     "name": "stderr",
     "output_type": "stream",
     "text": [
      "/home/rutherford/.local/lib/python3.6/site-packages/sklearn/metrics/classification.py:1437: UndefinedMetricWarning: Precision is ill-defined and being set to 0.0 in labels with no predicted samples.\n",
      "  'precision', 'predicted', average, warn_for)\n",
      "/home/rutherford/.local/lib/python3.6/site-packages/sklearn/metrics/classification.py:1437: UndefinedMetricWarning: F-score is ill-defined and being set to 0.0 in labels with no predicted samples.\n",
      "  'precision', 'predicted', average, warn_for)\n"
     ]
    }
   ],
   "source": [
    "# Recall - the ability of the classifier to find all the positive samples\n",
    "print(\"Recall: \", recall_score(test_classes, predicted_labels,average=None))\n",
    "\n",
    "# Precision - The precision is intuitively the ability of the classifier not to \n",
    "#label as positive a sample that is negative\n",
    "print(\"Precision: \", precision_score(test_classes, predicted_labels,average=None))\n",
    "\n",
    "# F1-Score - The F1 score can be interpreted as a weighted average of the precision \n",
    "#and recall\n",
    "print(\"F1-Score: \", f1_score(test_classes, predicted_labels, average=None))\n",
    "\n",
    "# Accuracy - the number of correctly classified samples\n",
    "print(\"Accuracy: %.2f  ,\" % accuracy_score(test_classes, predicted_labels,normalize=True), accuracy_score(test_classes, predicted_labels,normalize=False) )\n",
    "print(\"Number of samples:\",test_classes.shape[0])"
   ]
  },
  {
   "cell_type": "code",
   "execution_count": 89,
   "metadata": {},
   "outputs": [],
   "source": [
    "# Compute confusion matrix\n",
    "cnf_matrix = confusion_matrix(test_classes, predicted_labels)\n",
    "np.set_printoptions(precision=2)"
   ]
  },
  {
   "cell_type": "code",
   "execution_count": null,
   "metadata": {},
   "outputs": [],
   "source": [
    "# Function to Plot Confusion Matrix\n",
    "# http://scikit-learn.org/stable/auto_examples/model_selection/plot_confusion_matrix.html\n",
    "def plot_confusion_matrix(cm, classes,\n",
    "                          normalize=False,\n",
    "                          title='Confusion matrix',\n",
    "                          cmap=plt.cm.Blues):\n",
    "    \"\"\"\n",
    "    This function prints and plots the confusion matrix.\n",
    "    Normalization can be applied by setting `normalize=True`.\n",
    "    \n",
    "    if normalize:\n",
    "        cm = cm.astype('float') / cm.sum(axis=1)[:, np.newaxis]\n",
    "        print(\"Normalized confusion matrix\")\n",
    "    else:\n",
    "        print('Confusion matrix, without normalization')\n",
    "    \"\"\"\n",
    "    #print(cm)\n",
    "\n",
    "    plt.imshow(cm, interpolation='nearest', cmap=cmap)\n",
    "    plt.title(title)\n",
    "    plt.colorbar()\n",
    "    tick_marks = np.arange(len(classes))\n",
    "    plt.xticks(tick_marks, classes, rotation=45)\n",
    "    plt.yticks(tick_marks, classes)\n",
    "\n",
    "    fmt = '.2f' if normalize else 'd'\n",
    "    thresh = cm.max() / 2.\n",
    "    for i, j in itertools.product(range(cm.shape[0]), range(cm.shape[1])):\n",
    "        plt.text(j, i, format(cm[i, j], fmt),\n",
    "                 horizontalalignment=\"center\",\n",
    "                 color=\"white\" if cm[i, j] > thresh else \"black\")\n",
    "\n",
    "    plt.tight_layout()\n",
    "    plt.ylabel('True label')\n",
    "    plt.xlabel('Predicted label')"
   ]
  },
  {
   "cell_type": "code",
   "execution_count": null,
   "metadata": {},
   "outputs": [],
   "source": [
    "# Plot non-normalized confusion matrix\n",
    "plt.figure(figsize=(18,13))\n",
    "plot_confusion_matrix(cnf_matrix, classes=labelencoder.classes_,\n",
    "                      title='Confusion matrix, without normalization')"
   ]
  },
  {
   "cell_type": "code",
   "execution_count": null,
   "metadata": {},
   "outputs": [],
   "source": [
    "# Find wrong predicted samples indexes\n",
    "#wrong_predictions = [i for i, (e1, e2) in enumerate(zip(test_classes, predicted_labels)) if e1 != e2]\n",
    "wrong_predictions = [i for i, (e1, e2) in enumerate(zip(predicted_labels,test_classes)) if e1 != e2]"
   ]
  },
  {
   "cell_type": "code",
   "execution_count": null,
   "metadata": {},
   "outputs": [],
   "source": [
    "# Find wrong predicted audio files\n",
    "print(np.array(labels)[test_index[wrong_predictions]])\n",
    "print(predicted_labels[wrong_predictions].T)\n",
    "print(labelencoder.inverse_transform(predicted_labels[wrong_predictions]))\n",
    "print(np.array(files)[test_index[wrong_predictions]])"
   ]
  },
  {
   "cell_type": "markdown",
   "metadata": {},
   "source": [
    "## 6.Gausian Mixture Model"
   ]
  },
  {
   "cell_type": "code",
   "execution_count": null,
   "metadata": {},
   "outputs": [],
   "source": [
    "from sklearn.mixture import GaussianMixture\n",
    "model_GMM = GaussianMixture()"
   ]
  },
  {
   "cell_type": "code",
   "execution_count": null,
   "metadata": {},
   "outputs": [],
   "source": [
    "model_GMM.fit(train_set, train_classes);"
   ]
  },
  {
   "cell_type": "markdown",
   "metadata": {},
   "source": [
    "## Save / Load Trained Model"
   ]
  },
  {
   "cell_type": "code",
   "execution_count": null,
   "metadata": {},
   "outputs": [],
   "source": [
    "# Save\n",
    "joblib.dump(model_GMM, 'trainedGMM.joblib')\n",
    "#Load\n",
    "#svclassifier = joblib.load('filename.joblib') "
   ]
  },
  {
   "cell_type": "code",
   "execution_count": 1,
   "metadata": {},
   "outputs": [
    {
     "ename": "NameError",
     "evalue": "name 'model_GMM' is not defined",
     "output_type": "error",
     "traceback": [
      "\u001b[0;31m---------------------------------------------------------------------------\u001b[0m",
      "\u001b[0;31mNameError\u001b[0m                                 Traceback (most recent call last)",
      "\u001b[0;32m<ipython-input-1-4c4271670cf5>\u001b[0m in \u001b[0;36m<module>\u001b[0;34m\u001b[0m\n\u001b[1;32m      1\u001b[0m \u001b[0;31m# Predict using the Test Set\u001b[0m\u001b[0;34m\u001b[0m\u001b[0;34m\u001b[0m\u001b[0;34m\u001b[0m\u001b[0m\n\u001b[1;32m      2\u001b[0m \u001b[0;31m#predicted_labels = model_svm.predict(test_set)\u001b[0m\u001b[0;34m\u001b[0m\u001b[0;34m\u001b[0m\u001b[0;34m\u001b[0m\u001b[0m\n\u001b[0;32m----> 3\u001b[0;31m \u001b[0mpredicted_labels\u001b[0m \u001b[0;34m=\u001b[0m \u001b[0mmodel_GMM\u001b[0m\u001b[0;34m.\u001b[0m\u001b[0mpredict\u001b[0m\u001b[0;34m(\u001b[0m\u001b[0mtest_set\u001b[0m\u001b[0;34m)\u001b[0m\u001b[0;34m\u001b[0m\u001b[0;34m\u001b[0m\u001b[0m\n\u001b[0m",
      "\u001b[0;31mNameError\u001b[0m: name 'model_GMM' is not defined"
     ]
    }
   ],
   "source": [
    "# Predict using the Test Set\n",
    "#predicted_labels = model_svm.predict(test_set)\n",
    "predicted_labels = model_GMM.predict(test_set)"
   ]
  },
  {
   "cell_type": "markdown",
   "metadata": {},
   "source": [
    "## Evaluation"
   ]
  },
  {
   "cell_type": "code",
   "execution_count": null,
   "metadata": {},
   "outputs": [],
   "source": [
    "# Recall - the ability of the classifier to find all the positive samples\n",
    "print(\"Recall: \", recall_score(test_classes, predicted_labels,average=None))\n",
    "\n",
    "# Precision - The precision is intuitively the ability of the classifier not to \n",
    "#label as positive a sample that is negative\n",
    "print(\"Precision: \", precision_score(test_classes, predicted_labels,average=None))\n",
    "\n",
    "# F1-Score - The F1 score can be interpreted as a weighted average of the precision \n",
    "#and recall\n",
    "print(\"F1-Score: \", f1_score(test_classes, predicted_labels, average=None))\n",
    "\n",
    "# Accuracy - the number of correctly classified samples\n",
    "print(\"Accuracy: %.2f  ,\" % accuracy_score(test_classes, predicted_labels,normalize=True), accuracy_score(test_classes, predicted_labels,normalize=False) )\n",
    "print(\"Number of samples:\",test_classes.shape[0])"
   ]
  },
  {
   "cell_type": "code",
   "execution_count": null,
   "metadata": {},
   "outputs": [],
   "source": [
    "# Compute confusion matrix\n",
    "cnf_matrix = confusion_matrix(test_classes, predicted_labels)\n",
    "np.set_printoptions(precision=2)"
   ]
  },
  {
   "cell_type": "code",
   "execution_count": null,
   "metadata": {},
   "outputs": [],
   "source": [
    "# Function to Plot Confusion Matrix\n",
    "# http://scikit-learn.org/stable/auto_examples/model_selection/plot_confusion_matrix.html\n",
    "def plot_confusion_matrix(cm, classes,\n",
    "                          normalize=False,\n",
    "                          title='Confusion matrix',\n",
    "                          cmap=plt.cm.Blues):\n",
    "    \"\"\"\n",
    "    This function prints and plots the confusion matrix.\n",
    "    Normalization can be applied by setting `normalize=True`.\n",
    "    \n",
    "    if normalize:\n",
    "        cm = cm.astype('float') / cm.sum(axis=1)[:, np.newaxis]\n",
    "        print(\"Normalized confusion matrix\")\n",
    "    else:\n",
    "        print('Confusion matrix, without normalization')\n",
    "    \"\"\"\n",
    "    #print(cm)\n",
    "\n",
    "    plt.imshow(cm, interpolation='nearest', cmap=cmap)\n",
    "    plt.title(title)\n",
    "    plt.colorbar()\n",
    "    tick_marks = np.arange(len(classes))\n",
    "    plt.xticks(tick_marks, classes, rotation=45)\n",
    "    plt.yticks(tick_marks, classes)\n",
    "\n",
    "    fmt = '.2f' if normalize else 'd'\n",
    "    thresh = cm.max() / 2.\n",
    "    for i, j in itertools.product(range(cm.shape[0]), range(cm.shape[1])):\n",
    "        plt.text(j, i, format(cm[i, j], fmt),\n",
    "                 horizontalalignment=\"center\",\n",
    "                 color=\"white\" if cm[i, j] > thresh else \"black\")\n",
    "\n",
    "    plt.tight_layout()\n",
    "    plt.ylabel('True label')\n",
    "    plt.xlabel('Predicted label')"
   ]
  },
  {
   "cell_type": "code",
   "execution_count": null,
   "metadata": {},
   "outputs": [],
   "source": [
    "# Plot non-normalized confusion matrix\n",
    "plt.figure(figsize=(18,13))\n",
    "plot_confusion_matrix(cnf_matrix, classes=labelencoder.classes_,\n",
    "                      title='Confusion matrix, without normalization')"
   ]
  },
  {
   "cell_type": "code",
   "execution_count": null,
   "metadata": {},
   "outputs": [],
   "source": [
    "# Find wrong predicted samples indexes\n",
    "#wrong_predictions = [i for i, (e1, e2) in enumerate(zip(test_classes, predicted_labels)) if e1 != e2]\n",
    "wrong_predictions = [i for i, (e1, e2) in enumerate(zip(predicted_labels,test_classes)) if e1 != e2]"
   ]
  },
  {
   "cell_type": "code",
   "execution_count": null,
   "metadata": {},
   "outputs": [],
   "source": [
    "# Find wrong predicted audio files\n",
    "print(np.array(labels)[test_index[wrong_predictions]])\n",
    "print(predicted_labels[wrong_predictions].T)\n",
    "print(labelencoder.inverse_transform(predicted_labels[wrong_predictions]))\n",
    "print(np.array(files)[test_index[wrong_predictions]])"
   ]
  },
  {
   "cell_type": "markdown",
   "metadata": {},
   "source": [
    "## 7.Bayesian Mixture Models"
   ]
  },
  {
   "cell_type": "code",
   "execution_count": null,
   "metadata": {},
   "outputs": [],
   "source": [
    "from sklearn.mixture import BayesianGaussianMixture\n",
    "model_BGMM = BayesianGaussianMixture()"
   ]
  },
  {
   "cell_type": "code",
   "execution_count": null,
   "metadata": {},
   "outputs": [],
   "source": [
    "model_BGMM.fit(train_set, train_classes);"
   ]
  },
  {
   "cell_type": "markdown",
   "metadata": {},
   "source": [
    "## Save / Load Trained Model"
   ]
  },
  {
   "cell_type": "code",
   "execution_count": null,
   "metadata": {},
   "outputs": [],
   "source": [
    "# Save\n",
    "joblib.dump(model_BGMM, 'trainedBGMM.joblib')\n",
    "#Load\n",
    "#svclassifier = joblib.load('filename.joblib') "
   ]
  },
  {
   "cell_type": "code",
   "execution_count": null,
   "metadata": {},
   "outputs": [],
   "source": [
    "# Predict using the Test Set\n",
    "#predicted_labels = model_svm.predict(test_set)\n",
    "predicted_labels = model_BGMM.predict(test_set)"
   ]
  },
  {
   "cell_type": "markdown",
   "metadata": {},
   "source": [
    "## Evaluation"
   ]
  },
  {
   "cell_type": "code",
   "execution_count": null,
   "metadata": {},
   "outputs": [],
   "source": [
    "# Recall - the ability of the classifier to find all the positive samples\n",
    "print(\"Recall: \", recall_score(test_classes, predicted_labels,average=None))\n",
    "\n",
    "# Precision - The precision is intuitively the ability of the classifier not to \n",
    "#label as positive a sample that is negative\n",
    "print(\"Precision: \", precision_score(test_classes, predicted_labels,average=None))\n",
    "\n",
    "# F1-Score - The F1 score can be interpreted as a weighted average of the precision \n",
    "#and recall\n",
    "print(\"F1-Score: \", f1_score(test_classes, predicted_labels, average=None))\n",
    "\n",
    "# Accuracy - the number of correctly classified samples\n",
    "print(\"Accuracy: %.2f  ,\" % accuracy_score(test_classes, predicted_labels,normalize=True), accuracy_score(test_classes, predicted_labels,normalize=False) )\n",
    "print(\"Number of samples:\",test_classes.shape[0])"
   ]
  },
  {
   "cell_type": "code",
   "execution_count": null,
   "metadata": {},
   "outputs": [],
   "source": [
    "# Compute confusion matrix\n",
    "cnf_matrix = confusion_matrix(test_classes, predicted_labels)\n",
    "np.set_printoptions(precision=2)"
   ]
  },
  {
   "cell_type": "code",
   "execution_count": null,
   "metadata": {},
   "outputs": [],
   "source": [
    "# Function to Plot Confusion Matrix\n",
    "# http://scikit-learn.org/stable/auto_examples/model_selection/plot_confusion_matrix.html\n",
    "def plot_confusion_matrix(cm, classes,\n",
    "                          normalize=False,\n",
    "                          title='Confusion matrix',\n",
    "                          cmap=plt.cm.Blues):\n",
    "    \"\"\"\n",
    "    This function prints and plots the confusion matrix.\n",
    "    Normalization can be applied by setting `normalize=True`.\n",
    "    \n",
    "    if normalize:\n",
    "        cm = cm.astype('float') / cm.sum(axis=1)[:, np.newaxis]\n",
    "        print(\"Normalized confusion matrix\")\n",
    "    else:\n",
    "        print('Confusion matrix, without normalization')\n",
    "    \"\"\"\n",
    "    #print(cm)\n",
    "\n",
    "    plt.imshow(cm, interpolation='nearest', cmap=cmap)\n",
    "    plt.title(title)\n",
    "    plt.colorbar()\n",
    "    tick_marks = np.arange(len(classes))\n",
    "    plt.xticks(tick_marks, classes, rotation=45)\n",
    "    plt.yticks(tick_marks, classes)\n",
    "\n",
    "    fmt = '.2f' if normalize else 'd'\n",
    "    thresh = cm.max() / 2.\n",
    "    for i, j in itertools.product(range(cm.shape[0]), range(cm.shape[1])):\n",
    "        plt.text(j, i, format(cm[i, j], fmt),\n",
    "                 horizontalalignment=\"center\",\n",
    "                 color=\"white\" if cm[i, j] > thresh else \"black\")\n",
    "\n",
    "    plt.tight_layout()\n",
    "    plt.ylabel('True label')\n",
    "    plt.xlabel('Predicted label')"
   ]
  },
  {
   "cell_type": "code",
   "execution_count": null,
   "metadata": {},
   "outputs": [],
   "source": [
    "# Plot non-normalized confusion matrix\n",
    "plt.figure(figsize=(18,13))\n",
    "plot_confusion_matrix(cnf_matrix, classes=labelencoder.classes_,\n",
    "                      title='Confusion matrix, without normalization')"
   ]
  },
  {
   "cell_type": "code",
   "execution_count": null,
   "metadata": {},
   "outputs": [],
   "source": [
    "# Find wrong predicted samples indexes\n",
    "#wrong_predictions = [i for i, (e1, e2) in enumerate(zip(test_classes, predicted_labels)) if e1 != e2]\n",
    "wrong_predictions = [i for i, (e1, e2) in enumerate(zip(predicted_labels,test_classes)) if e1 != e2]"
   ]
  },
  {
   "cell_type": "code",
   "execution_count": null,
   "metadata": {},
   "outputs": [],
   "source": [
    "# Find wrong predicted audio files\n",
    "print(np.array(labels)[test_index[wrong_predictions]])\n",
    "print(predicted_labels[wrong_predictions].T)\n",
    "print(labelencoder.inverse_transform(predicted_labels[wrong_predictions]))\n",
    "print(np.array(files)[test_index[wrong_predictions]])"
   ]
  },
  {
   "cell_type": "code",
   "execution_count": null,
   "metadata": {},
   "outputs": [],
   "source": []
  },
  {
   "cell_type": "code",
   "execution_count": null,
   "metadata": {},
   "outputs": [],
   "source": []
  },
  {
   "cell_type": "code",
   "execution_count": null,
   "metadata": {},
   "outputs": [],
   "source": []
  },
  {
   "cell_type": "code",
   "execution_count": null,
   "metadata": {},
   "outputs": [],
   "source": []
  }
 ],
 "metadata": {
  "kernelspec": {
   "display_name": "Python 3",
   "language": "python",
   "name": "python3"
  },
  "language_info": {
   "codemirror_mode": {
    "name": "ipython",
    "version": 3
   },
   "file_extension": ".py",
   "mimetype": "text/x-python",
   "name": "python",
   "nbconvert_exporter": "python",
   "pygments_lexer": "ipython3",
   "version": "3.6.9"
  }
 },
 "nbformat": 4,
 "nbformat_minor": 2
}
