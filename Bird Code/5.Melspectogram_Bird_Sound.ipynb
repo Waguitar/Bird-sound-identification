{
 "cells": [
  {
   "cell_type": "markdown",
   "metadata": {},
   "source": [
    "## Imports"
   ]
  },
  {
   "cell_type": "code",
   "execution_count": 1,
   "metadata": {},
   "outputs": [],
   "source": [
    "# Imports\n",
    "\n",
    "#General\n",
    "import numpy as np\n",
    "import itertools\n",
    "\n",
    "# System\n",
    "import os, fnmatch\n",
    "\n",
    "# Visualization\n",
    "import seaborn #visualization library, must be imported before all other plotting libraries\n",
    "import matplotlib.pyplot as plt\n",
    "from IPython.core.display import HTML, display\n",
    "\n",
    "# Machine Learning\n",
    "from sklearn.preprocessing import LabelEncoder\n",
    "from sklearn.preprocessing import StandardScaler\n",
    "from sklearn.model_selection import StratifiedShuffleSplit\n",
    "from sklearn.neighbors import KNeighborsClassifier\n",
    "from sklearn.metrics import recall_score, precision_score, accuracy_score\n",
    "from sklearn.metrics import confusion_matrix, f1_score, classification_report\n",
    "\n",
    "# Random Seed\n",
    "from numpy.random import seed\n",
    "seed(1)\n",
    "\n",
    "# Audio\n",
    "import librosa.display, librosa"
   ]
  },
  {
   "cell_type": "markdown",
   "metadata": {},
   "source": [
    "## Get filenames"
   ]
  },
  {
   "cell_type": "code",
   "execution_count": 2,
   "metadata": {},
   "outputs": [
    {
     "name": "stdout",
     "output_type": "stream",
     "text": [
      "found 450 audio files in BirdSound/\n"
     ]
    }
   ],
   "source": [
    "# Get files in data path\n",
    "path='BirdSound/'\n",
    "# Get Audio Files\n",
    "files = []\n",
    "for root, dirnames, filenames in os.walk(path):\n",
    "    for filename in fnmatch.filter(filenames, '*.wav'):\n",
    "        files.append(os.path.join(root, filename))\n",
    "\n",
    "print(\"found %d audio files in %s\"%(len(files),path))"
   ]
  },
  {
   "cell_type": "markdown",
   "metadata": {},
   "source": [
    "## Prepare labels from filenames"
   ]
  },
  {
   "cell_type": "code",
   "execution_count": 3,
   "metadata": {},
   "outputs": [],
   "source": [
    "labels =[]\n",
    "classes=['Avocet','Bee_eater','Bittern','Bulbul','Bushshrike','Bush_warbler','Cisticola','Coot','Cormorant',\n",
    "         'Crake','Crane', 'Cuckooshrike', 'Dove','Drongo','Eagle','Egret','Falcon','Gallinule', 'Grassbird', \n",
    "         'Grebe','Grouse','Gull','Hawk','Heron','Hornbill' ,'Jay' ,'Kingfisher','Kite','Lapwing', 'Lark', \n",
    "         'Leaf_warbler','Martin','Nightjar','Oystercatcher', 'Parrot', 'Pheasant','Pigeon', 'Pipit',  \n",
    "         'Pitta','Plover','Quail','Rail','Raven','Reed_warbler','Roller','Sandpiper','Sparrow','Starling' , \n",
    "         'Stilt', 'Sunbird', 'Swift','Treecreeper','Trogon','Turaco', 'Wagtail','Waxbill','Weaver',\n",
    "         'White_eye','Woodpecker']\n",
    "\n",
    "\n",
    "\n",
    "color_dict={\n",
    "    \n",
    "           'Avocet':'blue','Bee_eater':'red','Bittern':'green','Bulbul':'black','Bushshrike':'magenta',\n",
    "         'Bush_warbler':'magenta','Cisticola':'magenta','Coot':'magenta','Cormorant':'magenta',\n",
    "         'Crake':'magenta','Crane':'magenta', 'Cuckooshrike':'magenta', 'Dove':'magenta','Drongo':'magenta',\n",
    "         'Eagle':'magenta','Egret':'magenta','Falcon':'magenta','Gallinule':'magenta', 'Grassbird':'magenta', \n",
    "         'Grebe':'magenta','Grouse':'magenta','Gull':'magenta','Hawk':'magenta','Heron':'magenta',\n",
    "         'Hornbill':'magenta' ,'Jay':'magenta' ,'Kingfisher':'magenta','Kite':'magenta','Lapwing':'magenta', \n",
    "         'Lark':'magenta','Leaf_warbler':'magenta','Martin':'magenta',   'Nightjar':'magenta',\n",
    "         'Oystercatcher':'magenta', 'Parrot':'magenta', 'Pheasant':'magenta','Pigeon':'magenta', \n",
    "         'Pipit':'magenta','Pitta':'magenta','Plover':'magenta','Quail':'magenta','Rail':'magenta',\n",
    "         'Raven':'magenta','Reed_warbler':'magenta','Roller':'magenta','Sandpiper':'magenta',\n",
    "         'Sparrow':'magenta','Starling':'magenta' ,'Stilt':'magenta', 'Sunbird':'magenta', 'Swift':'magenta','Treecreeper':'magenta',\n",
    "         'Trogon':'magenta','Turaco':'magenta', 'Wagtail':'magenta','Waxbill':'magenta','Weaver':'magenta',\n",
    "         'White_eye':'magenta','Woodpecker':'magenta'\n",
    "           \n",
    "           }\n",
    "\n",
    "color_list=[]\n",
    "for filename in files:\n",
    "    for name in classes:\n",
    "        if fnmatch.fnmatchcase(filename, '*'+name+'*'):\n",
    "            labels.append(name)\n",
    "            color_list.append(color_dict[name])\n",
    "            break\n",
    "    else:\n",
    "        labels.append('other')"
   ]
  },
  {
   "cell_type": "markdown",
   "metadata": {},
   "source": [
    "## Encode Labels"
   ]
  },
  {
   "cell_type": "code",
   "execution_count": 4,
   "metadata": {},
   "outputs": [
    {
     "name": "stdout",
     "output_type": "stream",
     "text": [
      "20 classes: Avocet, Coot, Crake, Crane, Dove, Gallinule, Grebe, Grouse, Lapwing, Nightjar, Oystercatcher, Pheasant, Pigeon, Plover, Quail, Rail, Sandpiper, Stilt, Swift, Turaco\n"
     ]
    }
   ],
   "source": [
    "# Encode Labels\n",
    "labelencoder = LabelEncoder()\n",
    "labelencoder.fit(labels)\n",
    "print(len(labelencoder.classes_), \"classes:\", \", \".join(list(labelencoder.classes_)))\n",
    "classes_num = labelencoder.transform(labels)"
   ]
  },
  {
   "cell_type": "markdown",
   "metadata": {},
   "source": [
    "## Parameters for MFCC"
   ]
  },
  {
   "cell_type": "code",
   "execution_count": 5,
   "metadata": {},
   "outputs": [],
   "source": [
    "# Parameters\n",
    "# Signal Processing Parameters\n",
    "fs = 44100         # Sampling Frequency\n",
    "n_fft = 2048       # length of the FFT window\n",
    "hop_length = 512   # Number of samples between successive frames\n",
    "n_mels = 128       # Number of Mel bands\n",
    "n_mfcc = 13        # Number of MFCCs\n",
    "\n",
    "# Machine Learning Parameters\n",
    "testset_size = 0.25 #Percentage of data for Testing\n",
    "n_neighbors=1       # Number of neighbors for kNN Classifier"
   ]
  },
  {
   "cell_type": "markdown",
   "metadata": {},
   "source": [
    "## Function to Calculate Audio Features: MFCC"
   ]
  },
  {
   "cell_type": "code",
   "execution_count": 6,
   "metadata": {},
   "outputs": [],
   "source": [
    "# Define Function to Calculate MFCC, Delta_MFCC and Delta2_MFCC\n",
    "def get_features(y, sr=fs):\n",
    "    #S = librosa.feature.melspectrogram(y, sr=fs, n_mels=n_mels)\n",
    "    #mfcc = librosa.feature.mfcc(S=librosa.power_to_db(S), n_mfcc=n_mfcc)\n",
    "    melspectrogram = librosa.feature.melspectrogram(y, sr=fs)\n",
    "    feature_vector = np.mean(melspectrogram,1)\n",
    "    #feature_vector = (feature_vector-np.mean(feature_vector))/np.std(feature_vector)\n",
    "    return feature_vector"
   ]
  },
  {
   "cell_type": "markdown",
   "metadata": {},
   "source": [
    "## Load audio files, calculate features and create feature vectors"
   ]
  },
  {
   "cell_type": "code",
   "execution_count": 7,
   "metadata": {},
   "outputs": [
    {
     "name": "stdout",
     "output_type": "stream",
     "text": [
      "get 1 of 450 = BirdSound/Gallinule/XC131319 - Common Gallinule - Gallinula galeata.wav\n",
      "get 2 of 450 = BirdSound/Gallinule/XC465599 - Common Gallinule - Gallinula galeata cachinnans.wav\n",
      "get 3 of 450 = BirdSound/Gallinule/XC452961 - Common Gallinule - Gallinula galeata.wav\n",
      "get 4 of 450 = BirdSound/Gallinule/XC45353 - Spot-flanked Gallinule - Porphyriops melanops crassirostris.wav\n",
      "get 5 of 450 = BirdSound/Gallinule/XC91834 - Spot-flanked Gallinule - Porphyriops melanops.wav\n",
      "get 6 of 450 = BirdSound/Gallinule/XC414334 - Common Gallinule - Gallinula galeata.wav\n",
      "get 7 of 450 = BirdSound/Gallinule/XC368531 - Common Gallinule - Gallinula galeata.wav\n",
      "get 8 of 450 = BirdSound/Gallinule/XC37123 - Purple Gallinule - Porphyrio martinica.wav\n",
      "get 9 of 450 = BirdSound/Gallinule/XC7979 - Common Gallinule - Gallinula galeata.wav\n",
      "get 10 of 450 = BirdSound/Gallinule/XC246282 - Common Gallinule - Gallinula galeata.wav\n",
      "get 11 of 450 = BirdSound/Gallinule/XC384693 - Common Gallinule - Gallinula galeata.wav\n",
      "get 12 of 450 = BirdSound/Gallinule/XC326531 - Purple Gallinule - Porphyrio martinica.wav\n",
      "get 13 of 450 = BirdSound/Gallinule/XC51100 - Purple Gallinule - Porphyrio martinica.wav\n",
      "get 14 of 450 = BirdSound/Gallinule/XC298133 - Common Gallinule - Gallinula galeata.wav\n",
      "get 15 of 450 = BirdSound/Gallinule/XC264307 - Purple Gallinule - Porphyrio martinica.wav\n",
      "get 16 of 450 = BirdSound/Gallinule/XC166168 - Purple Gallinule - Porphyrio martinica.wav\n",
      "get 17 of 450 = BirdSound/Gallinule/XC45354 - Spot-flanked Gallinule - Porphyriops melanops crassirostris.wav\n",
      "get 18 of 450 = BirdSound/Gallinule/XC50276 - Spot-flanked Gallinule - Porphyriops melanops.wav\n",
      "get 19 of 450 = BirdSound/Gallinule/XC223360 - Common Gallinule - Gallinula galeata.wav\n",
      "get 20 of 450 = BirdSound/Gallinule/XC139954 - Common Gallinule - Gallinula galeata.wav\n",
      "get 21 of 450 = BirdSound/Gallinule/XC223347 - Common Gallinule - Gallinula galeata.wav\n",
      "get 22 of 450 = BirdSound/Gallinule/XC100569 - Common Gallinule - Gallinula galeata.wav\n",
      "get 23 of 450 = BirdSound/Gallinule/XC1147 - Purple Gallinule - Porphyrio martinica.wav\n",
      "get 24 of 450 = BirdSound/Gallinule/XC228563 - Purple Gallinule - Porphyrio martinica.wav\n",
      "get 25 of 450 = BirdSound/Gallinule/XC51555 - Common Gallinule - Gallinula galeata.wav\n",
      "get 26 of 450 = BirdSound/Turaco/XC125114 - Livingstone's Turaco - Tauraco livingstonii.wav\n",
      "get 27 of 450 = BirdSound/Turaco/XC43622 - Yellow-billed Turaco - Tauraco macrorhynchus.wav\n",
      "get 28 of 450 = BirdSound/Turaco/XC445064 - White-cheeked Turaco - Tauraco leucotis.wav\n",
      "get 29 of 450 = BirdSound/Turaco/XC133022 - Yellow-billed Turaco - Tauraco macrorhynchus.wav\n",
      "get 30 of 450 = BirdSound/Turaco/XC241065 - Great Blue Turaco - Corythaeola cristata.wav\n",
      "get 31 of 450 = BirdSound/Turaco/XC62391 - Livingstone's Turaco - Tauraco livingstonii reichenowi.wav\n",
      "get 32 of 450 = BirdSound/Turaco/XC361401 - Knysna Turaco - Tauraco corythaix.wav\n",
      "get 33 of 450 = BirdSound/Turaco/XC72452 - Purple-crested Turaco - Tauraco porphyreolophus.wav\n",
      "get 34 of 450 = BirdSound/Turaco/XC95389 - Livingstone's Turaco - Tauraco livingstonii.wav\n",
      "get 35 of 450 = BirdSound/Turaco/XC99831 - Yellow-billed Turaco - Tauraco macrorhynchus verreauxii.wav\n",
      "get 36 of 450 = BirdSound/Turaco/XC459555 - Purple-crested Turaco - Tauraco porphyreolophus.wav\n",
      "get 37 of 450 = BirdSound/Turaco/XC398142 - Ross's Turaco - Musophaga rossae.wav\n",
      "get 38 of 450 = BirdSound/Turaco/XC349657 - Schalow's Turaco - Tauraco schalowi.wav\n",
      "get 39 of 450 = BirdSound/Turaco/XC419778 - Great Blue Turaco - Corythaeola cristata.wav\n",
      "get 40 of 450 = BirdSound/Turaco/XC335430 - Purple-crested Turaco - Tauraco porphyreolophus (1).wav\n",
      "get 41 of 450 = BirdSound/Turaco/XC300742 - White-cheeked Turaco - Tauraco leucotis.wav\n",
      "get 42 of 450 = BirdSound/Turaco/XC430378 - Black-billed Turaco - Tauraco schuettii.wav\n",
      "get 43 of 450 = BirdSound/Turaco/XC103430 - Yellow-billed Turaco - Tauraco macrorhynchus macrorhynchus.wav\n",
      "get 44 of 450 = BirdSound/Turaco/XC400403 - Yellow-billed Turaco - Tauraco macrorhynchus.wav\n",
      "get 45 of 450 = BirdSound/Turaco/XC115970 - Livingstone's Turaco - Tauraco livingstonii.wav\n",
      "get 46 of 450 = BirdSound/Grouse/XC320022 - Dusky Grouse - Dendragapus obscurus.wav\n",
      "get 47 of 450 = BirdSound/Grouse/XC77993 - Ruffed Grouse - Bonasa umbellus incana.wav\n",
      "get 48 of 450 = BirdSound/Grouse/XC129583 - Hazel Grouse - Tetrastes bonasia styriacus.wav\n",
      "get 49 of 450 = BirdSound/Grouse/XC90846 - Black Grouse - Lyrurus tetrix tetrix.wav\n",
      "get 50 of 450 = BirdSound/Grouse/XC71944 - Black Grouse - Lyrurus tetrix.wav\n",
      "get 51 of 450 = BirdSound/Grouse/XC403879 - Hazel Grouse - Tetrastes bonasia.wav\n",
      "get 52 of 450 = BirdSound/Grouse/XC48658 - Ruffed Grouse - Bonasa umbellus.wav\n",
      "get 53 of 450 = BirdSound/Grouse/XC434313 - Black-faced Sandgrouse - Pterocles decoratus.wav\n",
      "get 54 of 450 = BirdSound/Grouse/XC451470 - Black-faced Sandgrouse - Pterocles decoratus ellenbecki.wav\n",
      "get 55 of 450 = BirdSound/Grouse/XC309948 - Spotted Sandgrouse - Pterocles senegallus.wav\n",
      "get 56 of 450 = BirdSound/Grouse/XC132868 - Ruffed Grouse - Bonasa umbellus.wav\n",
      "get 57 of 450 = BirdSound/Grouse/XC395385 - Namaqua Sandgrouse - Pterocles namaqua.wav\n",
      "get 58 of 450 = BirdSound/Grouse/XC33773 - Sage Grouse - Centrocercus urophasianus.wav\n",
      "get 59 of 450 = BirdSound/Grouse/XC464316 - Hazel Grouse - Tetrastes bonasia.wav\n",
      "get 60 of 450 = BirdSound/Grouse/XC182895 - Pin-tailed Sandgrouse - Pterocles alchata caudacutus.wav\n",
      "get 61 of 450 = BirdSound/Grouse/XC425161 - Yellow-throated Sandgrouse - Pterocles gutturalis.wav\n",
      "get 62 of 450 = BirdSound/Grouse/XC469668 - Black Grouse - Lyrurus tetrix.wav\n",
      "get 63 of 450 = BirdSound/Grouse/XC115213 - Four-banded Sandgrouse - Pterocles quadricinctus.wav\n",
      "get 64 of 450 = BirdSound/Grouse/XC192746 - Hazel Grouse - Tetrastes bonasia.wav\n",
      "get 65 of 450 = BirdSound/Grouse/XC61517 - Ruffed Grouse - Bonasa umbellus.wav\n",
      "get 66 of 450 = BirdSound/Grouse/XC347020 - Namaqua Sandgrouse - Pterocles namaqua.wav\n",
      "get 67 of 450 = BirdSound/Grouse/XC469667 - Black Grouse - Lyrurus tetrix.wav\n",
      "get 68 of 450 = BirdSound/Grouse/XC92111 - Hazel Grouse - Tetrastes bonasia.wav\n",
      "get 69 of 450 = BirdSound/Grouse/XC468769 - Ruffed Grouse - Bonasa umbellus.wav\n",
      "get 70 of 450 = BirdSound/Grouse/XC410653 - Lichtenstein's Sandgrouse - Pterocles lichtensteinii.wav\n",
      "get 71 of 450 = BirdSound/Crane/XC116585 - Crane Hawk - Geranospiza caerulescens flexipes.wav\n",
      "get 72 of 450 = BirdSound/Crane/XC415287 - Common Crane - Grus grus.wav\n",
      "get 73 of 450 = BirdSound/Crane/XC149571 - Demoiselle Crane - Grus virgo.wav\n",
      "get 74 of 450 = BirdSound/Crane/XC107471 - Sandhill Crane - Antigone canadensis.wav\n",
      "get 75 of 450 = BirdSound/Crane/XC62293 - Grey Crowned Crane - Balearica regulorum regulorum.wav\n",
      "get 76 of 450 = BirdSound/Crane/XC361033 - Sandhill Crane - Antigone canadensis.wav\n",
      "get 77 of 450 = BirdSound/Crane/XC465930 - Common Crane - Grus grus.wav\n",
      "get 78 of 450 = BirdSound/Crane/XC267448 - Black Crowned Crane - Balearica pavonina ceciliae.wav\n",
      "get 79 of 450 = BirdSound/Crane/XC401978 - Siberian Crane - Leucogeranus leucogeranus.wav\n",
      "get 80 of 450 = BirdSound/Crane/XC295719 - Sarus Crane - Antigone antigone sharpii.wav\n",
      "get 81 of 450 = BirdSound/Crane/XC233280 - Common Crane - Grus grus (1).wav\n",
      "get 82 of 450 = BirdSound/Crane/XC459728 - Common Crane - Grus grus.wav\n",
      "get 83 of 450 = BirdSound/Crane/XC454331 - Sarus Crane - Antigone antigone.wav\n",
      "get 84 of 450 = BirdSound/Crane/XC58012 - Blue Crane - Grus paradisea.wav\n",
      "get 85 of 450 = BirdSound/Crane/XC432843 - Common Crane - Grus grus.wav\n",
      "get 86 of 450 = BirdSound/Crane/XC64698 - Red-crowned Crane - Grus japonensis.wav\n",
      "get 87 of 450 = BirdSound/Crane/XC476374 - Common Crane - Grus grus.wav\n",
      "get 88 of 450 = BirdSound/Crane/XC282899 - Blue Crane - Grus paradisea.wav\n",
      "get 89 of 450 = BirdSound/Crane/XC393305 - Sandhill Crane - Antigone canadensis.wav\n",
      "get 90 of 450 = BirdSound/Crane/XC326302 - Blue Crane - Grus paradisea.wav\n",
      "get 91 of 450 = BirdSound/Crane/XC167449 - Demoiselle Crane - Grus virgo.wav\n",
      "get 92 of 450 = BirdSound/Crane/XC62293 - Grey Crowned Crane - Balearica regulorum regulorum~1.wav\n",
      "get 93 of 450 = BirdSound/Crane/XC28066 - Common Crane - Grus grus.wav\n",
      "get 94 of 450 = BirdSound/Crane/XC409607 - Red-crowned Crane - Grus japonensis.wav\n"
     ]
    },
    {
     "name": "stdout",
     "output_type": "stream",
     "text": [
      "get 95 of 450 = BirdSound/Crane/XC216976 - Common Crane - Grus grus.wav\n",
      "get 96 of 450 = BirdSound/Crake/XC364028 - Rufous-faced Crake - Laterallus xenopterus.wav\n",
      "get 97 of 450 = BirdSound/Crake/XC15483 - Rufous-faced Crake - Laterallus xenopterus.wav\n",
      "get 98 of 450 = BirdSound/Crake/XC270595 - Chestnut-headed Crake - Anurolimnas castaneiceps.wav\n",
      "get 99 of 450 = BirdSound/Crake/XC237988 - Chestnut-headed Crake - Anurolimnas castaneiceps castaneiceps.wav\n",
      "get 100 of 450 = BirdSound/Crake/XC13469 - Black-banded Crake - Laterallus fasciatus~1.wav\n",
      "get 101 of 450 = BirdSound/Crake/XC224864 - Rusty-flanked Crake - Laterallus levraudi.wav\n",
      "get 102 of 450 = BirdSound/Crake/XC69265 - Spotless Crake - Porzana tabuensis.wav\n",
      "get 103 of 450 = BirdSound/Crake/XC288426 - Grey-breasted Crake - Laterallus exilis.wav\n",
      "get 104 of 450 = BirdSound/Crake/XC218852 - Russet-crowned Crake - Laterallus viridis.wav\n",
      "get 105 of 450 = BirdSound/Crake/XC13469 - Black-banded Crake - Laterallus fasciatus.wav\n",
      "get 106 of 450 = BirdSound/Crake/XC55476 - Ash-throated Crake - Porzana albicollis.wav\n",
      "get 107 of 450 = BirdSound/Crake/XC119289 - Russet-crowned Crake - Laterallus viridis.wav\n",
      "get 108 of 450 = BirdSound/Crake/XC210825 - Rufous-sided Crake - Laterallus melanophaius.wav\n",
      "get 109 of 450 = BirdSound/Crake/XC45671 - Rufous-sided Crake - Laterallus melanophaius.wav\n",
      "get 110 of 450 = BirdSound/Crake/XC94670 - Russet-crowned Crake - Laterallus viridis.wav\n",
      "get 111 of 450 = BirdSound/Crake/XC54440 - White-throated Crake - Laterallus albigularis albigularis.wav\n",
      "get 112 of 450 = BirdSound/Crake/XC371591 - Spotted Crake - Porzana porzana.wav\n",
      "get 113 of 450 = BirdSound/Crake/XC153920 - Black Crake - Amaurornis flavirostra (2).wav\n",
      "get 114 of 450 = BirdSound/Crake/XC349171 - Ocellated Crake - Micropygia schomburgkii.wav\n",
      "get 115 of 450 = BirdSound/Crake/XC2358 - Rufous-sided Crake - Laterallus melanophaius.wav\n",
      "get 116 of 450 = BirdSound/Crake/XC383379 - Ocellated Crake - Micropygia schomburgkii.wav\n",
      "get 117 of 450 = BirdSound/Crake/XC33120 - Rufous-sided Crake - Laterallus melanophaius.wav\n",
      "get 118 of 450 = BirdSound/Crake/XC63061 - Dot-winged Crake - Porzana spiloptera.wav\n",
      "get 119 of 450 = BirdSound/Crake/XC326873 - Band-bellied Crake - Porzana paykullii.wav\n",
      "get 120 of 450 = BirdSound/Crake/XC8140 - Rufous-sided Crake - Laterallus melanophaius.wav\n",
      "get 121 of 450 = BirdSound/Quail/XC317058 - Gambel's Quail - Callipepla gambelii.wav\n",
      "get 122 of 450 = BirdSound/Quail/XC20798 - Rufous-breasted Wood Quail - Odontophorus speciosus soderstromii.wav\n",
      "get 123 of 450 = BirdSound/Quail/XC297521 - Gambel's Quail - Callipepla gambelii.wav\n",
      "get 124 of 450 = BirdSound/Quail/XC329460 - Mountain Quail - Oreortyx pictus.wav\n",
      "get 125 of 450 = BirdSound/Quail/XC173190 - Gambel's Quail - Callipepla gambelii (1).wav\n",
      "get 126 of 450 = BirdSound/Quail/XC287755 - Spot-winged Wood Quail - Odontophorus capueira capueira.wav\n",
      "get 127 of 450 = BirdSound/Quail/XC59580 - Chestnut Wood Quail - Odontophorus hyperythrus.wav\n",
      "get 128 of 450 = BirdSound/Quail/XC251278 - Marbled Wood Quail - Odontophorus gujanensis buckleyi.wav\n",
      "get 129 of 450 = BirdSound/Quail/XC153452 - California Quail - Callipepla californica.wav\n",
      "get 130 of 450 = BirdSound/Quail/XC346272 - Black-eared Wood Quail - Odontophorus melanotis.wav\n",
      "get 131 of 450 = BirdSound/Quail/XC406904 - Black-eared Wood Quail - Odontophorus melanotis melanotis.wav\n",
      "get 132 of 450 = BirdSound/Quail/XC226853 - Rufous-fronted Wood Quail - Odontophorus erythrops.wav\n",
      "get 133 of 450 = BirdSound/Quail/XC384011 - Gambel's Quail - Callipepla gambelii.wav\n",
      "get 134 of 450 = BirdSound/Quail/XC53487 - California Quail - Callipepla californica.wav\n",
      "get 135 of 450 = BirdSound/Quail/XC263366 - Common Quail - Coturnix coturnix.wav\n",
      "get 136 of 450 = BirdSound/Quail/XC113194 - Ruddy Quail-Dove - Geotrygon montana.wav\n",
      "get 137 of 450 = BirdSound/Quail/XC238713 - Rufous-fronted Wood Quail - Odontophorus erythrops parambae.wav\n",
      "get 138 of 450 = BirdSound/Quail/XC310823 - Marbled Wood Quail - Odontophorus gujanensis.wav\n",
      "get 139 of 450 = BirdSound/Quail/XC35850 - Spot-winged Wood Quail - Odontophorus capueira.wav\n",
      "get 140 of 450 = BirdSound/Quail/XC3107 - Stripe-faced Wood Quail - Odontophorus balliviani.wav\n",
      "get 141 of 450 = BirdSound/Avocet/XC141694 - Pied Avocet - Recurvirostra avosetta.wav\n",
      "get 142 of 450 = BirdSound/Avocet/XC2479 - Andean Avocet - Recurvirostra andina.wav\n",
      "get 143 of 450 = BirdSound/Avocet/XC333699 - Pied Avocet - Recurvirostra avosetta.wav\n",
      "get 144 of 450 = BirdSound/Avocet/XC199264 - Pied Avocet - Recurvirostra avosetta.wav\n",
      "get 145 of 450 = BirdSound/Avocet/XC133080 - American Avocet - Recurvirostra americana.wav\n",
      "get 146 of 450 = BirdSound/Avocet/XC188266 - Pied Avocet - Recurvirostra avosetta.wav\n",
      "get 147 of 450 = BirdSound/Avocet/XC325032 - Pied Avocet - Recurvirostra avosetta.wav\n",
      "get 148 of 450 = BirdSound/Avocet/XC313293 - Pied Avocet - Recurvirostra avosetta.wav\n",
      "get 149 of 450 = BirdSound/Avocet/XC325032 - Pied Avocet - Recurvirostra avosetta (1).wav\n",
      "get 150 of 450 = BirdSound/Avocet/XC304644 - American Avocet - Recurvirostra americana.wav\n",
      "get 151 of 450 = BirdSound/Avocet/XC2474 - Andean Avocet - Recurvirostra andina.wav\n",
      "get 152 of 450 = BirdSound/Avocet/XC281050 - Pied Avocet - Recurvirostra avosetta.wav\n",
      "get 153 of 450 = BirdSound/Avocet/XC145135 - Pied Avocet - Recurvirostra avosetta.wav\n",
      "get 154 of 450 = BirdSound/Avocet/XC202859 - Pied Avocet - Recurvirostra avosetta.wav\n",
      "get 155 of 450 = BirdSound/Avocet/XC146958 - Andean Avocet - Recurvirostra andina.wav\n",
      "get 156 of 450 = BirdSound/Avocet/XC202858 - Pied Avocet - Recurvirostra avosetta.wav\n",
      "get 157 of 450 = BirdSound/Avocet/XC290087 - Pied Avocet - Recurvirostra avosetta.wav\n",
      "get 158 of 450 = BirdSound/Avocet/XC317972 - American Avocet - Recurvirostra americana.wav\n",
      "get 159 of 450 = BirdSound/Avocet/XC149144 - Pied Avocet - Recurvirostra avosetta.wav\n",
      "get 160 of 450 = BirdSound/Avocet/XC59841 - Andean Avocet - Recurvirostra andina.wav\n",
      "get 161 of 450 = BirdSound/Avocet/XC318019 - American Avocet - Recurvirostra americana.wav\n",
      "get 162 of 450 = BirdSound/Avocet/XC178760 - American Avocet - Recurvirostra americana.wav\n",
      "get 163 of 450 = BirdSound/Avocet/XC281049 - Pied Avocet - Recurvirostra avosetta.wav\n",
      "get 164 of 450 = BirdSound/Avocet/XC95529 - Andean Avocet - Recurvirostra andina.wav\n",
      "get 165 of 450 = BirdSound/Avocet/XC12130 - American Avocet - Recurvirostra americana.wav\n",
      "get 166 of 450 = BirdSound/Dove/XC306730 - Ring-necked Dove - Streptopelia capicola.wav\n",
      "get 167 of 450 = BirdSound/Dove/XC45718 - Namaqua Dove - Oena capensis.wav\n",
      "get 168 of 450 = BirdSound/Dove/XC71960 - Common Ground Dove - Columbina passerina.wav\n",
      "get 169 of 450 = BirdSound/Dove/XC85026 - Ruddy Ground Dove - Columbina talpacoti talpacoti.wav\n",
      "get 170 of 450 = BirdSound/Dove/XC280698 - Ring-necked Dove - Streptopelia capicola.wav\n",
      "get 171 of 450 = BirdSound/Dove/XC290355 - Ruddy Ground Dove - Columbina talpacoti rufipennis.wav\n",
      "get 172 of 450 = BirdSound/Dove/XC315273 - Blue Ground Dove - Claravis pretiosa.wav\n",
      "get 173 of 450 = BirdSound/Dove/XC65467 - Stock Dove - Columba oenas.wav\n",
      "get 174 of 450 = BirdSound/Dove/XC238202 - Croaking Ground Dove - Columbina cruziana.wav\n",
      "get 175 of 450 = BirdSound/Dove/XC90873 - Laughing Dove - Spilopelia senegalensis phoenicophila.wav\n",
      "get 176 of 450 = BirdSound/Dove/XC277489 - European Turtle Dove - Streptopelia turtur.wav\n",
      "get 177 of 450 = BirdSound/Dove/XC116327 - Mourning Collared Dove - Streptopelia decipiens.wav\n",
      "get 178 of 450 = BirdSound/Dove/XC34689 - Zebra Dove - Geopelia striata.wav\n",
      "get 179 of 450 = BirdSound/Dove/XC169693 - Vinaceous Dove - Streptopelia vinacea.wav\n",
      "get 180 of 450 = BirdSound/Dove/XC221433 - Scaled Dove - Columbina squammata.wav\n",
      "get 181 of 450 = BirdSound/Dove/XC367411 - European Turtle Dove - Streptopelia turtur.wav\n",
      "get 182 of 450 = BirdSound/Dove/XC155904 - Eurasian Collared Dove - Streptopelia decaocto decaocto.wav\n",
      "get 183 of 450 = BirdSound/Dove/XC197100 - Spotted Dove - Spilopelia chinensis.wav\n",
      "get 184 of 450 = BirdSound/Dove/XC21433 - Common Ground Dove - Columbina passerina pallescens (1).wav\n",
      "get 185 of 450 = BirdSound/Dove/XC120281 - Croaking Ground Dove - Columbina cruziana.wav\n",
      "get 186 of 450 = BirdSound/Dove/XC389564 - Blue Ground Dove - Claravis pretiosa.wav\n"
     ]
    },
    {
     "name": "stdout",
     "output_type": "stream",
     "text": [
      "get 187 of 450 = BirdSound/Dove/XC17077 - Ruddy Ground Dove - Columbina talpacoti.wav\n",
      "get 188 of 450 = BirdSound/Dove/XC74980 - Common Ground Dove - Columbina passerina.wav\n",
      "get 189 of 450 = BirdSound/Dove/XC300695 - Ring-necked Dove - Streptopelia capicola somalica.wav\n",
      "get 190 of 450 = BirdSound/Dove/XC209306 - Blue Ground Dove - Claravis pretiosa.wav\n",
      "get 191 of 450 = BirdSound/Coot/XC14381 - American Coot - Fulica americana~1.wav\n",
      "get 192 of 450 = BirdSound/Coot/XC287245 - Andean Coot - Fulica ardesiaca.wav\n",
      "get 193 of 450 = BirdSound/Coot/XC139909 - American Coot - Fulica americana.wav\n",
      "get 194 of 450 = BirdSound/Coot/XC48557 - Red-fronted Coot - Fulica rufifrons.wav\n",
      "get 195 of 450 = BirdSound/Coot/XC175423 - Eurasian Coot - Fulica atra.wav\n",
      "get 196 of 450 = BirdSound/Coot/XC57425 - American Coot - Fulica americana.wav\n",
      "get 197 of 450 = BirdSound/Coot/XC160661 - American Coot - Fulica americana.wav\n",
      "get 198 of 450 = BirdSound/Coot/XC37846 - American Coot - Fulica americana.wav\n",
      "get 199 of 450 = BirdSound/Coot/XC31056 - Eurasian Coot - Fulica atra.wav\n",
      "get 200 of 450 = BirdSound/Coot/XC160770 - American Coot - Fulica americana.wav\n",
      "get 201 of 450 = BirdSound/Coot/XC302637 - Eurasian Coot - Fulica atra.wav\n",
      "get 202 of 450 = BirdSound/Coot/XC48552 - Red-gartered Coot - Fulica armillata.wav\n",
      "get 203 of 450 = BirdSound/Coot/XC48553 - Red-gartered Coot - Fulica armillata.wav\n",
      "get 204 of 450 = BirdSound/Coot/XC37445 - Eurasian Coot - Fulica atra.wav\n",
      "get 205 of 450 = BirdSound/Coot/XC50787 - Red-gartered Coot - Fulica armillata.wav\n",
      "get 206 of 450 = BirdSound/Coot/XC8578 - White-winged Coot - Fulica leucoptera.wav\n",
      "get 207 of 450 = BirdSound/Coot/XC17280 - Andean Coot - Fulica ardesiaca.wav\n",
      "get 208 of 450 = BirdSound/Coot/XC50788 - White-winged Coot - Fulica leucoptera.wav\n",
      "get 209 of 450 = BirdSound/Coot/XC44706 - Eurasian Coot - Fulica atra atra.wav\n",
      "get 210 of 450 = BirdSound/Coot/XC175425 - Eurasian Coot - Fulica atra.wav\n",
      "get 211 of 450 = BirdSound/Coot/XC89324 - American Coot - Fulica americana.wav\n",
      "get 212 of 450 = BirdSound/Coot/XC28533 - Eurasian Coot - Fulica atra.wav\n",
      "get 213 of 450 = BirdSound/Coot/XC123344 - American Coot - Fulica americana.wav\n",
      "get 214 of 450 = BirdSound/Coot/XC14381 - American Coot - Fulica americana.wav\n",
      "get 215 of 450 = BirdSound/Coot/XC153335 - American Coot - Fulica americana.wav\n",
      "get 216 of 450 = BirdSound/Swift/XC186231 - Sooty Swift - Cypseloides fumigatus.wav\n",
      "get 217 of 450 = BirdSound/Swift/XC425114 - White-throated Swift - Aeronautes saxatalis.wav\n",
      "get 218 of 450 = BirdSound/Swift/XC440455 - Alpine Swift - Tachymarptis melba.wav\n",
      "get 219 of 450 = BirdSound/Swift/XC329064 - Short-tailed Swift - Chaetura brachyura.wav\n",
      "get 220 of 450 = BirdSound/Swift/XC376926 - Common Swift - Apus apus.wav\n",
      "get 221 of 450 = BirdSound/Swift/XC12874 - White-chinned Swift - Cypseloides cryptus.wav\n",
      "get 222 of 450 = BirdSound/Swift/XC413368 - Chimney Swift - Chaetura pelagica.wav\n",
      "get 223 of 450 = BirdSound/Swift/XC471844 - Mascarene Swiftlet - Aerodramus francicus.wav\n",
      "get 224 of 450 = BirdSound/Swift/XC260445 - Chestnut-collared Swift - Streptoprocne rutila brunnitorques.wav\n",
      "get 225 of 450 = BirdSound/Swift/XC118539 - Common Swift - Apus apus.wav\n",
      "get 226 of 450 = BirdSound/Swift/XC257056 - Lesser Swallow-tailed Swift - Panyptila cayennensis.wav\n",
      "get 227 of 450 = BirdSound/Swift/XC193886 - Grey-rumped Treeswift - Hemiprocne longipennis wallacii.wav\n",
      "get 228 of 450 = BirdSound/Swift/XC303387 - White-chinned Swift - Cypseloides cryptus.wav\n",
      "get 229 of 450 = BirdSound/Swift/XC37809 - Alpine Swift - Tachymarptis melba.wav\n",
      "get 230 of 450 = BirdSound/Swift/XC214775 - Tepui Swift - Streptoprocne phelpsi.wav\n",
      "get 231 of 450 = BirdSound/Swift/XC230419 - Neotropical Palm Swift - Tachornis squamata.wav\n",
      "get 232 of 450 = BirdSound/Swift/XC95620 - Lesser Swallow-tailed Swift - Panyptila cayennensis.wav\n",
      "get 233 of 450 = BirdSound/Swift/XC184145 - Common Swift - Apus apus.wav\n",
      "get 234 of 450 = BirdSound/Swift/XC1885 - Short-tailed Swift - Chaetura brachyura.wav\n",
      "get 235 of 450 = BirdSound/Swift/XC283409 - Asian Palm Swift - Cypsiurus balasiensis.wav\n",
      "get 236 of 450 = BirdSound/Pheasant/XC401850 - Common Pheasant - Phasianus colchicus.wav\n",
      "get 237 of 450 = BirdSound/Pheasant/XC222485 - Pheasant Cuckoo - Dromococcyx phasianellus.wav\n",
      "get 238 of 450 = BirdSound/Pheasant/XC114691 - Kalij Pheasant - Lophura leucomelanos hamiltonii.wav\n",
      "get 239 of 450 = BirdSound/Pheasant/XC99473 - Common Pheasant - Phasianus colchicus.wav\n",
      "get 240 of 450 = BirdSound/Pheasant/XC422829 - Common Pheasant - Phasianus colchicus.wav\n",
      "get 241 of 450 = BirdSound/Pheasant/XC197441 - Common Pheasant - Phasianus colchicus.wav\n",
      "get 242 of 450 = BirdSound/Pheasant/XC364387 - Common Pheasant - Phasianus colchicus.wav\n",
      "get 243 of 450 = BirdSound/Pheasant/XC115583 - Common Pheasant - Phasianus colchicus.wav\n",
      "get 244 of 450 = BirdSound/Pheasant/XC76852 - Common Pheasant - Phasianus colchicus.wav\n",
      "get 245 of 450 = BirdSound/Pheasant/XC126037 - Pheasant Cuckoo - Dromococcyx phasianellus.wav\n",
      "get 246 of 450 = BirdSound/Pheasant/XC150119 - Blue Eared Pheasant - Crossoptilon auritum.wav\n",
      "get 247 of 450 = BirdSound/Pheasant/XC281836 - Common Pheasant - Phasianus colchicus.wav\n",
      "get 248 of 450 = BirdSound/Pheasant/XC384627 - Common Pheasant - Phasianus colchicus.wav\n",
      "get 249 of 450 = BirdSound/Pheasant/XC182996 - Reeves's Pheasant - Syrmaticus reevesii.wav\n",
      "get 250 of 450 = BirdSound/Pheasant/XC174770 - Common Pheasant - Phasianus colchicus.wav\n",
      "get 251 of 450 = BirdSound/Pheasant/XC339797 - Common Pheasant - Phasianus colchicus.wav\n",
      "get 252 of 450 = BirdSound/Pheasant/XC437853 - Common Pheasant - Phasianus colchicus.wav\n",
      "get 253 of 450 = BirdSound/Pheasant/XC183800 - Common Pheasant - Phasianus colchicus turcestanicus.wav\n",
      "get 254 of 450 = BirdSound/Pheasant/XC266194 - Blood Pheasant - Ithaginis cruentus berezowskii.wav\n",
      "get 255 of 450 = BirdSound/Pheasant/XC457008 - Silver Pheasant - Lophura nycthemera.wav\n",
      "get 256 of 450 = BirdSound/Grebe/XC51141 - White-tufted Grebe - Rollandia rolland.wav\n",
      "get 257 of 450 = BirdSound/Grebe/XC160444 - Black-necked Grebe - Podiceps nigricollis.wav\n",
      "get 258 of 450 = BirdSound/Grebe/XC280980 - Little Grebe - Tachybaptus ruficollis.wav\n",
      "get 259 of 450 = BirdSound/Grebe/XC451358 - Pied-billed Grebe - Podilymbus podiceps.wav\n",
      "get 260 of 450 = BirdSound/Grebe/XC267199 - Black-necked Grebe - Podiceps nigricollis.wav\n",
      "get 261 of 450 = BirdSound/Grebe/XC331144 - Black-necked Grebe - Podiceps nigricollis.wav\n",
      "get 262 of 450 = BirdSound/Grebe/XC14372 - Pied-billed Grebe - Podilymbus podiceps.wav\n",
      "get 263 of 450 = BirdSound/Grebe/XC175448 - Little Grebe - Tachybaptus ruficollis.wav\n",
      "get 264 of 450 = BirdSound/Grebe/XC442038 - Little Grebe - Tachybaptus ruficollis.wav\n",
      "get 265 of 450 = BirdSound/Grebe/XC305803 - Pied-billed Grebe - Podilymbus podiceps.wav\n",
      "get 266 of 450 = BirdSound/Grebe/XC105382 - Pied-billed Grebe - Podilymbus podiceps.wav\n",
      "get 267 of 450 = BirdSound/Grebe/XC377189 - Little Grebe - Tachybaptus ruficollis.wav\n",
      "get 268 of 450 = BirdSound/Grebe/XC185652 - Little Grebe - Tachybaptus ruficollis.wav\n",
      "get 269 of 450 = BirdSound/Grebe/XC460157 - Great Crested Grebe - Podiceps cristatus.wav\n",
      "get 270 of 450 = BirdSound/Grebe/XC43482 - Little Grebe - Tachybaptus ruficollis.wav\n",
      "get 271 of 450 = BirdSound/Grebe/XC362173 - Little Grebe - Tachybaptus ruficollis.wav\n",
      "get 272 of 450 = BirdSound/Grebe/XC83320 - Least Grebe - Tachybaptus dominicus.wav\n",
      "get 273 of 450 = BirdSound/Grebe/XC314998 - Little Grebe - Tachybaptus ruficollis.wav\n",
      "get 274 of 450 = BirdSound/Grebe/XC51138 - White-tufted Grebe - Rollandia rolland.wav\n",
      "get 275 of 450 = BirdSound/Grebe/XC54500 - Pied-billed Grebe - Podilymbus podiceps antarcticus.wav\n",
      "get 276 of 450 = BirdSound/Grebe/XC26547 - Great Crested Grebe - Podiceps cristatus cristatus.wav\n",
      "get 277 of 450 = BirdSound/Grebe/XC424675 - Little Grebe - Tachybaptus ruficollis.wav\n",
      "get 278 of 450 = BirdSound/Grebe/XC466329 - Little Grebe - Tachybaptus ruficollis.wav\n",
      "get 279 of 450 = BirdSound/Grebe/XC373560 - Little Grebe - Tachybaptus ruficollis.wav\n",
      "get 280 of 450 = BirdSound/Grebe/XC55584 - Least Grebe - Tachybaptus dominicus.wav\n",
      "get 281 of 450 = BirdSound/Plover/XC14345 - Purple-crowned Plovercrest - Stephanoxis loddigesii.wav\n",
      "get 282 of 450 = BirdSound/Plover/XC429053 - Purple-crowned Plovercrest - Stephanoxis loddigesii.wav\n",
      "get 283 of 450 = BirdSound/Plover/XC450072 - Magellanic Plover - Pluvianellus socialis.wav\n"
     ]
    },
    {
     "name": "stdout",
     "output_type": "stream",
     "text": [
      "get 284 of 450 = BirdSound/Plover/XC140325 - Little Ringed Plover - Charadrius dubius papuanus.wav\n",
      "get 285 of 450 = BirdSound/Plover/XC59911 - Rufous-chested Plover - Charadrius modestus.wav\n",
      "get 286 of 450 = BirdSound/Plover/XC371003 - Kentish Plover - Charadrius alexandrinus.wav\n",
      "get 287 of 450 = BirdSound/Plover/XC309206 - Little Ringed Plover - Charadrius dubius curonicus.wav\n",
      "get 288 of 450 = BirdSound/Plover/XC356536 - Common Ringed Plover - Charadrius hiaticula.wav\n",
      "get 289 of 450 = BirdSound/Plover/XC345511 - European Golden Plover - Pluvialis apricaria.wav\n",
      "get 290 of 450 = BirdSound/Plover/XC51732 - Collared Plover - Charadrius collaris.wav\n",
      "get 291 of 450 = BirdSound/Plover/XC339475 - Common Ringed Plover - Charadrius hiaticula.wav\n",
      "get 292 of 450 = BirdSound/Plover/XC378002 - Common Ringed Plover - Charadrius hiaticula.wav\n",
      "get 293 of 450 = BirdSound/Plover/XC441251 - Grey Plover - Pluvialis squatarola.wav\n",
      "get 294 of 450 = BirdSound/Plover/XC266278 - Little Ringed Plover - Charadrius dubius curonicus.wav\n",
      "get 295 of 450 = BirdSound/Plover/XC201561 - Grey Plover - Pluvialis squatarola.wav\n",
      "get 296 of 450 = BirdSound/Plover/XC228428 - American Golden Plover - Pluvialis dominica.wav\n",
      "get 297 of 450 = BirdSound/Plover/XC91478 - Pacific Golden Plover - Pluvialis fulva.wav\n",
      "get 298 of 450 = BirdSound/Plover/XC220898 - Collared Plover - Charadrius collaris.wav\n",
      "get 299 of 450 = BirdSound/Plover/XC281063 - Common Ringed Plover - Charadrius hiaticula.wav\n",
      "get 300 of 450 = BirdSound/Plover/XC323096 - Semipalmated Plover - Charadrius semipalmatus.wav\n",
      "get 301 of 450 = BirdSound/Lapwing/XC22547 - Masked Lapwing - Vanellus miles.wav\n",
      "get 302 of 450 = BirdSound/Lapwing/XC199812 - Northern Lapwing - Vanellus vanellus.wav\n",
      "get 303 of 450 = BirdSound/Lapwing/XC92841 - Crowned Lapwing - Vanellus coronatus.wav\n",
      "get 304 of 450 = BirdSound/Lapwing/XC300855 - Spot-breasted Lapwing - Vanellus melanocephalus (1).wav\n",
      "get 305 of 450 = BirdSound/Lapwing/XC269626 - Grey-headed Lapwing - Vanellus cinereus.wav\n",
      "get 306 of 450 = BirdSound/Lapwing/XC240821 - Crowned Lapwing - Vanellus coronatus.wav\n",
      "get 307 of 450 = BirdSound/Lapwing/XC50272 - Southern Lapwing - Vanellus chilensis.wav\n",
      "get 308 of 450 = BirdSound/Lapwing/XC94304 - Red-wattled Lapwing - Vanellus indicus atronuchalis.wav\n",
      "get 309 of 450 = BirdSound/Lapwing/XC169890 - Northern Lapwing - Vanellus vanellus.wav\n",
      "get 310 of 450 = BirdSound/Lapwing/XC184638 - Red-wattled Lapwing - Vanellus indicus indicus.wav\n",
      "get 311 of 450 = BirdSound/Lapwing/XC81962 - Grey-headed Lapwing - Vanellus cinereus.wav\n",
      "get 312 of 450 = BirdSound/Lapwing/XC108381 - Southern Lapwing - Vanellus chilensis.wav\n",
      "get 313 of 450 = BirdSound/Lapwing/XC429527 - Spur-winged Lapwing - Vanellus spinosus.wav\n",
      "get 314 of 450 = BirdSound/Lapwing/XC147425 - Northern Lapwing - Vanellus vanellus.wav\n",
      "get 315 of 450 = BirdSound/Lapwing/XC294380 - Crowned Lapwing - Vanellus coronatus.wav\n",
      "get 316 of 450 = BirdSound/Lapwing/XC425220 - Spur-winged Lapwing - Vanellus spinosus.wav\n",
      "get 317 of 450 = BirdSound/Lapwing/XC399003 - Northern Lapwing - Vanellus vanellus.wav\n",
      "get 318 of 450 = BirdSound/Lapwing/XC38243 - Masked Lapwing - Vanellus miles.wav\n",
      "get 319 of 450 = BirdSound/Lapwing/XC307119 - Grey-headed Lapwing - Vanellus cinereus.wav\n",
      "get 320 of 450 = BirdSound/Lapwing/XC103918 - Southern Lapwing - Vanellus chilensis.wav\n",
      "get 321 of 450 = BirdSound/Lapwing/XC108381 - Southern Lapwing - Vanellus chilensis~1.wav\n",
      "get 322 of 450 = BirdSound/Lapwing/XC126181 - Crowned Lapwing - Vanellus coronatus.wav\n",
      "get 323 of 450 = BirdSound/Lapwing/XC74349 - River Lapwing - Vanellus duvaucelii.wav\n",
      "get 324 of 450 = BirdSound/Lapwing/XC368211 - Red-wattled Lapwing - Vanellus indicus.wav\n",
      "get 325 of 450 = BirdSound/Lapwing/XC300861 - Spot-breasted Lapwing - Vanellus melanocephalus (1).wav\n",
      "get 326 of 450 = BirdSound/Nightjar/XC408000 - Sickle-winged Nightjar - Eleothreptus anomalus.wav\n",
      "get 327 of 450 = BirdSound/Nightjar/XC403361 - Black-shouldered Nightjar - Caprimulgus nigriscapularis.wav\n",
      "get 328 of 450 = BirdSound/Nightjar/XC154493 - Sickle-winged Nightjar - Eleothreptus anomalus.wav\n",
      "get 329 of 450 = BirdSound/Nightjar/XC357069 - Freckled Nightjar - Caprimulgus tristigma.wav\n",
      "get 330 of 450 = BirdSound/Nightjar/XC77708 - Savanna Nightjar - Caprimulgus affinis stictomus.wav\n",
      "get 331 of 450 = BirdSound/Nightjar/XC117084 - Silky-tailed Nightjar - Antrostomus sericocaudatus.wav\n",
      "get 332 of 450 = BirdSound/Nightjar/XC167119 - Rufous Nightjar - Antrostomus rufus.wav\n",
      "get 333 of 450 = BirdSound/Nightjar/XC272906 - Little Nightjar - Setopagis parvula.wav\n",
      "get 334 of 450 = BirdSound/Nightjar/XC343028 - Rufous Nightjar - Antrostomus rufus.wav\n",
      "get 335 of 450 = BirdSound/Nightjar/XC6095 - Spot-tailed Nightjar - Hydropsalis maculicaudus.wav\n",
      "get 336 of 450 = BirdSound/Nightjar/XC93604 - Swallow-tailed Nightjar - Uropsalis segmentata kalinowskii.wav\n",
      "get 337 of 450 = BirdSound/Nightjar/XC197450 - Lyre-tailed Nightjar - Uropsalis lyra.wav\n",
      "get 338 of 450 = BirdSound/Nightjar/XC55649 - White-winged Nightjar - Eleothreptus candicans.wav\n",
      "get 339 of 450 = BirdSound/Nightjar/XC13333 - Spot-tailed Nightjar - Hydropsalis maculicaudus.wav\n",
      "get 340 of 450 = BirdSound/Nightjar/XC30564 - Silky-tailed Nightjar - Antrostomus sericocaudatus sericocaudatus.wav\n",
      "get 341 of 450 = BirdSound/Nightjar/XC73507 - Jerdon's Nightjar - Caprimulgus atripennis.wav\n",
      "get 342 of 450 = BirdSound/Nightjar/XC180595 - Band-winged Nightjar - Systellura longirostris.wav\n",
      "get 343 of 450 = BirdSound/Nightjar/XC212331 - Standard-winged Nightjar - Caprimulgus longipennis.wav\n",
      "get 344 of 450 = BirdSound/Nightjar/XC20268 - Pygmy Nightjar - Nyctipolus hirundinaceus cearae.wav\n",
      "get 345 of 450 = BirdSound/Nightjar/XC43206 - Sickle-winged Nightjar - Eleothreptus anomalus.wav\n",
      "get 346 of 450 = BirdSound/Nightjar/XC2394 - Silky-tailed Nightjar - Antrostomus sericocaudatus.wav\n",
      "get 347 of 450 = BirdSound/Nightjar/XC290528 - Malaysian Eared Nightjar - Lyncornis temminckii.wav\n",
      "get 348 of 450 = BirdSound/Nightjar/XC321377 - European Nightjar - Caprimulgus europaeus.wav\n",
      "get 349 of 450 = BirdSound/Nightjar/XC51584 - Scissor-tailed Nightjar - Hydropsalis torquata.wav\n",
      "get 350 of 450 = BirdSound/Nightjar/XC257052 - Ladder-tailed Nightjar - Hydropsalis climacocerca climacocerca.wav\n",
      "get 351 of 450 = BirdSound/Oystercatcher/XC28379 - Magellanic Oystercatcher - Haematopus leucopodus.wav\n",
      "get 352 of 450 = BirdSound/Oystercatcher/XC25075 - Eurasian Oystercatcher - Haematopus ostralegus.wav\n",
      "get 353 of 450 = BirdSound/Oystercatcher/XC129667 - Eurasian Oystercatcher - Haematopus ostralegus.wav\n",
      "get 354 of 450 = BirdSound/Oystercatcher/XC392519 - African Oystercatcher - Haematopus moquini.wav\n",
      "get 355 of 450 = BirdSound/Oystercatcher/XC60035 - Blackish Oystercatcher - Haematopus ater.wav\n",
      "get 356 of 450 = BirdSound/Oystercatcher/XC449757 - Eurasian Oystercatcher - Haematopus ostralegus.wav\n",
      "get 357 of 450 = BirdSound/Oystercatcher/XC263994 - Eurasian Oystercatcher - Haematopus ostralegus.wav\n",
      "get 358 of 450 = BirdSound/Oystercatcher/XC43007 - Blackish Oystercatcher - Haematopus ater.wav\n",
      "get 359 of 450 = BirdSound/Oystercatcher/XC411158 - Eurasian Oystercatcher - Haematopus ostralegus ostralegus.wav\n",
      "get 360 of 450 = BirdSound/Oystercatcher/XC281037 - Eurasian Oystercatcher - Haematopus ostralegus.wav\n",
      "get 361 of 450 = BirdSound/Oystercatcher/XC376353 - Eurasian Oystercatcher - Haematopus ostralegus.wav\n",
      "get 362 of 450 = BirdSound/Oystercatcher/XC234514 - African Oystercatcher - Haematopus moquini.wav\n",
      "get 363 of 450 = BirdSound/Oystercatcher/XC384216 - American Oystercatcher - Haematopus palliatus.wav\n",
      "get 364 of 450 = BirdSound/Oystercatcher/XC366796 - Sooty Oystercatcher - Haematopus fuliginosus.wav\n",
      "get 365 of 450 = BirdSound/Oystercatcher/XC184412 - Eurasian Oystercatcher - Haematopus ostralegus buturlini.wav\n",
      "get 366 of 450 = BirdSound/Oystercatcher/XC159832 - Black Oystercatcher - Haematopus bachmani.wav\n",
      "get 367 of 450 = BirdSound/Oystercatcher/XC346818 - African Oystercatcher - Haematopus moquini.wav\n",
      "get 368 of 450 = BirdSound/Oystercatcher/XC48567 - Magellanic Oystercatcher - Haematopus leucopodus.wav\n",
      "get 369 of 450 = BirdSound/Oystercatcher/XC329469 - African Oystercatcher - Haematopus moquini.wav\n"
     ]
    },
    {
     "name": "stdout",
     "output_type": "stream",
     "text": [
      "get 370 of 450 = BirdSound/Oystercatcher/XC144971 - Eurasian Oystercatcher - Haematopus ostralegus.wav\n",
      "get 371 of 450 = BirdSound/Pigeon/XC715 - Ruddy Pigeon - Patagioenas subvinacea.wav\n",
      "get 372 of 450 = BirdSound/Pigeon/XC368234 - Dusky Pigeon - Patagioenas goodsoni.wav\n",
      "get 373 of 450 = BirdSound/Pigeon/XC221376 - Short-billed Pigeon - Patagioenas nigrirostris.wav\n",
      "get 374 of 450 = BirdSound/Pigeon/XC205976 - Picazuro Pigeon - Patagioenas picazuro.wav\n",
      "get 375 of 450 = BirdSound/Pigeon/XC94615 - Common Wood Pigeon - Columba palumbus.wav\n",
      "get 376 of 450 = BirdSound/Pigeon/XC246531 - White-bellied Green Pigeon - Treron sieboldii.wav\n",
      "get 377 of 450 = BirdSound/Pigeon/XC39584 - Ruddy Pigeon - Patagioenas subvinacea.wav\n",
      "get 378 of 450 = BirdSound/Pigeon/XC166060 - Orange-breasted Green Pigeon - Treron bicinctus.wav\n",
      "get 379 of 450 = BirdSound/Pigeon/XC271973 - Plumbeous Pigeon - Patagioenas plumbea wallacei.wav\n",
      "get 380 of 450 = BirdSound/Pigeon/XC257603 - Plumbeous Pigeon - Patagioenas plumbea bogotensis.wav\n",
      "get 381 of 450 = BirdSound/Pigeon/XC285801 - White-bellied Green Pigeon - Treron sieboldii.wav\n",
      "get 382 of 450 = BirdSound/Pigeon/XC48673 - Picazuro Pigeon - Patagioenas picazuro.wav\n",
      "get 383 of 450 = BirdSound/Pigeon/XC395827 - African Olive Pigeon - Columba arquatrix.wav\n",
      "get 384 of 450 = BirdSound/Pigeon/XC227344 - Ruddy Pigeon - Patagioenas subvinacea.wav\n",
      "get 385 of 450 = BirdSound/Pigeon/XC55373 - Dusky Pigeon - Patagioenas goodsoni.wav\n",
      "get 386 of 450 = BirdSound/Pigeon/XC238773 - Scaled Pigeon - Patagioenas speciosa.wav\n",
      "get 387 of 450 = BirdSound/Pigeon/XC48672 - Picazuro Pigeon - Patagioenas picazuro.wav\n",
      "get 388 of 450 = BirdSound/Pigeon/XC486547 - Hill Pigeon - Columba rupestris.wav\n",
      "get 389 of 450 = BirdSound/Pigeon/XC39583 - Ruddy Pigeon - Patagioenas subvinacea.wav\n",
      "get 390 of 450 = BirdSound/Pigeon/XC127648 - African Olive Pigeon - Columba arquatrix.wav\n",
      "get 391 of 450 = BirdSound/Stilt/XC193722 - Black-winged Stilt - Himantopus himantopus.wav\n",
      "get 392 of 450 = BirdSound/Stilt/XC145752 - Black-necked Stilt - Himantopus mexicanus.wav\n",
      "get 393 of 450 = BirdSound/Stilt/XC177581 - Black-necked Stilt - Himantopus mexicanus.wav\n",
      "get 394 of 450 = BirdSound/Stilt/XC93965 - Black-winged Stilt - Himantopus himantopus (1).wav\n",
      "get 395 of 450 = BirdSound/Stilt/XC174956 - Black-necked Stilt - Himantopus mexicanus.wav\n",
      "get 396 of 450 = BirdSound/Stilt/XC147547 - White-backed Stilt - Himantopus melanurus.wav\n",
      "get 397 of 450 = BirdSound/Stilt/XC269525 - Black-winged Stilt - Himantopus himantopus.wav\n",
      "get 398 of 450 = BirdSound/Stilt/XC304651 - Black-necked Stilt - Himantopus mexicanus.wav\n",
      "get 399 of 450 = BirdSound/Stilt/XC280353 - Black-winged Stilt - Himantopus himantopus.wav\n",
      "get 400 of 450 = BirdSound/Stilt/XC328055 - Black-winged Stilt - Himantopus himantopus.wav\n",
      "get 401 of 450 = BirdSound/Stilt/XC184127 - Black-winged Stilt - Himantopus himantopus.wav\n",
      "get 402 of 450 = BirdSound/Stilt/XC352343 - Black-necked Stilt - Himantopus mexicanus mexicanus.wav\n",
      "get 403 of 450 = BirdSound/Stilt/XC338804 - Black-winged Stilt - Himantopus himantopus.wav\n",
      "get 404 of 450 = BirdSound/Stilt/XC224234 - Black-necked Stilt - Himantopus mexicanus.wav\n",
      "get 405 of 450 = BirdSound/Stilt/XC261421 - Black-necked Stilt - Himantopus mexicanus.wav\n",
      "get 406 of 450 = BirdSound/Stilt/XC257542 - Black-necked Stilt - Himantopus mexicanus mexicanus.wav\n",
      "get 407 of 450 = BirdSound/Stilt/XC128124 - Black-winged Stilt - Himantopus himantopus.wav\n",
      "get 408 of 450 = BirdSound/Stilt/XC29798 - Black-winged Stilt - Himantopus himantopus.wav\n",
      "get 409 of 450 = BirdSound/Stilt/XC6707 - White-backed Stilt - Himantopus melanurus melanurus.wav\n",
      "get 410 of 450 = BirdSound/Stilt/XC76189 - Stilt Sandpiper - Calidris himantopus.wav\n",
      "get 411 of 450 = BirdSound/Rail/XC243448 - Slaty-breasted Wood Rail - Aramides saracura.wav\n",
      "get 412 of 450 = BirdSound/Rail/XC388651 - Water Rail - Rallus aquaticus.wav\n",
      "get 413 of 450 = BirdSound/Rail/XC179459 - Ridgway's Rail - Rallus obsoletus.wav\n",
      "get 414 of 450 = BirdSound/Rail/XC273674 - Bogota Rail - Rallus semiplumbeus.wav\n",
      "get 415 of 450 = BirdSound/Rail/XC383382 - Water Rail - Rallus aquaticus.wav\n",
      "get 416 of 450 = BirdSound/Rail/XC217119 - Black Rail - Laterallus jamaicensis.wav\n",
      "get 417 of 450 = BirdSound/Rail/XC472201 - Grey-necked Wood Rail - Aramides cajaneus (1).wav\n",
      "get 418 of 450 = BirdSound/Rail/XC475407 - Water Rail - Rallus aquaticus.wav\n",
      "get 419 of 450 = BirdSound/Rail/XC10309 - Bogota Rail - Rallus semiplumbeus semiplumbeus.wav\n",
      "get 420 of 450 = BirdSound/Rail/XC130540 - Clapper Rail - Rallus crepitans.wav\n",
      "get 421 of 450 = BirdSound/Rail/XC306864 - Black Rail - Laterallus jamaicensis.wav\n",
      "get 422 of 450 = BirdSound/Rail/XC357039 - Rufous-naped Wood Rail - Aramides albiventris.wav\n",
      "get 423 of 450 = BirdSound/Rail/XC371114 - Black Rail - Laterallus jamaicensis.wav\n",
      "get 424 of 450 = BirdSound/Rail/XC110658 - Ridgway's Rail - Rallus obsoletus yumanensis.wav\n",
      "get 425 of 450 = BirdSound/Rail/XC451478 - King Rail - Rallus elegans.wav\n",
      "get 426 of 450 = BirdSound/Rail/XC454949 - Grey-necked Wood Rail - Aramides cajaneus.wav\n",
      "get 427 of 450 = BirdSound/Rail/XC227398 - Marail Guan - Penelope marail.wav\n",
      "get 428 of 450 = BirdSound/Rail/XC296693 - Black Rail - Laterallus jamaicensis tuerosi.wav\n",
      "get 429 of 450 = BirdSound/Rail/XC442866 - Brown-cheeked Rail - Rallus indicus.wav\n",
      "get 430 of 450 = BirdSound/Rail/XC475407 - Water Rail - Rallus aquaticus (copy).wav\n",
      "get 431 of 450 = BirdSound/Sandpiper/XC161585 - Solitary Sandpiper - Tringa solitaria.wav\n",
      "get 432 of 450 = BirdSound/Sandpiper/XC145934 - Stilt Sandpiper - Calidris himantopus.wav\n",
      "get 433 of 450 = BirdSound/Sandpiper/XC145344 - Terek Sandpiper - Xenus cinereus.wav\n",
      "get 434 of 450 = BirdSound/Sandpiper/XC184322 - Curlew Sandpiper - Calidris ferruginea.wav\n",
      "get 435 of 450 = BirdSound/Sandpiper/XC432903 - Green Sandpiper - Tringa ochropus.wav\n",
      "get 436 of 450 = BirdSound/Sandpiper/XC30141 - White-rumped Sandpiper - Calidris fuscicollis.wav\n",
      "get 437 of 450 = BirdSound/Sandpiper/XC338294 - Least Sandpiper - Calidris minutilla.wav\n",
      "get 438 of 450 = BirdSound/Sandpiper/XC434829 - Common Sandpiper - Actitis hypoleucos.wav\n",
      "get 439 of 450 = BirdSound/Sandpiper/XC220055 - Least Sandpiper - Calidris minutilla.wav\n",
      "get 440 of 450 = BirdSound/Sandpiper/XC213494 - Spotted Sandpiper - Actitis macularius.wav\n",
      "get 441 of 450 = BirdSound/Sandpiper/XC255373 - Spotted Sandpiper - Actitis macularius.wav\n",
      "get 442 of 450 = BirdSound/Sandpiper/XC302648 - Western Sandpiper - Calidris mauri.wav\n",
      "get 443 of 450 = BirdSound/Sandpiper/XC426254 - Green Sandpiper - Tringa ochropus.wav\n",
      "get 444 of 450 = BirdSound/Sandpiper/XC276361 - Green Sandpiper - Tringa ochropus.wav\n",
      "get 445 of 450 = BirdSound/Sandpiper/XC16280 - White-rumped Sandpiper - Calidris fuscicollis.wav\n",
      "get 446 of 450 = BirdSound/Sandpiper/XC410069 - White-rumped Sandpiper - Calidris fuscicollis.wav\n",
      "get 447 of 450 = BirdSound/Sandpiper/XC100435 - Common Sandpiper - Actitis hypoleucos.wav\n",
      "get 448 of 450 = BirdSound/Sandpiper/XC282045 - Wood Sandpiper - Tringa glareola.wav\n",
      "get 449 of 450 = BirdSound/Sandpiper/XC422061 - Common Sandpiper - Actitis hypoleucos.wav\n",
      "get 450 of 450 = BirdSound/Sandpiper/XC348861 - Diademed Sandpiper-Plover - Phegornis mitchellii.wav\n",
      "Calculated 450 feature vectors\n"
     ]
    }
   ],
   "source": [
    "# Load audio files, calculate features and create feature vectors\n",
    "feature_vectors = []\n",
    "sound_paths = []\n",
    "for i,f in enumerate(files):\n",
    "    print (\"get %d of %d = %s\"%(i+1, len(files), f))\n",
    "    try:\n",
    "        y, sr = librosa.load(f, sr=fs)\n",
    "        y/=y.max() #Normalize\n",
    "        if len(y) < 2:\n",
    "            print(\"Error loading %s\" % f)\n",
    "            continue\n",
    "        feat = get_features(y, sr)\n",
    "        feature_vectors.append(feat)\n",
    "        sound_paths.append(f)\n",
    "    except Exception as e:\n",
    "        print(\"Error loading %s. Error: %s\" % (f,e))\n",
    "        \n",
    "print(\"Calculated %d feature vectors\"%len(feature_vectors))"
   ]
  },
  {
   "cell_type": "markdown",
   "metadata": {},
   "source": [
    "## Standardization: Zero-Mean and Unit-Variance"
   ]
  },
  {
   "cell_type": "code",
   "execution_count": 8,
   "metadata": {},
   "outputs": [
    {
     "name": "stdout",
     "output_type": "stream",
     "text": [
      "Feature vectors shape: (450, 128)\n"
     ]
    }
   ],
   "source": [
    "# Scale features using Standard Scaler\n",
    "scaler = StandardScaler()\n",
    "scaled_feature_vectors = scaler.fit_transform(np.array(feature_vectors))\n",
    "print(\"Feature vectors shape:\",scaled_feature_vectors.shape)"
   ]
  },
  {
   "cell_type": "markdown",
   "metadata": {},
   "source": [
    "## Train and Test Sets"
   ]
  },
  {
   "cell_type": "code",
   "execution_count": 9,
   "metadata": {},
   "outputs": [],
   "source": [
    "# Create Train and Test Set\n",
    "splitter = StratifiedShuffleSplit(n_splits=1, test_size=testset_size, random_state=0)\n",
    "splits = splitter.split(scaled_feature_vectors, classes_num)\n",
    "for train_index, test_index in splits:\n",
    "    train_set = scaled_feature_vectors[train_index]\n",
    "    test_set = scaled_feature_vectors[test_index]\n",
    "    train_classes = classes_num[train_index]\n",
    "    test_classes = classes_num[test_index]"
   ]
  },
  {
   "cell_type": "code",
   "execution_count": 10,
   "metadata": {},
   "outputs": [
    {
     "name": "stdout",
     "output_type": "stream",
     "text": [
      "train_set shape: (337, 128)\n",
      "test_set shape: (113, 128)\n",
      "train_classes shape: (337,)\n",
      "test_classes shape: (113,)\n"
     ]
    }
   ],
   "source": [
    "# Check Set Shapes\n",
    "print(\"train_set shape:\",train_set.shape)\n",
    "print(\"test_set shape:\",test_set.shape)\n",
    "print(\"train_classes shape:\",train_classes.shape)\n",
    "print(\"test_classes shape:\",test_classes.shape)"
   ]
  },
  {
   "cell_type": "markdown",
   "metadata": {},
   "source": [
    "## 1.kNN Classification"
   ]
  },
  {
   "cell_type": "code",
   "execution_count": 11,
   "metadata": {},
   "outputs": [],
   "source": [
    "# KNN Classifier\n",
    "n_neighbors=1\n",
    "model_knn = KNeighborsClassifier(n_neighbors=n_neighbors)"
   ]
  },
  {
   "cell_type": "code",
   "execution_count": 12,
   "metadata": {},
   "outputs": [],
   "source": [
    "# kNN\n",
    "model_knn.fit(train_set, train_classes);"
   ]
  },
  {
   "cell_type": "code",
   "execution_count": 13,
   "metadata": {},
   "outputs": [],
   "source": [
    "# Predict using the Test Set\n",
    "predicted_labels = model_knn.predict(test_set)"
   ]
  },
  {
   "cell_type": "markdown",
   "metadata": {},
   "source": [
    "## Evaluation"
   ]
  },
  {
   "cell_type": "code",
   "execution_count": 14,
   "metadata": {},
   "outputs": [
    {
     "name": "stdout",
     "output_type": "stream",
     "text": [
      "Recall:  [0.5        0.33333333 0.14285714 0.66666667 0.28571429 0.\n",
      " 0.14285714 0.         0.16666667 0.         0.2        0.\n",
      " 0.         0.         0.2        0.2        0.2        0.\n",
      " 0.2        0.6       ]\n",
      "Precision:  [0.5        0.18181818 0.125      0.8        0.28571429 0.\n",
      " 0.09090909 0.         0.25       0.         0.5        0.\n",
      " 0.         0.         0.125      0.25       0.25       0.\n",
      " 0.25       0.375     ]\n",
      "F1-Score:  [0.5        0.23529412 0.13333333 0.72727273 0.28571429 0.\n",
      " 0.11111111 0.         0.2        0.         0.28571429 0.\n",
      " 0.         0.         0.15384615 0.22222222 0.22222222 0.\n",
      " 0.22222222 0.46153846]\n",
      "Accuracy: 0.19  , 22\n",
      "Number of samples: 113\n"
     ]
    }
   ],
   "source": [
    "# Recall - the ability of the classifier to find all the positive samples\n",
    "print(\"Recall: \", recall_score(test_classes, predicted_labels,average=None))\n",
    "\n",
    "# Precision - The precision is intuitively the ability of the classifier not to \n",
    "#label as positive a sample that is negative\n",
    "print(\"Precision: \", precision_score(test_classes, predicted_labels,average=None))\n",
    "\n",
    "# F1-Score - The F1 score can be interpreted as a weighted average of the precision \n",
    "#and recall\n",
    "print(\"F1-Score: \", f1_score(test_classes, predicted_labels, average=None))\n",
    "\n",
    "# Accuracy - the number of correctly classified samples\n",
    "print(\"Accuracy: %.2f  ,\" % accuracy_score(test_classes, predicted_labels,normalize=True), accuracy_score(test_classes, predicted_labels,normalize=False) )\n",
    "print(\"Number of samples:\",test_classes.shape[0])"
   ]
  },
  {
   "cell_type": "code",
   "execution_count": 15,
   "metadata": {},
   "outputs": [],
   "source": [
    "# Compute confusion matrix\n",
    "cnf_matrix = confusion_matrix(test_classes, predicted_labels)\n",
    "np.set_printoptions(precision=2)"
   ]
  },
  {
   "cell_type": "code",
   "execution_count": 16,
   "metadata": {},
   "outputs": [],
   "source": [
    "# Function to Plot Confusion Matrix\n",
    "# http://scikit-learn.org/stable/auto_examples/model_selection/plot_confusion_matrix.html\n",
    "def plot_confusion_matrix(cm, classes,\n",
    "                          normalize=False,\n",
    "                          title='Confusion matrix',\n",
    "                          cmap=plt.cm.Blues):\n",
    "    \"\"\"\n",
    "    This function prints and plots the confusion matrix.\n",
    "    Normalization can be applied by setting `normalize=True`.\n",
    "    \n",
    "    if normalize:\n",
    "        cm = cm.astype('float') / cm.sum(axis=1)[:, np.newaxis]\n",
    "        print(\"Normalized confusion matrix\")\n",
    "    else:\n",
    "        print('Confusion matrix, without normalization')\n",
    "    \"\"\"\n",
    "    #print(cm)\n",
    "\n",
    "    plt.imshow(cm, interpolation='nearest', cmap=cmap)\n",
    "    plt.title(title)\n",
    "    plt.colorbar()\n",
    "    tick_marks = np.arange(len(classes))\n",
    "    plt.xticks(tick_marks, classes, rotation=45)\n",
    "    plt.yticks(tick_marks, classes)\n",
    "\n",
    "    fmt = '.2f' if normalize else 'd'\n",
    "    thresh = cm.max() / 2.\n",
    "    for i, j in itertools.product(range(cm.shape[0]), range(cm.shape[1])):\n",
    "        plt.text(j, i, format(cm[i, j], fmt),\n",
    "                 horizontalalignment=\"center\",\n",
    "                 color=\"white\" if cm[i, j] > thresh else \"black\")\n",
    "\n",
    "    plt.tight_layout()\n",
    "    plt.ylabel('True label')\n",
    "    plt.xlabel('Predicted label')"
   ]
  },
  {
   "cell_type": "code",
   "execution_count": 17,
   "metadata": {},
   "outputs": [
    {
     "data": {
      "image/png": "[encoded data removed]",
      "text/plain": [
       "<Figure size 1296x936 with 2 Axes>"
      ]
     },
     "metadata": {
      "needs_background": "light"
     },
     "output_type": "display_data"
    }
   ],
   "source": [
    "# Plot non-normalized confusion matrix\n",
    "plt.figure(figsize=(18,13))\n",
    "plot_confusion_matrix(cnf_matrix, classes=labelencoder.classes_,\n",
    "                      title='Confusion matrix, without normalization')"
   ]
  },
  {
   "cell_type": "code",
   "execution_count": 18,
   "metadata": {},
   "outputs": [],
   "source": [
    "# Find wrong predicted samples indexes\n",
    "#wrong_predictions = [i for i, (e1, e2) in enumerate(zip(test_classes, predicted_labels)) if e1 != e2]\n",
    "wrong_predictions = [i for i, (e1, e2) in enumerate(zip(predicted_labels,test_classes)) if e1 != e2]"
   ]
  },
  {
   "cell_type": "code",
   "execution_count": 19,
   "metadata": {},
   "outputs": [
    {
     "name": "stdout",
     "output_type": "stream",
     "text": [
      "['Grebe' 'Grouse' 'Dove' 'Avocet' 'Coot' 'Nightjar' 'Lapwing' 'Lapwing'\n",
      " 'Rail' 'Nightjar' 'Crake' 'Nightjar' 'Quail' 'Lapwing' 'Crane' 'Grebe'\n",
      " 'Grebe' 'Grebe' 'Quail' 'Stilt' 'Pheasant' 'Quail' 'Turaco' 'Crane'\n",
      " 'Pheasant' 'Grebe' 'Dove' 'Plover' 'Oystercatcher' 'Pheasant' 'Pigeon'\n",
      " 'Swift' 'Avocet' 'Stilt' 'Stilt' 'Gallinule' 'Coot' 'Grebe' 'Swift'\n",
      " 'Grouse' 'Crake' 'Pheasant' 'Gallinule' 'Pigeon' 'Grouse' 'Sandpiper'\n",
      " 'Gallinule' 'Sandpiper' 'Gallinule' 'Sandpiper' 'Oystercatcher' 'Crake'\n",
      " 'Pheasant' 'Grouse' 'Oystercatcher' 'Grouse' 'Dove' 'Dove' 'Plover'\n",
      " 'Plover' 'Gallinule' 'Rail' 'Coot' 'Nightjar' 'Crake' 'Grouse' 'Turaco'\n",
      " 'Lapwing' 'Pigeon' 'Crake' 'Oystercatcher' 'Nightjar' 'Avocet' 'Pigeon'\n",
      " 'Plover' 'Swift' 'Plover' 'Lapwing' 'Coot' 'Stilt' 'Pigeon' 'Rail'\n",
      " 'Stilt' 'Quail' 'Gallinule' 'Swift' 'Rail' 'Dove' 'Sandpiper' 'Crake'\n",
      " 'Nightjar']\n",
      "[ 7  2  2 15  2 11  6  1 14 14 17 14 11 14  1  2  0  2  1  5  3 17  1  1\n",
      " 19 18  6 18 13  7 15 19  6  2 16 14  6 19 10  4  7  5 19  5  9  8 13  1\n",
      " 15  4 13  7  6  5  6  6  6  6  4 14 11 13  9  7  7  8  7  2  4  9  8  4\n",
      " 13 19  0  6  5  5  0  1 16 13 11 18 14 16 12  1  1  9  7]\n",
      "['Grouse' 'Crake' 'Crake' 'Rail' 'Crake' 'Pheasant' 'Grebe' 'Coot' 'Quail'\n",
      " 'Quail' 'Stilt' 'Quail' 'Pheasant' 'Quail' 'Coot' 'Crake' 'Avocet'\n",
      " 'Crake' 'Coot' 'Gallinule' 'Crane' 'Stilt' 'Coot' 'Coot' 'Turaco' 'Swift'\n",
      " 'Grebe' 'Swift' 'Plover' 'Grouse' 'Rail' 'Turaco' 'Grebe' 'Crake'\n",
      " 'Sandpiper' 'Quail' 'Grebe' 'Turaco' 'Oystercatcher' 'Dove' 'Grouse'\n",
      " 'Gallinule' 'Turaco' 'Gallinule' 'Nightjar' 'Lapwing' 'Plover' 'Coot'\n",
      " 'Rail' 'Dove' 'Plover' 'Grouse' 'Grebe' 'Gallinule' 'Grebe' 'Grebe'\n",
      " 'Grebe' 'Grebe' 'Dove' 'Quail' 'Pheasant' 'Plover' 'Nightjar' 'Grouse'\n",
      " 'Grouse' 'Lapwing' 'Grouse' 'Crake' 'Dove' 'Nightjar' 'Lapwing' 'Dove'\n",
      " 'Plover' 'Turaco' 'Avocet' 'Grebe' 'Gallinule' 'Gallinule' 'Avocet'\n",
      " 'Coot' 'Sandpiper' 'Plover' 'Pheasant' 'Swift' 'Quail' 'Sandpiper'\n",
      " 'Pigeon' 'Coot' 'Coot' 'Nightjar' 'Grouse']\n",
      "['BirdSound/Grebe/XC185652 - Little Grebe - Tachybaptus ruficollis.wav'\n",
      " 'BirdSound/Grouse/XC451470 - Black-faced Sandgrouse - Pterocles decoratus ellenbecki.wav'\n",
      " 'BirdSound/Dove/XC238202 - Croaking Ground Dove - Columbina cruziana.wav'\n",
      " 'BirdSound/Avocet/XC317972 - American Avocet - Recurvirostra americana.wav'\n",
      " 'BirdSound/Coot/XC44706 - Eurasian Coot - Fulica atra atra.wav'\n",
      " 'BirdSound/Nightjar/XC290528 - Malaysian Eared Nightjar - Lyncornis temminckii.wav'\n",
      " 'BirdSound/Lapwing/XC307119 - Grey-headed Lapwing - Vanellus cinereus.wav'\n",
      " 'BirdSound/Lapwing/XC81962 - Grey-headed Lapwing - Vanellus cinereus.wav'\n",
      " \"BirdSound/Rail/XC110658 - Ridgway's Rail - Rallus obsoletus yumanensis.wav\"\n",
      " 'BirdSound/Nightjar/XC257052 - Ladder-tailed Nightjar - Hydropsalis climacocerca climacocerca.wav'\n",
      " 'BirdSound/Crake/XC119289 - Russet-crowned Crake - Laterallus viridis.wav'\n",
      " 'BirdSound/Nightjar/XC30564 - Silky-tailed Nightjar - Antrostomus sericocaudatus sericocaudatus.wav'\n",
      " 'BirdSound/Quail/XC406904 - Black-eared Wood Quail - Odontophorus melanotis melanotis.wav'\n",
      " 'BirdSound/Lapwing/XC300855 - Spot-breasted Lapwing - Vanellus melanocephalus (1).wav'\n",
      " 'BirdSound/Crane/XC107471 - Sandhill Crane - Antigone canadensis.wav'\n",
      " 'BirdSound/Grebe/XC280980 - Little Grebe - Tachybaptus ruficollis.wav'\n",
      " 'BirdSound/Grebe/XC26547 - Great Crested Grebe - Podiceps cristatus cristatus.wav'\n",
      " 'BirdSound/Grebe/XC55584 - Least Grebe - Tachybaptus dominicus.wav'\n",
      " 'BirdSound/Quail/XC251278 - Marbled Wood Quail - Odontophorus gujanensis buckleyi.wav'\n",
      " 'BirdSound/Stilt/XC6707 - White-backed Stilt - Himantopus melanurus melanurus.wav'\n",
      " 'BirdSound/Pheasant/XC422829 - Common Pheasant - Phasianus colchicus.wav'\n",
      " 'BirdSound/Quail/XC53487 - California Quail - Callipepla californica.wav'\n",
      " 'BirdSound/Turaco/XC72452 - Purple-crested Turaco - Tauraco porphyreolophus.wav'\n",
      " 'BirdSound/Crane/XC409607 - Red-crowned Crane - Grus japonensis.wav'\n",
      " 'BirdSound/Pheasant/XC115583 - Common Pheasant - Phasianus colchicus.wav'\n",
      " 'BirdSound/Grebe/XC442038 - Little Grebe - Tachybaptus ruficollis.wav'\n",
      " 'BirdSound/Dove/XC367411 - European Turtle Dove - Streptopelia turtur.wav'\n",
      " 'BirdSound/Plover/XC14345 - Purple-crowned Plovercrest - Stephanoxis loddigesii.wav'\n",
      " 'BirdSound/Oystercatcher/XC449757 - Eurasian Oystercatcher - Haematopus ostralegus.wav'\n",
      " 'BirdSound/Pheasant/XC99473 - Common Pheasant - Phasianus colchicus.wav'\n",
      " 'BirdSound/Pigeon/XC166060 - Orange-breasted Green Pigeon - Treron bicinctus.wav'\n",
      " 'BirdSound/Swift/XC37809 - Alpine Swift - Tachymarptis melba.wav'\n",
      " 'BirdSound/Avocet/XC188266 - Pied Avocet - Recurvirostra avosetta.wav'\n",
      " 'BirdSound/Stilt/XC224234 - Black-necked Stilt - Himantopus mexicanus.wav'\n",
      " 'BirdSound/Stilt/XC193722 - Black-winged Stilt - Himantopus himantopus.wav'\n",
      " 'BirdSound/Gallinule/XC139954 - Common Gallinule - Gallinula galeata.wav'\n",
      " 'BirdSound/Coot/XC48557 - Red-fronted Coot - Fulica rufifrons.wav'\n",
      " 'BirdSound/Grebe/XC54500 - Pied-billed Grebe - Podilymbus podiceps antarcticus.wav'\n",
      " 'BirdSound/Swift/XC376926 - Common Swift - Apus apus.wav'\n",
      " 'BirdSound/Grouse/XC469667 - Black Grouse - Lyrurus tetrix.wav'\n",
      " 'BirdSound/Crake/XC349171 - Ocellated Crake - Micropygia schomburgkii.wav'\n",
      " 'BirdSound/Pheasant/XC437853 - Common Pheasant - Phasianus colchicus.wav'\n",
      " 'BirdSound/Gallinule/XC1147 - Purple Gallinule - Porphyrio martinica.wav'\n",
      " 'BirdSound/Pigeon/XC221376 - Short-billed Pigeon - Patagioenas nigrirostris.wav'\n",
      " 'BirdSound/Grouse/XC320022 - Dusky Grouse - Dendragapus obscurus.wav'\n",
      " 'BirdSound/Sandpiper/XC426254 - Green Sandpiper - Tringa ochropus.wav'\n",
      " 'BirdSound/Gallinule/XC7979 - Common Gallinule - Gallinula galeata.wav'\n",
      " 'BirdSound/Sandpiper/XC145934 - Stilt Sandpiper - Calidris himantopus.wav'\n",
      " 'BirdSound/Gallinule/XC228563 - Purple Gallinule - Porphyrio martinica.wav'\n",
      " 'BirdSound/Sandpiper/XC255373 - Spotted Sandpiper - Actitis macularius.wav'\n",
      " 'BirdSound/Oystercatcher/XC411158 - Eurasian Oystercatcher - Haematopus ostralegus ostralegus.wav'\n",
      " 'BirdSound/Crake/XC94670 - Russet-crowned Crake - Laterallus viridis.wav'\n",
      " 'BirdSound/Pheasant/XC384627 - Common Pheasant - Phasianus colchicus.wav'\n",
      " 'BirdSound/Grouse/XC92111 - Hazel Grouse - Tetrastes bonasia.wav'\n",
      " 'BirdSound/Oystercatcher/XC28379 - Magellanic Oystercatcher - Haematopus leucopodus.wav'\n",
      " 'BirdSound/Grouse/XC77993 - Ruffed Grouse - Bonasa umbellus incana.wav'\n",
      " 'BirdSound/Quail/XC113194 - Ruddy Quail-Dove - Geotrygon montana.wav'\n",
      " 'BirdSound/Dove/XC315273 - Blue Ground Dove - Claravis pretiosa.wav'\n",
      " 'BirdSound/Plover/XC378002 - Common Ringed Plover - Charadrius hiaticula.wav'\n",
      " 'BirdSound/Plover/XC51732 - Collared Plover - Charadrius collaris.wav'\n",
      " 'BirdSound/Gallinule/XC452961 - Common Gallinule - Gallinula galeata.wav'\n",
      " 'BirdSound/Rail/XC217119 - Black Rail - Laterallus jamaicensis.wav'\n",
      " 'BirdSound/Coot/XC89324 - American Coot - Fulica americana.wav'\n",
      " 'BirdSound/Nightjar/XC357069 - Freckled Nightjar - Caprimulgus tristigma.wav'\n",
      " 'BirdSound/Crake/XC237988 - Chestnut-headed Crake - Anurolimnas castaneiceps castaneiceps.wav'\n",
      " 'BirdSound/Grouse/XC61517 - Ruffed Grouse - Bonasa umbellus.wav'\n",
      " \"BirdSound/Turaco/XC115970 - Livingstone's Turaco - Tauraco livingstonii.wav\"\n",
      " 'BirdSound/Lapwing/XC300861 - Spot-breasted Lapwing - Vanellus melanocephalus (1).wav'\n",
      " 'BirdSound/Pigeon/XC48673 - Picazuro Pigeon - Patagioenas picazuro.wav'\n",
      " 'BirdSound/Crake/XC69265 - Spotless Crake - Porzana tabuensis.wav'\n",
      " 'BirdSound/Oystercatcher/XC25075 - Eurasian Oystercatcher - Haematopus ostralegus.wav'\n",
      " 'BirdSound/Nightjar/XC51584 - Scissor-tailed Nightjar - Hydropsalis torquata.wav'\n",
      " 'BirdSound/Avocet/XC146958 - Andean Avocet - Recurvirostra andina.wav'\n",
      " 'BirdSound/Pigeon/XC486547 - Hill Pigeon - Columba rupestris.wav'\n",
      " 'BirdSound/Sandpiper/XC348861 - Diademed Sandpiper-Plover - Phegornis mitchellii.wav'\n",
      " 'BirdSound/Swift/XC1885 - Short-tailed Swift - Chaetura brachyura.wav'\n",
      " 'BirdSound/Plover/XC220898 - Collared Plover - Charadrius collaris.wav'\n",
      " 'BirdSound/Lapwing/XC368211 - Red-wattled Lapwing - Vanellus indicus.wav'\n",
      " 'BirdSound/Coot/XC48552 - Red-gartered Coot - Fulica armillata.wav'\n",
      " 'BirdSound/Stilt/XC304651 - Black-necked Stilt - Himantopus mexicanus.wav'\n",
      " 'BirdSound/Pigeon/XC238773 - Scaled Pigeon - Patagioenas speciosa.wav'\n",
      " 'BirdSound/Rail/XC273674 - Bogota Rail - Rallus semiplumbeus.wav'\n",
      " 'BirdSound/Stilt/XC280353 - Black-winged Stilt - Himantopus himantopus.wav'\n",
      " 'BirdSound/Quail/XC20798 - Rufous-breasted Wood Quail - Odontophorus speciosus soderstromii.wav'\n",
      " 'BirdSound/Gallinule/XC326531 - Purple Gallinule - Porphyrio martinica.wav'\n",
      " 'BirdSound/Swift/XC303387 - White-chinned Swift - Cypseloides cryptus.wav'\n",
      " 'BirdSound/Rail/XC10309 - Bogota Rail - Rallus semiplumbeus semiplumbeus.wav'\n",
      " 'BirdSound/Dove/XC389564 - Blue Ground Dove - Claravis pretiosa.wav'\n",
      " 'BirdSound/Sandpiper/XC30141 - White-rumped Sandpiper - Calidris fuscicollis.wav'\n",
      " 'BirdSound/Crake/XC364028 - Rufous-faced Crake - Laterallus xenopterus.wav'\n",
      " 'BirdSound/Nightjar/XC43206 - Sickle-winged Nightjar - Eleothreptus anomalus.wav']\n"
     ]
    }
   ],
   "source": [
    "# Find wrong predicted audio files\n",
    "print(np.array(labels)[test_index[wrong_predictions]])\n",
    "print(predicted_labels[wrong_predictions].T)\n",
    "print(labelencoder.inverse_transform(predicted_labels[wrong_predictions]))\n",
    "print(np.array(files)[test_index[wrong_predictions]])"
   ]
  },
  {
   "cell_type": "markdown",
   "metadata": {},
   "source": [
    "## 2. Logistic Regression"
   ]
  },
  {
   "cell_type": "code",
   "execution_count": 20,
   "metadata": {},
   "outputs": [],
   "source": [
    "from sklearn.linear_model import LogisticRegression"
   ]
  },
  {
   "cell_type": "code",
   "execution_count": 21,
   "metadata": {},
   "outputs": [],
   "source": [
    "model_Logistic = LogisticRegression(random_state=0, solver='lbfgs', multi_class='multinomial')"
   ]
  },
  {
   "cell_type": "code",
   "execution_count": 22,
   "metadata": {},
   "outputs": [],
   "source": [
    "model_Logistic.fit(train_set, train_classes);"
   ]
  },
  {
   "cell_type": "markdown",
   "metadata": {},
   "source": [
    "## Save / Load Trained Model"
   ]
  },
  {
   "cell_type": "code",
   "execution_count": 24,
   "metadata": {},
   "outputs": [],
   "source": [
    "# Save\n",
    "#joblib.dump(model_Logistic, 'Mfcc_trainedLogisticRegression.joblib')\n",
    "#Load\n",
    "#svclassifier = joblib.load('filename.joblib') "
   ]
  },
  {
   "cell_type": "code",
   "execution_count": 25,
   "metadata": {},
   "outputs": [],
   "source": [
    "# Predict using the Test Set\n",
    "#predicted_labels = model_svm.predict(test_set)\n",
    "predicted_labels = model_Logistic.predict(test_set)"
   ]
  },
  {
   "cell_type": "markdown",
   "metadata": {},
   "source": [
    "## Evaluation"
   ]
  },
  {
   "cell_type": "code",
   "execution_count": 27,
   "metadata": {},
   "outputs": [
    {
     "name": "stdout",
     "output_type": "stream",
     "text": [
      "Recall:  [0.5  0.67 0.14 0.83 0.29 0.33 0.14 0.   0.5  0.33 0.8  0.6  0.   0.\n",
      " 0.   0.2  0.   0.   0.6  0.2 ]\n",
      "Precision:  [1.   0.22 0.2  0.56 0.29 0.4  0.14 0.   0.6  0.25 0.57 0.3  0.   0.\n",
      " 0.   0.5  0.   0.   0.38 0.5 ]\n",
      "F1-Score:  [0.67 0.33 0.17 0.67 0.29 0.36 0.14 0.   0.55 0.29 0.67 0.4  0.   0.\n",
      " 0.   0.29 0.   0.   0.46 0.29]\n",
      "Accuracy: 0.31  , 35\n",
      "Number of samples: 113\n"
     ]
    }
   ],
   "source": [
    "# Recall - the ability of the classifier to find all the positive samples\n",
    "print(\"Recall: \", recall_score(test_classes, predicted_labels,average=None))\n",
    "\n",
    "# Precision - The precision is intuitively the ability of the classifier not to \n",
    "#label as positive a sample that is negative\n",
    "print(\"Precision: \", precision_score(test_classes, predicted_labels,average=None))\n",
    "\n",
    "# F1-Score - The F1 score can be interpreted as a weighted average of the precision \n",
    "#and recall\n",
    "print(\"F1-Score: \", f1_score(test_classes, predicted_labels, average=None))\n",
    "\n",
    "# Accuracy - the number of correctly classified samples\n",
    "print(\"Accuracy: %.2f  ,\" % accuracy_score(test_classes, predicted_labels,normalize=True), accuracy_score(test_classes, predicted_labels,normalize=False) )\n",
    "print(\"Number of samples:\",test_classes.shape[0])"
   ]
  },
  {
   "cell_type": "code",
   "execution_count": 28,
   "metadata": {},
   "outputs": [],
   "source": [
    "# Compute confusion matrix\n",
    "cnf_matrix = confusion_matrix(test_classes, predicted_labels)\n",
    "np.set_printoptions(precision=2)"
   ]
  },
  {
   "cell_type": "code",
   "execution_count": 29,
   "metadata": {},
   "outputs": [],
   "source": [
    "# Function to Plot Confusion Matrix\n",
    "# http://scikit-learn.org/stable/auto_examples/model_selection/plot_confusion_matrix.html\n",
    "def plot_confusion_matrix(cm, classes,\n",
    "                          normalize=False,\n",
    "                          title='Confusion matrix',\n",
    "                          cmap=plt.cm.Blues):\n",
    "    \"\"\"\n",
    "    This function prints and plots the confusion matrix.\n",
    "    Normalization can be applied by setting `normalize=True`.\n",
    "    \n",
    "    if normalize:\n",
    "        cm = cm.astype('float') / cm.sum(axis=1)[:, np.newaxis]\n",
    "        print(\"Normalized confusion matrix\")\n",
    "    else:\n",
    "        print('Confusion matrix, without normalization')\n",
    "    \"\"\"\n",
    "    #print(cm)\n",
    "\n",
    "    plt.imshow(cm, interpolation='nearest', cmap=cmap)\n",
    "    plt.title(title)\n",
    "    plt.colorbar()\n",
    "    tick_marks = np.arange(len(classes))\n",
    "    plt.xticks(tick_marks, classes, rotation=45)\n",
    "    plt.yticks(tick_marks, classes)\n",
    "\n",
    "    fmt = '.2f' if normalize else 'd'\n",
    "    thresh = cm.max() / 2.\n",
    "    for i, j in itertools.product(range(cm.shape[0]), range(cm.shape[1])):\n",
    "        plt.text(j, i, format(cm[i, j], fmt),\n",
    "                 horizontalalignment=\"center\",\n",
    "                 color=\"white\" if cm[i, j] > thresh else \"black\")\n",
    "\n",
    "    plt.tight_layout()\n",
    "    plt.ylabel('True label')\n",
    "    plt.xlabel('Predicted label')"
   ]
  },
  {
   "cell_type": "code",
   "execution_count": 30,
   "metadata": {},
   "outputs": [
    {
     "data": {
      "image/png": "[encoded data removed]",
      "text/plain": [
       "<Figure size 1296x936 with 2 Axes>"
      ]
     },
     "metadata": {
      "needs_background": "light"
     },
     "output_type": "display_data"
    }
   ],
   "source": [
    "# Plot non-normalized confusion matrix\n",
    "plt.figure(figsize=(18,13))\n",
    "plot_confusion_matrix(cnf_matrix, classes=labelencoder.classes_,\n",
    "                      title='Confusion matrix, without normalization')"
   ]
  },
  {
   "cell_type": "code",
   "execution_count": 31,
   "metadata": {},
   "outputs": [],
   "source": [
    "# Find wrong predicted samples indexes\n",
    "#wrong_predictions = [i for i, (e1, e2) in enumerate(zip(test_classes, predicted_labels)) if e1 != e2]\n",
    "wrong_predictions = [i for i, (e1, e2) in enumerate(zip(predicted_labels,test_classes)) if e1 != e2]"
   ]
  },
  {
   "cell_type": "code",
   "execution_count": 32,
   "metadata": {},
   "outputs": [
    {
     "name": "stdout",
     "output_type": "stream",
     "text": [
      "['Grebe' 'Grouse' 'Dove' 'Sandpiper' 'Avocet' 'Nightjar' 'Lapwing'\n",
      " 'Lapwing' 'Rail' 'Nightjar' 'Crake' 'Quail' 'Grebe' 'Grebe' 'Grebe'\n",
      " 'Quail' 'Stilt' 'Pheasant' 'Quail' 'Turaco' 'Turaco' 'Pheasant' 'Grebe'\n",
      " 'Dove' 'Plover' 'Pigeon' 'Avocet' 'Stilt' 'Stilt' 'Lapwing' 'Gallinule'\n",
      " 'Coot' 'Grebe' 'Grouse' 'Crake' 'Pigeon' 'Grouse' 'Sandpiper' 'Sandpiper'\n",
      " 'Gallinule' 'Sandpiper' 'Oystercatcher' 'Crake' 'Grouse' 'Grouse' 'Dove'\n",
      " 'Dove' 'Turaco' 'Plover' 'Plover' 'Gallinule' 'Rail' 'Nightjar' 'Crake'\n",
      " 'Grouse' 'Turaco' 'Pigeon' 'Crake' 'Nightjar' 'Avocet' 'Pigeon' 'Plover'\n",
      " 'Quail' 'Swift' 'Plover' 'Coot' 'Stilt' 'Pigeon' 'Rail' 'Stilt' 'Quail'\n",
      " 'Gallinule' 'Crane' 'Swift' 'Rail' 'Dove' 'Sandpiper' 'Crake']\n",
      "[ 7  2  1  3 10  1 16  1 16  5 13 11  2  1  9  3 15  3 17  4  1  6 18  6\n",
      " 18  9 17 13 13 16  2  6  4  4  5 19  9  9  1 14 13 13 18  5  1  6  1  3\n",
      "  8  8 11  1  1  9  1  6  4  4  1 10  1  7 11  9 10  2  6 18 13 11  1  7\n",
      " 14 16 11 11 11 18]\n",
      "['Grouse' 'Crake' 'Coot' 'Crane' 'Oystercatcher' 'Coot' 'Sandpiper' 'Coot'\n",
      " 'Sandpiper' 'Gallinule' 'Plover' 'Pheasant' 'Crake' 'Coot' 'Nightjar'\n",
      " 'Crane' 'Rail' 'Crane' 'Stilt' 'Dove' 'Coot' 'Grebe' 'Swift' 'Grebe'\n",
      " 'Swift' 'Nightjar' 'Stilt' 'Plover' 'Plover' 'Sandpiper' 'Crake' 'Grebe'\n",
      " 'Dove' 'Dove' 'Gallinule' 'Turaco' 'Nightjar' 'Nightjar' 'Coot' 'Quail'\n",
      " 'Plover' 'Plover' 'Swift' 'Gallinule' 'Coot' 'Grebe' 'Coot' 'Crane'\n",
      " 'Lapwing' 'Lapwing' 'Pheasant' 'Coot' 'Coot' 'Nightjar' 'Coot' 'Grebe'\n",
      " 'Dove' 'Dove' 'Coot' 'Oystercatcher' 'Coot' 'Grouse' 'Pheasant'\n",
      " 'Nightjar' 'Oystercatcher' 'Crake' 'Grebe' 'Swift' 'Plover' 'Pheasant'\n",
      " 'Coot' 'Grouse' 'Quail' 'Sandpiper' 'Pheasant' 'Pheasant' 'Pheasant'\n",
      " 'Swift']\n",
      "['BirdSound/Grebe/XC185652 - Little Grebe - Tachybaptus ruficollis.wav'\n",
      " 'BirdSound/Grouse/XC451470 - Black-faced Sandgrouse - Pterocles decoratus ellenbecki.wav'\n",
      " 'BirdSound/Dove/XC238202 - Croaking Ground Dove - Columbina cruziana.wav'\n",
      " 'BirdSound/Sandpiper/XC161585 - Solitary Sandpiper - Tringa solitaria.wav'\n",
      " 'BirdSound/Avocet/XC317972 - American Avocet - Recurvirostra americana.wav'\n",
      " 'BirdSound/Nightjar/XC290528 - Malaysian Eared Nightjar - Lyncornis temminckii.wav'\n",
      " 'BirdSound/Lapwing/XC307119 - Grey-headed Lapwing - Vanellus cinereus.wav'\n",
      " 'BirdSound/Lapwing/XC81962 - Grey-headed Lapwing - Vanellus cinereus.wav'\n",
      " \"BirdSound/Rail/XC110658 - Ridgway's Rail - Rallus obsoletus yumanensis.wav\"\n",
      " 'BirdSound/Nightjar/XC257052 - Ladder-tailed Nightjar - Hydropsalis climacocerca climacocerca.wav'\n",
      " 'BirdSound/Crake/XC119289 - Russet-crowned Crake - Laterallus viridis.wav'\n",
      " 'BirdSound/Quail/XC406904 - Black-eared Wood Quail - Odontophorus melanotis melanotis.wav'\n",
      " 'BirdSound/Grebe/XC280980 - Little Grebe - Tachybaptus ruficollis.wav'\n",
      " 'BirdSound/Grebe/XC26547 - Great Crested Grebe - Podiceps cristatus cristatus.wav'\n",
      " 'BirdSound/Grebe/XC55584 - Least Grebe - Tachybaptus dominicus.wav'\n",
      " 'BirdSound/Quail/XC251278 - Marbled Wood Quail - Odontophorus gujanensis buckleyi.wav'\n",
      " 'BirdSound/Stilt/XC6707 - White-backed Stilt - Himantopus melanurus melanurus.wav'\n",
      " 'BirdSound/Pheasant/XC422829 - Common Pheasant - Phasianus colchicus.wav'\n",
      " 'BirdSound/Quail/XC53487 - California Quail - Callipepla californica.wav'\n",
      " 'BirdSound/Turaco/XC361401 - Knysna Turaco - Tauraco corythaix.wav'\n",
      " 'BirdSound/Turaco/XC72452 - Purple-crested Turaco - Tauraco porphyreolophus.wav'\n",
      " 'BirdSound/Pheasant/XC115583 - Common Pheasant - Phasianus colchicus.wav'\n",
      " 'BirdSound/Grebe/XC442038 - Little Grebe - Tachybaptus ruficollis.wav'\n",
      " 'BirdSound/Dove/XC367411 - European Turtle Dove - Streptopelia turtur.wav'\n",
      " 'BirdSound/Plover/XC14345 - Purple-crowned Plovercrest - Stephanoxis loddigesii.wav'\n",
      " 'BirdSound/Pigeon/XC166060 - Orange-breasted Green Pigeon - Treron bicinctus.wav'\n",
      " 'BirdSound/Avocet/XC188266 - Pied Avocet - Recurvirostra avosetta.wav'\n",
      " 'BirdSound/Stilt/XC224234 - Black-necked Stilt - Himantopus mexicanus.wav'\n",
      " 'BirdSound/Stilt/XC193722 - Black-winged Stilt - Himantopus himantopus.wav'\n",
      " 'BirdSound/Lapwing/XC425220 - Spur-winged Lapwing - Vanellus spinosus.wav'\n",
      " 'BirdSound/Gallinule/XC139954 - Common Gallinule - Gallinula galeata.wav'\n",
      " 'BirdSound/Coot/XC48557 - Red-fronted Coot - Fulica rufifrons.wav'\n",
      " 'BirdSound/Grebe/XC54500 - Pied-billed Grebe - Podilymbus podiceps antarcticus.wav'\n",
      " 'BirdSound/Grouse/XC469667 - Black Grouse - Lyrurus tetrix.wav'\n",
      " 'BirdSound/Crake/XC349171 - Ocellated Crake - Micropygia schomburgkii.wav'\n",
      " 'BirdSound/Pigeon/XC221376 - Short-billed Pigeon - Patagioenas nigrirostris.wav'\n",
      " 'BirdSound/Grouse/XC320022 - Dusky Grouse - Dendragapus obscurus.wav'\n",
      " 'BirdSound/Sandpiper/XC426254 - Green Sandpiper - Tringa ochropus.wav'\n",
      " 'BirdSound/Sandpiper/XC145934 - Stilt Sandpiper - Calidris himantopus.wav'\n",
      " 'BirdSound/Gallinule/XC228563 - Purple Gallinule - Porphyrio martinica.wav'\n",
      " 'BirdSound/Sandpiper/XC255373 - Spotted Sandpiper - Actitis macularius.wav'\n",
      " 'BirdSound/Oystercatcher/XC411158 - Eurasian Oystercatcher - Haematopus ostralegus ostralegus.wav'\n",
      " 'BirdSound/Crake/XC94670 - Russet-crowned Crake - Laterallus viridis.wav'\n",
      " 'BirdSound/Grouse/XC92111 - Hazel Grouse - Tetrastes bonasia.wav'\n",
      " 'BirdSound/Grouse/XC77993 - Ruffed Grouse - Bonasa umbellus incana.wav'\n",
      " 'BirdSound/Quail/XC113194 - Ruddy Quail-Dove - Geotrygon montana.wav'\n",
      " 'BirdSound/Dove/XC315273 - Blue Ground Dove - Claravis pretiosa.wav'\n",
      " 'BirdSound/Turaco/XC103430 - Yellow-billed Turaco - Tauraco macrorhynchus macrorhynchus.wav'\n",
      " 'BirdSound/Plover/XC378002 - Common Ringed Plover - Charadrius hiaticula.wav'\n",
      " 'BirdSound/Plover/XC51732 - Collared Plover - Charadrius collaris.wav'\n",
      " 'BirdSound/Gallinule/XC452961 - Common Gallinule - Gallinula galeata.wav'\n",
      " 'BirdSound/Rail/XC217119 - Black Rail - Laterallus jamaicensis.wav'\n",
      " 'BirdSound/Nightjar/XC357069 - Freckled Nightjar - Caprimulgus tristigma.wav'\n",
      " 'BirdSound/Crake/XC237988 - Chestnut-headed Crake - Anurolimnas castaneiceps castaneiceps.wav'\n",
      " 'BirdSound/Grouse/XC61517 - Ruffed Grouse - Bonasa umbellus.wav'\n",
      " \"BirdSound/Turaco/XC115970 - Livingstone's Turaco - Tauraco livingstonii.wav\"\n",
      " 'BirdSound/Pigeon/XC48673 - Picazuro Pigeon - Patagioenas picazuro.wav'\n",
      " 'BirdSound/Crake/XC69265 - Spotless Crake - Porzana tabuensis.wav'\n",
      " 'BirdSound/Nightjar/XC51584 - Scissor-tailed Nightjar - Hydropsalis torquata.wav'\n",
      " 'BirdSound/Avocet/XC146958 - Andean Avocet - Recurvirostra andina.wav'\n",
      " 'BirdSound/Pigeon/XC486547 - Hill Pigeon - Columba rupestris.wav'\n",
      " 'BirdSound/Sandpiper/XC348861 - Diademed Sandpiper-Plover - Phegornis mitchellii.wav'\n",
      " 'BirdSound/Quail/XC153452 - California Quail - Callipepla californica.wav'\n",
      " 'BirdSound/Swift/XC1885 - Short-tailed Swift - Chaetura brachyura.wav'\n",
      " 'BirdSound/Plover/XC220898 - Collared Plover - Charadrius collaris.wav'\n",
      " 'BirdSound/Coot/XC48552 - Red-gartered Coot - Fulica armillata.wav'\n",
      " 'BirdSound/Stilt/XC304651 - Black-necked Stilt - Himantopus mexicanus.wav'\n",
      " 'BirdSound/Pigeon/XC238773 - Scaled Pigeon - Patagioenas speciosa.wav'\n",
      " 'BirdSound/Rail/XC273674 - Bogota Rail - Rallus semiplumbeus.wav'\n",
      " 'BirdSound/Stilt/XC280353 - Black-winged Stilt - Himantopus himantopus.wav'\n",
      " 'BirdSound/Quail/XC20798 - Rufous-breasted Wood Quail - Odontophorus speciosus soderstromii.wav'\n",
      " 'BirdSound/Gallinule/XC326531 - Purple Gallinule - Porphyrio martinica.wav'\n",
      " 'BirdSound/Crane/XC167449 - Demoiselle Crane - Grus virgo.wav'\n",
      " 'BirdSound/Swift/XC303387 - White-chinned Swift - Cypseloides cryptus.wav'\n",
      " 'BirdSound/Rail/XC10309 - Bogota Rail - Rallus semiplumbeus semiplumbeus.wav'\n",
      " 'BirdSound/Dove/XC389564 - Blue Ground Dove - Claravis pretiosa.wav'\n",
      " 'BirdSound/Sandpiper/XC30141 - White-rumped Sandpiper - Calidris fuscicollis.wav'\n",
      " 'BirdSound/Crake/XC364028 - Rufous-faced Crake - Laterallus xenopterus.wav']\n"
     ]
    }
   ],
   "source": [
    "# Find wrong predicted audio files\n",
    "print(np.array(labels)[test_index[wrong_predictions]])\n",
    "print(predicted_labels[wrong_predictions].T)\n",
    "print(labelencoder.inverse_transform(predicted_labels[wrong_predictions]))\n",
    "print(np.array(files)[test_index[wrong_predictions]])"
   ]
  },
  {
   "cell_type": "markdown",
   "metadata": {},
   "source": [
    "## 3.SVM"
   ]
  },
  {
   "cell_type": "code",
   "execution_count": 34,
   "metadata": {},
   "outputs": [
    {
     "name": "stderr",
     "output_type": "stream",
     "text": [
      "/home/rutherford/.local/lib/python3.6/site-packages/sklearn/externals/joblib/__init__.py:15: DeprecationWarning: sklearn.externals.joblib is deprecated in 0.21 and will be removed in 0.23. Please import this functionality directly from joblib, which can be installed with: pip install joblib. If this warning is raised when loading pickled models, you may need to re-serialize those models with scikit-learn 0.21+.\n",
      "  warnings.warn(msg, category=DeprecationWarning)\n"
     ]
    }
   ],
   "source": [
    "from sklearn.svm import LinearSVC, SVC\n",
    "from sklearn.externals import joblib\n",
    "model_svm = SVC(kernel='rbf', C = 10.0, gamma=0.1) "
   ]
  },
  {
   "cell_type": "code",
   "execution_count": 35,
   "metadata": {},
   "outputs": [],
   "source": [
    "# SVM\n",
    "#model_svm.fit(train_set, train_classes);\n",
    "model_svm.fit(train_set, train_classes);"
   ]
  },
  {
   "cell_type": "markdown",
   "metadata": {},
   "source": [
    "## Save / Load Trained Model"
   ]
  },
  {
   "cell_type": "code",
   "execution_count": 36,
   "metadata": {},
   "outputs": [],
   "source": [
    "# Save\n",
    "#joblib.dump(svclassifier, 'trainedSVM.joblib')\n",
    "#Load\n",
    "#svclassifier = joblib.load('filename.joblib') "
   ]
  },
  {
   "cell_type": "code",
   "execution_count": 38,
   "metadata": {},
   "outputs": [],
   "source": [
    "# Predict using the Test Set\n",
    "#predicted_labels = model_svm.predict(test_set)\n",
    "predicted_labels = model_svm.predict(test_set)"
   ]
  },
  {
   "cell_type": "markdown",
   "metadata": {},
   "source": [
    "## Evaluation"
   ]
  },
  {
   "cell_type": "code",
   "execution_count": 40,
   "metadata": {},
   "outputs": [
    {
     "name": "stdout",
     "output_type": "stream",
     "text": [
      "Recall:  [0.5  0.5  0.14 0.17 0.14 0.5  0.57 0.   0.33 0.   0.4  0.   0.   0.\n",
      " 0.   0.2  0.2  0.   0.   0.2 ]\n",
      "Precision:  [0.75 0.23 0.5  0.5  0.5  0.5  0.09 0.   0.4  0.   1.   0.   0.   0.\n",
      " 0.   0.33 0.33 0.   0.   0.33]\n",
      "F1-Score:  [0.6  0.32 0.22 0.25 0.22 0.5  0.16 0.   0.36 0.   0.57 0.   0.   0.\n",
      " 0.   0.25 0.25 0.   0.   0.25]\n",
      "Accuracy: 0.20  , 23\n",
      "Number of samples: 113\n"
     ]
    }
   ],
   "source": [
    "# Recall - the ability of the classifier to find all the positive samples\n",
    "print(\"Recall: \", recall_score(test_classes, predicted_labels,average=None))\n",
    "\n",
    "# Precision - The precision is intuitively the ability of the classifier not to \n",
    "#label as positive a sample that is negative\n",
    "print(\"Precision: \", precision_score(test_classes, predicted_labels,average=None))\n",
    "\n",
    "# F1-Score - The F1 score can be interpreted as a weighted average of the precision \n",
    "#and recall\n",
    "print(\"F1-Score: \", f1_score(test_classes, predicted_labels, average=None))\n",
    "\n",
    "# Accuracy - the number of correctly classified samples\n",
    "print(\"Accuracy: %.2f  ,\" % accuracy_score(test_classes, predicted_labels,normalize=True), accuracy_score(test_classes, predicted_labels,normalize=False) )\n",
    "print(\"Number of samples:\",test_classes.shape[0])"
   ]
  },
  {
   "cell_type": "code",
   "execution_count": 41,
   "metadata": {},
   "outputs": [],
   "source": [
    "# Compute confusion matrix\n",
    "cnf_matrix = confusion_matrix(test_classes, predicted_labels)\n",
    "np.set_printoptions(precision=2)"
   ]
  },
  {
   "cell_type": "code",
   "execution_count": 42,
   "metadata": {},
   "outputs": [],
   "source": [
    "# Function to Plot Confusion Matrix\n",
    "# http://scikit-learn.org/stable/auto_examples/model_selection/plot_confusion_matrix.html\n",
    "def plot_confusion_matrix(cm, classes,\n",
    "                          normalize=False,\n",
    "                          title='Confusion matrix',\n",
    "                          cmap=plt.cm.Blues):\n",
    "    \"\"\"\n",
    "    This function prints and plots the confusion matrix.\n",
    "    Normalization can be applied by setting `normalize=True`.\n",
    "    \n",
    "    if normalize:\n",
    "        cm = cm.astype('float') / cm.sum(axis=1)[:, np.newaxis]\n",
    "        print(\"Normalized confusion matrix\")\n",
    "    else:\n",
    "        print('Confusion matrix, without normalization')\n",
    "    \"\"\"\n",
    "    #print(cm)\n",
    "\n",
    "    plt.imshow(cm, interpolation='nearest', cmap=cmap)\n",
    "    plt.title(title)\n",
    "    plt.colorbar()\n",
    "    tick_marks = np.arange(len(classes))\n",
    "    plt.xticks(tick_marks, classes, rotation=45)\n",
    "    plt.yticks(tick_marks, classes)\n",
    "\n",
    "    fmt = '.2f' if normalize else 'd'\n",
    "    thresh = cm.max() / 2.\n",
    "    for i, j in itertools.product(range(cm.shape[0]), range(cm.shape[1])):\n",
    "        plt.text(j, i, format(cm[i, j], fmt),\n",
    "                 horizontalalignment=\"center\",\n",
    "                 color=\"white\" if cm[i, j] > thresh else \"black\")\n",
    "\n",
    "    plt.tight_layout()\n",
    "    plt.ylabel('True label')\n",
    "    plt.xlabel('Predicted label')"
   ]
  },
  {
   "cell_type": "code",
   "execution_count": 43,
   "metadata": {},
   "outputs": [
    {
     "data": {
      "image/png": "[encoded data removed]",
      "text/plain": [
       "<Figure size 1296x936 with 2 Axes>"
      ]
     },
     "metadata": {
      "needs_background": "light"
     },
     "output_type": "display_data"
    }
   ],
   "source": [
    "# Plot non-normalized confusion matrix\n",
    "plt.figure(figsize=(18,13))\n",
    "plot_confusion_matrix(cnf_matrix, classes=labelencoder.classes_,\n",
    "                      title='Confusion matrix, without normalization')"
   ]
  },
  {
   "cell_type": "code",
   "execution_count": 44,
   "metadata": {},
   "outputs": [],
   "source": [
    "# Find wrong predicted samples indexes\n",
    "#wrong_predictions = [i for i, (e1, e2) in enumerate(zip(test_classes, predicted_labels)) if e1 != e2]\n",
    "wrong_predictions = [i for i, (e1, e2) in enumerate(zip(predicted_labels,test_classes)) if e1 != e2]"
   ]
  },
  {
   "cell_type": "code",
   "execution_count": 45,
   "metadata": {},
   "outputs": [
    {
     "name": "stdout",
     "output_type": "stream",
     "text": [
      "['Grebe' 'Grouse' 'Dove' 'Avocet' 'Nightjar' 'Crane' 'Lapwing' 'Lapwing'\n",
      " 'Dove' 'Rail' 'Nightjar' 'Crake' 'Nightjar' 'Quail' 'Lapwing' 'Crane'\n",
      " 'Grebe' 'Grebe' 'Quail' 'Stilt' 'Pheasant' 'Quail' 'Turaco' 'Turaco'\n",
      " 'Crane' 'Pheasant' 'Dove' 'Plover' 'Pheasant' 'Pigeon' 'Swift' 'Avocet'\n",
      " 'Stilt' 'Stilt' 'Coot' 'Swift' 'Grouse' 'Crake' 'Pheasant' 'Pigeon'\n",
      " 'Grouse' 'Sandpiper' 'Sandpiper' 'Gallinule' 'Sandpiper' 'Oystercatcher'\n",
      " 'Crake' 'Pheasant' 'Grouse' 'Oystercatcher' 'Grouse' 'Dove' 'Dove'\n",
      " 'Swift' 'Turaco' 'Crane' 'Plover' 'Plover' 'Gallinule' 'Rail' 'Coot'\n",
      " 'Nightjar' 'Crake' 'Grouse' 'Turaco' 'Pigeon' 'Crake' 'Nightjar' 'Avocet'\n",
      " 'Pigeon' 'Plover' 'Quail' 'Swift' 'Plover' 'Lapwing' 'Coot' 'Stilt'\n",
      " 'Pigeon' 'Rail' 'Stilt' 'Quail' 'Gallinule' 'Crane' 'Swift' 'Rail' 'Dove'\n",
      " 'Oystercatcher' 'Sandpiper' 'Crake' 'Nightjar']\n",
      "[ 7  5  1 15  6  6  6  1  6 16  8 17  6  9 16  1  2  8  9  5  6  6  9  1\n",
      "  1 19  6 18  6  9 19  6  6  9  6  9  4  6 17  6  9  9  1  0  6 13  7  6\n",
      "  6  6  6  6  6  6  3  6 15 14 11  1  9  1  6  6  6  6  9  1 13  1  6  6\n",
      "  6  5  9  8  6  6 13 11  6  7  6  6  6  6  9  9  6  6]\n",
      "['Grouse' 'Gallinule' 'Coot' 'Rail' 'Grebe' 'Grebe' 'Grebe' 'Coot' 'Grebe'\n",
      " 'Sandpiper' 'Lapwing' 'Stilt' 'Grebe' 'Nightjar' 'Sandpiper' 'Coot'\n",
      " 'Crake' 'Lapwing' 'Nightjar' 'Gallinule' 'Grebe' 'Grebe' 'Nightjar'\n",
      " 'Coot' 'Coot' 'Turaco' 'Grebe' 'Swift' 'Grebe' 'Nightjar' 'Turaco'\n",
      " 'Grebe' 'Grebe' 'Nightjar' 'Grebe' 'Nightjar' 'Dove' 'Grebe' 'Stilt'\n",
      " 'Grebe' 'Nightjar' 'Nightjar' 'Coot' 'Avocet' 'Grebe' 'Plover' 'Grouse'\n",
      " 'Grebe' 'Grebe' 'Grebe' 'Grebe' 'Grebe' 'Grebe' 'Grebe' 'Crane' 'Grebe'\n",
      " 'Rail' 'Quail' 'Pheasant' 'Coot' 'Nightjar' 'Coot' 'Grebe' 'Grebe'\n",
      " 'Grebe' 'Grebe' 'Nightjar' 'Coot' 'Plover' 'Coot' 'Grebe' 'Grebe' 'Grebe'\n",
      " 'Gallinule' 'Nightjar' 'Lapwing' 'Grebe' 'Grebe' 'Plover' 'Pheasant'\n",
      " 'Grebe' 'Grouse' 'Grebe' 'Grebe' 'Grebe' 'Grebe' 'Nightjar' 'Nightjar'\n",
      " 'Grebe' 'Grebe']\n",
      "['BirdSound/Grebe/XC185652 - Little Grebe - Tachybaptus ruficollis.wav'\n",
      " 'BirdSound/Grouse/XC451470 - Black-faced Sandgrouse - Pterocles decoratus ellenbecki.wav'\n",
      " 'BirdSound/Dove/XC238202 - Croaking Ground Dove - Columbina cruziana.wav'\n",
      " 'BirdSound/Avocet/XC317972 - American Avocet - Recurvirostra americana.wav'\n",
      " 'BirdSound/Nightjar/XC290528 - Malaysian Eared Nightjar - Lyncornis temminckii.wav'\n",
      " 'BirdSound/Crane/XC432843 - Common Crane - Grus grus.wav'\n",
      " 'BirdSound/Lapwing/XC307119 - Grey-headed Lapwing - Vanellus cinereus.wav'\n",
      " 'BirdSound/Lapwing/XC81962 - Grey-headed Lapwing - Vanellus cinereus.wav'\n",
      " 'BirdSound/Dove/XC197100 - Spotted Dove - Spilopelia chinensis.wav'\n",
      " \"BirdSound/Rail/XC110658 - Ridgway's Rail - Rallus obsoletus yumanensis.wav\"\n",
      " 'BirdSound/Nightjar/XC257052 - Ladder-tailed Nightjar - Hydropsalis climacocerca climacocerca.wav'\n",
      " 'BirdSound/Crake/XC119289 - Russet-crowned Crake - Laterallus viridis.wav'\n",
      " 'BirdSound/Nightjar/XC30564 - Silky-tailed Nightjar - Antrostomus sericocaudatus sericocaudatus.wav'\n",
      " 'BirdSound/Quail/XC406904 - Black-eared Wood Quail - Odontophorus melanotis melanotis.wav'\n",
      " 'BirdSound/Lapwing/XC300855 - Spot-breasted Lapwing - Vanellus melanocephalus (1).wav'\n",
      " 'BirdSound/Crane/XC107471 - Sandhill Crane - Antigone canadensis.wav'\n",
      " 'BirdSound/Grebe/XC280980 - Little Grebe - Tachybaptus ruficollis.wav'\n",
      " 'BirdSound/Grebe/XC55584 - Least Grebe - Tachybaptus dominicus.wav'\n",
      " 'BirdSound/Quail/XC251278 - Marbled Wood Quail - Odontophorus gujanensis buckleyi.wav'\n",
      " 'BirdSound/Stilt/XC6707 - White-backed Stilt - Himantopus melanurus melanurus.wav'\n",
      " 'BirdSound/Pheasant/XC422829 - Common Pheasant - Phasianus colchicus.wav'\n",
      " 'BirdSound/Quail/XC53487 - California Quail - Callipepla californica.wav'\n",
      " 'BirdSound/Turaco/XC361401 - Knysna Turaco - Tauraco corythaix.wav'\n",
      " 'BirdSound/Turaco/XC72452 - Purple-crested Turaco - Tauraco porphyreolophus.wav'\n",
      " 'BirdSound/Crane/XC409607 - Red-crowned Crane - Grus japonensis.wav'\n",
      " 'BirdSound/Pheasant/XC115583 - Common Pheasant - Phasianus colchicus.wav'\n",
      " 'BirdSound/Dove/XC367411 - European Turtle Dove - Streptopelia turtur.wav'\n",
      " 'BirdSound/Plover/XC14345 - Purple-crowned Plovercrest - Stephanoxis loddigesii.wav'\n",
      " 'BirdSound/Pheasant/XC99473 - Common Pheasant - Phasianus colchicus.wav'\n",
      " 'BirdSound/Pigeon/XC166060 - Orange-breasted Green Pigeon - Treron bicinctus.wav'\n",
      " 'BirdSound/Swift/XC37809 - Alpine Swift - Tachymarptis melba.wav'\n",
      " 'BirdSound/Avocet/XC188266 - Pied Avocet - Recurvirostra avosetta.wav'\n",
      " 'BirdSound/Stilt/XC224234 - Black-necked Stilt - Himantopus mexicanus.wav'\n",
      " 'BirdSound/Stilt/XC193722 - Black-winged Stilt - Himantopus himantopus.wav'\n",
      " 'BirdSound/Coot/XC48557 - Red-fronted Coot - Fulica rufifrons.wav'\n",
      " 'BirdSound/Swift/XC376926 - Common Swift - Apus apus.wav'\n",
      " 'BirdSound/Grouse/XC469667 - Black Grouse - Lyrurus tetrix.wav'\n",
      " 'BirdSound/Crake/XC349171 - Ocellated Crake - Micropygia schomburgkii.wav'\n",
      " 'BirdSound/Pheasant/XC437853 - Common Pheasant - Phasianus colchicus.wav'\n",
      " 'BirdSound/Pigeon/XC221376 - Short-billed Pigeon - Patagioenas nigrirostris.wav'\n",
      " 'BirdSound/Grouse/XC320022 - Dusky Grouse - Dendragapus obscurus.wav'\n",
      " 'BirdSound/Sandpiper/XC426254 - Green Sandpiper - Tringa ochropus.wav'\n",
      " 'BirdSound/Sandpiper/XC145934 - Stilt Sandpiper - Calidris himantopus.wav'\n",
      " 'BirdSound/Gallinule/XC228563 - Purple Gallinule - Porphyrio martinica.wav'\n",
      " 'BirdSound/Sandpiper/XC255373 - Spotted Sandpiper - Actitis macularius.wav'\n",
      " 'BirdSound/Oystercatcher/XC411158 - Eurasian Oystercatcher - Haematopus ostralegus ostralegus.wav'\n",
      " 'BirdSound/Crake/XC94670 - Russet-crowned Crake - Laterallus viridis.wav'\n",
      " 'BirdSound/Pheasant/XC384627 - Common Pheasant - Phasianus colchicus.wav'\n",
      " 'BirdSound/Grouse/XC92111 - Hazel Grouse - Tetrastes bonasia.wav'\n",
      " 'BirdSound/Oystercatcher/XC28379 - Magellanic Oystercatcher - Haematopus leucopodus.wav'\n",
      " 'BirdSound/Grouse/XC77993 - Ruffed Grouse - Bonasa umbellus incana.wav'\n",
      " 'BirdSound/Quail/XC113194 - Ruddy Quail-Dove - Geotrygon montana.wav'\n",
      " 'BirdSound/Dove/XC315273 - Blue Ground Dove - Claravis pretiosa.wav'\n",
      " 'BirdSound/Swift/XC184145 - Common Swift - Apus apus.wav'\n",
      " 'BirdSound/Turaco/XC103430 - Yellow-billed Turaco - Tauraco macrorhynchus macrorhynchus.wav'\n",
      " 'BirdSound/Crane/XC64698 - Red-crowned Crane - Grus japonensis.wav'\n",
      " 'BirdSound/Plover/XC378002 - Common Ringed Plover - Charadrius hiaticula.wav'\n",
      " 'BirdSound/Plover/XC51732 - Collared Plover - Charadrius collaris.wav'\n",
      " 'BirdSound/Gallinule/XC452961 - Common Gallinule - Gallinula galeata.wav'\n",
      " 'BirdSound/Rail/XC217119 - Black Rail - Laterallus jamaicensis.wav'\n",
      " 'BirdSound/Coot/XC89324 - American Coot - Fulica americana.wav'\n",
      " 'BirdSound/Nightjar/XC357069 - Freckled Nightjar - Caprimulgus tristigma.wav'\n",
      " 'BirdSound/Crake/XC237988 - Chestnut-headed Crake - Anurolimnas castaneiceps castaneiceps.wav'\n",
      " 'BirdSound/Grouse/XC61517 - Ruffed Grouse - Bonasa umbellus.wav'\n",
      " \"BirdSound/Turaco/XC115970 - Livingstone's Turaco - Tauraco livingstonii.wav\"\n",
      " 'BirdSound/Pigeon/XC48673 - Picazuro Pigeon - Patagioenas picazuro.wav'\n",
      " 'BirdSound/Crake/XC69265 - Spotless Crake - Porzana tabuensis.wav'\n",
      " 'BirdSound/Nightjar/XC51584 - Scissor-tailed Nightjar - Hydropsalis torquata.wav'\n",
      " 'BirdSound/Avocet/XC146958 - Andean Avocet - Recurvirostra andina.wav'\n",
      " 'BirdSound/Pigeon/XC486547 - Hill Pigeon - Columba rupestris.wav'\n",
      " 'BirdSound/Sandpiper/XC348861 - Diademed Sandpiper-Plover - Phegornis mitchellii.wav'\n",
      " 'BirdSound/Quail/XC153452 - California Quail - Callipepla californica.wav'\n",
      " 'BirdSound/Swift/XC1885 - Short-tailed Swift - Chaetura brachyura.wav'\n",
      " 'BirdSound/Plover/XC220898 - Collared Plover - Charadrius collaris.wav'\n",
      " 'BirdSound/Lapwing/XC368211 - Red-wattled Lapwing - Vanellus indicus.wav'\n",
      " 'BirdSound/Coot/XC48552 - Red-gartered Coot - Fulica armillata.wav'\n",
      " 'BirdSound/Stilt/XC304651 - Black-necked Stilt - Himantopus mexicanus.wav'\n",
      " 'BirdSound/Pigeon/XC238773 - Scaled Pigeon - Patagioenas speciosa.wav'\n",
      " 'BirdSound/Rail/XC273674 - Bogota Rail - Rallus semiplumbeus.wav'\n",
      " 'BirdSound/Stilt/XC280353 - Black-winged Stilt - Himantopus himantopus.wav'\n",
      " 'BirdSound/Quail/XC20798 - Rufous-breasted Wood Quail - Odontophorus speciosus soderstromii.wav'\n",
      " 'BirdSound/Gallinule/XC326531 - Purple Gallinule - Porphyrio martinica.wav'\n",
      " 'BirdSound/Crane/XC58012 - Blue Crane - Grus paradisea.wav'\n",
      " 'BirdSound/Swift/XC303387 - White-chinned Swift - Cypseloides cryptus.wav'\n",
      " 'BirdSound/Rail/XC10309 - Bogota Rail - Rallus semiplumbeus semiplumbeus.wav'\n",
      " 'BirdSound/Dove/XC389564 - Blue Ground Dove - Claravis pretiosa.wav'\n",
      " 'BirdSound/Oystercatcher/XC60035 - Blackish Oystercatcher - Haematopus ater.wav'\n",
      " 'BirdSound/Sandpiper/XC30141 - White-rumped Sandpiper - Calidris fuscicollis.wav'\n",
      " 'BirdSound/Crake/XC364028 - Rufous-faced Crake - Laterallus xenopterus.wav'\n",
      " 'BirdSound/Nightjar/XC43206 - Sickle-winged Nightjar - Eleothreptus anomalus.wav']\n"
     ]
    }
   ],
   "source": [
    "# Find wrong predicted audio files\n",
    "print(np.array(labels)[test_index[wrong_predictions]])\n",
    "print(predicted_labels[wrong_predictions].T)\n",
    "print(labelencoder.inverse_transform(predicted_labels[wrong_predictions]))\n",
    "print(np.array(files)[test_index[wrong_predictions]])"
   ]
  },
  {
   "cell_type": "markdown",
   "metadata": {},
   "source": [
    "## 4.Naive Bayes"
   ]
  },
  {
   "cell_type": "code",
   "execution_count": 46,
   "metadata": {},
   "outputs": [],
   "source": [
    "from sklearn.naive_bayes import GaussianNB\n",
    "\n",
    "model_NB = GaussianNB()"
   ]
  },
  {
   "cell_type": "code",
   "execution_count": 47,
   "metadata": {},
   "outputs": [],
   "source": [
    "model_NB.fit(train_set, train_classes);"
   ]
  },
  {
   "cell_type": "markdown",
   "metadata": {},
   "source": [
    "## Save / Load Trained Model"
   ]
  },
  {
   "cell_type": "code",
   "execution_count": 48,
   "metadata": {},
   "outputs": [
    {
     "data": {
      "text/plain": [
       "['trainedNaiveBayes.joblib']"
      ]
     },
     "execution_count": 48,
     "metadata": {},
     "output_type": "execute_result"
    }
   ],
   "source": [
    "# Save\n",
    "joblib.dump(model_NB, 'trainedNaiveBayes.joblib')\n",
    "#Load\n",
    "#svclassifier = joblib.load('filename.joblib') "
   ]
  },
  {
   "cell_type": "code",
   "execution_count": 49,
   "metadata": {},
   "outputs": [],
   "source": [
    "# Predict using the Test Set\n",
    "#predicted_labels = model_svm.predict(test_set)\n",
    "predicted_labels = model_NB.predict(test_set)"
   ]
  },
  {
   "cell_type": "markdown",
   "metadata": {},
   "source": [
    "## Evaluation"
   ]
  },
  {
   "cell_type": "code",
   "execution_count": 50,
   "metadata": {},
   "outputs": [
    {
     "name": "stdout",
     "output_type": "stream",
     "text": [
      "Recall:  [0.67 0.   0.14 0.17 0.14 0.   0.   0.17 0.5  0.17 0.4  0.2  0.   0.\n",
      " 0.   0.   0.2  0.   0.6  0.  ]\n",
      "Precision:  [0.4  0.   0.2  0.33 0.25 0.   0.   0.25 0.33 0.25 0.11 0.12 0.   0.\n",
      " 0.   0.   0.2  0.   0.38 0.  ]\n",
      "F1-Score:  [0.5  0.   0.17 0.22 0.18 0.   0.   0.2  0.4  0.2  0.17 0.15 0.   0.\n",
      " 0.   0.   0.2  0.   0.46 0.  ]\n",
      "Accuracy: 0.17  , 19\n",
      "Number of samples: 113\n"
     ]
    }
   ],
   "source": [
    "# Recall - the ability of the classifier to find all the positive samples\n",
    "print(\"Recall: \", recall_score(test_classes, predicted_labels,average=None))\n",
    "\n",
    "# Precision - The precision is intuitively the ability of the classifier not to \n",
    "#label as positive a sample that is negative\n",
    "print(\"Precision: \", precision_score(test_classes, predicted_labels,average=None))\n",
    "\n",
    "# F1-Score - The F1 score can be interpreted as a weighted average of the precision \n",
    "#and recall\n",
    "print(\"F1-Score: \", f1_score(test_classes, predicted_labels, average=None))\n",
    "\n",
    "# Accuracy - the number of correctly classified samples\n",
    "print(\"Accuracy: %.2f  ,\" % accuracy_score(test_classes, predicted_labels,normalize=True), accuracy_score(test_classes, predicted_labels,normalize=False) )\n",
    "print(\"Number of samples:\",test_classes.shape[0])"
   ]
  },
  {
   "cell_type": "code",
   "execution_count": 51,
   "metadata": {},
   "outputs": [],
   "source": [
    "# Compute confusion matrix\n",
    "cnf_matrix = confusion_matrix(test_classes, predicted_labels)\n",
    "np.set_printoptions(precision=2)"
   ]
  },
  {
   "cell_type": "code",
   "execution_count": 52,
   "metadata": {},
   "outputs": [],
   "source": [
    "# Function to Plot Confusion Matrix\n",
    "# http://scikit-learn.org/stable/auto_examples/model_selection/plot_confusion_matrix.html\n",
    "def plot_confusion_matrix(cm, classes,\n",
    "                          normalize=False,\n",
    "                          title='Confusion matrix',\n",
    "                          cmap=plt.cm.Blues):\n",
    "    \"\"\"\n",
    "    This function prints and plots the confusion matrix.\n",
    "    Normalization can be applied by setting `normalize=True`.\n",
    "    \n",
    "    if normalize:\n",
    "        cm = cm.astype('float') / cm.sum(axis=1)[:, np.newaxis]\n",
    "        print(\"Normalized confusion matrix\")\n",
    "    else:\n",
    "        print('Confusion matrix, without normalization')\n",
    "    \"\"\"\n",
    "    #print(cm)\n",
    "\n",
    "    plt.imshow(cm, interpolation='nearest', cmap=cmap)\n",
    "    plt.title(title)\n",
    "    plt.colorbar()\n",
    "    tick_marks = np.arange(len(classes))\n",
    "    plt.xticks(tick_marks, classes, rotation=45)\n",
    "    plt.yticks(tick_marks, classes)\n",
    "\n",
    "    fmt = '.2f' if normalize else 'd'\n",
    "    thresh = cm.max() / 2.\n",
    "    for i, j in itertools.product(range(cm.shape[0]), range(cm.shape[1])):\n",
    "        plt.text(j, i, format(cm[i, j], fmt),\n",
    "                 horizontalalignment=\"center\",\n",
    "                 color=\"white\" if cm[i, j] > thresh else \"black\")\n",
    "\n",
    "    plt.tight_layout()\n",
    "    plt.ylabel('True label')\n",
    "    plt.xlabel('Predicted label')"
   ]
  },
  {
   "cell_type": "code",
   "execution_count": 53,
   "metadata": {},
   "outputs": [
    {
     "data": {
      "image/png": "[encoded data removed]",
      "text/plain": [
       "<Figure size 1296x936 with 2 Axes>"
      ]
     },
     "metadata": {
      "needs_background": "light"
     },
     "output_type": "display_data"
    }
   ],
   "source": [
    "# Plot non-normalized confusion matrix\n",
    "plt.figure(figsize=(18,13))\n",
    "plot_confusion_matrix(cnf_matrix, classes=labelencoder.classes_,\n",
    "                      title='Confusion matrix, without normalization')"
   ]
  },
  {
   "cell_type": "code",
   "execution_count": 54,
   "metadata": {},
   "outputs": [],
   "source": [
    "# Find wrong predicted samples indexes\n",
    "#wrong_predictions = [i for i, (e1, e2) in enumerate(zip(test_classes, predicted_labels)) if e1 != e2]\n",
    "wrong_predictions = [i for i, (e1, e2) in enumerate(zip(predicted_labels,test_classes)) if e1 != e2]"
   ]
  },
  {
   "cell_type": "code",
   "execution_count": 55,
   "metadata": {},
   "outputs": [
    {
     "name": "stdout",
     "output_type": "stream",
     "text": [
      "['Grebe' 'Grouse' 'Dove' 'Sandpiper' 'Avocet' 'Coot' 'Crane' 'Lapwing'\n",
      " 'Lapwing' 'Dove' 'Rail' 'Nightjar' 'Crake' 'Nightjar' 'Quail' 'Crane'\n",
      " 'Grebe' 'Grebe' 'Grebe' 'Quail' 'Stilt' 'Pheasant' 'Quail' 'Turaco'\n",
      " 'Turaco' 'Crane' 'Pheasant' 'Grebe' 'Dove' 'Plover' 'Pheasant' 'Pigeon'\n",
      " 'Avocet' 'Stilt' 'Stilt' 'Lapwing' 'Gallinule' 'Coot' 'Grebe' 'Grouse'\n",
      " 'Crake' 'Pheasant' 'Gallinule' 'Pigeon' 'Grouse' 'Sandpiper' 'Gallinule'\n",
      " 'Sandpiper' 'Gallinule' 'Oystercatcher' 'Grebe' 'Crake' 'Coot'\n",
      " 'Oystercatcher' 'Grouse' 'Dove' 'Dove' 'Turaco' 'Plover' 'Plover'\n",
      " 'Gallinule' 'Rail' 'Coot' 'Nightjar' 'Crake' 'Grouse' 'Rail' 'Turaco'\n",
      " 'Pigeon' 'Crake' 'Oystercatcher' 'Nightjar' 'Pigeon' 'Plover' 'Quail'\n",
      " 'Swift' 'Plover' 'Coot' 'Turaco' 'Stilt' 'Pigeon' 'Rail' 'Stilt' 'Quail'\n",
      " 'Gallinule' 'Crane' 'Crane' 'Swift' 'Rail' 'Dove' 'Sandpiper' 'Crake'\n",
      " 'Coot' 'Nightjar']\n",
      "[ 1  5 10  8 10 10 14 16 10 12 11  8 11 15  2  0  0 17  8  9 10  5  9  5\n",
      "  1  1 15 18  1 18  2  9 17  2 13  0  8  6  5  4  7  0  1 19 11 18  1  0\n",
      " 13 17  1 10 10  2  1  6  1  1 11  8 15 10 10 10 13  5 10  6  4  1  0 10\n",
      " 10  7 11  4 10  3  3 16 16  8 10  1 18 14 15 16 11  7 11 12 10 18]\n",
      "['Coot' 'Gallinule' 'Oystercatcher' 'Lapwing' 'Oystercatcher'\n",
      " 'Oystercatcher' 'Quail' 'Sandpiper' 'Oystercatcher' 'Pigeon' 'Pheasant'\n",
      " 'Lapwing' 'Pheasant' 'Rail' 'Crake' 'Avocet' 'Avocet' 'Stilt' 'Lapwing'\n",
      " 'Nightjar' 'Oystercatcher' 'Gallinule' 'Nightjar' 'Gallinule' 'Coot'\n",
      " 'Coot' 'Rail' 'Swift' 'Coot' 'Swift' 'Crake' 'Nightjar' 'Stilt' 'Crake'\n",
      " 'Plover' 'Avocet' 'Lapwing' 'Grebe' 'Gallinule' 'Dove' 'Grouse' 'Avocet'\n",
      " 'Coot' 'Turaco' 'Pheasant' 'Swift' 'Coot' 'Avocet' 'Plover' 'Stilt'\n",
      " 'Coot' 'Oystercatcher' 'Oystercatcher' 'Crake' 'Coot' 'Grebe' 'Coot'\n",
      " 'Coot' 'Pheasant' 'Lapwing' 'Rail' 'Oystercatcher' 'Oystercatcher'\n",
      " 'Oystercatcher' 'Plover' 'Gallinule' 'Oystercatcher' 'Grebe' 'Dove'\n",
      " 'Coot' 'Avocet' 'Oystercatcher' 'Oystercatcher' 'Grouse' 'Pheasant'\n",
      " 'Dove' 'Oystercatcher' 'Crane' 'Crane' 'Sandpiper' 'Sandpiper' 'Lapwing'\n",
      " 'Oystercatcher' 'Coot' 'Swift' 'Quail' 'Rail' 'Sandpiper' 'Pheasant'\n",
      " 'Grouse' 'Pheasant' 'Pigeon' 'Oystercatcher' 'Swift']\n",
      "['BirdSound/Grebe/XC185652 - Little Grebe - Tachybaptus ruficollis.wav'\n",
      " 'BirdSound/Grouse/XC451470 - Black-faced Sandgrouse - Pterocles decoratus ellenbecki.wav'\n",
      " 'BirdSound/Dove/XC238202 - Croaking Ground Dove - Columbina cruziana.wav'\n",
      " 'BirdSound/Sandpiper/XC161585 - Solitary Sandpiper - Tringa solitaria.wav'\n",
      " 'BirdSound/Avocet/XC317972 - American Avocet - Recurvirostra americana.wav'\n",
      " 'BirdSound/Coot/XC44706 - Eurasian Coot - Fulica atra atra.wav'\n",
      " 'BirdSound/Crane/XC432843 - Common Crane - Grus grus.wav'\n",
      " 'BirdSound/Lapwing/XC307119 - Grey-headed Lapwing - Vanellus cinereus.wav'\n",
      " 'BirdSound/Lapwing/XC81962 - Grey-headed Lapwing - Vanellus cinereus.wav'\n",
      " 'BirdSound/Dove/XC197100 - Spotted Dove - Spilopelia chinensis.wav'\n",
      " \"BirdSound/Rail/XC110658 - Ridgway's Rail - Rallus obsoletus yumanensis.wav\"\n",
      " 'BirdSound/Nightjar/XC257052 - Ladder-tailed Nightjar - Hydropsalis climacocerca climacocerca.wav'\n",
      " 'BirdSound/Crake/XC119289 - Russet-crowned Crake - Laterallus viridis.wav'\n",
      " 'BirdSound/Nightjar/XC30564 - Silky-tailed Nightjar - Antrostomus sericocaudatus sericocaudatus.wav'\n",
      " 'BirdSound/Quail/XC406904 - Black-eared Wood Quail - Odontophorus melanotis melanotis.wav'\n",
      " 'BirdSound/Crane/XC107471 - Sandhill Crane - Antigone canadensis.wav'\n",
      " 'BirdSound/Grebe/XC280980 - Little Grebe - Tachybaptus ruficollis.wav'\n",
      " 'BirdSound/Grebe/XC26547 - Great Crested Grebe - Podiceps cristatus cristatus.wav'\n",
      " 'BirdSound/Grebe/XC55584 - Least Grebe - Tachybaptus dominicus.wav'\n",
      " 'BirdSound/Quail/XC251278 - Marbled Wood Quail - Odontophorus gujanensis buckleyi.wav'\n",
      " 'BirdSound/Stilt/XC6707 - White-backed Stilt - Himantopus melanurus melanurus.wav'\n",
      " 'BirdSound/Pheasant/XC422829 - Common Pheasant - Phasianus colchicus.wav'\n",
      " 'BirdSound/Quail/XC53487 - California Quail - Callipepla californica.wav'\n",
      " 'BirdSound/Turaco/XC361401 - Knysna Turaco - Tauraco corythaix.wav'\n",
      " 'BirdSound/Turaco/XC72452 - Purple-crested Turaco - Tauraco porphyreolophus.wav'\n",
      " 'BirdSound/Crane/XC409607 - Red-crowned Crane - Grus japonensis.wav'\n",
      " 'BirdSound/Pheasant/XC115583 - Common Pheasant - Phasianus colchicus.wav'\n",
      " 'BirdSound/Grebe/XC442038 - Little Grebe - Tachybaptus ruficollis.wav'\n",
      " 'BirdSound/Dove/XC367411 - European Turtle Dove - Streptopelia turtur.wav'\n",
      " 'BirdSound/Plover/XC14345 - Purple-crowned Plovercrest - Stephanoxis loddigesii.wav'\n",
      " 'BirdSound/Pheasant/XC99473 - Common Pheasant - Phasianus colchicus.wav'\n",
      " 'BirdSound/Pigeon/XC166060 - Orange-breasted Green Pigeon - Treron bicinctus.wav'\n",
      " 'BirdSound/Avocet/XC188266 - Pied Avocet - Recurvirostra avosetta.wav'\n",
      " 'BirdSound/Stilt/XC224234 - Black-necked Stilt - Himantopus mexicanus.wav'\n",
      " 'BirdSound/Stilt/XC193722 - Black-winged Stilt - Himantopus himantopus.wav'\n",
      " 'BirdSound/Lapwing/XC425220 - Spur-winged Lapwing - Vanellus spinosus.wav'\n",
      " 'BirdSound/Gallinule/XC139954 - Common Gallinule - Gallinula galeata.wav'\n",
      " 'BirdSound/Coot/XC48557 - Red-fronted Coot - Fulica rufifrons.wav'\n",
      " 'BirdSound/Grebe/XC54500 - Pied-billed Grebe - Podilymbus podiceps antarcticus.wav'\n",
      " 'BirdSound/Grouse/XC469667 - Black Grouse - Lyrurus tetrix.wav'\n",
      " 'BirdSound/Crake/XC349171 - Ocellated Crake - Micropygia schomburgkii.wav'\n",
      " 'BirdSound/Pheasant/XC437853 - Common Pheasant - Phasianus colchicus.wav'\n",
      " 'BirdSound/Gallinule/XC1147 - Purple Gallinule - Porphyrio martinica.wav'\n",
      " 'BirdSound/Pigeon/XC221376 - Short-billed Pigeon - Patagioenas nigrirostris.wav'\n",
      " 'BirdSound/Grouse/XC320022 - Dusky Grouse - Dendragapus obscurus.wav'\n",
      " 'BirdSound/Sandpiper/XC426254 - Green Sandpiper - Tringa ochropus.wav'\n",
      " 'BirdSound/Gallinule/XC7979 - Common Gallinule - Gallinula galeata.wav'\n",
      " 'BirdSound/Sandpiper/XC145934 - Stilt Sandpiper - Calidris himantopus.wav'\n",
      " 'BirdSound/Gallinule/XC228563 - Purple Gallinule - Porphyrio martinica.wav'\n",
      " 'BirdSound/Oystercatcher/XC411158 - Eurasian Oystercatcher - Haematopus ostralegus ostralegus.wav'\n",
      " 'BirdSound/Grebe/XC451358 - Pied-billed Grebe - Podilymbus podiceps.wav'\n",
      " 'BirdSound/Crake/XC94670 - Russet-crowned Crake - Laterallus viridis.wav'\n",
      " 'BirdSound/Coot/XC14381 - American Coot - Fulica americana~1.wav'\n",
      " 'BirdSound/Oystercatcher/XC28379 - Magellanic Oystercatcher - Haematopus leucopodus.wav'\n",
      " 'BirdSound/Grouse/XC77993 - Ruffed Grouse - Bonasa umbellus incana.wav'\n",
      " 'BirdSound/Quail/XC113194 - Ruddy Quail-Dove - Geotrygon montana.wav'\n",
      " 'BirdSound/Dove/XC315273 - Blue Ground Dove - Claravis pretiosa.wav'\n",
      " 'BirdSound/Turaco/XC103430 - Yellow-billed Turaco - Tauraco macrorhynchus macrorhynchus.wav'\n",
      " 'BirdSound/Plover/XC378002 - Common Ringed Plover - Charadrius hiaticula.wav'\n",
      " 'BirdSound/Plover/XC51732 - Collared Plover - Charadrius collaris.wav'\n",
      " 'BirdSound/Gallinule/XC452961 - Common Gallinule - Gallinula galeata.wav'\n",
      " 'BirdSound/Rail/XC217119 - Black Rail - Laterallus jamaicensis.wav'\n",
      " 'BirdSound/Coot/XC89324 - American Coot - Fulica americana.wav'\n",
      " 'BirdSound/Nightjar/XC357069 - Freckled Nightjar - Caprimulgus tristigma.wav'\n",
      " 'BirdSound/Crake/XC237988 - Chestnut-headed Crake - Anurolimnas castaneiceps castaneiceps.wav'\n",
      " 'BirdSound/Grouse/XC61517 - Ruffed Grouse - Bonasa umbellus.wav'\n",
      " 'BirdSound/Rail/XC475407 - Water Rail - Rallus aquaticus.wav'\n",
      " \"BirdSound/Turaco/XC115970 - Livingstone's Turaco - Tauraco livingstonii.wav\"\n",
      " 'BirdSound/Pigeon/XC48673 - Picazuro Pigeon - Patagioenas picazuro.wav'\n",
      " 'BirdSound/Crake/XC69265 - Spotless Crake - Porzana tabuensis.wav'\n",
      " 'BirdSound/Oystercatcher/XC25075 - Eurasian Oystercatcher - Haematopus ostralegus.wav'\n",
      " 'BirdSound/Nightjar/XC51584 - Scissor-tailed Nightjar - Hydropsalis torquata.wav'\n",
      " 'BirdSound/Pigeon/XC486547 - Hill Pigeon - Columba rupestris.wav'\n",
      " 'BirdSound/Sandpiper/XC348861 - Diademed Sandpiper-Plover - Phegornis mitchellii.wav'\n",
      " 'BirdSound/Quail/XC153452 - California Quail - Callipepla californica.wav'\n",
      " 'BirdSound/Swift/XC1885 - Short-tailed Swift - Chaetura brachyura.wav'\n",
      " 'BirdSound/Plover/XC220898 - Collared Plover - Charadrius collaris.wav'\n",
      " 'BirdSound/Coot/XC48552 - Red-gartered Coot - Fulica armillata.wav'\n",
      " 'BirdSound/Turaco/XC99831 - Yellow-billed Turaco - Tauraco macrorhynchus verreauxii.wav'\n",
      " 'BirdSound/Stilt/XC304651 - Black-necked Stilt - Himantopus mexicanus.wav'\n",
      " 'BirdSound/Pigeon/XC238773 - Scaled Pigeon - Patagioenas speciosa.wav'\n",
      " 'BirdSound/Rail/XC273674 - Bogota Rail - Rallus semiplumbeus.wav'\n",
      " 'BirdSound/Stilt/XC280353 - Black-winged Stilt - Himantopus himantopus.wav'\n",
      " 'BirdSound/Quail/XC20798 - Rufous-breasted Wood Quail - Odontophorus speciosus soderstromii.wav'\n",
      " 'BirdSound/Gallinule/XC326531 - Purple Gallinule - Porphyrio martinica.wav'\n",
      " 'BirdSound/Crane/XC58012 - Blue Crane - Grus paradisea.wav'\n",
      " 'BirdSound/Crane/XC167449 - Demoiselle Crane - Grus virgo.wav'\n",
      " 'BirdSound/Swift/XC303387 - White-chinned Swift - Cypseloides cryptus.wav'\n",
      " 'BirdSound/Rail/XC10309 - Bogota Rail - Rallus semiplumbeus semiplumbeus.wav'\n",
      " 'BirdSound/Dove/XC389564 - Blue Ground Dove - Claravis pretiosa.wav'\n",
      " 'BirdSound/Sandpiper/XC30141 - White-rumped Sandpiper - Calidris fuscicollis.wav'\n",
      " 'BirdSound/Crake/XC364028 - Rufous-faced Crake - Laterallus xenopterus.wav'\n",
      " 'BirdSound/Coot/XC302637 - Eurasian Coot - Fulica atra.wav'\n",
      " 'BirdSound/Nightjar/XC43206 - Sickle-winged Nightjar - Eleothreptus anomalus.wav']\n"
     ]
    }
   ],
   "source": [
    "# Find wrong predicted audio files\n",
    "print(np.array(labels)[test_index[wrong_predictions]])\n",
    "print(predicted_labels[wrong_predictions].T)\n",
    "print(labelencoder.inverse_transform(predicted_labels[wrong_predictions]))\n",
    "print(np.array(files)[test_index[wrong_predictions]])"
   ]
  },
  {
   "cell_type": "markdown",
   "metadata": {},
   "source": [
    "## 5.Random Forest"
   ]
  },
  {
   "cell_type": "code",
   "execution_count": 56,
   "metadata": {},
   "outputs": [],
   "source": [
    "from sklearn.ensemble import RandomForestClassifier"
   ]
  },
  {
   "cell_type": "code",
   "execution_count": 57,
   "metadata": {},
   "outputs": [],
   "source": [
    "model_RFC = RandomForestClassifier(n_estimators=100, max_depth=2,random_state=0)"
   ]
  },
  {
   "cell_type": "code",
   "execution_count": 58,
   "metadata": {},
   "outputs": [],
   "source": [
    "model_RFC.fit(train_set, train_classes);"
   ]
  },
  {
   "cell_type": "markdown",
   "metadata": {},
   "source": [
    "## Save / Load Trained Model"
   ]
  },
  {
   "cell_type": "code",
   "execution_count": 60,
   "metadata": {},
   "outputs": [
    {
     "data": {
      "text/plain": [
       "['trainedRandomForest.joblib']"
      ]
     },
     "execution_count": 60,
     "metadata": {},
     "output_type": "execute_result"
    }
   ],
   "source": [
    "# Save\n",
    "joblib.dump(model_RFC, 'trainedRandomForest.joblib')\n",
    "#Load\n",
    "#svclassifier = joblib.load('filename.joblib') "
   ]
  },
  {
   "cell_type": "code",
   "execution_count": 61,
   "metadata": {},
   "outputs": [],
   "source": [
    "# Predict using the Test Set\n",
    "#predicted_labels = model_svm.predict(test_set)\n",
    "predicted_labels = model_RFC.predict(test_set)"
   ]
  },
  {
   "cell_type": "markdown",
   "metadata": {},
   "source": [
    "## Evaluation"
   ]
  },
  {
   "cell_type": "code",
   "execution_count": 62,
   "metadata": {},
   "outputs": [
    {
     "name": "stdout",
     "output_type": "stream",
     "text": [
      "Recall:  [1.   0.67 0.   0.5  0.14 0.   0.14 0.33 0.5  0.33 0.6  0.   0.   0.\n",
      " 0.   0.   0.   0.   0.4  0.8 ]\n",
      "Precision:  [0.4  0.17 0.   0.43 0.09 0.   0.5  0.33 0.12 0.29 1.   0.   0.   0.\n",
      " 0.   0.   0.   0.   0.4  0.5 ]\n",
      "F1-Score:  [0.57 0.27 0.   0.46 0.11 0.   0.22 0.33 0.2  0.31 0.75 0.   0.   0.\n",
      " 0.   0.   0.   0.   0.4  0.62]\n",
      "Accuracy: 0.27  , 31\n",
      "Number of samples: 113\n"
     ]
    },
    {
     "name": "stderr",
     "output_type": "stream",
     "text": [
      "/home/rutherford/.local/lib/python3.6/site-packages/sklearn/metrics/classification.py:1437: UndefinedMetricWarning: Precision is ill-defined and being set to 0.0 in labels with no predicted samples.\n",
      "  'precision', 'predicted', average, warn_for)\n",
      "/home/rutherford/.local/lib/python3.6/site-packages/sklearn/metrics/classification.py:1437: UndefinedMetricWarning: F-score is ill-defined and being set to 0.0 in labels with no predicted samples.\n",
      "  'precision', 'predicted', average, warn_for)\n"
     ]
    }
   ],
   "source": [
    "# Recall - the ability of the classifier to find all the positive samples\n",
    "print(\"Recall: \", recall_score(test_classes, predicted_labels,average=None))\n",
    "\n",
    "# Precision - The precision is intuitively the ability of the classifier not to \n",
    "#label as positive a sample that is negative\n",
    "print(\"Precision: \", precision_score(test_classes, predicted_labels,average=None))\n",
    "\n",
    "# F1-Score - The F1 score can be interpreted as a weighted average of the precision \n",
    "#and recall\n",
    "print(\"F1-Score: \", f1_score(test_classes, predicted_labels, average=None))\n",
    "\n",
    "# Accuracy - the number of correctly classified samples\n",
    "print(\"Accuracy: %.2f  ,\" % accuracy_score(test_classes, predicted_labels,normalize=True), accuracy_score(test_classes, predicted_labels,normalize=False) )\n",
    "print(\"Number of samples:\",test_classes.shape[0])"
   ]
  },
  {
   "cell_type": "code",
   "execution_count": null,
   "metadata": {},
   "outputs": [],
   "source": [
    "# Compute confusion matrix\n",
    "cnf_matrix = confusion_matrix(test_classes, predicted_labels)\n",
    "np.set_printoptions(precision=2)"
   ]
  },
  {
   "cell_type": "code",
   "execution_count": null,
   "metadata": {},
   "outputs": [],
   "source": [
    "# Function to Plot Confusion Matrix\n",
    "# http://scikit-learn.org/stable/auto_examples/model_selection/plot_confusion_matrix.html\n",
    "def plot_confusion_matrix(cm, classes,\n",
    "                          normalize=False,\n",
    "                          title='Confusion matrix',\n",
    "                          cmap=plt.cm.Blues):\n",
    "    \"\"\"\n",
    "    This function prints and plots the confusion matrix.\n",
    "    Normalization can be applied by setting `normalize=True`.\n",
    "    \n",
    "    if normalize:\n",
    "        cm = cm.astype('float') / cm.sum(axis=1)[:, np.newaxis]\n",
    "        print(\"Normalized confusion matrix\")\n",
    "    else:\n",
    "        print('Confusion matrix, without normalization')\n",
    "    \"\"\"\n",
    "    #print(cm)\n",
    "\n",
    "    plt.imshow(cm, interpolation='nearest', cmap=cmap)\n",
    "    plt.title(title)\n",
    "    plt.colorbar()\n",
    "    tick_marks = np.arange(len(classes))\n",
    "    plt.xticks(tick_marks, classes, rotation=45)\n",
    "    plt.yticks(tick_marks, classes)\n",
    "\n",
    "    fmt = '.2f' if normalize else 'd'\n",
    "    thresh = cm.max() / 2.\n",
    "    for i, j in itertools.product(range(cm.shape[0]), range(cm.shape[1])):\n",
    "        plt.text(j, i, format(cm[i, j], fmt),\n",
    "                 horizontalalignment=\"center\",\n",
    "                 color=\"white\" if cm[i, j] > thresh else \"black\")\n",
    "\n",
    "    plt.tight_layout()\n",
    "    plt.ylabel('True label')\n",
    "    plt.xlabel('Predicted label')"
   ]
  },
  {
   "cell_type": "code",
   "execution_count": null,
   "metadata": {},
   "outputs": [],
   "source": [
    "# Plot non-normalized confusion matrix\n",
    "plt.figure(figsize=(18,13))\n",
    "plot_confusion_matrix(cnf_matrix, classes=labelencoder.classes_,\n",
    "                      title='Confusion matrix, without normalization')"
   ]
  },
  {
   "cell_type": "code",
   "execution_count": null,
   "metadata": {},
   "outputs": [],
   "source": [
    "# Find wrong predicted samples indexes\n",
    "#wrong_predictions = [i for i, (e1, e2) in enumerate(zip(test_classes, predicted_labels)) if e1 != e2]\n",
    "wrong_predictions = [i for i, (e1, e2) in enumerate(zip(predicted_labels,test_classes)) if e1 != e2]"
   ]
  },
  {
   "cell_type": "code",
   "execution_count": null,
   "metadata": {},
   "outputs": [],
   "source": [
    "# Find wrong predicted audio files\n",
    "print(np.array(labels)[test_index[wrong_predictions]])\n",
    "print(predicted_labels[wrong_predictions].T)\n",
    "print(labelencoder.inverse_transform(predicted_labels[wrong_predictions]))\n",
    "print(np.array(files)[test_index[wrong_predictions]])"
   ]
  },
  {
   "cell_type": "markdown",
   "metadata": {},
   "source": [
    "## 6.Gausian Mixture Model"
   ]
  },
  {
   "cell_type": "code",
   "execution_count": null,
   "metadata": {},
   "outputs": [],
   "source": [
    "from sklearn.mixture import GaussianMixture\n",
    "model_GMM = GaussianMixture()"
   ]
  },
  {
   "cell_type": "code",
   "execution_count": null,
   "metadata": {},
   "outputs": [],
   "source": [
    "model_GMM.fit(train_set, train_classes);"
   ]
  },
  {
   "cell_type": "markdown",
   "metadata": {},
   "source": [
    "## Save / Load Trained Model"
   ]
  },
  {
   "cell_type": "code",
   "execution_count": null,
   "metadata": {},
   "outputs": [],
   "source": [
    "# Save\n",
    "joblib.dump(model_GMM, 'trainedGMM.joblib')\n",
    "#Load\n",
    "#svclassifier = joblib.load('filename.joblib') "
   ]
  },
  {
   "cell_type": "code",
   "execution_count": 1,
   "metadata": {},
   "outputs": [
    {
     "ename": "NameError",
     "evalue": "name 'model_GMM' is not defined",
     "output_type": "error",
     "traceback": [
      "\u001b[0;31m---------------------------------------------------------------------------\u001b[0m",
      "\u001b[0;31mNameError\u001b[0m                                 Traceback (most recent call last)",
      "\u001b[0;32m<ipython-input-1-4c4271670cf5>\u001b[0m in \u001b[0;36m<module>\u001b[0;34m\u001b[0m\n\u001b[1;32m      1\u001b[0m \u001b[0;31m# Predict using the Test Set\u001b[0m\u001b[0;34m\u001b[0m\u001b[0;34m\u001b[0m\u001b[0;34m\u001b[0m\u001b[0m\n\u001b[1;32m      2\u001b[0m \u001b[0;31m#predicted_labels = model_svm.predict(test_set)\u001b[0m\u001b[0;34m\u001b[0m\u001b[0;34m\u001b[0m\u001b[0;34m\u001b[0m\u001b[0m\n\u001b[0;32m----> 3\u001b[0;31m \u001b[0mpredicted_labels\u001b[0m \u001b[0;34m=\u001b[0m \u001b[0mmodel_GMM\u001b[0m\u001b[0;34m.\u001b[0m\u001b[0mpredict\u001b[0m\u001b[0;34m(\u001b[0m\u001b[0mtest_set\u001b[0m\u001b[0;34m)\u001b[0m\u001b[0;34m\u001b[0m\u001b[0;34m\u001b[0m\u001b[0m\n\u001b[0m",
      "\u001b[0;31mNameError\u001b[0m: name 'model_GMM' is not defined"
     ]
    }
   ],
   "source": [
    "# Predict using the Test Set\n",
    "#predicted_labels = model_svm.predict(test_set)\n",
    "predicted_labels = model_GMM.predict(test_set)"
   ]
  },
  {
   "cell_type": "markdown",
   "metadata": {},
   "source": [
    "## Evaluation"
   ]
  },
  {
   "cell_type": "code",
   "execution_count": null,
   "metadata": {},
   "outputs": [],
   "source": [
    "# Recall - the ability of the classifier to find all the positive samples\n",
    "print(\"Recall: \", recall_score(test_classes, predicted_labels,average=None))\n",
    "\n",
    "# Precision - The precision is intuitively the ability of the classifier not to \n",
    "#label as positive a sample that is negative\n",
    "print(\"Precision: \", precision_score(test_classes, predicted_labels,average=None))\n",
    "\n",
    "# F1-Score - The F1 score can be interpreted as a weighted average of the precision \n",
    "#and recall\n",
    "print(\"F1-Score: \", f1_score(test_classes, predicted_labels, average=None))\n",
    "\n",
    "# Accuracy - the number of correctly classified samples\n",
    "print(\"Accuracy: %.2f  ,\" % accuracy_score(test_classes, predicted_labels,normalize=True), accuracy_score(test_classes, predicted_labels,normalize=False) )\n",
    "print(\"Number of samples:\",test_classes.shape[0])"
   ]
  },
  {
   "cell_type": "code",
   "execution_count": null,
   "metadata": {},
   "outputs": [],
   "source": [
    "# Compute confusion matrix\n",
    "cnf_matrix = confusion_matrix(test_classes, predicted_labels)\n",
    "np.set_printoptions(precision=2)"
   ]
  },
  {
   "cell_type": "code",
   "execution_count": null,
   "metadata": {},
   "outputs": [],
   "source": [
    "# Function to Plot Confusion Matrix\n",
    "# http://scikit-learn.org/stable/auto_examples/model_selection/plot_confusion_matrix.html\n",
    "def plot_confusion_matrix(cm, classes,\n",
    "                          normalize=False,\n",
    "                          title='Confusion matrix',\n",
    "                          cmap=plt.cm.Blues):\n",
    "    \"\"\"\n",
    "    This function prints and plots the confusion matrix.\n",
    "    Normalization can be applied by setting `normalize=True`.\n",
    "    \n",
    "    if normalize:\n",
    "        cm = cm.astype('float') / cm.sum(axis=1)[:, np.newaxis]\n",
    "        print(\"Normalized confusion matrix\")\n",
    "    else:\n",
    "        print('Confusion matrix, without normalization')\n",
    "    \"\"\"\n",
    "    #print(cm)\n",
    "\n",
    "    plt.imshow(cm, interpolation='nearest', cmap=cmap)\n",
    "    plt.title(title)\n",
    "    plt.colorbar()\n",
    "    tick_marks = np.arange(len(classes))\n",
    "    plt.xticks(tick_marks, classes, rotation=45)\n",
    "    plt.yticks(tick_marks, classes)\n",
    "\n",
    "    fmt = '.2f' if normalize else 'd'\n",
    "    thresh = cm.max() / 2.\n",
    "    for i, j in itertools.product(range(cm.shape[0]), range(cm.shape[1])):\n",
    "        plt.text(j, i, format(cm[i, j], fmt),\n",
    "                 horizontalalignment=\"center\",\n",
    "                 color=\"white\" if cm[i, j] > thresh else \"black\")\n",
    "\n",
    "    plt.tight_layout()\n",
    "    plt.ylabel('True label')\n",
    "    plt.xlabel('Predicted label')"
   ]
  },
  {
   "cell_type": "code",
   "execution_count": null,
   "metadata": {},
   "outputs": [],
   "source": [
    "# Plot non-normalized confusion matrix\n",
    "plt.figure(figsize=(18,13))\n",
    "plot_confusion_matrix(cnf_matrix, classes=labelencoder.classes_,\n",
    "                      title='Confusion matrix, without normalization')"
   ]
  },
  {
   "cell_type": "code",
   "execution_count": null,
   "metadata": {},
   "outputs": [],
   "source": [
    "# Find wrong predicted samples indexes\n",
    "#wrong_predictions = [i for i, (e1, e2) in enumerate(zip(test_classes, predicted_labels)) if e1 != e2]\n",
    "wrong_predictions = [i for i, (e1, e2) in enumerate(zip(predicted_labels,test_classes)) if e1 != e2]"
   ]
  },
  {
   "cell_type": "code",
   "execution_count": null,
   "metadata": {},
   "outputs": [],
   "source": [
    "# Find wrong predicted audio files\n",
    "print(np.array(labels)[test_index[wrong_predictions]])\n",
    "print(predicted_labels[wrong_predictions].T)\n",
    "print(labelencoder.inverse_transform(predicted_labels[wrong_predictions]))\n",
    "print(np.array(files)[test_index[wrong_predictions]])"
   ]
  },
  {
   "cell_type": "markdown",
   "metadata": {},
   "source": [
    "## 7.Bayesian Mixture Models"
   ]
  },
  {
   "cell_type": "code",
   "execution_count": null,
   "metadata": {},
   "outputs": [],
   "source": [
    "from sklearn.mixture import BayesianGaussianMixture\n",
    "model_BGMM = BayesianGaussianMixture()"
   ]
  },
  {
   "cell_type": "code",
   "execution_count": null,
   "metadata": {},
   "outputs": [],
   "source": [
    "model_BGMM.fit(train_set, train_classes);"
   ]
  },
  {
   "cell_type": "markdown",
   "metadata": {},
   "source": [
    "## Save / Load Trained Model"
   ]
  },
  {
   "cell_type": "code",
   "execution_count": null,
   "metadata": {},
   "outputs": [],
   "source": [
    "# Save\n",
    "joblib.dump(model_BGMM, 'trainedBGMM.joblib')\n",
    "#Load\n",
    "#svclassifier = joblib.load('filename.joblib') "
   ]
  },
  {
   "cell_type": "code",
   "execution_count": null,
   "metadata": {},
   "outputs": [],
   "source": [
    "# Predict using the Test Set\n",
    "#predicted_labels = model_svm.predict(test_set)\n",
    "predicted_labels = model_BGMM.predict(test_set)"
   ]
  },
  {
   "cell_type": "markdown",
   "metadata": {},
   "source": [
    "## Evaluation"
   ]
  },
  {
   "cell_type": "code",
   "execution_count": null,
   "metadata": {},
   "outputs": [],
   "source": [
    "# Recall - the ability of the classifier to find all the positive samples\n",
    "print(\"Recall: \", recall_score(test_classes, predicted_labels,average=None))\n",
    "\n",
    "# Precision - The precision is intuitively the ability of the classifier not to \n",
    "#label as positive a sample that is negative\n",
    "print(\"Precision: \", precision_score(test_classes, predicted_labels,average=None))\n",
    "\n",
    "# F1-Score - The F1 score can be interpreted as a weighted average of the precision \n",
    "#and recall\n",
    "print(\"F1-Score: \", f1_score(test_classes, predicted_labels, average=None))\n",
    "\n",
    "# Accuracy - the number of correctly classified samples\n",
    "print(\"Accuracy: %.2f  ,\" % accuracy_score(test_classes, predicted_labels,normalize=True), accuracy_score(test_classes, predicted_labels,normalize=False) )\n",
    "print(\"Number of samples:\",test_classes.shape[0])"
   ]
  },
  {
   "cell_type": "code",
   "execution_count": null,
   "metadata": {},
   "outputs": [],
   "source": [
    "# Compute confusion matrix\n",
    "cnf_matrix = confusion_matrix(test_classes, predicted_labels)\n",
    "np.set_printoptions(precision=2)"
   ]
  },
  {
   "cell_type": "code",
   "execution_count": null,
   "metadata": {},
   "outputs": [],
   "source": [
    "# Function to Plot Confusion Matrix\n",
    "# http://scikit-learn.org/stable/auto_examples/model_selection/plot_confusion_matrix.html\n",
    "def plot_confusion_matrix(cm, classes,\n",
    "                          normalize=False,\n",
    "                          title='Confusion matrix',\n",
    "                          cmap=plt.cm.Blues):\n",
    "    \"\"\"\n",
    "    This function prints and plots the confusion matrix.\n",
    "    Normalization can be applied by setting `normalize=True`.\n",
    "    \n",
    "    if normalize:\n",
    "        cm = cm.astype('float') / cm.sum(axis=1)[:, np.newaxis]\n",
    "        print(\"Normalized confusion matrix\")\n",
    "    else:\n",
    "        print('Confusion matrix, without normalization')\n",
    "    \"\"\"\n",
    "    #print(cm)\n",
    "\n",
    "    plt.imshow(cm, interpolation='nearest', cmap=cmap)\n",
    "    plt.title(title)\n",
    "    plt.colorbar()\n",
    "    tick_marks = np.arange(len(classes))\n",
    "    plt.xticks(tick_marks, classes, rotation=45)\n",
    "    plt.yticks(tick_marks, classes)\n",
    "\n",
    "    fmt = '.2f' if normalize else 'd'\n",
    "    thresh = cm.max() / 2.\n",
    "    for i, j in itertools.product(range(cm.shape[0]), range(cm.shape[1])):\n",
    "        plt.text(j, i, format(cm[i, j], fmt),\n",
    "                 horizontalalignment=\"center\",\n",
    "                 color=\"white\" if cm[i, j] > thresh else \"black\")\n",
    "\n",
    "    plt.tight_layout()\n",
    "    plt.ylabel('True label')\n",
    "    plt.xlabel('Predicted label')"
   ]
  },
  {
   "cell_type": "code",
   "execution_count": null,
   "metadata": {},
   "outputs": [],
   "source": [
    "# Plot non-normalized confusion matrix\n",
    "plt.figure(figsize=(18,13))\n",
    "plot_confusion_matrix(cnf_matrix, classes=labelencoder.classes_,\n",
    "                      title='Confusion matrix, without normalization')"
   ]
  },
  {
   "cell_type": "code",
   "execution_count": null,
   "metadata": {},
   "outputs": [],
   "source": [
    "# Find wrong predicted samples indexes\n",
    "#wrong_predictions = [i for i, (e1, e2) in enumerate(zip(test_classes, predicted_labels)) if e1 != e2]\n",
    "wrong_predictions = [i for i, (e1, e2) in enumerate(zip(predicted_labels,test_classes)) if e1 != e2]"
   ]
  },
  {
   "cell_type": "code",
   "execution_count": null,
   "metadata": {},
   "outputs": [],
   "source": [
    "# Find wrong predicted audio files\n",
    "print(np.array(labels)[test_index[wrong_predictions]])\n",
    "print(predicted_labels[wrong_predictions].T)\n",
    "print(labelencoder.inverse_transform(predicted_labels[wrong_predictions]))\n",
    "print(np.array(files)[test_index[wrong_predictions]])"
   ]
  },
  {
   "cell_type": "code",
   "execution_count": null,
   "metadata": {},
   "outputs": [],
   "source": []
  },
  {
   "cell_type": "code",
   "execution_count": null,
   "metadata": {},
   "outputs": [],
   "source": []
  },
  {
   "cell_type": "code",
   "execution_count": null,
   "metadata": {},
   "outputs": [],
   "source": []
  },
  {
   "cell_type": "code",
   "execution_count": null,
   "metadata": {},
   "outputs": [],
   "source": []
  }
 ],
 "metadata": {
  "kernelspec": {
   "display_name": "Python 3",
   "language": "python",
   "name": "python3"
  },
  "language_info": {
   "codemirror_mode": {
    "name": "ipython",
    "version": 3
   },
   "file_extension": ".py",
   "mimetype": "text/x-python",
   "name": "python",
   "nbconvert_exporter": "python",
   "pygments_lexer": "ipython3",
   "version": "3.6.9"
  }
 },
 "nbformat": 4,
 "nbformat_minor": 2
}
