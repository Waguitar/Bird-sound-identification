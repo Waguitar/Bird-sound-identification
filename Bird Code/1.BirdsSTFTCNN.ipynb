{
 "cells": [
  {
   "cell_type": "markdown",
   "metadata": {},
   "source": [
    "## Imports"
   ]
  },
  {
   "cell_type": "code",
   "execution_count": 2,
   "metadata": {},
   "outputs": [],
   "source": [
    "# Imports\n",
    "\n",
    "#General\n",
    "import numpy as np\n",
    "import itertools\n",
    "\n",
    "# System\n",
    "import os, fnmatch\n",
    "\n",
    "# Data\n",
    "import pandas as pd\n",
    "\n",
    "# Visualization\n",
    "import seaborn \n",
    "import matplotlib.pyplot as plt\n",
    "from IPython.core.display import HTML, display, Image\n",
    "\n",
    "# Machine Learning\n",
    "from sklearn.preprocessing import LabelEncoder, OneHotEncoder, StandardScaler\n",
    "from sklearn.model_selection import StratifiedShuffleSplit\n",
    "from sklearn.metrics import recall_score, precision_score, accuracy_score\n",
    "from sklearn.metrics import confusion_matrix, f1_score, classification_report\n",
    "\n",
    "\n",
    "# Deep Learning\n",
    "import tensorflow as tf\n",
    "from tensorflow.python.client import device_lib \n",
    "from keras.backend.tensorflow_backend import set_session\n",
    "from tensorflow.python.client import device_lib\n",
    "from keras import backend as K\n",
    "from keras.models import Sequential, Model\n",
    "from keras.layers import Input, Convolution2D, MaxPooling2D, Dense, Dropout, Activation, Flatten, merge\n",
    "from keras.layers.normalization import BatchNormalization\n",
    "from keras.callbacks import History, EarlyStopping, ModelCheckpoint\n",
    "from keras.models import load_model\n",
    "\n",
    "\n",
    "# Random Seed\n",
    "from tensorflow import set_random_seed\n",
    "from numpy.random import seed\n",
    "seed(0)\n",
    "set_random_seed(0)\n",
    "\n",
    "# Audio\n",
    "import librosa.display, librosa\n",
    "from librosa.util import normalize as normalize\n",
    "import IPython.display as ipd\n",
    "\n",
    "# Configurations\n",
    "path='./BirdSound/'"
   ]
  },
  {
   "cell_type": "markdown",
   "metadata": {},
   "source": [
    "## Configurations for Google Colab"
   ]
  },
  {
   "cell_type": "code",
   "execution_count": 119,
   "metadata": {},
   "outputs": [
    {
     "data": {
      "text/plain": [
       "'\\n# Only for Google Colab\\ntry:\\n    import google.colab\\n    if \"GPU:0\" in tf.test.gpu_device_name():\\n        !nvidia-smi\\n        config = tf.ConfigProto(log_device_placement=True, allow_soft_placement=True, device_count = {\\'GPU\\': 0})\\n        config.gpu_options.allow_growth = True\\n        session = tf.Session(config=config)\\n        set_session(session)\\n    else:\\n        print(\"No GPU Detected. Configure the Runtime.\")\\n    !git clone https://github.com/GuitarsAI/BasicsMusicalInstrumClassifi\\n    !unzip ./BasicsMusicalInstrumClassifi/audio/*.zip -d ./BasicsMusicalInstrumClassifi/audio\\n    path=\"./BasicsMusicalInstrumClassifi/audio/london_phill_dataset_multi/\"\\n    os.environ[\\'TF_CPP_MIN_LOG_LEVEL\\'] = \\'3\\'\\n    tf.logging.set_verbosity(tf.logging.ERROR)\\n    from tensorboardcolab import TensorBoardColab, TensorBoardColabCallback\\n    \\nexcept Exception as e:\\n    print(\"Not inside Google Colab: %s. Using standard configurations.\" % (e))\\n    !cat /proc/cpuinfo\\n \\n'"
      ]
     },
     "execution_count": 119,
     "metadata": {},
     "output_type": "execute_result"
    }
   ],
   "source": [
    "\"\"\"\n",
    "# Only for Google Colab\n",
    "try:\n",
    "    import google.colab\n",
    "    if \"GPU:0\" in tf.test.gpu_device_name():\n",
    "        !nvidia-smi\n",
    "        config = tf.ConfigProto(log_device_placement=True, allow_soft_placement=True, device_count = {'GPU': 0})\n",
    "        config.gpu_options.allow_growth = True\n",
    "        session = tf.Session(config=config)\n",
    "        set_session(session)\n",
    "    else:\n",
    "        print(\"No GPU Detected. Configure the Runtime.\")\n",
    "    !git clone https://github.com/GuitarsAI/BasicsMusicalInstrumClassifi\n",
    "    !unzip ./BasicsMusicalInstrumClassifi/audio/*.zip -d ./BasicsMusicalInstrumClassifi/audio\n",
    "    path=\"./BasicsMusicalInstrumClassifi/audio/london_phill_dataset_multi/\"\n",
    "    os.environ['TF_CPP_MIN_LOG_LEVEL'] = '3'\n",
    "    tf.logging.set_verbosity(tf.logging.ERROR)\n",
    "    from tensorboardcolab import TensorBoardColab, TensorBoardColabCallback\n",
    "    \n",
    "except Exception as e:\n",
    "    print(\"Not inside Google Colab: %s. Using standard configurations.\" % (e))\n",
    "    !cat /proc/cpuinfo\n",
    " \n",
    "\"\"\""
   ]
  },
  {
   "cell_type": "markdown",
   "metadata": {},
   "source": [
    "## Parameters"
   ]
  },
  {
   "cell_type": "code",
   "execution_count": 3,
   "metadata": {},
   "outputs": [],
   "source": [
    "# Signal Processing Parameters\n",
    "fs = 44100         # Sampling Frequency\n",
    "n_fft = 2048       # length of the FFT window\n",
    "hop_length = 512   # Number of samples between successive frame\n",
    "# Machine Learning Parameters\n",
    "testset_size = 0.25 #Percentage of data for Testing"
   ]
  },
  {
   "cell_type": "markdown",
   "metadata": {},
   "source": [
    "## Find Audio Files, Generate Labels and Get Duration"
   ]
  },
  {
   "cell_type": "code",
   "execution_count": 4,
   "metadata": {},
   "outputs": [
    {
     "name": "stdout",
     "output_type": "stream",
     "text": [
      "Get 1 = XC131319 - Common Gallinule - Gallinula galeata.wav\n",
      "Get 2 = XC465599 - Common Gallinule - Gallinula galeata cachinnans.wav\n",
      "Get 3 = XC452961 - Common Gallinule - Gallinula galeata.wav\n",
      "Get 4 = XC45353 - Spot-flanked Gallinule - Porphyriops melanops crassirostris.wav\n",
      "Get 5 = XC91834 - Spot-flanked Gallinule - Porphyriops melanops.wav\n",
      "Get 6 = XC414334 - Common Gallinule - Gallinula galeata.wav\n",
      "Get 7 = XC368531 - Common Gallinule - Gallinula galeata.wav\n",
      "Get 8 = XC37123 - Purple Gallinule - Porphyrio martinica.wav\n",
      "Get 9 = XC7979 - Common Gallinule - Gallinula galeata.wav\n",
      "Get 10 = XC246282 - Common Gallinule - Gallinula galeata.wav\n",
      "Get 11 = XC384693 - Common Gallinule - Gallinula galeata.wav\n",
      "Get 12 = XC326531 - Purple Gallinule - Porphyrio martinica.wav\n",
      "Get 13 = XC51100 - Purple Gallinule - Porphyrio martinica.wav\n",
      "Get 14 = XC298133 - Common Gallinule - Gallinula galeata.wav\n",
      "Get 15 = XC264307 - Purple Gallinule - Porphyrio martinica.wav\n",
      "Get 16 = XC166168 - Purple Gallinule - Porphyrio martinica.wav\n",
      "Get 17 = XC45354 - Spot-flanked Gallinule - Porphyriops melanops crassirostris.wav\n",
      "Get 18 = XC50276 - Spot-flanked Gallinule - Porphyriops melanops.wav\n",
      "Get 19 = XC223360 - Common Gallinule - Gallinula galeata.wav\n",
      "Get 20 = XC139954 - Common Gallinule - Gallinula galeata.wav\n",
      "Get 21 = XC223347 - Common Gallinule - Gallinula galeata.wav\n",
      "Get 22 = XC100569 - Common Gallinule - Gallinula galeata.wav\n",
      "Get 23 = XC1147 - Purple Gallinule - Porphyrio martinica.wav\n",
      "Get 24 = XC228563 - Purple Gallinule - Porphyrio martinica.wav\n",
      "Get 25 = XC51555 - Common Gallinule - Gallinula galeata.wav\n",
      "Get 1 = XC125114 - Livingstone's Turaco - Tauraco livingstonii.wav\n",
      "Get 2 = XC43622 - Yellow-billed Turaco - Tauraco macrorhynchus.wav\n",
      "Get 3 = XC445064 - White-cheeked Turaco - Tauraco leucotis.wav\n",
      "Get 4 = XC133022 - Yellow-billed Turaco - Tauraco macrorhynchus.wav\n",
      "Get 5 = XC241065 - Great Blue Turaco - Corythaeola cristata.wav\n",
      "Get 6 = XC62391 - Livingstone's Turaco - Tauraco livingstonii reichenowi.wav\n",
      "Get 7 = XC361401 - Knysna Turaco - Tauraco corythaix.wav\n",
      "Get 8 = XC72452 - Purple-crested Turaco - Tauraco porphyreolophus.wav\n",
      "Get 9 = XC95389 - Livingstone's Turaco - Tauraco livingstonii.wav\n",
      "Get 10 = XC99831 - Yellow-billed Turaco - Tauraco macrorhynchus verreauxii.wav\n",
      "Get 11 = XC459555 - Purple-crested Turaco - Tauraco porphyreolophus.wav\n",
      "Get 12 = XC398142 - Ross's Turaco - Musophaga rossae.wav\n",
      "Get 13 = XC349657 - Schalow's Turaco - Tauraco schalowi.wav\n",
      "Get 14 = XC419778 - Great Blue Turaco - Corythaeola cristata.wav\n",
      "Get 15 = XC335430 - Purple-crested Turaco - Tauraco porphyreolophus (1).wav\n",
      "Get 16 = XC300742 - White-cheeked Turaco - Tauraco leucotis.wav\n",
      "Get 17 = XC430378 - Black-billed Turaco - Tauraco schuettii.wav\n",
      "Get 18 = XC103430 - Yellow-billed Turaco - Tauraco macrorhynchus macrorhynchus.wav\n",
      "Get 19 = XC400403 - Yellow-billed Turaco - Tauraco macrorhynchus.wav\n",
      "Get 20 = XC115970 - Livingstone's Turaco - Tauraco livingstonii.wav\n",
      "Get 1 = XC320022 - Dusky Grouse - Dendragapus obscurus.wav\n",
      "Get 2 = XC77993 - Ruffed Grouse - Bonasa umbellus incana.wav\n",
      "Get 3 = XC129583 - Hazel Grouse - Tetrastes bonasia styriacus.wav\n",
      "Get 4 = XC90846 - Black Grouse - Lyrurus tetrix tetrix.wav\n",
      "Get 5 = XC71944 - Black Grouse - Lyrurus tetrix.wav\n",
      "Get 6 = XC403879 - Hazel Grouse - Tetrastes bonasia.wav\n",
      "Get 7 = XC48658 - Ruffed Grouse - Bonasa umbellus.wav\n",
      "Get 8 = XC434313 - Black-faced Sandgrouse - Pterocles decoratus.wav\n",
      "Get 9 = XC451470 - Black-faced Sandgrouse - Pterocles decoratus ellenbecki.wav\n",
      "Get 10 = XC309948 - Spotted Sandgrouse - Pterocles senegallus.wav\n",
      "Get 11 = XC132868 - Ruffed Grouse - Bonasa umbellus.wav\n",
      "Get 12 = XC395385 - Namaqua Sandgrouse - Pterocles namaqua.wav\n",
      "Get 13 = XC33773 - Sage Grouse - Centrocercus urophasianus.wav\n",
      "Get 14 = XC464316 - Hazel Grouse - Tetrastes bonasia.wav\n",
      "Get 15 = XC182895 - Pin-tailed Sandgrouse - Pterocles alchata caudacutus.wav\n",
      "Get 16 = XC425161 - Yellow-throated Sandgrouse - Pterocles gutturalis.wav\n",
      "Get 17 = XC469668 - Black Grouse - Lyrurus tetrix.wav\n",
      "Get 18 = XC115213 - Four-banded Sandgrouse - Pterocles quadricinctus.wav\n",
      "Get 19 = XC192746 - Hazel Grouse - Tetrastes bonasia.wav\n",
      "Get 20 = XC61517 - Ruffed Grouse - Bonasa umbellus.wav\n",
      "Get 21 = XC347020 - Namaqua Sandgrouse - Pterocles namaqua.wav\n",
      "Get 22 = XC469667 - Black Grouse - Lyrurus tetrix.wav\n",
      "Get 23 = XC92111 - Hazel Grouse - Tetrastes bonasia.wav\n",
      "Get 24 = XC468769 - Ruffed Grouse - Bonasa umbellus.wav\n",
      "Get 25 = XC410653 - Lichtenstein's Sandgrouse - Pterocles lichtensteinii.wav\n",
      "Get 1 = XC116585 - Crane Hawk - Geranospiza caerulescens flexipes.wav\n",
      "Get 2 = XC415287 - Common Crane - Grus grus.wav\n",
      "Get 3 = XC149571 - Demoiselle Crane - Grus virgo.wav\n",
      "Get 4 = XC107471 - Sandhill Crane - Antigone canadensis.wav\n",
      "Get 5 = XC62293 - Grey Crowned Crane - Balearica regulorum regulorum.wav\n",
      "Get 6 = XC361033 - Sandhill Crane - Antigone canadensis.wav\n",
      "Get 7 = XC465930 - Common Crane - Grus grus.wav\n",
      "Get 8 = XC267448 - Black Crowned Crane - Balearica pavonina ceciliae.wav\n",
      "Get 9 = XC401978 - Siberian Crane - Leucogeranus leucogeranus.wav\n",
      "Get 10 = XC295719 - Sarus Crane - Antigone antigone sharpii.wav\n",
      "Get 11 = XC233280 - Common Crane - Grus grus (1).wav\n",
      "Get 12 = XC459728 - Common Crane - Grus grus.wav\n",
      "Get 13 = XC454331 - Sarus Crane - Antigone antigone.wav\n",
      "Get 14 = XC58012 - Blue Crane - Grus paradisea.wav\n",
      "Get 15 = XC432843 - Common Crane - Grus grus.wav\n",
      "Get 16 = XC64698 - Red-crowned Crane - Grus japonensis.wav\n",
      "Get 17 = XC476374 - Common Crane - Grus grus.wav\n",
      "Get 18 = XC282899 - Blue Crane - Grus paradisea.wav\n",
      "Get 19 = XC393305 - Sandhill Crane - Antigone canadensis.wav\n",
      "Get 20 = XC326302 - Blue Crane - Grus paradisea.wav\n",
      "Get 21 = XC167449 - Demoiselle Crane - Grus virgo.wav\n",
      "Get 22 = XC62293 - Grey Crowned Crane - Balearica regulorum regulorum~1.wav\n",
      "Get 23 = XC28066 - Common Crane - Grus grus.wav\n",
      "Get 24 = XC409607 - Red-crowned Crane - Grus japonensis.wav\n",
      "Get 25 = XC216976 - Common Crane - Grus grus.wav\n",
      "Get 1 = XC364028 - Rufous-faced Crake - Laterallus xenopterus.wav\n",
      "Get 2 = XC15483 - Rufous-faced Crake - Laterallus xenopterus.wav\n",
      "Get 3 = XC270595 - Chestnut-headed Crake - Anurolimnas castaneiceps.wav\n",
      "Get 4 = XC237988 - Chestnut-headed Crake - Anurolimnas castaneiceps castaneiceps.wav\n",
      "Get 5 = XC13469 - Black-banded Crake - Laterallus fasciatus~1.wav\n",
      "Get 6 = XC224864 - Rusty-flanked Crake - Laterallus levraudi.wav\n",
      "Get 7 = XC69265 - Spotless Crake - Porzana tabuensis.wav\n",
      "Get 8 = XC288426 - Grey-breasted Crake - Laterallus exilis.wav\n",
      "Get 9 = XC218852 - Russet-crowned Crake - Laterallus viridis.wav\n",
      "Get 10 = XC13469 - Black-banded Crake - Laterallus fasciatus.wav\n",
      "Get 11 = XC55476 - Ash-throated Crake - Porzana albicollis.wav\n",
      "Get 12 = XC119289 - Russet-crowned Crake - Laterallus viridis.wav\n",
      "Get 13 = XC210825 - Rufous-sided Crake - Laterallus melanophaius.wav\n",
      "Get 14 = XC45671 - Rufous-sided Crake - Laterallus melanophaius.wav\n",
      "Get 15 = XC94670 - Russet-crowned Crake - Laterallus viridis.wav\n",
      "Get 16 = XC54440 - White-throated Crake - Laterallus albigularis albigularis.wav\n",
      "Get 17 = XC371591 - Spotted Crake - Porzana porzana.wav\n",
      "Get 18 = XC153920 - Black Crake - Amaurornis flavirostra (2).wav\n",
      "Get 19 = XC349171 - Ocellated Crake - Micropygia schomburgkii.wav\n",
      "Get 20 = XC2358 - Rufous-sided Crake - Laterallus melanophaius.wav\n",
      "Get 21 = XC383379 - Ocellated Crake - Micropygia schomburgkii.wav\n",
      "Get 22 = XC33120 - Rufous-sided Crake - Laterallus melanophaius.wav\n",
      "Get 23 = XC63061 - Dot-winged Crake - Porzana spiloptera.wav\n",
      "Get 24 = XC326873 - Band-bellied Crake - Porzana paykullii.wav\n",
      "Get 25 = XC8140 - Rufous-sided Crake - Laterallus melanophaius.wav\n",
      "Get 1 = XC317058 - Gambel's Quail - Callipepla gambelii.wav\n",
      "Get 2 = XC20798 - Rufous-breasted Wood Quail - Odontophorus speciosus soderstromii.wav\n",
      "Get 3 = XC297521 - Gambel's Quail - Callipepla gambelii.wav\n",
      "Get 4 = XC329460 - Mountain Quail - Oreortyx pictus.wav\n",
      "Get 5 = XC173190 - Gambel's Quail - Callipepla gambelii (1).wav\n",
      "Get 6 = XC287755 - Spot-winged Wood Quail - Odontophorus capueira capueira.wav\n",
      "Get 7 = XC59580 - Chestnut Wood Quail - Odontophorus hyperythrus.wav\n",
      "Get 8 = XC251278 - Marbled Wood Quail - Odontophorus gujanensis buckleyi.wav\n",
      "Get 9 = XC153452 - California Quail - Callipepla californica.wav\n",
      "Get 10 = XC346272 - Black-eared Wood Quail - Odontophorus melanotis.wav\n",
      "Get 11 = XC406904 - Black-eared Wood Quail - Odontophorus melanotis melanotis.wav\n",
      "Get 12 = XC226853 - Rufous-fronted Wood Quail - Odontophorus erythrops.wav\n"
     ]
    },
    {
     "name": "stdout",
     "output_type": "stream",
     "text": [
      "Get 13 = XC384011 - Gambel's Quail - Callipepla gambelii.wav\n",
      "Get 14 = XC53487 - California Quail - Callipepla californica.wav\n",
      "Get 15 = XC263366 - Common Quail - Coturnix coturnix.wav\n",
      "Get 16 = XC113194 - Ruddy Quail-Dove - Geotrygon montana.wav\n",
      "Get 17 = XC238713 - Rufous-fronted Wood Quail - Odontophorus erythrops parambae.wav\n",
      "Get 18 = XC310823 - Marbled Wood Quail - Odontophorus gujanensis.wav\n",
      "Get 19 = XC35850 - Spot-winged Wood Quail - Odontophorus capueira.wav\n",
      "Get 20 = XC3107 - Stripe-faced Wood Quail - Odontophorus balliviani.wav\n",
      "Get 1 = XC141694 - Pied Avocet - Recurvirostra avosetta.wav\n",
      "Get 2 = XC2479 - Andean Avocet - Recurvirostra andina.wav\n",
      "Get 3 = XC333699 - Pied Avocet - Recurvirostra avosetta.wav\n",
      "Get 4 = XC199264 - Pied Avocet - Recurvirostra avosetta.wav\n",
      "Get 5 = XC133080 - American Avocet - Recurvirostra americana.wav\n",
      "Get 6 = XC188266 - Pied Avocet - Recurvirostra avosetta.wav\n",
      "Get 7 = XC325032 - Pied Avocet - Recurvirostra avosetta.wav\n",
      "Get 8 = XC313293 - Pied Avocet - Recurvirostra avosetta.wav\n",
      "Get 9 = XC325032 - Pied Avocet - Recurvirostra avosetta (1).wav\n",
      "Get 10 = XC304644 - American Avocet - Recurvirostra americana.wav\n",
      "Get 11 = XC2474 - Andean Avocet - Recurvirostra andina.wav\n",
      "Get 12 = XC281050 - Pied Avocet - Recurvirostra avosetta.wav\n",
      "Get 13 = XC145135 - Pied Avocet - Recurvirostra avosetta.wav\n",
      "Get 14 = XC202859 - Pied Avocet - Recurvirostra avosetta.wav\n",
      "Get 15 = XC146958 - Andean Avocet - Recurvirostra andina.wav\n",
      "Get 16 = XC202858 - Pied Avocet - Recurvirostra avosetta.wav\n",
      "Get 17 = XC290087 - Pied Avocet - Recurvirostra avosetta.wav\n",
      "Get 18 = XC317972 - American Avocet - Recurvirostra americana.wav\n",
      "Get 19 = XC149144 - Pied Avocet - Recurvirostra avosetta.wav\n",
      "Get 20 = XC59841 - Andean Avocet - Recurvirostra andina.wav\n",
      "Get 21 = XC318019 - American Avocet - Recurvirostra americana.wav\n",
      "Get 22 = XC178760 - American Avocet - Recurvirostra americana.wav\n",
      "Get 23 = XC281049 - Pied Avocet - Recurvirostra avosetta.wav\n",
      "Get 24 = XC95529 - Andean Avocet - Recurvirostra andina.wav\n",
      "Get 25 = XC12130 - American Avocet - Recurvirostra americana.wav\n",
      "Get 1 = XC306730 - Ring-necked Dove - Streptopelia capicola.wav\n",
      "Get 2 = XC45718 - Namaqua Dove - Oena capensis.wav\n",
      "Get 3 = XC71960 - Common Ground Dove - Columbina passerina.wav\n",
      "Get 4 = XC85026 - Ruddy Ground Dove - Columbina talpacoti talpacoti.wav\n",
      "Get 5 = XC280698 - Ring-necked Dove - Streptopelia capicola.wav\n",
      "Get 6 = XC290355 - Ruddy Ground Dove - Columbina talpacoti rufipennis.wav\n",
      "Get 7 = XC315273 - Blue Ground Dove - Claravis pretiosa.wav\n",
      "Get 8 = XC65467 - Stock Dove - Columba oenas.wav\n",
      "Get 9 = XC238202 - Croaking Ground Dove - Columbina cruziana.wav\n",
      "Get 10 = XC90873 - Laughing Dove - Spilopelia senegalensis phoenicophila.wav\n",
      "Get 11 = XC277489 - European Turtle Dove - Streptopelia turtur.wav\n",
      "Get 12 = XC116327 - Mourning Collared Dove - Streptopelia decipiens.wav\n",
      "Get 13 = XC34689 - Zebra Dove - Geopelia striata.wav\n",
      "Get 14 = XC169693 - Vinaceous Dove - Streptopelia vinacea.wav\n",
      "Get 15 = XC221433 - Scaled Dove - Columbina squammata.wav\n",
      "Get 16 = XC367411 - European Turtle Dove - Streptopelia turtur.wav\n",
      "Get 17 = XC155904 - Eurasian Collared Dove - Streptopelia decaocto decaocto.wav\n",
      "Get 18 = XC197100 - Spotted Dove - Spilopelia chinensis.wav\n",
      "Get 19 = XC21433 - Common Ground Dove - Columbina passerina pallescens (1).wav\n",
      "Get 20 = XC120281 - Croaking Ground Dove - Columbina cruziana.wav\n",
      "Get 21 = XC389564 - Blue Ground Dove - Claravis pretiosa.wav\n",
      "Get 22 = XC17077 - Ruddy Ground Dove - Columbina talpacoti.wav\n",
      "Get 23 = XC74980 - Common Ground Dove - Columbina passerina.wav\n",
      "Get 24 = XC300695 - Ring-necked Dove - Streptopelia capicola somalica.wav\n",
      "Get 25 = XC209306 - Blue Ground Dove - Claravis pretiosa.wav\n",
      "Get 1 = XC14381 - American Coot - Fulica americana~1.wav\n",
      "Get 2 = XC287245 - Andean Coot - Fulica ardesiaca.wav\n",
      "Get 3 = XC139909 - American Coot - Fulica americana.wav\n",
      "Get 4 = XC48557 - Red-fronted Coot - Fulica rufifrons.wav\n",
      "Get 5 = XC175423 - Eurasian Coot - Fulica atra.wav\n",
      "Get 6 = XC57425 - American Coot - Fulica americana.wav\n",
      "Get 7 = XC160661 - American Coot - Fulica americana.wav\n",
      "Get 8 = XC37846 - American Coot - Fulica americana.wav\n",
      "Get 9 = XC31056 - Eurasian Coot - Fulica atra.wav\n",
      "Get 10 = XC160770 - American Coot - Fulica americana.wav\n",
      "Get 11 = XC302637 - Eurasian Coot - Fulica atra.wav\n",
      "Get 12 = XC48552 - Red-gartered Coot - Fulica armillata.wav\n",
      "Get 13 = XC48553 - Red-gartered Coot - Fulica armillata.wav\n",
      "Get 14 = XC37445 - Eurasian Coot - Fulica atra.wav\n",
      "Get 15 = XC50787 - Red-gartered Coot - Fulica armillata.wav\n",
      "Get 16 = XC8578 - White-winged Coot - Fulica leucoptera.wav\n",
      "Get 17 = XC17280 - Andean Coot - Fulica ardesiaca.wav\n",
      "Get 18 = XC50788 - White-winged Coot - Fulica leucoptera.wav\n",
      "Get 19 = XC44706 - Eurasian Coot - Fulica atra atra.wav\n",
      "Get 20 = XC175425 - Eurasian Coot - Fulica atra.wav\n",
      "Get 21 = XC89324 - American Coot - Fulica americana.wav\n",
      "Get 22 = XC28533 - Eurasian Coot - Fulica atra.wav\n",
      "Get 23 = XC123344 - American Coot - Fulica americana.wav\n",
      "Get 24 = XC14381 - American Coot - Fulica americana.wav\n",
      "Get 25 = XC153335 - American Coot - Fulica americana.wav\n",
      "Get 1 = XC186231 - Sooty Swift - Cypseloides fumigatus.wav\n",
      "Get 2 = XC425114 - White-throated Swift - Aeronautes saxatalis.wav\n",
      "Get 3 = XC440455 - Alpine Swift - Tachymarptis melba.wav\n",
      "Get 4 = XC329064 - Short-tailed Swift - Chaetura brachyura.wav\n",
      "Get 5 = XC376926 - Common Swift - Apus apus.wav\n",
      "Get 6 = XC12874 - White-chinned Swift - Cypseloides cryptus.wav\n",
      "Get 7 = XC413368 - Chimney Swift - Chaetura pelagica.wav\n",
      "Get 8 = XC471844 - Mascarene Swiftlet - Aerodramus francicus.wav\n",
      "Get 9 = XC260445 - Chestnut-collared Swift - Streptoprocne rutila brunnitorques.wav\n",
      "Get 10 = XC118539 - Common Swift - Apus apus.wav\n",
      "Get 11 = XC257056 - Lesser Swallow-tailed Swift - Panyptila cayennensis.wav\n",
      "Get 12 = XC193886 - Grey-rumped Treeswift - Hemiprocne longipennis wallacii.wav\n",
      "Get 13 = XC303387 - White-chinned Swift - Cypseloides cryptus.wav\n",
      "Get 14 = XC37809 - Alpine Swift - Tachymarptis melba.wav\n",
      "Get 15 = XC214775 - Tepui Swift - Streptoprocne phelpsi.wav\n",
      "Get 16 = XC230419 - Neotropical Palm Swift - Tachornis squamata.wav\n",
      "Get 17 = XC95620 - Lesser Swallow-tailed Swift - Panyptila cayennensis.wav\n",
      "Get 18 = XC184145 - Common Swift - Apus apus.wav\n",
      "Get 19 = XC1885 - Short-tailed Swift - Chaetura brachyura.wav\n",
      "Get 20 = XC283409 - Asian Palm Swift - Cypsiurus balasiensis.wav\n",
      "Get 1 = XC401850 - Common Pheasant - Phasianus colchicus.wav\n",
      "Get 2 = XC222485 - Pheasant Cuckoo - Dromococcyx phasianellus.wav\n",
      "Get 3 = XC114691 - Kalij Pheasant - Lophura leucomelanos hamiltonii.wav\n",
      "Get 4 = XC99473 - Common Pheasant - Phasianus colchicus.wav\n",
      "Get 5 = XC422829 - Common Pheasant - Phasianus colchicus.wav\n",
      "Get 6 = XC197441 - Common Pheasant - Phasianus colchicus.wav\n",
      "Get 7 = XC364387 - Common Pheasant - Phasianus colchicus.wav\n",
      "Get 8 = XC115583 - Common Pheasant - Phasianus colchicus.wav\n",
      "Get 9 = XC76852 - Common Pheasant - Phasianus colchicus.wav\n",
      "Get 10 = XC126037 - Pheasant Cuckoo - Dromococcyx phasianellus.wav\n",
      "Get 11 = XC150119 - Blue Eared Pheasant - Crossoptilon auritum.wav\n",
      "Get 12 = XC281836 - Common Pheasant - Phasianus colchicus.wav\n",
      "Get 13 = XC384627 - Common Pheasant - Phasianus colchicus.wav\n",
      "Get 14 = XC182996 - Reeves's Pheasant - Syrmaticus reevesii.wav\n",
      "Get 15 = XC174770 - Common Pheasant - Phasianus colchicus.wav\n",
      "Get 16 = XC339797 - Common Pheasant - Phasianus colchicus.wav\n",
      "Get 17 = XC437853 - Common Pheasant - Phasianus colchicus.wav\n",
      "Get 18 = XC183800 - Common Pheasant - Phasianus colchicus turcestanicus.wav\n",
      "Get 19 = XC266194 - Blood Pheasant - Ithaginis cruentus berezowskii.wav\n",
      "Get 20 = XC457008 - Silver Pheasant - Lophura nycthemera.wav\n",
      "Get 1 = XC51141 - White-tufted Grebe - Rollandia rolland.wav\n",
      "Get 2 = XC160444 - Black-necked Grebe - Podiceps nigricollis.wav\n",
      "Get 3 = XC280980 - Little Grebe - Tachybaptus ruficollis.wav\n",
      "Get 4 = XC451358 - Pied-billed Grebe - Podilymbus podiceps.wav\n",
      "Get 5 = XC267199 - Black-necked Grebe - Podiceps nigricollis.wav\n",
      "Get 6 = XC331144 - Black-necked Grebe - Podiceps nigricollis.wav\n",
      "Get 7 = XC14372 - Pied-billed Grebe - Podilymbus podiceps.wav\n",
      "Get 8 = XC175448 - Little Grebe - Tachybaptus ruficollis.wav\n",
      "Get 9 = XC442038 - Little Grebe - Tachybaptus ruficollis.wav\n",
      "Get 10 = XC305803 - Pied-billed Grebe - Podilymbus podiceps.wav\n",
      "Get 11 = XC105382 - Pied-billed Grebe - Podilymbus podiceps.wav\n",
      "Get 12 = XC377189 - Little Grebe - Tachybaptus ruficollis.wav\n"
     ]
    },
    {
     "name": "stdout",
     "output_type": "stream",
     "text": [
      "Get 13 = XC185652 - Little Grebe - Tachybaptus ruficollis.wav\n",
      "Get 14 = XC460157 - Great Crested Grebe - Podiceps cristatus.wav\n",
      "Get 15 = XC43482 - Little Grebe - Tachybaptus ruficollis.wav\n",
      "Get 16 = XC362173 - Little Grebe - Tachybaptus ruficollis.wav\n",
      "Get 17 = XC83320 - Least Grebe - Tachybaptus dominicus.wav\n",
      "Get 18 = XC314998 - Little Grebe - Tachybaptus ruficollis.wav\n",
      "Get 19 = XC51138 - White-tufted Grebe - Rollandia rolland.wav\n",
      "Get 20 = XC54500 - Pied-billed Grebe - Podilymbus podiceps antarcticus.wav\n",
      "Get 21 = XC26547 - Great Crested Grebe - Podiceps cristatus cristatus.wav\n",
      "Get 22 = XC424675 - Little Grebe - Tachybaptus ruficollis.wav\n",
      "Get 23 = XC466329 - Little Grebe - Tachybaptus ruficollis.wav\n",
      "Get 24 = XC373560 - Little Grebe - Tachybaptus ruficollis.wav\n",
      "Get 25 = XC55584 - Least Grebe - Tachybaptus dominicus.wav\n",
      "Get 1 = XC14345 - Purple-crowned Plovercrest - Stephanoxis loddigesii.wav\n",
      "Get 2 = XC429053 - Purple-crowned Plovercrest - Stephanoxis loddigesii.wav\n",
      "Get 3 = XC450072 - Magellanic Plover - Pluvianellus socialis.wav\n",
      "Get 4 = XC140325 - Little Ringed Plover - Charadrius dubius papuanus.wav\n",
      "Get 5 = XC59911 - Rufous-chested Plover - Charadrius modestus.wav\n",
      "Get 6 = XC371003 - Kentish Plover - Charadrius alexandrinus.wav\n",
      "Get 7 = XC309206 - Little Ringed Plover - Charadrius dubius curonicus.wav\n",
      "Get 8 = XC356536 - Common Ringed Plover - Charadrius hiaticula.wav\n",
      "Get 9 = XC345511 - European Golden Plover - Pluvialis apricaria.wav\n",
      "Get 10 = XC51732 - Collared Plover - Charadrius collaris.wav\n",
      "Get 11 = XC339475 - Common Ringed Plover - Charadrius hiaticula.wav\n",
      "Get 12 = XC378002 - Common Ringed Plover - Charadrius hiaticula.wav\n",
      "Get 13 = XC441251 - Grey Plover - Pluvialis squatarola.wav\n",
      "Get 14 = XC266278 - Little Ringed Plover - Charadrius dubius curonicus.wav\n",
      "Get 15 = XC201561 - Grey Plover - Pluvialis squatarola.wav\n",
      "Get 16 = XC228428 - American Golden Plover - Pluvialis dominica.wav\n",
      "Get 17 = XC91478 - Pacific Golden Plover - Pluvialis fulva.wav\n",
      "Get 18 = XC220898 - Collared Plover - Charadrius collaris.wav\n",
      "Get 19 = XC281063 - Common Ringed Plover - Charadrius hiaticula.wav\n",
      "Get 20 = XC323096 - Semipalmated Plover - Charadrius semipalmatus.wav\n",
      "Get 1 = XC22547 - Masked Lapwing - Vanellus miles.wav\n",
      "Get 2 = XC199812 - Northern Lapwing - Vanellus vanellus.wav\n",
      "Get 3 = XC92841 - Crowned Lapwing - Vanellus coronatus.wav\n",
      "Get 4 = XC300855 - Spot-breasted Lapwing - Vanellus melanocephalus (1).wav\n",
      "Get 5 = XC269626 - Grey-headed Lapwing - Vanellus cinereus.wav\n",
      "Get 6 = XC240821 - Crowned Lapwing - Vanellus coronatus.wav\n",
      "Get 7 = XC50272 - Southern Lapwing - Vanellus chilensis.wav\n",
      "Get 8 = XC94304 - Red-wattled Lapwing - Vanellus indicus atronuchalis.wav\n",
      "Get 9 = XC169890 - Northern Lapwing - Vanellus vanellus.wav\n",
      "Get 10 = XC184638 - Red-wattled Lapwing - Vanellus indicus indicus.wav\n",
      "Get 11 = XC81962 - Grey-headed Lapwing - Vanellus cinereus.wav\n",
      "Get 12 = XC108381 - Southern Lapwing - Vanellus chilensis.wav\n",
      "Get 13 = XC429527 - Spur-winged Lapwing - Vanellus spinosus.wav\n",
      "Get 14 = XC147425 - Northern Lapwing - Vanellus vanellus.wav\n",
      "Get 15 = XC294380 - Crowned Lapwing - Vanellus coronatus.wav\n",
      "Get 16 = XC425220 - Spur-winged Lapwing - Vanellus spinosus.wav\n",
      "Get 17 = XC399003 - Northern Lapwing - Vanellus vanellus.wav\n",
      "Get 18 = XC38243 - Masked Lapwing - Vanellus miles.wav\n",
      "Get 19 = XC307119 - Grey-headed Lapwing - Vanellus cinereus.wav\n",
      "Get 20 = XC103918 - Southern Lapwing - Vanellus chilensis.wav\n",
      "Get 21 = XC108381 - Southern Lapwing - Vanellus chilensis~1.wav\n",
      "Get 22 = XC126181 - Crowned Lapwing - Vanellus coronatus.wav\n",
      "Get 23 = XC74349 - River Lapwing - Vanellus duvaucelii.wav\n",
      "Get 24 = XC368211 - Red-wattled Lapwing - Vanellus indicus.wav\n",
      "Get 25 = XC300861 - Spot-breasted Lapwing - Vanellus melanocephalus (1).wav\n",
      "Get 1 = XC408000 - Sickle-winged Nightjar - Eleothreptus anomalus.wav\n",
      "Get 2 = XC403361 - Black-shouldered Nightjar - Caprimulgus nigriscapularis.wav\n",
      "Get 3 = XC154493 - Sickle-winged Nightjar - Eleothreptus anomalus.wav\n",
      "Get 4 = XC357069 - Freckled Nightjar - Caprimulgus tristigma.wav\n",
      "Get 5 = XC77708 - Savanna Nightjar - Caprimulgus affinis stictomus.wav\n",
      "Get 6 = XC117084 - Silky-tailed Nightjar - Antrostomus sericocaudatus.wav\n",
      "Get 7 = XC167119 - Rufous Nightjar - Antrostomus rufus.wav\n",
      "Get 8 = XC272906 - Little Nightjar - Setopagis parvula.wav\n",
      "Get 9 = XC343028 - Rufous Nightjar - Antrostomus rufus.wav\n",
      "Get 10 = XC6095 - Spot-tailed Nightjar - Hydropsalis maculicaudus.wav\n",
      "Get 11 = XC93604 - Swallow-tailed Nightjar - Uropsalis segmentata kalinowskii.wav\n",
      "Get 12 = XC197450 - Lyre-tailed Nightjar - Uropsalis lyra.wav\n",
      "Get 13 = XC55649 - White-winged Nightjar - Eleothreptus candicans.wav\n",
      "Get 14 = XC13333 - Spot-tailed Nightjar - Hydropsalis maculicaudus.wav\n",
      "Get 15 = XC30564 - Silky-tailed Nightjar - Antrostomus sericocaudatus sericocaudatus.wav\n",
      "Get 16 = XC73507 - Jerdon's Nightjar - Caprimulgus atripennis.wav\n",
      "Get 17 = XC180595 - Band-winged Nightjar - Systellura longirostris.wav\n",
      "Get 18 = XC212331 - Standard-winged Nightjar - Caprimulgus longipennis.wav\n",
      "Get 19 = XC20268 - Pygmy Nightjar - Nyctipolus hirundinaceus cearae.wav\n",
      "Get 20 = XC43206 - Sickle-winged Nightjar - Eleothreptus anomalus.wav\n",
      "Get 21 = XC2394 - Silky-tailed Nightjar - Antrostomus sericocaudatus.wav\n",
      "Get 22 = XC290528 - Malaysian Eared Nightjar - Lyncornis temminckii.wav\n",
      "Get 23 = XC321377 - European Nightjar - Caprimulgus europaeus.wav\n",
      "Get 24 = XC51584 - Scissor-tailed Nightjar - Hydropsalis torquata.wav\n",
      "Get 25 = XC257052 - Ladder-tailed Nightjar - Hydropsalis climacocerca climacocerca.wav\n",
      "Get 1 = XC28379 - Magellanic Oystercatcher - Haematopus leucopodus.wav\n",
      "Get 2 = XC25075 - Eurasian Oystercatcher - Haematopus ostralegus.wav\n",
      "Get 3 = XC129667 - Eurasian Oystercatcher - Haematopus ostralegus.wav\n",
      "Get 4 = XC392519 - African Oystercatcher - Haematopus moquini.wav\n",
      "Get 5 = XC60035 - Blackish Oystercatcher - Haematopus ater.wav\n",
      "Get 6 = XC449757 - Eurasian Oystercatcher - Haematopus ostralegus.wav\n",
      "Get 7 = XC263994 - Eurasian Oystercatcher - Haematopus ostralegus.wav\n",
      "Get 8 = XC43007 - Blackish Oystercatcher - Haematopus ater.wav\n",
      "Get 9 = XC411158 - Eurasian Oystercatcher - Haematopus ostralegus ostralegus.wav\n",
      "Get 10 = XC281037 - Eurasian Oystercatcher - Haematopus ostralegus.wav\n",
      "Get 11 = XC376353 - Eurasian Oystercatcher - Haematopus ostralegus.wav\n",
      "Get 12 = XC234514 - African Oystercatcher - Haematopus moquini.wav\n",
      "Get 13 = XC384216 - American Oystercatcher - Haematopus palliatus.wav\n",
      "Get 14 = XC366796 - Sooty Oystercatcher - Haematopus fuliginosus.wav\n",
      "Get 15 = XC184412 - Eurasian Oystercatcher - Haematopus ostralegus buturlini.wav\n",
      "Get 16 = XC159832 - Black Oystercatcher - Haematopus bachmani.wav\n",
      "Get 17 = XC346818 - African Oystercatcher - Haematopus moquini.wav\n",
      "Get 18 = XC48567 - Magellanic Oystercatcher - Haematopus leucopodus.wav\n",
      "Get 19 = XC329469 - African Oystercatcher - Haematopus moquini.wav\n",
      "Get 20 = XC144971 - Eurasian Oystercatcher - Haematopus ostralegus.wav\n",
      "Get 1 = XC715 - Ruddy Pigeon - Patagioenas subvinacea.wav\n",
      "Get 2 = XC368234 - Dusky Pigeon - Patagioenas goodsoni.wav\n",
      "Get 3 = XC221376 - Short-billed Pigeon - Patagioenas nigrirostris.wav\n",
      "Get 4 = XC205976 - Picazuro Pigeon - Patagioenas picazuro.wav\n",
      "Get 5 = XC94615 - Common Wood Pigeon - Columba palumbus.wav\n",
      "Get 6 = XC246531 - White-bellied Green Pigeon - Treron sieboldii.wav\n",
      "Get 7 = XC39584 - Ruddy Pigeon - Patagioenas subvinacea.wav\n",
      "Get 8 = XC166060 - Orange-breasted Green Pigeon - Treron bicinctus.wav\n",
      "Get 9 = XC271973 - Plumbeous Pigeon - Patagioenas plumbea wallacei.wav\n",
      "Get 10 = XC257603 - Plumbeous Pigeon - Patagioenas plumbea bogotensis.wav\n",
      "Get 11 = XC285801 - White-bellied Green Pigeon - Treron sieboldii.wav\n",
      "Get 12 = XC48673 - Picazuro Pigeon - Patagioenas picazuro.wav\n",
      "Get 13 = XC395827 - African Olive Pigeon - Columba arquatrix.wav\n",
      "Get 14 = XC227344 - Ruddy Pigeon - Patagioenas subvinacea.wav\n",
      "Get 15 = XC55373 - Dusky Pigeon - Patagioenas goodsoni.wav\n",
      "Get 16 = XC238773 - Scaled Pigeon - Patagioenas speciosa.wav\n",
      "Get 17 = XC48672 - Picazuro Pigeon - Patagioenas picazuro.wav\n",
      "Get 18 = XC486547 - Hill Pigeon - Columba rupestris.wav\n",
      "Get 19 = XC39583 - Ruddy Pigeon - Patagioenas subvinacea.wav\n",
      "Get 20 = XC127648 - African Olive Pigeon - Columba arquatrix.wav\n"
     ]
    },
    {
     "name": "stdout",
     "output_type": "stream",
     "text": [
      "Get 1 = XC193722 - Black-winged Stilt - Himantopus himantopus.wav\n",
      "Get 2 = XC145752 - Black-necked Stilt - Himantopus mexicanus.wav\n",
      "Get 3 = XC177581 - Black-necked Stilt - Himantopus mexicanus.wav\n",
      "Get 4 = XC93965 - Black-winged Stilt - Himantopus himantopus (1).wav\n",
      "Get 5 = XC174956 - Black-necked Stilt - Himantopus mexicanus.wav\n",
      "Get 6 = XC147547 - White-backed Stilt - Himantopus melanurus.wav\n",
      "Get 7 = XC269525 - Black-winged Stilt - Himantopus himantopus.wav\n",
      "Get 8 = XC304651 - Black-necked Stilt - Himantopus mexicanus.wav\n",
      "Get 9 = XC280353 - Black-winged Stilt - Himantopus himantopus.wav\n",
      "Get 10 = XC328055 - Black-winged Stilt - Himantopus himantopus.wav\n",
      "Get 11 = XC184127 - Black-winged Stilt - Himantopus himantopus.wav\n",
      "Get 12 = XC352343 - Black-necked Stilt - Himantopus mexicanus mexicanus.wav\n",
      "Get 13 = XC338804 - Black-winged Stilt - Himantopus himantopus.wav\n",
      "Get 14 = XC224234 - Black-necked Stilt - Himantopus mexicanus.wav\n",
      "Get 15 = XC261421 - Black-necked Stilt - Himantopus mexicanus.wav\n",
      "Get 16 = XC257542 - Black-necked Stilt - Himantopus mexicanus mexicanus.wav\n",
      "Get 17 = XC128124 - Black-winged Stilt - Himantopus himantopus.wav\n",
      "Get 18 = XC29798 - Black-winged Stilt - Himantopus himantopus.wav\n",
      "Get 19 = XC6707 - White-backed Stilt - Himantopus melanurus melanurus.wav\n",
      "Get 20 = XC76189 - Stilt Sandpiper - Calidris himantopus.wav\n",
      "Get 1 = XC243448 - Slaty-breasted Wood Rail - Aramides saracura.wav\n",
      "Get 2 = XC388651 - Water Rail - Rallus aquaticus.wav\n",
      "Get 3 = XC179459 - Ridgway's Rail - Rallus obsoletus.wav\n",
      "Get 4 = XC273674 - Bogota Rail - Rallus semiplumbeus.wav\n",
      "Get 5 = XC383382 - Water Rail - Rallus aquaticus.wav\n",
      "Get 6 = XC217119 - Black Rail - Laterallus jamaicensis.wav\n",
      "Get 7 = XC472201 - Grey-necked Wood Rail - Aramides cajaneus (1).wav\n",
      "Get 8 = XC475407 - Water Rail - Rallus aquaticus.wav\n",
      "Get 9 = XC10309 - Bogota Rail - Rallus semiplumbeus semiplumbeus.wav\n",
      "Get 10 = XC130540 - Clapper Rail - Rallus crepitans.wav\n",
      "Get 11 = XC306864 - Black Rail - Laterallus jamaicensis.wav\n",
      "Get 12 = XC357039 - Rufous-naped Wood Rail - Aramides albiventris.wav\n",
      "Get 13 = XC371114 - Black Rail - Laterallus jamaicensis.wav\n",
      "Get 14 = XC110658 - Ridgway's Rail - Rallus obsoletus yumanensis.wav\n",
      "Get 15 = XC451478 - King Rail - Rallus elegans.wav\n",
      "Get 16 = XC454949 - Grey-necked Wood Rail - Aramides cajaneus.wav\n",
      "Get 17 = XC227398 - Marail Guan - Penelope marail.wav\n",
      "Get 18 = XC296693 - Black Rail - Laterallus jamaicensis tuerosi.wav\n",
      "Get 19 = XC442866 - Brown-cheeked Rail - Rallus indicus.wav\n",
      "Get 20 = XC475407 - Water Rail - Rallus aquaticus (copy).wav\n",
      "Get 1 = XC161585 - Solitary Sandpiper - Tringa solitaria.wav\n",
      "Get 2 = XC145934 - Stilt Sandpiper - Calidris himantopus.wav\n",
      "Get 3 = XC145344 - Terek Sandpiper - Xenus cinereus.wav\n",
      "Get 4 = XC184322 - Curlew Sandpiper - Calidris ferruginea.wav\n",
      "Get 5 = XC432903 - Green Sandpiper - Tringa ochropus.wav\n",
      "Get 6 = XC30141 - White-rumped Sandpiper - Calidris fuscicollis.wav\n",
      "Get 7 = XC338294 - Least Sandpiper - Calidris minutilla.wav\n",
      "Get 8 = XC434829 - Common Sandpiper - Actitis hypoleucos.wav\n",
      "Get 9 = XC220055 - Least Sandpiper - Calidris minutilla.wav\n",
      "Get 10 = XC213494 - Spotted Sandpiper - Actitis macularius.wav\n",
      "Get 11 = XC255373 - Spotted Sandpiper - Actitis macularius.wav\n",
      "Get 12 = XC302648 - Western Sandpiper - Calidris mauri.wav\n",
      "Get 13 = XC426254 - Green Sandpiper - Tringa ochropus.wav\n",
      "Get 14 = XC276361 - Green Sandpiper - Tringa ochropus.wav\n",
      "Get 15 = XC16280 - White-rumped Sandpiper - Calidris fuscicollis.wav\n",
      "Get 16 = XC410069 - White-rumped Sandpiper - Calidris fuscicollis.wav\n",
      "Get 17 = XC100435 - Common Sandpiper - Actitis hypoleucos.wav\n",
      "Get 18 = XC282045 - Wood Sandpiper - Tringa glareola.wav\n",
      "Get 19 = XC422061 - Common Sandpiper - Actitis hypoleucos.wav\n",
      "Get 20 = XC348861 - Diademed Sandpiper-Plover - Phegornis mitchellii.wav\n",
      "found 450 audio files in ./BirdSound/\n"
     ]
    }
   ],
   "source": [
    "#Find Audio Files\n",
    "files = []\n",
    "labels =[]\n",
    "duration = []\n",
    "#classes=['flute','sax','oboe', 'cello','trumpet','viola']\n",
    "classes=['Avocet','Coot','Crake','Crane','Dove','Gallinule','Grebe','Grouse','Lapwing','Nightjar',\n",
    "         'Oystercatcher','Pheasant','Pigeon','Plover','Quail','Rail','Sandpiper','Stilt','Swift','Turaco']\n",
    "for root, dirnames, filenames in os.walk(path):\n",
    "    for i, filename in enumerate(fnmatch.filter(filenames, '*.wav')):\n",
    "        files.append(os.path.join(root, filename))\n",
    "        for name in classes:\n",
    "            if fnmatch.fnmatchcase(filename, '*'+name+'*'):\n",
    "                labels.append(name)\n",
    "                break\n",
    "        else:\n",
    "            labels.append('other')\n",
    "        print (\"Get %d = %s\"%(i+1, filename))\n",
    "        try:\n",
    "            y, sr = librosa.load(files[i], sr=fs)\n",
    "            if len(y) < 2:\n",
    "                print(\"Error loading %s\" % filename)\n",
    "                continue\n",
    "            #y/=y.max() #Normalize\n",
    "            yt, index = librosa.effects.trim(y,top_db=60) #Trim\n",
    "            duration.append(librosa.get_duration(yt, sr=fs))\n",
    "        except Exception as e:\n",
    "            print(\"Error loading %s. Error: %s\" % (filename,e))\n",
    "\n",
    "\n",
    "print(\"found %d audio files in %s\"%(len(files),path))"
   ]
  },
  {
   "cell_type": "code",
   "execution_count": 5,
   "metadata": {},
   "outputs": [
    {
     "name": "stdout",
     "output_type": "stream",
     "text": [
      "Max. Duration: 25.583356009070293\n",
      "Min. Duration: 4.41469387755102\n",
      "Average Duration: 10.254275132275131\n"
     ]
    }
   ],
   "source": [
    "print(\"Max. Duration:\", max(duration))\n",
    "print(\"Min. Duration:\", min(duration))\n",
    "print(\"Average Duration:\", np.mean(duration))"
   ]
  },
  {
   "cell_type": "markdown",
   "metadata": {},
   "source": [
    "## Trim Silence and Recalculate Duration"
   ]
  },
  {
   "cell_type": "code",
   "execution_count": 6,
   "metadata": {},
   "outputs": [
    {
     "name": "stdout",
     "output_type": "stream",
     "text": [
      "Get 1  ./BirdSound/Gallinule/XC131319 - Common Gallinule - Gallinula galeata.wav\n",
      "Get 2  ./BirdSound/Gallinule/XC465599 - Common Gallinule - Gallinula galeata cachinnans.wav\n",
      "Get 3  ./BirdSound/Gallinule/XC452961 - Common Gallinule - Gallinula galeata.wav\n",
      "Get 4  ./BirdSound/Gallinule/XC45353 - Spot-flanked Gallinule - Porphyriops melanops crassirostris.wav\n",
      "Get 5  ./BirdSound/Gallinule/XC91834 - Spot-flanked Gallinule - Porphyriops melanops.wav\n",
      "Get 6  ./BirdSound/Gallinule/XC414334 - Common Gallinule - Gallinula galeata.wav\n",
      "Get 7  ./BirdSound/Gallinule/XC368531 - Common Gallinule - Gallinula galeata.wav\n",
      "Get 8  ./BirdSound/Gallinule/XC37123 - Purple Gallinule - Porphyrio martinica.wav\n",
      "Get 9  ./BirdSound/Gallinule/XC7979 - Common Gallinule - Gallinula galeata.wav\n",
      "Get 10  ./BirdSound/Gallinule/XC246282 - Common Gallinule - Gallinula galeata.wav\n",
      "Get 11  ./BirdSound/Gallinule/XC384693 - Common Gallinule - Gallinula galeata.wav\n",
      "Get 12  ./BirdSound/Gallinule/XC326531 - Purple Gallinule - Porphyrio martinica.wav\n",
      "Get 13  ./BirdSound/Gallinule/XC51100 - Purple Gallinule - Porphyrio martinica.wav\n",
      "Get 14  ./BirdSound/Gallinule/XC298133 - Common Gallinule - Gallinula galeata.wav\n",
      "Get 15  ./BirdSound/Gallinule/XC264307 - Purple Gallinule - Porphyrio martinica.wav\n",
      "Get 16  ./BirdSound/Gallinule/XC166168 - Purple Gallinule - Porphyrio martinica.wav\n",
      "Get 17  ./BirdSound/Gallinule/XC45354 - Spot-flanked Gallinule - Porphyriops melanops crassirostris.wav\n",
      "Get 18  ./BirdSound/Gallinule/XC50276 - Spot-flanked Gallinule - Porphyriops melanops.wav\n",
      "Get 19  ./BirdSound/Gallinule/XC223360 - Common Gallinule - Gallinula galeata.wav\n",
      "Get 20  ./BirdSound/Gallinule/XC139954 - Common Gallinule - Gallinula galeata.wav\n",
      "Get 21  ./BirdSound/Gallinule/XC223347 - Common Gallinule - Gallinula galeata.wav\n",
      "Get 22  ./BirdSound/Gallinule/XC100569 - Common Gallinule - Gallinula galeata.wav\n",
      "Get 23  ./BirdSound/Gallinule/XC1147 - Purple Gallinule - Porphyrio martinica.wav\n",
      "Get 24  ./BirdSound/Gallinule/XC228563 - Purple Gallinule - Porphyrio martinica.wav\n",
      "Get 25  ./BirdSound/Gallinule/XC51555 - Common Gallinule - Gallinula galeata.wav\n",
      "Get 26  ./BirdSound/Turaco/XC125114 - Livingstone's Turaco - Tauraco livingstonii.wav\n",
      "Get 27  ./BirdSound/Turaco/XC43622 - Yellow-billed Turaco - Tauraco macrorhynchus.wav\n",
      "Get 28  ./BirdSound/Turaco/XC445064 - White-cheeked Turaco - Tauraco leucotis.wav\n",
      "Get 29  ./BirdSound/Turaco/XC133022 - Yellow-billed Turaco - Tauraco macrorhynchus.wav\n",
      "Get 30  ./BirdSound/Turaco/XC241065 - Great Blue Turaco - Corythaeola cristata.wav\n",
      "Get 31  ./BirdSound/Turaco/XC62391 - Livingstone's Turaco - Tauraco livingstonii reichenowi.wav\n",
      "Get 32  ./BirdSound/Turaco/XC361401 - Knysna Turaco - Tauraco corythaix.wav\n",
      "Get 33  ./BirdSound/Turaco/XC72452 - Purple-crested Turaco - Tauraco porphyreolophus.wav\n",
      "Get 34  ./BirdSound/Turaco/XC95389 - Livingstone's Turaco - Tauraco livingstonii.wav\n",
      "Get 35  ./BirdSound/Turaco/XC99831 - Yellow-billed Turaco - Tauraco macrorhynchus verreauxii.wav\n",
      "Get 36  ./BirdSound/Turaco/XC459555 - Purple-crested Turaco - Tauraco porphyreolophus.wav\n",
      "Get 37  ./BirdSound/Turaco/XC398142 - Ross's Turaco - Musophaga rossae.wav\n",
      "Get 38  ./BirdSound/Turaco/XC349657 - Schalow's Turaco - Tauraco schalowi.wav\n",
      "Get 39  ./BirdSound/Turaco/XC419778 - Great Blue Turaco - Corythaeola cristata.wav\n",
      "Get 40  ./BirdSound/Turaco/XC335430 - Purple-crested Turaco - Tauraco porphyreolophus (1).wav\n",
      "Get 41  ./BirdSound/Turaco/XC300742 - White-cheeked Turaco - Tauraco leucotis.wav\n",
      "Get 42  ./BirdSound/Turaco/XC430378 - Black-billed Turaco - Tauraco schuettii.wav\n",
      "Get 43  ./BirdSound/Turaco/XC103430 - Yellow-billed Turaco - Tauraco macrorhynchus macrorhynchus.wav\n",
      "Get 44  ./BirdSound/Turaco/XC400403 - Yellow-billed Turaco - Tauraco macrorhynchus.wav\n",
      "Get 45  ./BirdSound/Turaco/XC115970 - Livingstone's Turaco - Tauraco livingstonii.wav\n",
      "Get 46  ./BirdSound/Grouse/XC320022 - Dusky Grouse - Dendragapus obscurus.wav\n",
      "Get 47  ./BirdSound/Grouse/XC77993 - Ruffed Grouse - Bonasa umbellus incana.wav\n",
      "Get 48  ./BirdSound/Grouse/XC129583 - Hazel Grouse - Tetrastes bonasia styriacus.wav\n",
      "Get 49  ./BirdSound/Grouse/XC90846 - Black Grouse - Lyrurus tetrix tetrix.wav\n",
      "Get 50  ./BirdSound/Grouse/XC71944 - Black Grouse - Lyrurus tetrix.wav\n",
      "Get 51  ./BirdSound/Grouse/XC403879 - Hazel Grouse - Tetrastes bonasia.wav\n",
      "Get 52  ./BirdSound/Grouse/XC48658 - Ruffed Grouse - Bonasa umbellus.wav\n",
      "Get 53  ./BirdSound/Grouse/XC434313 - Black-faced Sandgrouse - Pterocles decoratus.wav\n",
      "Get 54  ./BirdSound/Grouse/XC451470 - Black-faced Sandgrouse - Pterocles decoratus ellenbecki.wav\n",
      "Get 55  ./BirdSound/Grouse/XC309948 - Spotted Sandgrouse - Pterocles senegallus.wav\n",
      "Get 56  ./BirdSound/Grouse/XC132868 - Ruffed Grouse - Bonasa umbellus.wav\n",
      "Get 57  ./BirdSound/Grouse/XC395385 - Namaqua Sandgrouse - Pterocles namaqua.wav\n",
      "Get 58  ./BirdSound/Grouse/XC33773 - Sage Grouse - Centrocercus urophasianus.wav\n",
      "Get 59  ./BirdSound/Grouse/XC464316 - Hazel Grouse - Tetrastes bonasia.wav\n",
      "Get 60  ./BirdSound/Grouse/XC182895 - Pin-tailed Sandgrouse - Pterocles alchata caudacutus.wav\n",
      "Get 61  ./BirdSound/Grouse/XC425161 - Yellow-throated Sandgrouse - Pterocles gutturalis.wav\n",
      "Get 62  ./BirdSound/Grouse/XC469668 - Black Grouse - Lyrurus tetrix.wav\n",
      "Get 63  ./BirdSound/Grouse/XC115213 - Four-banded Sandgrouse - Pterocles quadricinctus.wav\n",
      "Get 64  ./BirdSound/Grouse/XC192746 - Hazel Grouse - Tetrastes bonasia.wav\n",
      "Get 65  ./BirdSound/Grouse/XC61517 - Ruffed Grouse - Bonasa umbellus.wav\n",
      "Get 66  ./BirdSound/Grouse/XC347020 - Namaqua Sandgrouse - Pterocles namaqua.wav\n",
      "Get 67  ./BirdSound/Grouse/XC469667 - Black Grouse - Lyrurus tetrix.wav\n",
      "Get 68  ./BirdSound/Grouse/XC92111 - Hazel Grouse - Tetrastes bonasia.wav\n",
      "Get 69  ./BirdSound/Grouse/XC468769 - Ruffed Grouse - Bonasa umbellus.wav\n",
      "Get 70  ./BirdSound/Grouse/XC410653 - Lichtenstein's Sandgrouse - Pterocles lichtensteinii.wav\n",
      "Get 71  ./BirdSound/Crane/XC116585 - Crane Hawk - Geranospiza caerulescens flexipes.wav\n",
      "Get 72  ./BirdSound/Crane/XC415287 - Common Crane - Grus grus.wav\n",
      "Get 73  ./BirdSound/Crane/XC149571 - Demoiselle Crane - Grus virgo.wav\n",
      "Get 74  ./BirdSound/Crane/XC107471 - Sandhill Crane - Antigone canadensis.wav\n",
      "Get 75  ./BirdSound/Crane/XC62293 - Grey Crowned Crane - Balearica regulorum regulorum.wav\n",
      "Get 76  ./BirdSound/Crane/XC361033 - Sandhill Crane - Antigone canadensis.wav\n",
      "Get 77  ./BirdSound/Crane/XC465930 - Common Crane - Grus grus.wav\n",
      "Get 78  ./BirdSound/Crane/XC267448 - Black Crowned Crane - Balearica pavonina ceciliae.wav\n",
      "Get 79  ./BirdSound/Crane/XC401978 - Siberian Crane - Leucogeranus leucogeranus.wav\n",
      "Get 80  ./BirdSound/Crane/XC295719 - Sarus Crane - Antigone antigone sharpii.wav\n",
      "Get 81  ./BirdSound/Crane/XC233280 - Common Crane - Grus grus (1).wav\n",
      "Get 82  ./BirdSound/Crane/XC459728 - Common Crane - Grus grus.wav\n",
      "Get 83  ./BirdSound/Crane/XC454331 - Sarus Crane - Antigone antigone.wav\n",
      "Get 84  ./BirdSound/Crane/XC58012 - Blue Crane - Grus paradisea.wav\n",
      "Get 85  ./BirdSound/Crane/XC432843 - Common Crane - Grus grus.wav\n",
      "Get 86  ./BirdSound/Crane/XC64698 - Red-crowned Crane - Grus japonensis.wav\n",
      "Get 87  ./BirdSound/Crane/XC476374 - Common Crane - Grus grus.wav\n",
      "Get 88  ./BirdSound/Crane/XC282899 - Blue Crane - Grus paradisea.wav\n",
      "Get 89  ./BirdSound/Crane/XC393305 - Sandhill Crane - Antigone canadensis.wav\n",
      "Get 90  ./BirdSound/Crane/XC326302 - Blue Crane - Grus paradisea.wav\n",
      "Get 91  ./BirdSound/Crane/XC167449 - Demoiselle Crane - Grus virgo.wav\n",
      "Get 92  ./BirdSound/Crane/XC62293 - Grey Crowned Crane - Balearica regulorum regulorum~1.wav\n",
      "Get 93  ./BirdSound/Crane/XC28066 - Common Crane - Grus grus.wav\n",
      "Get 94  ./BirdSound/Crane/XC409607 - Red-crowned Crane - Grus japonensis.wav\n",
      "Get 95  ./BirdSound/Crane/XC216976 - Common Crane - Grus grus.wav\n",
      "Get 96  ./BirdSound/Crake/XC364028 - Rufous-faced Crake - Laterallus xenopterus.wav\n",
      "Get 97  ./BirdSound/Crake/XC15483 - Rufous-faced Crake - Laterallus xenopterus.wav\n",
      "Get 98  ./BirdSound/Crake/XC270595 - Chestnut-headed Crake - Anurolimnas castaneiceps.wav\n",
      "Get 99  ./BirdSound/Crake/XC237988 - Chestnut-headed Crake - Anurolimnas castaneiceps castaneiceps.wav\n",
      "Get 100  ./BirdSound/Crake/XC13469 - Black-banded Crake - Laterallus fasciatus~1.wav\n",
      "Get 101  ./BirdSound/Crake/XC224864 - Rusty-flanked Crake - Laterallus levraudi.wav\n"
     ]
    },
    {
     "name": "stdout",
     "output_type": "stream",
     "text": [
      "Get 102  ./BirdSound/Crake/XC69265 - Spotless Crake - Porzana tabuensis.wav\n",
      "Get 103  ./BirdSound/Crake/XC288426 - Grey-breasted Crake - Laterallus exilis.wav\n",
      "Get 104  ./BirdSound/Crake/XC218852 - Russet-crowned Crake - Laterallus viridis.wav\n",
      "Get 105  ./BirdSound/Crake/XC13469 - Black-banded Crake - Laterallus fasciatus.wav\n",
      "Get 106  ./BirdSound/Crake/XC55476 - Ash-throated Crake - Porzana albicollis.wav\n",
      "Get 107  ./BirdSound/Crake/XC119289 - Russet-crowned Crake - Laterallus viridis.wav\n",
      "Get 108  ./BirdSound/Crake/XC210825 - Rufous-sided Crake - Laterallus melanophaius.wav\n",
      "Get 109  ./BirdSound/Crake/XC45671 - Rufous-sided Crake - Laterallus melanophaius.wav\n",
      "Get 110  ./BirdSound/Crake/XC94670 - Russet-crowned Crake - Laterallus viridis.wav\n",
      "Get 111  ./BirdSound/Crake/XC54440 - White-throated Crake - Laterallus albigularis albigularis.wav\n",
      "Get 112  ./BirdSound/Crake/XC371591 - Spotted Crake - Porzana porzana.wav\n",
      "Get 113  ./BirdSound/Crake/XC153920 - Black Crake - Amaurornis flavirostra (2).wav\n",
      "Get 114  ./BirdSound/Crake/XC349171 - Ocellated Crake - Micropygia schomburgkii.wav\n",
      "Get 115  ./BirdSound/Crake/XC2358 - Rufous-sided Crake - Laterallus melanophaius.wav\n",
      "Get 116  ./BirdSound/Crake/XC383379 - Ocellated Crake - Micropygia schomburgkii.wav\n",
      "Get 117  ./BirdSound/Crake/XC33120 - Rufous-sided Crake - Laterallus melanophaius.wav\n",
      "Get 118  ./BirdSound/Crake/XC63061 - Dot-winged Crake - Porzana spiloptera.wav\n",
      "Get 119  ./BirdSound/Crake/XC326873 - Band-bellied Crake - Porzana paykullii.wav\n",
      "Get 120  ./BirdSound/Crake/XC8140 - Rufous-sided Crake - Laterallus melanophaius.wav\n",
      "Get 121  ./BirdSound/Quail/XC317058 - Gambel's Quail - Callipepla gambelii.wav\n",
      "Get 122  ./BirdSound/Quail/XC20798 - Rufous-breasted Wood Quail - Odontophorus speciosus soderstromii.wav\n",
      "Get 123  ./BirdSound/Quail/XC297521 - Gambel's Quail - Callipepla gambelii.wav\n",
      "Get 124  ./BirdSound/Quail/XC329460 - Mountain Quail - Oreortyx pictus.wav\n",
      "Get 125  ./BirdSound/Quail/XC173190 - Gambel's Quail - Callipepla gambelii (1).wav\n",
      "Get 126  ./BirdSound/Quail/XC287755 - Spot-winged Wood Quail - Odontophorus capueira capueira.wav\n",
      "Get 127  ./BirdSound/Quail/XC59580 - Chestnut Wood Quail - Odontophorus hyperythrus.wav\n",
      "Get 128  ./BirdSound/Quail/XC251278 - Marbled Wood Quail - Odontophorus gujanensis buckleyi.wav\n",
      "Get 129  ./BirdSound/Quail/XC153452 - California Quail - Callipepla californica.wav\n",
      "Get 130  ./BirdSound/Quail/XC346272 - Black-eared Wood Quail - Odontophorus melanotis.wav\n",
      "Get 131  ./BirdSound/Quail/XC406904 - Black-eared Wood Quail - Odontophorus melanotis melanotis.wav\n",
      "Get 132  ./BirdSound/Quail/XC226853 - Rufous-fronted Wood Quail - Odontophorus erythrops.wav\n",
      "Get 133  ./BirdSound/Quail/XC384011 - Gambel's Quail - Callipepla gambelii.wav\n",
      "Get 134  ./BirdSound/Quail/XC53487 - California Quail - Callipepla californica.wav\n",
      "Get 135  ./BirdSound/Quail/XC263366 - Common Quail - Coturnix coturnix.wav\n",
      "Get 136  ./BirdSound/Quail/XC113194 - Ruddy Quail-Dove - Geotrygon montana.wav\n",
      "Get 137  ./BirdSound/Quail/XC238713 - Rufous-fronted Wood Quail - Odontophorus erythrops parambae.wav\n",
      "Get 138  ./BirdSound/Quail/XC310823 - Marbled Wood Quail - Odontophorus gujanensis.wav\n",
      "Get 139  ./BirdSound/Quail/XC35850 - Spot-winged Wood Quail - Odontophorus capueira.wav\n",
      "Get 140  ./BirdSound/Quail/XC3107 - Stripe-faced Wood Quail - Odontophorus balliviani.wav\n",
      "Get 141  ./BirdSound/Avocet/XC141694 - Pied Avocet - Recurvirostra avosetta.wav\n",
      "Get 142  ./BirdSound/Avocet/XC2479 - Andean Avocet - Recurvirostra andina.wav\n",
      "Get 143  ./BirdSound/Avocet/XC333699 - Pied Avocet - Recurvirostra avosetta.wav\n",
      "Get 144  ./BirdSound/Avocet/XC199264 - Pied Avocet - Recurvirostra avosetta.wav\n",
      "Get 145  ./BirdSound/Avocet/XC133080 - American Avocet - Recurvirostra americana.wav\n",
      "Get 146  ./BirdSound/Avocet/XC188266 - Pied Avocet - Recurvirostra avosetta.wav\n",
      "Get 147  ./BirdSound/Avocet/XC325032 - Pied Avocet - Recurvirostra avosetta.wav\n",
      "Get 148  ./BirdSound/Avocet/XC313293 - Pied Avocet - Recurvirostra avosetta.wav\n",
      "Get 149  ./BirdSound/Avocet/XC325032 - Pied Avocet - Recurvirostra avosetta (1).wav\n",
      "Get 150  ./BirdSound/Avocet/XC304644 - American Avocet - Recurvirostra americana.wav\n",
      "Get 151  ./BirdSound/Avocet/XC2474 - Andean Avocet - Recurvirostra andina.wav\n",
      "Get 152  ./BirdSound/Avocet/XC281050 - Pied Avocet - Recurvirostra avosetta.wav\n",
      "Get 153  ./BirdSound/Avocet/XC145135 - Pied Avocet - Recurvirostra avosetta.wav\n",
      "Get 154  ./BirdSound/Avocet/XC202859 - Pied Avocet - Recurvirostra avosetta.wav\n",
      "Get 155  ./BirdSound/Avocet/XC146958 - Andean Avocet - Recurvirostra andina.wav\n",
      "Get 156  ./BirdSound/Avocet/XC202858 - Pied Avocet - Recurvirostra avosetta.wav\n",
      "Get 157  ./BirdSound/Avocet/XC290087 - Pied Avocet - Recurvirostra avosetta.wav\n",
      "Get 158  ./BirdSound/Avocet/XC317972 - American Avocet - Recurvirostra americana.wav\n",
      "Get 159  ./BirdSound/Avocet/XC149144 - Pied Avocet - Recurvirostra avosetta.wav\n",
      "Get 160  ./BirdSound/Avocet/XC59841 - Andean Avocet - Recurvirostra andina.wav\n",
      "Get 161  ./BirdSound/Avocet/XC318019 - American Avocet - Recurvirostra americana.wav\n",
      "Get 162  ./BirdSound/Avocet/XC178760 - American Avocet - Recurvirostra americana.wav\n",
      "Get 163  ./BirdSound/Avocet/XC281049 - Pied Avocet - Recurvirostra avosetta.wav\n",
      "Get 164  ./BirdSound/Avocet/XC95529 - Andean Avocet - Recurvirostra andina.wav\n",
      "Get 165  ./BirdSound/Avocet/XC12130 - American Avocet - Recurvirostra americana.wav\n",
      "Get 166  ./BirdSound/Dove/XC306730 - Ring-necked Dove - Streptopelia capicola.wav\n",
      "Get 167  ./BirdSound/Dove/XC45718 - Namaqua Dove - Oena capensis.wav\n",
      "Get 168  ./BirdSound/Dove/XC71960 - Common Ground Dove - Columbina passerina.wav\n",
      "Get 169  ./BirdSound/Dove/XC85026 - Ruddy Ground Dove - Columbina talpacoti talpacoti.wav\n",
      "Get 170  ./BirdSound/Dove/XC280698 - Ring-necked Dove - Streptopelia capicola.wav\n",
      "Get 171  ./BirdSound/Dove/XC290355 - Ruddy Ground Dove - Columbina talpacoti rufipennis.wav\n",
      "Get 172  ./BirdSound/Dove/XC315273 - Blue Ground Dove - Claravis pretiosa.wav\n",
      "Get 173  ./BirdSound/Dove/XC65467 - Stock Dove - Columba oenas.wav\n",
      "Get 174  ./BirdSound/Dove/XC238202 - Croaking Ground Dove - Columbina cruziana.wav\n",
      "Get 175  ./BirdSound/Dove/XC90873 - Laughing Dove - Spilopelia senegalensis phoenicophila.wav\n",
      "Get 176  ./BirdSound/Dove/XC277489 - European Turtle Dove - Streptopelia turtur.wav\n",
      "Get 177  ./BirdSound/Dove/XC116327 - Mourning Collared Dove - Streptopelia decipiens.wav\n",
      "Get 178  ./BirdSound/Dove/XC34689 - Zebra Dove - Geopelia striata.wav\n",
      "Get 179  ./BirdSound/Dove/XC169693 - Vinaceous Dove - Streptopelia vinacea.wav\n",
      "Get 180  ./BirdSound/Dove/XC221433 - Scaled Dove - Columbina squammata.wav\n",
      "Get 181  ./BirdSound/Dove/XC367411 - European Turtle Dove - Streptopelia turtur.wav\n",
      "Get 182  ./BirdSound/Dove/XC155904 - Eurasian Collared Dove - Streptopelia decaocto decaocto.wav\n",
      "Get 183  ./BirdSound/Dove/XC197100 - Spotted Dove - Spilopelia chinensis.wav\n",
      "Get 184  ./BirdSound/Dove/XC21433 - Common Ground Dove - Columbina passerina pallescens (1).wav\n",
      "Get 185  ./BirdSound/Dove/XC120281 - Croaking Ground Dove - Columbina cruziana.wav\n",
      "Get 186  ./BirdSound/Dove/XC389564 - Blue Ground Dove - Claravis pretiosa.wav\n",
      "Get 187  ./BirdSound/Dove/XC17077 - Ruddy Ground Dove - Columbina talpacoti.wav\n",
      "Get 188  ./BirdSound/Dove/XC74980 - Common Ground Dove - Columbina passerina.wav\n",
      "Get 189  ./BirdSound/Dove/XC300695 - Ring-necked Dove - Streptopelia capicola somalica.wav\n",
      "Get 190  ./BirdSound/Dove/XC209306 - Blue Ground Dove - Claravis pretiosa.wav\n",
      "Get 191  ./BirdSound/Coot/XC14381 - American Coot - Fulica americana~1.wav\n",
      "Get 192  ./BirdSound/Coot/XC287245 - Andean Coot - Fulica ardesiaca.wav\n",
      "Get 193  ./BirdSound/Coot/XC139909 - American Coot - Fulica americana.wav\n",
      "Get 194  ./BirdSound/Coot/XC48557 - Red-fronted Coot - Fulica rufifrons.wav\n",
      "Get 195  ./BirdSound/Coot/XC175423 - Eurasian Coot - Fulica atra.wav\n",
      "Get 196  ./BirdSound/Coot/XC57425 - American Coot - Fulica americana.wav\n",
      "Get 197  ./BirdSound/Coot/XC160661 - American Coot - Fulica americana.wav\n",
      "Get 198  ./BirdSound/Coot/XC37846 - American Coot - Fulica americana.wav\n",
      "Get 199  ./BirdSound/Coot/XC31056 - Eurasian Coot - Fulica atra.wav\n",
      "Get 200  ./BirdSound/Coot/XC160770 - American Coot - Fulica americana.wav\n",
      "Get 201  ./BirdSound/Coot/XC302637 - Eurasian Coot - Fulica atra.wav\n"
     ]
    },
    {
     "name": "stdout",
     "output_type": "stream",
     "text": [
      "Get 202  ./BirdSound/Coot/XC48552 - Red-gartered Coot - Fulica armillata.wav\n",
      "Get 203  ./BirdSound/Coot/XC48553 - Red-gartered Coot - Fulica armillata.wav\n",
      "Get 204  ./BirdSound/Coot/XC37445 - Eurasian Coot - Fulica atra.wav\n",
      "Get 205  ./BirdSound/Coot/XC50787 - Red-gartered Coot - Fulica armillata.wav\n",
      "Get 206  ./BirdSound/Coot/XC8578 - White-winged Coot - Fulica leucoptera.wav\n",
      "Get 207  ./BirdSound/Coot/XC17280 - Andean Coot - Fulica ardesiaca.wav\n",
      "Get 208  ./BirdSound/Coot/XC50788 - White-winged Coot - Fulica leucoptera.wav\n",
      "Get 209  ./BirdSound/Coot/XC44706 - Eurasian Coot - Fulica atra atra.wav\n",
      "Get 210  ./BirdSound/Coot/XC175425 - Eurasian Coot - Fulica atra.wav\n",
      "Get 211  ./BirdSound/Coot/XC89324 - American Coot - Fulica americana.wav\n",
      "Get 212  ./BirdSound/Coot/XC28533 - Eurasian Coot - Fulica atra.wav\n",
      "Get 213  ./BirdSound/Coot/XC123344 - American Coot - Fulica americana.wav\n",
      "Get 214  ./BirdSound/Coot/XC14381 - American Coot - Fulica americana.wav\n",
      "Get 215  ./BirdSound/Coot/XC153335 - American Coot - Fulica americana.wav\n",
      "Get 216  ./BirdSound/Swift/XC186231 - Sooty Swift - Cypseloides fumigatus.wav\n",
      "Get 217  ./BirdSound/Swift/XC425114 - White-throated Swift - Aeronautes saxatalis.wav\n",
      "Get 218  ./BirdSound/Swift/XC440455 - Alpine Swift - Tachymarptis melba.wav\n",
      "Get 219  ./BirdSound/Swift/XC329064 - Short-tailed Swift - Chaetura brachyura.wav\n",
      "Get 220  ./BirdSound/Swift/XC376926 - Common Swift - Apus apus.wav\n",
      "Get 221  ./BirdSound/Swift/XC12874 - White-chinned Swift - Cypseloides cryptus.wav\n",
      "Get 222  ./BirdSound/Swift/XC413368 - Chimney Swift - Chaetura pelagica.wav\n",
      "Get 223  ./BirdSound/Swift/XC471844 - Mascarene Swiftlet - Aerodramus francicus.wav\n",
      "Get 224  ./BirdSound/Swift/XC260445 - Chestnut-collared Swift - Streptoprocne rutila brunnitorques.wav\n",
      "Get 225  ./BirdSound/Swift/XC118539 - Common Swift - Apus apus.wav\n",
      "Get 226  ./BirdSound/Swift/XC257056 - Lesser Swallow-tailed Swift - Panyptila cayennensis.wav\n",
      "Get 227  ./BirdSound/Swift/XC193886 - Grey-rumped Treeswift - Hemiprocne longipennis wallacii.wav\n",
      "Get 228  ./BirdSound/Swift/XC303387 - White-chinned Swift - Cypseloides cryptus.wav\n",
      "Get 229  ./BirdSound/Swift/XC37809 - Alpine Swift - Tachymarptis melba.wav\n",
      "Get 230  ./BirdSound/Swift/XC214775 - Tepui Swift - Streptoprocne phelpsi.wav\n",
      "Get 231  ./BirdSound/Swift/XC230419 - Neotropical Palm Swift - Tachornis squamata.wav\n",
      "Get 232  ./BirdSound/Swift/XC95620 - Lesser Swallow-tailed Swift - Panyptila cayennensis.wav\n",
      "Get 233  ./BirdSound/Swift/XC184145 - Common Swift - Apus apus.wav\n",
      "Get 234  ./BirdSound/Swift/XC1885 - Short-tailed Swift - Chaetura brachyura.wav\n",
      "Get 235  ./BirdSound/Swift/XC283409 - Asian Palm Swift - Cypsiurus balasiensis.wav\n",
      "Get 236  ./BirdSound/Pheasant/XC401850 - Common Pheasant - Phasianus colchicus.wav\n",
      "Get 237  ./BirdSound/Pheasant/XC222485 - Pheasant Cuckoo - Dromococcyx phasianellus.wav\n",
      "Get 238  ./BirdSound/Pheasant/XC114691 - Kalij Pheasant - Lophura leucomelanos hamiltonii.wav\n",
      "Get 239  ./BirdSound/Pheasant/XC99473 - Common Pheasant - Phasianus colchicus.wav\n",
      "Get 240  ./BirdSound/Pheasant/XC422829 - Common Pheasant - Phasianus colchicus.wav\n",
      "Get 241  ./BirdSound/Pheasant/XC197441 - Common Pheasant - Phasianus colchicus.wav\n",
      "Get 242  ./BirdSound/Pheasant/XC364387 - Common Pheasant - Phasianus colchicus.wav\n",
      "Get 243  ./BirdSound/Pheasant/XC115583 - Common Pheasant - Phasianus colchicus.wav\n",
      "Get 244  ./BirdSound/Pheasant/XC76852 - Common Pheasant - Phasianus colchicus.wav\n",
      "Get 245  ./BirdSound/Pheasant/XC126037 - Pheasant Cuckoo - Dromococcyx phasianellus.wav\n",
      "Get 246  ./BirdSound/Pheasant/XC150119 - Blue Eared Pheasant - Crossoptilon auritum.wav\n",
      "Get 247  ./BirdSound/Pheasant/XC281836 - Common Pheasant - Phasianus colchicus.wav\n",
      "Get 248  ./BirdSound/Pheasant/XC384627 - Common Pheasant - Phasianus colchicus.wav\n",
      "Get 249  ./BirdSound/Pheasant/XC182996 - Reeves's Pheasant - Syrmaticus reevesii.wav\n",
      "Get 250  ./BirdSound/Pheasant/XC174770 - Common Pheasant - Phasianus colchicus.wav\n",
      "Get 251  ./BirdSound/Pheasant/XC339797 - Common Pheasant - Phasianus colchicus.wav\n",
      "Get 252  ./BirdSound/Pheasant/XC437853 - Common Pheasant - Phasianus colchicus.wav\n",
      "Get 253  ./BirdSound/Pheasant/XC183800 - Common Pheasant - Phasianus colchicus turcestanicus.wav\n",
      "Get 254  ./BirdSound/Pheasant/XC266194 - Blood Pheasant - Ithaginis cruentus berezowskii.wav\n",
      "Get 255  ./BirdSound/Pheasant/XC457008 - Silver Pheasant - Lophura nycthemera.wav\n",
      "Get 256  ./BirdSound/Grebe/XC51141 - White-tufted Grebe - Rollandia rolland.wav\n",
      "Get 257  ./BirdSound/Grebe/XC160444 - Black-necked Grebe - Podiceps nigricollis.wav\n",
      "Get 258  ./BirdSound/Grebe/XC280980 - Little Grebe - Tachybaptus ruficollis.wav\n",
      "Get 259  ./BirdSound/Grebe/XC451358 - Pied-billed Grebe - Podilymbus podiceps.wav\n",
      "Get 260  ./BirdSound/Grebe/XC267199 - Black-necked Grebe - Podiceps nigricollis.wav\n",
      "Get 261  ./BirdSound/Grebe/XC331144 - Black-necked Grebe - Podiceps nigricollis.wav\n",
      "Get 262  ./BirdSound/Grebe/XC14372 - Pied-billed Grebe - Podilymbus podiceps.wav\n",
      "Get 263  ./BirdSound/Grebe/XC175448 - Little Grebe - Tachybaptus ruficollis.wav\n",
      "Get 264  ./BirdSound/Grebe/XC442038 - Little Grebe - Tachybaptus ruficollis.wav\n",
      "Get 265  ./BirdSound/Grebe/XC305803 - Pied-billed Grebe - Podilymbus podiceps.wav\n",
      "Get 266  ./BirdSound/Grebe/XC105382 - Pied-billed Grebe - Podilymbus podiceps.wav\n",
      "Get 267  ./BirdSound/Grebe/XC377189 - Little Grebe - Tachybaptus ruficollis.wav\n",
      "Get 268  ./BirdSound/Grebe/XC185652 - Little Grebe - Tachybaptus ruficollis.wav\n",
      "Get 269  ./BirdSound/Grebe/XC460157 - Great Crested Grebe - Podiceps cristatus.wav\n",
      "Get 270  ./BirdSound/Grebe/XC43482 - Little Grebe - Tachybaptus ruficollis.wav\n",
      "Get 271  ./BirdSound/Grebe/XC362173 - Little Grebe - Tachybaptus ruficollis.wav\n",
      "Get 272  ./BirdSound/Grebe/XC83320 - Least Grebe - Tachybaptus dominicus.wav\n",
      "Get 273  ./BirdSound/Grebe/XC314998 - Little Grebe - Tachybaptus ruficollis.wav\n",
      "Get 274  ./BirdSound/Grebe/XC51138 - White-tufted Grebe - Rollandia rolland.wav\n",
      "Get 275  ./BirdSound/Grebe/XC54500 - Pied-billed Grebe - Podilymbus podiceps antarcticus.wav\n",
      "Get 276  ./BirdSound/Grebe/XC26547 - Great Crested Grebe - Podiceps cristatus cristatus.wav\n",
      "Get 277  ./BirdSound/Grebe/XC424675 - Little Grebe - Tachybaptus ruficollis.wav\n",
      "Get 278  ./BirdSound/Grebe/XC466329 - Little Grebe - Tachybaptus ruficollis.wav\n",
      "Get 279  ./BirdSound/Grebe/XC373560 - Little Grebe - Tachybaptus ruficollis.wav\n",
      "Get 280  ./BirdSound/Grebe/XC55584 - Least Grebe - Tachybaptus dominicus.wav\n",
      "Get 281  ./BirdSound/Plover/XC14345 - Purple-crowned Plovercrest - Stephanoxis loddigesii.wav\n",
      "Get 282  ./BirdSound/Plover/XC429053 - Purple-crowned Plovercrest - Stephanoxis loddigesii.wav\n",
      "Get 283  ./BirdSound/Plover/XC450072 - Magellanic Plover - Pluvianellus socialis.wav\n",
      "Get 284  ./BirdSound/Plover/XC140325 - Little Ringed Plover - Charadrius dubius papuanus.wav\n",
      "Get 285  ./BirdSound/Plover/XC59911 - Rufous-chested Plover - Charadrius modestus.wav\n",
      "Get 286  ./BirdSound/Plover/XC371003 - Kentish Plover - Charadrius alexandrinus.wav\n",
      "Get 287  ./BirdSound/Plover/XC309206 - Little Ringed Plover - Charadrius dubius curonicus.wav\n",
      "Get 288  ./BirdSound/Plover/XC356536 - Common Ringed Plover - Charadrius hiaticula.wav\n",
      "Get 289  ./BirdSound/Plover/XC345511 - European Golden Plover - Pluvialis apricaria.wav\n",
      "Get 290  ./BirdSound/Plover/XC51732 - Collared Plover - Charadrius collaris.wav\n",
      "Get 291  ./BirdSound/Plover/XC339475 - Common Ringed Plover - Charadrius hiaticula.wav\n",
      "Get 292  ./BirdSound/Plover/XC378002 - Common Ringed Plover - Charadrius hiaticula.wav\n",
      "Get 293  ./BirdSound/Plover/XC441251 - Grey Plover - Pluvialis squatarola.wav\n",
      "Get 294  ./BirdSound/Plover/XC266278 - Little Ringed Plover - Charadrius dubius curonicus.wav\n",
      "Get 295  ./BirdSound/Plover/XC201561 - Grey Plover - Pluvialis squatarola.wav\n",
      "Get 296  ./BirdSound/Plover/XC228428 - American Golden Plover - Pluvialis dominica.wav\n",
      "Get 297  ./BirdSound/Plover/XC91478 - Pacific Golden Plover - Pluvialis fulva.wav\n",
      "Get 298  ./BirdSound/Plover/XC220898 - Collared Plover - Charadrius collaris.wav\n",
      "Get 299  ./BirdSound/Plover/XC281063 - Common Ringed Plover - Charadrius hiaticula.wav\n",
      "Get 300  ./BirdSound/Plover/XC323096 - Semipalmated Plover - Charadrius semipalmatus.wav\n",
      "Get 301  ./BirdSound/Lapwing/XC22547 - Masked Lapwing - Vanellus miles.wav\n",
      "Get 302  ./BirdSound/Lapwing/XC199812 - Northern Lapwing - Vanellus vanellus.wav\n"
     ]
    },
    {
     "name": "stdout",
     "output_type": "stream",
     "text": [
      "Get 303  ./BirdSound/Lapwing/XC92841 - Crowned Lapwing - Vanellus coronatus.wav\n",
      "Get 304  ./BirdSound/Lapwing/XC300855 - Spot-breasted Lapwing - Vanellus melanocephalus (1).wav\n",
      "Get 305  ./BirdSound/Lapwing/XC269626 - Grey-headed Lapwing - Vanellus cinereus.wav\n",
      "Get 306  ./BirdSound/Lapwing/XC240821 - Crowned Lapwing - Vanellus coronatus.wav\n",
      "Get 307  ./BirdSound/Lapwing/XC50272 - Southern Lapwing - Vanellus chilensis.wav\n",
      "Get 308  ./BirdSound/Lapwing/XC94304 - Red-wattled Lapwing - Vanellus indicus atronuchalis.wav\n",
      "Get 309  ./BirdSound/Lapwing/XC169890 - Northern Lapwing - Vanellus vanellus.wav\n",
      "Get 310  ./BirdSound/Lapwing/XC184638 - Red-wattled Lapwing - Vanellus indicus indicus.wav\n",
      "Get 311  ./BirdSound/Lapwing/XC81962 - Grey-headed Lapwing - Vanellus cinereus.wav\n",
      "Get 312  ./BirdSound/Lapwing/XC108381 - Southern Lapwing - Vanellus chilensis.wav\n",
      "Get 313  ./BirdSound/Lapwing/XC429527 - Spur-winged Lapwing - Vanellus spinosus.wav\n",
      "Get 314  ./BirdSound/Lapwing/XC147425 - Northern Lapwing - Vanellus vanellus.wav\n",
      "Get 315  ./BirdSound/Lapwing/XC294380 - Crowned Lapwing - Vanellus coronatus.wav\n",
      "Get 316  ./BirdSound/Lapwing/XC425220 - Spur-winged Lapwing - Vanellus spinosus.wav\n",
      "Get 317  ./BirdSound/Lapwing/XC399003 - Northern Lapwing - Vanellus vanellus.wav\n",
      "Get 318  ./BirdSound/Lapwing/XC38243 - Masked Lapwing - Vanellus miles.wav\n",
      "Get 319  ./BirdSound/Lapwing/XC307119 - Grey-headed Lapwing - Vanellus cinereus.wav\n",
      "Get 320  ./BirdSound/Lapwing/XC103918 - Southern Lapwing - Vanellus chilensis.wav\n",
      "Get 321  ./BirdSound/Lapwing/XC108381 - Southern Lapwing - Vanellus chilensis~1.wav\n",
      "Get 322  ./BirdSound/Lapwing/XC126181 - Crowned Lapwing - Vanellus coronatus.wav\n",
      "Get 323  ./BirdSound/Lapwing/XC74349 - River Lapwing - Vanellus duvaucelii.wav\n",
      "Get 324  ./BirdSound/Lapwing/XC368211 - Red-wattled Lapwing - Vanellus indicus.wav\n",
      "Get 325  ./BirdSound/Lapwing/XC300861 - Spot-breasted Lapwing - Vanellus melanocephalus (1).wav\n",
      "Get 326  ./BirdSound/Nightjar/XC408000 - Sickle-winged Nightjar - Eleothreptus anomalus.wav\n",
      "Get 327  ./BirdSound/Nightjar/XC403361 - Black-shouldered Nightjar - Caprimulgus nigriscapularis.wav\n",
      "Get 328  ./BirdSound/Nightjar/XC154493 - Sickle-winged Nightjar - Eleothreptus anomalus.wav\n",
      "Get 329  ./BirdSound/Nightjar/XC357069 - Freckled Nightjar - Caprimulgus tristigma.wav\n",
      "Get 330  ./BirdSound/Nightjar/XC77708 - Savanna Nightjar - Caprimulgus affinis stictomus.wav\n",
      "Get 331  ./BirdSound/Nightjar/XC117084 - Silky-tailed Nightjar - Antrostomus sericocaudatus.wav\n",
      "Get 332  ./BirdSound/Nightjar/XC167119 - Rufous Nightjar - Antrostomus rufus.wav\n",
      "Get 333  ./BirdSound/Nightjar/XC272906 - Little Nightjar - Setopagis parvula.wav\n",
      "Get 334  ./BirdSound/Nightjar/XC343028 - Rufous Nightjar - Antrostomus rufus.wav\n",
      "Get 335  ./BirdSound/Nightjar/XC6095 - Spot-tailed Nightjar - Hydropsalis maculicaudus.wav\n",
      "Get 336  ./BirdSound/Nightjar/XC93604 - Swallow-tailed Nightjar - Uropsalis segmentata kalinowskii.wav\n",
      "Get 337  ./BirdSound/Nightjar/XC197450 - Lyre-tailed Nightjar - Uropsalis lyra.wav\n",
      "Get 338  ./BirdSound/Nightjar/XC55649 - White-winged Nightjar - Eleothreptus candicans.wav\n",
      "Get 339  ./BirdSound/Nightjar/XC13333 - Spot-tailed Nightjar - Hydropsalis maculicaudus.wav\n",
      "Get 340  ./BirdSound/Nightjar/XC30564 - Silky-tailed Nightjar - Antrostomus sericocaudatus sericocaudatus.wav\n",
      "Get 341  ./BirdSound/Nightjar/XC73507 - Jerdon's Nightjar - Caprimulgus atripennis.wav\n",
      "Get 342  ./BirdSound/Nightjar/XC180595 - Band-winged Nightjar - Systellura longirostris.wav\n",
      "Get 343  ./BirdSound/Nightjar/XC212331 - Standard-winged Nightjar - Caprimulgus longipennis.wav\n",
      "Get 344  ./BirdSound/Nightjar/XC20268 - Pygmy Nightjar - Nyctipolus hirundinaceus cearae.wav\n",
      "Get 345  ./BirdSound/Nightjar/XC43206 - Sickle-winged Nightjar - Eleothreptus anomalus.wav\n",
      "Get 346  ./BirdSound/Nightjar/XC2394 - Silky-tailed Nightjar - Antrostomus sericocaudatus.wav\n",
      "Get 347  ./BirdSound/Nightjar/XC290528 - Malaysian Eared Nightjar - Lyncornis temminckii.wav\n",
      "Get 348  ./BirdSound/Nightjar/XC321377 - European Nightjar - Caprimulgus europaeus.wav\n",
      "Get 349  ./BirdSound/Nightjar/XC51584 - Scissor-tailed Nightjar - Hydropsalis torquata.wav\n",
      "Get 350  ./BirdSound/Nightjar/XC257052 - Ladder-tailed Nightjar - Hydropsalis climacocerca climacocerca.wav\n",
      "Get 351  ./BirdSound/Oystercatcher/XC28379 - Magellanic Oystercatcher - Haematopus leucopodus.wav\n",
      "Get 352  ./BirdSound/Oystercatcher/XC25075 - Eurasian Oystercatcher - Haematopus ostralegus.wav\n",
      "Get 353  ./BirdSound/Oystercatcher/XC129667 - Eurasian Oystercatcher - Haematopus ostralegus.wav\n",
      "Get 354  ./BirdSound/Oystercatcher/XC392519 - African Oystercatcher - Haematopus moquini.wav\n",
      "Get 355  ./BirdSound/Oystercatcher/XC60035 - Blackish Oystercatcher - Haematopus ater.wav\n",
      "Get 356  ./BirdSound/Oystercatcher/XC449757 - Eurasian Oystercatcher - Haematopus ostralegus.wav\n",
      "Get 357  ./BirdSound/Oystercatcher/XC263994 - Eurasian Oystercatcher - Haematopus ostralegus.wav\n",
      "Get 358  ./BirdSound/Oystercatcher/XC43007 - Blackish Oystercatcher - Haematopus ater.wav\n",
      "Get 359  ./BirdSound/Oystercatcher/XC411158 - Eurasian Oystercatcher - Haematopus ostralegus ostralegus.wav\n",
      "Get 360  ./BirdSound/Oystercatcher/XC281037 - Eurasian Oystercatcher - Haematopus ostralegus.wav\n",
      "Get 361  ./BirdSound/Oystercatcher/XC376353 - Eurasian Oystercatcher - Haematopus ostralegus.wav\n",
      "Get 362  ./BirdSound/Oystercatcher/XC234514 - African Oystercatcher - Haematopus moquini.wav\n",
      "Get 363  ./BirdSound/Oystercatcher/XC384216 - American Oystercatcher - Haematopus palliatus.wav\n",
      "Get 364  ./BirdSound/Oystercatcher/XC366796 - Sooty Oystercatcher - Haematopus fuliginosus.wav\n",
      "Get 365  ./BirdSound/Oystercatcher/XC184412 - Eurasian Oystercatcher - Haematopus ostralegus buturlini.wav\n",
      "Get 366  ./BirdSound/Oystercatcher/XC159832 - Black Oystercatcher - Haematopus bachmani.wav\n",
      "Get 367  ./BirdSound/Oystercatcher/XC346818 - African Oystercatcher - Haematopus moquini.wav\n",
      "Get 368  ./BirdSound/Oystercatcher/XC48567 - Magellanic Oystercatcher - Haematopus leucopodus.wav\n",
      "Get 369  ./BirdSound/Oystercatcher/XC329469 - African Oystercatcher - Haematopus moquini.wav\n",
      "Get 370  ./BirdSound/Oystercatcher/XC144971 - Eurasian Oystercatcher - Haematopus ostralegus.wav\n",
      "Get 371  ./BirdSound/Pigeon/XC715 - Ruddy Pigeon - Patagioenas subvinacea.wav\n",
      "Get 372  ./BirdSound/Pigeon/XC368234 - Dusky Pigeon - Patagioenas goodsoni.wav\n",
      "Get 373  ./BirdSound/Pigeon/XC221376 - Short-billed Pigeon - Patagioenas nigrirostris.wav\n",
      "Get 374  ./BirdSound/Pigeon/XC205976 - Picazuro Pigeon - Patagioenas picazuro.wav\n",
      "Get 375  ./BirdSound/Pigeon/XC94615 - Common Wood Pigeon - Columba palumbus.wav\n",
      "Get 376  ./BirdSound/Pigeon/XC246531 - White-bellied Green Pigeon - Treron sieboldii.wav\n",
      "Get 377  ./BirdSound/Pigeon/XC39584 - Ruddy Pigeon - Patagioenas subvinacea.wav\n",
      "Get 378  ./BirdSound/Pigeon/XC166060 - Orange-breasted Green Pigeon - Treron bicinctus.wav\n",
      "Get 379  ./BirdSound/Pigeon/XC271973 - Plumbeous Pigeon - Patagioenas plumbea wallacei.wav\n",
      "Get 380  ./BirdSound/Pigeon/XC257603 - Plumbeous Pigeon - Patagioenas plumbea bogotensis.wav\n",
      "Get 381  ./BirdSound/Pigeon/XC285801 - White-bellied Green Pigeon - Treron sieboldii.wav\n",
      "Get 382  ./BirdSound/Pigeon/XC48673 - Picazuro Pigeon - Patagioenas picazuro.wav\n",
      "Get 383  ./BirdSound/Pigeon/XC395827 - African Olive Pigeon - Columba arquatrix.wav\n",
      "Get 384  ./BirdSound/Pigeon/XC227344 - Ruddy Pigeon - Patagioenas subvinacea.wav\n",
      "Get 385  ./BirdSound/Pigeon/XC55373 - Dusky Pigeon - Patagioenas goodsoni.wav\n",
      "Get 386  ./BirdSound/Pigeon/XC238773 - Scaled Pigeon - Patagioenas speciosa.wav\n",
      "Get 387  ./BirdSound/Pigeon/XC48672 - Picazuro Pigeon - Patagioenas picazuro.wav\n",
      "Get 388  ./BirdSound/Pigeon/XC486547 - Hill Pigeon - Columba rupestris.wav\n",
      "Get 389  ./BirdSound/Pigeon/XC39583 - Ruddy Pigeon - Patagioenas subvinacea.wav\n",
      "Get 390  ./BirdSound/Pigeon/XC127648 - African Olive Pigeon - Columba arquatrix.wav\n",
      "Get 391  ./BirdSound/Stilt/XC193722 - Black-winged Stilt - Himantopus himantopus.wav\n",
      "Get 392  ./BirdSound/Stilt/XC145752 - Black-necked Stilt - Himantopus mexicanus.wav\n",
      "Get 393  ./BirdSound/Stilt/XC177581 - Black-necked Stilt - Himantopus mexicanus.wav\n",
      "Get 394  ./BirdSound/Stilt/XC93965 - Black-winged Stilt - Himantopus himantopus (1).wav\n",
      "Get 395  ./BirdSound/Stilt/XC174956 - Black-necked Stilt - Himantopus mexicanus.wav\n"
     ]
    },
    {
     "name": "stdout",
     "output_type": "stream",
     "text": [
      "Get 396  ./BirdSound/Stilt/XC147547 - White-backed Stilt - Himantopus melanurus.wav\n",
      "Get 397  ./BirdSound/Stilt/XC269525 - Black-winged Stilt - Himantopus himantopus.wav\n",
      "Get 398  ./BirdSound/Stilt/XC304651 - Black-necked Stilt - Himantopus mexicanus.wav\n",
      "Get 399  ./BirdSound/Stilt/XC280353 - Black-winged Stilt - Himantopus himantopus.wav\n",
      "Get 400  ./BirdSound/Stilt/XC328055 - Black-winged Stilt - Himantopus himantopus.wav\n",
      "Get 401  ./BirdSound/Stilt/XC184127 - Black-winged Stilt - Himantopus himantopus.wav\n",
      "Get 402  ./BirdSound/Stilt/XC352343 - Black-necked Stilt - Himantopus mexicanus mexicanus.wav\n",
      "Get 403  ./BirdSound/Stilt/XC338804 - Black-winged Stilt - Himantopus himantopus.wav\n",
      "Get 404  ./BirdSound/Stilt/XC224234 - Black-necked Stilt - Himantopus mexicanus.wav\n",
      "Get 405  ./BirdSound/Stilt/XC261421 - Black-necked Stilt - Himantopus mexicanus.wav\n",
      "Get 406  ./BirdSound/Stilt/XC257542 - Black-necked Stilt - Himantopus mexicanus mexicanus.wav\n",
      "Get 407  ./BirdSound/Stilt/XC128124 - Black-winged Stilt - Himantopus himantopus.wav\n",
      "Get 408  ./BirdSound/Stilt/XC29798 - Black-winged Stilt - Himantopus himantopus.wav\n",
      "Get 409  ./BirdSound/Stilt/XC6707 - White-backed Stilt - Himantopus melanurus melanurus.wav\n",
      "Get 410  ./BirdSound/Stilt/XC76189 - Stilt Sandpiper - Calidris himantopus.wav\n",
      "Get 411  ./BirdSound/Rail/XC243448 - Slaty-breasted Wood Rail - Aramides saracura.wav\n",
      "Get 412  ./BirdSound/Rail/XC388651 - Water Rail - Rallus aquaticus.wav\n",
      "Get 413  ./BirdSound/Rail/XC179459 - Ridgway's Rail - Rallus obsoletus.wav\n",
      "Get 414  ./BirdSound/Rail/XC273674 - Bogota Rail - Rallus semiplumbeus.wav\n",
      "Get 415  ./BirdSound/Rail/XC383382 - Water Rail - Rallus aquaticus.wav\n",
      "Get 416  ./BirdSound/Rail/XC217119 - Black Rail - Laterallus jamaicensis.wav\n",
      "Get 417  ./BirdSound/Rail/XC472201 - Grey-necked Wood Rail - Aramides cajaneus (1).wav\n",
      "Get 418  ./BirdSound/Rail/XC475407 - Water Rail - Rallus aquaticus.wav\n",
      "Get 419  ./BirdSound/Rail/XC10309 - Bogota Rail - Rallus semiplumbeus semiplumbeus.wav\n",
      "Get 420  ./BirdSound/Rail/XC130540 - Clapper Rail - Rallus crepitans.wav\n",
      "Get 421  ./BirdSound/Rail/XC306864 - Black Rail - Laterallus jamaicensis.wav\n",
      "Get 422  ./BirdSound/Rail/XC357039 - Rufous-naped Wood Rail - Aramides albiventris.wav\n",
      "Get 423  ./BirdSound/Rail/XC371114 - Black Rail - Laterallus jamaicensis.wav\n",
      "Get 424  ./BirdSound/Rail/XC110658 - Ridgway's Rail - Rallus obsoletus yumanensis.wav\n",
      "Get 425  ./BirdSound/Rail/XC451478 - King Rail - Rallus elegans.wav\n",
      "Get 426  ./BirdSound/Rail/XC454949 - Grey-necked Wood Rail - Aramides cajaneus.wav\n",
      "Get 427  ./BirdSound/Rail/XC227398 - Marail Guan - Penelope marail.wav\n",
      "Get 428  ./BirdSound/Rail/XC296693 - Black Rail - Laterallus jamaicensis tuerosi.wav\n",
      "Get 429  ./BirdSound/Rail/XC442866 - Brown-cheeked Rail - Rallus indicus.wav\n",
      "Get 430  ./BirdSound/Rail/XC475407 - Water Rail - Rallus aquaticus (copy).wav\n",
      "Get 431  ./BirdSound/Sandpiper/XC161585 - Solitary Sandpiper - Tringa solitaria.wav\n",
      "Get 432  ./BirdSound/Sandpiper/XC145934 - Stilt Sandpiper - Calidris himantopus.wav\n",
      "Get 433  ./BirdSound/Sandpiper/XC145344 - Terek Sandpiper - Xenus cinereus.wav\n",
      "Get 434  ./BirdSound/Sandpiper/XC184322 - Curlew Sandpiper - Calidris ferruginea.wav\n",
      "Get 435  ./BirdSound/Sandpiper/XC432903 - Green Sandpiper - Tringa ochropus.wav\n",
      "Get 436  ./BirdSound/Sandpiper/XC30141 - White-rumped Sandpiper - Calidris fuscicollis.wav\n",
      "Get 437  ./BirdSound/Sandpiper/XC338294 - Least Sandpiper - Calidris minutilla.wav\n",
      "Get 438  ./BirdSound/Sandpiper/XC434829 - Common Sandpiper - Actitis hypoleucos.wav\n",
      "Get 439  ./BirdSound/Sandpiper/XC220055 - Least Sandpiper - Calidris minutilla.wav\n",
      "Get 440  ./BirdSound/Sandpiper/XC213494 - Spotted Sandpiper - Actitis macularius.wav\n",
      "Get 441  ./BirdSound/Sandpiper/XC255373 - Spotted Sandpiper - Actitis macularius.wav\n",
      "Get 442  ./BirdSound/Sandpiper/XC302648 - Western Sandpiper - Calidris mauri.wav\n",
      "Get 443  ./BirdSound/Sandpiper/XC426254 - Green Sandpiper - Tringa ochropus.wav\n",
      "Get 444  ./BirdSound/Sandpiper/XC276361 - Green Sandpiper - Tringa ochropus.wav\n",
      "Get 445  ./BirdSound/Sandpiper/XC16280 - White-rumped Sandpiper - Calidris fuscicollis.wav\n",
      "Get 446  ./BirdSound/Sandpiper/XC410069 - White-rumped Sandpiper - Calidris fuscicollis.wav\n",
      "Get 447  ./BirdSound/Sandpiper/XC100435 - Common Sandpiper - Actitis hypoleucos.wav\n",
      "Get 448  ./BirdSound/Sandpiper/XC282045 - Wood Sandpiper - Tringa glareola.wav\n",
      "Get 449  ./BirdSound/Sandpiper/XC422061 - Common Sandpiper - Actitis hypoleucos.wav\n",
      "Get 450  ./BirdSound/Sandpiper/XC348861 - Diademed Sandpiper-Plover - Phegornis mitchellii.wav\n",
      "Calculated 450 Durations\n"
     ]
    }
   ],
   "source": [
    "# Load audio files, trim silence and calculate duration\n",
    "duration = []\n",
    "for i,f in enumerate(files):\n",
    "    print (\"Get %d  %s\"%(i+1, f))\n",
    "    try:\n",
    "        y, sr = librosa.load(f, sr=fs)\n",
    "        if len(y) < 2:\n",
    "            print(\"Error loading %s\" % f)\n",
    "            continue\n",
    "        #y/=y.max() #Normalize\n",
    "        yt, index = librosa.effects.trim(y,top_db=60) #Trim\n",
    "        duration.append(librosa.get_duration(yt, sr=fs))\n",
    "    except Exception as e:\n",
    "        print(\"Error loading %s. Error: %s\" % (f,e))\n",
    "        \n",
    "print(\"Calculated %d Durations\"%len(duration))"
   ]
  },
  {
   "cell_type": "markdown",
   "metadata": {},
   "source": [
    "## Duration Distribution"
   ]
  },
  {
   "cell_type": "code",
   "execution_count": 7,
   "metadata": {},
   "outputs": [
    {
     "name": "stdout",
     "output_type": "stream",
     "text": [
      "Duration average: 21.98161929957168\n"
     ]
    },
    {
     "data": {
      "image/png": "[encoded data removed]",
      "text/plain": [
       "<Figure size 432x288 with 1 Axes>"
      ]
     },
     "metadata": {
      "needs_background": "light"
     },
     "output_type": "display_data"
    }
   ],
   "source": [
    "durationDist = pd.Series(np.array(duration))\n",
    "plt.figure()\n",
    "durationDist.plot.hist(grid=True, bins=40, rwidth=0.8,\n",
    "                   color='#607c8e')\n",
    "plt.title('Duration Distribution')\n",
    "plt.xlabel('Duration [s]')\n",
    "plt.ylabel('Counts')\n",
    "plt.grid(axis='y', alpha=0.75)\n",
    "print(\"Duration average:\",np.mean(duration))"
   ]
  },
  {
   "cell_type": "markdown",
   "metadata": {},
   "source": [
    "## Short-Time Fourier Transform"
   ]
  },
  {
   "cell_type": "code",
   "execution_count": 8,
   "metadata": {},
   "outputs": [],
   "source": [
    "#show_web(\"https://en.wikipedia.org/wiki/Short-time_Fourier_transform\")"
   ]
  },
  {
   "cell_type": "code",
   "execution_count": 9,
   "metadata": {},
   "outputs": [
    {
     "name": "stdout",
     "output_type": "stream",
     "text": [
      "Spectogram Array Shape: (1025, 87)\n"
     ]
    },
    {
     "data": {
      "text/html": [
       "\n",
       "                <audio  controls=\"controls\" >\n",
       "                    <source src=\"data:audio/wav;base64,UklGRqxYAQBXQVZFZm10IBAAAAABAAEARKwAAIhYAQACABAAZGF0YYhYAQAAAAAAAAAAAAAAAAAAAAAAAAAAAAAAAAAAAAAAAAAAAAAAAAAAAAAAAAAAAAAAAAAAAAAAAAAAAAAAAAAAAAAAAAAAAAAAAAAAAAAAAAAAAAAAAAAAAAAAAAAAAAAAAAAAAAAAAAAAAAAAAAAAAAAAAAAAAAAAAAAAAAAAAAAAAAAAAAAAAAAAAAAAAAAAAAAAAAAAAAAAAAAAAAAAAAAAAAAAAAAAAAAAAAAAAAAAAAAAAAAAAAAAAAAAAAAAAAAAAAAAAAAAAAAAAAAAAAAAAAAAAAAAAAAAAAAAAAAAAAAAAAAAAAAAAAAAAAAAAAAAAAAAAAAAAAAAAAAAAAAAAAAAAAAAAAAAAAAAAAAAAAAAAAAAAAAAAAAAAAAAAAAAAAAAAAAAAAAAAAAAAAAAAAAAAAAAAAAAAAAAAAAAAAAAAAAAAAAAAAAAAAAAAAAAAAAAAAAAAAAAAAAAAAAAAAAAAAAAAAAAAAAAAAAAAAAAAAAAAAAAAAAAAAAAAAAAAAAAAAAAAAAAAAAAAAAAAAAAAAAAAAAAAAAAAAAAAAAAAAAAAAAAAAAAAAAAAAAAAAAAAAAAAAAAAAAAAAAAAAAAAAAAAAAAAAAAAAAAAAAAAAAAAAAAAAAAAAAAAAAAAAAAAAAAAAAAAAAAAAAAAAAAAAAAAAAAAAAAAAAAAAAAAAAAAAAAAAAAAAAAAAAAAAAAAAAAAAAAAAAAAAAAAAAAAAAAAAAAAAAAAAAAAAAAAAAAAAAAAAAAAAAAAAAAAAAAAAAAAAAAAAAAAAAAAAAAAAAAAAAAAAAAAAAAAAAAAAAAAAAAAAAAAAAAAAAAAAAAAAAAAAAAAAAAAAAAAAAAAAAAAAAAAAAAAAAAAAAAAAAAAAAAAAAAAAAAAAAAAAAAAAAAAAAAAAAAAAAAAAAAAAAAAAAAAAAAAAAAAAAAAAAAAAAAAAAAAAAAAAAAAAAAAAAAAAAAAAAAAAAAAAAAAAAAAAAAAAAAAAAAAAAAAAAAAAAAAAAAAAAAAAAAAAAAAAAAAAAAAAAAAAAAAAAAAAAAAAAAAAAAAAAAAAAAAAAAAAAAAAAAAAAAAAAAAAAAAAAAAAAAAAAAAAAAAAAAAAAAAAAAAAAAAAAAAAAAAAAAAAAAAAAAAAAAAAAAAAAAAAAAAAAAAAAAAAAAAAAAAAAAAAAAAAAAAAAAAAAAAAAAAAAAAAAAAAAAAAAAAAAAAAAAAAAAAAAAAAAAAAAAAAAAAAAAAAAAAAAAAAAAAAAAAAAAAAAAAAAAAAAAAAAAAAAAAAAAAAAAAAAAAAAAAAAAAAAAAAAAAAAAAAAAAAAAAAAAAAAAAAAAAAAAAAAAAAAAAAAAAAAAAAAAAAAAAAAAAAAAAAAAAAAAAAAAAAAAAAAAAAAAAAAAAAAAAAAAAAAAAAAAAAAAAAAAAAAAAAAAAAAAAAAAAAAAAAAAAAAAAAAAAAAAAAAAAAAAAAAAAAAAAAAAAAAAAAAAAAAAAAAAAAAAAAAAAAAAAAAAAAAAAAAAAAAAAAAAAAAAAAAAAAAAAAAAAAAAAAAAAAAAAAAAAAAAAAAAAAAAAAAAAAAAAAAAAAAAAAAAAAAAAAAAAAAAAAAAAAAAAAAAAAAAAAAAAAAAAAAAAAAAAAAAAAAAAAAAAAAAAAAAAAAAAAAAAAAAAAAAAAAAAAAAAAAAAAAAAAAAAAAAAAAAAAAAAAAAAAAAAAAAAAAAAAAAAAAAAAAAAAAAAAAAAAAAAAAAAAAAAAAAAAAAAAAAAAAAAAAAAAAAAAAAAAAAAAAAAAAAAAAAAAAAAAAAAAAAAAAAAAAAAAAAAAAAAAAAAAAAAAAAAAAAAAAAAAAAAAAAAAAAAAAAAAAAAAAAAAAAAAAAAAAAAAAAAAAAAAAAAAAAAAAAAAAAAAAAAAAAAAAAAAAAAAAAAAAAAAAAAAAAAAAAAAAAAAAAAAAAAAAAAAAAAAAAAAAAAAAAAAAAAAAAAAAAAAAAAAAAAAAAAAAAAAAAAAAAAAAAAAAAAAAAAAAA/f/9//3//f8AAAAAAAAAAAAAAAAAAAAAAAAAAAAAAAAAAAAAAAAAAAAAAAAAAAAAAAAAAAAAAAAAAAAAAAAAAAAAAAAAAAAAAAAAAAAAAAAAAAAA/f8AAAAAAAD9/wAAAAAAAAAAAAAAAAAAAAAAAAAAAAAAAAAAAAAAAAAAAAAAAAAAAAAAAAAAAAAAAAAAAAAAAAAAAAAAAAAAAAAAAAAAAAAAAAAAAAADAAAA/f8AAAcAAAAAAAAAAAAAAAcABwADAAAAAAAAAAAAAAAAAPn/AAAAAAAAAAAAAP3/AAAAAAAAAAADAAcAAAD9/wMABwAAAAMABwAAAP3//f/9/wAAAwAAAAAA/f8AAAAA/f8AAAcA/f/9//3/AAADAAMAAAADAAMAAAADAAMABwAHAAMABwAHAAAAAwAHAAAA+f8AAAMABwAAAAAABwAAAPn/AAAHAAcABwAHAAcAAwAAAAcABwAAAAAAAwAAAP3/AAD9//3//f/9/wMAAwALAAsAAwD9/wAAAwADAAMAAAALAAsAAAD9/wMAAAD1//n/AwAHAP3/AwAHAAAA+f8AAP3/+f8DAA8ADwAAAPn/BwAHAAAAAAD5//n/8f/x//3/AAD5/wAABwD5/+n/8f/5//X/+f8DAP3/6f/p//H/8f/x//H/+f/5//H/8f/9/wAA9f/p//H/AAD9//X/9f/1//3/AwAAAPX/9f8DAAcAAAAAAP3/9f/1/wMAAwD9//3/AwALABMAAwD1//3/CwADAPX/7f/9/wMA/f8AAAMAAwADAAsABwD9//n/AAADAAAAAAADAAMAAAAAAAAAAAD9//n/+f8AAPn/+f/9/wAA8f/x//n//f/5/wMACwD1/+3/AwATAAAA+f8PABMA/f8DABsAEwD9/wMAGwAbAAMA/f/1/+3/5f/x/wsADwD5//n/FwAeAAMAAAAXAA8A+f8HACYAEwD5/wcAFwAPAAsADwAHAPn/AAAHAAMAAAADAAcAAAD5//3/AAAAAAAAAwADAAMAAwAHAAsABwD9//3/BwAPAAsACwAPAAsACwAXAA8A9f/x/wsAEwD5/+3//f8PABcAFwAHAAcAEwATAAAAAAADAAAAAwAXABsAAAD9/w8AFwAPAAsAAwAAAA8AGwAHAPX/AAAPAAcAAAAAAAsADwD9/97/1v/S/8P/w//p/wMABwATACIAEwADABsAOgBBAFEAdwCLAI8AngCyALUAvQDRAO8A/wD/AAsBRQF/AYoBlgGtAakBngG9AfsBCgIhAlACbwJfAmsClQKpArACzwLuAvYC/gIdA0cDagN6A4UDjQOVA5UDnQO4A9oDEQRmBKQEoASMBIUEYgQ7BFoErwTxBBAFOwVSBTMFCAUQBScFRgV8BcoF+AXpBboFrwWUBV4FWgWrBfwFEwYnBjYGCAa6BZsFowW3Be0FQgZpBlkGKwb8Bc4FrwWrBekFVQaABkIGBAbhBZsFUgVWBXwFdQV8BaMFowV8BW0FTgUYBRAFNwVGBU4FhAWYBVoFCAXDBHkEWgSBBKAEoASzBKsETwTqA7sDnQOFA40DlQOgA78D1wPHA78DzwOkA18DQAMoA/IC2wIJAyUD9gLIArACsALEAuoCAgMCAwID7gKwAlsCHQIlAkgCOAIZAiUCPAIdAv4BDgIlAiUCGQIZAhYCEgIKAvMB2AHjAf4B5wGaAUwBIgEaARIB8wDkAPsA5ACWAIMAhwA2ANr/yv+r/3n/jP/D/6//cf8s/9b+kf6B/pH+av4s/h3+LP5D/lP+Q/5T/pn+pP5T/hX+9v2w/Yb9qf3A/ZH9TP3f/Fz8NfyC/Mj87/zf/LX8kvx7/Fj8WPyO/LX8lvx3/Hf8YPxY/Ln8TP1j/Q79ufx7/Fz8TPxF/Fz8ofz6/HL9+v0w/tP9Mf3r/Ar9Bv33/FP9yP28/aH9qf2d/bT9+v0w/kf+JP6w/UD9Bv0G/aH9sP5m/2b/1v4h/rz9vP2d/Y396v1e/qD+sP6J/m7+mf6g/on+gf5L/jz+sP7m/u7+av/O/7//q/91/z//jP/S/+X/XADvABYBAwHsAAsBbwH3AXoCXwK9AdQBXwJfAq0CegPaAywEVgR2A3YCdgLnAnYDLAS3BOYEqARDBAUEuAPXA3EEpASkBAgFHAXaBLsEfQSQBAwFFAUjBYAFNwXKBPEEygRSBBwEBQRLBL8EAQWEBQAGmwUQBRwFVgVWBSMFHAUcBbMEYgRmBP0DuwMwBGYEPwQzBP0DqAP2AhkCQAL6At8C0wIZA8QCcwKKAjwCDgLvAVQBLQGiAXsB+wDRAKoAfwA6AMb/s/8PAB4Av/+F/7P/4v/e/wAAAABm/43+y/0K/fr82/20/ub+3v7D/kD+kf0p/fr8OP2Z/ev8CvxI/Cn8Rfua+2D8Lfz7+3f7APp1+QD6Mvpl+sn6svqX+sH6rvpZ+kn6+Pqq+3f7RfuS+3v7JvvZ+h/6afkr+Vr5SfpB+7X7QfxU/Ln7mvtY+5f6A/vc+9T7Z/wp/Wv8tfsx/EH84PtM/O/8PP3L/TD+UP0K/L375PtM/Kn98v7e/lP+OP4s/tf9tP0R/n3+pP79/ij/4v7m/r/+Yv4U/xMAGwALADIAaADkAJoAAwDkAJ4BawEGAsABdf9e/iD/AAADAcgB0AHAAbkBzAHrAZIBwAGwAt8C+gKsA34DsAJUAgYCQAJEA0cEEAU3BasE9gMGA88CuwMRBDcEzgSoA1QCcgMJBFMDeQQMBt0FgAWQBUoFtwQNBEsECAUEBXwFsgaqBsIFFAWkBG4E0wO0A7MFbAcuBxcHowa7BJEDWwMCA0sD9gOBBFoFcQU7BLACTAH/AP4B3wKwA24EHAQJBG4EjQPAArACTAELAPMABgKCAhED6gIKAioBWQBRAHcA1v/O/9QAhgEZAm8CKgFa/7v+5v6Q/54ApgDG/7//+f9L/7/+oP7u/X79Q/5H/7P/p/9x/0P/3v6Z/sf+gf6p/c/99f79/+wADgGv/zj+b/0t/an91/0t/ZH9Bf9i/8P+If7A/Oj6aPp7+5b8OP2s/ef81fq2+eH5vvl1+YD5J/n1+J/5cPpR++T7zfrG+N73z/fW92r4xvha+Jj4cPpg/Nv86/t0+gT5z/d698b43fo5/Ib8B/we+4/6Sfr8+QT6h/r7+/r92v5y/ob9ZPvW+HH4Mvp//Jz+hf8Y/33+y/12/ZX+IP+8/eP8lf3e/rIADgLAAXQAL//5/kUA3wFUApIB0QCLAPcAWwI0AxYC6ADvAO8A7wA1AoEDwAIHAZoA0AHHA0oFGwZSBZoBff67/7ACBAWfBr4FJQN7AUUBuALSBJAF1gTuA1MDYgNLBIkEoQIuAPn/TAJ5BfMHZwkqCPYDmgGhArgDKwULBxMHxgWJBBUEKwUEBtYE1wKSAe8B9QTECWUMVgsLCEsDyv/oAGkFbwnTCc0HnwafBRQFrgZZB1EG/AVpBXkFGgisCl8KlgfmA3QA0/6DAJgEZwhXCfwGDQQHAW7+AACRA5gEYgTnAlUARQBEAqgDUgTPA6kBIP9m/sP/qQGJA2oE5wLi/zj9zft/+yn9ogDvAeL/vP1B/Dn7Mvuu+7X7MvqB+Fr5MfyM/9gAhf7V+jz2hfHy8LH0DPq0/oMAKP9Z+sn0+PLB83v1v/j8+s36WvnW+Pz5n/m/9xX3RPY99dj1FPgq+5b8+/sy+yP50PUP84zysfUM+uv8jf4Z/tT77fmQ+KD3cvcc+J/5f/sC/cv90/2G/PT6f/um+9X5UvmX+RP7lP+RAlsC/wB2/eX51viv+Vj8df9rApAEYgO5ANP9Mvr1+Oz6V/7AAQ0D5wLnAT0AXAD3AD0A+f6l/eL+5wGwA+0F/AYcBZkDogGk/rT9Zv5cACwEAwjbCeMIxgUGAi//pP5NAEsD1QbyCbMLXwrdBtcDJQLPAqgEDAZBCFcJnggZCQIJtQcDB2kFUwM8AiwD7AYCCn0L0gs4CfQG5QWgA3oCkgGLABUDnwYKCY0KMQkMBi0CT/68/EH8QP17ASsGSAmOCXgGJQIx/XH5iPlB/KT/egJSBN4ENANrAZz/A/yv+af5vvqN/jwC7gKRA78D0v/V+jP5O/hx+Mv9wAJDBDsFYwJ+/dT82/04/kD+dv5kAHsBkQI7BZAEHQOoA1QB+f7i/5MAPQHXAt4EMgbOBeYE7wE4/n3+u/9sAHoDeQWoBIkDRAJkAAn+1Pw4/SH+wQCBBDoGQgXAAosAlf0j+r76+vwp/QH/DgLPAi0C9wCF/o/77fnG+SP6hvzS//cAuQAbAIX/Z/1h+Rz4avgk+OT6rP3a/sEAq/+G/Uj8M/hE9nH4iPn8+q38zPwa/Jf5FPjG+AX4cvev+M75zvlx+WD7Av5n/UH7p/kk+Dz3efim+3b92v5rASYBff8R/wr8LPj+9ij3cfjN+vr9fwDp/27+Gf2P+pj4WviI+dT7GP/2AokEiQPYAeL+IvxR+pD5i/ul/Hb9JQKvBDQDkgHb/Rv6ePl4+vP8p/88AmoEmQOxAcP+j/rw+QP7xfvi/8cDHAXkBh4HTwQeATD+QvrL99X66AAABsAJjQpQCE8EAwC0/Rr8jvxIAWoEMgZXCokLnQmmB+YDiwCz/8UAegP1BJ8F6AdECeQHxQZgB9kFZwJIAiwD0wL5BKUIFAyADVcKlwZiA97+Z/2M/0AD7wdDC8UNTQ6FCogGtAJy/qn9RQCUBf0LLQ85D8kNcgrRBl4ECQOOAZYBTgXnCCALCA2kC1wH2wIo/0D9h/vg+5z/ggJ5BdQIGQlICK8EEv0J+NT1UPUr+S4ALwaKCB4IyQY4A3L98vcy9Cr0Efgd/iwE0AigCosHhgKk/uL45PNw80z18PrPAioIyguFCrwCafmZ8GTtLPAi9aj+sAlsDY0KFwfsAAH4uPA97rTw5vdkAQ4IBQuDCD0AFPj58ZLtNe6J8Y339f8MBQcI4QbW/s/2avBZ7K7twfMW/L0B6gJbAh0CTv+q+tz03vDP8Av0ePrJAKcFxgU1AkX8cPT37u/ubfEC9vf7BwGRA+gAUPyw9svvA+287gDyavjW/78DeQSwAuD7gvWF8GjtSe2475X3xv++BVkHWwN/+9nym+wm7ajw3/VX/o0DygXSBdcCKf3f9t3yHPH67+DzB/zyAgIK/A2qB478LvOW7T7sZfIC/skGdA3RDscLbgTO+cPxEfHf9kf/3wgaEN4R7A0iCJMAXfk49tb4Zv50B68Schj1GTYVIQrcAJP6/fi5/NIEBw/3FeUaWhpeE4EKuQF4+r76fwAxCW8Wvx9wI8Mg0RTaBF36tPbw+tIFRxJvHVAkzyURIOQUFAVt+FD2D/owA18R0x/DJlEjhBppDJH9qvOM8vT5gAWjE9MeniMBIQYYxAmA+dDuue1c9BsG9RlZI5gn2SGoEsQBM/Jy6Qnqo/J3APIQcx3SICQZDAwo/8/waukA7Nj0BgO8EJEXhhboDs0AXPSx7RTreu9R+vUEGAw6DokKzwP1+APu1eVO5NLqgPMh/hAFlgdiA7z2y+gq3xfeluBD6dT14/weAHv8xvFA6UfjbN+o4m/oKPA094f6CvwZ9v3pWOB13F7byOAu7Cn2kvy8/MD2GOvI4CHb/tln4Qjrf/Sq+5X+yvkO7zPkyNlw19rbtuR98YL9ZQXdBnL+mfC34wHc9dwj5Jr0PwWaDo4Q8wh/+/TsMuYX5cToDvWQ/9MJTxIREu0MugXs+pnwSO/k9Nr/bgubFG8XeBWeD4kELvvI9pz4hf+gCsoTShrSGo8VNg5RBgoCJgB5BDYNoxRLGbsZNRfyEQMOfgkvBd8IdQu5DyIVxBbPFzUWuxLIEHgN3wltDPcPAxXWGSIcFhcGETcLGAXACGcPpRdMHRAb4hIdCX8BLP8WAhII/hCBGcQdnR7DGAsPLwXu/Zb8GP+eB2kTMB+mI9YhSxn2Crn7fPI78Un6FAzlGmMlhiWwHlcQoAOi+nTzEfdm/xUKXBVlG2wblBOXBmj7m/OQ8fTyxvnAAVwH5gr+CTgCNvpG89jtpu2F8fP1NPfv/KD+hv0v+ZTyYezu6bbsWvLZ+nv8Gvum9Grq/uEu36vjPe6f+aIBUgR7APTy0uP72LnSTNml5zz3JwVhDUAKQP6u7LPde9EG0xrfXO4yAPYKGRGoCn79ve3y4bnZgNdL4pDyTQDSDGYRSAkDAD30iuc84ZTjw+pX9nAAPQdnCR4HJQIk/r75W/c89rX0KPdW+ej6zfrt/6ECsgbICHkLzgxiA9H6MvMS7gft5fKK/RULFhbNGxMVNgeC9oDllNzB3z3tgv1rECUe+x0UExIC/u+S5lDhlekZ998ChQtgDl0NVAleBQL9GPmX8+nxpfWm+nv8t//7AY8AgQOyBn8I6whwB9QA2fqb8sntgu4x9UMESRYbI7QmJR5LCyn1b+dS4yTpZPsgDHofeyqPKYIe0Q3n/P3wpu3d8kv+JQq/GFUiMSQXHLIVaguz/0n6SfquAHcI0xA6FTYVUBapF5YVSRZZFWQOswXJAC76d/sKAhAMoxpyJpIrQCaAG/AGIvQ46VbqIfaaCGQcoipiLnQpxhonBc/2c+5n7gL3XgQ0EVsXpRfdFOkMXAetAZz/Dv2H+1v9qf2WAacF9QsADlwPbw97DwwMgAXt+cfwEu5A7yz4zAG5D14auhs0ERAFLfVc5wLipOLN7BH4VQAHCN0M1wnnAZD5NPAd6arlKeCz437oou2e9ZX+FQNuBKUByPYc6j7dTtZf06Lf3ev8+fEENwXzAOn5TvJ75/LhOt7N3ojjBOuF8Yz5y/6/BP4B0frJ9ADrOOLB3jnggeKw71r5rQEbBnUFpP7L9sTv7+fG48HlB+3w8gf7KP/cAakC6QQ8AjUBcf8R93fuCeqC6EjvOP0OCT8TJhVDErcFr/my7Mnlf+e57oH4oANKDHAOKAsYBfsBo/kv+Rv6Lvu19KbzQfV1+DsFAw8OFoQTmAuv+Yft+OVf6MD2qgbJFSIdYhisChH/Dfhm+GL/Mgd1DLwQWgwdA2f9q//4BYoQKBhJHKUXtAkk/rj3UfvEAdgOKBlnHRAbDxVrD8gJtQdaDN8QUhICEQcI4wJbA1EOgBsRJqwmBx0DDmQAcAC5CFcXFyIxJfMdDRLzB88CIAWWDnAcfyNeIf4WuwTn9f71GwBeEpMiZCONGH4KnP7p+HD7IATYDw4W6ROyDWQIbgOv/7ACvwRZBuYEdwGK/YX4ivw0A6MMRQ5YCCYAFvYI8xP0IvynBV4LnwUf+ijxYul96oTyof0CA9cC+vzH8OPoruWR6cry1Psl/QD5ZvEt5y7l6euN927+tP59+HHxOOji4nDlbulf75fyDPKJ8Trzw/Bc9aj3jfYa9MTvQOij3RTd1OCH7AL3oP/T/bz1gPK079ztB+0E7EPqquzQ7WDtGfBm93L+8QQDBxUDS/d77RPmyuNg7Yz58QSmDXsO/QMp/Pf1dfKl9Qr9AgKSAdX6Ife7+Ov7DgIoCnsOQAo7BAD6MfW78Jn3w/+RA3cHbwlACgYDUwNDBI4IMQhSBdb/J/pt+P34zQBXCZ4OHg7xDCsGxAESAowE+QRdBlEGwALa/38BVAg7C3YQfRKaDgIJ5AfkBpQF9whLCrwK8A0dEUgPbAdQAZMANgdfEEEV5RPmCnwGEwDo+xr7YPvr/BQFSxE8ECUQVgxrCMIGKASw/hf7pPjn9UD9qwSUDMQQhA1hBiUDnf3c+1P95Pub+g/7vPxB+4786/w8AoAFlAsHD34KsAKZ9kDwLu0g8eX4lQN7B7QKQBEhEGENsgdE/abzsO/H8JT4CAWQDMgP5xA2DUcLVwqkCv0EGf5q+Bn2QP0pCdYSKhWgEqQKWwPu/g0ECA0vDacF0v9H+GH6ZwmIFH4YBRKABYD5lvwDBxsVyxh0DpEDv/dh+oUEgRGWFn4XJw1yA1cDYgSUDHkSuBGdCS4Aavdi91D9iAXhDKQKewAr+gX4Qvlu/sACFgGh9rrrPuUu5kjuYfprAW/8DvWO7s/pA+aQ6/332/1/+3XyHOQ82gXbJ+SN8OL/1wKs/lv3DOuF4yng4uPn51/vCu617rvw+PLI9cD2xfq3+HzyoOrZ5VjgZ+Ca56zv9vaS+7z9K/kY8m/uL/J79a76Ivuw9iLtLuYH50Ht7/T995X9OfxY+4H36fII8/r1yPUz+Pn/+f+s/bz8LPjX9rD34/xEArYG8gnUCFIEy/6e+1v27vY7+d36ogFBB9IMwA+REKQLtgYeAa77Qfxm/ywDYAekC2cJRwr3DlITYhKuFRoWMhWREKQLBgNB+1j7Gvs9AQkKKhWrGWwbPxqmFd8QOQgkBNgBWAhzEOwUnhZBFuQVgBTyGOgccSD7IxsipBgjE6EQygz7COMIvQipDxIWWx7rJTcnSiFBFk4MKwbYAfcBQAlzDzwRBw/cB+4DlggnDDsSbxaGF+YSwwr9BL8D9Aa3BSMFkwD0+in9FQPSC/4QExX5C4gFT/7O+VL4xvlf/dP+ff9H/8v9QfvS/wsH8QxjEHMPeQWZ92rqfOXS4y7mve3A9iYA9AU4CQIJJQPF+jjwaetb6SrtGfDZ8sPxPPam+zv5Wvmv+AHxru0p7p3v6fGK9Zzxd+1a69Dmi+W65eXr1O2s8CnvIfAR8U7x8vBu8LTwf+7P6B7n4OZE597qA+1T6Q3qE+0I8q76If7W+BDy0OZe42zlvusv8rD3vfsT+/X4CPOT89nzNPdE9Vv3rvu2+iz3ZfJZ7J/rve1e8cHzaPoo/hj/vvq/+Cz3fPII8lz1t/iP+tT7E/p5+Ar9dv7S/6kCHgCt/Mb5OfvJACMGKwbcCHkF9wDuAgUEyAELCGQOrRblE7kPRg2tCVwBNQKtCaUJ+QpsDoER3w+jDYYIoAMzBUUBhf++BrkOxRXxGh4dlRdzELUHewFC+aD3Gf2fBisU1iDsIlAlkR8iFhcNxQceAQYDpAtpE2wc/SCBH1wcOhX5CpcGtgZgCIkSDxxzHnEh0xhrD2gH9gJjAt4EHAXcCAEM2goBC7QJ3AgQDXYJSQeZA3IDxwOmBusIhglwBrgDQwQyBvkKwg35C0cKiAYR/676cPqG/BL8WgStCTAKYAhACRIIqANNAG3/2v6wAnAHpAqkCukL7QQOAgH/xP2iAXEFvQefBmIDPAJUAqIAvP0o/zsFXwkTB4gFpP/D8DDwnPFG8775sAKBBIkDjf0N94v0HvQA8nzzAPOi87vxq/JW8pL0cvai8+TtdeS135XhPuQ76hnw8vDr7Xjs5unS46XhPuRT6ZLnmOo86HzlcugE7MXsWO767x/zT/BR7EvqtuxK6ynu8vCr8p7t6ObQ59/nJ+UY5DbmXOZH4wboxO7y72z09fc/8XLo2OcR44TlHOtN9E/+9gKiAbv+r/ix9LPycvZg+ywDOgYJCvoJYAh5Bc8DegMlAvYDmQNLA0EHTgyQEsgPpQgiB9ABOP4J/jH87PqIBSkJlQmsCikJegN6AlEGFAVrAUEI8gpVDpEQ9w+sCuQGFQP2AhsHaAdZB6UJ0gz/DtcQIxQ8ETcLVwm1B3AHjgg9DqgRfBoVILcgdBtnFmIRXgzKC+AONBFmGGUbpyGGJH8ktST8ImQcPxnMFxIWVxgJGS4cBCJwI/YfZhgiFVEUvhQtHZghZyVpIrkchRgqFdEN4gsYDIwMyBASF2YZ+BvxGV8X9hGiDzgJ9QQrBjoGXwkOD/4Q6A6kCnIDw/9O/yP5avem++T78/tL98H0//PY9UX0yPVL95zxLeeE5T3nDuc76hnvlu1e8KfrTuSe3yTb/9cr3R7n1etX7+Pv9emL5cviaN8a4KTj2uOz5O/mlOPZ5MrjXObe6gTra+gs6TXnXuOe35/eZ+A25nHqzO6N75r0qvQu8wf0re6B6cjokekz6u3rs/H39KH19/VA8JnpsOhb6e3qhfHp8Sb0bPOs8LzuaOws6o/s8vCE8snzC/uI+aD3Yvfu9v338/uf+vf1VfRc9Un7cwJyA8gCBQQOAqoAmAUDB3EFSQcjBRYCbv4cBDEIwwotECwRzxBrDykJdgraC2wOSxLsFekZXRtoFQsWrhXHEt0TkBMCF+EaThp2GMQWvBfOEu8PtxM7E44XFxv4Gx4c+RlJFUITaxAcEoATFBNoFZMb7SCIIlQdzBZmC1EHWQfzCIsOfxWDHOgc1BUwCp39cvZm8H3xxfp6A+gOOhUzEvIKqQG/+Kn2D/SR92j62/1qBLADLgA4/Xr2Yvcc+Kf5M/mv+NX6jf2M/wYCtwRLBAr97fjl+d739Pml/Zb7Ofyl/G/8TAHQAQ4CEf8i+3L2EPLp8b76DAbCDagRaxCBBGD7HfeS9bj2u/5gB7sL1Ai4A3MBKP6m+m/8ZAGBA8YF1AeRAgr81vfQ9A72JfYZ/q8FYgNsAOn/cvdW8k302PTu9lD85PuW/G7+Ef6u+p/5I/lK+eX4BfiP+mb/gQRBCAIKCgm3BWsBQP1C+v34QfuTAMgC7QWZA0wCQwRzAUD+vP22+hT5bPRm8IbvMe5A8Fr42v64Ah4ArvuC9YbvGPL48kDwnPDZ83L3XPUY8ozyL/KM8crxBfdh+Xn4t/hz9J3vwvIP8//zgvXv9PX3gfcP8wDz4fIP84zyNfXn9cPwMe7d7DjvVvJm8bryVfQF+N36yfQ28y7z+u7c7XDsvO9T9uD0Fff8+Yf6UfqB+Nz7nf0K/cT9zvhx+H/7vP0jBrIOchEPDiEK7AYPAIoBYAdBCHMQIhUsEiURAA3aCtMJnwZACTYOehEeDy0PIhUDFd0T1hKSD7gQaw+TDrgRkRBrD+8PPBC5D5IPgRKhEAYQYBX0FGIS6A0oC0YNZwm8CsgQyQ5UEDUPEwYlA2kFEghWDJkQPBEuDtMJBAb6CXMQ5w95EiMT0gvzB2cJFhCvEkYMnAt7DvcOBw/DC8MKvAqlCOMJrQnMCVQPYRP3DzAKEwbYANr/5wGaAM8COgbnAmQB/QOhApX+jP+ZAm3/A/ym+nj5Mfz6/Jb7DwB6AxYCYgNzArv+jf2A+cn0ivX998X6Ef9bAr8EkgHF+pn3q/LN7aXvyfNj9qf5pvuu+qH2R/Bp66nnm+Sq5rXtCPNL+Dv5RPXY9BDyy+9l8trwxuvV657upu0c6h3pmekT7FfveOuH7bLzrO956gboHueo6Vjt+fAG9oj5QvkH9bryGPFm8GXzm/O59Rb1fPNb9qH2uPZc9f/zivaE84zxHvUA8i7zmvWL9Bz47Pqs/Qn+Ofz998nzRPUc+Wf97wGJA78DDgGP+u73NvSE89/17/Uz+TL7rP6ZA5ECFgLQAWH6Yvc091r4If72AqMMcxCTDvgMYAepAqv/TAJ3B3YJgw6BEYERxhPRDrMMpAqCAucBDAbCDXoQmBK9FcgP0wquB/wFrQhZBxoI9hHsFH8VMBn7Fh0QQAnuA2QA/QPyCYoPBBSfFNcQVA+4EM8QKxRLEcMLeQWaAToGJwytFi0e/h3pGgYQegK2+jP5HAXXEZMbMyHjFz0O3gT3AHoDZwgHD+cPwQ7ECLADuAOfBQIKLg5FDoYJN/9h+nD6kfbN+wsH2Q0nDcoL7QRD92jtr+r39TMEUhNuGZERpQkJ/3P1W/YJ/yMGGghCBWsBw/7a/lwA+QvjF28WFRGZAyT4yvE19aECXA4CF2oSMgeu+3v0gvUx/PMHDhCrDGMCB/Rj6B7m5O0B//MH+QqZAhnwu+KZ2ijin+zW96IBXAC2+XbviOqv6gzrpe979EfxFeny4bTi6eR27/n/QgUVA3P0TuTJ2CDVBdyg6aD4tftq97Xt2eVA4pTkdvDV+VL5u/CV4g/XnNUz3Zfr5/XE/A333etI4eLUUt156vnxNPYs97vxPeeS5xXppu1o+iv6Eu+Q6nPniOq877/4pwW9CBwFtvmb8jHuKe5y9kf/DQMmAKkBBgLfAoYJqRCwED0OrQkXABz5/vZA/soMyhruH0sfjxWsCpEDuQFODMcSbhmEG48UEQotAoEEOQjfD2wbax5BFrIOtgY//9EA/w44F+UTQxLbCbAC8/yc/9EONhz0ImEhRxl1DIEDV/5qA6IPwRykJ7MoiSBgFVwO3AgADcwX8yP/KpQngx3WEukMwwqYEm0aFCH0IhUfwhqfFBUSuBCBEUMSURXEFsUVzxGyDaMM4gpWDIwMHg8cEq4VbxdQFkwQ9gO/+J7tcep98Lz9zAlRFfIYRQ9TAz30VeUG2lHez+k99UQDsg1zD48HBfib5bbdatwh4pbuOP5nCH4KMwTg9DzogtoQ1WXXV+EQ8kUARwuTDcwIE/qx5gHVc8stzAjWweZJ+/kL3hGiD3oDa/VW47LXV9ST1zbmsfSXBloS5RNlDYoBIPEh4vXcetsn5Iv0Cf+uBsgPsg4oCuAAqvTG627iV+FM59j0MfywA40LMQiwArf4pPCw6YPmDen87KrzUfpR+nH5cfkN+A349/U09rTw3O2B6rHmYuo57XP1FPnU/Cr7mvSk8Z7txO5n7xnwdfL58XXx2PUG9r/3jf0NA7kA7Pq2+n3w3O1W8S32FPmI+SUCyALmBJUKqwxnCbgCEv1r9ovzgfi7/ioIxxFZFZUXrxLnD38HRAJaBVoE6whXCtENWxAFEpYVVxgAHFwc6BvLGLEPQArpC5QLsBDkFQ0fEyI8HqAf+RnyF68T3hFcDuILHg/ZDFsQFRExFnoftyCYIC0ejxTaCuYEPAOvBAIJmg41DyEXTxloFcQWExXCDS0CUwNSBK38b/xxBEUOWRTyF/sWsg5RBiH+RPUY8h/zM/is/eoKaROTDpwLYgNsAOn/xftq90z2zfuF/rUI9w4RC5QLXgu9B3kErP6P+hr8vP1bApgErwSZAtgBSwNSBXYJsAK0/nD7F/Q+8rryuvNT9/0D2QwFEsgPkQKZ9mnryuSx5lHslPIi/IAG2QwwCmsCTPbs7HPmUOFO5FvotO+D9EH8iQOTACv6F/Mz62biWN/64Hzlz+ls9OP8yv/b/EX0Yezr4AXcDtmu3wboiOtX8Af1p/la+Mn0K+ui5d3ead0J4tnkve0X81P3zPyc/yr7B/WA6yjjEuCV4lzmxe29++r+FQRiBC//+/uS9cvvI+yu7ALwwfTH917+kgHeA0QDhf9w+sTvzurO653vFPjdBV0NgBPHEroMMwSZ99D00+8J8cb4zgR4FI0ZyRzBHFMRYQb8+nbwrPB69lkGBRJ8GwwigxykGQQTfgm4AnsAkgFxBewHwwuXFCoWGhYRGc0V6QynBVUAKP8rBgcPkBPnHo4kDR/PH1AWCQspCeQGugx4FNIaNR2THJghSyCQIHMdzhJ7DrUI6glGDEwPAhfMF44WSBe9FooPQAqkC6MMqg1GDN0F9wHS/+AA9gK+BeIKCAzvDsINhQqtCPQGiQSd/Tr6/vZs9K/5hf7cB48UAxZZFOoKYgOu+p3v8+0S7yv5IP9VDVAWahGDDxwFHPn87JrmFueP7Fv3SwSdCpMNfgomAcb5xO6w6VzncepR7Wz0pP5I/Rr8S/jx8Unsa+iD5snmcuk76znuJvRa+DH8TPUh76Tw5epR7GrqYewS7r3tdfFg7a3uCu/a8bH0RPbu98j2OPBg7XftS+kp7kbyofYG9p78LAQ9AcgBdv5w++D0rPCV7/Dzrvpv/ZgEvwSM/2D8WPvc+6D3afkAAEUAy/6e/FsD9gMi/MX6K/pb9/f0nvu4AtsJkw3fD+kMFAUo/4j5/Pq3+N355PsOAlcKLQ+oEpoO3AiV/Wj6v/hC+Qn/NQFBB2cIzAmOCagENQGu+hz5hv2xAagE/QNqA6gDLAOd/XD7hv3BAJAEzQZWC+YDqgDq/bj21/Zb98X7w//XAyUDBQTa/4D5TfTL8KH1z/bb/XMBQQd/CGsCsAOO/Ab2N/JA8Mj2bv6uBiURchGdCvQGKP9x+ND1dfEH9O72b/zUB88QphU9DtQHUfuz8aTxwvJv/D0BkAV1C6IPPQ5SEgANEf7u9/jz3Pt9/38IcBRPGT8aYRPnDwELBAXIAVkG+QveEREZ6RpQFuENhQqPByoI4Q2vE8cfGyLvHJsaehBnCUUBjP/rCPsWpyGfIR0flxTgDgsHDgGDAbADWQezC9QWyhkQG5gSSAgmAMD2/fgB/0oGNwuRELcTbxfzFfcPxAjd+tnzqvS3+BYB4Q1xEuILcAch/f/z//OO7hjxa/X0+v4BJgA9Aez6mvRd8j7zhu966ATrNvPc+9gBeAYo/mzzmubb4cLk7+ch7z/xifj8+Sv6K/oO9QzrbuLz4DfjIfC/9+n/WgUp/ZL0W+hX4Snhcd1e4jTo2vEy+4/6OvqU8n7vuean3FjfuuQr7EP3Tv/d+qPy9ui65fvfR+KI66Xvx/e8/ED+7/Ug8czuFeiu34/f+OTt6kn69wGKAuX4cesw4sDaWd1l5YHqlPLd+bb6YfkW9X7vheN943DsAfGB9x4B1AhBCM4EpP55+Eby0/Dy8Lb5UQboDmcW8hePFCgLcQVY+yP6UP2oA+4Q2RqNJ0kkJR/HEl7/Q/g6+hMHlhUEIqoqmyjeH7wXZA7dBWQBcAcfDfoXlyKnIhgouih4I4waORb+EA4P6xdLH00pzTFmNcwyXyY+G0gXHRB4FcAeTijaNeE2bzN+JgIX4gpnCF4MTBDSGtMlcyt1KJkekBMgCzQDfwgPDqEQGRiEGggbxBctENcDCf6n+Jf6Xgx2GJMcEBuPFNoLBgLP9+vt3ull82QBUhJHGAwTgw41AVv3Uewn5HXjROiT8yH+dgoBC4sAc/XJ5pnb19r73tnkUuqU8Q34kPnQ9eTtAuGwzbTGkcz22mHrqfbO+Dnui+YT3mzXEtOW0R7YcN/H6avxJvUY8lzmeN0d2lzZDdy23gjkt+qN8Fv2uvKK6JHaas460N7b7ugm9Jf6j/qh9vLwgenj4Zjc19ql4crxsgCmBiMFT/6q9IftcevM7m/vYO429I/6qQKFC20MYQV4+sD1yPam+38HTgw/C5YH3wG1CEoF+v02ANX5Cvx6AuoJ7hDXEF8KvPwC/SD/0v+PBxkKhQpeDJoOiw52Cdr+RPYu9L75CwjUFpkfNR5EEdcCY/ZN9H79cgPpC7gQNBEUEywRBhHAD5AFK/qp9RP7oww8HmQqlCfEFuYEYfq0/p8Gug3PEIoP1xAiFrsZCRisCur95fjF+nIR9SCrJ6wm4xbTCXoCQQiYEkgXlxSREPgM3w90G+YfZRuZEc8Dl/qDANgOiR+iKlAlYRQzBYD6Mvrp/3EErAowC2oRpBkNH/cd2A8T+xXpGORC7K8ERxkpJZciygzd+dLxD/R4+U7/lP9//B0CZgupEIUYgBTuAvzs5toU3RvstAphIUIiMhUg/63udOXe6tb3igGlCCcMCQt8DHYJJgEi/HTzS+qC5/rudv2SD5wZExRsAKfqz9pV18nmnvwkEjAY9w/K/5r0EfA951/hLNxo3j3m1vcADicaORaF/7beDr45tUjEl93K//MVpxOXBmjt6NeozeDJt85v0l/h6POwAhAMVA8pCbTv6tS+wnq/p8406UQDChcXHBsUbAB94g3Om8jQ2ODznghOGgsjeBVkAIbvAuGx2XLb4eSV75AEzRVPGGUNBPol6LvVptHH22bxbwn4Gzoj6RncB0ntwtZhz9HXkOov/zUQOBjeEvMIUvm27BvsQus472P1zwMcEqUXdRlLEnEEPfRi6pno4fI7BIcVZB08HmYYngdR+zDwh+zu9r0H4Rp0KpguYCPnD5MA0PV79MT9hgj4G7QlKCe0JkQfVxeMDCoIrwRKBS8M2hisJrEr+CkHHZoO9gPc+zn83QVvF/8qzTCRLcYhRQ9bA1f9L/+9CFMfOy4rMN8rThrxC6YG3AceD7wY9xwNH9gdixzUFqsLlgceAGD8cwGtCf0RZhgJGf4QlQnOBfcB2ABO/1j87wHHA5YHAA1QCNr+9fcm9W/u4vF4+V7+agNyAyL78u/W6rrkBugX9CH+QwTAAuv8Q/h18sTuV/CL9BT57PoWAeYDoAO/A6gDKP+h9crxZvDB8yz30/1aBCMGNgBN83Hq3N+931TnKe/F+8ABGvyc8JLmxOCn3AniuOgz69D00PSp9af5dPOi5tDZ79ki39bpwPbK/wH/svNj6GHdc9g539bppPFR+/cBOwQx/SnvReZ24ULdAuH58Or+UQenBWwAjf2i9NXrDelr54DrUfqOCEMS5hE4CtX5LOny4sLkovOLAPIKew6eB2QBgfik8DvqNuXl6u35MQhrEEkWAhjECAz5Eu+I6rH0/QNBFsYhHCGzGTQRLQEu9GP2M/kTBgkZKiSyKdIn0hqIBovzqOnF7ez6fQt7HbwmtSMAGxsGbfLH6Qzs5PvSDA4duyd1J/kZOgf199vucevd64D6qg4TIqcvqyfVFFMDn+vm2lDh7vf2EconjjI/KHgUw/+F8SHwVPVH/s0HVhmUKPApCSecGbkArPCY6kjv9wDdE60kJS1VKk4a9QQQ8uHkweYu858FlxT4GmwbiBSeCCz4menx4/njhu4uAOAOyxgjFBQFJvWm7CTqmOrK8ZD5QgajDcgPew9MAd73RfRv7y32wQB5BZwLxxFVDXkEDgL6/PT6bf8UBYoQWhN1C/4C4/yo9/71hv1ICJ8TlRiuFU4MCvxn7r/plu6++WcI/BRBFoERlQqe+4TrfuGz5LPytwXxGewiBSAWD4n3oefb4Hbi1evg+z8MyhrUJAUhkw038h7Zic0C1PzrZwm4HjYqjSbsFGf8D+ba1VnQqNuk8BoIzBadF6oOff6n64rZcNE+1pfde+0VBHESShSoBOPuuNo2yj/GvtCp4XftE/veAwAAofaU5MzSycrOzsbd5ukO9YoBoAT5/s/2hu7T4ibfkeih9dcC6QuvEnwNmgHr/H728vBv78PwlfcdA28QhRiJGPsOp/8s8V3l9OQM6zPx6/vkBkoUZBx6F3sH5vAi4HPYFdvQ5i/4+wj2ELcS/w7dBb75u+rM4MHfZung+3sOWx+8JWYgShOQ/1jtlt9B3+7wmwyrJ7o3UzvOLkEWDv1G7OnqC/SqBpsaaCqBO909kS2FGH8BuPDn7nj5PAmTHAEvBzinN9Mlog5j/PTshu+SAb0VZSjwMDcugyMeFkUIYv96/cX6owYiHdYv3T1RP5AvYBXAAf/0s/Hi/iUQSiIGM1o94zqXKWoR7fmp5wvmdvY1D4Um9DdePRAv3BWI+cbk898r5In3ig9/Ix8xdS4zGWf8XuOdzO3Ii9iP7egGPhtxIL0VigGR6IvQKsP9wOnPKecSAdQW1RTAAZPsUtY+yTLK7dZH6v78CA2yFHUSSQAT5vXVlMhdz3/nJP6gEZ0Ynw22+hnogdSLyV7OYNib5UL6bgrMDxAGufQd22DDtb0txQ3UweVV9Ej9GQNgAaTwgto+yO6+KMaV25X3sg61FqAS2ABy8J3hMtjK1ffZ2Odo+4ESjyITIjIUT/6n5KrXiN2g6WX6hhBBHUcghh57D577wuu1357ny/YeB7cSRhpFHEIUAgo9+3Dtn+RU5xH4GAuPHAskdh4cC8j1UeWY42TtovuFCwkSWxdSGmAWSQ5e/qvyzuqd7xoBeBQyI+In2x4/C/r9IvQt9iX9hgiEDegU6x27IN0bcwh+9rToTOgN+H4JhxzvJBUf9xU/DD0Ay/cU+Bv6nARoFZQaySNOIWUTmwWQ+ZH33fp7AS8M/BPDGOkZQRXSEzYHBv1L+N36VwqoGAYlqSW9HFUO5fju97z9MwvHGKgfLyjEJCAh0x8pEFv+sfR39TADJReeKzs1Hir0GnkF4/UE87n1tP30Bc0Umh0GH6Mbigi+87blKOLG6zD+UhKpFzMTbgqH+nLoCeIC2nHjs/GeARYWrhyhFyAFruxL3PzW5+Dp8T8FdhDRDoAMIgFI9cbrN+Rs5STqJPi6BUIUiha4Cq/4ruWZ1E3Qrt488H4Cjg/MFp0Jyv9w7Gvak9e02o/s3fqoCg8VOwt+/eXrpOIT2AbaLOkQ8rD+Fgn5CyMGE/TT4VHX8tOA3t3szfsFC1oF1foH7efgFN2x4P3qe/QIBoUL0AiaAJ/zzeZ53HjeOOmH9Jn+TwOgBKn8HvTn5z/jF+Wn6nzzXv9qAzgDTv+09gnwjOp16trwh/vkAEsEcf8k97fxWuqJ6aHusfRg+7UAJQMbBygEEv1x8unroe7L9sYFmwzeEqYN4wJf9ufuYvDe/90MIRgkGaYUBgpg/Jf6x/e5+8UGyBCIG+Uh5h8nG08Lovod9wj5AA5qH0Yo6yzkG5UKwfp28DbzJQKKFxAh3iBKGusPYAi4/RT5PP1LA2YKgRkLHaoivRygEiwEwfR298UAcBV+JtIu8i2GHtcQVAJYAdMJnRfsI0ctQjBIJfsdxxEaD1QQDRJHGHMd0iA3J6kkvRXUD0kHugazDHYYsCwZLTwlnRDZ+gLvw/FiBEkc7i0zNv0m3BbL/RzrS+lT8I0D+RJfHuofHhWbBUf4quzR6wruGPiQBJ0KEw5fAqn1zusx4b7e2uLT74D6jwCZ/UzvLOOP2N/Thdts5cDvXO7L7+nqv+OX3efZvta82gPfDuCr4/jkFOTZ3vfZZ9nG3BXit+JF5hjq7OXh5GTfUd9V5XrpSez061PoiuFM2ezXUOBR7ED3Ff50+5H2Y+eW33Hcnt956hnwcfhy/S0BSPzK8ozxn+sT84DzTvhm94b2Dfcc+Cz+awGJBPr9H/pH8RHwkPEO9fcAYAfaC7cMAQTW907xKPDt8SD/LgfYD70PogfLA9b3rvMY+Uv+QQjdDUcRwwqUBan9z/4VBCIIChCzE1sR9RI/EpIPehAEE9wW+BQdEPQMdAZlBjUP6xcTI0ErtCy1I3oR4wI3+O79TQ22G7cotC1YJEAXxQ6uBlgPPhTCG/oewyADHFUVCxbhFDsa6SCiHeYYrg1RB1wHlBKqI2AryCzzJEgPNvsO9f33BgrSGtEpeCmHHGsIdvbL6avrH/pPC48USBdSDF74H+yg6QnwsP0LCF0N0gtF/BLvB+2r8e/8RQEWAp78gPMX7Z/sMvNN+68EwAKL+7LsM+TT4fvtUv89DikQgAXF7JfdG9fP4RH35AfVDYcHAwHY9bbrQOgT7KT3/QS1CHwGV/eA7BPtsfT8BXsOHBPuCg4BE/NN7SzwsPcdA8QI/A2JC+cCqfYc8p71Gfck/+sBWfpG8nPtwO9y9qIA4QXOBCj47u9H6RLuz/cNAxwFDgHo+kXtB+YF4lbrVv+JCswQxQdL+EjnGNz32P7n2fm0CVsQrgZl+tDu+eJK5OfnnfaB/sv98v3x+A3w2O1m8KrtrPCi7THuNO9B7VbxlvyfBfsBivy872Tmu+pJ87ADwA/uEOkMLgeg95DyH/rq/WwH4A75C0EHYwLKBDz+cwFmA+4DMQnnCNsJ/wekBOIEGQl0BpYB6/ud9gv7R/4WCd4SCRIlCZr8vvJb6RXoJ/NbAugOLhWoETMFRvJ165Tqn/J2/lAJ5A2FCl8KqAO7BOMIXQYNChgLfhC3EokKTQ3oBpIPNBgHHHkZfxXHEe0MnwY+Db4Mmg6ZEegOfw7lDOEN/AzDC2cIHgeCCaEJ+QqwCgYKRBAGCk8LTQbTAoMBUQfUDxESshVsDlcJHQruA3AHUAhqBFYFcwmVCl8QyRSrE6QLVQfjATMEcQs1ENENewiY/4X3YvjM/EEIEA37DrYGN/gg8ST4qP7vCOYKAAD4+UnsxO4E+aIIWwo2AO/uSOf66BL2p//RB7n8Ve1o5iTqdvaRAyMMkAQZ9qXoZupS8Vv9jgj3COcCa/0o+Kv/MfykBHkF1gRHBJ77PfuF/swIEBT/FaMN2/wE7A/lPO/5/vsOCxzdFLYGMPfu6bXnMefi8H/12vd/9dr3h/TN9GzzBPPQ7rTpqefr5gPu6u8K9RP7zPUY8Sfsh+XW4oTlFe8v+O/7Lf009i7sDekD5+DmruXZ7PTz8ver+Cv62vfF82/1oPDn7qbs7eot7ob2TPwQBtEGnQKr+CL0fPJo7R3v3fOH+tr/KwZwBuUFxPwN+BzyiPKl9pb7rgD9BPEEjgF3AbEBPP0N/zIA6f9eBOoKLwafBkEI4QXjCEgIMgb4BXMJPQ+DD/0R0xENEVEG5gO0A1IFXwLsB9YEfAUwBG8BcwKNA5wE3wLSBGUFyQc2BigKowXuCmoEJwZwB6gLKg/rDwULfweqB3AHlRANEtsXshT+EBURchFGE9wPjQvQD1oSnRfUHC8iMR1nFnQO8we2Bh4ObhlhG5ciiiWGHSATKAsrBq4NPxN0IiYjAyO6GrEPawm3BPgGghCxFicbgxWVEBQM7gnmC3gNiwaoBCoAXAEsCnIKuQjACIn+Bv1i/18C4gvODPQNWwLq/Q712fP+9Z786wG8AlUGif/N+sz1xPZu9936tP30+QX3te5j55Holu6q9P/6cv1w++PvYuOB4gnjkuA/6pLu9fAr8vP0K+v34IjWP8271ZXhOe0w90n6aPQf6wLi2de82b/cP9wk6tLxVvne+EXtHejT4XLh1uJG5fjkrecq7bjwH/Mf+T3un/Kr673myOeI6j306vZb93b3z/ai8ybn+duO2TPV698E7JX2y/dj9RPt9N2C2dXWp9Y04izq2vfgAJn+HfZo7ADlst6w4UryXPx8DeAVRBGNCgEEqP6q+/78wAkgEp8a7ibFIqwf4BU9Dg4Pwg32ETMaoh0vISsisB77HZYVihZVDqkPzBfeHxMqxCxxLlAr5x38E40YTRt6JYApRC23KNQjmhy0F0QXDBO4GKIWqhx4GwIfvB7YFgYQbA7ODIoXmReJH0IhKhxnF8cLqQniCssR+RHvFlwWsxIgCy0QjQoYC44CUQaHB0oNDRhDGYgTLgfy/dLxgvbe/14LkBJfEVIMdwiSAeL46fje+DX8DwAOAp4B0v+h/K/5mvth+Vf9Wv+5AHcA3wFL/0D+Jf0R99D1W/b/+uv1ngGi+hT5VO6L7c300fpBAdH5wvnl61ju0+ku7HXxzeyw70PwRus158TnKOnY4CbZLNz/35DrGfBp8iTwTuQN44zdkN0m4C/kQ+ml6NPpU+l15H/nNt+73Pvm7eq875TxH/Lu75rt1uki5ojjHueS7UH04/wN/vb9rfWn8kjvw+q78HXxI/orBVYLtAns+hP0pux37e34vQiwEM8RwwoCAsr4I/l9+Df/hwdsBj4NhQqkCz0ICweuB6oGOgdxBTUJKAvBDpcNygviCvcIiQN0+3AArgc4EWETehdrD68M6QV2/bAC+QTDCy8NXxHOEtMRvg04CRAGDAaMBRcHVA8mDkgP8gmzBEYGBv0z/0YFiQt2EOQOxwRC+QTy4+4r8pn+jwbVBmcJmf2N/s369/TG8kX0gfcSAagKqwwMBncAzPVq8ADzfvafBjYOyA+GELgQ+AwhAp78HvuX+s8DPAPTCZYIEw2ADVcK3gvYCLYGkgFEA1kN5BRcFrkVSwrRBoMBbwKyBvkKzxHIELMTvBcWFiMUfhGfBaMFRwp8DbUV1xibGhsUwBAADckOMg7eEd8PAA7DCjEC5gNCBeAOkRC3Eg8OlwY0/gf7mf5PBBIIpQleBUUBqAOXBqv/qvr3+w34H/mA+o8A1wJYAS0CrP3F+1f3h/Qu9CH2VPWq+hMADPlw+lLy6+4R6cDo7uk59M74y/dM9gPtq+TB3oDdrt/W6sXl0ev87MjnBOW+5CbmQefu6Tjv8vC/9+f2DvbU9WjtWO0y5cnli+w3+XT6XwL8BXoDIf3Q7lrr6+au7aH2agTqCXQHGgGe/GfuGelB54vmEfCW9cYF4ACNA1r4Fe/f6Ivmz/B4+WUFjweEDRkJagQk/tv1GOrF7CX2W/6LBwQNXgRh+bbyW+9A7yb0a/31BOsIcwneCyIHA/vq8K7zZfMR/9MDDAUWCSMF5gTvAIL2I/Nv7gXxsfwnBYYQ2RNfENwHEf999wf0vQG0EeYRvx9iH80V7wgS9mv1XfLI/LEPexyQITIcbBTiC9AB6v0d/Y8AkwfFDWQVpxovGmEUig9+CekFf/vT/uwAjgjuF/UZQiGBGQAO1wmOAV8C8QsqFnQjYCSmIzEdTBZLER0RGg/tEksZLxqFIE4hZh+5FpoP5gsNC8wQHRcMGkAfCRlYFrgQwQ7CDSsMjg/uEUUWnRhpGnAUOAkd/tr4avd/AAsOyhrLGGAW8w8OCGr/b/Y++r/+1QXPCpkQkg+XBtD7VfPy7xHwKe868+j0A/S47wzydfHb6K/qi94I5APmeuli8cXzCPIk6jzp0d4q3jHab9na3H3jiuei7IXpoOLx1afPstBW1p/eMuWT7MHmbeSi3z3YNdKT0JDOm9cs4zPxO/Iv8lfoZd2H117UtNue5ubvKPF18v3wbPOs8Bb23PSe9GHzg+278Hr2Lf3fAb0AogAr+u72+fi68wnxhvXF+hcApgcEBZkDbAdL/478Ef5V+6oG8Qx5E68aLhWKD2QH5QV8BQoJcxCNEmYZqBgNGcEV3BVQECcUaBXiEWoZXhl8GyAh0iBBFjUPZgpwDU8SYxdlG2Ad4xYnGkkVLBLTEfgNhg8uDnESDhZAGLkWbA1yCgAHzv/xBYcHuArmC6UP7w+/CwEMdAaa+3f7sP2/BN8JoRCgEa8MYgsyBtb/HQIcBLcEMwviCuwN+w6jDQ0DX/0y+/T6qgDRB5MHZw9UCSsFowWG/eH5E/Qu9Or3VAL6CWQOlAypAsj28vD87Onyi/Mu+pz/sP7L/rn8dPpy9gjzsO8o8Tb0rPaS/Ef/B/so90bywO977sTv6vZ2/Rn+gf/I/av4MfXQ9cn0RPU59dnymPH98ZL0V/2x+27+/v2k+PT6cfno+0v/GP8GAq4A3viz+d/2lf3oAOkEuQjYB54BU/0J9xz4DPri/k0HPAkQDRgMUQY5AYoCR//iBPX/gwfeEQ0SiA1gDm4DkvtP/qr7YAHJBhsOfhE1EHsICQTU/MX7xfsz/0AD5wFE/aYApAR6/pL7dfgE82bxjfZU/BIC1AdkCKcFWv+w9/jzaPNV85T4XAGfBZQFIARv/Q72q/IT8x32xPb9/l/9tftE/fjyuedQ6L/jxeWS7rD2n/lX9xX3du8r7KPrFeme54HwaPP19x/5//qj+XP1evCQ8pTxDPN7+xL8VwIQBcEAGvzF+tP+gAVW+VT8GwZQCcQJfwfD/875r/hT9x77oQJnAiAEPwteBWYEKAMbAI39gf8zBPgG7wf0BtMCFAWPBv0EAQR/AcT9Vvig+Hn/KQkSEGAOdgm3//f7R/5Q/NcCXgvlDJoOBw6YC50JFwfZBXAA2gRsBoYI4gvfCfwF6QQcBOEFaQWuBiwEXAHbAi4AmwYyBz8FZQaaCJoI4wl0BwULwwsjDZQMeA2mDeYKcwm6BlQIuAp5DLINLBIBE8MRdhE9FsIU8xZJFbcSxRSHFboT2A/ZDOUMoAvAD6sTQRWlFs0NpAr6CVUGFgkVCxsNvBAgCycMGg+0CigEff89++T7hvxUASsGNQj2CRIILQLMAvr8Q/CP7VTuV/aRAtILdA13CB39ufTr7d7wK/LB84n4j/t4+Sv5tPav8U7x3fJ39Uz26PTK8dfvXurz7Qv0z/bM9YTySe1B7e3q/ekF8A/0hPKx7gboJONa44jkOeZW6hjxOfUt9cXss+MZ4S7fE+XC8hz56v57+3LvDufa43Tlp+s17uDzF/Mt79DuwutE56bsgPJm8Q3xI+to5cPid+ae7ZH3Gvxc+2vv4umn4z/jBu/u/SoIEAYb+sbr5N7d3TvqRPWABRMORQ83BVj7ffD56n3xY/xAA3cINgc+BkADgv35A7wJCQv8Bq4AAPrU/AsHJxQoH+Ei2BypD54AofxfA98PCSA7JyIqQiFHEpUQ7hDsFaggtSOUIPscXBYUEz0WZiAMKCAvTy3sIv0YFw1JDuMWJR8YJ+wq6CL4G9ISBhAEEwga+Br+Hp8iyRsnFPAN/w6JETMTXxF0DWIEHAVbAw0KIBM5FmkTig/jAqj3CPn/+68ENg2HDuILnQrl/3X5WvLv9TD+LwarC28JAwFL92bx9PMR+KX9Jgco/hL1KvTX9l/9IAVVBs8DGPjC6zjpgug+83EFgRHNFSsUbAem+nDtLOnX77P45wg1FgEZWxHvASTw3up66QXxQP0AByIHBgLO+fDyZfOz8uLwb+9C8lbxX/Zl+lD96PS156/dVOD/5bDvJvyeARUELP/J9Fvo3tyszS3T3+D18XkEchHXCmD7IuYe0tXITs6E3VPp7fmQBMUGUv8C8EHYBsyFxqnLa9nV6zH8EQOaAbz2jeGWy7LCEMHv0VfoXPtMCeENxQep/B/l69EZzHfKMNt39A4ImBPYFmYK4fmb66bmgeM44o3oe/R+A1YSixz9GTgQivz+7iHpFOrG8jgC2QwUGmEi7xzxE94KmgBj9b30Pvo9CMsRRBcrG0kd8xUjE2APzwlPC0UOqBGNGccfJhyHHBEYeBTtEmET3BWlHWYfoyKLIrAfax7yFzsT6xChEIwTJhwgIeYnNio2KfkfSBcQFJsTrRAwEpEYAh4gJxguLDT/MUQm/hYyDnQGtQfRDr8ZpCZRMTUzZCsvInQVLQlXAukEUgs9FqAZJxosGa8StApPCoMHjgI7BAkEFQQHB+IKswUiAVb/Q//t/+EGpAR/AGkGOAljAkL60/a6817xdfGB91j1lvXe+I32KPFq8WTtbere6jTob+hB7UbyUusL5s3lj+YC6IrvsPBR8/bvXuIe4HHkeuIq5nft2uo87wDyZO396WLqVebT4brdt9wA3erhGOuV8H/0YfOI65LgONq01OrUxddX4QHqcfEa9dXyje+B6Wfg0Nj014baKeGQ5LPqSfM494/zafK+7A/l8uE84lvhJ+VT70v3JP+WAWv91vH56vLiR+L96q7zH/rI/eAAL/+c9xvzLvSk8a31CPpI/IX/uAIcBbgJ1QbYB0MLlQogDBwLHAW3BfYKkAxUFhwZcRPEEIoQXRTzHFkbrReJGbMZ2hn9GNIZgxXLEQkSnRiGHfghgh66G/QahBtSGUYbpR5GG2IYeheOFkwWih0cIXwiESAZHxMc6RnrFvcOUQ1BCGQHswt1EwMW3x0CH6UWXA6BBAX35ve0/t0FQRXNHEAYVRR6CVj8Mvti+MT2sftKBlUOPBCUEhsNiAWp/In3rvRS+JD5M/jF+1QBZgMBBBEDigL6/Un6Cval9bP4/wA5AbME6goOCXQHjgG++WH6nf0WAb0IIAxBDqcMlgA5+2r+0/1z/DoAzfpa+Hf1f/WR96D+UQD5/qz3pfUX9KfxOfRn9vT5+v24/kj8NvsO9TPxtPCY8cnzRfSa9InxvPWO9bD3cveN9iTwwexq6evncOzd8+35HP9W/9P92vf98JzpC+Ye5yPr+fBi96j+0AE4A3X/RvqQ+OLxLvSp9hT4dfkU/+MB4QVNBtMDQfyV7yzqZvER9/MAkQNO/0366vdi+Eb6qfz+/akBsQEh/d74s/m1+1r5ggIOCCUKvAkBBIz5t/jB+6oAEQsKEGYLtQhOBYcAV/08/u34tvJl87r5TP1LBOUFiQNY/F7xTuvP6dXrz/B/9R/6XAA8AhMAxvjo7dDmQd8N4/PtqfwwBPEFVAJL/zP50PXL7x7t/+0S9SX9WgRiCmwHpQiZAjz+UP30+hX3Zfks/xICdw7jDxIP+QveC4oBrvs5+zb6uAPoBgcIbxAvEwYRxwtnAj0A/f7D/70HEw0lEIMV6RJODCwL5gQwBGUF9we0CrEPCw+mDYwM1wpnD14MGg+XDbcFaQZuBJoHlRAHFbUVMxMpCeAHPQiTB8AJ1gsTDr8LZQ04EW0TWhPNFYIXjha+FIUSmwz7CI8OohYSHgghxCWPIokZeBWaD0EO6hHwFIkZ/BtnHYkZuxK8EYIJNgbXCSQLqApsDrkPWxCNElcRyAha/7IAnf2f+ab7kf5TAwIDwQcSCLADmP+793Dz2exi6VXtNvS4/er+PfyW9erwgek46CrmH+Uu5iTp/+3v7XvupOrm6aXom+Xr5r7e9dxQ4G7iw+no7Sfrt+kt4AXbg9gr1qDUitlj4DfrJ/PC8ijqCuB22tLV7dYx2aLfW+kJ8Jr18/Q09u/t0OeC4XffdeP16g/tHfYuADIGGgGA80Ls3+Am30XmGu5w++IEDAaKAaIACvzs+v/zovPR8uP1mvu4A60IzAieCAAHRwPq/pD4JPiu+mP8yQDNB0sR1xEJCkgC8PlX/ib8HgBRBoQN1gufDFMKhgnPCicGmgeOCKQLzgv8DBwM8AY6DZ4OGhBVDpoPZA6UDHMJFAxpDYYPJRE/EkQQxxJOE/USuhO0EYANKAquDg8VuBfsHP4lJymPHKIWjg9KDBYIog40GFIgeCPaH8gdQR1OE+UMAw7jCVcJhg93FnEhwSM9HFMRAgpuBIUK1Qx1En4XJBn3Ff4PoAtvCfEEiwAg/38BRANfCaIOdw91C94L8wjMAgD6V/Ai7gf0cPtNBwAHmQKkBJUCqPdA9pTyRO8E8wn4pP70BjQKQQjvAVb/Hvvs80vxKPgW/LUB9gP7Aaz+2fqi+xP61vfW9xjyevY5+6YAdgNcB6IHYgPI/MT1xvGV71j1RP2k/k0A0QBD/nT7L/gw8A7ocuLZ5DTpLvMz+KX1s+oN443b3Nis23DfOees6ervX/ZK+fb24+hw3g/YQ9Va3ADl1+gi7gnxrPct9ZHvU+iJ4oDd9dt34LXmIu4d75frNua06BzrBOsb7Anx5PR1+Fr/S/6n/836F/rk9CDxG/M7+D//vgWgClcK4hETB6n9lgCK/Rj/4/1T/gUEfwirDAEM3QzTCdgB4QbhBogNjRErFOgVcRKLDg8H7AcD/Of89QT7CMoSYhk5HUkdnhXuAxz4R/Dy8Pv7TAlhFOUaZBbFFCkJGvvR+Q/0a/1AAicM7RNnF/kZXQ0KAvDzje9Z8676Agl9EicaGRggDCYHev3g9I3wO/Gr+PkD5xZPH2YmIBqFC6T+LfWb+ur9KQmrE/MdnR+YGh8UCQoJBLH7EvzXA/MORB9fJqgm/Ci4F3EM4QZNAMYFAA3XGP8jySprLC0leRqmDdkFQQFICHcWqyDaJyMiURucEogGQAKJ91f3XfohAuYS3SHIHj0O5wIJ8PzrtfWTAKsSWxG0EB0RnAvsB6AEb/w67PboV+8J/xQT/RKfBqvyw+JG3kjhB+fB87b6ovr69l74qvuJ+JTrd9lV0LnRheLn9X8HdQu9+xPshN1S3RniruWP5h7nHenu7xz4wvm78P/e08bEvb3De9li96ADngcF/1PwudkryEvH1Mrp1QniKPH3+yoHAwGO9Z/kgtN2zebUh+aH87T+0/169+rpEucV6A3qf/Tc9FD2EvaE+hMAvwN3AFv39elq4trp5fjIAiEQaxZKFJEJtPY38ujs8fFO+GcBxwPP/qECyAE6BzsF6gmFCsgIbwkjDX8WJR/AHa8MzAFF/Jv5IATXHmsr3ywWJZoVtArwBpUKBAYOCEEHjwfcD7ob3CSdJu0aSgY/+DP4+weEIXY0vzXvK1wWIwWF8Y/zAAb9Ec8lJzAxMpQoHh37B8b4+fBG62bxlfd6ClEcZia7J4UYQAP/8x3pzupz/LwR9CIHKhwgHgjD8OfgqeDv7hoI0RyoJ0smGRj3B5j4p+tl5cznwe36/HcP4h+fIvEZow2x+53vXO1W+PsI3RrIJDQgAhGw/Sjwmegh75YANRdgK+ss9SCQCwTyeN111pHiWPudERcc1x8EFMcEnPep72rwhPMK/VkH1xDUDjsMpgY2+0vxaun/7C709v3vCNISng+4/mD1SuuS4LviuuT67hT4Hf12AyEDQP3d84nwNOmF8C32ovuR/lfwOPAb8y/4+gJgCBX+VvKk4rPWvdiG4Dbt2PuoAzUBovvu6bnfFNXV1iLntfvyECoVEBNUAX/tUt1Z1j/cEerv/HMJfQsuB5T4b+gY3CXaBePL6N73JPjA9jTw3upX6f7nJPef+VAC4v8V97zvrOgt5w7nRvN7/HQHpQ87DBX+Vuub3tbblt/A7v78+AylD6oALPfp48jZZ+Bb8DH8GQpPEhEL3gQ3+frvvO9O+RYITRXyHmQjTRsDDzT90vip/SoAQQ7DEbgR6w+aD7EIzgXDClYLBBR7FdMYGxUnDaoNZwizDHkaxihQMxsxVyXOEzYH5wJMELAl2jRvQQE2hR+GCBf0Ke8n+ecP5CmmPyVCrTNaGhr7Megf5YTy9w7dKfc56Dj2JXcPS/7b9aT/IhY0J1ovEyoXFCP58+BH1TbfWfMNElwqwTGaKmETF/o+5Q7hUOfn9QcBjgioCuAArvpz9In3dwCNC24Rog7TCU0A6vaS9ZX2evfL/RH/1foM+Qf1r/Fs+zcE/w7/FZcUdQzf9ebb6cdcw7vOoe89DqUleiztGV7/fujV3a7YpOIU8eP9LP5Y9dXlodOWyrLJ3dbT6W8BKBFlE3MC6eRAxZ2w9rCcvzjTZeTT8LbyXfIt77jwzPWP+1L/gf7b79bbgsyyu4jATdeM8lgIZBVzD/YCaPMw4t7iLuxB+wsI/A3mBIf73ez/117VCuj/Bycp1kP/Rsc7PSRRB9D1fu+v8pr8bAZ9C5EKmwUHCC4VQihGNrA7ATUmJFAIf+7F30jga/V8DQknVDPoMcEr5BuGCDYGCxVZI+40/DcRJ3kMW+kM0IjOnuAPAM4hajsmRmQ4dRn8+izi0tWM3dPoIfBT9vXxw+nQ5u3rY/2oEqshOCaZH8MLyfT54mvZqt8y5vzro/J48jHu8+d75znuSP3jDzUeBCLUDwrvIczhshirRLc42tn6jhaHKjYplBmrBRz5I+wb7Ir2V/31/3f8XfNs5p/lVuth+loSPiJ1KDYiTBDaBEUBr/9AA7QDVvm36TLftdk156UBTRyVNBFD7UQFNaIcWQBr6GLcCuFR+kQYOyhsKnUgdA0t/Xr9Cw6AIdQxIDWgLUYUNPYs48LW59ll7HkFWBZxJ28y+DA6KcMYoAtiBKYA+f44/Rf7//tn/fX+jgjtEuEUExUOEK0IcAenBdQHwA+YElYLwQD+7kjZXs5v0tvokQo2Khc/kkEMMIQUh/Tr2XfSz9qQ6kQCXxhPH/MWDgH16Rzc09qR6ZkDfxwiKvIl/Az861LP771bvzHTlfDACAAU9xV+EZkJAQQ9Abn8ufQx6AnceNcp2mPnwfskCz8TIBM0A4TrTNoi0u/ZEfDBB6Ma5x4xCf7hv7mqnxmiVsDI7kIh8UQXTLM2zgvC3aG+trNKwbPk6grfJNArUhoz+Ynbw8001DzpewBuEfgaRBi5B4Dyv9vxx+/EGtH24Wf1LAQXBsgCLQIZA0EHpArXAk7y3+C008rP/9eH7AgG/xURGcAQIf486Hrb4tsh6SoATBbXHhYWdv583r3D77ynztvvmRjeO19JGzgTFX3wGtgo1PzluAMrITsvbyvVG8ME7u/K6nv18QQdGLErJTQlLZEfnRC//8rx9PPi/ooJWxgrIhsiqSQFKIEnBClZKRUmuSRDIPAblhwQGyodQSqbL6su5ysQIlITuwvbEKshyzQsQ0dCxTFSGjX8x+Lq2sXlMP7uJvZIClY2Te0vSAhN7PXcyOdSBWEhvTnEQNQq2Qza8CHUVMvF3kT9nRjpLxE1MCa6DR/zztaGxSPIp9Ut52v99A3aEfwNfgMT8/HqZ+7B85L8qgfJBgn/UvEY47DbRt0S4OTlLuyJ8U/3nvsc+cz1OPCi5sHfEtJyzYDP/svLzSzc2eRH8Wj6XPw19XTsmONo3l3eGeEq5YroU+hZ5VjfI9bt1jfcAOUH7r/3zv+0AsX7CfE44i7Rz8ZIzLTbaunk9Nb/wwPUACr7F/SG7zrzc/xICN0NlRHpC0X76uhv2UbQi9ek6oUDwxmqKucslhaU/8bkas7lzjngqPANA4gMJRDoB/MA8PlQ9sn6HQItD3UhLC3dL0Yojhby/kjhzNlB57j9+xX5LV86GzdjJfwMzfO86PnpmvSVCtwceyP9IP0SZwGu9InwF/sdENcm9D34RJ891CuZEMb5nu6664b1BQTxEnIfoiRuJy0dWA8wAyD/AACoBO4J5hHfEAYQfQQs9xPtSeY97gIDRR1LNOk9fjrzK7wRGPmh4dXdlOSN99YSTSNkKmsrjBOI+cbrlei59XoJThocKDopCRg6ADHo5dbq1Dnf6PSJErAtSj17QB0zyhlsADbtjeJw5lf2DQoNGFAWUBClAWD0iu4x9lsCTQ4qFZUXqwxwBuH5E+we5xPeRt4768L5SAlJFbMZuR1oFesPLgfl/8P3Fu7G45jj6+fN7er3XQaBCwkLPgaF+ODti+bo5ifsCfAh9uX4I/Jt6gLic9n01t/ZBOR39ZMHYBZxIBoeswxt8k7Vh8IkubHEpNyv+YoQoBinDEf/5+4s45HbGeJe8a//TwtvCP72bdz2xXC788NL3NMCExz9Lngw2SJ5C0n0ot9/2XvfgOxB/EEI5QU7/+T6LvTi+D//OQjiEvkRDwck+HHjHNYF1WXeHe9kANAIBAbA/cz1pfX0+tABbxCeHEwkwxkMBUvwSNnfxMbIONqu+k8YRi/1PBw2Wx4LAM/hVdFS1ujeEfBkAd8IfgOBAzH9vP2r/9EHmBOJIMAl1iCwEPsAvPaN95z/MQH9A+wGYgqbDakWdBsYIb4pJSzuJl0bCAYr82vgqtjv5uP97heUKP0thC9cI7QYOg1xBU0N9BTSE9oZRhS6BTj2R/An8i//6w9NG6klyicMIrgYBA0iAVwBHf61/JfyberL4S7l9vZhE9QqCz+rRJA9/izOEr373uqU42jtS/86Bk8RYRQVEmcPhQomB+QHcAe/CpYHOAPK/0H7dfib8nXy+/S48ALvye2X+cAPrSX3OfNAxTH/FY3wZdfXxXzB2s6B4x78mAyaFTEXjg+zBdT8WvGv8t3lZ9mH0QrL4Moa2EDiZfM9AQUE6gP2A3QAtP6gAxEEjQNY/MvwDeOg3OPTWdcn5Uz1ngjHGWUbnRddDfsBavg57mbp5ePf4Brg49r43v3qlvz6EIAhxSqFJ6IcRBEDAN35X++g4mzlv+NR5a7tLvTq/dUGjwfCDMsKCQo2++7py9u404HUOOKt7uH55fhg7dnl4+gF+LcL9CHiLdExRCbYDqDqOMx4uoe84Mqm5igEGRi7IB4knhwlEb4Fj/QO5yDcBNeC2rrdE+Zv70z1YAGaD5QZqxoREWoKlAWtCJ8MLQnOBZf5iu9F7ZnvAfhcAEQCsAqgCswQRRV1GRoeVRsQDS4AAOxx1c3JMM0934n/8SiOR5da1FX9Q14oJQng7XzlduLH6S/4MgeNEWwbIiPuLD810zRiLv0gpRDB+97p1+gL9LQD5BUJILQeXxC5AOv8PP4HDgApfzmbPZI52CqUEoL9gemB24jVmNW/3I3wfgLEHRMwTjZbNGYmBw6x7bjFCau1oCSrjM8J+KEeFTS+Nv4rrR0rBkbz8OUf5CHp1PT5//EFMQEi/KrzWeyx9Gr+bAdqEVkV6BUlEVUGHgBd8+TmIeLS3HPfYexB9G344wHgDtUi1DmdQnY7BiUXBpzpO9YxzArThOTZ+VcJ+SCnNgw+XDkQKGsIF+2P3xnbj9jG1kfcAOWp9RwMWyViLrIqYByoC33+Svkw93z6PfseAcwJAA2uDegGavju6O7i/ek9/NkUECkvKM8YcQSv8W3dycrlwBa9TcI50lvp7QWbGyAoFiwjIdUN1frw5OPMbLR9qlmtiLpR2KX8rxLOIMsfgQpl8zreDc3ZyDzNfdR626Tbb+D24WzmEfH8+Uv/SwON/az3LfZ/+7MFDw4jDfn/vuw0233VYNkq5V3zoP7FByUROhvJKeMr7x0/BWjlLM0fwdDENtfr5mH5qRAPI902UkRZP3kuexXb/IPmCdVOzkzTIONn/ccZEzCcNSIqRxjyA8r55PtvAdcJxhPMEFUGWfos91L5sP1wDTYjfS6bNhI60TDVIhgZWxdXF28W+BSoEQsHFgIHB5sNxBegJy0yRTnzOSE0KisJGWIEqvNG5b3fL+M57eX/3xfZL6RCC07/TQA+qydEEHb3yuRm4lHs8PmbDashRSpPLe4tOiPDGGIRpgZE/WX5VfT48kfxKe9p8l35Xv4nBYANqxL/FSIVeQtbApT/B/zTAiYIOP4l9nLvVOCh2oXcseap/AwM6BSDHdcXuQgw9y7exsdxunq4RMTA02nk+vVJAGQI/A1cDrUOOwR98d7ixNONzHfRMtgM5Cbtl+sW7pL1lf5SBXgGdQXy/TzwruWs1NjDRsJ6xpfP0+E29JcGjRKVEZkK/vxj7/zrWezZ7GLwoe+Q6y3oQuRQ4DXg7+a+8uL/WAimBiD/hfe87kznVuQk4hHiheNo5brsWPWu+ysFzA+RFzYiEylOIW8POPZ33x3akeEn7Pj6cwkVEhsVJxS9FkUWXA/KC4wEavcC77Xny+KR6Mbxx/7VDJsTbiAYLn4sHiPIFisG1vc78XzzLvq0/Sz/z/7zAQ4IxwqYExcbWxiTFOYLav4m9absDOsq9M36CAUgE58aex0QGvQT9w5BD68ZoyIWJfQpqycrGjkPOQGE8zzvrPAR/tkTTCXEMu85QTJgJLEW1QW19Sjq/OUD5+3xowbSGcgswj1pRPJBWjZzHugGPPZB7W3xNvqXBhAUIxp/HJEelR7YHOYYuQ90BtD8WvJ07Bjrqu0y9Ff96QTzDzwY2RRVDuIDR/ir8srx1fPa9xf6f/sx/L/4EvaX80nz5fEV8Dz3M/lF9PTyHe+n6rbrKedi4kTozupj7n72KPeU8ozxDvXt+YsAVgTWBBoBEvw++Wv1Y/X69jT3jfeM+Cj3V/aC/VYF3wjHCucJYAGa+2L4ku4K7i707/VN+jYGuxJLGSAaThMdCRoB8/tL+MX79v3D97z1R/Fg7RXwRvIC9nj60/7eA5AF1AFR+hPsauK63rDaXeSJ8Yf6eQWpCXIDWvlZ7APfUt2V4pzphu+p7ijq0eWZ4ZXbH97C5Hzloej98UD2APMz+O/8APpq98Lyq+qd4S/dyt1W43zsuvoBC3cWvxl5EsAI7fk97e7oauMJ4mfn2O6c+O8H9RLXF4YdOR18FM4MCQu7A9T7YPWI6wfnr+oj+TwKNhvnKyEzCC/KIEoMvvp98K3nv+mP9Jz/zQ0hF00c6x1GIfolPiJaGfMO6wGD9EDwPvOe+0gItBjeJ7gsqjAgLokfHg48/m/vfuiR8OD7kQmDFooeASdQLBcqeCNvHQwUMg5VDSALiwfkB70PHhb5IFAr7S78L+knEh0XFJAL6Ad3CBsGjgnfECUX5CLJI3wb/BOFEjUX3RQLFZMb+RjbEJEQ8A0uDmsXpBhvF3oYPBchETwJdf/39e3yH/K09w79PAIhCQ4I9AYHCBUDBf90ACT4Z+8P7KHnA+3R88j2KPj8+f/7aflS8tvnlN2c1DfWn90b5VPvvvOs73vn9N3Y0QnOzs6d0vvfe+eb7FPwN+s/4z7ei9jE00bXDN3v3y/dZd515AnpUO7G8g/0see728HXtdL91NXdAOUh6Xvu3fIu8yLttus78YjyS/fL9wjyjOpI4abeDOTE7jv4XAGEBtIEv/5y9yHwQOjw5Q3jJOKp52rwfvaP+gQFSwoUDM0N6QuiByz/+/SQ6tHkOea47+/8wg3KGm8d4BzOE3oJQP3X7z7sJu3487IAmAw6FRoeKyHZIVgk2h/MF8UNJgdqBLME8QWiCIURxxhCImkpbyyzL/8q9SD7Fo0LNQLK/9v8TAKqDnkZTSo7Ncw6Vj1GNtkoARpGDAIDGgG9AVIMEh5ELBQ2/zgHMZYjTB0AFWENqwsCCoIJNgdrCJgLoRBSGZ4jdiwRLkooVRzhDGH5Y+427crxkf6/CtYaUCTGISIcLBECAwL2Gu4q7bPxEfGb87z9s//3/Ir99f4j+qD3KPci9GXy3ewG6GXktuRu6Svsz/AB+Jf5I/oJ/8D8bPrz9b/qRuS84JrfLOLT6evtpPB99yb72/w4/db3WO356dbphu569nL37fng+iL8//tn/S0CVwIxAar7Gfb084vzavA38ZX3FPmf+e34HPnl8mjseOuR6TjvnvTq9oL1pPEx9Zr7A/st/AcB7/sL+1z84/Vj75Xoy+Jh5Pvtv/dsBvsPIAzkBsP+wfOy7D3m4N4744Trbvf6CeUTrRa3Eo0K+f9X9u/ulelj6ILn5etd80UAWQ7cFYoWghA+Bkj2L+sn5N7jeukV8A79QgVeCwELAACA+aT37/Sw91H7IPi5+9b+1AGfDMAQqBHSE+IRVgs1CPgGbwGR/mf8r/gy+9gAZgTHCq0PhBSMGigY2hIbDhwFs/k38Sbup/HA/Y0S1CRMLLEr9CHEFlgI7vZQ7o3pkOsY+OwGbRMiHOgbQRWOD2MJcAcQBqYAtfxL+FX0KvQ092T7egJiClcR0hlNHHoYYQy6+e/u4OV145fyRAO+DaQZaCMQIRQarRBRB9kGLQj8Bk0GJQlcCJsFXQZqCiMTVxgMIfsjVhoEE0UHuvn88h/z6flPA6gKLhXnHdEcZRsAFfQNPQjz+1z0BPMa9QX+cwhMEPoX3hn/FfoQ7glkAIb20O0h6TDw6/VV+hcGIAy0CZcGdgNN+4b2a+/+51Doeunk7JvsDfEK9Qn3PP5LA1kG/QMZApH3+uhs3yHbHuCI5BLuIfdBAEEHvgUYBJ4ALPhq6kfjEN2+3QboJu049+3/SwPkBvYDZfqD9Mjv+Ots7c/vJvWl9ab0P/iq+jf5Zfl2/c7/FQMFBL/+avFw7G/ua+4x9sj9IgdxCyMNpg5SDDkIE/u78BHqO+uM8U37cAbjCTINpArfCJgFZQXqA5H3GfZy9nTzr/J488LyuvOB+Jn+RwuQEt8WZRMAALDvNuby2+/YieK/8K0CyA9CE1QQiAZm+BruNuz87D3uB+5f7zDwavgcBLkIwQ7PCp0CKP/cAacFsAPD/1L4lfYG9uv7lgivEiEXAxZXF7wQUA9uC776/PLS8QP1kf0GCvcOiA0MDAkK3wk9CAoJZAg3BWL/Xfq9++T76v23BdIMRBEVEg4PygyXBk7/UvhW8rPyYfNh+VwHbBUeHKMhrR6lEIgGF/q282XzJ/kgBOgN2hllGw4WkRA6DgsIXgQeCI8Hgw6MExcUdRLxCz0IdgluC/0EHwY2Dp0RCxZ8Go4XiQty/qX1S/fE/KsFXRSyG5AhNikAIhMVswz9/3D7M/87BAYJ1wn3CGwHrwsBErUWIxOcC+4DTv9LA+b+svpy9sPx0fIA+YQF3AhqC6sLVQYtAmQBX/3G8mbxA+1d61nza/yMBTgJvQf/+5fy+u9u8In3OgArBdABW/bn50zgSt3P4SjxWv8tCbMMHAWp/LD2devk5eHkxeXE50PqKPEh9lP9cf8D/ID5dfhh83PtKe9a6iPr0O5j7+3xbPTM/Pn/igJoABH3r+r/3mbbk9f/19bcJeha8Vb5FQOc/jj3Eu7W4/7hYeR85IzkgOWZ4aLeMeFj6GbwFPkt/OXyYOYf3v/Y7tqF4nvnVO4078ntoPEh9u35Rvo9AHsBPft/9ILv/+x1603tDOvv9N4DFQuDD+MQHxT4DOkFCAVdBiAFef9nAcMEqQiqDQEaoSUzKO4moR4KF9cQfw4gDP4I0Q04Ed4SPRwhJcUqsDM4NN0vPCx9IMITQg0+Bs8DkQqkEQkffyoFL/Qv1y1FKpYczxBVB0EA2v9xBHsOsxqoJp0l3CPXH38WzBCdChELNwwsEXgUgRKFEdQPoRDRDsgQPBi2IjglZx5iGUQQtQdGBW4Kcw+5D/cPew95EpsaICDrHgAbbBW1DrQC2veQ8grvxfRrATYOjBo3IAMVRQgA+hDr9+6v8ov0w/ii9FLrJ+uH9Nz7dQSsA1f+W/Zr6KvcatQ81CDVTt2B4xniI+XF5e7iB9/B31Ph0+Fs34/Y4NCAydHJLM2j1mHkauoS7yfzWO6S5l7itt1b2vvYltjz2bviy/At/cYFCQQ7+XXrheP24Rnose5n78PwA+4x7lfwoPibBqcMcA6dClwBsfR37qvrcO2A+jEI5hIYE+MPZwmCAnUE5gQFBM0AB/uc98378QQXFK0kLiNUFiUJ8/sa9Ir2nvylAjcMhhDCDfANDAzaBDwDWAGOAqQKJQruAkP/Gf1G+cT8PQG4Aq0BxfqR9mL3Bf8SAuoCtwSc//z5nPD16jnud/QQ+YYCvAqfBTgCm/qZ8EzvgfEE83P1Evyi+or1Bfjm/v4CwwRVBtwBwfv39Y/zm/lYAYgGwA+gGcsYuBFDC6sENQEFBFkH2Q2iFbMZmxuNGCIWiRGYCwANEBMDFrsZ/h7FG6Ic8Bs4EVkH9f+V/d7/XgzdGwckiiW+IesXxAnRAOL3+va9AbcM2RpPJ6YqGiQ0GLgJXv7Y+zv/SgaeDsQXjxw/GcoT5A26BST/D/rr9S/5TAKtCK0Qax7JIiYcwA8N/6r0J/K99Gf8KgitDxMV2hl3FscRiQp9/+/0se3C693zZgT3DvYYQB83GZEQRQg7/7/3q/GE7AbvSfMy+iwLAxWIFLwQZgNl8uroyOEv3XvfOOIF6Zf6yAlSCwsITALN9BPl6tvc2AXbOOId6cvwVPWS9HnxCOtJ5lTnUusA7M3sQ+rF39HXjdQK0gPSEtoo41voA+0t7gjsWeUP3ibZXtTs0ILTR9zL4cviRuSK5xLoMubE6BftGu3865rue+1m6gbvBfBi6WrpXuqC5x7ud/We9UD3qfWl7//sdevo7Qb2evbY9Nv9VgsxF6UdlhyTFdMJKP5w+rX8IQKEDBsVnBkQG/8V4A6BCpgFKgHsAOYDKAtmEpgTpBKGD7AKtwtNDn4K1AdICQsHXgUrDJ0RNQ/rEMEVsxJID40RoxN4FGUUjBOXFM0V5BWOFjYVhRFfEVwV/hffF0sZ9xzcHPwarR6+ITQgiR/sHAIX8RPhFDwYrht0G+0aFR/zI0snNiojKBUfPxPjCK8FZgsREn8VLxsiI+Ml6CKdHoMVUQdMAbUHpQ9lFHQVgRGbDW4L3AjeCk8RWhPHEYYQvwsnBmcB/Pm09z76F/tnAu4KJQkvBvEFSAIm+/Dzdu9Z7L/pZukJ6XLpcvCj+Qb9cv15+LrsxuPe3JLZ2d4N413l2uqd7xjyDfEK7k7qV+GD2HjXa9l83f/lDenG5BTkaObU56TpLOrT6Gfnn+R13XDXQdlC3jTipuWg6jTwP/EK7rHnMeC/3IjdxOAr5MjnVuqN6KXnXupj7mLx6fFo8xr0cPM68xTxLe7o5sneOeCC57rzhwCFAxICmgBl+pDx/+0e7YXpKu1O+csDTgz+DxMNuQiZAvv7g/s7/7wCRwodEZYPig8jE8wPwAj8BqIIigmrDF0UVRw0HzkdFRlUEFUGcQR9C8QW/SCEKCwteyusH7INPwWTBuoJQBdXJacpDis0JuAcShOUC/ELgw4IE4sbkCFsIw4dFRELCPIC8wGDB+0SjBoJH6Mi1hk4CiH9VfOJ8Sz3fQQyDhgMZgsxCYYBi/vj9nL2gvVa8Qf1sfx1/5MAff6F+Ar26PQa9DT3avdX9y77PvpA96X25PQX9O/0UvIk8FD1N/kv+Jj4H/qR/fL+9/va+Ln0avHB7bnuO/kyAJ0CgQTeA4UD0AFgAG3/ef8DAdr+7wD8BR4I8QvtC7INGhApCZ8F8gOg/98CegpmEt4ZNhzfFmUNQgW3/zv/3wFwB2cQmxNKE1cR/wfe/xH+ff5BAF4E9wh7CDAEpgDn/Z77rvoR/gQF7gnnCFcCr/hd8uT0Yfm4/uUFCwe7Awr8nfZA933wYvA6+lH7mf4LALD2w/F68P/sl+wB8Yv0Bfc++mX6Rfz6/JT52/Xg7VDulvWs9o788f8J/qT+S/i+8l3zPfUT+/n/5wHMAen/oP+1AbMEUgR3AJ/5avF+70bzcPq4AroFcQTsAAD6B/TV84/0tvNs9Cn2UfsK/Uf43vfY9J7uz+998FjtPe0w8FfvUus/6rDpFOo36tXrY++36gPm1uM44ufnSOf65xTypvN39Dj33PRq8OHrqe/s8yr0v/gH/Dj+R/7z/GgABgI1AjcEYgRbAtMDKAv/DjgQKBG6DQgMiAzuEBIXphWNEmwNfgokEqcTJg8lEUAQ0Q4nE4gUpRfHGUgPwQddBowEfAwrE3kSUhLUDv0LAgoZCdYL4go4CvQMpg6XDU4M3Q31C8MLQBD5El8XmhbyER4OCAYwA0oFUAi3C9kMzxEREiURIRdvFroTqg4TBjMFSwSZA4wF8AbRDUEWgBsiHPYXbhEWCD0AgPrK+RkD5A0DFuEaWxdvDyMMdgqYBG8CLwUyBgsH2AivC6sMBgrhBvUEZQa5BzkI8goADREKHgFQ/R4AgwBbAksDSwOgBK8FggkmCFUHUAhi/jv42/WQ8jT33fnE/c4F9gqMDPYD0/aJ6UTgiOTV7EH0FPhM9eHyxO9o7JTqCepy6DPkUuN34Lbe2+Ef3X3cUuPK4yLn3ev16cHlut4p2dDYG9dx1WvZHN2O4PrnE+yz6sfpYesz65Hpz+ng5TvkcuiE65L0Yfpq+PD6l/nq9mr4Bvab8y7zm/I59L76MP6m+jL6JPfn9Qn/DQNjAhkCmQIWAUL55PtTA3AG7A1ZDQkLWgsOAbb5zvnj/dUG4gvkDa4NcwleBcQCkwCxAf4IfAyaCCAFvQEiAAYD+gkDD5kKegN2/fH43fnv+0P+ewEJA7MEnARm/3z6KPhJ9OP1Qfz3AJEJNg1zCcYFa/2b+ar7KP6ABS0JBwgzBRwF0guDDnYRcBSFEYURDAwhAsUAWwP4BWYLZBUyG4MclhyNEnkMzBACEQoQbxAwElYTURTPFzAS7QtUD0gQ+RHnFsQXnhUyFGAVnhZuGFUb4hlWE/0LhggJCgMOWhN1Gn4e9xw9HAUZ9hHCDZII5gTwBgULVBDNFb4bjxuiFZAT9w77CO8HngeTB8AIRwtyCpkJ+w42FOkajh0gGqQYTQ7JAPj5XPXD+HAAkQkREpsThRE2Bvn40PTi8QXxT/A08A71W/a19Kbz2vGJ8abzmvUu82vvvOjd3bzaZd1332/nXvHi8QXwXPRD8EblceSs4UnYMtjK3JPeVuOS5rrlV+go6RnoeOuU68vouebw5AzliOSf5RHjfN665HDs7vA38hzrw+Oz3UrdtuTq6YftI+ug42Li6eNg5i7tCPPD8RXvPuzZ5N7ia+A92bvcq+NR7S76+Pk49pfydunb51juGfe4/Wj78/WI8rjwJfb7AIAGugZpBZ4By/0A+nL2c/Rg9ND7JwacC2QPgw9fCY4CiwC7A4YI4go0Cn4JwgY/BQQMzxE3Ev4QcQxVB/kDlQIxAoUEDQtBDw8VYRthGr0WbQzyAkoGLwyDFiIjwSMHHWQWvxHaEica2SEIKCEtPim3IYEfPR14HOceTSKhJTcnDis/LswrzyWXG0YTShOWFXcWZxeTFSwSERJHEjoVRR0BIFwc6BVwDXEMjBPTF3oYmRfDErgQCBOQE84ZeSFiIMQdahgrE1ITYA+dCkcKqApxDOgOzhLrFtQWKBKdCW3/cfkK/d8C6QW8CgYJ7wBb/Q3+UgSWCPMBmPjb7q7mpOmH9I/7hf49AWP9HvWN79fo7eTg5rXnlegc63fuBPI88AzsL+t35/Pgc98x4ULk8uh96bPkgN3l1mjYTuM97bHuxupZ5KzbUdd22tDg+ueI60LludiBzsXKMtEz3Wjld+3W8Nzmatwy2LPW0de+1j/UYtXi3G7pw/Bb8FrrnOIM3lTgEOQN6enrc+YD4Ijdy9oO4KrtsPfgAKMFif6n8kLlBN6B4wftXfqgCl8Q7A4IDRUE4/0SAkACewHvCM0NRgwoCv4IQArFDYATWhmpF7wRYA8MDUYM9hAXFPgUrRZQFmIYRx9SISIdbBtxGu4XxxjoG+MdOB7HGAgTaxarGgoemSaZLBorpCZzHQsVXhLpDDQKJxMrG34fyCT8IdEb5BV2CoUEDgmhCWoL3RPsFNQO1wlQCFAJfwg8CUgQKxQGERcOoQl7AH/7jf21Ac4FigjvB0YFiAZ7CF4F8wGn/+z6pfYc+Yr8OfwG/XP82foh/loE0gV6Azj+m/m3+G35f/tM/E75fPrvAKYGMAqVCbIHyAIN/8n6r/mZ/ZkCigh+EF0Udw7fCB0DvQD9BAwM0Q5lDSwK1QUaAbv+Vv+uAIoBUAGhAsQCdgNbA0UAEv1h+Zfyy+/T8E307fmZ/tb+bv7U+/r1LvMZ78ntYew17rrzXvjY9Gfuouwi51zmXevA7rDwKPDV69/nAumw6OfnQuuO7iPzNvQI813yB/Qu89Hy6PNS8cTvVO5y8MX0pPdu92H5rvu7/rT9Mvtj/CL8+vzA/Qn+4fnT98756v5LA7ACLQJBACj+JP/G/0L63/V39bLzvfTs+kQDrQkMDCMMcwh2/bX1bvB77SLt7fJi/icFhQvVDMUNnwVg/Mr4MfXd8rry8/Xb/XULJw2QCzoGOvpc9ET1s/i4AswIFQrZBskARP0G/Zn+0PvS/zgDjAVFBwkKXgQv/6b7A/ytAa8FRgzACK4AafnV+Yz5zv9SBXcOJxMmCDUBZfnB9Fv3jQMsC4oP9hAFCzIHfgO/BOEGuwM9AcH6NfWW9bX8iwZBD2sQPQh6AuP9dPtw+lX6f/Vx8uX5MAOzDAcV+RLLCo3+rPa89Qf0S/iw/bgDNg23EnoRnwxiBDP/mvuF/pIIEhDtE8cSRg1vD2sP4gqfDPgFdQQ3C1EOHxREGE4Tjg9sDY8OPhTYFhESmg9JDu4KCRGpF8YapR0RH38VUQ3xC9wHMQn0DRAUUhmWFmwVAA7VBk4F2AdGBvEFZQ1+CmkN3Qw7E+EUWxCRCWAB6fkW9fj5Av1pBZsGRArpBT0AM/l39YL2ivbz9Vj7HwZBCKEJ1v5T9nPtROdO66DxcveuAIYC9gK4/unyBuj/3hHb4NfD3HHjdu/g86f5FPkA877rteDe3H/YwNqV2qDbteD6517x5fEC6Prg7tvQ2BPf0OfY7uDzBPP868/o8+dX6C3oROGB2+/YC98h6fb21/2E+pb0d+fU4KfdyuSy7PTzTfupAYgGVQdrAdnyteYt4Lfp6vc0ChATeRM2DUf/zfQt7/Ts+u+m+yUCEQrOE2oZxRvkDpoBgv0h92f2WfoZApAEZw86FY0ZBh4ME94KTv+M+er+Mg1bF0YhvB/PGBAaLBkcGdkTDgjtBXQHags1F24fNSRBJLgecw+WBzkBlgBkCCwRthSEG6EXAw79CkwCRgXTA3oD2AcrFMcZTx9WGQIQ3wjh+YD6Rfun/zYHORYMIgskphwPFS0IrvsP85bt0fPa/ooJHg4HFXAUfBPuCeP8yvL069nyEv0MDHgVAhjzDnsBYfnk9Nn6pf21AUEHtww1D8kOPBBJB5P6rvNq8H72Fwc+FOAc8RqQEq4HfPoT82v17/X0+swCmQkoEooWmRgXDv0Ehf4B+Kfy/Pl9/w4QCRnNFZQaVBD4BpL0jue741vv6PqTB08RrRB8DSz/4/UB6r7lAuls7VX7kQqdEN0NOP1S6tbbU9Sl08Hf6vC3/0wI1gQm+1rrH96Z0yDOws9d3WnrtvooA1oFR/7i8FbkH91d3Xvfs+rp8kf4xvlD/kz9Rfye9SLnoeCn4+rpSfoBBSIBYADU9I/tYewX7Gnrue5d8o/7Egn+EL4UjAyA+svp9eMN453ocv17DyYWpB9HGLoM2/0+69ri8+AU6gT5/QvTF7gfARqMDF/9jOpy4ofe0Oaz8WcC5hHPGL8Ysgfb9XPmjeG/46vy6gMaFsUcyBdZDnr9pe9G3ZDc7uHP8KMFqhsMKCIkqRBS8oXcvNL+2e7p1ABVFI8i+ySDHQkRoQIW7o3oxuuU+cAQZSFkKxsjSxl8BaL00uoy7Rz5JAu3GpYkZiYHHGcPPP5a8uTtW/a6BggbkChmLXMkZBYgBeL4NPe/+HEE6w+5HAckZCNCIWMXhgmoA4cAyv+mAG4DzQ1xGYwhKCY0IPkRTP3f7yXvUPbrCFAdUicgJ64ikRAxAm73c/Q7+YsH7hdlG1YhGxwWDzv/3/VZ8zr62wlKEz0dUx+VFygL5wG8/B71nvWF+Kj+cgrUFR0eLiOpHosNIf7A9bz29ffvAAkSFRkcGrwYVgvl/2b4Q/Cu86r7ZgOeD2kT4A4bBzj2Ne7r7YjrY+9gAe0EvwRHA7b67vBq4gzeeN5r57XurPdn/R4H+QRa8WDfyNMOzMrPQ+No7Xv1uPZb8DzoHeKQ1gLTXc/T0zHgKuVs7BflUd421/nO5NC02jzi9+128Ovn0+Ie2YfRt8730U/bYuMF6lDvf+6b7IDrgelp5ALhLt+14OvmRe2D9FT8u/4M+qnvDOs57tLqffFo++z6ovt1+dj1Z/bC+T38ngDVBjAEyAKJA8wBQQFsBsUHAgo1EPYRahgBGkUcKBizEhkRFw2mDukTjh6UKBcpPyhPJogaMhW8EekM2xAsGY4k0yz+LHkuCyoMG1wOjgm7C/sWliNdKfEoYSHoFe4JVwITAKsFLw38GosiGCCsGJYI2v7z/DH83AHiC5ERyBewF94ZpBhcDu0ENwVvCYcOuhRsFHsVihDzB7sEIwYiCLQRJhZlFDMSTAkgBKECy/5+AnMJAw7OE8QPIQmOAn3+6Prx/+gH5wjHCjsMVAmdAjz+m/lj/GsB0gWPB2MJDgmfBaYGAgIH+y32mfaW/C4AoQLcCPoJhAWk/p/zJPAJ8Cvym/qiAasFDAVmA7D+IfYs8N7woPgF/1gBggIw/vn3K/Lt67/qSuv98BD5ufud/Qv7V/YN+KvxLOmy5ZLfCeNx667zY/xT/rL6n/MQ67znmuY65SbnN+ri6vjsxO8M6/LoWur75oboX+8h9mX55fEk6kblaeT06+7v5PMB+OHyse0A64npj+wp7kzvY+7y6ZHpJej544/llOrm6Rvss/L77ZTqfOwi5wnqN/Ij8vLvaO1p6x3pU+nw8mj6Kvv0+VXzju7/7ZTxH/ma/JH+ngAbADX8bvfn9m730/ab+d8ChhAWF1QX7hGBBO/8If1GBXAVVx46IvEgeRnZE9EOpwwlEPIRLRdHHxsixiF2H2seCxwNGOoYXRupHi8hvSOGJMEj5CLuH98dyB7zHJYcTRzeHyMpTSm5I+seoReyFb0VDBT2GOAcrR5nHsoZ4RNkD3wMCgmPB7oMrxK2G6sheBsxEMcEdABDBI0LcRPvFicUzwmZAr0Biv3j/LX8dv4/BS8GmASbBSj/NPYi9Yvz8PJu9yr7xfpW+c74Vvjb9XL2hPJL8E/wJ/Oe9Uv4lPi59BjxNu1t6nnxOfWf+kD+kf3y/v33WvF46yrmuOhz9YsA4QamB+v7Ke5+4drc5N9L6ev1EwAbAGf92vh/7ZnhQOER47nnOPBz9PL2ofZD+FL4BPLM7rvpW+kz66fxgPrAAv3+OP4TAAf7B/x4+bD2EfiY+G34v/fo+0n6GPm59Zfzu/gA+sT8tQCOAVwA3vjd83jzNvMA+Tf//gIIBecCY/2H+8P3CPkC96X2evZz9JH3Av5ICFwIpAocBMj2+u+i7VLxAv2FA/0EfAa+BksKwwtQEPkRsAkgBWb/Effm98X7XAEB/58FiQrVDd8QhhB2CkEHJgCK/Hr+uAMSCT8LbxB/DlQIQwQq+7/+Lwb4BiwLeA2lCJkCgvwE+tL4q/g++gf7Xv9cAL8EHggLAev8//RX70/wlfd+/TYH0QemB2YEYPxn9oD6K/mp9TP4/vwo/iH+dv5M/df9rfzjAnoK0wrTEFEN9AbJAEX76/UC9+b+ewhnCW8PRRYIFAQNJgfyA2b/CwAV/l4F+wgnBjUJ+gnxBFQBBf/D/3MC6gPzCMMLwxHzFdAPowVu/sn7sfu9AB4H/QuLDr8EdgMtCB8GjAWNCsAJvQ46Da8FmQJg/Mj8j/uDAFACpANxBRcHwAL+AvYC9AX8BlAJYgtVDT8LbgtPBMwBV/2Z/Rn9/f6kCpMNnRBCDcAJgwEU+WL3QQBpBs4ESwvxDGEM1Qb0Be0EagQABlUGrwXJBycGqASLABMAv/8EBagE3AdkB6ADagMLAbcEOALp/3AGugVGDTcMyQ4fBn3+pPhZ7HXr5Owg8d739/yqADUBf/sC96rzWO1E7uDs+OxF7bjv9u8X7SzwL/Ks703zVPWi9NPwse3q8EHtSfR68GHsCOu553/tSO518THvMvTP9sH0f+6a7WjsDuj66AzrSe3G8gDzm/L96vTlW+KA3RjkMuZB7ljtF+2C7r7rH+tD6lPiKuab5P3p9ui85+nrA+7u75zxSfPw8zH2B/UV7x7uxO567wDyZvcM+YP7mf74+Y78Sfs/+CIAsgbZDTMTOhS/EoQM6AfcCF4FpQn/B/YQvRVTGIYeoB/FG9EbShRqElkOMxLqEckVex1vHd4fpR3NHK8ZzBaeFgQaCx2wHuck7yQoJsoZixVdFMcY3BzhKOsrRx+0Hj0WSxhzFuwU9Br5GTocCBuQGkIaqBj5EccLPxLSEmoSaRtkHJMbNxk9FtYSZRR0FGIYQhptEw4QUgutCK8MXAc6Dm0TdBWtF8wP+Qp3B7MFIQO7A/QGdgMWAdgBuP7qAx788v4m+wD6bPvF+tr3QfUD9Xnxh+3u78rxqPf+9sT2nvUe7sfwCOtn6KrmpuVI6KDqiu5C8h33MPcA89zm3N9l11LWidvR5DLscfG68h70c+YZ4UjaLNwn3nzd/OWC50LkNOKW30be69hs33roCfGa7ervbeTa29PUSs+r1nbbUOji8Ov0CvWQ6nTl8+BB4Mrk+eqP9LX8XPtN+zX15vAS7tXyq/hrAXsIUAg7Bf3/Cvzi+KH8uvrN+voCPQBVBmwGvQEDAN7/NgDT/sACJwz1C/cPiQuEDVIMjghqBJH+HgGGAmQH+gl1CxsN4hGIDdcJzAn6CQULkRBBFgMVBhHsDhUKLARF+2cB0AhVFTcZEBslHoUZyBbxDIoI0gQQBiwEIQlWEt4RYRSeD3UMJwwBC+MPvBEoGFsXhRKBEaYHEweZA+wHZgoyDfYQ3hKOEJMVng6fDcwI6Ad8BlcJmw0aD4cO4AdeBd8BiAXWC/gM7A4sEqsLxwO5AJv6Gf4v/7gK6glZDaoNvQiIBSoB0QDN+6j+WQdyCtMQ7A16CgsH6ABRAMr/aPo1/NEAXv8t/UEBuvkP+2/9Fv0xAvgFmQORA/79IvVe8B/zZvFK+Rb8Tv+WAZT/qP5M/Ir1QPdx+Bf6Df4DABMA2foO/AP1lvVb9/D6s/9/AZQFqwU3BH3/A/w5+0n6LPcj+Vf+PwStAWoEeQSZ/X33NvRI9fP7ovs7BHYJRQg3BEP+5veW7kfwRO6W9d353Pst/Jb77/tm+Cb7LfYn8hT4p/g1/DL7Ifew9tXsVea36c7rDfgu+9QAcf+59Tn1HfA+7BHwOfTG+fD52/YK9jDw9epY5qDjAeoM7DPywfpt+YT6nPc59Xjyue139QTyovNV85LuL+ue5vroDOzr5hLuJ/n/+2b+ewAq+7T2R/Bs7ZTqzuuJ8Fz0MfyGAfYC8QV4+r30mu3z7hz5+f9bCtoLIQnICdcDm/o49zj3hPnOBRcNJRcYGcMSEw4ZAygD2Ac8CTARlxSpFnwTMwwBC2EFXwORCWAI4xAvFMYaNR2kGGkTvBENEaMUxxK7EhsOcA1tDE0GZgpkD2EUMR5nJfEh2h9pGg0S5A26DL0OBBNPGQIeESCDHSAa9BQjFC8UexVvFvwalBplGusWVBZfERgTfBNAESwRMBE1FoURahHBDuAHXAhXCRsG/wf8DDYOIRDTCv8HLQLy/Zv59vZG+kv/GP84A5QEpAPOBYsAz/2R9tXyYfM287r67Prq9gr1CvZa+WD1dfmP+hL2ZPS59QnxrPBE9V3zHPhC+a/4JPgg8RXpIucR4jfkl+zw8rD3gvbA9eDzMfUa7gLp/ucz6nrp9fBM9aTxLe7A6ALoeOXa48Lk2eVN7A/tI/Km9PXwQe7P6Dfj5N+V4T3mM+u19LLz+PIl74/m0+KE5E3mZO2Q8a/4rPcn+u34ifcZ9yH2A/sO/Vv+hvzJ+7b6mvXQ9Jb1M/kr+gn+kf6//qX8YABBAUQDnQNHBHYCkgFQ/ZH+Av0e/HUEfAbCBtILYAeiAfv7dv0S/Nj82QVkCCIOJBI4EQwUpg1XCWAH8v6G/RAFrAqDFSkXehgXFYYQyQcGApn+v/9dBvsHdA0aEPcP1A9uCxUKgQs4CQMHWwlRDkEOxA/KEmUMlAxuCkQK0wn0BfQFtwVvCAkKNAqDDggNJw2eCNQHmwUFBGcJ/wdkCK8Lgw8EDBoInwYMBQIDnQO/BHwGJQqEDGwOBhH/Dp4HeAatAZ8F8wGpAU0H/AUQDMoL4wn6AkD9fv26+hb9TQByA0EIeQUWCFcCrP3+/Z/6if5/CCEQyA/OCxkK1ACk+ID5FPkD/EEA1gRWC2MQAA4ZCZ0CnvuR/kEBdwhyA6oGGghnCNUFIgBH/tgAbwFTAyYH+QqZCiIIbQXfARkDdQQyAGQAJgD3/Jn94v4l9if6Vvj4+Ub6IfeU+Gr3VPUA+pb0hfi19dT1R/iX+fD56vbD8dnroege7cjvQvMf+XL3AvcZ9pjxufT39Fz0wO5y7/Pt++0L7dXypPB98f/tq+tR7UjuDPLP8OHyRvOA7I3vr/FR7aLzHfYc+E372frp+PzypPBa6wvtsvOf8gL3tvnj9sb53/WM8gP0hva5+8EHrgeZ/jv/Ave59Kb0PvlI/EH8of1//Mj1LPhN9Nr3U/2yAH4D3ADUAAf7Xfmh9rX1lvuL+nb+xftk+379+Pp693r3KfVm9w33n/q6+kv4PfSl9o33Rfur//H/Av7Q+1/9pvvi9//76PrF+mX64Ps4AtIEYgogC7MMPg3JBkgJgweNCsQPOhVjF7IVIxQCEHwNIwxwDgcVghesGBgapRcYGq8ZHh3tILUk/SawJrQltyFWIMUbTB5AJrcnai0TMaIqjyJaIewbqhuJIM0jtSruLNMmRiJFHQAbxxg9HfYfpR26G4YWERECCtUFkwZJBzwJpgfNBokDV/7bAvgFTAiEBtoEmgF1+MLyM+tg7WHyAvZv/Ln72fk29OrvMe9f7/bvRfRi9174GPI38aXuW++q7Fns6+4D7Rft9enY56Huue2I6/Tscuke5gTr1und7L/wkPKn8n3x8+7W6lDg9uGv49rp0+9h8kX0ovMp7pnoRuRJ5fzlPutT74HwtPDd7Gzsf+6M8l7wV+/j9sbxtPB48qnu8OyN74nwsfUO/eAA8v0u+8v2uO/F7fnxbfj69Ur5+Pke/Bv66/VB9Av01PUY+FX7vQE9AL/+PP49+432VfSQ+LT+6wFvAmMCugWh/RL1O/Hg9I32w/6gBMAJJgdSBNQBSAFD//IDugYlCoMH9gPa/kv+8gPjAeUFgwjcB+IKQwR1BCIAfv3PAlQBggJHCncHBwdmA44CFwBXA8cE2gTlBfX/dv3gAPkEhAZVDSwSuBFaEnkTwAh+A/sHRAlTCmcQ9QtPCr4MwQciCHoCPQE6BwAHjAwwEd8P6wgsA7kAzAGKAUoGIAUbBk0HRAniA00Hiwc3BUsDIgcSCDsFbwlLC/QNjxU+FJURuwuIBUkAYv/KBKMGJg4aFikQ5RN7Di8M0QdvAVUAzv8JBJsMnRDPF3gVBw9rCVL/jf7yArgKJBIgGcIb1BWNC0QJTwOKAs4Lkw3hFAcccBxvF5MO8gkRBDUCaAfICYYP+hA6DkQQSwr9C3YJlQkRC/QMLQkLB54HyAj5A+EGfweQBeYElgAD/AP8Fvxr/W7+Hf3B++f2kvQO9SjwH/NK8lH6jf5c9azv9OzC5FznXuPv5sLruuyQ8fv00PWb8w7uuOhg5rrlsecI6yPsyOds7Arvv+qF6SDj0d4c3aLX89hV3rblb+9w7HbvD+3H4jHhVNl43WLjgOQ7667t+Oxy6bzhg+bI4OriS+rI7h/ywfRo84zrh+WQ5PrhtuW06WrwcvZa8h/r9+f14nXk/ud867Tv1fOz8tXzovOV96H1J/qd/Wv8HgAN/837aADQ+5j4R//PA8IG/Aw5Dx8NPwzpCzgJ5wiSCJYI9w4JEa4OtQ9zCN4EaQXVBoANFw2SDxoQ+w4uFVgWtxLhFBMVJBKIDdAPrQ+GD7gR7RJJFhEYZBUOFuYSNRDyEQ4XExuHHN8dxB1+GFQd8xa/EUgX7xV5Eggb2x58IqciGyJsIm4ghCEoJ14h0Rz9IJ0fjyOGK78mfySrKAsjhh2ZH7sZrhwjIasgWiEyIiYdCBptGsEcyRsDHOAceBw8F9oRgRKREU8SRg2bDFoMtAoWCSQLlg6ADfQM8w7uCi0I8wcrBfYDKAT8BuQGSQdKBpH+5vf58cju3ewW7uv0TP27+Af7D/O76annUeXH4oDk5uLY33Xc49mE1hLan92E3Q/fpdnw1inSNcuFxr/Gh9Di1R7Zf9ht1gjQRcrnxEbJZ9Kk23PfXODq2lbVEM4szfPRS9We37Pk8ugl6E3e5tS21oDXwt2A5RTrwe2U6rTpvuTD44Hq0ezF7bPyVfNe8NjtOvPA9c757fmC9UL6WfPl8pPzrPaX+gz61fpw+2P2nvvI/MP/RgWIBtIFcgOdAgAAjvyu+uP9RP20A28PoBHtCyYHCAZaBNAIGw6pFuoYJBnTGPQUZA+YEisTbRq8HyIdYBwOF8QQvxH+ELIO2BbXF2gcFSARIKQgKB8+GycaMR7+Hb8Z1hllGpgZzhn4Gz8gxBdgFgMWKBE+FAga5SEsJrsnZCQIGygScRMmD98QmRd1GUcZ/xwxHY8cPBe3E60XkBrsFcAQdw9LCuEMpRBtE3IR8QuvC24KIQngB2wGyQcUDFsJsgaoBAAAUPxF+2H5FgJeBE8Dp/8E+nr3p/E09nT7zwI5CK0BW/2x/AT5xfq8/bz9Qvk5++j6Jvv3AFf+jwBFAOj62fqt/K/4lvT88lL5aPs/+Cb8bPvl+LT3M/KV77n19PmG/QH/oP/F+hr1ue1U7obvMPCZ9rz16PQu8yTxOe5R7AnwCvbT96T34PSN8Cvs7Oyz6vjr+u+X64Drw+mE6/ftwvJz9WHyQe5a6lTnfepU7qjw2/WM+A72ne/x6uvnnOkN6bXtLvQ/+CL7Gf0t9XzrnOon7Anwhu8T86bz2vAD7qvqmOrR6+nqQO+j8vXwqu0x72vvCu4z8c3toPDs7Jfs4PMi9Gf1+fiP+gL9of2c98juAOyy7CLuyvl6AsIFQwRpBkAKaQwcDNQOlBJHEZ4P/AzgDkAQPBH0DRQMqArwBqYGYgtYD9gVKxuZHn4fWhqqFJcNHgedAhMHNwtCEzEWdxaGFrgQ3w/iEWQWPRaVEfIReRIzEnsP5gq+DXwFEQTMCEcLwBC9DvQNPQ+1D/4Paw95DIELUwrxDGkN3Q2nDAQMMg1nCfMHIgftBN0MkBIdEJsTtQ8mD/IKBAYvBT0AyAE5CCsM/hA9FuQU3hJ6EO4KAQV+Ap39FP/MAbgDaAeNCmwHdAduCkwJTQ1bCaUJiwfJAJkDKgAJ96T39fgE+s36p/+JA7MEmgfIAZj/b/yn+Qb9KP9g+6r7bPuY+Lz2bPuCAooBrAPEAmAASP0d9zn1j/R08xT5s/kJ/s/+Zfrz/DD+UP1l+Tz3pvP39MnzrO9/7kTu9+0p7pDyl/rJ+zv/JASWAPf8HPhB9dnzEvbk84P0iPIK707yy/A78ev1NPZ7+6v/Vvkf+Unzaurm6HHqOO+L9Dz2Bv3k+p70yPbM9Qn32fqW/Nb3JfYu84TzTPYL9LD2CPr591n6Ufrm9wH4dvaK9rX1KPjY9czu8+en5JrgouW/8FP35v79/6z95fnQ9IXx9+377dvv4upX7631R/fc+woC+QPqA14Ep/9V+iL1FvU99Zr1j/rzAHMCiQSgA94ESwqkAxH/+wBk+775+Pov+eL+jwDMAt0F1AclCRsNSxFPEcITWQ63BRH/9fjl+PP76QWQE7YUyRUiFZURAw90DdkMgwd1BJoB2v7T/sP/XgX5EeoYESCSJaMhfBrqEakJBQSVA0kHAw7YFvkYDhd0HI4d1B2RHv0gqCApFykQ0wpICGcIZwk5D90UcxYRGXYX7BTKEkUPcQxBCO8AFvxU/EwBAwd5Cw0SrxKaFmsX7w9SDKkIZgN6/hP6MPd79Qj5OfxgAG4KAA4WDzcL+QOc/sT1TO7g7LTvmfdy/t8BtwRaBOMCbACgBC4HfQRrAu35QfXH9xT5awEtCVwOZRSjE1ITNBGnDKMG8f+v+Wb4tftw+9P9cQQhCR8N0Q6rDE8EcvfW8RbuTe0i9MH65/wt/S77+ffW90b6kPkF9235Afgm9AHxlOpJ5jPrxfOX+t/9jPmf8kvqnuBc31neMNu84OLiWOc+6y3nFem76cLkz+IT3wDdIt+k2+jXVdd32Ajd+uEs49Lj4+En3aXaTNoO2arYCdxD4oTl1eQd6SnoK+T14pTd2twj3vXcpeHN5cPpZewn7OLwvvL69VX7J/mG9WT0NvQJ+P79PgYmDgQTTBfPF4sVJxSBEiIO7w7iEgET/BQdF7MaEyIeIwUnliouI98dtRYODzALKQknE2Ygtye6L+UvZSisH5cUKwzLCpYPUBctHdceaSJgI9MefSBWIeUaPBfaEcoLwAjTCQQU1BxkI3EoISWdH1AWtww8ClkGQQj5Ef4WcRnkG1kb1hlCGy4cUxh3D0sEuP1d+UH7Owx8GzIiDSbBI3ofzxcYC7//WvlH+Fr5XAAsC5QTCx1MHWETmAzlBc/9S/f48oHwEPK9+wAGYA+hF64Vjw3DA0j8wPbZ69TmhOvQ7mXzjP++DH8P+QsJBITzweY94HzdbuJH6tD0sP6qAKb6GfA15/DdCtmn3F3dO90X3nvfNedV7HrwuvnY/Ef4KPAn5EHZM9Wu2JHiOPBA/YMHrQjt/4vzVuOL2NXWrNra6RX3XPzIApkDNANaBG3/dfhT8BXo6N/v2bbe8epS+ToHhRH8FGEMV/2V777k/94s4q3uxPxsDZsaSxlOE8YFMvTF7SHonuYy7ZTy4PucBCsMaRSvExgL2Ptf70brkudg7eL3hPp3ARQMbA4GCgYCgffJ7ErkjOOQ6i/xf/ycC2cQVxEaDzMEwvmx7iHpsuwa7qL0R/6TAOUFygtBB7UAT/5G+Y/0ufV+9rj3Cf71BMAI3guqDZoHdf/e+GbxovOv+e/8pASCCbcM6A0hCdQHagRgACYAtP3HAx4OtxPeGC0WnRCwEEgQ+QuXBioHwwtzEAoXvRzTHvQaqhXaEsgQTxJxE1kVIRhSE3oRZROgEeUTJhVdFKIWMRbJFSYWshQPFQMWbBS4EdMQew6lCb8K/hAyFSEXEhZAEfkLBwilCHsOTxK1FpYdaBx3FoIQVAnxBcACLgBXA2AIpg4nFNQWkhaIE2sQLAsgBbj+O/nN+x4BBQvmGX0ghCHDGXsI9Po870DpDu4I+VAIYhIpF/kZxhPoBs36c/RX8L7rLuw88Bb2Wfpn/Lv+tvkY8fPm99ls2Jzbzt0V6LHt1esk6ZLghNci0uXPY9N22gDlOe2I6wrokORX2nfR1dAB1bvbIeJn6JbuYvAq7SLmgN5E2WzXa9nK3XfmxO7p8n34nvVy6T7kxOET31XlKPGb+Qn/rQLa/g34h/OF8Ar1Xfok/icGdAevBWkGNwRiA2MCvwTrCFoFAQUeCKkIxwp5DN8Pbw+eCKsEKgBJ+5X2OfXFAFILuQ63ExUSzAkNAxn+Ivv59zH2HPnF+uL4k/qs/UL52fMa9MHzyvLE9Qf83wENA7IA+Pqy82ny9PKb8jv41v6FBGYLeQw4CqgEHvsZ9y70n/Py/V8KaBUOHQIeExzUFewOcwkYBbkH3QwjE5QaZx55IfYefhgiFakP+AwdEJMVbx5jJRsqnSwnKTIiXhmnEzcSrxM/GZYcxx90I9QjdSeRJiUeCBo1FyEXKhzXH/8j4if0KCwmQB/hGn4YHhZ/FiYVaxA+Db0PARPIEAYRPxOwEKIOegrtBYsH5AYBBFsDHP/a9w/04/WS9c3zUfolAmQIYgtNALfx0Obe24raoeDE6PP0pf1D/vX4gfES6MPcKtia2UPb9N5Y5nLvq/LJ8+f1cvAf63fmEN3f2i7eCOQW7nP0If3vARb1ruYi4P3ci99o5oru6/Tq9rrz7+6U693k9+BG5EHnNuxr7xfsXuka56LlkuYV6afqI+Rt3ULd5tue4CDqF+3n7mvu3et/51vieuiP9Lr54flT923xVuvm6A3q7+3l+VgI1xAAFDoOWwPg+xT4+fc7+ST+4QWwCX8PkxRwFGoSSgwnBc0Acv0w/pECVAhzEDAYdh4fG0gQYwl/AaL7uQCuBz0PnRhAHo4eIBkgE3AOhw64EGISOxMREbwRHRgEG8wXdBQmDs4L2guFC1QQRhQRGJQZPRY/E3QOLQlEA5b82v5CBWILChdbHnEZ0xFRB5L8sfWm9Lb5df/4BTEJygx5CwEE4AAh/ob29PL48oDz5fhX/nIDHQM//xH4pPEo8WbwTfRQ/I4CrgejBTz+MvpH8TLswO/D8dn51ACiAB0DYADM/PD5TfPG8UbzR/f1/jEJow2aDvgMLwba/y77tvMA8ib8LP+/BCIPeRI8EM8JdQRgAZj/if9ZAGgHFRLVEygRDQuABb0BS/64/XMCtAnNDoQTzBfuFwkRmAwgBCb88v7PAwQMqhV0HIMdNRbzDq8FSP1U/Hb+Ewb7DhcVXhPYD6gK5Aa5ALL64/2s/YH/y/6pAu0E0v8h/bP5k/PF7T7zgfeQ+Zz+jgHgABT/Ff5y9/bvZeup6APtgPIE+lwBWwLf/dP2yvKH7Lvp3+j065zwF/TW93v7If6E+q/4+PMx7l3rNe7P8MPxY/aP+gv7nvtG+oTzGPHs7FXtYvEu9HH4xfsR/gL+zvhS8nDsbOXf5zfrrO9l+YL9Zv7/++nxpOmF4kjhROih7wz50QDEAov7B/Rh7Pzl4uJo5ejthPmWAAUEXAfcAA3+uP1J+0/3D/Mk8YL2fv0oA0cKSQ7sDQAGcwGF+NT0svNh8rT+LwY/Cz0ViBQsClIEJvze94P7Gf4TB38P+hC4ECcNWwpVAAP8tfun+Rr8mf2OCdwPshT6F6UXwxGxCCUCifhx+Pn+pg6TFQIXnxTuCaECLvsI+kX8NwQOEMkVoBlrFgMObgo6B0EIaguuDa8LawmjBkcE6QV1C3gU3BX0FD0O9gkrBjwCEgi6DRoQXhK/EjQRgA08CnIK6wgWDwgTlBNRFS0XtxMFEkkV9xWbGq0W8RO8EIANjw2hEJ8UihY/GYIXmRivEvgN2xC5DtQPLxMfFCkXmxOLDl4L6QVWBUcKFwerBHAHjAT+CKsLaguKCM8DEvzL9lLy/u8a+08Etg0sEpgSagsbAMry9+ek4oLhe+ck8JMAzQZcCPkD8/WK6DzbjNXW1fvY/ePw8mv85ACc/13z/uFB0TbJhc191FfiQut881v2KvRn7uvfdNeBztXPxNJH22fotPCe9Z71gu/24XfYDc2wxtHIHdQe5kP3LQKDAX72SOdJ1yjOUcrlz+vfsOnj9s/+WQDd+pXvQuT01gDQ+NBH2+/t5gOgEeQVIg6//jrzAugp4PnisOkf+ZgFwxHeGJ0RJQmB+LTv5erQ7g34AwjvFnMd/SbhIp8bcQwp/OXxW/B99+gGBBrJI/ossyc4HqsaCQvL/uv82QaTG1UpljIKM1UqIhxBD7oFTQd2CoEKVRWSHRUnQCzTLUooICERGP0K6QROBTALyhKPI1AsuijCIvQbPQ4tCKYHeQUxDyEXcBt/HO0asRY1D00HtALkAFoEbwiFCtEOPBDnD/4PswtnCGkGZAG4AsACzQcOD5YW6RqEGmEU5QXx/9X6E/oR/4wFIAw1EGYL6gkCCnkE7QTlBXYJDw50DewH5AeYBWgHqwvaC4QMpQl5BLEBeQUWArgDAwfGBVAJKAoxCYcH5gOgA5gFjAUOArv+EvwE+uX4iPm2+kr5oANVAHX53/WA7CvsK+y680v4lvz0+Zr0zewo40fjEeOY6urwZvER8fnwIe/87DzpROcN6tHkh95h3hzd6Oat7urv6fK36RrfhdTPzIPJ3c/+2Xbi7+cG6LjoH+SV4fXcm9e52ETZjNWS2CnhkuZK66TxBOtg4DPdLNt94m/nGu6j8kT1VPWT83Tzpe+P7DXnW+kh7wb28/zmA78DHgDM/Kvy+u6W7mbwgfes/hIIlAx7DqkQIQlFAP330fKF8Rf0avigBNcQaRPVE2YLmARn/Qz5/PkOApYI1xAeHKobrBhTEbQJFwBW/8gBvgUnDfUSARqEGoodEBobFDUPIgfdBTMFdgr9Eg4dcyslLYQocx6pEFEHUgVJB0MSHCEwJsQzyjaHMXMrKiNuGQQT4xb6F1IhNyefMOc5BzhIMzUrGyO1FgcOjQtbEXIfByspM7s1xTF0KZIdrhR8DQAOchF+GP0fgSDNIoodAhfFFKEQNg79ESMTShMNEQgMrQkDB3gG1gSBA3X/7fgH9Yr2xvmG/bv+8f/b/WL4mvTz7iLtYukd6OnkB+eG7invNvTP95vzA+4U6oTk+uCW37bdvt7D4hfmeOs48DX1evY/8ebpaN/R15zUB9hw3lPoD/Nb9rvxiugE3R7Yqtdk2CrejeH+5yrtEfCr8W/v5erp40PbXdZ91avWW9t/3y3nIu1H8XfuoOnD4+jYN9WU1e7aWOAm53fun+y+7EDvE+yn6nHq3+cP5qrmoOlO8XH4pP/0Be8A7fnx8VPpRuTw5LfqnPA284f6bAD3AKYHOgfOBGQA1fmC9tj15PqgBJoPthT4GtkaYRTfD+sIegMdAmsC+wc8EG8XeSCPIkIhsB5AGBIXyA9WC6EQ1hJFHNQkqyhjLDQu2yU2HGcWFw1MD6gS8RojITQgGiRKIQAc2hh3FsYT5RP+D1YMPwxfCUUOaBVmGLsZnBlZFZsMxwT3AEsDMwRYCCcMTgwOEIsN8A0hChQF7QUWAUf+UfsK/E7/DQSWCLwK6QzhDLsL3gMy+tD04PTO+F/9oAQZCgIJEgjNB2IDegK5AIf77Pq++uAAKgcJC8UUjhe/EdQIcwH199rw6vCw9mQBbwjAEHIRFw1ACugAIf5A/hT4O/j7+xL9BQT7CG4LuQ+zCw0ErvqN7z3nRuW264H4vwPkBiEKSwNi+D7yJOmK6Gnrre4K7wLw1vfU+yH+pP4Z/mj6ffDg5aXhrt++3pDrIvv+AqUJEA1wB7X7iOqm3vzdrt7069X5Ef9CBSsFFQTa/8j21O396sDo4OXk7Ony1PwRCqEQzxBfCdv9F/PV7Nnkf+Cg6rf4HgCYBTgK3AfOBHMBIvzI9nL2uvPs7PHxBfgmAF8Jygx+CqECWvkE7C7mhOTY5xb1Mf2XBvELvQj+Aqf42+636njr+u7J9Dz2Hffd+jYA7wEo/3f83fmx9XDt8+3B8yz49gOzC8MKgQO8/Gv1H/Kw9iv5LQFSBSMFzgR6Av0EbwgTB4cHqwsSCLACIwUFBGkGdA74DVcKJw2UDMwJ4gpHCk0NLBHdEz0OYAeDASn94v6IBQAODBSEGw4ehhfAD7cFSP1B/Kz9VQAbBuEMAA5aEt4RHRDKDCwDgPmc8M/pG+zY9F7/GQoHDroNiQNS+SjwBenW6gjz2/1hBQMHGQpWDPkL3AfTCSoHw/6aAEf/2AEaCE4MxxIYGSIVchE9D7MMGQl3B0cLJg8bFDkWShRLEUQQcxB0DXQNFw5FDucQVA8GELoM5xAqFrUV6hicGWcXYhLvD+AORQ5NDk0OyA+DD3QOzAkEBRQF8wdPC6sLvAksBMkAJgFZB8wI6wjqCTUCSftm8YDrj+0o8eT6TQCKAhH/oPeX7LnnIu3k7OnyTPWa9Wv1AfGl7pfsv+po7KDpienk7Xfu4vEm9ZTx1O6P7Ijq6OYv5Mfph+3C8oXwVfNl823yju5L6YDrPuWz42rpsOme7mT0c/UU+GT0bfHc7ebozOBv4f/lh+wI8u34IvsL+6H15eq65czgL+Nz59vvNPeF/un/A/vQ9NTtuuU25SjiNecB8SX2xP3/APH/hf/0+pTxq/Fn77vwgfi4AhoIOAqlCFkG6f/O+JH3+/stAToGtArZDA0SVA9/CM4ExgVSBewGfQtVDbINUxHeEX8WshzwGzcZWxHtBe0FRg3IDwQTQRZAF2AVzRRxE8cR9RJLEXoQcRNBFZgSPBEyFKASOxKqDigL4wgRCmMQkBPUFRkYWRXvD0cKlwYNBGsC9gMBC5ERSxE0EW4KvgXi//n+ewF4BvMI0gxrED0OswscBDD+fv3d+lT1a/ao94/6Zv95BCQEaQVcAU7/S/jP9xT4oPis/b37KP9f/Tj+4AB7AE7/qgCDAeYDP/9VAN8BYQV3B+MJqg0mDhcNsg3zCHoDIgfECd4SchGWFgkZIRc7E9oLdgmtCLUINwwYDM8QtxKKEKEQbA11DNQHtwTq/XX/4AD3Aa4GNwsdA478vvmr8Z3v4fId9iP5dABMAXf7wPbb70vpoejW6hHxs/Ec+QT6TfMA8oXwAvB47M7rIu4K7oDskOus7yfzEfGW7jzpIOMY5P/l1+gC8GT0sPcI8qjpNuVR3yPdzN//5SnuovPs+lr5wfSN73jrFOpD6sXsTvKv+eP9kgHRAPH/1vc28xfzIe+P7SDxTfNe/zsELASwA07//vYR8GDumuf+6H7v6PSg+MEAEv0x/En6PPZG8qzvnPFG84vz/Pkc+Vr4YPyW+737wPYD/EH8KP6s/SH+FwD+Aj0AZAB6A0IFKwaPBtQHeQSTAOv7IvuW/HoD/AbDCzcL/w7ZDfYQLBJbES0Q6A50DvoJkw1MENUUCRnyF0EVYxAgC8INEA1iEgMVCBqDHdEbXBxPGKgRBhC5Dw0SQBgSF/sVFBNnF5UXYRM6FVMRHBPMFs8RkBM6FfIXlRc6FIcV/w7SDDcLMga0CsYTORbNFEMS0A/ECb8DFQNDBJ4IyQ32EdwWgRJLETYNnQlXCQMIzgTeAywEjweHBwkKfAzqClAIMQgzBcYFlwb9AxEK0wq8CjIHmQI4/jf/mgHvAPcBGwaQBHMCiAU1Ah4BDgEC/tT7lf4y+3j57fjT/pb8R/+V/QT52PRm8JzxrPCh9YD6Qvru92L4UO+g6r/qBOth6yfyhfAY8Xjr5ujZ5V7jKOM/4x3oi+U+5Qjl4eTQ5ovmpeFm4o/fFNyB20zaA+Av5Mvh4OWy5fLhjuCC2RTcLdrj4TDiduKb5NTf/dzt3LDbXuIu5mHsMu2Z6Hzk699B3wjkHOqs75L0xvgV9xnw+PLC8sLyDPo5/KAEpwUmATQDWwJe/6z9jf0h/n3/3wKABtILghAFEqkQgw/hDTgJZwkiCJ8GpAqCEO0SDhA8EBUSDg/JDTUQNQ9cDmUMpAvhDIsOUxHAEK4VnhbNFVkVMhWREH0LMQhEEC0QrhSrGdgcuhsQGgIYTxjeEUUPug3JDqcT8xUeHQYeCBuOFrgRNBEADW0M+xbvHa4jdSgFISgY1hIdEMgPOhUqFsMYcBXDGUgXuxmLHMoasxmsGIES6QtfCrIN3w9AF+cdixuHFWUN6glrAk0AZADXArcECQvLCl4LXgsbBmAHIwWBBAwFu/+qAJX9+vwcBK8FtwTuA8ACoPcC7/rvpe4v8uX4dACF/x4Axvl881/vcO3L79j0DvUW9ePv/Oxh7LTw4+8Y8RnvYO0z6/3pvuvF7Y3wXPTq8MXs2OaL5hjkBOsf8h32xvmv+KvxY+d/4LPjyeYp75r0qfaK9XbwQPC17Wrpl+tJ7J/r8+1/7abtxe1Q7s/2A/uA+nv0Ouwe5sTgP+Pz7dHz7PpkACYBK/pI7zTo+OSi5mvoOPDo9Az6Gvz+9qTwT/Du6R3pY+dE6KjpMPCq9JD5I/l4+bH04OZY3wPfKeBa6+f1Cf4OArv/DfdQ7/XpgueP7CP54ABRByALfgqM/5b7DPlQ/KX8uALkB3cIKQmVCeMJeRMyFVEUMxLPEOkMVQ6wEfsVJR69JE0q8iXIHsgdIRi9FlYa7h53JJoqJiqUJ/EoEiUyImIgDh5rHcoZyRyZH80iJiuiKocjBx1mGTsTURSdGHwb2BwUIc8fUBZMDygKcAbhDcAQ3BYwGM4TjAyABecBKwUBC2sQcRNRFCcN+wgmAHMBBAaWB+QHlQoJCusI9QRSBd0F9gMj+gT6Ivvs+iT4QfzPAnEFBgM4/jP5APLI6ELsvO6E8iz3kPmQ+QT5sPZj9nv0Cu/d7BvsbOVG5ZLmeOwf8mL3Z/xx+LPx1uq84GLbWd5s5VfwMvun+Rf0xeyG4VrcLtda3GTm7Oz6743wju617fTruOhl5eLjreB94zbmMu0Z8Oj0Uvhz9RHxHOsw4q3gh98n5dvur/nz++r97vdW8dztHOs765vyePpVABUDGgiBA0UBewCDAEUAkQO3BKYH+QvnEGkTpRdPGCEYUhIsEXMPWxA5FrEdWCQwJ+0hWiAtHQkZUBYJGDgXMBkvGrkcryHVIr0kLCA4FwcPSwS7/6kCZwjWErIbmR7CG/0S9gI09m/vi/SV/p0JWhP9EREKJgHo817wUeyP7Vz1kPnd+WD8WvgX9Oj0J/II8j7zaO2/6frhpeH54zTpru2F8fLviOsA5IDdRNob3pXhSe099KLz7eqT5aHZINXm2/niiudf7z7yD/S87ivsIu7I9bf43PtUAS//Yfqm+kH8vvnT/eQHRg1iErAQ6QzMCNUFiAWcCxwScBQ4GNoZvRaWFZ8THBI7ElkVGBknG20adRkCGIcVgBSAE/MWHhxbHg8chheREGQOxAjjCLoMahK1FqwYXxfmEjkIDgJqBDMFQQhqEZATWhIpCQH/gPnA9rH0YPxMAsUHCwcjBfH/IP9cAFIEZv9/+/X3H/LN7QnxePo5CEYNMxPvD4gFtvlW8WDuo/IJ/ygL/RHCDa0JZ/2i8+DzwfR2/pcGqwwFElUOiAW3BHoCigKZA90FFQQlAxH/DwBTA3IRlRchF30Zog/WBAL+/fdR+wUEPg0iFX8VnxNBCFj8c/SR9lr5dQz/Dh0Q0A9ACYoBavht8UjvUO/a8E7ys/GU8W/u1ezc7fPuUO4L7fjlTuO04uDlM+ul7lz0QPD96pPlWd1E2n/fduLV7Nj0lvuo98Hz3+i14AjWXNhY4HDsNvTP9874rO/Z5XbhCuDY5l7wtPAu9CfzAvBo7ETokehp65/rQ+pT6PjlBOvT8Db0jf3XA1EHLQLI9s3syeXe6SjwBwG4EAoXgBQhCn/84+8y7Xfu9PoSCToUyxiZEVAIqQL6/Lz9bf+9BycMEAz5CogFBwGDAdwI4A6HFfwUkw4jBpj4vPyZAskO0hpsHLQYghDsBqIAu//ECZwZQCXwKv0tVB4SF1sRRQ9RFdgc4if9LZ0mPB60GCoVSBeNGe4fKiStJIoeXxjWEnESmRGOFoQasxoGH7Ma3BYREoQNOBG2FO4YDR9+GIgTqBLxDBgLoBGEFOoYfhjlE5wLSAgyBzsE5AdIEPYRsxL+D9cCnP95+HH4WvhI/GIEfwimBooCK/nT7zrsIelC6zjwj+1W8W/v7Oym7absEu5P8GvvUOen5OLjf+Au5WHrzewg8XLvyOg84XjefdxQ4fvmsPAv+aH2TPVi6mXkFeG02rbd0+gi9BP6A/wa+yv6Y/XD6TPrLuzP7yTwrvTP9zb79f7x/wX+APrX9hjyRvIm9dL4B/vDA/gFhAZmAwX/pvQS74PtNPBf9on/yAgqD3MJUv8p9dvnLeDW4sPqOfSWACAE+AXP/s/2gu9W64zjBujM7mP2WPy/A7gC7v1i/n33nvWB8HHxS/F48qn19f7qAnwGzwnuA0/+OvpA8CjxZfIB+KkCJg4nFI4PEQtnAVb49fBj9Wv8wAhuEfAUPhQwERYIfgLJAJAEygtfF4sbaRR8FHMPhw4VC18KLwwXDtkNPQ4SEDUPyBCREIgTWBbxE7EPvQivBVYEJwUJC9gORhOtFioVHw2UBKD/LgBD/wICzAjUDo4PJgjHBLIA3/w++b76SfpL//YDjgnnDzEQxBBYCG7+7va/8X3wTvnoAO4KXhMSFx0QnQp0AJL1rvRm+CIA5gsPFSsUHRjWEnYJQgY7BHEEKAs8EIYX+xYMG+cXDxW8EGkNFw3TEMUUog8/EvYKKQlACqMNlw0sEkIUzxBSDDQK5gSNA0sDdwiuDkQRpBEEDFQIeQR2/Tn18/sbAKX9pf2/A2sB+v3R+iv6VvL48qHvzuvR6+Tsqe7b7iPyCPKV9/jzoPDm6cjnteCL36XgB+Z469DuoPDH8LDvouxg7S7saet/5xbnJehw5gXpS/B18mP1q/JR7RXo+elA6OPoUO/o9I32SPZB9PPtSuvU52DnlekQ68nzfPqk93X5q/jq9qX2KPG552rqFu5j74H3hvzn/GP91foN+H/0V+8q7QzyTvIE8mL42fpD/gf7DPqX+Uv3nPGl7pXvhPJg+/f7pvqJ9xL2pfbG+fb9vPyc/rX7zvnq92H6MP7e/2gAFwB1/xb9O//G/xEExAnTClQINQklCagKsQjCBg0EuAkMDEgILg5mEfESTBCeDqgKTQ2dEFgWJR4pHjoiOhxpFPsPnwwPFVsYixyEIq4iFBr/FTcTiw6OFvwa/h2DHd0bex18GoMcMhvWGsYaihdyGIATnxMUE4MWcxe9FkAXXBWLFUgQew5KDAMOcw9lDEARZA/NDb8RHg9nECoOGAyGEK0XxhOtD+YSchHhE7UOlg6TDkYMHw1lBVkGSwqNCy8FuQduC6MMAA5MCfsHyAEa+1P3iPl3+9gBhwdRB7IAlf1W+ODz2fL69aD4OPcC9gv0nvQF8W3yVfOh9iD4OPc+89Xs+udR5Zvkn+UC6bfpS+rj6PXj4uOH3iTbfN2M3QffVeUo6dXk2+CR24LaYtXH1EHYHN185S3oVeWH5mHk0+Gx313eo91Y3yHh/uHC5BPlXeuI6sns9Ots7BHp5OYF6nXq5Oxf74rvUO918WfuTewX7CnuoPC78bPyU/ZV9Hz6R/6L+uf9GwAO/Wj6/v3+/PcAGweGCagL1QwvDXwGbAf9BA8ASwS0CuAOpQ/FFM4SSA8VC0sKuArACVIL3gqIDF0N3gsVCwYKdQypD9UNZA6pDwIRpg3UD2IRShPpEnoR9BQdENwPKg9LEi8TrhRzF6oU/hAjDIUL+gmQC60QoRfRHIMdCh7xGdoSvxFFDikQGBN1E4MWnRjtGnMWvhRdFI8VERF6EbYU7BQrGlISwAktCLEI4goXDi8NIwygCyAFIgBVAD0BSwT/B70InQr9C6QKQALK//3/WQC5AKT/qwTmA98BP/9k+1P2GPno+wj6W/1y/uP9l/qk9/r1Z/YR+Lr6VfpG+rL6RP26+gj5u/4J/vD6/Pr6/BL2yPWs90z8xQD9/vsB4v6E+l73TPaQ+DH9nvzU/BIBLQHAAmkFYgN2AuYE/gIV/iL7cv7V+jf/IwYeB9sJIAsMBgP7p/iL9Fv3ePpFAHQGjwelCbcEQQE0/Qv7Tvn8+lv++f7P/fn/CwFA/XT67fk59IXw1vCJ8Bb11fKp9aH1aPMX7K3nJ+VM4e7iwd/v32bjY+gA5ZjjtuVL4qngyd6/2x7Zsdks2xXbvt1G5KDpM+tG7C7s4+dH6n/mjOOE6/XwY/ZP90P/jf0E+Wv1FvW89Rn33/wG/Xr+lf7+ATYAff5XApkCOfyI+VD98f+gA6UJcQxyCn4JqARNAH799v0sBHMQ6hEWD8wQbgppBjcFBwh7CNkNDRELD5kQFhb9EvELAw8fDa4OhRErDSgLaA6uDtIL8w97Dg4QPBBpFFoSrg3TEGEMdgqMDGEN5xBvFvYYhBo3GRYWphVZFbMM/w7AEPwToxTAFhYW0Q5QEDcMOwxFD50R7BR4FO8W3hGFET0PJw2jDToOLBJEECsUOxIWEMwQ6w9AEHcO2hHVDVwIqgdmBIMHRgajDH8OiRFbEFsKzgu6BQ4Ihgi+BhoIyAkNCm8JzguyBmoE5wIg/y39APpb/Uf+yP2tAQ794PuP+5f6YfN39ev1nPie+zv4V/1q90z1/fCB6vvmpeiI65Hv4fKb8yz47fI67Lnt9OT359HsI+ws8a/yXPUw96/x1O0Z6AzlQOif7NHsIvUW9qT3kfZk7UvpHeJK5KPkredh63/08fHR7Cnv+fEN8M7rD+xJ7HrpsOgx6DPrDfE47zfxsfXm96T4pPfK8sbqdeuw6KHoku5g9Gb4TfsR/qH9aPvj9qvyGPGP9MT2v/jC+Rz/ogFy/v/6MvSC9dXzqPdb/vICCAVwAN7//vzq/r//HAWqAJkCZgRTA9YEZgSDCMcL9AwKENUNeQz+CJAE6QQ7BZYIJAsVEdkUDRm3GX0Sew9KDboMbQydEN4RXA7/FbEPqxLVE9gVRRXHEkITxxEWEI8NLw2UC/gNEw4lCXIK/gnjCAQMzAmWB2QIcAYsA18DAf9n/d35cfmz/5QEVgRHBKsE8wEh/l7/ogCpATcEkQPxBEgBMgAHAHb+sP4FBDoGwAIeB0cDHgf0BnMCNQFCBkUBJgA1AnIDMAoGCcMLEAwYC9YL9AwuB/ICwwraC3QOsxPnD0gQ2Q1uCvMHDQQ1CK4HRANUCbEIVAmDBwMHXgSmB4UEcgP3AZoAgf4w/iECOgfcCGcJAA28CZMG9QQhAlUAuAP7AS0JEgi5BxkDcv0D/DD+MgClATwCfwFHA54ASwPPA6UCMQE//074U/c3+Dj2r/jN+uID2QXXCiUDGP9Q/GbxR+lO6g7vHPLN+wz6WPxB+0fxr/G89Zfy4/XP9w/0pPBh69LqeOsL7XfuxvHW8RzxUO/d7OLpfeOh59jnCepx6ivsPedn6FbkYuL64cPi8OX/5iPsa+7B7J7ujORe3HfZDNYW4JLncfIP7XXxZ++V6ablGudv59LqCu+a7tHzY+8N8U7xyfNQ9o712PsJ/pn9cPoT+pr8zvn4+ZMACwHYCFoE+AVRBgcHxAn8Bt4LmwaTDu4Jgw/MEH0SChfDEdgPYgovDWsJIAyVEB0XrxoyG74aCRJsDTEJrgYXDR4OmRBiGUYT0xdVFQwUkRBvEJERehAOEBsVkxt6EGISixX9EucXdBSuFEEWCRIqD/AN/w75Cx0QsBEaFgET4BUVEfsPpRc3E3MQ9w+ADGgOrQ8sEZsTpRbhGp4WtQ6PDY4J+wiJCp4PfhHvD60QUQ5pDCMNkRDPCeQHxAn+CdIEwBA7EokRJhUhEQwNmgf4BjUCHASmBs0HEgjFBlkHawjsB6wKNgZ//Ib8SfSQ8qbz4vjjAVABfwCDAMP3sPCY6o/m/uci7VHz+PIc8sXtxuqp5y/jwuTU5wTspu0f62LqLee65NfhIOPd5Tvq5+c153HjzuOE5EHtfPJz9ejzIu1N5o7gM9zt3W/nRuyT87n1fff98ELrvuVM5xjqlenI7gP0VfO89Wv1cfLD8fXxWfP/9D30vPWM8lbx1vFW8X72Yvip9Qj5Vfvi92v16fnF+8X6Hf2n+YX43PT69cT2KvRd+on/zAHhBeEGpgYmAcT9If1a+C//if/q/gcAXPwC/oL9Jf1jAgQGegm6DdwIRAk7BJ0C3wHmBHkEBgmeDjEQTxEGEd0UkxXtEtIS0xHCDP0KBgmkBCgDGAs/Ek8Z9hh8GyUXYhKiD0YMYA6oCx8NMwz2CWoKKg+gGZwZvyA4JjYiAxwHFSoOFgkABjAKdw6rGdAWAhGhEMcLTA+7BNwIDQtTCs8JdgLW/l7/UP2a+0f/xQAEBbYGHgeaCDwJzAKR/nb+Af/g+0D2avj990X7Bf+tAi8FAwhSBST+M/iE83js+ekw8Bf6IvxL/scERgUWCZYI9QQDAAL+WPsQ+cj2ffcR90f4YPw8/aYG6gmoCoULxgU3BDkBffiN95/6q/nj/fH/4QWiAc7/Cf8s/78DUQYnBc8DEQOy+o33k/PA7rPxAvfe/zgJ1wraCzoHdf8N9yb0aO0f67rr0+lv73L3ovugA2EGqgbhBuQAR/4s9yfylfD37m/v3fKE80n0ovpB+2v9w/6N/jT+s/is76rlDOSf5ezsEvWk/44Ifgl7B6ADqQGPAAL9zvlo+y/52fkf+kP+bQWmB30LUA+xDzML6gMmAeAAPvqG9vn3sPdT94/7OP6/A04FBAwYDEMLgQqzBJ0CHfd56tHs9+097rbzxvhvArUBDgKn/3b+5fi89SX25fKQ8nHxnu2g8Prv8/XT/m4D+QsEDdEGsfyV9svwE+2K74X41vfK+Yb94ADj/HT7qQG6BRIJlQNUAvj5nvV9+FLya/Y0/QQGRQ/UDo4PNwyeB3AGdwHFADIG0wN9/5T5W/dn9ef98QQfDWcXmRieFbYN2wmU/+r2D/MD+7j+EQPBB2sIYgr+D+ETuBctFyEXZxAYBGb+cPoF/8D9jwYxD2ETvhQ9FQoQQQ6OCfcHCQS1AA8A3v6KAiUCJgiTB2ENRg1nEB0RYQ2EDQcIogfUCHUFKAStAhUDZgOWAAEFhggVCpoOVA9bECsNaAeOAd/9YfpN+y4A4v6rBPcHuQ5OExUSog4eDtQHvQFD/5b8KP+/A6ECtQdZDQQN/A2SCMwI5wIiANn5DPrA/WgADv2dA84FjP/D/0X7mvuW/GAB2/1i/tX6jvys96/5X/YE8y32DPOX8+vut/Hc7WfvDPIi9Nv26fIZ7wjsfuiG6A7nE+xo7U7x8/TY7VrrBerk5n/n5etT7/Tr/fDF7VHlk+ym7JHv2fLx+Gb4dfIx7oDkXeQA65Ps0/aL+17/zvmx9SDx1+i46Jvs3vFi+A4C5wG6BeEFgAbBAMAC3AEWASH9If2L+vX3qPdY+3QA8/upAW8CvwSMBEQCxQBxBL0AJvz/+lD9Dfjn9tD0efgH+9ABAgpVB8IMpAtTCmIDIf5W+UH1c/VJ+lH7NQLCBfcA/gGOAS4AuQD4BcoEz/4s/4n4cPv/9C31Dv3XAhUSHBkjISgnzyUIG0sZjRHGE7AQdA5UFv4X5RoiHIEg8yTOKF8mUCUNH/oXCxaVEOMPdw/cD1sRdQy1DgoQvxITG24gMR78IlkiCBshF9oLogd+A4YBVQe3EgQa1x8sH5Ef3x6vGesXChChCYYILAowCqMG6gM7BSIBhQTVDJoOZwlGDboMOAlsB2UF8v75+Pn33PSf8hnvx/BB9QcBwwNmC0sKOAP1+M3sEeMg3GrcSOF75vjrkvSN9hn3tfVz9Gz0AfGG7pTqGOTy4T/cpNtq3L3fTuMp6Ifspe8l7wf12+/C6+7o4N/v3xPe3d2A5IDl+ORz7Vry6/QR99H5C/Th8m3rderW4k7jJeFI4Njmm+Te4t3ktOga52jsN+rs7A3qKuag4hffPt1M2sjZNt4H5lHsMe9994X3zvlJ+9D7Dvw/+F/2VvJB9JTxn/NF+4MAmQMnDN4LPBBkDxMHJQkyB3oKOQgGCfcHDwAoA3YDJwwVEcAd2SihLBQvVSlRImMXyBDjEAQTyhqVH1QeQCZUHi0e/CIlH2kbRB8YIPkZ0RUGEYsNIwYbBtIFvgXbCecQoBGtF7caNRdaGvgU9RLCDRIJ7AeRChsH4AedCRANgBSlFrAfGCFZIs0b+xVkDp4Hs/+yAAcAyP2ABVsDXgXCDSUQMhXyF3US9w/FB8v+6/uA+ST3tvpA/iz+tP7YAN4DMwsEDcMS9w8EDRcGRvl18qnvgfAd7/zzU/a//kYFMQjMDwMPzA9ODG0Fev1z9KDxU++S7e3q+PPr9eP8EgHdBbwJegmFCkIGa/zR8ifrL+Pq4vbhdetM9Un7WwODB0QDlgFnAQMAFv3Q/ET2KPGx53boWObo5WHrbOw89wv7xAKsAygEzQAf+q7zAOtW433bTtyk3MrkK+zX70H89/zD/jUBR/8H/Ov1me/W6YjjqOKA1nzQrtgx6Ir2DwDoB/cHJgcn+RHx3O2w4ubbIt/y22ndVd4x5+Dt2PV3AFAIog5ICd0Flf52967thuc06E7qquxG7NHytP1oB/gNURUYGeYSlg43BJH99vZo7KblKeg97Y32UQAMDbAX1ByNHw0gqBm+DDUIzwLE/cr4t/hm97L6tANKBTgR5hKcEvQbRxhrFnUFVfp67wft++0e7dXyofxGBZ4HnxMOHTEk0CuCLE8fuRyBC+X/nf10+4sHbwlGE/IeFyKWI9gkwydqJqYjQSO8H8APLgcM+qzvY+5T70P4kwd9GVYhpSSWIz0cERlaEscEIgDT93r3j/Qk95L73wImCIAMMhTpGTIcPhRuEUEIg/se9WHzNO+H7ALw7/RO+Br8NP6NA9cKVhI/GWUaWhMxCDj9JPhw7QXx+fcm/I4ImQpNFPgbIh11IMIaPBgxFoMO9wHy9tPv9OuJ8C32XwPFDnUaOiOSLMgsLygnIgIYIRAABov7p/i49/j6FwAFCxIXPxl2HoQajRlSE7wJmgDf9m7wIudS3C7XgdSQ1jbeV+hG8wr9BQRnCMAITgVW+ObobN6f0MDMjM4f1hXhmuc57rvxvfRE9dj1fvYo8ZXpZtt51Q/Qj8MXw0LQZtXt5PHxfwBICJgFtws9ARz5sfU46bDbcNgO0+DX5dzz5sD2Zv72ArADuP5r9hHwO+vN5ZPeLNvU0lzKyMULwwLNRteX5R70TfsuAMUA4Pq57hPmL9221gjWENb415HbOdkK6Pv0/QOREYANiQtsBp77ne+X5dDmQ+kD5+fuOfT7+4AFRgyFGbUc4h9zJWskwya0HmoZRBBfCgsHGAR/CB8UpiOIMCo/S0NHQqA8RTJqJzUeMReoEQcOig9iEdAPuRZrJD8vETuYQ4ZIc0hVPy0yzybkIjkdSRXHGH0ZtR2OJAItLDTEQNVFfz9vQZ44PC2dHxEZ5hJNFeQVRBHmGHwbyhp6H/kn0DLEOY45MDQ4LdQjdhGn/6b07fI9+zgDFwemDa8TIhbiEfgNgA0mB6IB2vgJ6YDeYNJXzFPM49Jl3jjpt/Hv7o/sVvGl7jvqaOb34G3clNWnzrDFdsZezfLNAtRD4xfti/sS/PjyDu4N41jY4c/Hze/SI9aO2drcs9yK4fHqePMf+swB8wg4CsAICQTY9Qvtd+dR38PbxOFX6ePv2/x0BkQKMg7JBrz9cvdo7SjjN9wu1wXULdm13yjidOW97TLzmfZ1/yYAdABS/zX1mu4V4WrVTs8w1InbTeUu9C38kgHyAn8B5/3K+YHxUexi6c7k8OV24evgtOjf6MLy8gIDDt4YySIlJgckcx1SEp4OFghBASn9i/pf/RYB8hAQIa8v8DjONqQt/CHhGgIR/QpOBbUBUv82+/b9DQMQDDYbZB06FdwVURRWEoMVGxSxD/AGOgA3+TzwcPSr+Dj99gmoEo4W7hhvF1cQOAmtAVX0Suvs7Bbuve049r75A/zyA2cJGRHfF6kdshy0GAkSMgZBAMj9Df+oA1gI+gmYDHAU9BpjHmwcUB24H5odIRfVDa0CtPew9ir0yfOx+0UArgdTCmYKnw2OEFMYRxmAE+QNnQO4993zjfCG7qLzzvgaAXAGAw6yFE8SXxDcCDQDhwDw+vP02+5s7VPw7PPn9U0ABA19ErkWYBbeEegO1A9XCpAE+QQeABH4ye3W6pnvbfgQBmkTvB/XHm4Y0xH3AQTzhepO5FLdgdvD4xXvUfPa93v8S/gc+bj9dABcAcQBb/3/7djmi+ZT4cfiQe7/9ET1NPeL+s7/oP8IBV4MnwZMAfz5gPNY7WDmpuZO6z30ufzYCJ8U9RkfG3IYGxVKDakIbAeRA2r+cfmK9gP16fmlAtUMexUNIH0nxB23En8IHvyW9LbyzvIS7x3wz/C17uj0Ev3fATgKPBA2DcwI9/yb8mPvSeZI4ETgduKk43bhOeAN4kzna+6x9BT5gPp98XHkctMXwwq+bboZxSPWCuAg6izwOfWu9CH29/Um9OT6kffj73Hqgudg5vniwOeQ8fv7wAIIBvULvBAwEt0UzRRhDOcCW/b96jfkoOLC68H0FQNsFK4bDSCcIIQb9BQ2DZ4ISQcOAef8/PqE+QsAUQfyEaMaDh0oH6ob3xd0FJMOTwp6Ch0JQwSxAfb9f/wWAUUI8hFwIu4txTEINlwrQB+8FyMN7AYcBB0KWQ0/EysaLBiIG2UbeSEgKO8kkiXYHAgTWQ3+Afj6yvjG+L/+4QbgDvUZSSRkKnQpFyPdGuMQpQgLARv6Xve1+3wFBhHDGf4dmCEFIf8cERlPGN4YOBfpEncHOP5O+W/23/aS+0YGdA29FsQeASAAIrkdpxNGDWwNwQeS/B32w/Eo8TH10PuOAioOpxOWDwYKOvpw7ePhiduC4JvddN5Y30rdyODL4Rjj4OYz8g/7Qfuv+RnwkOTI2ZDPh8kTyZDVQeAY42LqgOzj7hr1pvNT8I/tdepf4d7VVs5ex4DIhM8g3OLpTvEl9r7z3+8U8p32kvWf8izw/ueZ4drcn93P4q7l5O0H+xAFswTMAu3/wvkZ9gLwwe0a7d7qQus+7ADrH+xx+EP+4v9FCEwIYQWVA9/8LfWb81j0mvV8+XL3CPkp/FH7rAO8CrkOHREQDV8KqwSk/3T6F/Sw9vr1U/YD/EP/CQSuBokKbwlQCYgNMQnzCK4A1PVX9uLwBfDI9c/9xQYbDa8SMBEqDu4K4QbTA+7+YPxc/Ib8MP7fAvsHtQ7NFJgZvR1FHT8hNiP/I9UpfiVpIZQhfxydF/MVWxcsGVAdPiJxKLow3zKTMGAqASF6F+8PYhKkGcAdJCBOIcwdOxl4HMQd0B1VItwjSSPxGsQPFghZBq0IsAIQBdgIlgcIDXMJnQrRDq8L9gkEBc8C9/uE+j//J/pM/Cz/GQJwB3EFWgXzAQf8XfmQ+Jf6sfuY/5EDZwILAWr/7/z4+qz3LfbD+EX8ngC7A+gHQwt7CKMGtQHp+Qf1wvKB+Pr89f+eB4ULJQlYAVP9Lvvq9nn4Q/jv9VT1evbi96X1E/Qs8TTvku5U7v7vifHq9y774PpA9wLw9Otg3wnVbtRE2aDi6OUT7Xzy+PL08gzrCudg3/bapt/G3BTdoNvv2WTYSNMh2snfw+Jb6CPsGe8Y6t3lbN561BfX4tXz0nfZ2OCS5zLs6+6M8VbyKPGG79XrTOfT4nDectuX3cDnoPG0/e0FEwZ8Bsv9uvOm7Vvp1eza8Mn0/vXA9TP4Ffck+Pz65wInDeEMAwhzAhcAoPgo8PnwVPVbAqoN3xBDEgoXcxfuENYSow2/BFEHKgd1C3kTEhfCGg4eSiIHHaQYrRYNEj8acx3oG28XuQ+KEKsM+A3NFNoZZyQ/KD8n0icBKOskbRpfF64VWxBBFg8cPB6tJFstljK1MuYuFylaIasZDBQVErIbaSLTJt8skisPKn4l4yU4JgMjKCeLKVUqQCZ6H7Ma5BVmGE4aNCAOLPcrfCgpJfccehAyB6gEogCyAKYG7BR0G38V6xYhFzMStAlFADT3j+2B6QXpgOsL7VHsTvL39QDyle/87CLtLOkI5dnkOt7W2wzd/N0N3EPcvOEo4nvmG+xJ7Qnx8PJQ79jmvt002zbXANYM3uDmEfBE9Yn3FvWe7anoX+Hf2nLbqNuk4t7q/Osw8FjtzO5P8JfsCu4p7nbvbOYf5LPkaN914wPfh95H43biLehJ7LzuCfBR7FvpvODp1grT0dfU3w/lQutP8JD5E/py91v2zewV6AjlL+MR4j3mrPDJ9L/3lvxf/Y39YPxx+HL2U/aR93P1Wfpn/GH6tP2H+hUDNwukC2kTpRYqFYESVA83DO0FmgA9AHsB5Ad7DnETdBx4IsUiBSHhGvYRygvlBXMBR//OBEYMFBM/GfEZwxhqElMRmw0QDP4PyQ2pD0YNZgpBCK4HrArjCfIK/w6wEXkS7RPRDp4I5Ab/AHb97wBFAXEEJw3eEsQXnRdoFa8TnAvAAu8BbACgA14L4Q06FeMWgBTFFHgV/RE2DZIPNg4/DJQLAQzaC5UKAQvXEBkYlBm6GlgW7hAHD5oPTQ58DCcN8A0dEDQROhWFGP4eMyEeHMkbPxmfE6MMKgc7BCQEXwpODCYO4xa0GJsbnhaaD+ENHQLnAUf/hvzE/KD3cPtY/MT9tP6k/nf8cPpA/Xb97fnB8+vugeqC6EzooejQ597qzO636ujmFOob7DTpauls5vrgiN0z3FLcxd/J5c/pSO5276btz+mE5V7jt+rN7AXpOuyB6vTrd+4R8F7whPO/+Av78v1b9mjs0OY06K7tmvWe+1f9VQAx/c75z/YO9hT4HPi2+rz9tfw5/H/7Uft9/ywE4wiABi0CRQG0/Vv2kvSh9nH5jf1D92P27fiZ9pr1p/jU/H79Kf1j9hfz1ezB5gfn7etc9Wr4vPzF+2L3bPMQ8unxAvBs9Onxze1w7Vrqne/R8gDyYfm/+IH41PvU/F/9/fiA+aH1wfO/+FD8sgBxBToH5AY6B9UG2gu6DUUP1xDgDpUKgQSV/iv6V/4eAG8J9hGIFI0YLBLIEJIPdwjmBOMJCA20CsAPcxBWDJsMHg6PFCkXGhfaGZYVjRmVF1UO7hA9DwANnAv6CY0L9w4uDu8POxKAE/IXURXFFUEWWRU8EXMPiRH8E6QYqhvfHmUadhgoGDoVthSmFHYXbxaQE38VJxraGBwTUxEmD/kLhQp2CjcMBhERGBEZxhOTGyAZbA3CDT8MXwkgC14MQQjKCwEMHw2OCEUAJQIh/mf8jvzr+3f7kPm++Wv2RfS68rvxVfNc9Iv0TPYW9rD3A/vI9Yzyu/AL7VvpgeqW7l7wZPRT9h338/tx+LLzL/Ip7yrtHeks6v3pWuox7zHuSO6Q6pDrLOmr8eDzielR7Pbon+yP7HPmbOaf7I/tgOxC7KXvj+3k7ezskufO6iLtdu+O7r/pLOkm5pTkseeh5zntZPQe9bzvA+3m6Dbm1+hS6u3qbvAB8SjxIe8K71juzO4f813zFPjn9jX1JPcU+Xb9YPtI/MP+hv2k/43+xvnn9nr3vfsJ/skAjweABTsESwPQAU/+UPxI/fP7VQBZBm8JaAdBB58F7QRZB8oL9hFzECQS1hKLDXcInQm1CB4OUhIMFDAZvRUjFN8Qmw2KD30Z4hk5FsMYURVqEhwSkRBbEIgTKBhsG+gb0RvTF+wULRA7E0ITZA8zE4oQHg9uC34KzAnRDnkS3hFiEU4MlgirC78EsAMWApIBPAPAAQH/qQENA3MBGwceALP/WPuH+x33t/i++vr9nP/U+9P+WfoO9hP7qPeP+8gCgAbzCJAE8v2R9tb4O/iR9gL+/gHD//L9IP/r/Gf8OwXHA4QMZwgAANgA2v7y/SsFDQSmBo0K1gSTAB4Aff6I+RL8yv8eAfQF6wggC34Kpgc5CMUHiAaSAaAD5gT2Awn/BgMDCBgMmwyEDHcIcQVW/5f6qPcWARkJfgrKDC0PjQvVBmwAlvyTAGj7SwMSCV0NLwxsDkgJ9wBS+Lf4W/eG/UsD2v8o/tP+b/zS8Y3vpe8R8GTmDerO683spPEX8zz2R/GA7LfqROdQ4RniQOJF5ivrpPBs85r1HPhr9ar0Oe6h6FznNOjI52nru/F18ifyNfX58FfvE+0h8IXxYviyAD0AcAdqA/v7yfRX74vzFvae/DsFnQo/C0gI5wHE/Qr9QvoE+af4efhS+LD3Qfvr+wP8OP6l/Hj6BvaC9rXtWewx7k7xGfBb9i//GvuZ99PwSe0R8Djv4PQ99Ln1ufQe9YL1ufU7+f72MvsB/zj+lvsHAbT+zwPeBA0Etfv6/JD4y/3E/Q8A3QbLCsoMNg7UCFMD5AaABusIQQebDS4O+xaYEucPsg56EdgP4Q0VEl4ZZB0dHu8cqhwBGjAY5xCaDjsTMxMoGPAbDSC1I1EjWSOjG7UVgw8NEQEZYh9xIEMgKyJNG+8cwxg+G8MZshuHFQwTWRQ/GkUdiCGgIHofyRwCGAMVCxbUFSIW2RonGhMj5iDvHRgaIRfYDtUGsAP2AzsE8gnsBmcIAA4/DMwJ0wqgBCP6PPeA+eD0Y/am+/P7Ef5//M/2zewK73DtX++68x70RfS87xLvDOvK5DbmH+UG6MHl8uFM6DPqOe6Q69TuYO5b6CLfedx43sjavODa4v3qze3d65Lm5+eN4WvaW9qP3vzd6eNy6LHnS+k1517iEeII5U7jeuge5g7oyuMA5Bfl2uMe50zn6OZt49vh4uPK5BjjTuTi44ffMOIA5ZLmFejt6z3mTOeS587qkOr58dHzbfKI+Vn64PNV85zxhu678f/0Yfrk+q8Frvtm/w4CiQOCAloEcwJqA90GcAZHCiQS7w5sDg8O5w8WDzYNvxLWEvEakh3nHeQUyBC/Eb8R1xBsG98dPB4WHcEcZhilF5kQiBM6FMUVgBSYE2cXlRgBGpMcKyJcHHUZMhXHETwRaRPOE1Ub3x6DHAkZWBZsDtAPsBCjDCUQ9hD/DgQUUhIrEwQUYhEPDskOdQxZBnoDVwnVBh8NORZeGj8azBe/EZAFQQeCArUIdgqaDnsP4A7RDZUJWgUCCUgIxAhyA6EC1wJ7AYAGaAfRDXcIrwWTAJ39vvoK/B4BCwfqCUEI2QzzCEwCnP+m+1H6R/9g+/r9GwedCl8KtgbAAfn/lvuQ+HD6gff8+rv+MwRzAvcApP+t/ND00fIr+ev71fpm/2b/tfvu9yjxIu4g8ejzQft2/mD8G/rP9qn13vfG+cb4MfzK8erwdPNN9IL2a/bH92H5PvP67wTriOs06Lfqn+sV6Zrn+uF94kHgEuFo3zLelOOL5R/kjeKb5KXh1OBO5I3hweXL4hTdnt9X4Sngxewh747uh+0d6fXcLNvg2K/cleJh6+TsoOpM6Mjo7uk44mfhV+Le6Q3pZ+5H8cf33/WZ9nbwMuzH6Zno9ui78OD0Wvj3APQFhglSBHf7vvmn+a38ZwkWD5YVCRi1FR4PdgqUDBMU7xy5HXMe5h9kHTQfsB84Jm8kNCA3GhAaqB9LIIAhhCgFL2MsCySIIjUdmxuBH58hnSXNIhUgbBykGbMZ7x0sH8Yh3SK3IM8eCBuOF8sYGhbLGHsdkxsRGBMVrArsBmUNhxVnF1AWphVjEBgLYQVrAt8C7AZJB+UFYgMtAuYDVwpVDWQO/hCyDdUFTQDU/CP6qgCUCxYQPg0zEgYRhQqmBwQFUgXECboNlAuDDjIHmAVLBMz8Qfuz/y0BigLgAPP8v/hI/Kz9qfb58BLu7Oxc58brE+367+nyL/KP7Mjoe+ex54jqte6N77brKONS3XjdKeEl6DHvTvH07FXmnOIi3zfjt+mg6Z7u9/Q67KzihOQf5LzgGOOg6oDrv+mB6QXq0eVT6Lbrw/Gq9C7zZ++A7EPpSexO8s/2hv2LADD+WPuv+fz6QP5cAJkDsAIo/1D9tP7U++L+kQKABRIIBAbYAU7/nvyTAHoDFQSPB3ULWAhCBsACCv3i/j0BDAV+CZQMHw2dCXkFYQYDCFAI5gTa/8X6S/i497z9pgc2DiUQ0Q4QDFkG8v7T/aoA1wKfBbYGgQPvAS4A+/vF+uv8Av5MAd0FMwVVAKX8QvnK8hnwbPO/9wT6tftI/FD8Kf0g/0f/vP05/M743/XO+KX99wGJA+8Alf45+wX3BPkY/xUEtQeIBoIC9wDL/poAeQWABj8LgRGyDjgJgAYMBWAIIAzJDgQUGxX2ED4NfwjlBRoIdQtFD5gTYRQWEOILZQ3PETkW+Ri3ExELGQlBCHEFvAmRERwSTQ2lCIEE/gKABZ4IlQonDbkOCAy1B8UGngdZBwsHpQgvDA4Pew75C7wKKArqCfELqwxeC6oOew8zBaT+ggLtBJAE7QQsBIz/7fme/DwDGwakCqwK5gNUAmsB6f/uAywENQLAAvL97fkx/f4CrQmdCogFuAJm/4b8hf7D/jH90/12/ev7Uft2/VwA8/xL9w72sPZB+yH9ivX58bzvJOpX8Db0puxQ713yzeyH7JDrOe1M9rn1+u5a6ujlTOjl6xrt0vFP8LDo2eVs5YLnWeyd717xy/DU7tXrJuaF4z7lqub96hjyU/d//D//nvsO9oXxy+988oH3ogCHB7AClf2e+3L2/PnAAe8A2AGKAtP92/3oADsFjAwXDiEJiQMJ/7X8pf3vAe4CXACBA1kGFQP+AgQFgwHU+0L5JPfn9sv+DQNI/Sn98v4z+eb3ePo7+N/1PPZr9lz0LvQz+FP3GPJm8czuYumX7Dbz3/Uq+3b97vf29h33ovOC9hz5ifi1+2D7cPt7AGsCIgfiC5YHmAQ8A9v9Ufvr/MkAnwaNC6sMRwohCQkKnAsXDbMLPwzBDrMM0Q2AFLQYThogGTEXIRfsFdQWbBsFIJ8iKyFxIJ8i/CLFIhsiOyGAIcAddRmEG5EflyJvJDoi6BtZFZgS5BW6GigYtxIzE1ITDBSNGWwcax7gHBwTgw42DvEL/g9IF7IbXhktEGwNyQ4/DPgMog8lEHQNAwjdBr4FvwMDCJ4IegMWAcT9zvm/93L2sPdC+Sv6Qfvt+Yr1SO6a5qTjNuWy5W3jheLD4unjPecl6NfoaOze6k7kxd9v4f/mqeiA6wnwcO3d64jr2OcV6Tzp8OVW5OTfV+L06/TsUupT6IzjcN7I2jnf9uhn7nXxV+/f52bju+IH53ft3O3W6WzmF+bt6rH16f9sABr8LfZR7Obp2vF3+xQFfwes/kX02+5g7i/yM/gT+zP5gvVe8dnyFPme++P8n/nS8VDvQux37pb7sgCZAkoGuQDx/7cEgQS1CNILxAhBCIYIrQlWCxANYhI7E5oPmRC/Ef4QoBKfFO0TmBPkFP0SLBG4EZMNMApNDXMPLQ8lEFsQpAtJBwkKAQwIDJoPuBAOD08LeQVhBcQICQt+CmkFYgMdAsv+ewAWAR0CgAZUArX7FPhs83P05/aC9r/33vim+3/7ivZE9tj0RvPV+pMADgG5AXb+9fhT9u72WPt6AgoJPwyjDLsLEAzSC8QIpAseD60I9AUJCmUNFBOAFDwRJRD/Dg4Q1xDuECIVJBLTCuMJfwcxCE0O3xC+E+wV1RNDEmoRLBElERUSahKKEGkUvBgbFAYQig9cDnQNAA2yDkUPyQ64ELAQ7hCoEXsOswwJCrADmgCF/7IAnwVBCEkHQgbHBP8AOP0C/qv/DgLOBTQDdABH/oL2wfOw94f6d/sj+o/6efjR83TzH/K688b5afkm9HfuJeiS54vmZeWw6WHsUe3M7ojqweYu5U/iyuO552Lp6OY349PiFueA7HfuCfB28BXp+OXH6bfp4vCQ+K/4JPcB8ZLnhePo5tPwkfae+/n+UPyv+Uz1OO+s8GP2tvn1+MD27vbf9mP2cPvc+0L59Poj+Q722fLy7zb0kfZV84Xw5Oze6knsmvQd9g72nvw4/ff0QO+Q64Dsxex277/3QP2u+577Cf4x/GH57PqF/x0CcwImAbv/HQKyALz9zwIEBnkFvQgqB58FMwQcBDkIRwrSDO4QfA3ECZgFmQIMBcMKjxQ/GgoXMxPvDr0IOwVICAkLMQmUC9kMCQoCClwOwA+SD9kNFg8WEA8ObA5EEf4PFBNLETMSQBgRGHcWzRS+FCoW1RQxFmcXNhuZH0Ya4hheGWAWGxXjF6sa4Bx0HMAdFSD/HKYVBhBGDGIREhc/Gk0cuhpIFzwRhwcyBg4PtRVQF5cUNRBBB17/2/06BvEMDBPOE3ULj/p888zuEfB/+zQDEgm0CR4AcPqE8zLthPIV9yL8QgYTB+8B7PpU9U30B/S17v34GvwZ/mr4N/L87LvwH/Ma/HsAhv137cbqROey5TnuG/qF/9EAQfxj9lnsUupK6/Pu6fKf+R32dfFL6mLq/ui36cTu2PWK9kn6Jfak8CPruuRM5ynuNvS493L3je9q6UXmNuWJ6SnvkPj1+KL0ru2S5t3eduHM4P3q8u+q82XyXvCq5SngleGZ6E/wRfQs98/2+u/w5MzgH+T16mbx2PTA9dHyO+v356Dqmek09jr6xftU9QPuJOoj7IHpXfLe+NEAGwbdBbv+kfc4767t4+7N+goJLBHmEcUHQvlq+BP7KgjXEJwZEBu2FH4JigKKAm8JOBcaJYYlHCE9HQ0Smg9eDMEOMxOTHOcd1iHIHmQchBvlE/ANOhTqGEUdUSJiINIaExVpE80V3x5BI8Uj7CPgHFEUig/AEGkTih6YIGIgqCDoHAQULBK6DLMLVQ3tE1AXhRghGN0TNwt2CcUGmQPkB+oJjgncB6gE9gIY/5oBkQPvAa4GjwfUB17/pvpK+Zvz1ve1/DP4OP37+6/5FvXa8R/zaPqc/9ABHARP/h32+fAJ8GT0E/vi/6IBbf+iAL37/Pk89r/4zfvb/D0AmAVICCALBAbIAdb4LfYM+dv8mQMoCyIIigFf/Wn5sPe/+Cv6p/lR+2j67Ppv/BYBRANY/J/6BwB/++T6JQImAZ78HvQX837vyPV4+qb6R/7U+zT3FvYG9mD86/tq+N36gfjE/bD3O/mJ+CX24+617uPvXPUV91r5c/RC7AnjXuPU4JLnCfA57gruM+ts5fjkOeAD3+fZiNxJ3hHjmej16TTp2eTW28jax9sp4KnoFOoi7eDl+eOM44Pmz+lX8KTwPvMh74bueOzt6xfzmfb1+K76RQGz/w8AmgB4+jv4xPw8ArML9hEbFZERlwZKBjf/IAwzE7UVURWOFh4PbA5jEHAUrRbDGP8OGAyiDiQSdBtjHmIgoxpZFLoM2gqYErUW8RqEGk0cCBv7FX8WrhSDDi0PygzdEyEYqxmLG5ASmg85CGQADAUnDGIRUBYUE0UOAQyGCN8QzhPjFhwT6hg8EE0NxAieCOwG9w7ZDKUXshsOHb0W/BMeD9MKuwupD0IUnRdAF8wWAA4JCkEIrQgRC0QQxhP0FLcSORaUDJUKwQD+AYICfglmCzUPNQ+LDs8DXv/F+8ACqAMBDNENrgcbB3MBtP7S//33lf5FABr7r/n8+uT76/yI+Wv10fN79BDyMPDi8UHuzO6+7JbuvO/z7n/t5eqz5LrluuVG5d/nguiI6t/n7+dk5h3p7equ7EPqg+YQ5F7jrOH542fhD+Uf5Mnlcuiv6sjo6OUJ4lfh0+EU6yvrju6E8mbxhu886Nvgl94o4/7opPEc+O/1ivWG70rrUO5Y7vnwe/UW9uT67vbQ9cj2v/cF9+P92ADs+pn3w//PAr8EFQRhBSsFyAJ7ASQEvwTiCscRZA6hEIsN0Q7PESwSqBKmFMkN7w5VDSUQIxP9EnkS1hLMCRgLCQsYDKoNJRHPEMAPnAvaCsP+sAMuDhYPkRBqEXUMGf4x/a38gwEDCCcNAA49DtcDmgCu+on4IP+iAGkFKQnSC+4D9QT5/jj9b/17AM8ChghICIYJfgk6B78Edf9B/Pr9uQElA/QGvgVZBkMEBgLk+2f8R/9A/hcAkQJKBaUIFQNFAKADTAGwAyUDrgfzB74G9wFA/rb6HPkw/pYITQ0VEYkSrQg8Agn/dv2/A/UE0wlFD4oPMArlBegAIwbBAOcBhwerCx8NyQ02DiAMCQvVBQwGJQJCBlcKJwxNDegNZwhXCUEHWQZ3CEEIvwTmBDwCT/7L/YICsAO2Brv/MP5J+gT6vvo4/sr/ewC1/PT6K/mB98b4IP/AAS//jf1X/Yf7nvwp/Wf8n/r9+Kj37Ppg/Pn/SP3m9yb1S/dv/FoEIQnZDIED+f+R9vPuV++f+VQB3AdZBt8Cdf/O+KD37/Vg+9P+gAWiAOYD/QQVBN74VvG+7ADywPZt/8YFoAOr//X4bfIy7fTsHfeP+0D9Gvzt+YD5NfXR8j30ZPQk9/72kfeo92T0N/Fw7UHt+u467FDuKPCQ+aL0R/Bh64rnfOQz6gTs8PND90P4J/P+6Lnmkej96cPxRPXH98b5S/fL8G3xTfSZ93P07fg29PjyTPbW+Nb4zvlD9xz4XvE86e3qIu5X8M75p/lq96LzZ+8R8IL29fhI/ZEDcAbPA3oCWgRNAG/9xP0mAK8FjQo+DZ0KlwZEAnMByv9XCYUKig8yFP0Ssg6kC40LFw3RDmwNRg0OEEkVkBMRGVYa4hmuFaYVQBjRG/4dkCG5Hc8e6RpeGfMVfhd+Fx4dJCBAJkglESY7IG4ZuhoYGsEc3SFXJjAmvSTBHLoaCRg5FrIciSCKHskcCBsDFk0bsxq6GycbixyVGFgWlRe1FsgQfxUcEwYQZA49DtgP0A/ECG8JMQj0BoEDFQNCBegAwAGN/eT6b/3L/mH5Kf07+Cjxl+zb7yjwjfCz8eTsPOku5rPk6OZM6P/lnOJu4qvj6eQm5qnnjOPj4bbdIuA25izpROhF5n3iBN7l3PPfAOVb6Tzp/ueW4Lfcvt6E5ALhiNzo2P7aQ9wA5OXq7Ozm6Pvfrt4a4Fjfr+qN8OnxzO6k42vZduKK57rygff1+IP0Au8s6nnqIu6T8zfyjPE89j31v/iY+Nb4O/nV+ZD4Ivtt/2MClvyu+lz1uvKZ9hP6tfsp/e73YvcM+qX8RQCgBAwFZADq/Xf7HgCwAxELNwuOCQQG3wGpAVAIPwt9C0QR9w/3D1UNyA82DUkVphTXEXMPbA4ODywS8A0lEXkSMhQcEvgNBw7QD9kMOhSWFpYVrhSeFcwWAxUnGqMbvBjiGSYcpRdQF/QUQhMaFx8bYCMSJQIluB8/GlcY6hh4FWIf+Sa1JL8g2BykGPsWGxVJFmgV9hCQEjwRFRGAFJkR6QxcDskNmw0oC/QG1gTmBGIEzwOZAtEACv19/+P9If25AA0EKP/f9R/y8POS9Zn3nvtI/Hb+5Po/8TDwhu+D9JH3T/7y/of6bfJ28CPr3O3C8ib17/Wp9jr6Y/X07FLr1O7W90L5tfv7+837M/hm8S/ya/Vu8Of1K/oa+5z+n/kW9S31dfE29O73t/g09mL3sfVj9v/zCPLg86zvMPCi8+jzQ/hK+Yv07/R28NPvhfBb9ub3WvjX9g72e/U89u73xvmC9aL00PTE7x/zbfE/8SDx8u8a7l/v4vGr8dnybfHF7bvxRvJ18aj3WfrA9v72DfeL9IH3yfQs91P3ifhM9jn7v/gZ/pb74/wp/SH+If59/wYCLQLtBUoFFwCoBHEF9gJKBrUHbwmVCuMJSQe6DNgOwwqeCI4JGwauBwoJDw6jDDALuQ6cC4wM5AaQBHAGyQCRAwsHvQdyEd8QsBG7C9gAV/1t/ysF0wrLCmUN1Af+AQH/UPxxBWYKrQnxDHUM9Aa3BRsH9QRCBvQGgQMEBjMERAKTAKkCTv+TAID6O/ln/aECVAE9Acz8mfeo99X54/zoAIMBFQOd/U/+DgKiAdr+y/0tAhwFSQdXCswJwAHWBNcCYQbqCRgLugydCZYHEwevBKYHug2wELkO4wiQBWgHqwsBDM8Qcw8HDjYO2QytCJMONg7ADwcPPQ5ODGwN+QuJBBoIKQnnAUsEjwfDC/0RwBBtDL8DMP6w9yP6YgNBB7AC8wcGAyj/WPw7+NT86ABt/9r/4/wo/ugAAv0w/vn/Gf7x/539w//z/If6dv1h+un//gFbAucBu/5g+1j7Av3r+zr64/ye+2n5JPcO9TP55fhE9tD0N/GL88PxRvOa9dnzDvar8nXydPPU/DH9Uvhi9xLvaOzS8RHwqfW59UjvT/Do9Nj0hPIg8frvE+zE7qzwRvPD8Unstuxz5qDpre739d738fFa6xLh5d1l5fTrB/Xg88LyjPFQ7l3yLPcO9cj2Y/Xi8a3u4fIM+uT7xwMo//34PfVd8pL0oPjk+of7efj+9aH2Cf5zAT0B4v9sALz8y/3AAToH7AcUBRMGcwFNAHcHsg18DEYMaAdSBSIHvAnZDIIQmg7MCAMHeAYjBcAQmBNYFq4Vswy2BkIGVwmiDgMVCxV6EAAOLRDSDDcMNws/DBYQPg2mByMGcQQRCpsMTgxQCRIJ3AdmCq4GBAZnCOQHCQrzCPkKygsoCn8ICQrjCK4HWAj6CREKNg7IENgPfQt8DNEOaRMlEEQR3w8CCo0KmwwvDLMLfQtGDdEO1AeFCzALWAjSDG4KAgl9C0cKbguVCVYL6QvTClgI6QuVCc4FqwvRDa0JEgmmB3oDuAIyB3UMZQyvE78R5AcTBtP+Cv0WAUEHPwzlBVkGPQCW+577Kfz+AVoEFQPvAWn5qfVW8qTxmfc7+DL6afmB91f9U/d/7urvP/Ex7lHt0+++7JXv1O1/7v3p2OY06cbqeOt56oLo5+c44svifOT/5p/rc+az5LHmqef58EX0TvJy9y70CPIN6kzoVOdS6uvtNfUD/CP6q/EU6xXp5epX70byAPPB8/HxAu+N757tMPDc7RTrSe0v8k30mfeG767sU+hl5VrqR/HQ9F3zovNg7eXqRvJp+Uj8Gf5O/3j6fPOx9Uz2l/rE/N35qPe68jjwG/qc/gYD3gQ0A1EGOwQlA84FnAvZDPkL6A3DCqIOhhYSFzkWqBIgC8wIIAveEREY0hplGnQOlgeuB5QM0xfBHJAgvx/GE1UN0wpdDb8StBirGukZIRd7HKIcxBf8FDsT5hFZFBAb3x5gIwAcHBMODzYOoRBYFjUd9h9/FjMSdQu1Bz8LnxPHEiYOXgtRBu0F+gm8CdoKAA6dCcoLnQn5C70IfwgBDCEK8QsIDdMK2A6kClAJagQmAYAGlgjRDk8LyAH/AAAAL/+gBA0DKwXi/1b/nvyQ+ZX90/0C/pT/d/wj+cf3oPcz+Fr4mPjI9Sb00fId9pD5BPom9Yzyfu9Z7O3qCfGz8vLvdvAb7K/rQO9v7lHt2+/z7hf05/Uo8Ovt/eoF6gvtZvCi89/1/vZ085frFudV5XHqo/LP96H2uPeQ+GP1m/JE9e35Mf1Q/L/4Q/hr9iH+cwElApEDPQBi+MD2NPfr/H3+1fpn/VD8kPmN/uT7W/c5+/T5zfvU+379jvzt+Zn3gPn8+en/ZACABUkHXAHy/jH9kwA8ArgDEwf2ArIA1QW8/EL5Cv3y/hr8xP1FAFwAu/7i/iv6BPoM+ob8iwCl/Cj/pfyv+Vr5mfb/86H1HPjb/Oz6DwDgAFH7JPh88pTxlfBt8d/2g/Qt9VL4+PIf82/v6vCL86L0kvTv9N/19vaI+Vr5mvTv9C70c/Qi++T7VAIGA0wBZABR+wz5gPpB+2ID0wlVDv0RIxTtEvcPRQ+LDakQzhK0GIodgR+DHZYW/hBSEgYQBBQCGEwd7SEGHpIdVxh5Ej0OlAy2FDUeriJAJYodbBxoFfANLRCYE08YZBw9HRcb7BTgDlUNBRIMFEQR8hfgDkgIhgmIBr4GvgWZA54HawKaAf4CXAEbBtQHYAeKASH+ewFQCRcNswwqCAwGqQGIBWAIKQl3CJkCKP7K/6ADKwbDCu8OShNqEpIPfgoZCVsDFgJzAj0BogCYBYYIWQcWAQr8SPxJ+gn+PQDk+5H3c/Rn7sLyH/I+8x70V+9Z7KbsFOvd60HtbfHf9Q/zKe7o5mzmm+Qu5aHozutT6ETo9+Y86IHpyeW74qnnQ+k95yzpZOZ05WXkN+T64cXfSt0+5Kno1esK7l/vQe0M7H/tbfFW8kbyu/FD6f7niufe6ePvRvMX8zT36PMi7v/l4OZ66JHoj+2k8a/5nf2Q+PDyd+7O66zvAfEk+DL6KfxJ+jr6hvwY/6IAePqJ9wr9Qvmv+BT5lPKI+RP6vPwS/an27/UU+CT40/2s/Yz/Cf9H/ur9YPvE/LT9lwaTDVYMIQkoC4QMWxCaDhcNfgo/C/gNjRjYHIQaRRx4Fa8SaBVLEUQQ7BVoFa0XfxUbFXESgBMDFfMWCxUNEnET9BQwGJMbRxmWFvQTFRHaGVse1SKTHLUWdRmDHEsfEiQgJ2wqESaOJAQiJxtbH3EhVyZdKeImjyMhJtMlKCZHJ44lCBtIF14ZIyHEJQwiziBmGTcZVB42GyEYTxjlEyMU1xDGE5ASBhCKEHQObA36CTsF1QbtBZ8FQQjD/vX4TPW689D0ivZs8xjxr+sD7YzxbfG17e7o2eX45ZnoBemZ6Jzjpt5j2njed98Z4bvjq+NJ35fe7d0r3Y/f8uFY36Has9am0T/U8dU025/eQ9uG0lvM2cntz6vVBduC2nzXFtlz2ATd+OSt4G3VdtTa1CzbEuCN4g/lyuM82wfYqteu3izq8+537lLqDucX5djnMuw+8/71D/Mq7aXv8fEW9cb4lvvc+4f73PvT/RYCawKDAPz6DfiA+S//VwkSFuwUiBPuEckOPQ/HEtMY3Bb2EW8XnRjVFCkXARmpHgcdZB3nHpsapRfjF0gXsxk3GTAYEhdvF9oYdRm5HIUYMBh0G/AbixulF7cSORaXFLUWFxx2GJgS1xGpD7wKHg5RFIAUyBCxDz8L+wh/CHYJ2gpVDegNBhGyDY8GEwYVBP4B5wJ6AtL/YwLFBsUHDAU8A4/6tfvfATUCMwVpBlQCXABEAmAH1wNw+o/6yPX/9M37pf3b/LkBIP+G/XoCMwQlAgAACv3S/0MESwOoBNgBKf05+8P/9gPcCFAIYgPdBasLQQdaBWsB5Pri/rIAqQH2AzMFcgMAALkA7Af2A5z//gHVBYgGGggiCOgAMvo5+3IDbgtcDn4KOgY4/hP7R/6QBHkEagMbBocHUgXFB3AH4v8K/Fn6tfzp/wcBewB9/6f4Y/Yt9oL1F/PI9mj7pfwB/yv6rO/N7OXrCu6X+SL8j/s09zfxZvCT8030PfVG87j2O/io9/v7zvn+9VT1bfH48mf9rfwz+bH0OPAS7pvzn/lm/tr/WPsm9RX35vdj9u35uPen+NT7jf2aAHsBePrF+r/4sPdo+3/8E/rO+YH4MvpY/FT1EfAp7xnwlPH9+M36TPa27Jno5ugj7LXuMe/e6ZHoMu3678nz//M99F3zxO9R7KTwm/Pf9Rf0sfVa+BH+vwNUAm7+Kfy/+GD7rP6e+xH/Kf0r+a775wH9BIcHWwKaAYkDMgZRB94ERAJt/6z+eQSsCpwLOApaBTEJpAv+EIkSdA7xCygLKgdmC0UOqg7uENgPiBMEE3QOwgwoC/YDeQSlCLgQMxL2ELEPOQhW/7YGVBDfEDoUQRUVEgkK0wmxD/QUCxUbFccRPwzqCpoO0Q0kEjEWxhNbEbkPiw7qCnYKVguOCYcHVwrMCFcKwwutCCMGzQbPA1sCUQYOEN0TYhEQDMUH3QVqA9kMzhK/EZAS/RJKBcACywpuCykJlgj0BWEGtAruEU0O9AaNCr8EBQS3BGEG4wnCDFcK0gu7C7UIuAJQ/EH8Ofs4/c8CMgfzCKsLUQeDAM/2sPZv/O4DCQuMDGIEGvw99BvsEfFT9hT4K/p4+g72PvNM9Zr0te4E7Avt4fKd71ju0PSE883sNOm46O3qr+qw6JHpHOqg6dDneuip5yTpdOVe4yfkfeOF4gfmpOOF4wDkSOEA5R/lleIR4wjkUt3y4T/jleIv42/htOJl5cnlpuzy8AnwIe+p6O/nLeem7VT1HPhT9pH3VfSb84XxMe5m8e/0/vVl8zP5nvuP+sX6/fdE9bj2kfYO9t/2GvtUAd0GFQPq/kH77fnPA2kGnAtzEEcKlge/A98B3QUoCx8N8QxTERYQgw/3Dg4QCAwiCNMKfA3xDOILjgmvBUEI8wiGCbkPQRXUFSgYoBJVDSgKZQ1mC+gOUBYhGCYdnBk4F3gVbxccE1EVbRrKGjQg3iDKGV8X7hEzE9MXKhW+EysT2xfyF88fUiB1GQoXiBMOD5ASIRi0F7MZ4hmyG8AdBx2zGiIVbA2FCtoKygvAEMwWSRWpEIMONwx2CV4M/g+cC2cIYQZaBY4IUQYBCwgMGwaYBIMAZv4C/jj+bf+QBb4FQgW3BaADDwBu/hb2ofXz+6n2z/el/FwAZAA3/0n6/fds9MPwN/Gg90L5LPhk9E7xuvPJ8935v/fA9ifz8fFz9VL4/Pkd9/DzffA57iPsDOtA70v30PXJ86r06fJ28NnyqvOi83v0APOX7Nbp6fFW8Tb0NPb58Kbt9ent6wLv6PNt8erwR/CH7OPv9Osa7RPsxOEo4jbmkueI6ljueOwL3+7aFdqP3/jk8uES4eXcn92g3LTiLejt6uDmpeGN4aTjWurt6+zsEfFE9lv2x/di+IzxBOuW7fPtwfRA/hwFqANVANr+BvYE+lH6Qfzy/Tf/igGs/Rn9y/25AbgCtwRQCZECaPtt/7AD3AjiCvgNyworBTgJNwwvDV8KAwfnAlkGhQuCEL0WtBdkDzwDVQA7BPgMsQ9pFNQWkBOqDkYM/w6DDskNiw0IDFUOQBjnHWEiQSPRHA4PAA3eEfwULB+eJOIm2ibNIjYbZRotHlEjYx5PGOQVOhXiGeUhyCy6KHAjTB0oGBEYZBzrJAol3SK3IWseAyNGKQgpriOkGfwUsQ/7FeYgTSkYKFQeXhnAEPYRUBYgGhAaTxleGdMX1xFXCk0NuQ+RELIOfwcWAf8AcwE2AGQBkARH/3D67vdC+ST4XfK59ZL1xfq59KXuCPJe8Sjxt+qa5jHhleEd6DLsfu9q6eTfUt073UfiEuAz3GzYfNZE2VXYWd1S3CvdVNkS0lrOQtD51dHXgdsV2jTaR9Qcz0rP+9Gi1/XcxOBo37fce9n51PDXx9uw2iPduNot2oLaOOLm6OXqUuqz5ODlX+HD4qDpL/FM9h70bPN18fLvPfTY9e735vdk9Dv47fnN+1f+qQF7AGwA6v2n+Wf9RQEMBfkLPQ8ZCX4J1wMtArADHQJwBvsIXwlRBr0I2gpMEDEWEhbnEDYNVwmPBhANNBHmEZgSeRP0E+wU3RS+E1sQiw5ODNEOxRVNHJkfJR/oG4cV5hIBDGwOGxTJHAwiDR8FIfMWaxALFUcZ/xwfGxoXhxUUE2gVmhwJJ54jkh3EF6wKbgoYDO0SxBYaF0wPQAo/C4gGZwkhCtMK5QWRAyUCIwUADZ0KEQsrBeP8CvzU/NgAcwIjBgwFNQG5AbT9pP+F/9cDQgUFBHoDZ/yF/gr9JgDXA6kCLARiBAcBu/9rAnMBTAFEA0QCXACgA9UGvgb+AZkDRAPAAsYFAwhNDT4NwwpbAx0CogBP/oMATAHE/QcAxQagBKUJIwVI/GH69/Qd93D7SP1FAPL9l/mw9v/0RvN28LTwjfBn79Tune9l8i326fEb7HLpZ+4Z75HpzO7y8GXyZ+8w8M7qleH/5vzsj+yn68ry4vGc8J3vze137RLuD/Mx73jsrPBA8AjyS/db9tD1VPUF98/2ovMZ8DjvuvN882P2w/5sAPL+ggIY/7P/5gMo/mD8Ufuk/nEFkwAXAMcEoQLb/Vf+y/4z+I78y/5t/9gBawJbAgn+3Psn8pTy/vYE+bT9Av7L/Zz+z/ci7sH0JPiJ+Av7cPvd+ln6/fjg9C708fGz8aH2pP41Ah0CewAx/Az5yPbt+PL9agSABqkB7wAeAVQBRAKABU4MjAzLCsMKygzyCU4MgRGjDG8JQQjFBkEHwgzcCAEMShTgDj0Pwg05CFcJ4goXDTUQ3xCAE+8O+A1zD1QP3RRhFCsUZA83DFsQchH3D1oS/RHuEYEStAqRELcTlAzkB+4COgYtCAEMzxHGE0sRjQtiC5UJygvRDkQQPBFLEf0RdQy0CVEHbwjUBxkKdA0IDd4SrQ8fDdILjgnUCO0FegLfAZAEcAZ/CLACzPwT+1D8nvsD+7z97PrN+r376v2RAj0A0/1A/qv5evcV9+f1tvl//Iz/CgLb/WL43PRd83X4Evx4+lj8fvaR8KTwUexP8Fr4C/us/WD81O2h56rt2+/K8YXxivV98eTtH+x66CLtdesx7rzv2O3N7Cnuu/GM8sryV+/q7wTs/OuL7J/s+PJw87v4oPjm9yT31+8o8DH1+PkQ+T38yAIv//r2qPdd+eP2XfpN+qz3Vvhl+jT9tAPVBZb7v/f+9sLy9vZW+Mv3xv+kA2gH0gTY+z37bPrQ/Nr+s/8OAW/8Pvrj/aX9uP6TAAT52vhO+VD8qgBc/P78D/o1/CT/3/1y/Q/7LPjN9Cb7rwQEDFcJKwUJBE8DUQdQCPANtArGBS8FlQKiB9EOgxU+FHYQvAn8BUgI0AjLChAMfhG3E+UTxxJwDQcIxQcIDX8OeRLPES8NqQkXBkQKkAzpC78K+QP7AKQDZgNOBYgGIQL9/sD9YPz/AAwFif9q/6oAGQNTCgQNaQ1xC1kHtQG5APsBoANPA0oGpQnfAscDtwRdBrEIfwcqBwcAof3q/scEWwryCUgIVgX9/zH8iv2xAe8OXgxFB5kJUAFkAeQAkATMCHcIWwmGAuL+8v4yABgFwgyPDqMNfgkB/836PP2aAVQCGwcqCJ4Alf1L+LH0xfv0Bf0Elf0PAIMBg/u7/6kCu/6mAM/+MP5S/87/qwSFBOX/S/8TACIBgQPHA0EA7vdi98j84gS/CscE/f5j9rDwNPB+9msBGATt/6T3GvUE8uv1rvpC+cX62fON8Fzu8eoX7UH0DPrS+Pb23fPw8mzsiek88Nb3a/xo+ur2ue046SPrEu8K9qb74Ppt8nnqDOTU5ifsv/EK9inu6OZe4vDeDuAk6QDzDvZD9+D0XvH/7UHuB/XX9h33ofxm/5D/cPod9136yfvx/6oHwg1CDHsIJgEu+0P+/gK/C8IMnwb1/5b8JgBqBCMMlg//DjINZQXE/TEBIQl2Ea4Vog/0DPgFSwP+COwOdRMEDfQNdw5gCLEIiQrHC8gP7w+FCjcL6AbFBtoKegpkDhMN/w6HDk0GTwTkBlUGqwQJCsgICAYADSMGyvmK/Lj+DwAZAmQACvzJ9Ib1QfWi9L37kP8XAEj8W/fz9JDyOfS++ZoBNgecBNwBUfv69Vf+2gMaCJ4OmAx9BCj/y/5DBGoLiQuADOoJbAdnCAYJ1QzICZkJKg+iFe4YEhdmElsK4grZDQ4XeSGfIb0dLBKuDYMOKAsbFC0ewBeaD7wKwAjJBz8F3Af7CFQJZAEE+l7/ewAwBLIGVwOKAc/9uvo6+i77SvmV9jz23/Vg9U/3LvqN9/jz0fJ98KPy1PUi9Rb2//MU8gH4yPwr+t35Yvde8CL0MPcc+Hj67fkT+oP0o/JN86fyxPW99HP0Efe09kj1LvQ99TP5n/kx9ZruSusE61vv5Ppy/lX7wPZK8o3wJPHN9G/1ifhI9TbzcPvF+9P9a/2C9R3wmu1o8/H4cfm5/FH62fJr9cr57PobAB4AgPqJ94vzvO8I8+D60PsF9+r2RvMK7rTwhPOL9Fj1GPmW+1r5aveB99D79/yG/Jn9of1bAyAE2v4R/7P/UAG8AtcD/QPfAhUDUfur+IL9yAGsClAIOwVkB88CawLqAi0CnQLcAFwBMARiBGUFfwdbA48AjwDe/qADZwjyCnQNtgY5AZz/s/kx/H4DOwVXCR4IHgAGAsb/4vcF/qQDHAQsBGQA8v5m/nL+vQEiCDQKiQpJDlAI0AhRDg4J8hAWFk0Nnw2yDlILcwj5C+UT4xc/GdQVnBKREQQTpBgSHSAh0x8MG1QXyhMEE60QAxZ6H5EezB6XGxUSfhDMEKUQWhP6EOEMaQxqC74M3QyoC38PMg6gCoQMxQ6LDeAHOgc+BrgCiAbkBwQGoAQcBMABlvvH/kcEIwYmB8kAt/jK8bPxivbG+Nb+gwGe+/TzfPPI9R71rfz6/Q34GPgQ8rntpuwD7Zb0KfYO9YTyDemg40viBeOg6p/yQvKX617iq9y+3lrjZ+hh7Mju0ezB5QDkNuVb6L7yGvzr+/Tzpu1i6Qrngenm70b5FPnD8cHs2+h26UzogemG7hTxofYB+Fz1sO+z60fwne/z9An+4fkd91HzyO+h9eT6Bv2K/RP7Hfag8enrq+q+8nP1pfW6+Vb5i/SQ8Sb1X/aa9QD5Q/ew9lb5NPaC9rX8Xv8c/wn/If03+Ar2jf1qBFAIzQ3PA/72DvUP86T++AwxDwIQJQqGAncBUQc5D7cSbxZ3FggTYA7KC9cReBWeFdkUqxMSF9IZgxwtHR8b6xdCEzwXBh5iIOIgKR6VGKUPKw3eESkXVB7jHtIZMhUNEt0TLRcIG6MbHhaGECwKTQZxCwESAhezGicUgAw7C74NGRg4GEgPQBDxDDoHmAtSEr4U/xXHGNUU3A4eDo0Rahh9GQoXlBMCEOgNmgfYByoILQImB1kN7gqXBikCdf/3AZsFAwG4/hn+2/Vc9Ab2gPOm8x70ivUF+A33B/Ti8cvvtPCi85DxCfAx7y7tpPAn8v7uye2e7X/t2evH6QzsA+6I6yzq/OWS373fjeEb5fPmBOSZ4lTgdePo5vni2ODW3OLbq92z3fnje+aM5Ljhbdz43Q3i5OW36azpS+m157bk5ePo5SbnvuWj5GXlZ+gM6+jsGu1J7cDvc+6N8LrzpPDQ9Vr5KfW89uzzeu8S9Qr83ACaAZMA0gXcCFAJGw1ODLMLswt2CjgRYxdNHN8d2ROGENUTJhW4Hk0q+izYKscnIyKjIT8oVy0HMj0x7ixjLG8rDS6+MOUv+DCiMsY2pTq/O445eDHIK6YqUSlbJoEfsBgXFM0OMg0OD5UKLAMW/Krz8PL88/nxB/RS8g7vMe827DDpMuX+4IHjHuZN5jjoTOgG6EnmROGK4L3fSd9x4+7iqOJ146Lebdxz32Hljeli6qzph+Uu5Ujo7eq879bx/fA57UzoZur98af4A/t0+3H5//O+86z2Efe++UH8B/vB+xn+OP1s+lb4jPl+/bgCrQjYCOUF8QSdAusB1wNbCewOXgudCSAMCglXCZALhgkgDGwOfQvPCe4JBw6VEBsNeA3ZDVcJSgU3BNsJ6xAAFaMTyAgKAtcDjAV7CKALGw2rDCsMugzfCQAH+Ab4BkQJ7A0ME7IVaRQbFQgU1QwYC5oOVBBoFRUZVRUdEcgPSA9cDpoPdhAMDY8NJRG5D0UOjw5ODCUJiglHCwgGFv0c+a/4LfxFAen/QfuN9xf08/SU+Wv8Hf01/FL5/vbb9ur2KfZR9C70xvjb/GL+Z/2B9xPzDPLZ8577NP47+CL03vC97bHt+fAm9OLxmfCR77fqE+yz6//m0etj7vDsz/As8MXtQuwN6hbuyO+S7mrxbfHh8kz1YPSB+K77DPr192ny9u8R8KnuF/RN+iH9vQBc+6zvCOtO6xrtV/AQ8pDxVvE+86700fI88MDuyewe7Ury1PV39Yr2FPio9zz3Efgr+f34Q/iK9nP1UvnY+874xPao90X74v/IAnUEFQQ7BUIGcwKpAtIEJAQeB/wG/AVXCXwGwwRZBuIEZQyiFQcVrxJQD6sMvAnsBkINkRGlD9QPpAtHC5ASzhKcEq4VoxNEEL4N1Q2FEqkX4RpuGX8WUBZ5E2MQNxPjFsgWExWaFkobExt/FR8UaxYeFkEWSRYQE0cSrxOQE2wUxBd7HDobHhWSFhUYExSaFTgXyhP6EKIOMg5RDQkL4gpICOEGtAmVCd8JAgorBn0EdgIuAPIDaQULAC38k/o89173sP1vAXcA1v70+X/0NPa5/DIARQAg/wj6PPYJ9571mfdo+/r1D/MC9mf1FvZQ9mT0YPRJ83zzXfNu8LHukOoc6v3wOvNh87byPe707A3q7+ZN7Dzw3vA59Br0/OyH5QPnYexR7cPwkPLK6jfksOJm4zXnpOrE7rvxwexj6GrqKOqR6Kjp7umM6h7tpe8o8BPsyOjm6YzrffGV95/zaO0s6cnlS+on89749PkZ9qDwF+128I32KPjA/SYBrvpK+Y333vEO9rL6KP4QBjoHmwUZA8D8a/2//9EAlggrDDAKkAscC2IKWQ5vEGwOjw26DVYMZQyeDu4Q4RPRFawYfBv+FiQSvxEOECsUih3XHtYZCBM7C24K3xB3FjAZuRYWDxgL6QufDIMPzhLHEigSmRDdDbsLTwpAChYJTAjPCYsH5gTpBdIEFQSQBXsHXguEDH4KhweLAJH9OAOeCP0LRgwuBwIDdwHQAcEHWgxgCGoDy/4M+kz8qf0p/PsBigLB+0H86PuP+tP93Ptg+7/+F/rM9YX4MvqN90X0kvU89vjzV/e5/FL/yv8u+/r2ofbH94b8Cf+S/Hf75fkF+KD43fk8/db/9v0e/H/7Zv43BU0Hpgd1C6gKIghkCPwGcQsrExESehEME7kPjhC6E3USqBHjD1ENxgwcDOkLNwteC1YMvAnmCncOVgugC/wMIwZiBFkHLwVAAzoAD/vw+XP8zwKKCNkFXv5j9aXvG/Pv9VD13vjy9+LxtPBP8IXxF/T679Hsi+yo6U3sffEu88n0bvAI68Hsh+367trxTO9c7dXr1+h16//sHOoY6x/sbeq36pDqU+nx6vTsRut66PvmI+Vh5Tjpi+z37jDw1ewC6B7mY+e664rvy+/z7YjqZ+cZ6Y7uAPKM8sXzXPVg9R326/X79Cr7zgRoB5AFRwS/A5kDMAMrBbUHkwb5BJUDywNgBwcIIQkxDyEQkAwJC2cJdglmCu4J6QvHC80HTAh1C1IMfAzZDdEO2A75EhIXOxITDQANVguADWIS0xGBEZAS8w/NDlISZBa4GJkYqReME24ROBeFGaAYyRu4GIwT1BZnFn8VpBgHFsUVzhk1FwETpBLOEy0WFxQHDxYPLRAADn0LRg1zD7gK5wjdDEQKfwdVBwYDcgMUBeAA8f8B/wv7rP0v/4z/OQFB/Hj5cfmk9zf5mf1E/bT9zfvA9gj5lf3gAHsBOP5B/EUBtwV6CX4KYQbkABb8Zv7BAHMBcQRCBYb9gfjP96n2SvmH+lD83/yo9+Hy+PIf8h/z9/U09+35zvmh9cLye/Rb9zP4kPnt+Dn0yvJR82P11vj9+A33/vX29gb2ivbQ9bD2I/oU+fz6Ofwh/ob9Q/ia9U3zfPOw9578HPk099HzQPBk9Db0XPUS9eDzVfSp9Xr2v/cF+GXzjfAD7r3t8fFU9WP2DvYC8JnpFeiJ6YDsGu2Z6Abooeiw6IfsHOuQ6u/mquZ47H3w4PR69vf0Gu4y7AHxRPWP+8v9ePrP9ozxRvPO+SH9/wC3BBUEBwB2/skALATrCPoJ1QVaBTwDoAQeD9QVIxPHEtgOvQekChgL0guhEIoPVQ2vEhsUlhVpE8IMfwgUBWYKVQ1RFBIXBw8wCsUHKwYhCaIOSxKJEk0NVgu8Cj0O5hEEFEoUbA4qCN4ECgkeDvQT1BYUE5EQiw5HC7IOFBPAEN4R5xCjDCALEQrqCgkLTwvDCwgMAQyDDoMPPQ4vDbQJtgYDCEUPFRJrEAkLUAjOBMUHqwzMCAkLcAcFBHkF3Ah3BzIHjwblBZ4HBAWRA5oB5wHq/rACGP8o/w0DOP25AM8CrP6c/0sE4AA9ADL7/PmQ+Vr5iwAdAjsEawJe/xT5qvQf8pvzifiG/f4BcPsn8obvQPAo8WP1mfeZ96Py4+4f8hfzLfVL9zT3x/cN+E30dvCN8Pnwy/DK8S31Ffc7+eX41vh4+sb5zfr0+rT+cPt69wb2CfDq8JL0z/aP+pD5Y/Wp9Vfv+fBG8v/0xvma9DX1nPBC66HnB+eZ6VfwLfY096L06u/s7IDsJ/In8zb0LvNW8Wbwf+6k8LH0Lfbh8j7yVfN272Dtpe9G80v3iPlf/QP8p/hE9eLxS/dB/Mr/Ewac/wn+hf7O+On/BQSuByoHCwhhBu4CDAVyA44IhQvyCUgI7AdhBQ4C7QSlCdwIZwj0BYgGTQ02DUEHGQrDCuwGyQ6dCj8LKgeRAscE9gOEDPANvxHhDF8JtwVRBgEMkg/LGMAQswulCIYIAQujDDMS+A2yDgEMCwc6B6wKBRKYEvwTDRGTDjwRRQ8OEJgTxRSvErINqwxQCSoIFg88EYkSrxIrE6gRHBLIEGsPYxAtD8kOyA/8E1APdA21B+MCSgXoDvQUUhJ0DWIDUgRNAKgDXgsuDjMLOwUo/q/5D/uz/+oJrwVxBMv9x/7x/5P6R/9B/If6Q/iw95H2/fcc+Q72dfFg7SLtR/B/9aj3I/Ix7ijw7+118WL3sfUx7p/rBerH6Zzwc/S49v71UvIp7g/s7+2J8Vv22/aH88LyTvK/8LX1R/eQ8f3xHPEf83zy1PUk+B3ws/I99CX2OvMM8s7yKPBr9YL1a/Vs+oX3UfPk8570+vXc9AD5ovrn/MUALP6a/An4nfa//3sB7f93AJX36/Qe9XL+2AFBAPoCvvrw+hn3sfypCeUFcwJm/o/6l/rt/7IHsAoADu4DLQFzAiEDnQpPCjUIXAFcAcgCYAF+A/kKrgf5BHEFKgEvBakCiAaYBLQCGQOr/7EIMQk8Cf0KNQEtAiwDZwFWDB8NkAxECU4F0wPAAa8FRQeXBpEJ1AftBWcJWgRFB38ImwWjBkACVv/OBL4MnwXfAgAA5v7+/MP4hf60A3UFBQSLBi0B7flv/Oj6DgFJALj+1/1x+K/47fhn/UT9Ef9E9hr1L/i8/E0AP/8CA7n7sPaT+uj6APo2+wL36/RJ+skAfgP5A1L/TfqV/cb/AgN8BqoGHgExApn+1ADdBlwIiQtCBmID4ADsBqQLEAyOCNkFyAGZAnQHtg1tE/gM7gmUBYsGzgVVDqIPxAghCYMBMgfNB+EF+QrpBer+fQQBBIsH7QvxCxIIagTRAMYFqAubDNoKtANAAg3+jf4pAm4EKAP+AWL/If7BANEAPgZwBlMDNQI5/Lv/EQMcBTEJdAYjBcIGlQLjAfwGrQjoAIoIgAaABccLVQcBBeX/zAFO//sAEwdaBRgE7v4g+Gz71v7/AFUGKP9y/Rr8evbA9jT3q/jy9uDz1fO68vTzj/RB9OP1t/Fx8s/37fmK9l/vb+7f7oTyJvQv8hTyse6S7j7k3OaF6n/ubfFO8YXqweXe493kN+tJ7QHxze3S6jfqCOtI7r7yju6A6+7wEu+B8HL3DfgJ99Xyu/Gh9uD0wfow/lP31/bH8K31EfhA/S//7v4q+xH3jPJp8ov6LP/zCPIDz/4R+Ar2VfuMBAANSAj2Au35oPjF+1UGkQpeDCcFw/44/oYBwgYoBAsIywr6CeIKLw2+DIwMNAq8CdoL9QtcD1AQwwtgD6kPyQ6iDhkRrxINEcUNQArJB5gLqwu9Do0LMQgjBjIGxwQ4CqYNSQ4IE6gSKBIzDMoLqg1JDnoQxxKfFAcV7hCUE1YSchEbFJQTiBPhFH8WEhYoEv4PMhQDFUITpRYEFOAOFAxfCrkOjRJhFFUVZQx7CGAIeQzaEoIXohU7E8IMmAupEOkTuRaODwYK7wh/BwYK1wm8CZkD2AEx/ej7vPwF/hcAngHcAMP3gvVh87H0FfcA+cfw1vHI7jXu9Ott61PwA/R484bvgOwv6tPoH+vm8AjzqPBL8OPvZ+8F8PPt2+eN6PXqVO7L8JXvku6V6EfqE+3s7P/sdeox6PDlI+Rf6KTpsOkr62nrTeyb7MTnMOmn62nr1O7u8G73LfZV7bvpz+lx61bxU/aT83b2xO777R3wf/WG9SfzOPZs8/3xLfY38tD0GPiM+ez6XfkT+iL7kffg81P3xPag95D5oP8N/4H/e/yr+Sf66PtRAF4EmAVhBtsC1AFD/28BzAIABxsHHggRC5oIYgtkDgwM3wkxCbQKfgrKBGQIlw2gCloLIAxDC9cKmgiiCLgKYQ1cDtgPSg2gCpkJZgsBEmAWnRelFsMSog+aD3cPkBImD1AP9hFyEQwTGBNLGN8PAw7pDAMOlAwEE7QQ/RFqEUAJ8gruCvIKDhABE8QQswx+CVUHUQaTBu0MygvoDWwNpANqAygEQQeCCYUKLQm3BZ39lf1t/8kGeQx9CzYG9gLT/pn+KP96A9kGewHjAhICofy493n4SPxm/yECJgg2DWsIDQPqAr4FmwbvDnwUSA92EAgNVAkiCC4H8wh3B3kMcxAVErMLsgatAp0CHwYhAgsAMP50AP3+ewHNAAYCxP38+uTzh/Q59bD2KPjo80vwVuuE7HLvkPLI77XucO0Y6jrsUeW/6UDpu+om50bs/Otc4AbhWOAi58vple8h6J3hoeHu4njllOoQ63Lo1eRS41rj8+cr69/vkPJF7bvpAulJ5tvnIu4p7u/tEPKb8qjwr/JL9xfz7vA08En6Q/5B/FP9DvwoA1YFMwU8Cl8JtwVKBnkF8QQhCeUFfwdBCF4LvAn7CHwFkASYBA4IIg68CmwGqP51+Iz5lQLZBUcKhQSkAyr7l/nr/DoAzgQzBBgF6AAx/eH5hPlC+u7+kwY1CUT9MvsI+Rr8/gEXBqwKWQeaB4ULjgmlCSAMMQ9PETASvg25D28IFQoOCf8HkAsXDjYOIwybDSUKhQtnCZoI7QslChESsBBWDGIKcgpgCPIKMRBWEoAN2Q2jDQsO8Qz/Dj0Pcw/XEQMV6RIaDw0KOAodCQYJkw3RDu0LMQ+yDVcKAQwVC7gJpAoCCk8EpgbRBj8ElAQ3DIoQvhOJEikJPAMyB1wH9QQFC0cKZwihAon/TQBNBrQJZAdQCC8GjgGh/LL6+Pq5+zsE4gPkAFwAQQFA/TH9vPzj/CP6I/qp/BH+df9q/lz8k/o4/vICIQJH/tT7K/m79w/7rvu1Adb+6/uS+z30v/Ek8fDysvOH9OPvH+tF7TntOPCF6l3r+emF6XLp0+n96tPo8OvF7QnqSOiv60LsO/EG78DoZuqu7CLud/Qr8+/0H/Nn7/rvE+0t78jvxOgy7Gfovuz67ib1J/KC70brTuqu7ZDrE/MQ8s7yf+2s8CPsQ/AX9HP1TPXw88D8lfeb+Wv2UPwN/xz/5v53AFsCHAV3B+QGvwRX/fL3i/v/AIgFgAYyDegGfAYmD2kNXA6KCZsGlQOJ/84EfgoOD2cP0gu4CpoHZguNCj0OBA3ECLMMKQloFcwPxQ5JDsoMawmKCB0Jmg5NFecPAhDyCrgJ3wlWBTcSZhEwEsMRVguYBQoC6gnIDzYO8QyZCXoJ6gPPCqIOGw4LD9UNIAvECfkLXgssCiER1xGDFhoWERj9GToUDw7zB44IgQuOEKARzRS7Em4SAhHICBwLXgVpBk8EdAZrCEUIYAebDEgJhweNA1f+YflB9b75Jvu2+QsAMQLO/7T9ePrC+aH2DPlU9ej0NvRS+eH51/Y3+aT4MvtD+O7+R/5+/RL9/fjr/Ov7avfc+1n6tfsE+gz6DvV+/cb4ufUz+YP0fPI27ST3gPpZ+uX5Mvo++mH67vee9Wv2GvsY+FLyyPWk97T3wfo5/AT5UvjD9136OfxR+sH0bfIe9LryB/W++qL7hf4U+XL2afk7+aD+R/4X+rP4J/OP7YjyzfSl9gT6Mfys/Zz+LfVt8uPvTfMT+578PQC8/eL/zftz9eX5lvtrATMF1Qa7/s37S/dd8xb2p/hP/oX+Cvwn8iHvZPTA9WL3lvVA8CHvM+vY53/tVfS49xz4cfkq9AX3BPmo94r2GvvU/HD6t/hR+nsADgLvAKADbABaBXEF/AVcAf4C9gPPAvMH9QRaBWAHIwVaBOUFaAf2A2gHvAl1CwIKyQ0WD+gNTQ7+EJsM+QqBETwRyA/gDsIM1RMTFMQXnhbuEewGNAOXBnQHwgzFFTgX6xafE8AQuQ6jDJoOig+IE1IT/w56ENIM2gqTDqEQHBNKFGoRsBAWD4sOKAqpAhIJ2gqUDIMPRQ9dDboMjQqmBq4HKgh8DYsAmgBaBZcGRQ47E+oJ8wg3/9P+IP8dA3sOuwuGCJ8FbACI+bj3xfpY/Ff9OfxH/pMA4ACH+4n4YPtT9tj1wQBEA/r8Cf7P9/ru0/D48g34JvQL+1v3XvCd78Tum/Ku7Y7uDOz54nLoBelZ7EbzYezH6Tfk8OSR6bTwhfB28Cvs9Ozm6KXuW/b+9gT6W/a/92r35vdq95b79PnA9e351fn0+tr/3vgj+mr3q/Kx9HP1KfyH+hL8K/q78Qjz+u5z9Mj28PIo8Y/tTfSg+L/4SP3e90fxE+2W7e/1Ev2u+nj5FPip9Q34sQF4BlkGLBF0DmoRAxVkHeEplSbIHesXjxSrGg8cIyE2HGkUPg0DCMMKXgzfEBYQXwleC60INQ+AFLgQ6QzPAuv8iwD9A7QJAwimBs8Cu/4uAAwGXgzRDfsH/gG3+In44/1LAxgLYxCYBdr+vP1VANILMQjMCKT/3vdZ7MTuyfS0/kv3gufI6NTfvOGK54fseer45Ffhh9/h5I7ukvUt9m3xWO7p5CflKe6p9l/98v4G9qvyU/dn/dr/ggIOAZ78aveH+gn+UQa4An/8Ffcz+fL+AADtBc8CIP+l/eP9sQHsB0YNLQJJ+k7x0vEE+X8IyQ7PEc8QjwchCdILZxcdH8YhHh0LFd4RhxVmGVkjUCXVIqkdrxMEE8kc9h8WHpsaLRA9DucPGxR+GIIQehCvBYX/NAPFB0gJswtJB8v+ewDAAtoLaRQDFaoNEwal/JX+JASqDWUN5wiRA7T9UvgS/PQF8AaOCIAF5Pvf9ZH2pfx1+eP8ofYP8xPtWO3Z8/rvme/s7JDqHej96QLwD/Mo8W3rAOUf5GHry+918bbzgPOb8x7m1uMq7cHz9vbJ9Jzwte5E5yPrlfBV82j6F/tU9Sb1tO/N7SHwAPOU8tLx2euQ6kfpwutQ9uDzhOyd6Ijj1OD85NbqHvRM9pXwP/EY8RPzYv6W/OwABf/w+mf8S/8oA/AGTgw4CUoG+gJnAegGdAbdDEwJPQhZAPICoAuADcINuwsdCh0CewEeAfgFaAcNCgkRbwi8AuwHjwf9C1MKLQheDAwNrwyjDTMT4RuRHjsgLR0IG2IfvR3AEMcZeRqHHLYbZxYdGNgVBBQjGnUaAhG9DmQI2AdTCgsIDgj5CjsFZAE+BlwIWQ6pD14MvQjoBhcGMgbOC0sSRxi3EzcS6AcGCT8MJhWrGuEaTRRLC1kHugUOD9wV4BVkD1kHxftY9P/0bvdeBOAHIQP8+o/z0vHY9Av7h/q19azvl+vv5lDogPIQ+ef1TPUN6oLoIeg763zs9OyN6FDnvOdg5yjwcu+g8Z/lRdj53Brf+OzW8HnxA+5/5l7jH+sc8i70LvqV96z3BPPJ9LD94gM1CfgGqAMtCJEJuQ9iEfET5xbtGscYehh6HmwiiSAdGIkR7hAdESEXyBfkFLAQAA1cCBIJCQssCvAGPwTx/8X7vvqN9sD1bfhu9xjx0+/07Fzu4euz6pPsFeiq5RPmsOF43cDZM9yR2gjeCN5U4CnhMNt32V7cc+Ak4+DltuTA4YjjZeW76jLsdfGr8RTxzvIU8v72uvoUBRkJRQcLB+kF1QazDGkMZw+kEYsVyBceFjsT7BXtGvYeYiB/HXEa0BYLFbcTSxEyFUIT1BafE4IQgBP/DuwGkQLFAKgD6AcyBv0DIf0w99f25PMj8if5H/Mo8WvvyO+h9n34fPrF+zz2lu457cjnxurW8Nrw8fgK9ub3G/Oz8sP31PsmAIEEjASsA8MDFv27/j0AagN6CgMOkw7PCuYEDAY8CjcMGw6DDgYKAgm1B5MHowxBDmwUIBphFEMS3hENEbEPSRXYFg8c6hjBFf4PNwyUC+kMWxeLFCcTahHuCeEGswucEkAYQhpKEyYOqgYTB8QJbAYwCwELPgYfBt0GIwbdDEUPGw3QCOwHHggeCAQF7wj5BEEApQJjApgE5QV8BcQC4v4H/Aj6vftBAEIF0gQHAY39sP5b/o/7/vxn/Iz5rPev+C77Kfxo++X5JfbW9zn0xfPg9JX2Z/bg9Bb1xvLK8fzyxfNz9RH3Cff+9bT2fPOx9HP0o/KK9cT2Mfbn9lb5Zfk7/1YFiwBR+pL0SO7F7BnvU/b1/4EE+f8I+vLwNOhI55ruivVH/k8DIgCr+Oj0xfNI9pf5Ivuf+mv1Oe2e53jsQ/d3/P78m/mH8zPrQuQX3lLcXODt5G3qWezO6wDrgOVw30rd7+CN6V3szO5I707qEeMv47Hmm/OGAYAFGAUF/0n6mfd0+0kHqBIyG5oc0xhnEGwOYQ0bDegUuRxUHbAebh9uGbUWMxNfEc8Ybh+gIHUhmRiwClUAVPxcAEQJ+QtrCNQAgvUt7/ftJPCe9fL3Q/gW9fftXewY8qrz6vex/Ov7+v1fA2MCEv1994zypfYv/84FgQr4DWUNVwpGBaf/8f9XCc4SjxWDFS8TwwugAwYCyAjfD9kTHRgxFzYNgwhqC78KUAloDiQStBFPEVgPqAvNBvAGiAx0DZEQ5BzuHp8TuQ4LDwwMvgwzE8MYJRjxE4YPQwvSC1oTABvTHuIgpCCoIJshdh5pGoQbzB5eIL0jMioaLOom7yMGJiUlTiH6HhAa0hIOEMMLQAIiANoEKAStAm8Csfy89m3xROg44nTeZ9q939Hl+uGl4ZzjI90e2AjWI9DIy93Jg8qL0BHUu9Qh2yDjm+Sm373YodM60C7RfNeU3K7fDeNW5GHlpejw65/saukH5nXj99/K5MrxyvnFADwJtQd5/1v3wO5x6sTod+ef7NXyRPW6+lwAHgEB/0L5L/IP7TToouby6VjtJ/L8+tsCsgc/DBgMfgMm/L76mPjw+f4BvgYtCcgPwhRJFe0SowwgBd7+lvsY//8HUhLSGikeFh6qHPIXaw8HBzMFGwcTBrwJShPfFssYHhzvFi0QbA0cBOz66/zgAGsBYgP9BN8C+wBIAuQAKvvl+Nn5RvnR+U36R/eE82rw2+7q77PxufQh96b03fJA9/79LwWcC7INOwvtBWABPQEgBGcJUA/fD/AN7A6fDaEJbwgqB78EtwQ3BeEFxQY7BOn/E/qF8IHqoOrS6kHuj/PU7j7koeED5rfqDfAh9gj5z/fv9Uj16/VX9kH0M/HQ7tTu5/bHBGAPAxZmGaAYwBcYGeMdESZZKksnxiEKHgIexB7iICYqBjMpMzEzRjc4Osg6bzkEN3gwGiVLIFwjXCQRJoAp6SepJdMmgSfxKCEtiC+4LM4nCyO5HacaPBdVDf0DSQCv/yIHAhHHEfcP0Q3ECN8IFAzCDf8OLwX58EPiFdpJ2FjgtOgL7W7wFe/a6lHsO/IY8tvog99E2g3VH89YyqvI0sctxILEE8oJzQjQhNBhyCbD8MEivXa+ucPlwA+7KrXasq67ocUKzPXVIdr51CXTE9eP3s/o6u838pXvFudM4VbjWOa06Tfyh/utAmUMMRbWGm8enCAEGrINEQQs/tT7xPxI/FH63Pvb/e79MAOUCwAOIw2NCigDQft88+7pnOJZ3SHaS9uu3zPrpfx2CZURtRXZFN8WJReADMv+aPNo7FjuY/UHAGkMxRSOHRIlUicrLxs4CDbDLpghaw+zBHcBpwUsEYUZMiJtL2Q5YkOPTJhLzEAvKbwJYPSF6kDoye3z9O8A3RO9I9Qxiz5ZPjowZhnn/XDlrNRZz6bXjufU+8oTqycDMRcxSSpxGlsCl+z737TboOLJ9HMJ/hddG/ETyQZh+Uvw2O3B887/8QvOGaAmhSZrHhcVTwPa8JnoBOWU6qH9PxKxJMM1ZT5xPKowCBsLAYDrGt+i2FzZ4+e5/DEPGCGqKs4nzSJHGQQGwfNX6eDlcul68L/3ff+ABs8KNwv8Bob9J/MG75rtgujd5MrjYOA23wXjUeYC6Ofnv+Oy3sPcHN1E4OjmPuvC62vuOO+g6qfq4+6J8Gv1C/vJ+4H++f4/+I/z2+/J7KvxpPd9/oUL0xGgEWQWbhmYGeIYGg9+A8v+//sO/dEABgKMBUgJnQnMCXUEd/va+I33LvSr8Urr2uMF4hzjjudr7rDvA+0h73b2ofzi/4ICNQLD/pX9T/5T/kj9n/qr+Mv2f/Vy/YULuRbJIpIrXicHHbEWCxXqEdYLSgxHEboTvxm0Hp4c6BsxF84MggkAB/cBNAPXA5IB1v9a+RPzvO5c52bjoeBW3drjNu1q8Rf0oe+15ijiW+E86MnzGvwrBd8J/AVvAsD8XPVl8uDs/uf868Xz6v5gCOsIbwlPClUGVgXoB/kKUBCbFMcYphy6Gg4XJxO7CxgF1v9r/ZEDjAwJEU0OngF68ILhVNlK3VjnO/F3+5D/uP0P+1rxOOJb1I3FSL0qw3DQx+KR93YDsANA/V3zAeqa5/LwGwA3C20TcBuYIcon1CvDJ/8cHg8tAt/8BwFsDbgeqStmLv0mZhggC+8Bbfkv+Mr/GwZWDPsV0RxLH7obMRDeBKX82PQk8SfyZvcXABwFBwdbCV0GuP7y903z8fHK8dT07v2RAm8BAQRlBaQDuwQrBoMHxAgWCeENZROIFHMWKhYkElsQGg+pD/YRRQ+IDHkLiweqB44JkAWdAmQAovuG/RMGYQypEEUWTxiwEWkMOg7mC9QHiQorDPkLGw7vDl8RNhWiFdEUjRHSDFsKLgdgCAcOGAuFA2r+OPen8S3uV+nr59Ppy+9C+RL9AAAYBaoAy/fq8EnlsNvb2qDcl96C4fDlGeje42/hv+IZ4ozkc+fe41vhb+Gl4Q7nc+5z9Kb6WPzF+jH9ywNeCz0Pqg46DSEJKAO9ABIB6gMdClwOUQ01CUYFXwM9Adj8v/eE8k3t6er864/s5O1V9Nb4xPX88v3xyO9i8VH0XfId8GLxMvPo86j3if89AXL9/gG8Cd4KtAp/CJUCJgDRAAoCaQVECSMMEw27CwkKHQnuCqMMsQi0AsX7wvKy7JrndeRR5iLfcNCGy/TJdciZzebN/MgcyEzEN8Bcw0jFi8Oaw5DHHtHh3QDrsPYF/wwGBgmuBrkHcgoFC3MQ+xbDGYUfsCZnLAI0tDonPj1AjUPiSa5Nf07mUXZQT0oXTQdUIVeDXJhf8VlhUxZPdUsKSZRDETzlNpAuQCb5JswlAx1HGBMUbgtMCKoHUwNBAV7+LPj+9Sn1VvFn7nTssOkD5znnH+zx8Y329fiu9H/tS+lQ57fqZfKF+Pr9LP47+Qr90gUqCFsK6QwsCpcGKwVcB3gNXxFmEg0SZQyVA478IPjI9Yzylu4y7Ibnd+Cg2+XV08yhxV3CYsBuv7S+M7phtIO00LadttK5Er0/uUC3PrsdvmXBasZJyivPkdMU1YTXsNsk4zHucPPO8gf1w/gZ/scE9AVoB2EMrwuJC1cRQhSwGEAfdh6FH6wmXSmUKEkkIhzLGCoWjBP8GvkgCxxLGFAXxRVQF+YY8hhQF98QoAveClQJbwlRDZsNeAaN/RP6B/uh/M0AWgUcBQcBpvuf+S38Nvsd9wL2MfZR+pEDtApAEY4X/haHFWoYMxlTGNcYRBhcFSkQDg+qFUsYWBbdGiodzxetF3Ea0BbnEAYJBwCL+3r2cvAv8aDxXeza6rHtiu4t70/wou1n5yfk0eRy4mTf7uFW5APmgOxH8VHzLvuJBOQH3Qb5A9MCzwNmAxgEDAboBjsLUhJfGBwhcSclJegiViDnFnYRpxNXETcMNwu3C2wOgBQUGusezSJNInoekxtKGkgXWhMwEkEO4gQ9ACYBJgHiAyIHJwXqAxkCxfrf9rH1mu2L5Xbi+dyL12zXQdi52CTbDN5b4RrnMe4g8Tfqvt1x1RXT+dVs34jqTvKF+Nb+bAZzEEIb+yRGKe4l0iEVIJQgiSeULyIxdzL5NH01HTqCQZhDvEEUPcc0wCzEJHEZ4Qz7AELzAOWX3dbcitmW0urMR8fuvkm1d65pq3ym5Z1OloOSIZRImhmj07Dyv8zKGNZW4xft5POn+Pj5TvmY+AD5aPpv/Gr/ngAiAAYCkAVmCqYOZgvAAeP2D+2s6JLn1eU9537oxeX05TPrVfQN/+4Cw/+b+ov01vCL7R3pher37eTtCfDw8iL11foN/3cBWQbwBr0B6v2S+334a/Z4+ZYAlAWBCmoSdRknIRcpzywPMZs2AziENoMyyi7dMIozuzVpPT5F10mJUChYmV1CYaJi8WDGWvZQyEeZQUo+kTtvOeM6hTsEN+QxayzyJYsiQR2wECEDCfjo7X/mCeM44jDiJOPz5oTs6fEx9tr3J/lM/Ab91flI9gDzgu9670v3yAKsCnMQ6BSyFFUUAxVLEksRjhAQBpT41vCM6kznbep+7xPzcfLn7jnt4+gu3tvT08zGx9/Fy8U0xTnEYMTqxg7MpNS23qLlXup87LzoJ+XG5Pbhe+CM4wzkv+Nb6SzxlffK/6kJyQ4yDdcKMAooCj8LtwteDN8PqxIbFLQXFh1UJGAqxSpZKV8mdSBUHr0dAhcbDZkCdfmS9Rr0sfQc+ZL7WPsW/IT6Y/WK73fny9tR0fPLL8gZxk3JtcubyZDIYcgyyZzNstDZ0JDPhsvVyPDIG8l3y4jPhdUb3unkNO+p/XEEPAoEFOQVSRZuGYwT5QxKDS8MugyUEokYVB39H64ikiUbIgcciRi6E80NOgZ7/Nv14vFH8db3pP6xAWoDewBd+ZfzevDf7mHsTOi748XeNNvf2ZHbiuFT6FvwiPn7+0j9oAS5BxYIhAwBDD0IwAiJCuMQURunIZQo2DKpOYQ+jESpR7dEwj2QNbwt2CruLDwtSy0RLrUqOio7L7MvuCyfKWQk0x7vFUQKvwMyAOf8dPqR93D6ewF2A/QGIw2mDRsNMwuoBLUAd/z+9Tj3g/ua/CwDNg66FBgabyTPLSgurirJKugqsyf0IiUeuhpLGfEakR5IHhYdnyGwJksncCOEGucP/QPE9dnsr+qe5tDfVtyb3areDN6S4KfjPOLv4FzfTdjwz+DJ+sS+waDA1MQIz3/YmeFv7nH4YPu8/QcBJgB//L/40fLQ7uPvz+838oL9NgekCogNswwDCC8F4gNQAqH8DPJD6fbhKNzp3F3em94U42jmz+h37n/uW+ll5b7dN9bA04jP8swT0bfUn9eu3pbnme/e99MCiAx9C7QCRP1N++34QPeF9yf6nP6ABYYQphy4JaYqsinvJJghyB2WFiUQswvpBZD/pvrW+ED9cQUVCzIN4gsABpj/CvxL+LvwvuVL2yTVSNLo0D3SaNd73wfnPuwN8bn0KvSe7g/lBN0k3HzeOeAI5Dzo6epD8Jz4VAHeCwcWqBlsFb8LjwBC+cD2c/W19U75Cf7yAoYJUBAHFtIahxwvGkEW5hHSC9cCcfm+8zfypfVt//oJDRHIF0kdlCBXJm8sqC1zLMIp/iS+IVIhQSMFKM8s6S9nM004CD6oQ/NHekhfQaQ07CmOJLMhbBy1FVUVLBllGvMdCySdJTglACMyG7MSZwkk/kb6i/tD96/xO/J5+B0C2grzD4ERjhBvEJoPIQr5AxT/ovom/AIC/QSVCbAR0RVjF5gZ7hcPFUUWcxbSEnANEgIJ8crk9uHK5PnpUO4l77Ht9OyE7HnqGeg+5OLba9NmzX7Fob5MvrLBgcYdzYzVf9935xzrJOra497cD9iV043TK9a01KDVetvv4NbpJ/NI9uL48fhV9MH09/Xf71fpL+RJ303fFON66J3vtfUr+R/5z/cA+nf88/uc+PfuM+RM4Ozeqt+b5VbrifC09jX8XAdBFiAafBMBDF4F/gGtARz/RP0bADcEKArSE9AdICc7LksukyoJJw0flxSyDiEKCQR/AdoD3AdxC7EPKhafGtoYQhQhEEINkAtJBzIAkvvw+c75kvwZAuMIcA48EY8UMBlaGjUXtxJ4Db4GQ/7n9rX0xPUk9/D6AABnAv0E4grcDywR+w4eB776qe8G6N7iZN+n3Orbyd9v58TuI/Ik8c3stuUy3g/Y5NEhzBTIncQ9w4HGEc071n7h1urG8Qz6vQEfBjsLzxAdEUEPHRCoEQkYbiaWMuw4WT+vQ65FXkr7TZdMa0fiPNIu2SGVFwQTgRIGEMUOcRL0FFITUxHyEKIPggkDAfD6OfUC7/zrgOsE7JHvQPaJ/pMH8hBuGaUd8xwAG+sXqxKKD4ERexVMFzgYlhzwIhgonC7iNL80rjCkLSoq4yUvIvQahA2lAfr9Rfzm90z1uvNx8bvxN/Gm7UrrJ+Um2RLTzNFJyvjBbcAPwpHGxs/E2oTl9+108/j5av8d/jn7Nvow9zT2s/lN+0j8v/+zBNgO6RpDIJ0ffRnHEZ0RuBA6B0v+VPXW6iHoNOiU5EPiOt612XjdR+OF4z3g2Ng+zz7JH8iryLDFWsAtvj+/sMWK0rPd9OS+65XwUPUe+5z+PQFqAxEEgweUC8MLvQ9lG2omhS3QMs8zVi+bKcAlAiXMJPQbOwvi/+D7rvrI/S//+Pnr9P3x5fEd9h715OzO4zPWRsm/x4/K+swP0ZvQdc7q04DdHucU8Qz5gv1T/rT9Ef5+/QX+8wErBXoJkRBKFFQXLB+RJiIrvC2PKk0jtR1LGU0VgBM0EcAJu/9d+kj8fgKfBvUEFQM3BVEH2AiQCw0LPwTB+rz12vir/zMFKwbnAk0GpBKAGhYeACK9HQsWPRU2FWgVxBe+FFQQBw/iCg0KbxCEEzoUvRayFboTrhSyFOEUzRUbFJkRdw9ODGILhg9UFisb6BuEG1Uc0RyaHBccJxtsGyod9xwEG7UcTiE6Ipsh9yNUJRUnVy2EL6MoZh96F10UVBa1Ff0RqwzPAh77EPn39YP0LvTd6zng6NdY0f3O/swhxWu+TbzaueO3nLjwupq9QsHRyIbS/dvJ5l/v0fLB81j0zfrmBM0GvQhSEkkVcROGF30Z6hjpGYsUfQvVBYz/p/iq87zuaukv5EjgidsK0zvOKtBJ0d3Qt85dyMXCcr8Hvfa+l8I5xAnGIMejyOXPS9uk4y3nE+xG80T2qPeW+6n9qgB0ByAMYhFmGQ4dTB0OHS4coCCLKbAteyr8IeIZhhdvF/sWUBdRFJsN6gqaDuYRFhDLCjsEJgEMBYcHRAO1AH3/vvlE9ZH2b/z9A68FYwKhAhwF3AdsDZcUkxuwHhcbfhdnF7wXfRmTGxAbjBo+GxYdziCAIQgb7RI1D/ANfQvjCU8KWAg8Ao/6VfRs8/71DfeA+Vf+ogD3AQQF9AYiB/QFoQJA/tX6YPs1AcwJJBL7FcUUfxYfG4sb2RtcHQIYdA0GAjz2R/GM8urv3eww8KLz+PJt8lX0PfR/7rnmOd9d13DR/8qPw3/DAsb7wq7DRsl7y5jOIdTZ1yTcCuHR5ULrSO819dT86f+YBMkN5BUTI9MzDD2sQ7hJeUtAUMhVEFO+S8RBDzg/Nsk3ADcoNC0s1SI9HUgXDhBCBmL35umP33bU5syLyTfHZcmozWrNTMzOzl/TFtlJ3tvgw+Ka5uXrqvON/vsH/w76F80ixi/8PgZIREn2SaBJS0m+Sy1IgD35NTowXCpFKhYr3CSyG64UwQ45CP8Ar/ni8bnmLtfoyi/IVsdRwsC9GLkcs6ixObWbuqDAnsM5xNPGRcpLzdXQGNbt3V3lSe3l+f0EIQkIDPYQSBcGHoAhKyEdH4McJxtlGiAZjheuFBMUpRYiFUQRBw9gCPr9fPLa4/fYjdTOzw3NyMxsyqrKLM0NzbfOttCQz57R6tTi1IvXPNrI2W/ggOyq9Hb9cAbyCpkQ+xX5GGIfziARGeQVnhVRFCcbkCE1HpMbLxvSGYwayhm0F9UULwwzBd4D2/179W3xKe7869vuPPaH+rj27/Tm9wX3DPn5/r373/UN+F/9LAMxCWsP4xY/GlYaXB1pIQkm+CmzKCEmOSTOIGMeexwXHAwh0yW8Jrwl3SJCIQUhmR8NIKkeQBcWELQK3Ah0DnkSDRLFFGAWaRTjF9cfQiL+HfkY1RPFDVIM+AwTB0/+iffJ8yz3l/oW9uLwC+09523kmuZC7Mvwxewf5VDhVd9r4CfkjORb4R3bAtRQ00zZ1N9m4iHh6+CG4enjIe8D+8T8Ofxn/Ib8AQSjDVoTDxxwIzElpioLMUkyAjTTM0wrTB7eEp4OGRHPEfsONArMAUn6fvZZ8wjzvvIp6O7UMsMnuli96sb+zJnNFcxQzEbQf9km53DsJOJh13rTPdKN2sjose6i8yz/zwoBGWQqozYUPb4+wzwZO9Y24DEGNMc0pSsjIqocERiRGK4cLxpMEIUER/c+67blr+Ou3x7ZWs6QwM+4JLnWubK6P79KwfC7WLXKs8C3br/ixprL4NBf2r3mIvS/A7gRpRbzFj4bsiLPLaE6bT10N6EzhjLHNeY8Fz+zPN02YyyNJ0opdSgRJ5Mi0xcGEGYKmQPcAFP9pfXn7tHl+tqC0+rMMskqyoPJfcdOx0rIxMui0RPXhtqU3Xjkd+6U+XsHKhUvIioxKDwbRZdTHF/jY1Fov2bTXRVY/1QlT+9Hlj9aNRorByRsItwjuiEJGPYJyft87LrdX9OfyTy/T7hKs+qwJrXWuUK6p7oIu2G6n7vJvKa7TbuOvWjDoM1j2kLrYAFcFm4mUDMIPpVI9k8aTp5HyEHGPRpBUUaoQl49JDz+Ojc9X0EuP/012yXeEhgE4PTq4kjTrsKFsuWrbawiroKw/bG6s9+3M7l3tYO0Y7csuLm8TcqD2L3m/PltDLUd0TGQQ8pRllw3X0dfc2McZkxkPmKyYe1fZ13qXiNhFV8mXANVhEVuNGsk1BWOCQ78jPGN6PDWTcnDxlC+ALOmrSKnwqTKpU6dU5WEl3KcnaLUp1qrtrOdvXzJwd/X9pkCMQklEZ0Yeh/kKsQ6vEKPPmc5DzjgOPw9I0QRQ5M4ySm1HfcWaRRhE/kLWvgO4VTSGcz1x0LCFbc+pdeTm4mKhiCH7obYhP+D44WHio+SgZ16qpW31cJizXfYwuST87gDYRSFJuE3ykTsTMlTZ12oZpppJ2dkYtRb4FQrUvNValfAT4NHVEG3NXwouB7dExAG6/W65THZp85uxm3BybuNuMe4JbcguW6+b73AvTnEp8exy3rU0tyt53P1igHsDRMbYSlnOSdFm0yPUzRX3ljGWlZZpVV1UmpQMFHlUnRTm1LRTa5F5jwVNZwunyK5Dob8Se0Y3c3QlsvuzN/Stta31G7NZ8RxwIjAH8Lxx1DMMcwQz6TVZ+Ep9tcKKxvUKxs4iz8YSg9UzFZoVdJRP0tgRydLZlEyVFlTlU/OS7BJ6EakQmw4miTYD4z/l/L96jfjZdZGyT280bO+tCK1vrNxs4irmaK8ob6fHJ6go4irtbWIwVfMxNmR6H34SwqTFQscgiWGLKMwEDZgOF03eTadNKkyCjPuNOszqC74KIsiHhznF1wPjgGu893kz9qn1oXNrsKcuRutdKbUp3+nIakVqu6jC6D/oAmkTqyLtBi5er4vx4jVTeV88rAC6hETG28ldS77MT827jrcP45HiEvPSeRFxT8hO+M6ZT0LQAY75yzKIO0ZZhIOCan92O2V24LMn8J/vKy4I7SWrpirS6p9q8KzvL1ZwinFc8o50ufZJeHF7Hv7zAmUGospCTQ1QGRH2EarS09QwkvLSbBJbUQYQ25D9D2wO308TjcrL7glARqpEI8HQfv37pXiYdaNzCfCJLl/tlS2WLbLuEa7wbtdujy4HLnMvOTCkM4Z2sHfoedj9lEHoBmhLKA8lUg1T35QK1JEVpVXuVQJUedOIFEWVjxXc1XSUj9KyT5GN94ubiDdDAH4wOgq3iXTi8oHw325srQOt/i6zbvXtwe12LYFuDO6Q8B2xR/JIM4V26r0Mg1hGpok+S77OfZITVTaWFFbgVjkUz1VR1cdVr5T7k/8TCtL3EejRKY/4zIWHmwHJfZi6VvbVs7MxO26XrEvrIisYrH+tp+60bubun25u7gtt2m5p8HyzaLfcPMgBAwUiyJELNk2LUdDWAti6WAQWXFRqkwVSe1ER0J2QaM9Mjg/NT0xAizDJgQbRAmF+MjnM9Wmwy23V7Hxq8OjL55umz2aHJ3UoZOmNKp/p+CgSp4VogCsOrqiyrzae+Zd8hQFwhoEMCZAFERuQ31EtELbQnRGskWFQwpBkjqYNu018zEdLVUptyEBExcAqe7G3djLHr09ryKhGZtum6Sc1KHwpVOim54XoNakH637tES3u7gtvhzHfNdT7/EEHhUQIswrFzf0RSNTUFxEXfBUNk2gSVNJj005TgVK/kjdRfA+cjsUNn8rch/YDjX86+6I5KfWdsWFudS1qrW6u+vDdMIVvli9B70txFrOmcwSxfnA3cKP0Rnpyv/mEmof+SfMMo8+z0jIT3lSmFJHUEVO0U03SkFGAEV9Q8JFKEoLRzo/ZjWGJdwV/Qqs/Z/rGdqxyo69RLYntFKz0bRwtZixjbEGt7K7lMCmw4LEF8kYzu7UhOTA9mIKiR8dLZU6eE3aWJhf9WfsaStotmgTadJnAmQ6YU5h7WChZE1ptWOkWIxL+joGLdEcmghY+9DuBN39zoLErb1cvYa+wcJVyZbKvsgKxdnCh8qi0FfNmc2q0bLXEekv/3YR/CITMBM3KDxpPlBBZEeBSa5Ffz8GOqU5XjyYPNM69Dd2NDYwsCY3GcoLhfh34IzPNMWkuYut36JJmNeNUoi5i6+QAJGakrCVJJYumH6boJxwn+GlcrAcwD7QoeAu9CMFBhFVHNMmNC4SM0s1JTNqLfwooCf6JU0j2iBiH9Mfbh+PG90T8QV4843iT9RSx7a6Rq0DoI2UxI2rj4GWGppImpWcnaL2qfKxJ7rWv0XDcsbMyvXUaOU4950J7BuSLGo7skVkTs5Zj2FPZWVoc2MMWn1ZJ2G1ahNwJ24Wa6tn0mBcWylWIEvIOtcmpBFx/z7z/Ou44W7U+swfyTfHQMxV0IXNA8v/ylvNdtOp2pLgleKf5PXwsANhEwgibDBqPHRG0E4JWPxg8mSzZtZmJ2C9Va5Ny0l4TBZVNlvIVclGnjjaLd4gahLhBqT4zN/+xOi0kKttpJKhM55/mVmYPZkYnramgqg3pBmjTabkrXW5Wch62hHpC/R5BKUXZSgbOHpCNkWnRd9H6Ez3TqhJ/UN7QGo7KTrNPydEr0MWQWw4/iXTEbwCvPXm6dDfQ9Sgx469ircHtT60f7bku8O/ssEPw2jDIcWNxRbEVMss2wTrgvz4DXAboyi8NKY/cE0cWSBf5WAyWxhS607iUD5To1NhUkRQDUnoPlY8Hz4tOb8tPR3dBevt5tpsyui8pLKap8aeOJx7mneaRKF8pY+gmJy6nkSixqXnqH2r2rKnwUHRqt7s7OL39v3sB1UVTx99J/sq0CQmHLQX6xfRHKoj3SnLLQItPyiQIIUY4RMfDbv/OO8V2+nHuL5buEGvU6qApmGfCZ00ogKpC66RsbK0ZLWYsquyN7lzw03RLOIu878EURV5ITgtxzztS+NWLV0CXgtbsVbSUlZS6FP/VJxY6l5XZCNo7mUcWUFHjzeuKvsdfw9ZAMPxt+Me2JPQ+sx+zCHM38sgzunPYc+m0O7TQ9VL1IbTutY04mT0LwaPFW8kQjBgOQxEE00IUvJWr1kZV7dScE0iRuw+ajuXPi5GBEx5S6RCDDaLKRwaAgpk+5HpfNeUx0G2dqoqp/GkJ6YYq8WtLbD2r1KrM6zysWS1XrnUvdnCO8703ify3QZqGHckzCt/Mro+r0uQUYRTn1KHTT9Kr0pHSktJlUjcRgtHpEoETJNGDjruJkAR/vyN6XPZhc1WwOi0wK9WrKOsnLFtszW2SL58wc+++7yPvJy/w8YT0XvgJPD2/TEP+R/aLWk9ykrpUtNX31bKUR9N1EdtRE5Fj0YuRolDwj7bOh83vjAFKCIc7gpE9s7jsNQWxJuzvKg2oHiX+pOXl/mdcaTfqbur5qovq26qUafQqDWv/raSxMbWGeiE+esIIhYSJaMvGjNeNT81+TQLOdU3Ry0lJgQpxi9aNfM53zoNNNYogxxzEEEIIf4I7CnZ0ciAu8W0qq7Mp+Wlp6S6paqtMrS0uLm9qrwzuRi59blyv+vKMdnp60EAPxNTJvU1fkEnTNRUh1t2Xs1aUFUMUnlRqlN0VG1SLFBRTUpLiUrKREo2gyNxEhYCVvF/5r7dHc38ugevkallrEiw+q+3spu07rEmtXO8r8BuxZDI1cjs0BjkyfrnEEsmpjjNRptTz16MZwRvvm75ZrBlVmeYYGhbF1tQVTxQ3VL4UxJPf0YLOScp6hg7BNfvy+IF1WfEt7h4rbaltKpYr/OvgrcPux23irffty+64MPRyenPztzr5h/zdAZeGdgrazl3QHZJaE52T1BV4FRBTetHFz7HNfM4Kz6NQzFI1kMpOtQrXxhvCbz9W/DH4g/RKb56sdepPaf4poemHaljqfunnq5wtUy21ribu9e+9cfq0+/gY+8F/zwQ2x43LiBD8VIXWyRgz114Wxxfbl9uXqVc6FMGT5FQsU7oTeBNlkdLPPQpCxZMCDz2CuHI00zF9LMtqcWf7Jjumz2hYaXyqi+sSKnUqIapU6lRray4Fcbc0Xvf7+71/u0SNCbpLyEzyjb6Olo81DlCNx00vCzKJ5QnmiQHJDYpESdgHSIWgA3JAHDzIOO60BTAY7ABpP2cM5d8kT+OGY7RkbmZqKM/qg6pRqXGpRWpoa+HvEjLIdqX7EP+9gryFxgoLjifRC9Lj0wRSgRFT0I0Q+1D9ESLRb9CLUALQOE+SDq7LtQdUBDSBUP4z+jf2VDMH8K6u3K3KrQ9tbK7er/LvzjF3s6+19ndfN6E3tbjTe1X/hIWZSkyN4xEnFHqXuNronf/f1B/knh3capoL2HQXPVYx1hlWl5YmlVmUEpEdTW/Jr0WWgVE9tzte+ad2hvQXsfLvti96MLAxXLGdsZGyVXQqNRK1ovYCtlZ3ZjqF/vSC3sdSi/GPdFFj0wHVBJW+1TBVfNUqFFJTqlIPUCSOtw5FTtEOlAydiadHsIUwwM59FzmL9W3xne9qrXUrw6pfqEWoSel26nhsoC6tb31v9i9MrzWwNbGJ9Cf3pbt8Pp9BDIOYRv3JOgp+ytqJx0fARmLFYAUMhSwEEcLIQoHDtoRYhK+DTECGvSJ6QPfDtI8xvm4Jq4YqwumsaH1o72gp51OpCSrQrSBwJXGe8q/ztfTD9+k6VrxdADtEoUfRSt4N+E9SEFCRQ5H5EXXQv8/Qj29OPQ2cznfOsE4RzQAMbgsqiMnGnsPCwHG8ZXhudKJxrG9SL2wvkW8B72gv1LBqcSAyA/Q2ttO44bn6+5g9In4AQUcE0kdkisWOddBt0oDTRVKBUsQS1RHXkSwQd86BzJ9LoEusC3ILPAp1CNiGQwMqgB/9APmotfhx1G777YOtxW3SLa9tUazmLHqt0LCTMup0m3WTNnF37brm/lfA3wMCxYKHiIq1jabPvVDR0J7OIsxljFNMf0tTCusJqQgZx4tHRccxRsiHC0e4xdVB/L3JOqm38/bg9hT1I/QLM0SzD/OSNLb0wnV99me34vmX+8r+UcE2gsUEywgNy5QOrBCrkaYSu1LAkizRLdDNDy0LHQi3h/uHlcfdBytFgIQKghTCqkQgQu0A7n8U/DG5ITdCNbAyzLD3sDZwkLILcxIy3/La8ynz0Ldse6n+NQAaQ31En0SphzvKyo4hUIART1GHUkBRNw/oz4/Nnos1CQiHZEYIRjnFzoUbxDdDVMKWQfYAZT4ve1E4JDVNtClywnGer5XuPa2vrqywmHIl8nuxobESMuM1Yrghu9O+LT9bQXYCBYPVxjtGtEchR/rHaQY6w/hBXr+n/mW9Vz1APnG+dv1UO8l70b5a/2u+9D7L/I25bbdqdPbzGjJzcKzwK7DGMctzN/SOdjz2FjY+tl03irmLu0L9OD72gPYD7MaJyEkJ84nsCUaJUYihSDIHUEVAQw1Atj06epV7f/0Pvnb/Jf6QfRc9P71rvra/lX0kufg3w3Vcc79zRPQx9RB2G3dUeU76pbtvvLn9un48f+lCY8OBhgBJwsy1zvLQrhCokCOQc9BjjrzMT4pCBu+FOgU/AwqCJAMEhCqDkINxhPYHOofWRx+EWUF5Ptj9hH4ffft8a7tGekp6NztO/grBkwPMxJcFtEbZiC4JXMrjS6ZNDo+LUCJQphKp0tKSwxL/UMEPlo2eCkoH60XGBJhDJoHgglwDrcSIhWPFRYXYxd0FZIPtAPq9qTqLOOY40vjz+HP4tDmqu2I8pT5OgbDEsUbsxobFPkRAA7TCtsQHBnCG84ZZhhkFXQOqQjUAS/5uPCf5cja8M9XxXa/3bqnugjCZchhyZDIlcyFzjbJB8r9x3C7R7jmuOWz77XGuqm9LMe/1EnfEucT7CHv2/VB/JH+JwWWCOoCpgBt/578QP2W/IP7uvov+IP0m+ug4hPf3txq2zbXltGczv7Lr8+K2uXkqe4o94f7APng9HP1t/E97XHxpvN18gr1tvnRAO0LRhqdJXgq0yxcK5MpgyvcKmwq/iyLKnQiHh0AHJ0YuBeIG5wZfxVMED4GBwDG+X/1Qfu2+h71dfg9/I3+pAMWCb4Mjw3oDpsNTQdHBIEECAZECsINwBAnFE8YKyF6LZg1wTigPLs8kzgPOKQ08S4GLbgmPyCjGoYPbwmTBnIDdQS7/p71MPC+5aPdztwh22vZ+NbM0lzRltIx0vvRadZE2dDYgdyw4Y7nvO/j9f78Jwa3C58NAhGhF7UdoiMnKLoozCynL7ErySnyJTcg0x6YGvcWmhVIEEYMawkHByMFsP249hHx/uef5VLrT/BO8QjsvuTl46Hn4Oa74gbhzN9c4BPmlPEmAB0JNRDmGI8b2h/HJ18sbzK5MlssBiwqKnolzicuKv0mHiPnHlAWVBAEE5kQ6QVx/3T7OfTO6lnkoOPG45vl2+c25d/hl92U1lHRhsvQw9O/7cAHw5fJQdlg5rzvlf7nCEYN7hEwEfYRVBYmFasThRJhDW4K7QwNEkUV2ROWD6QL1AdrAhMAR/+f+WD01eyp4JXbQNrB1y3axt0231jfr9xJ11bP7ccPw9LAI8GQwRTH1NL/383zAgk4F28k1ywlLQwvEjLhMKQtCCk9JDEl+SaAIXMe4h/2Hr4iiiWxHToUhQsOAiP5P/GS7lbqrOJ64ZnhsOFl5X3jRt7D217V8sxlyFTECMHswifIGtH/3jLsyftkD9gcxyb8MJkzRi8uKpgofScUIcUcgxxxGhQaexydHzsgixvyFz0VEhDODM0Hjf5H9+3yS/ES9ZL7zPxa+Ivz1O2J6aXnz+HP2jbXidSe0bbQN9YT35LnjfZqCqMb7CmHMRcw7yuXKT8nISarKBEnmyFCIpMiDR8gIJsiTSJPHz0WCQqNA3wFngcnBmwHpQjjAm35hPM38gruY+i158fiqtj51GbUitPg10rdj9+m5Wbxc/wAB9ITLyK2MIE7Q0M1SGVFfkHBQK89Ez4GQuQ/ijoYNc8siyNQHvMc+hcwEbgQCRGYDA4IfAXTA0cDlgGP+iTwweWt2RTPkMhzw7bCb8RZwbG9Kb6zwCfIGNbq4ZbnDOw88AL25f/3B4QMZw9+ECMU4xcsGUEd3x58G24YSBBeBcUA5/zD+JP6ev5HA1cKTwqpAo396vfc7SrlO91D1bvNC8M6u+S7OL/3w/rLINX53FXfut2C4aDpVO5Q9VcCjgntC7oUWB3CISYrrDTTM+Iu/yqYIfcVwA9VB2z6H/Ls7Anque7Y9S76T/5FADX88/SD7U7jzdfZzxDIGb98uu632bT+t3nAXcg80znfbeR357HtMvQ++dD8pQIIDQ4XwyAaKxsxWjYpQc5K2UvJRcc7ui8iIxEYTxEnDRIJlQpxErAXlBn3HCEe1hr3FXwMgf4j8g/mrtii0HjQjdQu19DYBuGU6lvv4/VR+7X7kf4qAI78ev5WBTsLYBa9JJguzTgoQgNHK0wETPFE+D08MwMkPBcDDhwLig8EE6oUThovIZojFyPTHuMWMwyO/JzwU+nR3e/S2s66z07Vyd4Q63L2gPmg9zD3QvkD/Jz+GP9X/dj86/ueAFAPjSCRLcQyTTGOLI4klR7hGvcOgwFn9nDsSeyv8rj2MvsGAg0EWgR0Bu8HowYN/9HzG+yD5o3hxOCf3ZHaINzI4E7qzfT+/CYA/v3M/Ef/av76/TUBNQELAWIETwqfE0cfVyU+KQIsICdHIIEZIRGkCrYGw//B+wr9Vv+MBZgM1A6XDckO7A0aCOwAD/py8Ifl3+BM4NDfh95Q4Dzh9uE65WXk7uIs417iNeBR3qXZ7tRt1STbU+IF6d/uXvDQ9eX4YfPY7gLvpe9d66rmZuMo4gTlBOzG8vn4Mf2Z/nv8sPd1+Vz7ev2i+6jw5+dS4yfl6es47yDxpvSb8j/xH/Iv8d7xXfKW7tPoD+1t8WD1UPwT+pz3Hvv7APIJ0Q7TCcMEwQCs/jP/agMXB6oAqP7W/0EBNQnTEYMV0RUpF9sXgBolHxEfahnXF44XERkiHDIczx7pGvMV6BQTFJsU5BXiGPoXWhIhEBgSzxErFIgU8RL+EKQL0wqqDtEUIhW6E9YSJRBQEEoTaxfpGnIfUiAHHYQa5x1BHYQazRzuGIQTUBBZDhkJtALI/Z/5+vYd9hz4ZvgV9yHvHeml6CbmPeee7dTtbulN7b3tJu7o88j2Bvbv9WD1j/OH+1UHZxDKEpkRYA/aC64OyhMmFfMVixX4DVEOgRFiEu8WPhS/EQkSXxCzDBULKApmCgoJEgIv/0gBTQAa/Fv9Qfyw/b/+vvmJ+O3yevCs8NHsr+uR7wP06vcH+/L9tP5z/Lv+Ev20/rIAtfxC+ub3ovrz+1v+cwL2AiIBKP6N/kIF6Aa5AX79OfUv8XnqX+hz7kbs5ujp48XfJ96130bkFufK4/Lb7tQg1Z/Wz9R22rHZyNlY33rideqA8+35lvV674Hwq/LC8i315/bI9bbz/PNl+f/6t/99/0D+hwA6+h33KPdz9S70ZPTV8l3zgPIc8mb4JP+GAiIBFwCE+s74cfnh+f79B/xa+Sz4vvo9AUEH3QZkBxkKDA39EugUEhfNFWYRnAsZCrcMog8FEjUQxA8uDhwS1BUAFHoRUQ2gBP/76PrD+Db6zPyP+z76hf8vBToH5wlsB0MEXPvA9S327/WY+MT8VQDy/qT+zQD9AzYHeQxxC7kIvAnbCewOwg2vDCcNdA1bEAQTSxjRG/scRhuNGasZMhzAHjkkSR3oDn8PbhGfFFwVORaqFYYQLRBsDWoK3Q3QD3kLuAkLCPoJHw3xE4QadhizGTwXGBnkG0EcjSA8HxEfviI/IeYfPSMIIsQkuCYWJe8j1CQvIh4VLxSYEyIPTQ4xCG4DCwBS+fX3XPuj+Z/67veR8M3mY+EV4ejev+I44breHNy12JbZDdtz3/Xie99+2kjZSdeI3VvhleGQ47viL+MZ4rXnzO5i8UzvKe7v7pLtbO3e6kXmCOWg6vTr/+wj7A7ouefJ5h3okegt51Xfxtbg0V3PI9CS0pTVBdRx1gHchePa6orvw/Fu8JLt3+jm6L3tgfeP+kn7Af+0/v8ANANwB+IKRg11DPIKhAyzDOkL0Q4bFBsVTxjUFYgTNBGTDasLmQPi/075EPI=\" type=\"audio/wav\" />\n",
       "                    Your browser does not support the audio element.\n",
       "                </audio>\n",
       "              "
      ],
      "text/plain": [
       "<IPython.lib.display.Audio object>"
      ]
     },
     "execution_count": 9,
     "metadata": {},
     "output_type": "execute_result"
    },
    {
     "data": {
      "image/png": "[encoded data removed]",
      "text/plain": [
       "<Figure size 1008x576 with 2 Axes>"
      ]
     },
     "metadata": {
      "needs_background": "light"
     },
     "output_type": "display_data"
    }
   ],
   "source": [
    "# STFT Example\n",
    "y, sr = librosa.load(files[10], sr=fs, duration=1)\n",
    "y/=y.max() #Normalize\n",
    "duration_in_samples=librosa.time_to_samples(1, sr=fs)\n",
    "y_pad = librosa.util.fix_length(y, duration_in_samples) #Pad to 1s if smaller\n",
    "y_stft=librosa.core.stft(y_pad, n_fft=n_fft, hop_length=hop_length)\n",
    "y_spec=librosa.amplitude_to_db(abs(y_stft), np.max)\n",
    "plt.figure(figsize=(14,8))\n",
    "plt.title(\"Short-Time Fourier Transform Spectogram \\n %s\"%files[0])\n",
    "librosa.display.specshow(y_spec,sr=fs,y_axis='log', x_axis='time')\n",
    "plt.colorbar(format='%+2.0f dB');\n",
    "print(\"Spectogram Array Shape:\",y_spec.shape)\n",
    "ipd.Audio(y, rate=fs)"
   ]
  },
  {
   "cell_type": "markdown",
   "metadata": {},
   "source": [
    "## Encode Labels"
   ]
  },
  {
   "cell_type": "code",
   "execution_count": 10,
   "metadata": {},
   "outputs": [
    {
     "name": "stdout",
     "output_type": "stream",
     "text": [
      "21 classes: Avocet, Coot, Crake, Crane, Dove, Gallinule, Grebe, Grouse, Lapwing, Nightjar, Oystercatcher, Pheasant, Pigeon, Plover, Quail, Rail, Sandpiper, Stilt, Swift, Turaco, other\n"
     ]
    }
   ],
   "source": [
    "# Encode Labels\n",
    "labelencoder = LabelEncoder()\n",
    "labelencoder.fit(labels)\n",
    "print(len(labelencoder.classes_), \"classes:\", \", \".join(list(labelencoder.classes_)))\n",
    "classes_num = labelencoder.transform(labels)\n",
    "\n",
    "#OneHotEncoding\n",
    "encoder=OneHotEncoder(sparse=False, categories=\"auto\")\n",
    "onehot_labels=encoder.fit_transform(classes_num.reshape(len(classes_num),1))"
   ]
  },
  {
   "cell_type": "markdown",
   "metadata": {},
   "source": [
    "## Train and Test Sets"
   ]
  },
  {
   "cell_type": "code",
   "execution_count": 11,
   "metadata": {},
   "outputs": [],
   "source": [
    "# Create Train and Test Sets\n",
    "splitter = StratifiedShuffleSplit(n_splits=1, test_size=testset_size, random_state=0)\n",
    "splits = splitter.split(files, onehot_labels)\n",
    "files_arr=np.array(files)\n",
    "\n",
    "for train_index, test_index in splits:\n",
    "    train_set_files = files_arr[train_index]\n",
    "    test_set_files = files_arr[test_index]\n",
    "    train_classes = onehot_labels[train_index]\n",
    "    test_classes = onehot_labels[test_index]"
   ]
  },
  {
   "cell_type": "markdown",
   "metadata": {},
   "source": [
    "## Convolutional Neural Networks"
   ]
  },
  {
   "cell_type": "code",
   "execution_count": 12,
   "metadata": {},
   "outputs": [],
   "source": [
    "#show_web(\"https://en.wikipedia.org/wiki/Convolutional_neural_network\")"
   ]
  },
  {
   "cell_type": "markdown",
   "metadata": {},
   "source": [
    "## Create Model"
   ]
  },
  {
   "cell_type": "code",
   "execution_count": 13,
   "metadata": {},
   "outputs": [
    {
     "name": "stdout",
     "output_type": "stream",
     "text": [
      "WARNING:tensorflow:From /home/rutherford/.local/lib/python3.6/site-packages/keras/backend/tensorflow_backend.py:4070: The name tf.nn.max_pool is deprecated. Please use tf.nn.max_pool2d instead.\n",
      "\n"
     ]
    }
   ],
   "source": [
    "# CNN Model\n",
    "model = Sequential()\n",
    "\n",
    "conv_filters =  16  # number of convolution filters\n",
    "\n",
    "# Layer 1\n",
    "model.add(Convolution2D(conv_filters, 3,input_shape=(1025, 87, 1)))\n",
    "model.add(MaxPooling2D(pool_size=(2, 2))) \n",
    "model.add(Dropout(0.40)) \n",
    "\n",
    "# Layer 2\n",
    "model.add(Convolution2D(conv_filters, 3))\n",
    "model.add(MaxPooling2D(pool_size=(2, 2)))\n",
    "model.add(Dropout(0.40))\n",
    "\n",
    "# Flatten\n",
    "model.add(Flatten()) \n",
    "\n",
    "# Full layer\n",
    "model.add(Dense(70, activation='sigmoid')) \n",
    "\n",
    "# Output layer\n",
    "model.add(Dense(21,activation='softmax'))"
   ]
  },
  {
   "cell_type": "code",
   "execution_count": 14,
   "metadata": {},
   "outputs": [
    {
     "name": "stdout",
     "output_type": "stream",
     "text": [
      "Model: \"sequential_1\"\n",
      "_________________________________________________________________\n",
      "Layer (type)                 Output Shape              Param #   \n",
      "=================================================================\n",
      "conv2d_1 (Conv2D)            (None, 1023, 85, 16)      160       \n",
      "_________________________________________________________________\n",
      "max_pooling2d_1 (MaxPooling2 (None, 511, 42, 16)       0         \n",
      "_________________________________________________________________\n",
      "dropout_1 (Dropout)          (None, 511, 42, 16)       0         \n",
      "_________________________________________________________________\n",
      "conv2d_2 (Conv2D)            (None, 509, 40, 16)       2320      \n",
      "_________________________________________________________________\n",
      "max_pooling2d_2 (MaxPooling2 (None, 254, 20, 16)       0         \n",
      "_________________________________________________________________\n",
      "dropout_2 (Dropout)          (None, 254, 20, 16)       0         \n",
      "_________________________________________________________________\n",
      "flatten_1 (Flatten)          (None, 81280)             0         \n",
      "_________________________________________________________________\n",
      "dense_1 (Dense)              (None, 70)                5689670   \n",
      "_________________________________________________________________\n",
      "dense_2 (Dense)              (None, 21)                1491      \n",
      "=================================================================\n",
      "Total params: 5,693,641\n",
      "Trainable params: 5,693,641\n",
      "Non-trainable params: 0\n",
      "_________________________________________________________________\n"
     ]
    }
   ],
   "source": [
    "model.summary()"
   ]
  },
  {
   "cell_type": "code",
   "execution_count": 15,
   "metadata": {},
   "outputs": [],
   "source": [
    "# Loss Function \n",
    "loss = 'categorical_crossentropy' \n",
    "\n",
    "# Optimizer = Gradient Descent\n",
    "optimizer = 'sgd' \n",
    "\n",
    "# Compile\n",
    "model.compile(loss=loss, optimizer=optimizer, metrics=['accuracy'])"
   ]
  },
  {
   "cell_type": "markdown",
   "metadata": {},
   "source": [
    "## Train Model"
   ]
  },
  {
   "cell_type": "code",
   "execution_count": 16,
   "metadata": {},
   "outputs": [],
   "source": [
    "def featureGenerator(files, labels):\n",
    "    while True:\n",
    "        for i,f in enumerate(files):\n",
    "            try:\n",
    "                feature_vectors = []\n",
    "                label = []\n",
    "                y, sr = librosa.load(f, sr=fs)\n",
    "                if len(y) < 2:\n",
    "                    print(\"Error loading %s\" % f)\n",
    "                    continue\n",
    "                y, index = librosa.effects.trim(y,top_db=60) #Trim\n",
    "                y = normalize(y)\n",
    "                duration_in_samples=librosa.time_to_samples(1, sr=fs)\n",
    "                y_pad = librosa.util.fix_length(y, duration_in_samples) #Pad/Trim to same duration\n",
    "                y_stft=librosa.core.stft(y_pad, n_fft=n_fft, hop_length=hop_length)\n",
    "                y_spec=librosa.amplitude_to_db(abs(y_stft), np.min)\n",
    "                scaler = StandardScaler()\n",
    "                dtype = K.floatx()\n",
    "                data = scaler.fit_transform(y_spec).astype(dtype)\n",
    "                data = np.expand_dims(data, axis=0)\n",
    "                data = np.expand_dims(data, axis=3)\n",
    "                feature_vectors.append(data)\n",
    "                label.append([labels[i]])\n",
    "                yield feature_vectors, label\n",
    "            except Exception as e:\n",
    "                print(\"Error loading %s. Error: %s\" % (f,e))\n",
    "                raise\n",
    "                break"
   ]
  },
  {
   "cell_type": "code",
   "execution_count": 17,
   "metadata": {},
   "outputs": [
    {
     "name": "stdout",
     "output_type": "stream",
     "text": [
      "Not inside Google Colab: No module named 'google.colab'. Using standard configurations.\n",
      "WARNING:tensorflow:From /home/rutherford/.local/lib/python3.6/site-packages/keras/backend/tensorflow_backend.py:422: The name tf.global_variables is deprecated. Please use tf.compat.v1.global_variables instead.\n",
      "\n",
      "Epoch 1/30\n",
      "450/450 [==============================] - 256s 570ms/step - loss: 3.1690 - accuracy: 0.0511 - val_loss: 3.7965 - val_accuracy: 0.0733\n",
      "Epoch 2/30\n",
      "  1/450 [..............................] - ETA: 1:05 - loss: 2.1937 - accuracy: 1.0000"
     ]
    },
    {
     "name": "stderr",
     "output_type": "stream",
     "text": [
      "/home/rutherford/.local/lib/python3.6/site-packages/keras/callbacks/callbacks.py:846: RuntimeWarning: Early stopping conditioned on metric `val_acc` which is not available. Available metrics are: val_loss,val_accuracy,loss,accuracy\n",
      "  (self.monitor, ','.join(list(logs.keys()))), RuntimeWarning\n",
      "/home/rutherford/.local/lib/python3.6/site-packages/keras/callbacks/callbacks.py:707: RuntimeWarning: Can save best model only with val_acc available, skipping.\n",
      "  'skipping.' % (self.monitor), RuntimeWarning)\n"
     ]
    },
    {
     "name": "stdout",
     "output_type": "stream",
     "text": [
      "450/450 [==============================] - 278s 618ms/step - loss: 2.8427 - accuracy: 0.1422 - val_loss: 3.3048 - val_accuracy: 0.0667\n",
      "Epoch 3/30\n",
      "  1/450 [..............................] - ETA: 51s - loss: 2.0441 - accuracy: 1.0000"
     ]
    },
    {
     "name": "stderr",
     "output_type": "stream",
     "text": [
      "/home/rutherford/.local/lib/python3.6/site-packages/keras/callbacks/callbacks.py:846: RuntimeWarning: Early stopping conditioned on metric `val_acc` which is not available. Available metrics are: val_loss,val_accuracy,loss,accuracy\n",
      "  (self.monitor, ','.join(list(logs.keys()))), RuntimeWarning\n",
      "/home/rutherford/.local/lib/python3.6/site-packages/keras/callbacks/callbacks.py:707: RuntimeWarning: Can save best model only with val_acc available, skipping.\n",
      "  'skipping.' % (self.monitor), RuntimeWarning)\n"
     ]
    },
    {
     "name": "stdout",
     "output_type": "stream",
     "text": [
      "450/450 [==============================] - 257s 571ms/step - loss: 2.4643 - accuracy: 0.2756 - val_loss: 3.2950 - val_accuracy: 0.0933\n",
      "Epoch 4/30\n",
      "  1/450 [..............................] - ETA: 47s - loss: 2.9171 - accuracy: 0.0000e+00"
     ]
    },
    {
     "name": "stderr",
     "output_type": "stream",
     "text": [
      "/home/rutherford/.local/lib/python3.6/site-packages/keras/callbacks/callbacks.py:846: RuntimeWarning: Early stopping conditioned on metric `val_acc` which is not available. Available metrics are: val_loss,val_accuracy,loss,accuracy\n",
      "  (self.monitor, ','.join(list(logs.keys()))), RuntimeWarning\n",
      "/home/rutherford/.local/lib/python3.6/site-packages/keras/callbacks/callbacks.py:707: RuntimeWarning: Can save best model only with val_acc available, skipping.\n",
      "  'skipping.' % (self.monitor), RuntimeWarning)\n"
     ]
    },
    {
     "name": "stdout",
     "output_type": "stream",
     "text": [
      "450/450 [==============================] - 250s 556ms/step - loss: 1.5365 - accuracy: 0.7156 - val_loss: 3.5867 - val_accuracy: 0.1067\n",
      "Epoch 5/30\n",
      "  1/450 [..............................] - ETA: 43s - loss: 1.8554 - accuracy: 1.0000"
     ]
    },
    {
     "name": "stderr",
     "output_type": "stream",
     "text": [
      "/home/rutherford/.local/lib/python3.6/site-packages/keras/callbacks/callbacks.py:846: RuntimeWarning: Early stopping conditioned on metric `val_acc` which is not available. Available metrics are: val_loss,val_accuracy,loss,accuracy\n",
      "  (self.monitor, ','.join(list(logs.keys()))), RuntimeWarning\n",
      "/home/rutherford/.local/lib/python3.6/site-packages/keras/callbacks/callbacks.py:707: RuntimeWarning: Can save best model only with val_acc available, skipping.\n",
      "  'skipping.' % (self.monitor), RuntimeWarning)\n"
     ]
    },
    {
     "name": "stdout",
     "output_type": "stream",
     "text": [
      "450/450 [==============================] - 305s 678ms/step - loss: 0.5344 - accuracy: 0.9622 - val_loss: 3.9309 - val_accuracy: 0.0800\n",
      "Epoch 6/30\n",
      "  1/450 [..............................] - ETA: 48s - loss: 0.0702 - accuracy: 1.0000"
     ]
    },
    {
     "name": "stderr",
     "output_type": "stream",
     "text": [
      "/home/rutherford/.local/lib/python3.6/site-packages/keras/callbacks/callbacks.py:846: RuntimeWarning: Early stopping conditioned on metric `val_acc` which is not available. Available metrics are: val_loss,val_accuracy,loss,accuracy\n",
      "  (self.monitor, ','.join(list(logs.keys()))), RuntimeWarning\n",
      "/home/rutherford/.local/lib/python3.6/site-packages/keras/callbacks/callbacks.py:707: RuntimeWarning: Can save best model only with val_acc available, skipping.\n",
      "  'skipping.' % (self.monitor), RuntimeWarning)\n"
     ]
    },
    {
     "name": "stdout",
     "output_type": "stream",
     "text": [
      "450/450 [==============================] - 262s 582ms/step - loss: 0.1453 - accuracy: 1.0000 - val_loss: 1.0704 - val_accuracy: 0.1267\n",
      "Epoch 7/30\n",
      "  2/450 [..............................] - ETA: 37s - loss: 0.0921 - accuracy: 1.0000"
     ]
    },
    {
     "name": "stderr",
     "output_type": "stream",
     "text": [
      "/home/rutherford/.local/lib/python3.6/site-packages/keras/callbacks/callbacks.py:846: RuntimeWarning: Early stopping conditioned on metric `val_acc` which is not available. Available metrics are: val_loss,val_accuracy,loss,accuracy\n",
      "  (self.monitor, ','.join(list(logs.keys()))), RuntimeWarning\n",
      "/home/rutherford/.local/lib/python3.6/site-packages/keras/callbacks/callbacks.py:707: RuntimeWarning: Can save best model only with val_acc available, skipping.\n",
      "  'skipping.' % (self.monitor), RuntimeWarning)\n"
     ]
    },
    {
     "name": "stdout",
     "output_type": "stream",
     "text": [
      "450/450 [==============================] - 268s 595ms/step - loss: 0.0845 - accuracy: 1.0000 - val_loss: 4.7250 - val_accuracy: 0.1400\n",
      "Epoch 8/30\n",
      "  1/450 [..............................] - ETA: 56s - loss: 0.0668 - accuracy: 1.0000"
     ]
    },
    {
     "name": "stderr",
     "output_type": "stream",
     "text": [
      "/home/rutherford/.local/lib/python3.6/site-packages/keras/callbacks/callbacks.py:846: RuntimeWarning: Early stopping conditioned on metric `val_acc` which is not available. Available metrics are: val_loss,val_accuracy,loss,accuracy\n",
      "  (self.monitor, ','.join(list(logs.keys()))), RuntimeWarning\n",
      "/home/rutherford/.local/lib/python3.6/site-packages/keras/callbacks/callbacks.py:707: RuntimeWarning: Can save best model only with val_acc available, skipping.\n",
      "  'skipping.' % (self.monitor), RuntimeWarning)\n"
     ]
    },
    {
     "name": "stdout",
     "output_type": "stream",
     "text": [
      "450/450 [==============================] - 275s 610ms/step - loss: 0.0627 - accuracy: 1.0000 - val_loss: 3.1182 - val_accuracy: 0.0867\n",
      "Epoch 9/30\n",
      "  1/450 [..............................] - ETA: 39s - loss: 0.0562 - accuracy: 1.0000"
     ]
    },
    {
     "name": "stderr",
     "output_type": "stream",
     "text": [
      "/home/rutherford/.local/lib/python3.6/site-packages/keras/callbacks/callbacks.py:846: RuntimeWarning: Early stopping conditioned on metric `val_acc` which is not available. Available metrics are: val_loss,val_accuracy,loss,accuracy\n",
      "  (self.monitor, ','.join(list(logs.keys()))), RuntimeWarning\n",
      "/home/rutherford/.local/lib/python3.6/site-packages/keras/callbacks/callbacks.py:707: RuntimeWarning: Can save best model only with val_acc available, skipping.\n",
      "  'skipping.' % (self.monitor), RuntimeWarning)\n"
     ]
    },
    {
     "name": "stdout",
     "output_type": "stream",
     "text": [
      "450/450 [==============================] - 280s 621ms/step - loss: 0.0484 - accuracy: 1.0000 - val_loss: 5.2998 - val_accuracy: 0.1067\n",
      "Epoch 10/30\n"
     ]
    },
    {
     "name": "stderr",
     "output_type": "stream",
     "text": [
      "/home/rutherford/.local/lib/python3.6/site-packages/keras/callbacks/callbacks.py:846: RuntimeWarning: Early stopping conditioned on metric `val_acc` which is not available. Available metrics are: val_loss,val_accuracy,loss,accuracy\n",
      "  (self.monitor, ','.join(list(logs.keys()))), RuntimeWarning\n",
      "/home/rutherford/.local/lib/python3.6/site-packages/keras/callbacks/callbacks.py:707: RuntimeWarning: Can save best model only with val_acc available, skipping.\n",
      "  'skipping.' % (self.monitor), RuntimeWarning)\n"
     ]
    },
    {
     "name": "stdout",
     "output_type": "stream",
     "text": [
      "450/450 [==============================] - 264s 587ms/step - loss: 0.0398 - accuracy: 1.0000 - val_loss: 4.6653 - val_accuracy: 0.1467\n",
      "Epoch 11/30\n",
      "  1/450 [..............................] - ETA: 1:12 - loss: 0.0467 - accuracy: 1.0000"
     ]
    },
    {
     "name": "stderr",
     "output_type": "stream",
     "text": [
      "/home/rutherford/.local/lib/python3.6/site-packages/keras/callbacks/callbacks.py:846: RuntimeWarning: Early stopping conditioned on metric `val_acc` which is not available. Available metrics are: val_loss,val_accuracy,loss,accuracy\n",
      "  (self.monitor, ','.join(list(logs.keys()))), RuntimeWarning\n",
      "/home/rutherford/.local/lib/python3.6/site-packages/keras/callbacks/callbacks.py:707: RuntimeWarning: Can save best model only with val_acc available, skipping.\n",
      "  'skipping.' % (self.monitor), RuntimeWarning)\n"
     ]
    },
    {
     "name": "stdout",
     "output_type": "stream",
     "text": [
      "450/450 [==============================] - 324s 721ms/step - loss: 0.0344 - accuracy: 1.0000 - val_loss: 3.2548 - val_accuracy: 0.1000\n",
      "Epoch 12/30\n",
      "  1/450 [..............................] - ETA: 1:04 - loss: 0.0512 - accuracy: 1.0000"
     ]
    },
    {
     "name": "stderr",
     "output_type": "stream",
     "text": [
      "/home/rutherford/.local/lib/python3.6/site-packages/keras/callbacks/callbacks.py:846: RuntimeWarning: Early stopping conditioned on metric `val_acc` which is not available. Available metrics are: val_loss,val_accuracy,loss,accuracy\n",
      "  (self.monitor, ','.join(list(logs.keys()))), RuntimeWarning\n",
      "/home/rutherford/.local/lib/python3.6/site-packages/keras/callbacks/callbacks.py:707: RuntimeWarning: Can save best model only with val_acc available, skipping.\n",
      "  'skipping.' % (self.monitor), RuntimeWarning)\n"
     ]
    },
    {
     "name": "stdout",
     "output_type": "stream",
     "text": [
      "450/450 [==============================] - 291s 646ms/step - loss: 0.0305 - accuracy: 1.0000 - val_loss: 4.8554 - val_accuracy: 0.1200\n"
     ]
    },
    {
     "name": "stderr",
     "output_type": "stream",
     "text": [
      "/home/rutherford/.local/lib/python3.6/site-packages/keras/callbacks/callbacks.py:846: RuntimeWarning: Early stopping conditioned on metric `val_acc` which is not available. Available metrics are: val_loss,val_accuracy,loss,accuracy\n",
      "  (self.monitor, ','.join(list(logs.keys()))), RuntimeWarning\n",
      "/home/rutherford/.local/lib/python3.6/site-packages/keras/callbacks/callbacks.py:707: RuntimeWarning: Can save best model only with val_acc available, skipping.\n",
      "  'skipping.' % (self.monitor), RuntimeWarning)\n"
     ]
    },
    {
     "name": "stdout",
     "output_type": "stream",
     "text": [
      "Epoch 13/30\n",
      "450/450 [==============================] - 252s 561ms/step - loss: 0.0272 - accuracy: 1.0000 - val_loss: 4.5367 - val_accuracy: 0.1467\n",
      "Epoch 14/30\n",
      "  1/450 [..............................] - ETA: 49s - loss: 0.0268 - accuracy: 1.0000"
     ]
    },
    {
     "name": "stderr",
     "output_type": "stream",
     "text": [
      "/home/rutherford/.local/lib/python3.6/site-packages/keras/callbacks/callbacks.py:846: RuntimeWarning: Early stopping conditioned on metric `val_acc` which is not available. Available metrics are: val_loss,val_accuracy,loss,accuracy\n",
      "  (self.monitor, ','.join(list(logs.keys()))), RuntimeWarning\n",
      "/home/rutherford/.local/lib/python3.6/site-packages/keras/callbacks/callbacks.py:707: RuntimeWarning: Can save best model only with val_acc available, skipping.\n",
      "  'skipping.' % (self.monitor), RuntimeWarning)\n"
     ]
    },
    {
     "name": "stdout",
     "output_type": "stream",
     "text": [
      "450/450 [==============================] - 272s 604ms/step - loss: 0.0245 - accuracy: 1.0000 - val_loss: 5.2360 - val_accuracy: 0.1000\n",
      "Epoch 15/30\n"
     ]
    },
    {
     "name": "stderr",
     "output_type": "stream",
     "text": [
      "/home/rutherford/.local/lib/python3.6/site-packages/keras/callbacks/callbacks.py:846: RuntimeWarning: Early stopping conditioned on metric `val_acc` which is not available. Available metrics are: val_loss,val_accuracy,loss,accuracy\n",
      "  (self.monitor, ','.join(list(logs.keys()))), RuntimeWarning\n",
      "/home/rutherford/.local/lib/python3.6/site-packages/keras/callbacks/callbacks.py:707: RuntimeWarning: Can save best model only with val_acc available, skipping.\n",
      "  'skipping.' % (self.monitor), RuntimeWarning)\n"
     ]
    },
    {
     "name": "stdout",
     "output_type": "stream",
     "text": [
      "450/450 [==============================] - 256s 569ms/step - loss: 0.0224 - accuracy: 1.0000 - val_loss: 2.8205 - val_accuracy: 0.1200\n",
      "Epoch 16/30\n",
      "  1/450 [..............................] - ETA: 53s - loss: 0.0220 - accuracy: 1.0000"
     ]
    },
    {
     "name": "stderr",
     "output_type": "stream",
     "text": [
      "/home/rutherford/.local/lib/python3.6/site-packages/keras/callbacks/callbacks.py:846: RuntimeWarning: Early stopping conditioned on metric `val_acc` which is not available. Available metrics are: val_loss,val_accuracy,loss,accuracy\n",
      "  (self.monitor, ','.join(list(logs.keys()))), RuntimeWarning\n",
      "/home/rutherford/.local/lib/python3.6/site-packages/keras/callbacks/callbacks.py:707: RuntimeWarning: Can save best model only with val_acc available, skipping.\n",
      "  'skipping.' % (self.monitor), RuntimeWarning)\n"
     ]
    },
    {
     "name": "stdout",
     "output_type": "stream",
     "text": [
      "450/450 [==============================] - 264s 588ms/step - loss: 0.0206 - accuracy: 1.0000 - val_loss: 0.6711 - val_accuracy: 0.1267\n",
      "Epoch 17/30\n",
      "  1/450 [..............................] - ETA: 1:02 - loss: 0.0153 - accuracy: 1.0000"
     ]
    },
    {
     "name": "stderr",
     "output_type": "stream",
     "text": [
      "/home/rutherford/.local/lib/python3.6/site-packages/keras/callbacks/callbacks.py:846: RuntimeWarning: Early stopping conditioned on metric `val_acc` which is not available. Available metrics are: val_loss,val_accuracy,loss,accuracy\n",
      "  (self.monitor, ','.join(list(logs.keys()))), RuntimeWarning\n",
      "/home/rutherford/.local/lib/python3.6/site-packages/keras/callbacks/callbacks.py:707: RuntimeWarning: Can save best model only with val_acc available, skipping.\n",
      "  'skipping.' % (self.monitor), RuntimeWarning)\n"
     ]
    },
    {
     "name": "stdout",
     "output_type": "stream",
     "text": [
      "450/450 [==============================] - 274s 609ms/step - loss: 0.0191 - accuracy: 1.0000 - val_loss: 4.3603 - val_accuracy: 0.1000\n",
      "Epoch 18/30\n",
      "  1/450 [..............................] - ETA: 54s - loss: 0.0327 - accuracy: 1.0000"
     ]
    },
    {
     "name": "stderr",
     "output_type": "stream",
     "text": [
      "/home/rutherford/.local/lib/python3.6/site-packages/keras/callbacks/callbacks.py:846: RuntimeWarning: Early stopping conditioned on metric `val_acc` which is not available. Available metrics are: val_loss,val_accuracy,loss,accuracy\n",
      "  (self.monitor, ','.join(list(logs.keys()))), RuntimeWarning\n",
      "/home/rutherford/.local/lib/python3.6/site-packages/keras/callbacks/callbacks.py:707: RuntimeWarning: Can save best model only with val_acc available, skipping.\n",
      "  'skipping.' % (self.monitor), RuntimeWarning)\n"
     ]
    },
    {
     "name": "stdout",
     "output_type": "stream",
     "text": [
      "450/450 [==============================] - 264s 586ms/step - loss: 0.0180 - accuracy: 1.0000 - val_loss: 3.1668 - val_accuracy: 0.1067\n",
      "Epoch 19/30\n",
      "  1/450 [..............................] - ETA: 1:00 - loss: 0.0162 - accuracy: 1.0000"
     ]
    },
    {
     "name": "stderr",
     "output_type": "stream",
     "text": [
      "/home/rutherford/.local/lib/python3.6/site-packages/keras/callbacks/callbacks.py:846: RuntimeWarning: Early stopping conditioned on metric `val_acc` which is not available. Available metrics are: val_loss,val_accuracy,loss,accuracy\n",
      "  (self.monitor, ','.join(list(logs.keys()))), RuntimeWarning\n",
      "/home/rutherford/.local/lib/python3.6/site-packages/keras/callbacks/callbacks.py:707: RuntimeWarning: Can save best model only with val_acc available, skipping.\n",
      "  'skipping.' % (self.monitor), RuntimeWarning)\n"
     ]
    },
    {
     "name": "stdout",
     "output_type": "stream",
     "text": [
      "450/450 [==============================] - 263s 585ms/step - loss: 0.0166 - accuracy: 1.0000 - val_loss: 4.4471 - val_accuracy: 0.1267\n",
      "Epoch 20/30\n",
      "  1/450 [..............................] - ETA: 1:03 - loss: 0.0160 - accuracy: 1.0000"
     ]
    },
    {
     "name": "stderr",
     "output_type": "stream",
     "text": [
      "/home/rutherford/.local/lib/python3.6/site-packages/keras/callbacks/callbacks.py:846: RuntimeWarning: Early stopping conditioned on metric `val_acc` which is not available. Available metrics are: val_loss,val_accuracy,loss,accuracy\n",
      "  (self.monitor, ','.join(list(logs.keys()))), RuntimeWarning\n",
      "/home/rutherford/.local/lib/python3.6/site-packages/keras/callbacks/callbacks.py:707: RuntimeWarning: Can save best model only with val_acc available, skipping.\n",
      "  'skipping.' % (self.monitor), RuntimeWarning)\n"
     ]
    },
    {
     "name": "stdout",
     "output_type": "stream",
     "text": [
      "450/450 [==============================] - 273s 608ms/step - loss: 0.0157 - accuracy: 1.0000 - val_loss: 2.2693 - val_accuracy: 0.1067\n",
      "Epoch 21/30\n",
      "  1/450 [..............................] - ETA: 46s - loss: 0.0159 - accuracy: 1.0000"
     ]
    },
    {
     "name": "stderr",
     "output_type": "stream",
     "text": [
      "/home/rutherford/.local/lib/python3.6/site-packages/keras/callbacks/callbacks.py:846: RuntimeWarning: Early stopping conditioned on metric `val_acc` which is not available. Available metrics are: val_loss,val_accuracy,loss,accuracy\n",
      "  (self.monitor, ','.join(list(logs.keys()))), RuntimeWarning\n",
      "/home/rutherford/.local/lib/python3.6/site-packages/keras/callbacks/callbacks.py:707: RuntimeWarning: Can save best model only with val_acc available, skipping.\n",
      "  'skipping.' % (self.monitor), RuntimeWarning)\n"
     ]
    },
    {
     "name": "stdout",
     "output_type": "stream",
     "text": [
      "450/450 [==============================] - 252s 560ms/step - loss: 0.0150 - accuracy: 1.0000 - val_loss: 3.4365 - val_accuracy: 0.1000\n",
      "Epoch 22/30\n",
      "  1/450 [..............................] - ETA: 52s - loss: 0.0186 - accuracy: 1.0000"
     ]
    },
    {
     "name": "stderr",
     "output_type": "stream",
     "text": [
      "/home/rutherford/.local/lib/python3.6/site-packages/keras/callbacks/callbacks.py:846: RuntimeWarning: Early stopping conditioned on metric `val_acc` which is not available. Available metrics are: val_loss,val_accuracy,loss,accuracy\n",
      "  (self.monitor, ','.join(list(logs.keys()))), RuntimeWarning\n",
      "/home/rutherford/.local/lib/python3.6/site-packages/keras/callbacks/callbacks.py:707: RuntimeWarning: Can save best model only with val_acc available, skipping.\n",
      "  'skipping.' % (self.monitor), RuntimeWarning)\n"
     ]
    },
    {
     "name": "stdout",
     "output_type": "stream",
     "text": [
      "450/450 [==============================] - 273s 607ms/step - loss: 0.0141 - accuracy: 1.0000 - val_loss: 2.9979 - val_accuracy: 0.1333\n",
      "Epoch 23/30\n",
      "  1/450 [..............................] - ETA: 55s - loss: 0.0101 - accuracy: 1.0000"
     ]
    },
    {
     "name": "stderr",
     "output_type": "stream",
     "text": [
      "/home/rutherford/.local/lib/python3.6/site-packages/keras/callbacks/callbacks.py:846: RuntimeWarning: Early stopping conditioned on metric `val_acc` which is not available. Available metrics are: val_loss,val_accuracy,loss,accuracy\n",
      "  (self.monitor, ','.join(list(logs.keys()))), RuntimeWarning\n",
      "/home/rutherford/.local/lib/python3.6/site-packages/keras/callbacks/callbacks.py:707: RuntimeWarning: Can save best model only with val_acc available, skipping.\n",
      "  'skipping.' % (self.monitor), RuntimeWarning)\n"
     ]
    },
    {
     "name": "stdout",
     "output_type": "stream",
     "text": [
      "450/450 [==============================] - 281s 625ms/step - loss: 0.0133 - accuracy: 1.0000 - val_loss: 3.6313 - val_accuracy: 0.1133\n",
      "Epoch 24/30\n",
      "  1/450 [..............................] - ETA: 49s - loss: 0.0148 - accuracy: 1.0000"
     ]
    },
    {
     "name": "stderr",
     "output_type": "stream",
     "text": [
      "/home/rutherford/.local/lib/python3.6/site-packages/keras/callbacks/callbacks.py:846: RuntimeWarning: Early stopping conditioned on metric `val_acc` which is not available. Available metrics are: val_loss,val_accuracy,loss,accuracy\n",
      "  (self.monitor, ','.join(list(logs.keys()))), RuntimeWarning\n",
      "/home/rutherford/.local/lib/python3.6/site-packages/keras/callbacks/callbacks.py:707: RuntimeWarning: Can save best model only with val_acc available, skipping.\n",
      "  'skipping.' % (self.monitor), RuntimeWarning)\n"
     ]
    },
    {
     "name": "stdout",
     "output_type": "stream",
     "text": [
      "450/450 [==============================] - 239s 531ms/step - loss: 0.0128 - accuracy: 1.0000 - val_loss: 3.2212 - val_accuracy: 0.1067\n",
      "Epoch 25/30\n",
      "  2/450 [..............................] - ETA: 43s - loss: 0.0102 - accuracy: 1.0000"
     ]
    },
    {
     "name": "stderr",
     "output_type": "stream",
     "text": [
      "/home/rutherford/.local/lib/python3.6/site-packages/keras/callbacks/callbacks.py:846: RuntimeWarning: Early stopping conditioned on metric `val_acc` which is not available. Available metrics are: val_loss,val_accuracy,loss,accuracy\n",
      "  (self.monitor, ','.join(list(logs.keys()))), RuntimeWarning\n",
      "/home/rutherford/.local/lib/python3.6/site-packages/keras/callbacks/callbacks.py:707: RuntimeWarning: Can save best model only with val_acc available, skipping.\n",
      "  'skipping.' % (self.monitor), RuntimeWarning)\n"
     ]
    },
    {
     "name": "stdout",
     "output_type": "stream",
     "text": [
      "450/450 [==============================] - 241s 535ms/step - loss: 0.0121 - accuracy: 1.0000 - val_loss: 2.7055 - val_accuracy: 0.1333\n",
      "Epoch 26/30\n",
      "  1/450 [..............................] - ETA: 41s - loss: 0.0154 - accuracy: 1.0000"
     ]
    },
    {
     "name": "stderr",
     "output_type": "stream",
     "text": [
      "/home/rutherford/.local/lib/python3.6/site-packages/keras/callbacks/callbacks.py:846: RuntimeWarning: Early stopping conditioned on metric `val_acc` which is not available. Available metrics are: val_loss,val_accuracy,loss,accuracy\n",
      "  (self.monitor, ','.join(list(logs.keys()))), RuntimeWarning\n",
      "/home/rutherford/.local/lib/python3.6/site-packages/keras/callbacks/callbacks.py:707: RuntimeWarning: Can save best model only with val_acc available, skipping.\n",
      "  'skipping.' % (self.monitor), RuntimeWarning)\n"
     ]
    },
    {
     "name": "stdout",
     "output_type": "stream",
     "text": [
      "450/450 [==============================] - 241s 536ms/step - loss: 0.0116 - accuracy: 1.0000 - val_loss: 3.1527 - val_accuracy: 0.1133\n",
      "Epoch 27/30\n",
      "  1/450 [..............................] - ETA: 49s - loss: 0.0120 - accuracy: 1.0000"
     ]
    },
    {
     "name": "stderr",
     "output_type": "stream",
     "text": [
      "/home/rutherford/.local/lib/python3.6/site-packages/keras/callbacks/callbacks.py:846: RuntimeWarning: Early stopping conditioned on metric `val_acc` which is not available. Available metrics are: val_loss,val_accuracy,loss,accuracy\n",
      "  (self.monitor, ','.join(list(logs.keys()))), RuntimeWarning\n",
      "/home/rutherford/.local/lib/python3.6/site-packages/keras/callbacks/callbacks.py:707: RuntimeWarning: Can save best model only with val_acc available, skipping.\n",
      "  'skipping.' % (self.monitor), RuntimeWarning)\n"
     ]
    },
    {
     "name": "stdout",
     "output_type": "stream",
     "text": [
      "450/450 [==============================] - 227s 504ms/step - loss: 0.0111 - accuracy: 1.0000 - val_loss: 4.5199 - val_accuracy: 0.1067\n",
      "Epoch 28/30\n",
      "  2/450 [..............................] - ETA: 44s - loss: 0.0132 - accuracy: 1.0000"
     ]
    },
    {
     "name": "stderr",
     "output_type": "stream",
     "text": [
      "/home/rutherford/.local/lib/python3.6/site-packages/keras/callbacks/callbacks.py:846: RuntimeWarning: Early stopping conditioned on metric `val_acc` which is not available. Available metrics are: val_loss,val_accuracy,loss,accuracy\n",
      "  (self.monitor, ','.join(list(logs.keys()))), RuntimeWarning\n",
      "/home/rutherford/.local/lib/python3.6/site-packages/keras/callbacks/callbacks.py:707: RuntimeWarning: Can save best model only with val_acc available, skipping.\n",
      "  'skipping.' % (self.monitor), RuntimeWarning)\n"
     ]
    },
    {
     "name": "stdout",
     "output_type": "stream",
     "text": [
      "450/450 [==============================] - 281s 625ms/step - loss: 0.0107 - accuracy: 1.0000 - val_loss: 3.8794 - val_accuracy: 0.1333\n",
      "Epoch 29/30\n",
      "  1/450 [..............................] - ETA: 53s - loss: 0.0116 - accuracy: 1.0000"
     ]
    },
    {
     "name": "stderr",
     "output_type": "stream",
     "text": [
      "/home/rutherford/.local/lib/python3.6/site-packages/keras/callbacks/callbacks.py:846: RuntimeWarning: Early stopping conditioned on metric `val_acc` which is not available. Available metrics are: val_loss,val_accuracy,loss,accuracy\n",
      "  (self.monitor, ','.join(list(logs.keys()))), RuntimeWarning\n",
      "/home/rutherford/.local/lib/python3.6/site-packages/keras/callbacks/callbacks.py:707: RuntimeWarning: Can save best model only with val_acc available, skipping.\n",
      "  'skipping.' % (self.monitor), RuntimeWarning)\n"
     ]
    },
    {
     "name": "stdout",
     "output_type": "stream",
     "text": [
      "450/450 [==============================] - 276s 613ms/step - loss: 0.0102 - accuracy: 1.0000 - val_loss: 3.8020 - val_accuracy: 0.1133\n",
      "Epoch 30/30\n",
      "  1/450 [..............................] - ETA: 49s - loss: 0.0065 - accuracy: 1.0000"
     ]
    },
    {
     "name": "stderr",
     "output_type": "stream",
     "text": [
      "/home/rutherford/.local/lib/python3.6/site-packages/keras/callbacks/callbacks.py:846: RuntimeWarning: Early stopping conditioned on metric `val_acc` which is not available. Available metrics are: val_loss,val_accuracy,loss,accuracy\n",
      "  (self.monitor, ','.join(list(logs.keys()))), RuntimeWarning\n",
      "/home/rutherford/.local/lib/python3.6/site-packages/keras/callbacks/callbacks.py:707: RuntimeWarning: Can save best model only with val_acc available, skipping.\n",
      "  'skipping.' % (self.monitor), RuntimeWarning)\n"
     ]
    },
    {
     "name": "stdout",
     "output_type": "stream",
     "text": [
      "450/450 [==============================] - 255s 567ms/step - loss: 0.0099 - accuracy: 1.0000 - val_loss: 3.7407 - val_accuracy: 0.1067\n",
      "CPU times: user 2h 46min 47s, sys: 6min 16s, total: 2h 53min 4s\n",
      "Wall time: 2h 13min 17s\n"
     ]
    },
    {
     "name": "stderr",
     "output_type": "stream",
     "text": [
      "/home/rutherford/.local/lib/python3.6/site-packages/keras/callbacks/callbacks.py:846: RuntimeWarning: Early stopping conditioned on metric `val_acc` which is not available. Available metrics are: val_loss,val_accuracy,loss,accuracy\n",
      "  (self.monitor, ','.join(list(logs.keys()))), RuntimeWarning\n",
      "/home/rutherford/.local/lib/python3.6/site-packages/keras/callbacks/callbacks.py:707: RuntimeWarning: Can save best model only with val_acc available, skipping.\n",
      "  'skipping.' % (self.monitor), RuntimeWarning)\n"
     ]
    },
    {
     "data": {
      "text/plain": [
       "<keras.callbacks.callbacks.History at 0x7f42841d7198>"
      ]
     },
     "execution_count": 17,
     "metadata": {},
     "output_type": "execute_result"
    }
   ],
   "source": [
    "%%time\n",
    "hist = History();\n",
    "es = EarlyStopping(monitor='val_acc', min_delta=0.01, restore_best_weights=True, patience= 10, verbose=1 )\n",
    "mc = ModelCheckpoint('best_model.h5', monitor='val_acc',save_best_only=True, verbose=1)\n",
    "\n",
    "\n",
    "try:\n",
    "    import google.colab\n",
    "    tbc=TensorBoardColab()\n",
    "    callbacksKeras=[hist,es,mc,TensorBoardColabCallback(tbc)]\n",
    "\n",
    "except Exception as e:\n",
    "    callbacksKeras=[hist,es,mc]\n",
    "    print(\"Not inside Google Colab: %s. Using standard configurations.\" % (e))\n",
    "\n",
    "\n",
    "model.fit_generator(featureGenerator(train_set_files, train_classes), \n",
    "                    validation_data=(featureGenerator(test_set_files, test_classes)), \n",
    "                    validation_steps=150, \n",
    "                    steps_per_epoch=450,epochs=30,callbacks=callbacksKeras, verbose=1)"
   ]
  },
  {
   "cell_type": "code",
   "execution_count": 18,
   "metadata": {},
   "outputs": [
    {
     "name": "stdout",
     "output_type": "stream",
     "text": [
      "(337,)\n",
      "(337, 21)\n",
      "(113,)\n",
      "(113, 21)\n"
     ]
    }
   ],
   "source": [
    "print(train_set_files.shape)\n",
    "print(train_classes.shape)\n",
    "print(test_set_files.shape)\n",
    "print(test_classes.shape)\n",
    "                   "
   ]
  },
  {
   "cell_type": "markdown",
   "metadata": {},
   "source": [
    "# Save the model"
   ]
  },
  {
   "cell_type": "code",
   "execution_count": 19,
   "metadata": {},
   "outputs": [],
   "source": [
    "model.save('STFTCNN.h5')"
   ]
  },
  {
   "cell_type": "code",
   "execution_count": 20,
   "metadata": {},
   "outputs": [],
   "source": [
    "def plot_history(history):\n",
    "    loss_list = [s for s in history.history.keys() if 'loss' in s and 'val' not in s]\n",
    "    val_loss_list = [s for s in history.history.keys() if 'loss' in s and 'val' in s]\n",
    "    acc_list = [s for s in history.history.keys() if 'acc' in s and 'val' not in s]\n",
    "    val_acc_list = [s for s in history.history.keys() if 'acc' in s and 'val' in s]\n",
    "    \n",
    "    if len(loss_list) == 0:\n",
    "        print('Loss is missing in history')\n",
    "        return \n",
    "    \n",
    "    ## As loss always exists\n",
    "    epochs = range(1,len(history.history[loss_list[0]]) + 1)\n",
    "    \n",
    "    ## Loss\n",
    "    plt.figure(1)\n",
    "    for l in loss_list:\n",
    "        plt.plot(epochs, history.history[l], 'b', label='Training loss')\n",
    "    for l in val_loss_list:\n",
    "        plt.plot(epochs, history.history[l], 'g', label='Validation loss')\n",
    "    \n",
    "    plt.title('Loss')\n",
    "    plt.xlabel('Epochs')\n",
    "    plt.ylabel('Loss')\n",
    "    plt.legend()\n",
    "    \n",
    "    ## Accuracy\n",
    "    plt.figure(2)\n",
    "    for l in acc_list:\n",
    "        plt.plot(epochs, history.history[l], 'b', label='Training accuracy')\n",
    "    for l in val_acc_list:    \n",
    "        plt.plot(epochs, history.history[l], 'g', label='Validation accuracy')\n",
    "\n",
    "    plt.title('Accuracy')\n",
    "    plt.xlabel('Epochs')\n",
    "    plt.ylabel('Accuracy')\n",
    "    plt.legend()\n",
    "    plt.show()"
   ]
  },
  {
   "cell_type": "code",
   "execution_count": 21,
   "metadata": {},
   "outputs": [
    {
     "data": {
      "image/png": "[encoded data removed]",
      "text/plain": [
       "<Figure size 432x288 with 1 Axes>"
      ]
     },
     "metadata": {
      "needs_background": "light"
     },
     "output_type": "display_data"
    },
    {
     "data": {
      "image/png": "[encoded data removed]",
      "text/plain": [
       "<Figure size 432x288 with 1 Axes>"
      ]
     },
     "metadata": {
      "needs_background": "light"
     },
     "output_type": "display_data"
    }
   ],
   "source": [
    "plot_history(hist)"
   ]
  },
  {
   "cell_type": "markdown",
   "metadata": {},
   "source": [
    "## Evaluate Model"
   ]
  },
  {
   "cell_type": "code",
   "execution_count": 22,
   "metadata": {},
   "outputs": [
    {
     "name": "stdout",
     "output_type": "stream",
     "text": [
      "150/150 [==============================] - 59s 392ms/step\n"
     ]
    }
   ],
   "source": [
    "saved_model = load_model('STFTCNN.h5')\n",
    "test_pred = saved_model.predict_generator(featureGenerator(test_set_files, test_classes), steps=150,verbose=1)"
   ]
  },
  {
   "cell_type": "code",
   "execution_count": 40,
   "metadata": {},
   "outputs": [],
   "source": [
    "predictions_round=np.around(test_pred).astype('int');\n",
    "predictions_int=np.argmax(predictions_round,axis=1);\n",
    "predictions_labels=labelencoder.inverse_transform(np.ravel(predictions_int));"
   ]
  },
  {
   "cell_type": "code",
   "execution_count": 45,
   "metadata": {},
   "outputs": [
    {
     "data": {
      "text/plain": [
       "(150,)"
      ]
     },
     "execution_count": 45,
     "metadata": {},
     "output_type": "execute_result"
    }
   ],
   "source": [
    "predictions_int.shape"
   ]
  },
  {
   "cell_type": "code",
   "execution_count": 43,
   "metadata": {},
   "outputs": [
    {
     "ename": "ValueError",
     "evalue": "Found input variables with inconsistent numbers of samples: [113, 150]",
     "output_type": "error",
     "traceback": [
      "\u001b[0;31m---------------------------------------------------------------------------\u001b[0m",
      "\u001b[0;31mValueError\u001b[0m                                Traceback (most recent call last)",
      "\u001b[0;32m<ipython-input-43-a719df24ae0e>\u001b[0m in \u001b[0;36m<module>\u001b[0;34m\u001b[0m\n\u001b[1;32m      1\u001b[0m \u001b[0;31m# Recall - the ability of the classifier to find all the positive samples\u001b[0m\u001b[0;34m\u001b[0m\u001b[0;34m\u001b[0m\u001b[0;34m\u001b[0m\u001b[0m\n\u001b[0;32m----> 2\u001b[0;31m \u001b[0mprint\u001b[0m\u001b[0;34m(\u001b[0m\u001b[0;34m\"Recall: \"\u001b[0m\u001b[0;34m,\u001b[0m \u001b[0mrecall_score\u001b[0m\u001b[0;34m(\u001b[0m\u001b[0mclasses_num\u001b[0m\u001b[0;34m[\u001b[0m\u001b[0mtest_index\u001b[0m\u001b[0;34m]\u001b[0m\u001b[0;34m,\u001b[0m \u001b[0mpredictions_int\u001b[0m\u001b[0;34m,\u001b[0m\u001b[0maverage\u001b[0m\u001b[0;34m=\u001b[0m\u001b[0;32mNone\u001b[0m\u001b[0;34m)\u001b[0m\u001b[0;34m)\u001b[0m\u001b[0;34m\u001b[0m\u001b[0;34m\u001b[0m\u001b[0m\n\u001b[0m\u001b[1;32m      3\u001b[0m \u001b[0;34m\u001b[0m\u001b[0m\n\u001b[1;32m      4\u001b[0m \u001b[0;31m# Precision - The precision is intuitively the ability of the classifier not to\u001b[0m\u001b[0;34m\u001b[0m\u001b[0;34m\u001b[0m\u001b[0;34m\u001b[0m\u001b[0m\n\u001b[1;32m      5\u001b[0m \u001b[0;31m#label as positive a sample that is negative\u001b[0m\u001b[0;34m\u001b[0m\u001b[0;34m\u001b[0m\u001b[0;34m\u001b[0m\u001b[0m\n",
      "\u001b[0;32m~/.local/lib/python3.6/site-packages/sklearn/metrics/_classification.py\u001b[0m in \u001b[0;36mrecall_score\u001b[0;34m(y_true, y_pred, labels, pos_label, average, sample_weight, zero_division)\u001b[0m\n\u001b[1;32m   1787\u001b[0m                                                  \u001b[0mwarn_for\u001b[0m\u001b[0;34m=\u001b[0m\u001b[0;34m(\u001b[0m\u001b[0;34m'recall'\u001b[0m\u001b[0;34m,\u001b[0m\u001b[0;34m)\u001b[0m\u001b[0;34m,\u001b[0m\u001b[0;34m\u001b[0m\u001b[0;34m\u001b[0m\u001b[0m\n\u001b[1;32m   1788\u001b[0m                                                  \u001b[0msample_weight\u001b[0m\u001b[0;34m=\u001b[0m\u001b[0msample_weight\u001b[0m\u001b[0;34m,\u001b[0m\u001b[0;34m\u001b[0m\u001b[0;34m\u001b[0m\u001b[0m\n\u001b[0;32m-> 1789\u001b[0;31m                                                  zero_division=zero_division)\n\u001b[0m\u001b[1;32m   1790\u001b[0m     \u001b[0;32mreturn\u001b[0m \u001b[0mr\u001b[0m\u001b[0;34m\u001b[0m\u001b[0;34m\u001b[0m\u001b[0m\n\u001b[1;32m   1791\u001b[0m \u001b[0;34m\u001b[0m\u001b[0m\n",
      "\u001b[0;32m~/.local/lib/python3.6/site-packages/sklearn/metrics/_classification.py\u001b[0m in \u001b[0;36mprecision_recall_fscore_support\u001b[0;34m(y_true, y_pred, beta, labels, pos_label, average, warn_for, sample_weight, zero_division)\u001b[0m\n\u001b[1;32m   1482\u001b[0m         \u001b[0;32mraise\u001b[0m \u001b[0mValueError\u001b[0m\u001b[0;34m(\u001b[0m\u001b[0;34m\"beta should be >=0 in the F-beta score\"\u001b[0m\u001b[0;34m)\u001b[0m\u001b[0;34m\u001b[0m\u001b[0;34m\u001b[0m\u001b[0m\n\u001b[1;32m   1483\u001b[0m     labels = _check_set_wise_labels(y_true, y_pred, average, labels,\n\u001b[0;32m-> 1484\u001b[0;31m                                     pos_label)\n\u001b[0m\u001b[1;32m   1485\u001b[0m \u001b[0;34m\u001b[0m\u001b[0m\n\u001b[1;32m   1486\u001b[0m     \u001b[0;31m# Calculate tp_sum, pred_sum, true_sum ###\u001b[0m\u001b[0;34m\u001b[0m\u001b[0;34m\u001b[0m\u001b[0;34m\u001b[0m\u001b[0m\n",
      "\u001b[0;32m~/.local/lib/python3.6/site-packages/sklearn/metrics/_classification.py\u001b[0m in \u001b[0;36m_check_set_wise_labels\u001b[0;34m(y_true, y_pred, average, labels, pos_label)\u001b[0m\n\u001b[1;32m   1299\u001b[0m                          str(average_options))\n\u001b[1;32m   1300\u001b[0m \u001b[0;34m\u001b[0m\u001b[0m\n\u001b[0;32m-> 1301\u001b[0;31m     \u001b[0my_type\u001b[0m\u001b[0;34m,\u001b[0m \u001b[0my_true\u001b[0m\u001b[0;34m,\u001b[0m \u001b[0my_pred\u001b[0m \u001b[0;34m=\u001b[0m \u001b[0m_check_targets\u001b[0m\u001b[0;34m(\u001b[0m\u001b[0my_true\u001b[0m\u001b[0;34m,\u001b[0m \u001b[0my_pred\u001b[0m\u001b[0;34m)\u001b[0m\u001b[0;34m\u001b[0m\u001b[0;34m\u001b[0m\u001b[0m\n\u001b[0m\u001b[1;32m   1302\u001b[0m     \u001b[0mpresent_labels\u001b[0m \u001b[0;34m=\u001b[0m \u001b[0munique_labels\u001b[0m\u001b[0;34m(\u001b[0m\u001b[0my_true\u001b[0m\u001b[0;34m,\u001b[0m \u001b[0my_pred\u001b[0m\u001b[0;34m)\u001b[0m\u001b[0;34m\u001b[0m\u001b[0;34m\u001b[0m\u001b[0m\n\u001b[1;32m   1303\u001b[0m     \u001b[0;32mif\u001b[0m \u001b[0maverage\u001b[0m \u001b[0;34m==\u001b[0m \u001b[0;34m'binary'\u001b[0m\u001b[0;34m:\u001b[0m\u001b[0;34m\u001b[0m\u001b[0;34m\u001b[0m\u001b[0m\n",
      "\u001b[0;32m~/.local/lib/python3.6/site-packages/sklearn/metrics/_classification.py\u001b[0m in \u001b[0;36m_check_targets\u001b[0;34m(y_true, y_pred)\u001b[0m\n\u001b[1;32m     78\u001b[0m     \u001b[0my_pred\u001b[0m \u001b[0;34m:\u001b[0m \u001b[0marray\u001b[0m \u001b[0;32mor\u001b[0m \u001b[0mindicator\u001b[0m \u001b[0mmatrix\u001b[0m\u001b[0;34m\u001b[0m\u001b[0;34m\u001b[0m\u001b[0m\n\u001b[1;32m     79\u001b[0m     \"\"\"\n\u001b[0;32m---> 80\u001b[0;31m     \u001b[0mcheck_consistent_length\u001b[0m\u001b[0;34m(\u001b[0m\u001b[0my_true\u001b[0m\u001b[0;34m,\u001b[0m \u001b[0my_pred\u001b[0m\u001b[0;34m)\u001b[0m\u001b[0;34m\u001b[0m\u001b[0;34m\u001b[0m\u001b[0m\n\u001b[0m\u001b[1;32m     81\u001b[0m     \u001b[0mtype_true\u001b[0m \u001b[0;34m=\u001b[0m \u001b[0mtype_of_target\u001b[0m\u001b[0;34m(\u001b[0m\u001b[0my_true\u001b[0m\u001b[0;34m)\u001b[0m\u001b[0;34m\u001b[0m\u001b[0;34m\u001b[0m\u001b[0m\n\u001b[1;32m     82\u001b[0m     \u001b[0mtype_pred\u001b[0m \u001b[0;34m=\u001b[0m \u001b[0mtype_of_target\u001b[0m\u001b[0;34m(\u001b[0m\u001b[0my_pred\u001b[0m\u001b[0;34m)\u001b[0m\u001b[0;34m\u001b[0m\u001b[0;34m\u001b[0m\u001b[0m\n",
      "\u001b[0;32m~/.local/lib/python3.6/site-packages/sklearn/utils/validation.py\u001b[0m in \u001b[0;36mcheck_consistent_length\u001b[0;34m(*arrays)\u001b[0m\n\u001b[1;32m    210\u001b[0m     \u001b[0;32mif\u001b[0m \u001b[0mlen\u001b[0m\u001b[0;34m(\u001b[0m\u001b[0muniques\u001b[0m\u001b[0;34m)\u001b[0m \u001b[0;34m>\u001b[0m \u001b[0;36m1\u001b[0m\u001b[0;34m:\u001b[0m\u001b[0;34m\u001b[0m\u001b[0;34m\u001b[0m\u001b[0m\n\u001b[1;32m    211\u001b[0m         raise ValueError(\"Found input variables with inconsistent numbers of\"\n\u001b[0;32m--> 212\u001b[0;31m                          \" samples: %r\" % [int(l) for l in lengths])\n\u001b[0m\u001b[1;32m    213\u001b[0m \u001b[0;34m\u001b[0m\u001b[0m\n\u001b[1;32m    214\u001b[0m \u001b[0;34m\u001b[0m\u001b[0m\n",
      "\u001b[0;31mValueError\u001b[0m: Found input variables with inconsistent numbers of samples: [113, 150]"
     ]
    }
   ],
   "source": [
    "# Recall - the ability of the classifier to find all the positive samples\n",
    "print(\"Recall: \", recall_score(classes_num[test_index], predictions_int,average=None))\n",
    "\n",
    "# Precision - The precision is intuitively the ability of the classifier not to \n",
    "#label as positive a sample that is negative\n",
    "print(\"Precision: \", precision_score(classes_num[test_index], predictions_int,average=None))\n",
    "\n",
    "# F1-Score - The F1 score can be interpreted as a weighted average of the precision \n",
    "#and recall\n",
    "print(\"F1-Score: \", f1_score(classes_num[test_index], predictions_int, average=None))\n",
    "\n",
    "# Accuracy - the number of correctly classified samples\n",
    "print(\"Accuracy: %.2f  ,\" % accuracy_score(classes_num[test_index], predictions_int,normalize=True), accuracy_score(classes_num[test_index], predictions_int,normalize=False) )\n",
    "print(\"Number of samples:\",classes_num[test_index].shape[0])\n",
    "\n",
    "print(classification_report(classes_num[test_index], predictions_int))"
   ]
  },
  {
   "cell_type": "code",
   "execution_count": 42,
   "metadata": {},
   "outputs": [
    {
     "ename": "ValueError",
     "evalue": "Found input variables with inconsistent numbers of samples: [113, 150]",
     "output_type": "error",
     "traceback": [
      "\u001b[0;31m---------------------------------------------------------------------------\u001b[0m",
      "\u001b[0;31mValueError\u001b[0m                                Traceback (most recent call last)",
      "\u001b[0;32m<ipython-input-42-7a7ceca93ccd>\u001b[0m in \u001b[0;36m<module>\u001b[0;34m\u001b[0m\n\u001b[1;32m      1\u001b[0m \u001b[0;31m# Compute confusion matrix\u001b[0m\u001b[0;34m\u001b[0m\u001b[0;34m\u001b[0m\u001b[0;34m\u001b[0m\u001b[0m\n\u001b[0;32m----> 2\u001b[0;31m \u001b[0mcnf_matrix\u001b[0m \u001b[0;34m=\u001b[0m \u001b[0mconfusion_matrix\u001b[0m\u001b[0;34m(\u001b[0m\u001b[0mclasses_num\u001b[0m\u001b[0;34m[\u001b[0m\u001b[0mtest_index\u001b[0m\u001b[0;34m]\u001b[0m\u001b[0;34m,\u001b[0m \u001b[0mpredictions_int\u001b[0m\u001b[0;34m)\u001b[0m\u001b[0;34m\u001b[0m\u001b[0;34m\u001b[0m\u001b[0m\n\u001b[0m\u001b[1;32m      3\u001b[0m \u001b[0mnp\u001b[0m\u001b[0;34m.\u001b[0m\u001b[0mset_printoptions\u001b[0m\u001b[0;34m(\u001b[0m\u001b[0mprecision\u001b[0m\u001b[0;34m=\u001b[0m\u001b[0;36m2\u001b[0m\u001b[0;34m)\u001b[0m\u001b[0;34m\u001b[0m\u001b[0;34m\u001b[0m\u001b[0m\n",
      "\u001b[0;32m~/.local/lib/python3.6/site-packages/sklearn/metrics/_classification.py\u001b[0m in \u001b[0;36mconfusion_matrix\u001b[0;34m(y_true, y_pred, labels, sample_weight, normalize)\u001b[0m\n\u001b[1;32m    266\u001b[0m \u001b[0;34m\u001b[0m\u001b[0m\n\u001b[1;32m    267\u001b[0m     \"\"\"\n\u001b[0;32m--> 268\u001b[0;31m     \u001b[0my_type\u001b[0m\u001b[0;34m,\u001b[0m \u001b[0my_true\u001b[0m\u001b[0;34m,\u001b[0m \u001b[0my_pred\u001b[0m \u001b[0;34m=\u001b[0m \u001b[0m_check_targets\u001b[0m\u001b[0;34m(\u001b[0m\u001b[0my_true\u001b[0m\u001b[0;34m,\u001b[0m \u001b[0my_pred\u001b[0m\u001b[0;34m)\u001b[0m\u001b[0;34m\u001b[0m\u001b[0;34m\u001b[0m\u001b[0m\n\u001b[0m\u001b[1;32m    269\u001b[0m     \u001b[0;32mif\u001b[0m \u001b[0my_type\u001b[0m \u001b[0;32mnot\u001b[0m \u001b[0;32min\u001b[0m \u001b[0;34m(\u001b[0m\u001b[0;34m\"binary\"\u001b[0m\u001b[0;34m,\u001b[0m \u001b[0;34m\"multiclass\"\u001b[0m\u001b[0;34m)\u001b[0m\u001b[0;34m:\u001b[0m\u001b[0;34m\u001b[0m\u001b[0;34m\u001b[0m\u001b[0m\n\u001b[1;32m    270\u001b[0m         \u001b[0;32mraise\u001b[0m \u001b[0mValueError\u001b[0m\u001b[0;34m(\u001b[0m\u001b[0;34m\"%s is not supported\"\u001b[0m \u001b[0;34m%\u001b[0m \u001b[0my_type\u001b[0m\u001b[0;34m)\u001b[0m\u001b[0;34m\u001b[0m\u001b[0;34m\u001b[0m\u001b[0m\n",
      "\u001b[0;32m~/.local/lib/python3.6/site-packages/sklearn/metrics/_classification.py\u001b[0m in \u001b[0;36m_check_targets\u001b[0;34m(y_true, y_pred)\u001b[0m\n\u001b[1;32m     78\u001b[0m     \u001b[0my_pred\u001b[0m \u001b[0;34m:\u001b[0m \u001b[0marray\u001b[0m \u001b[0;32mor\u001b[0m \u001b[0mindicator\u001b[0m \u001b[0mmatrix\u001b[0m\u001b[0;34m\u001b[0m\u001b[0;34m\u001b[0m\u001b[0m\n\u001b[1;32m     79\u001b[0m     \"\"\"\n\u001b[0;32m---> 80\u001b[0;31m     \u001b[0mcheck_consistent_length\u001b[0m\u001b[0;34m(\u001b[0m\u001b[0my_true\u001b[0m\u001b[0;34m,\u001b[0m \u001b[0my_pred\u001b[0m\u001b[0;34m)\u001b[0m\u001b[0;34m\u001b[0m\u001b[0;34m\u001b[0m\u001b[0m\n\u001b[0m\u001b[1;32m     81\u001b[0m     \u001b[0mtype_true\u001b[0m \u001b[0;34m=\u001b[0m \u001b[0mtype_of_target\u001b[0m\u001b[0;34m(\u001b[0m\u001b[0my_true\u001b[0m\u001b[0;34m)\u001b[0m\u001b[0;34m\u001b[0m\u001b[0;34m\u001b[0m\u001b[0m\n\u001b[1;32m     82\u001b[0m     \u001b[0mtype_pred\u001b[0m \u001b[0;34m=\u001b[0m \u001b[0mtype_of_target\u001b[0m\u001b[0;34m(\u001b[0m\u001b[0my_pred\u001b[0m\u001b[0;34m)\u001b[0m\u001b[0;34m\u001b[0m\u001b[0;34m\u001b[0m\u001b[0m\n",
      "\u001b[0;32m~/.local/lib/python3.6/site-packages/sklearn/utils/validation.py\u001b[0m in \u001b[0;36mcheck_consistent_length\u001b[0;34m(*arrays)\u001b[0m\n\u001b[1;32m    210\u001b[0m     \u001b[0;32mif\u001b[0m \u001b[0mlen\u001b[0m\u001b[0;34m(\u001b[0m\u001b[0muniques\u001b[0m\u001b[0;34m)\u001b[0m \u001b[0;34m>\u001b[0m \u001b[0;36m1\u001b[0m\u001b[0;34m:\u001b[0m\u001b[0;34m\u001b[0m\u001b[0;34m\u001b[0m\u001b[0m\n\u001b[1;32m    211\u001b[0m         raise ValueError(\"Found input variables with inconsistent numbers of\"\n\u001b[0;32m--> 212\u001b[0;31m                          \" samples: %r\" % [int(l) for l in lengths])\n\u001b[0m\u001b[1;32m    213\u001b[0m \u001b[0;34m\u001b[0m\u001b[0m\n\u001b[1;32m    214\u001b[0m \u001b[0;34m\u001b[0m\u001b[0m\n",
      "\u001b[0;31mValueError\u001b[0m: Found input variables with inconsistent numbers of samples: [113, 150]"
     ]
    }
   ],
   "source": [
    "# Compute confusion matrix\n",
    "cnf_matrix = confusion_matrix(classes_num[test_index], predictions_int)\n",
    "np.set_printoptions(precision=2)"
   ]
  },
  {
   "cell_type": "code",
   "execution_count": 31,
   "metadata": {},
   "outputs": [],
   "source": [
    "# Function to Plot Confusion Matrix\n",
    "# http://scikit-learn.org/stable/auto_examples/model_selection/plot_confusion_matrix.html\n",
    "def plot_confusion_matrix(cm, classes,\n",
    "                          normalize=False,\n",
    "                          title='Confusion matrix',\n",
    "                          cmap=plt.cm.Blues):\n",
    "    \"\"\"\n",
    "    This function prints and plots the confusion matrix.\n",
    "    Normalization can be applied by setting `normalize=True`.\n",
    "    \n",
    "    if normalize:\n",
    "        cm = cm.astype('float') / cm.sum(axis=1)[:, np.newaxis]\n",
    "        print(\"Normalized confusion matrix\")\n",
    "    else:\n",
    "        print('Confusion matrix, without normalization')\n",
    "    \"\"\"\n",
    "    #print(cm)\n",
    "\n",
    "    plt.imshow(cm, interpolation='nearest', cmap=cmap)\n",
    "    plt.title(title)\n",
    "    plt.colorbar()\n",
    "    tick_marks = np.arange(len(classes))\n",
    "    plt.xticks(tick_marks, classes, rotation=45)\n",
    "    plt.yticks(tick_marks, classes)\n",
    "\n",
    "    fmt = '.2f' if normalize else 'd'\n",
    "    thresh = cm.max() / 2.\n",
    "    for i, j in itertools.product(range(cm.shape[0]), range(cm.shape[1])):\n",
    "        plt.text(j, i, format(cm[i, j], fmt),\n",
    "                 horizontalalignment=\"center\",\n",
    "                 color=\"white\" if cm[i, j] > thresh else \"black\")\n",
    "\n",
    "    plt.tight_layout()\n",
    "    plt.ylabel('True label')\n",
    "    plt.xlabel('Predicted label')"
   ]
  },
  {
   "cell_type": "code",
   "execution_count": 32,
   "metadata": {},
   "outputs": [
    {
     "ename": "NameError",
     "evalue": "name 'cnf_matrix' is not defined",
     "output_type": "error",
     "traceback": [
      "\u001b[0;31m---------------------------------------------------------------------------\u001b[0m",
      "\u001b[0;31mNameError\u001b[0m                                 Traceback (most recent call last)",
      "\u001b[0;32m<ipython-input-32-3e204a0809ce>\u001b[0m in \u001b[0;36m<module>\u001b[0;34m\u001b[0m\n\u001b[1;32m      1\u001b[0m \u001b[0;31m# Plot non-normalized confusion matrix\u001b[0m\u001b[0;34m\u001b[0m\u001b[0;34m\u001b[0m\u001b[0;34m\u001b[0m\u001b[0m\n\u001b[1;32m      2\u001b[0m \u001b[0mplt\u001b[0m\u001b[0;34m.\u001b[0m\u001b[0mfigure\u001b[0m\u001b[0;34m(\u001b[0m\u001b[0mfigsize\u001b[0m\u001b[0;34m=\u001b[0m\u001b[0;34m(\u001b[0m\u001b[0;36m16\u001b[0m\u001b[0;34m,\u001b[0m\u001b[0;36m12\u001b[0m\u001b[0;34m)\u001b[0m\u001b[0;34m)\u001b[0m\u001b[0;34m\u001b[0m\u001b[0;34m\u001b[0m\u001b[0m\n\u001b[0;32m----> 3\u001b[0;31m plot_confusion_matrix(cnf_matrix, classes=labelencoder.classes_,\n\u001b[0m\u001b[1;32m      4\u001b[0m                       title='Confusion matrix, without normalization')\n",
      "\u001b[0;31mNameError\u001b[0m: name 'cnf_matrix' is not defined"
     ]
    },
    {
     "data": {
      "text/plain": [
       "<Figure size 1152x864 with 0 Axes>"
      ]
     },
     "metadata": {},
     "output_type": "display_data"
    }
   ],
   "source": [
    "# Plot non-normalized confusion matrix\n",
    "plt.figure(figsize=(16,12))\n",
    "plot_confusion_matrix(cnf_matrix, classes=labelencoder.classes_,\n",
    "                      title='Confusion matrix, without normalization')"
   ]
  },
  {
   "cell_type": "code",
   "execution_count": 29,
   "metadata": {},
   "outputs": [],
   "source": [
    "# Find wrong predicted samples indexes\n",
    "wrong_predictions = [i for i, (e1, e2) in enumerate(zip(classes_num[test_index], predictions_int)) if e1 != e2]\n"
   ]
  },
  {
   "cell_type": "code",
   "execution_count": 30,
   "metadata": {},
   "outputs": [
    {
     "name": "stdout",
     "output_type": "stream",
     "text": [
      "['Pigeon' 'Pheasant' 'Quail' 'Crane' 'other' 'Turaco' 'Lapwing' 'Rail'\n",
      " 'Nightjar' 'Oystercatcher' 'Rail' 'Sandpiper' 'Lapwing' 'Stilt'\n",
      " 'Nightjar' 'Dove' 'Nightjar' 'Sandpiper' 'Pigeon' 'Pigeon' 'Pigeon'\n",
      " 'Dove' 'Grebe' 'Dove' 'Sandpiper' 'Grebe' 'Pheasant' 'Quail' 'Gallinule'\n",
      " 'Grouse' 'Grebe' 'Gallinule' 'Coot' 'other' 'Coot' 'Crake' 'Nightjar'\n",
      " 'Quail' 'Swift' 'Pheasant' 'Coot' 'Oystercatcher' 'Stilt' 'Grebe'\n",
      " 'Plover' 'Gallinule' 'Pheasant' 'Crake' 'Plover' 'Crake' 'Plover' 'Crake'\n",
      " 'Grouse' 'Pigeon' 'Stilt' 'Grouse' 'Swift' 'Oystercatcher' 'Lapwing'\n",
      " 'Pheasant' 'Rail' 'Quail' 'Coot' 'Rail' 'Gallinule' 'Dove' 'Turaco'\n",
      " 'Plover' 'Dove' 'Swift' 'Nightjar' 'Stilt' 'Oystercatcher' 'Crane'\n",
      " 'Nightjar' 'Grebe' 'Stilt' 'Grouse' 'Lapwing' 'Turaco' 'Grebe'\n",
      " 'Gallinule' 'Dove' 'other' 'Avocet' 'Gallinule' 'Oystercatcher' 'Turaco'\n",
      " 'Avocet' 'Crake' 'Rail' 'Gallinule' 'Crane' 'Dove' 'Plover' 'Turaco'\n",
      " 'Sandpiper' 'Sandpiper' 'Coot' 'Crane' 'Quail' 'Lapwing' 'Crane' 'Swift'\n",
      " 'Swift' 'Lapwing']\n",
      "['Avocet' 'Avocet' 'Avocet' 'Avocet' 'Avocet' 'Avocet' 'Avocet' 'Avocet'\n",
      " 'Avocet' 'Avocet' 'Avocet' 'Avocet' 'Avocet' 'Avocet' 'Avocet' 'Avocet'\n",
      " 'Avocet' 'Avocet' 'Avocet' 'Avocet' 'Avocet' 'Avocet' 'Avocet' 'Avocet'\n",
      " 'Avocet' 'Avocet' 'Nightjar' 'Avocet' 'Avocet' 'Avocet' 'Avocet' 'Grebe'\n",
      " 'Avocet' 'Avocet' 'Avocet' 'Avocet' 'Avocet' 'Avocet' 'Avocet' 'Avocet'\n",
      " 'Avocet' 'Avocet' 'Avocet' 'Avocet' 'Avocet' 'Avocet' 'Avocet' 'Avocet'\n",
      " 'Avocet' 'Avocet' 'Avocet' 'Nightjar' 'Avocet' 'Avocet' 'Avocet' 'Avocet'\n",
      " 'Avocet' 'Avocet' 'Avocet' 'Avocet' 'Avocet' 'Avocet' 'Avocet' 'Avocet'\n",
      " 'Avocet' 'Avocet' 'Avocet' 'Avocet' 'Avocet' 'Avocet' 'Avocet' 'Avocet'\n",
      " 'Avocet' 'Avocet' 'Avocet' 'Avocet' 'Avocet' 'Avocet' 'Avocet' 'Avocet'\n",
      " 'Avocet' 'Avocet' 'Avocet' 'Lapwing' 'Lapwing' 'Avocet' 'Avocet' 'Avocet'\n",
      " 'Lapwing' 'Avocet' 'Avocet' 'Avocet' 'Avocet' 'Avocet' 'Avocet' 'Avocet'\n",
      " 'Avocet' 'Avocet' 'Avocet' 'Avocet' 'Avocet' 'Avocet' 'Dove' 'Avocet'\n",
      " 'Avocet' 'Avocet']\n",
      "['./BirdSound/Pigeon/XC205976 - Picazuro Pigeon - Patagioenas picazuro.wav'\n",
      " './BirdSound/Pheasant/XC457008 - Silver Pheasant - Lophura nycthemera.wav'\n",
      " './BirdSound/Quail/XC53487 - California Quail - Callipepla californica.wav'\n",
      " './BirdSound/Crane/XC233280 - Common Crane - Grus grus (1).wav'\n",
      " './BirdSound/Grouse/XC182895 - Pin-tailed Sandgrouse - Pterocles alchata caudacutus.wav'\n",
      " './BirdSound/Turaco/XC103430 - Yellow-billed Turaco - Tauraco macrorhynchus macrorhynchus.wav'\n",
      " './BirdSound/Lapwing/XC294380 - Crowned Lapwing - Vanellus coronatus.wav'\n",
      " './BirdSound/Rail/XC217119 - Black Rail - Laterallus jamaicensis.wav'\n",
      " './BirdSound/Nightjar/XC20268 - Pygmy Nightjar - Nyctipolus hirundinaceus cearae.wav'\n",
      " './BirdSound/Oystercatcher/XC25075 - Eurasian Oystercatcher - Haematopus ostralegus.wav'\n",
      " \"./BirdSound/Rail/XC110658 - Ridgway's Rail - Rallus obsoletus yumanensis.wav\"\n",
      " './BirdSound/Sandpiper/XC220055 - Least Sandpiper - Calidris minutilla.wav'\n",
      " './BirdSound/Lapwing/XC300855 - Spot-breasted Lapwing - Vanellus melanocephalus (1).wav'\n",
      " './BirdSound/Stilt/XC269525 - Black-winged Stilt - Himantopus himantopus.wav'\n",
      " './BirdSound/Nightjar/XC403361 - Black-shouldered Nightjar - Caprimulgus nigriscapularis.wav'\n",
      " './BirdSound/Dove/XC85026 - Ruddy Ground Dove - Columbina talpacoti talpacoti.wav'\n",
      " './BirdSound/Nightjar/XC357069 - Freckled Nightjar - Caprimulgus tristigma.wav'\n",
      " './BirdSound/Sandpiper/XC276361 - Green Sandpiper - Tringa ochropus.wav'\n",
      " './BirdSound/Pigeon/XC715 - Ruddy Pigeon - Patagioenas subvinacea.wav'\n",
      " './BirdSound/Pigeon/XC39583 - Ruddy Pigeon - Patagioenas subvinacea.wav'\n",
      " './BirdSound/Pigeon/XC48672 - Picazuro Pigeon - Patagioenas picazuro.wav'\n",
      " './BirdSound/Dove/XC367411 - European Turtle Dove - Streptopelia turtur.wav'\n",
      " './BirdSound/Grebe/XC442038 - Little Grebe - Tachybaptus ruficollis.wav'\n",
      " './BirdSound/Dove/XC90873 - Laughing Dove - Spilopelia senegalensis phoenicophila.wav'\n",
      " './BirdSound/Sandpiper/XC145344 - Terek Sandpiper - Xenus cinereus.wav'\n",
      " './BirdSound/Grebe/XC55584 - Least Grebe - Tachybaptus dominicus.wav'\n",
      " './BirdSound/Pheasant/XC99473 - Common Pheasant - Phasianus colchicus.wav'\n",
      " './BirdSound/Quail/XC329460 - Mountain Quail - Oreortyx pictus.wav'\n",
      " './BirdSound/Gallinule/XC37123 - Purple Gallinule - Porphyrio martinica.wav'\n",
      " './BirdSound/Grouse/XC403879 - Hazel Grouse - Tetrastes bonasia.wav'\n",
      " './BirdSound/Grebe/XC267199 - Black-necked Grebe - Podiceps nigricollis.wav'\n",
      " './BirdSound/Gallinule/XC50276 - Spot-flanked Gallinule - Porphyriops melanops.wav'\n",
      " './BirdSound/Coot/XC31056 - Eurasian Coot - Fulica atra.wav'\n",
      " './BirdSound/Grouse/XC347020 - Namaqua Sandgrouse - Pterocles namaqua.wav'\n",
      " './BirdSound/Coot/XC153335 - American Coot - Fulica americana.wav'\n",
      " './BirdSound/Crake/XC237988 - Chestnut-headed Crake - Anurolimnas castaneiceps castaneiceps.wav'\n",
      " \"./BirdSound/Nightjar/XC73507 - Jerdon's Nightjar - Caprimulgus atripennis.wav\"\n",
      " './BirdSound/Quail/XC310823 - Marbled Wood Quail - Odontophorus gujanensis.wav'\n",
      " './BirdSound/Swift/XC118539 - Common Swift - Apus apus.wav'\n",
      " './BirdSound/Pheasant/XC384627 - Common Pheasant - Phasianus colchicus.wav'\n",
      " './BirdSound/Coot/XC37445 - Eurasian Coot - Fulica atra.wav'\n",
      " './BirdSound/Oystercatcher/XC28379 - Magellanic Oystercatcher - Haematopus leucopodus.wav'\n",
      " './BirdSound/Stilt/XC6707 - White-backed Stilt - Himantopus melanurus melanurus.wav'\n",
      " './BirdSound/Grebe/XC26547 - Great Crested Grebe - Podiceps cristatus cristatus.wav'\n",
      " './BirdSound/Plover/XC140325 - Little Ringed Plover - Charadrius dubius papuanus.wav'\n",
      " './BirdSound/Gallinule/XC1147 - Purple Gallinule - Porphyrio martinica.wav'\n",
      " './BirdSound/Pheasant/XC114691 - Kalij Pheasant - Lophura leucomelanos hamiltonii.wav'\n",
      " './BirdSound/Crake/XC8140 - Rufous-sided Crake - Laterallus melanophaius.wav'\n",
      " './BirdSound/Plover/XC281063 - Common Ringed Plover - Charadrius hiaticula.wav'\n",
      " './BirdSound/Crake/XC349171 - Ocellated Crake - Micropygia schomburgkii.wav'\n",
      " './BirdSound/Plover/XC201561 - Grey Plover - Pluvialis squatarola.wav'\n",
      " './BirdSound/Crake/XC270595 - Chestnut-headed Crake - Anurolimnas castaneiceps.wav'\n",
      " './BirdSound/Grouse/XC468769 - Ruffed Grouse - Bonasa umbellus.wav'\n",
      " './BirdSound/Pigeon/XC39584 - Ruddy Pigeon - Patagioenas subvinacea.wav'\n",
      " './BirdSound/Stilt/XC280353 - Black-winged Stilt - Himantopus himantopus.wav'\n",
      " './BirdSound/Grouse/XC33773 - Sage Grouse - Centrocercus urophasianus.wav'\n",
      " './BirdSound/Swift/XC471844 - Mascarene Swiftlet - Aerodramus francicus.wav'\n",
      " './BirdSound/Oystercatcher/XC411158 - Eurasian Oystercatcher - Haematopus ostralegus ostralegus.wav'\n",
      " './BirdSound/Lapwing/XC368211 - Red-wattled Lapwing - Vanellus indicus.wav'\n",
      " './BirdSound/Pheasant/XC76852 - Common Pheasant - Phasianus colchicus.wav'\n",
      " './BirdSound/Rail/XC273674 - Bogota Rail - Rallus semiplumbeus.wav'\n",
      " \"./BirdSound/Quail/XC297521 - Gambel's Quail - Callipepla gambelii.wav\"\n",
      " './BirdSound/Coot/XC37846 - American Coot - Fulica americana.wav'\n",
      " './BirdSound/Rail/XC442866 - Brown-cheeked Rail - Rallus indicus.wav'\n",
      " './BirdSound/Gallinule/XC452961 - Common Gallinule - Gallinula galeata.wav'\n",
      " './BirdSound/Dove/XC71960 - Common Ground Dove - Columbina passerina.wav'\n",
      " './BirdSound/Turaco/XC419778 - Great Blue Turaco - Corythaeola cristata.wav'\n",
      " './BirdSound/Plover/XC323096 - Semipalmated Plover - Charadrius semipalmatus.wav'\n",
      " './BirdSound/Quail/XC113194 - Ruddy Quail-Dove - Geotrygon montana.wav'\n",
      " './BirdSound/Swift/XC425114 - White-throated Swift - Aeronautes saxatalis.wav'\n",
      " './BirdSound/Nightjar/XC321377 - European Nightjar - Caprimulgus europaeus.wav'\n",
      " './BirdSound/Stilt/XC174956 - Black-necked Stilt - Himantopus mexicanus.wav'\n",
      " './BirdSound/Oystercatcher/XC60035 - Blackish Oystercatcher - Haematopus ater.wav'\n",
      " './BirdSound/Crane/XC167449 - Demoiselle Crane - Grus virgo.wav'\n",
      " './BirdSound/Nightjar/XC55649 - White-winged Nightjar - Eleothreptus candicans.wav'\n",
      " './BirdSound/Grebe/XC451358 - Pied-billed Grebe - Podilymbus podiceps.wav'\n",
      " './BirdSound/Stilt/XC147547 - White-backed Stilt - Himantopus melanurus.wav'\n",
      " './BirdSound/Grouse/XC77993 - Ruffed Grouse - Bonasa umbellus incana.wav'\n",
      " './BirdSound/Lapwing/XC300861 - Spot-breasted Lapwing - Vanellus melanocephalus (1).wav'\n",
      " \"./BirdSound/Turaco/XC95389 - Livingstone's Turaco - Tauraco livingstonii.wav\"\n",
      " './BirdSound/Grebe/XC83320 - Least Grebe - Tachybaptus dominicus.wav'\n",
      " './BirdSound/Gallinule/XC100569 - Common Gallinule - Gallinula galeata.wav'\n",
      " './BirdSound/Dove/XC17077 - Ruddy Ground Dove - Columbina talpacoti.wav'\n",
      " './BirdSound/Grouse/XC115213 - Four-banded Sandgrouse - Pterocles quadricinctus.wav'\n",
      " './BirdSound/Avocet/XC12130 - American Avocet - Recurvirostra americana.wav'\n",
      " './BirdSound/Gallinule/XC166168 - Purple Gallinule - Porphyrio martinica.wav'\n",
      " './BirdSound/Oystercatcher/XC144971 - Eurasian Oystercatcher - Haematopus ostralegus.wav'\n",
      " './BirdSound/Turaco/XC335430 - Purple-crested Turaco - Tauraco porphyreolophus (1).wav'\n",
      " './BirdSound/Avocet/XC188266 - Pied Avocet - Recurvirostra avosetta.wav'\n",
      " './BirdSound/Crake/XC2358 - Rufous-sided Crake - Laterallus melanophaius.wav'\n",
      " './BirdSound/Rail/XC454949 - Grey-necked Wood Rail - Aramides cajaneus.wav'\n",
      " './BirdSound/Gallinule/XC326531 - Purple Gallinule - Porphyrio martinica.wav'\n",
      " './BirdSound/Crane/XC28066 - Common Crane - Grus grus.wav'\n",
      " './BirdSound/Dove/XC120281 - Croaking Ground Dove - Columbina cruziana.wav'\n",
      " './BirdSound/Sandpiper/XC348861 - Diademed Sandpiper-Plover - Phegornis mitchellii.wav'\n",
      " \"./BirdSound/Turaco/XC62391 - Livingstone's Turaco - Tauraco livingstonii reichenowi.wav\"\n",
      " './BirdSound/Sandpiper/XC302648 - Western Sandpiper - Calidris mauri.wav'\n",
      " './BirdSound/Stilt/XC76189 - Stilt Sandpiper - Calidris himantopus.wav'\n",
      " './BirdSound/Coot/XC17280 - Andean Coot - Fulica ardesiaca.wav'\n",
      " './BirdSound/Crane/XC393305 - Sandhill Crane - Antigone canadensis.wav'\n",
      " './BirdSound/Quail/XC406904 - Black-eared Wood Quail - Odontophorus melanotis melanotis.wav'\n",
      " './BirdSound/Lapwing/XC103918 - Southern Lapwing - Vanellus chilensis.wav'\n",
      " './BirdSound/Crane/XC432843 - Common Crane - Grus grus.wav'\n",
      " './BirdSound/Swift/XC230419 - Neotropical Palm Swift - Tachornis squamata.wav'\n",
      " './BirdSound/Swift/XC186231 - Sooty Swift - Cypseloides fumigatus.wav'\n",
      " './BirdSound/Lapwing/XC126181 - Crowned Lapwing - Vanellus coronatus.wav']\n"
     ]
    }
   ],
   "source": [
    "# Find wrong predicted audio files\n",
    "print(np.array(labels)[test_index[wrong_predictions]])\n",
    "print(predictions_labels[wrong_predictions].T)\n",
    "print(np.array(files)[test_index[wrong_predictions]])"
   ]
  },
  {
   "cell_type": "code",
   "execution_count": null,
   "metadata": {},
   "outputs": [],
   "source": []
  }
 ],
 "metadata": {
  "kernelspec": {
   "display_name": "Python 3",
   "language": "python",
   "name": "python3"
  },
  "language_info": {
   "codemirror_mode": {
    "name": "ipython",
    "version": 3
   },
   "file_extension": ".py",
   "mimetype": "text/x-python",
   "name": "python",
   "nbconvert_exporter": "python",
   "pygments_lexer": "ipython3",
   "version": "3.6.9"
  }
 },
 "nbformat": 4,
 "nbformat_minor": 2
}
