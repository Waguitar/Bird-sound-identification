{
 "cells": [
  {
   "cell_type": "markdown",
   "metadata": {},
   "source": [
    "## Imports"
   ]
  },
  {
   "cell_type": "code",
   "execution_count": 1,
   "metadata": {},
   "outputs": [],
   "source": [
    "# Imports/\n",
    "\n",
    "#General\n",
    "import numpy as np\n",
    "import itertools\n",
    "\n",
    "# System\n",
    "import os, fnmatch\n",
    "\n",
    "# Visualization\n",
    "import seaborn #visualization library, must be imported before all other plotting libraries\n",
    "import matplotlib.pyplot as plt\n",
    "from IPython.core.display import HTML, display\n",
    "\n",
    "# Machine Learning\n",
    "from sklearn.preprocessing import LabelEncoder\n",
    "from sklearn.preprocessing import StandardScaler\n",
    "from sklearn.model_selection import StratifiedShuffleSplit\n",
    "from sklearn.neighbors import KNeighborsClassifier\n",
    "from sklearn.metrics import recall_score, precision_score, accuracy_score\n",
    "from sklearn.metrics import confusion_matrix, f1_score, classification_report\n",
    "\n",
    "# Random Seed\n",
    "from numpy.random import seed\n",
    "seed(1)\n",
    "\n",
    "# Audio\n",
    "import librosa.display, librosa"
   ]
  },
  {
   "cell_type": "markdown",
   "metadata": {},
   "source": [
    "## Get filenames"
   ]
  },
  {
   "cell_type": "code",
   "execution_count": 2,
   "metadata": {},
   "outputs": [
    {
     "name": "stdout",
     "output_type": "stream",
     "text": [
      "found 95 audio files in TestSound/\n"
     ]
    }
   ],
   "source": [
    "# Get files in data path\n",
    "path='TestSound/'\n",
    "# Get Audio Files\n",
    "files = []\n",
    "for root, dirnames, filenames in os.walk(path):\n",
    "    for filename in fnmatch.filter(filenames, '*.wav'):\n",
    "        files.append(os.path.join(root, filename))\n",
    "\n",
    "print(\"found %d audio files in %s\"%(len(files),path))"
   ]
  },
  {
   "cell_type": "markdown",
   "metadata": {},
   "source": [
    "## Prepare labels from filenames"
   ]
  },
  {
   "cell_type": "code",
   "execution_count": 3,
   "metadata": {},
   "outputs": [],
   "source": [
    "labels =[]\n",
    "classes=['Test']\n",
    "\n",
    "\n",
    "\n",
    "color_dict={'Test':'blue'}\n",
    "\n",
    "color_list=[]\n",
    "for filename in files:\n",
    "    for name in classes:\n",
    "        if fnmatch.fnmatchcase(filename, '*'+name+'*'):\n",
    "            labels.append(name)\n",
    "            color_list.append(color_dict[name])\n",
    "            break\n",
    "    else:\n",
    "        labels.append('other')"
   ]
  },
  {
   "cell_type": "markdown",
   "metadata": {},
   "source": [
    "## Encode Labels"
   ]
  },
  {
   "cell_type": "code",
   "execution_count": 4,
   "metadata": {},
   "outputs": [
    {
     "name": "stdout",
     "output_type": "stream",
     "text": [
      "1 classes: Test\n"
     ]
    }
   ],
   "source": [
    "# Encode Labels\n",
    "labelencoder = LabelEncoder()\n",
    "labelencoder.fit(labels)\n",
    "print(len(labelencoder.classes_), \"classes:\", \", \".join(list(labelencoder.classes_)))\n",
    "classes_num = labelencoder.transform(labels)"
   ]
  },
  {
   "cell_type": "markdown",
   "metadata": {},
   "source": [
    "## Parameters for MFCC"
   ]
  },
  {
   "cell_type": "code",
   "execution_count": 5,
   "metadata": {},
   "outputs": [],
   "source": [
    "# Parameters\n",
    "# Signal Processing Parameters\n",
    "fs = 44100         # Sampling Frequency\n",
    "n_fft = 2048       # length of the FFT window\n",
    "hop_length = 512   # Number of samples between successive frames\n",
    "n_mels = 128       # Number of Mel bands\n",
    "n_mfcc = 13        # Number of MFCCs\n",
    "\n",
    "# Machine Learning Parameters\n",
    "testset_size = 0.25 #Percentage of data for Testing\n",
    "n_neighbors=1       # Number of neighbors for kNN Classifier"
   ]
  },
  {
   "cell_type": "markdown",
   "metadata": {},
   "source": [
    "## Function to Calculate Audio Features: MFCC"
   ]
  },
  {
   "cell_type": "code",
   "execution_count": 6,
   "metadata": {},
   "outputs": [],
   "source": [
    "# Define Function to Calculate MFCC, Delta_MFCC and Delta2_MFCC\n",
    "def get_features(y, sr=fs):\n",
    "    S = librosa.feature.melspectrogram(y, sr=fs, n_mels=n_mels)\n",
    "    mfcc = librosa.feature.mfcc(S=librosa.power_to_db(S), n_mfcc=n_mfcc)\n",
    "    feature_vector = np.mean(mfcc,1)\n",
    "    #feature_vector = (feature_vector-np.mean(feature_vector))/np.std(feature_vector)\n",
    "    return feature_vector"
   ]
  },
  {
   "cell_type": "markdown",
   "metadata": {},
   "source": [
    "## Load audio files, calculate features and create feature vectors"
   ]
  },
  {
   "cell_type": "code",
   "execution_count": 7,
   "metadata": {},
   "outputs": [
    {
     "name": "stdout",
     "output_type": "stream",
     "text": [
      "get 1 of 95 = TestSound/XC14381 - American Coot - Fulica americana~1.wav\n",
      "get 2 of 95 = TestSound/XC715 - Ruddy Pigeon - Patagioenas subvinacea.wav\n",
      "get 3 of 95 = TestSound/XC14345 - Purple-crowned Plovercrest - Stephanoxis loddigesii.wav\n",
      "get 4 of 95 = TestSound/XC179459 - Ridgway's Rail - Rallus obsoletus.wav\n",
      "get 5 of 95 = TestSound/XC51141 - White-tufted Grebe - Rollandia rolland.wav\n",
      "get 6 of 95 = TestSound/XC45353 - Spot-flanked Gallinule - Porphyriops melanops crassirostris.wav\n",
      "get 7 of 95 = TestSound/XC15483 - Rufous-faced Crake - Laterallus xenopterus.wav\n",
      "get 8 of 95 = TestSound/XC2479 - Andean Avocet - Recurvirostra andina.wav\n",
      "get 9 of 95 = TestSound/XC43622 - Yellow-billed Turaco - Tauraco macrorhynchus.wav\n",
      "get 10 of 95 = TestSound/XC22547 - Masked Lapwing - Vanellus miles.wav\n",
      "get 11 of 95 = TestSound/XC114691 - Kalij Pheasant - Lophura leucomelanos hamiltonii.wav\n",
      "get 12 of 95 = TestSound/XC93965 - Black-winged Stilt - Himantopus himantopus (1).wav\n",
      "get 13 of 95 = TestSound/XC77993 - Ruffed Grouse - Bonasa umbellus incana.wav\n",
      "get 14 of 95 = TestSound/XC62293 - Grey Crowned Crane - Balearica regulorum regulorum.wav\n",
      "get 15 of 95 = TestSound/XC140325 - Little Ringed Plover - Charadrius dubius papuanus.wav\n",
      "get 16 of 95 = TestSound/XC59911 - Rufous-chested Plover - Charadrius modestus.wav\n",
      "get 17 of 95 = TestSound/XC145934 - Stilt Sandpiper - Calidris himantopus.wav\n",
      "get 18 of 95 = TestSound/XC217119 - Black Rail - Laterallus jamaicensis.wav\n",
      "get 19 of 95 = TestSound/XC45718 - Namaqua Dove - Oena capensis.wav\n",
      "get 20 of 95 = TestSound/XC13469 - Black-banded Crake - Laterallus fasciatus~1.wav\n",
      "get 21 of 95 = TestSound/XC37123 - Purple Gallinule - Porphyrio martinica.wav\n",
      "get 22 of 95 = TestSound/XC62391 - Livingstone's Turaco - Tauraco livingstonii reichenowi.wav\n",
      "get 23 of 95 = TestSound/XC99473 - Common Pheasant - Phasianus colchicus.wav\n",
      "get 24 of 95 = TestSound/XC71944 - Black Grouse - Lyrurus tetrix.wav\n",
      "get 25 of 95 = TestSound/XC28379 - Magellanic Oystercatcher - Haematopus leucopodus.wav\n",
      "get 26 of 95 = TestSound/XC7979 - Common Gallinule - Gallinula galeata.wav\n",
      "get 27 of 95 = TestSound/XC48658 - Ruffed Grouse - Bonasa umbellus.wav\n",
      "get 28 of 95 = TestSound/XC145344 - Terek Sandpiper - Xenus cinereus.wav\n",
      "get 29 of 95 = TestSound/XC14372 - Pied-billed Grebe - Podilymbus podiceps.wav\n",
      "get 30 of 95 = TestSound/XC30141 - White-rumped Sandpiper - Calidris fuscicollis.wav\n",
      "get 31 of 95 = TestSound/XC25075 - Eurasian Oystercatcher - Haematopus ostralegus.wav\n",
      "get 32 of 95 = TestSound/XC10309 - Bogota Rail - Rallus semiplumbeus semiplumbeus.wav\n",
      "get 33 of 95 = TestSound/XC13469 - Black-banded Crake - Laterallus fasciatus.wav\n",
      "get 34 of 95 = TestSound/XC130540 - Clapper Rail - Rallus crepitans.wav\n",
      "get 35 of 95 = TestSound/XC115583 - Common Pheasant - Phasianus colchicus.wav\n",
      "get 36 of 95 = TestSound/XC76852 - Common Pheasant - Phasianus colchicus.wav\n",
      "get 37 of 95 = TestSound/XC60035 - Blackish Oystercatcher - Haematopus ater.wav\n",
      "get 38 of 95 = TestSound/XC6095 - Spot-tailed Nightjar - Hydropsalis maculicaudus.wav\n",
      "get 39 of 95 = TestSound/XC2474 - Andean Avocet - Recurvirostra andina.wav\n",
      "get 40 of 95 = TestSound/XC50272 - Southern Lapwing - Vanellus chilensis.wav\n",
      "get 41 of 95 = TestSound/XC12874 - White-chinned Swift - Cypseloides cryptus.wav\n",
      "get 42 of 95 = TestSound/XC65467 - Stock Dove - Columba oenas.wav\n",
      "get 43 of 95 = TestSound/XC39584 - Ruddy Pigeon - Patagioenas subvinacea.wav\n",
      "get 44 of 95 = TestSound/XC72452 - Purple-crested Turaco - Tauraco porphyreolophus.wav\n",
      "get 45 of 95 = TestSound/XC33773 - Sage Grouse - Centrocercus urophasianus.wav\n",
      "get 46 of 95 = TestSound/XC95389 - Livingstone's Turaco - Tauraco livingstonii.wav\n",
      "get 47 of 95 = TestSound/XC43007 - Blackish Oystercatcher - Haematopus ater.wav\n",
      "get 48 of 95 = TestSound/XC99831 - Yellow-billed Turaco - Tauraco macrorhynchus verreauxii.wav\n",
      "get 49 of 95 = TestSound/XC2358 - Rufous-sided Crake - Laterallus melanophaius.wav\n",
      "get 50 of 95 = TestSound/XC8578 - White-winged Coot - Fulica leucoptera.wav\n",
      "get 51 of 95 = TestSound/XC51732 - Collared Plover - Charadrius collaris.wav\n",
      "get 52 of 95 = TestSound/XC126037 - Pheasant Cuckoo - Dromococcyx phasianellus.wav\n",
      "get 53 of 95 = TestSound/XC17280 - Andean Coot - Fulica ardesiaca.wav\n",
      "get 54 of 95 = TestSound/XC13333 - Spot-tailed Nightjar - Hydropsalis maculicaudus.wav\n",
      "get 55 of 95 = TestSound/XC48673 - Picazuro Pigeon - Patagioenas picazuro.wav\n",
      "get 56 of 95 = TestSound/XC110658 - Ridgway's Rail - Rallus obsoletus yumanensis.wav\n",
      "get 57 of 95 = TestSound/XC45354 - Spot-flanked Gallinule - Porphyriops melanops crassirostris.wav\n",
      "get 58 of 95 = TestSound/XC118539 - Common Swift - Apus apus.wav\n",
      "get 59 of 95 = TestSound/XC43482 - Little Grebe - Tachybaptus ruficollis.wav\n",
      "get 60 of 95 = TestSound/XC34689 - Zebra Dove - Geopelia striata.wav\n",
      "get 61 of 95 = TestSound/XC58012 - Blue Crane - Grus paradisea.wav\n",
      "get 62 of 95 = TestSound/XC81962 - Grey-headed Lapwing - Vanellus cinereus.wav\n",
      "get 63 of 95 = TestSound/XC16280 - White-rumped Sandpiper - Calidris fuscicollis.wav\n",
      "get 64 of 95 = TestSound/XC30564 - Silky-tailed Nightjar - Antrostomus sericocaudatus sericocaudatus.wav\n",
      "get 65 of 95 = TestSound/XC128124 - Black-winged Stilt - Himantopus himantopus.wav\n",
      "get 66 of 95 = TestSound/XC20268 - Pygmy Nightjar - Nyctipolus hirundinaceus cearae.wav\n",
      "get 67 of 95 = TestSound/XC64698 - Red-crowned Crane - Grus japonensis.wav\n",
      "get 68 of 95 = TestSound/XC37809 - Alpine Swift - Tachymarptis melba.wav\n",
      "get 69 of 95 = TestSound/XC2394 - Silky-tailed Nightjar - Antrostomus sericocaudatus.wav\n",
      "get 70 of 95 = TestSound/XC51138 - White-tufted Grebe - Rollandia rolland.wav\n",
      "get 71 of 95 = TestSound/XC21433 - Common Ground Dove - Columbina passerina pallescens (1).wav\n",
      "get 72 of 95 = TestSound/XC28533 - Eurasian Coot - Fulica atra.wav\n",
      "get 73 of 95 = TestSound/XC59841 - Andean Avocet - Recurvirostra andina.wav\n",
      "get 74 of 95 = TestSound/XC29798 - Black-winged Stilt - Himantopus himantopus.wav\n",
      "get 75 of 95 = TestSound/XC1147 - Purple Gallinule - Porphyrio martinica.wav\n",
      "get 76 of 95 = TestSound/XC62293 - Grey Crowned Crane - Balearica regulorum regulorum~1.wav\n",
      "get 77 of 95 = TestSound/XC61517 - Ruffed Grouse - Bonasa umbellus.wav\n",
      "get 78 of 95 = TestSound/XC38243 - Masked Lapwing - Vanellus miles.wav\n",
      "get 79 of 95 = TestSound/XC91478 - Pacific Golden Plover - Pluvialis fulva.wav\n",
      "get 80 of 95 = TestSound/XC48567 - Magellanic Oystercatcher - Haematopus leucopodus.wav\n",
      "get 81 of 95 = TestSound/XC17077 - Ruddy Ground Dove - Columbina talpacoti.wav\n",
      "get 82 of 95 = TestSound/XC14381 - American Coot - Fulica americana.wav\n",
      "get 83 of 95 = TestSound/XC100435 - Common Sandpiper - Actitis hypoleucos.wav\n",
      "get 84 of 95 = TestSound/XC95620 - Lesser Swallow-tailed Swift - Panyptila cayennensis.wav\n",
      "get 85 of 95 = TestSound/XC48672 - Picazuro Pigeon - Patagioenas picazuro.wav\n",
      "get 86 of 95 = TestSound/XC28066 - Common Crane - Grus grus.wav\n",
      "get 87 of 95 = TestSound/XC26547 - Great Crested Grebe - Podiceps cristatus cristatus.wav\n",
      "get 88 of 95 = TestSound/XC8140 - Rufous-sided Crake - Laterallus melanophaius.wav\n",
      "get 89 of 95 = TestSound/XC6707 - White-backed Stilt - Himantopus melanurus melanurus.wav\n",
      "get 90 of 95 = TestSound/XC1885 - Short-tailed Swift - Chaetura brachyura.wav\n",
      "get 91 of 95 = TestSound/XC39583 - Ruddy Pigeon - Patagioenas subvinacea.wav\n",
      "get 92 of 95 = TestSound/XC76189 - Stilt Sandpiper - Calidris himantopus.wav\n",
      "get 93 of 95 = TestSound/XC74349 - River Lapwing - Vanellus duvaucelii.wav\n",
      "get 94 of 95 = TestSound/XC95529 - Andean Avocet - Recurvirostra andina.wav\n",
      "get 95 of 95 = TestSound/XC12130 - American Avocet - Recurvirostra americana.wav\n",
      "Calculated 95 feature vectors\n"
     ]
    }
   ],
   "source": [
    "# Load audio files, calculate features and create feature vectors\n",
    "feature_vectors = []\n",
    "sound_paths = []\n",
    "for i,f in enumerate(files):\n",
    "    print (\"get %d of %d = %s\"%(i+1, len(files), f))\n",
    "    try:\n",
    "        y, sr = librosa.load(f, sr=fs)\n",
    "        y/=y.max() #Normalize\n",
    "        if len(y) < 2:\n",
    "            print(\"Error loading %s\" % f)\n",
    "            continue\n",
    "        feat = get_features(y, sr)\n",
    "        feature_vectors.append(feat)\n",
    "        sound_paths.append(f)\n",
    "    except Exception as e:\n",
    "        print(\"Error loading %s. Error: %s\" % (f,e))\n",
    "        \n",
    "print(\"Calculated %d feature vectors\"%len(feature_vectors))"
   ]
  },
  {
   "cell_type": "markdown",
   "metadata": {},
   "source": [
    "## Standardization: Zero-Mean and Unit-Variance"
   ]
  },
  {
   "cell_type": "code",
   "execution_count": 8,
   "metadata": {},
   "outputs": [
    {
     "name": "stdout",
     "output_type": "stream",
     "text": [
      "Feature vectors shape: (95, 13)\n"
     ]
    }
   ],
   "source": [
    "# Scale features using Standard Scaler\n",
    "scaler = StandardScaler()\n",
    "testing_set = scaler.fit_transform(np.array(feature_vectors))\n",
    "print(\"Feature vectors shape:\",testing_set.shape)"
   ]
  },
  {
   "cell_type": "code",
   "execution_count": 9,
   "metadata": {},
   "outputs": [
    {
     "name": "stdout",
     "output_type": "stream",
     "text": [
      "testing_set shape: (95, 13)\n",
      "testing_classes shape: (95,)\n"
     ]
    }
   ],
   "source": [
    "# Check Set Shapes\n",
    "print(\"testing_set shape:\",testing_set.shape)\n",
    "print(\"testing_classes shape:\",classes_num.shape)"
   ]
  },
  {
   "cell_type": "markdown",
   "metadata": {},
   "source": [
    "## t-SNE"
   ]
  },
  {
   "cell_type": "code",
   "execution_count": 10,
   "metadata": {},
   "outputs": [],
   "source": [
    "%matplotlib inline\n",
    "import os\n",
    "import matplotlib\n",
    "import matplotlib.pyplot as plt\n",
    "from matplotlib.offsetbox import OffsetImage, AnnotationBbox\n",
    "import cv2\n",
    "import numpy as np\n",
    "from glob import glob\n",
    "import matplotlib.cm as cm\n",
    "from sklearn.decomposition import PCA\n",
    "from sklearn.manifold import TSNE\n",
    "from sklearn.preprocessing import StandardScaler"
   ]
  },
  {
   "cell_type": "code",
   "execution_count": 11,
   "metadata": {},
   "outputs": [],
   "source": [
    "#labels = np.array(classes_num)\n",
    "labels_ids = np.array(classes_num)\n",
    "labels = np.array(labels)\n",
    "label_to_id_dict = {v:i for i,v in enumerate(np.unique(labels))}\n",
    "id_to_label_dict = {v: k for k, v in label_to_id_dict.items()}\n",
    "label_ids = np.array([label_to_id_dict[x] for x in labels])"
   ]
  },
  {
   "cell_type": "code",
   "execution_count": 12,
   "metadata": {},
   "outputs": [],
   "source": [
    "def visualize_scatter_with_images(X_2d_data, images, figsize=(45,45), image_zoom=1):\n",
    "    fig, ax = plt.subplots(figsize=figsize)\n",
    "    artists = []\n",
    "    for xy, i in zip(X_2d_data, images):\n",
    "        x0, y0 = xy\n",
    "        img = OffsetImage(i, zoom=image_zoom)\n",
    "        ab = AnnotationBbox(img, (x0, y0), xycoords='data', frameon=False)\n",
    "        artists.append(ax.add_artist(ab))\n",
    "    ax.update_datalim(X_2d_data)\n",
    "    ax.autoscale()\n",
    "    plt.show()\n"
   ]
  },
  {
   "cell_type": "code",
   "execution_count": 13,
   "metadata": {},
   "outputs": [],
   "source": [
    "def visualize_scatter(data_2d, label_ids, figsize=(10,10)):\n",
    "    plt.figure(figsize=figsize)\n",
    "    plt.grid()\n",
    "    \n",
    "    nb_classes = len(np.unique(label_ids))\n",
    "    \n",
    "    for label_id in np.unique(label_ids):\n",
    "        plt.scatter(data_2d[np.where(label_ids == label_id), 0],\n",
    "                    data_2d[np.where(label_ids == label_id), 1],\n",
    "                    marker='o',\n",
    "                    color= plt.cm.Set1(label_id / float(nb_classes)),\n",
    "                    linewidth='1',\n",
    "                    alpha=0.8,\n",
    "                    label=id_to_label_dict[label_id])\n",
    "    plt.legend(loc='best')"
   ]
  },
  {
   "cell_type": "code",
   "execution_count": 14,
   "metadata": {},
   "outputs": [
    {
     "data": {
      "text/plain": [
       "(95, 2)"
      ]
     },
     "execution_count": 14,
     "metadata": {},
     "output_type": "execute_result"
    }
   ],
   "source": [
    "import numpy as np\n",
    "from sklearn.manifold import TSNE\n",
    "X_embedded = TSNE(n_components=2).fit_transform(testing_set)\n",
    "X_embedded.shape"
   ]
  },
  {
   "cell_type": "code",
   "execution_count": 15,
   "metadata": {},
   "outputs": [
    {
     "data": {
      "image/png": "[encoded data removed]",
      "text/plain": [
       "<Figure size 720x720 with 1 Axes>"
      ]
     },
     "metadata": {
      "needs_background": "light"
     },
     "output_type": "display_data"
    }
   ],
   "source": [
    "visualize_scatter(X_embedded,label_ids)"
   ]
  },
  {
   "cell_type": "markdown",
   "metadata": {},
   "source": [
    "## K-Means Algorithim"
   ]
  },
  {
   "cell_type": "code",
   "execution_count": 30,
   "metadata": {},
   "outputs": [],
   "source": [
    "from sklearn.cluster import KMeans\n",
    "\n",
    "km = KMeans(\n",
    "    n_clusters=7, init='random',\n",
    "    n_init=10, max_iter=300, \n",
    "    tol=1e-04, random_state=0\n",
    ")\n",
    "y_km = km.fit_predict(testing_set)"
   ]
  },
  {
   "cell_type": "code",
   "execution_count": 31,
   "metadata": {},
   "outputs": [
    {
     "data": {
      "image/png": "[encoded data removed]",
      "text/plain": [
       "<Figure size 432x288 with 1 Axes>"
      ]
     },
     "metadata": {
      "needs_background": "light"
     },
     "output_type": "display_data"
    }
   ],
   "source": [
    "# plot the 3 clusters\n",
    "plt.scatter(\n",
    "    testing_set[y_km == 0, 0], testing_set[y_km == 0, 1],\n",
    "    s=50, c='lightgreen',\n",
    "    marker='s', edgecolor='black',\n",
    "    label='cluster 1'\n",
    ")\n",
    "\n",
    "plt.scatter(\n",
    "    testing_set[y_km == 1, 0], testing_set[y_km == 1, 1],\n",
    "    s=50, c='orange',\n",
    "    marker='o', edgecolor='black',\n",
    "    label='cluster 2'\n",
    ")\n",
    "\n",
    "plt.scatter(\n",
    "    testing_set[y_km == 2, 0], testing_set[y_km == 2, 1],\n",
    "    s=50, c='lightblue',\n",
    "    marker='v', edgecolor='black',\n",
    "    label='cluster 3'\n",
    ")\n",
    "\n",
    "# plot the centroids\n",
    "plt.scatter(\n",
    "    km.cluster_centers_[:, 0], km.cluster_centers_[:, 1],\n",
    "    s=250, marker='*',\n",
    "    c='red', edgecolor='black',\n",
    "    label='centroids'\n",
    ")\n",
    "plt.legend(scatterpoints=1)\n",
    "plt.grid()\n",
    "plt.show()"
   ]
  },
  {
   "cell_type": "code",
   "execution_count": 33,
   "metadata": {},
   "outputs": [
    {
     "data": {
      "image/png": "[encoded data removed]",
      "text/plain": [
       "<Figure size 432x288 with 1 Axes>"
      ]
     },
     "metadata": {
      "needs_background": "light"
     },
     "output_type": "display_data"
    }
   ],
   "source": [
    "# calculate distortion for a range of number of cluster\n",
    "distortions = []\n",
    "for i in range(1, 11):\n",
    "    km = KMeans(\n",
    "        n_clusters=i, init='random',\n",
    "        n_init=10, max_iter=300,\n",
    "        tol=1e-04, random_state=0\n",
    "    )\n",
    "    km.fit(testing_set)\n",
    "    distortions.append(km.inertia_)\n",
    "\n",
    "# plot\n",
    "plt.plot(range(1, 11), distortions, marker='o')\n",
    "plt.xlabel('Number of clusters')\n",
    "plt.ylabel('Distortion')\n",
    "plt.show()"
   ]
  },
  {
   "cell_type": "code",
   "execution_count": null,
   "metadata": {},
   "outputs": [],
   "source": []
  },
  {
   "cell_type": "code",
   "execution_count": null,
   "metadata": {},
   "outputs": [],
   "source": []
  },
  {
   "cell_type": "code",
   "execution_count": 18,
   "metadata": {},
   "outputs": [],
   "source": [
    "import sklearn"
   ]
  },
  {
   "cell_type": "code",
   "execution_count": 19,
   "metadata": {},
   "outputs": [],
   "source": [
    "model_kmeans = sklearn.cluster.KMeans(n_clusters=20)"
   ]
  },
  {
   "cell_type": "code",
   "execution_count": 20,
   "metadata": {},
   "outputs": [],
   "source": [
    "model_kmeans.fit(testing_set, classes_num);"
   ]
  },
  {
   "cell_type": "code",
   "execution_count": 21,
   "metadata": {},
   "outputs": [
    {
     "name": "stdout",
     "output_type": "stream",
     "text": [
      "[15  0 14  3  2  1  4 15  1  8  3  3  1  2 19 18  5  6  3 10  1  2  1 12\n",
      "  1  5  1  1  8  8  3  8 10  1  0  1 17 11 15  5 10  0  7  3  1  6  1 15\n",
      " 14  8 16  0  2 13  6  5  2 11 12 19 15  1  8 12  3 15 15  1 14  2  3  2\n",
      " 18  8  9  2  0  0  6  1 12 15  0 10  1 15  3  2  2  0  7  1  3  1  6]\n"
     ]
    }
   ],
   "source": [
    "# Predict using the Test Set\n",
    "predicted_labels = model_kmeans.predict(testing_set)\n",
    "print(predicted_labels)"
   ]
  },
  {
   "cell_type": "markdown",
   "metadata": {},
   "source": [
    "## Elbow Method"
   ]
  },
  {
   "cell_type": "code",
   "execution_count": 23,
   "metadata": {},
   "outputs": [
    {
     "data": {
      "image/png": "[encoded data removed]",
      "text/plain": [
       "<Figure size 432x288 with 1 Axes>"
      ]
     },
     "metadata": {
      "needs_background": "light"
     },
     "output_type": "display_data"
    }
   ],
   "source": [
    "import pandas\n",
    "import pylab as pl\n",
    "from sklearn.cluster import KMeans\n",
    "from sklearn.decomposition import PCA\n",
    "\n",
    "Nc = range(1, 20)\n",
    "kmeans = [KMeans(n_clusters=i) for i in Nc]\n",
    "kmeans\n",
    "score = [kmeans[i].fit(testing_set).score(testing_set) for i in range(len(kmeans))]\n",
    "score\n",
    "pl.plot(Nc,score)\n",
    "pl.xlabel('Number of Clusters')\n",
    "pl.ylabel('Score')\n",
    "pl.title('Elbow Curve')\n",
    "pl.show()"
   ]
  },
  {
   "cell_type": "code",
   "execution_count": 24,
   "metadata": {},
   "outputs": [],
   "source": [
    "pca = PCA(n_components=1).fit(testing_set)\n",
    "pca_d = pca.transform(testing_set)\n",
    "pca_c = pca.transform(testing_set)"
   ]
  },
  {
   "cell_type": "code",
   "execution_count": 25,
   "metadata": {},
   "outputs": [
    {
     "data": {
      "image/png": "[encoded data removed]",
      "text/plain": [
       "<Figure size 432x288 with 1 Axes>"
      ]
     },
     "metadata": {
      "needs_background": "light"
     },
     "output_type": "display_data"
    }
   ],
   "source": [
    "\n",
    "kmeans=KMeans(n_clusters=8)\n",
    "kmeansoutput=kmeans.fit(testing_set)\n",
    "kmeansoutput\n",
    "pl.figure('7 Cluster K-Means')\n",
    "pl.scatter(pca_c[:, 0], pca_d[:, 0], c=kmeansoutput.labels_)\n",
    "pl.xlabel('Classes')\n",
    "pl.ylabel('Birds')\n",
    "pl.title('7 Cluster K-Means')\n",
    "pl.show()\n"
   ]
  },
  {
   "cell_type": "code",
   "execution_count": null,
   "metadata": {},
   "outputs": [],
   "source": []
  },
  {
   "cell_type": "code",
   "execution_count": 42,
   "metadata": {},
   "outputs": [
    {
     "name": "stderr",
     "output_type": "stream",
     "text": [
      "/home/rutherford/.local/lib/python3.6/site-packages/yellowbrick/utils/kneed.py:140: YellowbrickWarning: No 'knee' or 'elbow point' detected This could be due to bad clustering, no actual clusters being formed etc.\n",
      "  warnings.warn(warning_message, YellowbrickWarning)\n",
      "/home/rutherford/.local/lib/python3.6/site-packages/yellowbrick/cluster/elbow.py:343: YellowbrickWarning: No 'knee' or 'elbow' point detected, pass `locate_elbow=False` to remove the warning\n",
      "  warnings.warn(warning_message, YellowbrickWarning)\n"
     ]
    },
    {
     "data": {
      "image/png": "[encoded data removed]",
      "text/plain": [
       "<Figure size 432x288 with 2 Axes>"
      ]
     },
     "metadata": {},
     "output_type": "display_data"
    },
    {
     "data": {
      "text/plain": [
       "<matplotlib.axes._subplots.AxesSubplot at 0x7fb009eaa6d8>"
      ]
     },
     "execution_count": 42,
     "metadata": {},
     "output_type": "execute_result"
    }
   ],
   "source": [
    "from sklearn.cluster import KMeans\n",
    "from sklearn.datasets import make_blobs\n",
    "\n",
    "from yellowbrick.cluster import KElbowVisualizer\n",
    "\n",
    "# Generate synthetic dataset with 8 random clusters\n",
    "#X, y = make_blobs(n_samples=1000, n_features=12, centers=8, random_state=42)\n",
    "#testing_set, classes_num = X, y\n",
    "# Instantiate the clustering model and visualizer\n",
    "model = KMeans(testing_set)\n",
    "visualizer = KElbowVisualizer(model, k=(4,10))\n",
    "\n",
    "visualizer.fit(X)        # Fit the data to the visualizer\n",
    "visualizer.show()        # Finalize and render the figure"
   ]
  },
  {
   "cell_type": "code",
   "execution_count": null,
   "metadata": {},
   "outputs": [],
   "source": []
  },
  {
   "cell_type": "code",
   "execution_count": null,
   "metadata": {},
   "outputs": [],
   "source": []
  },
  {
   "cell_type": "markdown",
   "metadata": {},
   "source": [
    "## Affinity Propagation"
   ]
  },
  {
   "cell_type": "markdown",
   "metadata": {},
   "source": [
    "In scikit-learn, other clustering algorithms such as affinity propagation can cluster without defining the number of clusters beforehand."
   ]
  },
  {
   "cell_type": "code",
   "execution_count": 41,
   "metadata": {},
   "outputs": [],
   "source": [
    "model_affinity = sklearn.cluster.AffinityPropagation()"
   ]
  },
  {
   "cell_type": "code",
   "execution_count": 42,
   "metadata": {},
   "outputs": [],
   "source": [
    "model_affinity.fit(train_set, train_classes);"
   ]
  },
  {
   "cell_type": "code",
   "execution_count": 43,
   "metadata": {},
   "outputs": [
    {
     "name": "stdout",
     "output_type": "stream",
     "text": [
      "[1 2 2 6 5 5 9 2 7 7 6 7 2 2 5 7 2 2 2 3 3 5 2 2]\n"
     ]
    }
   ],
   "source": [
    "# Predict using the Test Set\n",
    "predicted_labels = model_affinity.predict(test_set)\n",
    "print(predicted_labels)"
   ]
  }
 ],
 "metadata": {
  "kernelspec": {
   "display_name": "Python 3",
   "language": "python",
   "name": "python3"
  },
  "language_info": {
   "codemirror_mode": {
    "name": "ipython",
    "version": 3
   },
   "file_extension": ".py",
   "mimetype": "text/x-python",
   "name": "python",
   "nbconvert_exporter": "python",
   "pygments_lexer": "ipython3",
   "version": "3.6.9"
  }
 },
 "nbformat": 4,
 "nbformat_minor": 2
}
